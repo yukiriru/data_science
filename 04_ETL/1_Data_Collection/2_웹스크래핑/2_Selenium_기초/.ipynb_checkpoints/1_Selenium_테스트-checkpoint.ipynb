{
 "cells": [
  {
   "cell_type": "markdown",
   "id": "4cff157e",
   "metadata": {},
   "source": [
    "# Selenium 활용 목적"
   ]
  },
  {
   "cell_type": "markdown",
   "id": "9b7b419c",
   "metadata": {},
   "source": [
    "* BeautifulSoup등을 활용한 전통적인 웹스크래핑 기술로 접근 불가능한 아래 데이터에 대한 접근 가능\n",
    "    * JavaScript로 동적으로 생성되는 HTML 코드\n",
    "    * HTML의 요소간 여러번의 클릭을 해야 조회되는 HTML 요소"
   ]
  },
  {
   "cell_type": "markdown",
   "id": "8718cf3a-0d45-46ee-a500-35e0284bef4f",
   "metadata": {},
   "source": [
    "# request객체로만 접근하여 수집데이터가 누락 되는 경우"
   ]
  },
  {
   "cell_type": "markdown",
   "id": "05225bc2-b731-43d3-a90f-9f175c9d0b7a",
   "metadata": {},
   "source": [
    "* 중간 결론  \n",
    " 실제 데이터를 포함하고 있지 않다."
   ]
  },
  {
   "cell_type": "markdown",
   "id": "cd607caa-5be7-45b3-9c32-5418af5fd3a8",
   "metadata": {},
   "source": [
    "# 셀레니엄 활용시 결과 비교"
   ]
  },
  {
   "cell_type": "markdown",
   "id": "779103c8-5a5c-4542-962d-635f0b6addf7",
   "metadata": {},
   "source": []
  }
 ],
 "metadata": {
  "kernelspec": {
   "display_name": "Python [conda env:base] *",
   "language": "python",
   "name": "conda-base-py"
  },
  "language_info": {
   "codemirror_mode": {
    "name": "ipython",
    "version": 3
   },
   "file_extension": ".py",
   "mimetype": "text/x-python",
   "name": "python",
   "nbconvert_exporter": "python",
   "pygments_lexer": "ipython3",
   "version": "3.13.5"
  }
 },
 "nbformat": 4,
 "nbformat_minor": 5
}