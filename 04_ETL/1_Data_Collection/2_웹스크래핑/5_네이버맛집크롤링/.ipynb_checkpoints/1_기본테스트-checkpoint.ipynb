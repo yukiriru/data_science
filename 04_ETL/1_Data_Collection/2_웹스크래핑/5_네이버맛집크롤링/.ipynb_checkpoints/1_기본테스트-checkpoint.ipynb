{
 "cells": [
  {
   "cell_type": "code",
   "execution_count": 1,
   "id": "fc633800-2f3d-490b-8db4-5cdb8e5e4f13",
   "metadata": {},
   "outputs": [],
   "source": [
    "from selenium import webdriver\n",
    "from selenium.webdriver.common.by import By\n",
    "from selenium.webdriver.chrome.options import Options\n",
    "from selenium.webdriver.chrome.service import Service\n",
    "from webdriver_manager.chrome import ChromeDriverManager\n",
    "import time\n",
    "from bs4 import BeautifulSoup\n",
    "import pandas as pd\n",
    "import os"
   ]
  },
  {
   "cell_type": "code",
   "execution_count": 2,
   "id": "0c68abf8-dab5-437d-8d94-7364b59f4883",
   "metadata": {},
   "outputs": [],
   "source": [
    "options = Options()\n",
    "options.add_experimental_option(\"detach\", True)\n",
    "service = Service(ChromeDriverManager().install())\n",
    "driver = webdriver.Chrome(service=service, options=options)\n",
    "\n",
    "#네이버 지도 화면의 URL\n",
    "url = \"https://map.naver.com/p?c=15.00,0,0,0,dh\"\n",
    "\n",
    "driver.get(url)\n",
    "\n",
    "time.sleep(3)"
   ]
  },
  {
   "cell_type": "code",
   "execution_count": 3,
   "id": "fb11ea95-825a-4090-affe-ef99b5db72d1",
   "metadata": {},
   "outputs": [],
   "source": [
    "# input_text = driver.find_element(By.XPATH, '//*[@id=\"input_search1714012392579\"]') # XPATH가 동적으로 바뀌는 경우에는 적용할 수 없다."
   ]
  },
  {
   "cell_type": "code",
   "execution_count": 4,
   "id": "2a34bf5b-d100-43b9-aa2b-043ead5bfab9",
   "metadata": {},
   "outputs": [],
   "source": [
    "html = driver.page_source\n",
    "soup=BeautifulSoup(html,'html.parser')\n",
    "# print(soup)"
   ]
  },
  {
   "cell_type": "code",
   "execution_count": 5,
   "id": "cff689fb-3530-4d8b-a0e3-3140d4f48178",
   "metadata": {},
   "outputs": [
    {
     "name": "stdout",
     "output_type": "stream",
     "text": [
      "HTML 파일이 저장되었습니다.\n"
     ]
    }
   ],
   "source": [
    "from datetime import datetime\n",
    "import os\n",
    "from bs4 import BeautifulSoup\n",
    "\n",
    "# 현재 날짜 가져오기\n",
    "current_date = datetime.now().strftime('%y-%m-%d')\n",
    "\n",
    "# 파일 경로 생성\n",
    "file_path = f'네이버지도_{current_date}.html'\n",
    "\n",
    "if not os.path.exists(file_path):\n",
    "  \n",
    "    # HTML을 문자열로 변환\n",
    "    html_string = str(soup)\n",
    "    \n",
    "    # 부모-자식 관계에 따라 인덴테이션 적용하여 저장\n",
    "    with open(file_path, 'w', encoding='utf-8') as file:\n",
    "       # HTML을 보기 좋게 정리하여 문자열로 변환\n",
    "        pretty_html = soup.prettify()\n",
    "    \n",
    "    # 파일에 저장\n",
    "    with open(file_path, 'w', encoding='utf-8') as file:\n",
    "        file.write(pretty_html)\n",
    "    \n",
    "    print(\"HTML 파일이 저장되었습니다.\")"
   ]
  },
  {
   "cell_type": "code",
   "execution_count": 6,
   "id": "69a78c9c-d100-4d6f-9afc-86530d4bf1e8",
   "metadata": {},
   "outputs": [],
   "source": [
    "# 부모 요소의 클래스를 사용하여 input 요소 찾기\n",
    "parent_element = driver.find_element(By.CLASS_NAME,\"search_wrap\")\n",
    "input_element = parent_element.find_element(By.CLASS_NAME,\"input_search\")\n",
    "\n",
    "# input 요소에 텍스트 입력\n",
    "input_element.send_keys(\"가산디지털단지역 맛집\")\n"
   ]
  },
  {
   "cell_type": "code",
   "execution_count": 7,
   "id": "8d474897-e6e7-4ebb-8d5f-914aea298d03",
   "metadata": {},
   "outputs": [],
   "source": [
    "#input_element.submit() # from 태그 안에 있지 않기때문에 동작하지 X\n",
    "# driver.find_element(By.XPATH,'//*[@id=\"app-layout\"]/div[1]/div/div[1]/div/div/button[1]').click() # XPATH가 동적으로 생성되지 않을 것 같아 시도\n",
    "# driver.find_element(By.CLASS_NAME,\"button_search\").click() # 안되어서 class name으로 시도. 화면에서 확인해 보니 검색 버튼 클릭해도 반응없음\n",
    "from selenium.webdriver.common.keys import Keys\n",
    "input_element.send_keys(Keys.ENTER) # 해결은 엔터키로"
   ]
  },
  {
   "cell_type": "code",
   "execution_count": null,
   "id": "2d6e35b6-dea5-477d-8cfc-20d3ac1037c2",
   "metadata": {},
   "outputs": [],
   "source": []
  },
  {
   "cell_type": "code",
   "execution_count": null,
   "id": "c76837c4-389c-4ba2-8518-9d1272acd634",
   "metadata": {},
   "outputs": [],
   "source": []
  }
 ],
 "metadata": {
  "kernelspec": {
   "display_name": "Python [conda env:base] *",
   "language": "python",
   "name": "conda-base-py"
  },
  "language_info": {
   "codemirror_mode": {
    "name": "ipython",
    "version": 3
   },
   "file_extension": ".py",
   "mimetype": "text/x-python",
   "name": "python",
   "nbconvert_exporter": "python",
   "pygments_lexer": "ipython3",
   "version": "3.13.5"
  }
 },
 "nbformat": 4,
 "nbformat_minor": 5
}
