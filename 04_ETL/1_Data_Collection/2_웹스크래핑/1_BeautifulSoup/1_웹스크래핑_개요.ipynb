{
 "cells": [
  {
   "cell_type": "markdown",
   "id": "61fd4ddd",
   "metadata": {
    "heading_collapsed": true
   },
   "source": [
    "# 개념정의"
   ]
  },
  {
   "cell_type": "markdown",
   "id": "b3a1d71a",
   "metadata": {
    "hidden": true
   },
   "source": [
    "## 협의의 개념"
   ]
  },
  {
   "cell_type": "markdown",
   "id": "27048bbc",
   "metadata": {
    "hidden": true
   },
   "source": [
    "### 웹스크래핑(Web Scraping)"
   ]
  },
  {
   "cell_type": "markdown",
   "id": "e51cb515",
   "metadata": {
    "hidden": true
   },
   "source": [
    "* 웹 페이지의 특정 부분에서 원하는 데이터를 추출하는 과정"
   ]
  },
  {
   "cell_type": "markdown",
   "id": "d1d7df54",
   "metadata": {
    "hidden": true
   },
   "source": [
    "### 웹 크롤링(Web crawling)"
   ]
  },
  {
   "cell_type": "markdown",
   "id": "de80909c",
   "metadata": {
    "hidden": true
   },
   "source": [
    "* 웹 상의 여러 페이지를 자동으로 탐색하는 과정 (도메인 단위로 더 대용량 데이터를 수집)"
   ]
  },
  {
   "cell_type": "markdown",
   "id": "9b1caf45",
   "metadata": {
    "hidden": true
   },
   "source": [
    "## 광의의 개념"
   ]
  },
  {
   "cell_type": "markdown",
   "id": "0be1b9af",
   "metadata": {
    "hidden": true
   },
   "source": [
    "*  웹상의 데이터를 수집하는 개념으로 웹스크래핑, 웹 크롤링을 혼용하여 사용"
   ]
  },
  {
   "cell_type": "markdown",
   "id": "470264a0",
   "metadata": {},
   "source": [
    "# 웹스크래핑을 위한 기초 기술 BeautifulSoup"
   ]
  },
  {
   "cell_type": "code",
   "execution_count": 1,
   "id": "e62064f4-2bd2-4ba5-b98d-93c8e528f8c9",
   "metadata": {},
   "outputs": [],
   "source": [
    "from bs4 import BeautifulSoup"
   ]
  },
  {
   "cell_type": "code",
   "execution_count": 2,
   "id": "0fb94c89-1fa5-4184-9d6c-b11e273149c5",
   "metadata": {},
   "outputs": [],
   "source": [
    "# 웹상에서 아래 html 코드 정보를 수집했다고 가정해 보자\n",
    "html='''\\\n",
    "<td class=\"title\">\n",
    "    <div class=\"tit3\">\n",
    "        <a href=\"/movie/bi/mi/basic.naver?code=74977\" title=\"아바타: 물의 길\">아바타: 물의 길</a>\n",
    "    </div>\n",
    "</td>\n",
    "'''"
   ]
  },
  {
   "cell_type": "code",
   "execution_count": 3,
   "id": "71c051d0-c0db-4c84-8f9c-482a60c7f4ae",
   "metadata": {},
   "outputs": [
    {
     "data": {
      "text/plain": [
       "str"
      ]
     },
     "execution_count": 3,
     "metadata": {},
     "output_type": "execute_result"
    }
   ],
   "source": [
    "type(html)"
   ]
  },
  {
   "cell_type": "markdown",
   "id": "f9776456",
   "metadata": {},
   "source": [
    "* 문자 데이터를 html의 요소에 대한 검색, 데이터 수집을 하기 용이한 형태(BeautifulSoup)의 타입으로 변환"
   ]
  },
  {
   "cell_type": "code",
   "execution_count": 4,
   "id": "55c00f05-cf4e-432b-844d-25e645507a19",
   "metadata": {},
   "outputs": [
    {
     "data": {
      "text/plain": [
       "<td class=\"title\">\n",
       "<div class=\"tit3\">\n",
       "<a href=\"/movie/bi/mi/basic.naver?code=74977\" title=\"아바타: 물의 길\">아바타: 물의 길</a>\n",
       "</div>\n",
       "</td>"
      ]
     },
     "execution_count": 4,
     "metadata": {},
     "output_type": "execute_result"
    }
   ],
   "source": [
    "soup= BeautifulSoup(html, 'html.parser')\n",
    "soup"
   ]
  },
  {
   "cell_type": "code",
   "execution_count": 5,
   "id": "0d3e95a8-52a2-4c60-9f15-75ff43b136b5",
   "metadata": {},
   "outputs": [
    {
     "data": {
      "text/plain": [
       "bs4.BeautifulSoup"
      ]
     },
     "execution_count": 5,
     "metadata": {},
     "output_type": "execute_result"
    }
   ],
   "source": [
    "type(soup)"
   ]
  },
  {
   "cell_type": "code",
   "execution_count": 7,
   "id": "b477013a-4078-4b50-9142-7689ba8d4841",
   "metadata": {},
   "outputs": [
    {
     "data": {
      "text/plain": [
       "<td class=\"title\">\n",
       "<div class=\"tit3\">\n",
       "<a href=\"/movie/bi/mi/basic.naver?code=74977\" title=\"아바타: 물의 길\">아바타: 물의 길</a>\n",
       "</div>\n",
       "</td>"
      ]
     },
     "execution_count": 7,
     "metadata": {},
     "output_type": "execute_result"
    }
   ],
   "source": [
    "soup"
   ]
  },
  {
   "cell_type": "markdown",
   "id": "3b59c63e-0afd-4a89-a7ad-02b32ce6dc15",
   "metadata": {},
   "source": [
    "* pretify함수로 부모 자식간의 관계 띄어쓰기\n",
    "    * 원본 html의 indentation으로 복원하는  "
   ]
  },
  {
   "cell_type": "code",
   "execution_count": 8,
   "id": "df36eeaf-fcb1-4631-98c6-97029bab8f04",
   "metadata": {},
   "outputs": [
    {
     "data": {
      "text/plain": [
       "'<td class=\"title\">\\n <div class=\"tit3\">\\n  <a href=\"/movie/bi/mi/basic.naver?code=74977\" title=\"아바타: 물의 길\">\\n   아바타: 물의 길\\n  </a>\\n </div>\\n</td>\\n'"
      ]
     },
     "execution_count": 8,
     "metadata": {},
     "output_type": "execute_result"
    }
   ],
   "source": [
    "soup.prettify()"
   ]
  },
  {
   "cell_type": "code",
   "execution_count": 9,
   "id": "a5146a96-acae-4ae5-8d14-1cf4cb34023c",
   "metadata": {},
   "outputs": [
    {
     "name": "stdout",
     "output_type": "stream",
     "text": [
      "<td class=\"title\">\n",
      " <div class=\"tit3\">\n",
      "  <a href=\"/movie/bi/mi/basic.naver?code=74977\" title=\"아바타: 물의 길\">\n",
      "   아바타: 물의 길\n",
      "  </a>\n",
      " </div>\n",
      "</td>\n",
      "\n"
     ]
    }
   ],
   "source": [
    "print(soup.prettify())"
   ]
  },
  {
   "cell_type": "markdown",
   "id": "42a4df4d-b211-45b5-a202-f74d5289e8ec",
   "metadata": {},
   "source": [
    "* soup을 출력하면 부모(상위)태그, 자식(하위)태그에 대한 띄어쓰기를 제공하지 않는다."
   ]
  },
  {
   "cell_type": "markdown",
   "id": "e1a4cdd0",
   "metadata": {},
   "source": [
    "## html 요소 이름로 하위 요소 검색"
   ]
  },
  {
   "cell_type": "markdown",
   "id": "81cf8c61",
   "metadata": {},
   "source": [
    "* 요소.하위요소\n",
    "* 요소.find('하위요소')"
   ]
  },
  {
   "cell_type": "code",
   "execution_count": 10,
   "id": "6dc11104-c70c-40ed-9375-ed33e8ca75a7",
   "metadata": {},
   "outputs": [
    {
     "data": {
      "text/plain": [
       "<td class=\"title\">\n",
       "<div class=\"tit3\">\n",
       "<a href=\"/movie/bi/mi/basic.naver?code=74977\" title=\"아바타: 물의 길\">아바타: 물의 길</a>\n",
       "</div>\n",
       "</td>"
      ]
     },
     "execution_count": 10,
     "metadata": {},
     "output_type": "execute_result"
    }
   ],
   "source": [
    "soup.td"
   ]
  },
  {
   "cell_type": "markdown",
   "id": "0777d6c0-4368-469d-80ba-848440d21a75",
   "metadata": {},
   "source": [
    "* html 태그의 하위 노드 접근"
   ]
  },
  {
   "cell_type": "code",
   "execution_count": 13,
   "id": "29ff5453-5583-4575-a337-5d5326cbb006",
   "metadata": {},
   "outputs": [
    {
     "data": {
      "text/plain": [
       "<div class=\"tit3\">\n",
       "<a href=\"/movie/bi/mi/basic.naver?code=74977\" title=\"아바타: 물의 길\">아바타: 물의 길</a>\n",
       "</div>"
      ]
     },
     "execution_count": 13,
     "metadata": {},
     "output_type": "execute_result"
    }
   ],
   "source": [
    "soup.td.div"
   ]
  },
  {
   "cell_type": "code",
   "execution_count": 14,
   "id": "8678cd84-c671-4019-81ee-b62245c3ded4",
   "metadata": {},
   "outputs": [
    {
     "data": {
      "text/plain": [
       "<a href=\"/movie/bi/mi/basic.naver?code=74977\" title=\"아바타: 물의 길\">아바타: 물의 길</a>"
      ]
     },
     "execution_count": 14,
     "metadata": {},
     "output_type": "execute_result"
    }
   ],
   "source": [
    "soup.td.div.a"
   ]
  },
  {
   "cell_type": "markdown",
   "id": "226556a9",
   "metadata": {},
   "source": [
    "## 요소의 속성값 구하기"
   ]
  },
  {
   "cell_type": "markdown",
   "id": "727e2762",
   "metadata": {},
   "source": [
    "* 요소.attrs['속성명']"
   ]
  },
  {
   "cell_type": "code",
   "execution_count": 15,
   "id": "3d5f7670-40d9-48a0-8416-56e49966933c",
   "metadata": {},
   "outputs": [
    {
     "data": {
      "text/plain": [
       "<td class=\"title\">\n",
       "<div class=\"tit3\">\n",
       "<a href=\"/movie/bi/mi/basic.naver?code=74977\" title=\"아바타: 물의 길\">아바타: 물의 길</a>\n",
       "</div>\n",
       "</td>"
      ]
     },
     "execution_count": 15,
     "metadata": {},
     "output_type": "execute_result"
    }
   ],
   "source": [
    "soup.td"
   ]
  },
  {
   "cell_type": "code",
   "execution_count": 17,
   "id": "1863130f-482a-48d4-9bf1-821794cf158c",
   "metadata": {
    "scrolled": true
   },
   "outputs": [
    {
     "data": {
      "text/plain": [
       "['title']"
      ]
     },
     "execution_count": 17,
     "metadata": {},
     "output_type": "execute_result"
    }
   ],
   "source": [
    "soup.td.attrs['class']"
   ]
  },
  {
   "cell_type": "code",
   "execution_count": 18,
   "id": "ee92d311-635e-4fbe-8ea0-f37db24b2443",
   "metadata": {
    "scrolled": true
   },
   "outputs": [
    {
     "data": {
      "text/plain": [
       "list"
      ]
     },
     "execution_count": 18,
     "metadata": {},
     "output_type": "execute_result"
    }
   ],
   "source": [
    "type(soup.td.attrs['class'])"
   ]
  },
  {
   "cell_type": "markdown",
   "id": "067054b3-a222-46e1-a386-3b7ef1355d01",
   "metadata": {},
   "source": [
    "* 속성의 실제 값 가져오기"
   ]
  },
  {
   "cell_type": "code",
   "execution_count": 21,
   "id": "2a13459f-4d90-41e8-a5fd-190258cd6c5e",
   "metadata": {},
   "outputs": [
    {
     "data": {
      "text/plain": [
       "'title'"
      ]
     },
     "execution_count": 21,
     "metadata": {},
     "output_type": "execute_result"
    }
   ],
   "source": [
    "soup.td.attrs['class'][0]"
   ]
  },
  {
   "cell_type": "code",
   "execution_count": 23,
   "id": "9a9b4729-7227-43d9-9bc9-a4c84a0be4b5",
   "metadata": {},
   "outputs": [
    {
     "data": {
      "text/plain": [
       "'/movie/bi/mi/basic.naver?code=74977'"
      ]
     },
     "execution_count": 23,
     "metadata": {},
     "output_type": "execute_result"
    }
   ],
   "source": [
    "soup.td.div.a.attrs['href']"
   ]
  },
  {
   "cell_type": "code",
   "execution_count": 24,
   "id": "41775a74-b666-446a-8402-b9051cf1d5b4",
   "metadata": {},
   "outputs": [
    {
     "data": {
      "text/plain": [
       "'아바타: 물의 길'"
      ]
     },
     "execution_count": 24,
     "metadata": {},
     "output_type": "execute_result"
    }
   ],
   "source": [
    "soup.td.div.a.attrs['title']"
   ]
  },
  {
   "cell_type": "markdown",
   "id": "8ed4b687",
   "metadata": {},
   "source": [
    "## 요소(태그)의 값 구하기"
   ]
  },
  {
   "cell_type": "markdown",
   "id": "a460982a",
   "metadata": {},
   "source": [
    "* 요소.string\n",
    "* 요소.text"
   ]
  },
  {
   "cell_type": "code",
   "execution_count": 25,
   "id": "6b632355-bc2f-4b37-b1ad-a82eefb98e86",
   "metadata": {},
   "outputs": [
    {
     "data": {
      "text/plain": [
       "<td class=\"title\">\n",
       "<div class=\"tit3\">\n",
       "<a href=\"/movie/bi/mi/basic.naver?code=74977\" title=\"아바타: 물의 길\">아바타: 물의 길</a>\n",
       "</div>\n",
       "</td>"
      ]
     },
     "execution_count": 25,
     "metadata": {},
     "output_type": "execute_result"
    }
   ],
   "source": [
    "soup"
   ]
  },
  {
   "cell_type": "code",
   "execution_count": 26,
   "id": "09ead9f3-030a-42e2-a2f1-f3cb38cb301f",
   "metadata": {},
   "outputs": [
    {
     "data": {
      "text/plain": [
       "'아바타: 물의 길'"
      ]
     },
     "execution_count": 26,
     "metadata": {},
     "output_type": "execute_result"
    }
   ],
   "source": [
    "soup.td.div.a.string"
   ]
  },
  {
   "cell_type": "code",
   "execution_count": 27,
   "id": "556cbc3a-5b6e-4788-96bd-861bf03c864b",
   "metadata": {},
   "outputs": [
    {
     "data": {
      "text/plain": [
       "'아바타: 물의 길'"
      ]
     },
     "execution_count": 27,
     "metadata": {},
     "output_type": "execute_result"
    }
   ],
   "source": [
    "soup.td.div.a.text"
   ]
  },
  {
   "cell_type": "markdown",
   "id": "3f117e92",
   "metadata": {},
   "source": [
    "## 동일한 요소(태그)가 복수개 존재할 경우 검색"
   ]
  },
  {
   "cell_type": "code",
   "execution_count": 28,
   "id": "ff6beaa3-3547-4059-8fc7-eee8a1df8e55",
   "metadata": {},
   "outputs": [],
   "source": [
    "html2='''\n",
    "<td class=\"title\">\n",
    "    <div class=\"tit3\">\n",
    "        <a href=\"/movie/bi/mi/basic.naver?code=74977\" title=\"아바타: 물의 길\">아바타: 물의 길</a>\n",
    "    </div>\n",
    "</td>\n",
    "<td class=\"title\">\n",
    "    <div class=\"tit3\">\n",
    "        <a href=\"/movie/bi/mi/basic.naver?code=184509\" title=\"영웅\">영웅</a>\n",
    "    </div>\n",
    "</td>\n",
    "\n",
    "'''"
   ]
  },
  {
   "cell_type": "code",
   "execution_count": 29,
   "id": "437451b6-6626-4074-97c6-90fb19759a45",
   "metadata": {},
   "outputs": [
    {
     "data": {
      "text/plain": [
       "\n",
       "<td class=\"title\">\n",
       "<div class=\"tit3\">\n",
       "<a href=\"/movie/bi/mi/basic.naver?code=74977\" title=\"아바타: 물의 길\">아바타: 물의 길</a>\n",
       "</div>\n",
       "</td>\n",
       "<td class=\"title\">\n",
       "<div class=\"tit3\">\n",
       "<a href=\"/movie/bi/mi/basic.naver?code=184509\" title=\"영웅\">영웅</a>\n",
       "</div>\n",
       "</td>"
      ]
     },
     "execution_count": 29,
     "metadata": {},
     "output_type": "execute_result"
    }
   ],
   "source": [
    "soup= BeautifulSoup(html2, 'html.parser')\n",
    "soup"
   ]
  },
  {
   "cell_type": "code",
   "execution_count": 30,
   "id": "3a91f42e-001b-439e-8cd9-a44907c3ee0b",
   "metadata": {},
   "outputs": [
    {
     "name": "stdout",
     "output_type": "stream",
     "text": [
      "<td class=\"title\">\n",
      " <div class=\"tit3\">\n",
      "  <a href=\"/movie/bi/mi/basic.naver?code=74977\" title=\"아바타: 물의 길\">\n",
      "   아바타: 물의 길\n",
      "  </a>\n",
      " </div>\n",
      "</td>\n",
      "<td class=\"title\">\n",
      " <div class=\"tit3\">\n",
      "  <a href=\"/movie/bi/mi/basic.naver?code=184509\" title=\"영웅\">\n",
      "   영웅\n",
      "  </a>\n",
      " </div>\n",
      "</td>\n",
      "\n"
     ]
    }
   ],
   "source": [
    "print(soup.prettify())"
   ]
  },
  {
   "cell_type": "markdown",
   "id": "2ddd6ca4-8504-44f0-83db-1a7feb0fa2c4",
   "metadata": {},
   "source": [
    "* 하위요소를 .으로 검색시 가장 처음 나오는 요소를 반환\n",
    "    * 동일한이름의 요소가 여러개 있을 경우 2번째 이후의요소는 위 문법으로 찾을 수 없다."
   ]
  },
  {
   "cell_type": "code",
   "execution_count": 31,
   "id": "563dd3aa-c27b-40cc-b93b-8510deb79b67",
   "metadata": {
    "scrolled": true
   },
   "outputs": [
    {
     "data": {
      "text/plain": [
       "<td class=\"title\">\n",
       "<div class=\"tit3\">\n",
       "<a href=\"/movie/bi/mi/basic.naver?code=74977\" title=\"아바타: 물의 길\">아바타: 물의 길</a>\n",
       "</div>\n",
       "</td>"
      ]
     },
     "execution_count": 31,
     "metadata": {},
     "output_type": "execute_result"
    }
   ],
   "source": [
    "soup.td"
   ]
  },
  {
   "cell_type": "markdown",
   "id": "26a2d6f5-5e42-4450-a125-9e7e04e03d0f",
   "metadata": {},
   "source": [
    "* find 검색시에도 가장 처음 나오는 요소를 반환"
   ]
  },
  {
   "cell_type": "code",
   "execution_count": 33,
   "id": "ed9da8b3-d576-4579-b04d-80718dc6e32c",
   "metadata": {},
   "outputs": [
    {
     "data": {
      "text/plain": [
       "<td class=\"title\">\n",
       "<div class=\"tit3\">\n",
       "<a href=\"/movie/bi/mi/basic.naver?code=74977\" title=\"아바타: 물의 길\">아바타: 물의 길</a>\n",
       "</div>\n",
       "</td>"
      ]
     },
     "execution_count": 33,
     "metadata": {},
     "output_type": "execute_result"
    }
   ],
   "source": [
    "soup.find('td')"
   ]
  },
  {
   "cell_type": "markdown",
   "id": "b5ccb01b",
   "metadata": {},
   "source": [
    "### 모든 하위요소 검색시"
   ]
  },
  {
   "cell_type": "markdown",
   "id": "c2a941bb",
   "metadata": {},
   "source": [
    "* findAll('하위요소')"
   ]
  },
  {
   "cell_type": "code",
   "execution_count": 34,
   "id": "bb9456fe-02c4-4cd2-84fe-78db6de83137",
   "metadata": {},
   "outputs": [
    {
     "data": {
      "text/plain": [
       "[<td class=\"title\">\n",
       " <div class=\"tit3\">\n",
       " <a href=\"/movie/bi/mi/basic.naver?code=74977\" title=\"아바타: 물의 길\">아바타: 물의 길</a>\n",
       " </div>\n",
       " </td>,\n",
       " <td class=\"title\">\n",
       " <div class=\"tit3\">\n",
       " <a href=\"/movie/bi/mi/basic.naver?code=184509\" title=\"영웅\">영웅</a>\n",
       " </div>\n",
       " </td>]"
      ]
     },
     "execution_count": 34,
     "metadata": {},
     "output_type": "execute_result"
    }
   ],
   "source": [
    "soup.findAll('td')"
   ]
  },
  {
   "cell_type": "markdown",
   "id": "cf25a2f8-b784-4184-8f2b-16787ef7e3e5",
   "metadata": {},
   "source": [
    "* 첫번째 요소\n",
    "  "
   ]
  },
  {
   "cell_type": "code",
   "execution_count": 35,
   "id": "f00f389e-2cc5-4bba-aac0-a7c8ef171909",
   "metadata": {},
   "outputs": [
    {
     "data": {
      "text/plain": [
       "<td class=\"title\">\n",
       "<div class=\"tit3\">\n",
       "<a href=\"/movie/bi/mi/basic.naver?code=74977\" title=\"아바타: 물의 길\">아바타: 물의 길</a>\n",
       "</div>\n",
       "</td>"
      ]
     },
     "execution_count": 35,
     "metadata": {},
     "output_type": "execute_result"
    }
   ],
   "source": [
    "soup.findAll('td')[0]"
   ]
  },
  {
   "cell_type": "markdown",
   "id": "6edaa824-8d4a-4c82-8e10-f5bd2019171d",
   "metadata": {},
   "source": [
    "* 두번째 요소"
   ]
  },
  {
   "cell_type": "code",
   "execution_count": 36,
   "id": "a99f7829-93bf-426d-bb41-896ca725e336",
   "metadata": {},
   "outputs": [
    {
     "data": {
      "text/plain": [
       "<td class=\"title\">\n",
       "<div class=\"tit3\">\n",
       "<a href=\"/movie/bi/mi/basic.naver?code=184509\" title=\"영웅\">영웅</a>\n",
       "</div>\n",
       "</td>"
      ]
     },
     "execution_count": 36,
     "metadata": {},
     "output_type": "execute_result"
    }
   ],
   "source": [
    "soup.findAll('td')[1]"
   ]
  },
  {
   "cell_type": "markdown",
   "id": "8b777cb2-cfd9-42dd-8f76-09fff00b23fd",
   "metadata": {},
   "source": [
    "* 태그와 속성을 동시에 검색\n",
    "    * 유일한 html 요소를 식별하고자 할때\n",
    "    * 문법:findAll(태그명,속성명)"
   ]
  },
  {
   "cell_type": "code",
   "execution_count": 37,
   "id": "543b7376-58e4-42f4-ba4c-5e357f5f660a",
   "metadata": {},
   "outputs": [
    {
     "data": {
      "text/plain": [
       "\n",
       "<td class=\"title\">\n",
       "<div class=\"tit3\">\n",
       "<a href=\"/movie/bi/mi/basic.naver?code=74977\" title=\"아바타: 물의 길\">아바타: 물의 길</a>\n",
       "</div>\n",
       "</td>\n",
       "<td class=\"title\">\n",
       "<div class=\"tit3\">\n",
       "<a href=\"/movie/bi/mi/basic.naver?code=184509\" title=\"영웅\">영웅</a>\n",
       "</div>\n",
       "</td>"
      ]
     },
     "execution_count": 37,
     "metadata": {},
     "output_type": "execute_result"
    }
   ],
   "source": [
    "soup"
   ]
  },
  {
   "cell_type": "code",
   "execution_count": 38,
   "id": "87f442ee-0e9d-4ae3-8735-3986d8a9b5b4",
   "metadata": {},
   "outputs": [
    {
     "data": {
      "text/plain": [
       "[<a href=\"/movie/bi/mi/basic.naver?code=184509\" title=\"영웅\">영웅</a>]"
      ]
     },
     "execution_count": 38,
     "metadata": {},
     "output_type": "execute_result"
    }
   ],
   "source": [
    "soup.findAll('a',{'title':'영웅'})"
   ]
  },
  {
   "cell_type": "code",
   "execution_count": null,
   "id": "b11e80eb-77fe-4f03-8d40-7d7201b02dbf",
   "metadata": {},
   "outputs": [],
   "source": []
  }
 ],
 "metadata": {
  "kernelspec": {
   "display_name": "Python [conda env:base] *",
   "language": "python",
   "name": "conda-base-py"
  },
  "language_info": {
   "codemirror_mode": {
    "name": "ipython",
    "version": 3
   },
   "file_extension": ".py",
   "mimetype": "text/x-python",
   "name": "python",
   "nbconvert_exporter": "python",
   "pygments_lexer": "ipython3",
   "version": "3.13.5"
  }
 },
 "nbformat": 4,
 "nbformat_minor": 5
}
