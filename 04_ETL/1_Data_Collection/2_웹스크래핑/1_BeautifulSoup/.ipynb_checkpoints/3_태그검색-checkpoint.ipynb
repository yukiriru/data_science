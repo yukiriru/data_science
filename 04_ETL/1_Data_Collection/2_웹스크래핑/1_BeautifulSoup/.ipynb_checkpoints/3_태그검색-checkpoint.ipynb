{
 "cells": [
  {
   "cell_type": "code",
   "execution_count": 1,
   "id": "42ba1b27-875c-419a-9df0-319829230ea6",
   "metadata": {},
   "outputs": [],
   "source": [
    "from bs4 import BeautifulSoup"
   ]
  },
  {
   "cell_type": "code",
   "execution_count": 2,
   "id": "251ec81c-d927-479c-8a48-25854ad24486",
   "metadata": {},
   "outputs": [
    {
     "name": "stdout",
     "output_type": "stream",
     "text": [
      "<!DOCTYPE html>\n",
      "<html>\n",
      " <head>\n",
      "  <title>\n",
      "   내 웹사이트 홈페이지\n",
      "  </title>\n",
      "  <link href=\"style.css\" rel=\"stylesheet\" type=\"text/css\"/>\n",
      " </head>\n",
      " <body>\n",
      "  <h1>\n",
      "   안녕하세요, 환영합니다!\n",
      "  </h1>\n",
      "  <p id=\"intro\">\n",
      "   이 웹사이트는 BeautifulSoup 학습을 위한 예제 페이지입니다. \n",
      "        여기에는 여러 가지 HTML 기본 태그들과 속성 및 스타일을 포함되어 있습니다.\n",
      "  </p>\n",
      "  <div class=\"section\" id=\"section1\">\n",
      "   <h2>\n",
      "    섹션 1: BeautifulSoup 기초\n",
      "   </h2>\n",
      "   <p>\n",
      "    BeautifulSoup는 웹 페이지에서 데이터를 추출하기 위한 파이썬 라이브러리입니다.\n",
      "   </p>\n",
      "   <ul>\n",
      "    <li>\n",
      "     HTML 파싱\n",
      "    </li>\n",
      "    <li>\n",
      "     태그 검색\n",
      "    </li>\n",
      "    <li>\n",
      "     데이터 추출\n",
      "    </li>\n",
      "   </ul>\n",
      "  </div>\n",
      "  <div class=\"section\" id=\"section2\">\n",
      "   <h2>\n",
      "    섹션 2: 고급 사용법\n",
      "   </h2>\n",
      "   <p>\n",
      "    고급 사용법을 통해 더 효과적으로 데이터를 다룰 수 있습니다.\n",
      "   </p>\n",
      "   <a class=\"link\" href=\"https://www.google.com/search?q=BeautifulSoup+%EA%B8%B0%EC%B4%88&amp;sca_esv=a0ce93ff23945b86&amp;sxsrf=ADLYWIKD3OxW3MwhB0VF77lOtSq2uhVw1w%3A1716417838022&amp;ei=LnVOZoiAAdTW1e8P16WBsAY&amp;ved=0ahUKEwiIz5XcqqKGAxVUa_UHHddSAGYQ4dUDCBA&amp;uact=5&amp;oq=BeautifulSoup+%EA%B8%B0%EC%B4%88&amp;gs_lp=Egxnd3Mtd2l6LXNlcnAiFEJlYXV0aWZ1bFNvdXAg6riw7LSIMgQQIxgnMggQABiABBiiBDIIEAAYgAQYogQyCBAAGIAEGKIESLbvBFDw6QRYye0EcAR4AJABAZgBkQGgAfYDqgEDMC40uAEDyAEA-AEBmAIEoAL-AsICBRAAGIAEmAMAiAYBkgcDMS4zoAe5EQ&amp;sclient=gws-wiz-serp\" id=\"searchLink\">\n",
      "    구글 검색 정보\n",
      "   </a>\n",
      "  </div>\n",
      "  <footer>\n",
      "   <p>\n",
      "    저작권 © 2024 내 웹사이트. 모든 권리 보유.\n",
      "   </p>\n",
      "  </footer>\n",
      " </body>\n",
      "</html>\n",
      "\n"
     ]
    }
   ],
   "source": [
    "# 파일로부터 HTML 읽기\n",
    "with open('1_basic.html', 'r', encoding='utf-8') as file:\n",
    "    html_content = file.read()\n",
    "soup = BeautifulSoup(html_content, 'html.parser')\n",
    "print(soup.prettify())"
   ]
  },
  {
   "cell_type": "markdown",
   "id": "94ffd5a6-d90d-467f-9544-e0298b79367e",
   "metadata": {},
   "source": [
    "# 1. 단일 태그 검색"
   ]
  },
  {
   "cell_type": "markdown",
   "id": "bb504180-8d34-4ef1-95db-39e3f8471a39",
   "metadata": {},
   "source": [
    "* 태그 전체"
   ]
  },
  {
   "cell_type": "code",
   "execution_count": 3,
   "id": "0a76b2d5-a34c-47f5-ad9d-fada2a3a6a77",
   "metadata": {},
   "outputs": [
    {
     "data": {
      "text/plain": [
       "<title>내 웹사이트 홈페이지</title>"
      ]
     },
     "execution_count": 3,
     "metadata": {},
     "output_type": "execute_result"
    }
   ],
   "source": [
    "soup.find('title')"
   ]
  },
  {
   "cell_type": "markdown",
   "id": "ecb95a6a-6a86-44fb-954b-9b02584f5333",
   "metadata": {},
   "source": [
    "* 태그 값 추출"
   ]
  },
  {
   "cell_type": "code",
   "execution_count": 4,
   "id": "49c39134-9635-400b-9365-bbd36168a6ed",
   "metadata": {},
   "outputs": [
    {
     "data": {
      "text/plain": [
       "'내 웹사이트 홈페이지'"
      ]
     },
     "execution_count": 4,
     "metadata": {},
     "output_type": "execute_result"
    }
   ],
   "source": [
    "#타이틀 태그 검색\n",
    "title = soup.find('title')\n",
    "title.text"
   ]
  },
  {
   "cell_type": "code",
   "execution_count": 5,
   "id": "d4a51c75-a02a-44fa-9d23-f8e0608b7041",
   "metadata": {},
   "outputs": [
    {
     "data": {
      "text/plain": [
       "'내 웹사이트 홈페이지'"
      ]
     },
     "execution_count": 5,
     "metadata": {},
     "output_type": "execute_result"
    }
   ],
   "source": [
    "title.string"
   ]
  },
  {
   "cell_type": "markdown",
   "id": "d25e87d0-c717-4cdf-acb6-3935b9a32007",
   "metadata": {},
   "source": [
    "# 2. ID를 사용한 검색"
   ]
  },
  {
   "cell_type": "code",
   "execution_count": 6,
   "id": "c02edd9f-8de0-4534-8bad-bc66aa68678f",
   "metadata": {},
   "outputs": [
    {
     "data": {
      "text/plain": [
       "<p id=\"intro\">\n",
       "        이 웹사이트는 BeautifulSoup 학습을 위한 예제 페이지입니다. \n",
       "        여기에는 여러 가지 HTML 기본 태그들과 속성 및 스타일을 포함되어 있습니다.\n",
       "    </p>"
      ]
     },
     "execution_count": 6,
     "metadata": {},
     "output_type": "execute_result"
    }
   ],
   "source": [
    "soup.p"
   ]
  },
  {
   "cell_type": "code",
   "execution_count": 7,
   "id": "90ab6eb9-7cbe-422d-a8ea-b5af20a6ec63",
   "metadata": {},
   "outputs": [
    {
     "data": {
      "text/plain": [
       "<p id=\"intro\">\n",
       "        이 웹사이트는 BeautifulSoup 학습을 위한 예제 페이지입니다. \n",
       "        여기에는 여러 가지 HTML 기본 태그들과 속성 및 스타일을 포함되어 있습니다.\n",
       "    </p>"
      ]
     },
     "execution_count": 7,
     "metadata": {},
     "output_type": "execute_result"
    }
   ],
   "source": [
    "# ID가 'intro'인 p 태그 검색\n",
    "intro_paragraph = soup.find(id=\"intro\")\n",
    "intro_paragraph"
   ]
  },
  {
   "cell_type": "code",
   "execution_count": 8,
   "id": "441f0b32-9bcc-4d76-9b55-8b98df3c61de",
   "metadata": {},
   "outputs": [
    {
     "data": {
      "text/plain": [
       "'\\n        이 웹사이트는 BeautifulSoup 학습을 위한 예제 페이지입니다. \\n        여기에는 여러 가지 HTML 기본 태그들과 속성 및 스타일을 포함되어 있습니다.\\n    '"
      ]
     },
     "execution_count": 8,
     "metadata": {},
     "output_type": "execute_result"
    }
   ],
   "source": [
    "intro_paragraph.text"
   ]
  },
  {
   "cell_type": "markdown",
   "id": "7ed244ba-9e39-4be9-94e5-510f25d34369",
   "metadata": {},
   "source": [
    "* 아래와 같이 태그 객체를 사용해 첫번째 결과 값을 반환하는 예제에서는 이 방법이 더 효율적일 수 있다."
   ]
  },
  {
   "cell_type": "code",
   "execution_count": 9,
   "id": "daf497e5-ae1d-4acc-b234-744ce6e5398a",
   "metadata": {},
   "outputs": [
    {
     "data": {
      "text/plain": [
       "<p id=\"intro\">\n",
       "        이 웹사이트는 BeautifulSoup 학습을 위한 예제 페이지입니다. \n",
       "        여기에는 여러 가지 HTML 기본 태그들과 속성 및 스타일을 포함되어 있습니다.\n",
       "    </p>"
      ]
     },
     "execution_count": 9,
     "metadata": {},
     "output_type": "execute_result"
    }
   ],
   "source": [
    "soup.p"
   ]
  },
  {
   "cell_type": "markdown",
   "id": "b75b6fb2-968e-4da8-aa87-35a5e432dafd",
   "metadata": {},
   "source": [
    "* 아래 두번째 div를 찾으려면?"
   ]
  },
  {
   "cell_type": "raw",
   "id": "a78b75d0-19ca-4cbc-bc92-55113aef9083",
   "metadata": {},
   "source": [
    "<!DOCTYPE html>\n",
    "<html>\n",
    "<head>\n",
    "    <title>내 웹사이트 홈페이지</title>\n",
    "</head>\n",
    "<body>\n",
    "    <h1>안녕하세요, 환영합니다!</h1>\n",
    "    <p id=\"intro\">\n",
    "        이 웹사이트는 BeautifulSoup 학습을 위한 예제 페이지입니다. \n",
    "        여기에는 여러 가지 HTML 태그들과 링크, 이미지 등이 포함되어 있습니다.\n",
    "    </p>\n",
    "    <div class=\"section\" id=\"section1\">\n",
    "        <h2>섹션 1: BeautifulSoup 기초</h2>\n",
    "        <p>BeautifulSoup는 웹 페이지에서 데이터를 추출하기 위한 파이썬 라이브러리입니다.</p>\n",
    "        <ul>\n",
    "            <li>HTML 파싱</li>\n",
    "            <li>태그 검색</li>\n",
    "            <li>데이터 추출</li>\n",
    "        </ul>\n",
    "    </div>\n",
    "    <div class=\"section\" id=\"section2\">\n",
    "        <h2>섹션 2: 고급 사용법</h2>\n",
    "        <p>고급 사용법을 통해 더 효과적으로 데이터를 다룰 수 있습니다.</p>\n",
    "    </div>\n",
    "    <footer>\n",
    "        <p>저작권 © 2024 내 웹사이트. 모든 권리 보유.</p>\n",
    "    </footer>\n",
    "</body>\n",
    "</html>"
   ]
  },
  {
   "cell_type": "code",
   "execution_count": 10,
   "id": "8d09b9d1-a42e-427e-ab13-1cdc3787c937",
   "metadata": {},
   "outputs": [
    {
     "data": {
      "text/plain": [
       "<div class=\"section\" id=\"section1\">\n",
       "<h2>섹션 1: BeautifulSoup 기초</h2>\n",
       "<p>BeautifulSoup는 웹 페이지에서 데이터를 추출하기 위한 파이썬 라이브러리입니다.</p>\n",
       "<ul>\n",
       "<li>HTML 파싱</li>\n",
       "<li>태그 검색</li>\n",
       "<li>데이터 추출</li>\n",
       "</ul>\n",
       "</div>"
      ]
     },
     "execution_count": 10,
     "metadata": {},
     "output_type": "execute_result"
    }
   ],
   "source": [
    "soup.div # 이 방법으로는 첫번째 요소만 찾기 때문에 불가능하다"
   ]
  },
  {
   "cell_type": "code",
   "execution_count": 11,
   "id": "694b98ff-c5e5-48f3-af28-47736211f72b",
   "metadata": {},
   "outputs": [
    {
     "data": {
      "text/plain": [
       "<div class=\"section\" id=\"section1\">\n",
       "<h2>섹션 1: BeautifulSoup 기초</h2>\n",
       "<p>BeautifulSoup는 웹 페이지에서 데이터를 추출하기 위한 파이썬 라이브러리입니다.</p>\n",
       "<ul>\n",
       "<li>HTML 파싱</li>\n",
       "<li>태그 검색</li>\n",
       "<li>데이터 추출</li>\n",
       "</ul>\n",
       "</div>"
      ]
     },
     "execution_count": 11,
     "metadata": {},
     "output_type": "execute_result"
    }
   ],
   "source": [
    "soup.find('div')"
   ]
  },
  {
   "cell_type": "code",
   "execution_count": 12,
   "id": "5bca90ff-4f72-4e78-8267-3d6bb02cf04b",
   "metadata": {},
   "outputs": [
    {
     "data": {
      "text/plain": [
       "<div class=\"section\" id=\"section2\">\n",
       "<h2>섹션 2: 고급 사용법</h2>\n",
       "<p>고급 사용법을 통해 더 효과적으로 데이터를 다룰 수 있습니다.</p>\n",
       "<a class=\"link\" href=\"https://www.google.com/search?q=BeautifulSoup+%EA%B8%B0%EC%B4%88&amp;sca_esv=a0ce93ff23945b86&amp;sxsrf=ADLYWIKD3OxW3MwhB0VF77lOtSq2uhVw1w%3A1716417838022&amp;ei=LnVOZoiAAdTW1e8P16WBsAY&amp;ved=0ahUKEwiIz5XcqqKGAxVUa_UHHddSAGYQ4dUDCBA&amp;uact=5&amp;oq=BeautifulSoup+%EA%B8%B0%EC%B4%88&amp;gs_lp=Egxnd3Mtd2l6LXNlcnAiFEJlYXV0aWZ1bFNvdXAg6riw7LSIMgQQIxgnMggQABiABBiiBDIIEAAYgAQYogQyCBAAGIAEGKIESLbvBFDw6QRYye0EcAR4AJABAZgBkQGgAfYDqgEDMC40uAEDyAEA-AEBmAIEoAL-AsICBRAAGIAEmAMAiAYBkgcDMS4zoAe5EQ&amp;sclient=gws-wiz-serp\" id=\"searchLink\">구글 검색 정보</a>\n",
       "</div>"
      ]
     },
     "execution_count": 12,
     "metadata": {},
     "output_type": "execute_result"
    }
   ],
   "source": [
    "soup.find(id=\"section2\")"
   ]
  },
  {
   "cell_type": "markdown",
   "id": "68333a4c-5ac7-46f1-a4a3-068e20c98dec",
   "metadata": {},
   "source": [
    "# 3. 클래스를 사용한 검색"
   ]
  },
  {
   "cell_type": "code",
   "execution_count": 13,
   "id": "21204e0f-da8f-4b78-bfc3-c2221468a0ff",
   "metadata": {
    "scrolled": true
   },
   "outputs": [
    {
     "data": {
      "text/plain": [
       "<div class=\"section\" id=\"section1\">\n",
       "<h2>섹션 1: BeautifulSoup 기초</h2>\n",
       "<p>BeautifulSoup는 웹 페이지에서 데이터를 추출하기 위한 파이썬 라이브러리입니다.</p>\n",
       "<ul>\n",
       "<li>HTML 파싱</li>\n",
       "<li>태그 검색</li>\n",
       "<li>데이터 추출</li>\n",
       "</ul>\n",
       "</div>"
      ]
     },
     "execution_count": 13,
     "metadata": {},
     "output_type": "execute_result"
    }
   ],
   "source": [
    "soup.find('div', class_='section')"
   ]
  },
  {
   "cell_type": "markdown",
   "id": "0ce7f0af-9d51-4708-ad2d-e9c5d92551cc",
   "metadata": {},
   "source": [
    "* html에서 일반적으로 id를 유일한 html 요소로 두고 class는 비슷하 스타일의 html 요소를 지정한다.\n",
    "* 따라서 동일 요소에 대한 접근을 하려면 모든 값을 가져와야 되고 그 중에서 순서를 지정해야한다."
   ]
  },
  {
   "cell_type": "markdown",
   "id": "f0c02b83-79ec-49c1-9e4e-f87497c168bc",
   "metadata": {},
   "source": [
    "### find_all\n",
    "조건에 맞는 모든 html 요소 반환"
   ]
  },
  {
   "cell_type": "code",
   "execution_count": 14,
   "id": "0b004c79-4b3f-4dd2-87c0-413bdc20fd9d",
   "metadata": {},
   "outputs": [
    {
     "name": "stdout",
     "output_type": "stream",
     "text": [
      "<div class=\"section\" id=\"section1\">\n",
      " <h2>\n",
      "  섹션 1: BeautifulSoup 기초\n",
      " </h2>\n",
      " <p>\n",
      "  BeautifulSoup는 웹 페이지에서 데이터를 추출하기 위한 파이썬 라이브러리입니다.\n",
      " </p>\n",
      " <ul>\n",
      "  <li>\n",
      "   HTML 파싱\n",
      "  </li>\n",
      "  <li>\n",
      "   태그 검색\n",
      "  </li>\n",
      "  <li>\n",
      "   데이터 추출\n",
      "  </li>\n",
      " </ul>\n",
      "</div>\n",
      "\n",
      "<div class=\"section\" id=\"section2\">\n",
      " <h2>\n",
      "  섹션 2: 고급 사용법\n",
      " </h2>\n",
      " <p>\n",
      "  고급 사용법을 통해 더 효과적으로 데이터를 다룰 수 있습니다.\n",
      " </p>\n",
      " <a class=\"link\" href=\"https://www.google.com/search?q=BeautifulSoup+%EA%B8%B0%EC%B4%88&amp;sca_esv=a0ce93ff23945b86&amp;sxsrf=ADLYWIKD3OxW3MwhB0VF77lOtSq2uhVw1w%3A1716417838022&amp;ei=LnVOZoiAAdTW1e8P16WBsAY&amp;ved=0ahUKEwiIz5XcqqKGAxVUa_UHHddSAGYQ4dUDCBA&amp;uact=5&amp;oq=BeautifulSoup+%EA%B8%B0%EC%B4%88&amp;gs_lp=Egxnd3Mtd2l6LXNlcnAiFEJlYXV0aWZ1bFNvdXAg6riw7LSIMgQQIxgnMggQABiABBiiBDIIEAAYgAQYogQyCBAAGIAEGKIESLbvBFDw6QRYye0EcAR4AJABAZgBkQGgAfYDqgEDMC40uAEDyAEA-AEBmAIEoAL-AsICBRAAGIAEmAMAiAYBkgcDMS4zoAe5EQ&amp;sclient=gws-wiz-serp\" id=\"searchLink\">\n",
      "  구글 검색 정보\n",
      " </a>\n",
      "</div>\n",
      "\n"
     ]
    }
   ],
   "source": [
    "# 클래스가 'section'인 모든 div 태그 검색\n",
    "sections = soup.find_all('div', class_='section')\n",
    "for element in sections:\n",
    "    # print(element)\n",
    "    print(element.prettify()) # 각 요소별 prettify 함수 호출 가능"
   ]
  },
  {
   "cell_type": "markdown",
   "id": "e66a40f5-4cbd-4838-9588-51301a052c06",
   "metadata": {},
   "source": [
    "# find_all 결과 개별 요소 접근"
   ]
  },
  {
   "cell_type": "markdown",
   "id": "a01ba9be-456d-4a51-95d8-bc845370a990",
   "metadata": {},
   "source": [
    "* 첫 번째 요소"
   ]
  },
  {
   "cell_type": "code",
   "execution_count": 15,
   "id": "8fe36146-995f-4eac-a66a-ce120d8e2e2a",
   "metadata": {},
   "outputs": [
    {
     "data": {
      "text/plain": [
       "<div class=\"section\" id=\"section1\">\n",
       "<h2>섹션 1: BeautifulSoup 기초</h2>\n",
       "<p>BeautifulSoup는 웹 페이지에서 데이터를 추출하기 위한 파이썬 라이브러리입니다.</p>\n",
       "<ul>\n",
       "<li>HTML 파싱</li>\n",
       "<li>태그 검색</li>\n",
       "<li>데이터 추출</li>\n",
       "</ul>\n",
       "</div>"
      ]
     },
     "execution_count": 15,
     "metadata": {},
     "output_type": "execute_result"
    }
   ],
   "source": [
    "sections[0]"
   ]
  },
  {
   "cell_type": "code",
   "execution_count": 16,
   "id": "19f80c74-a4c4-4a89-826f-2e31218b61ef",
   "metadata": {},
   "outputs": [
    {
     "data": {
      "text/plain": [
       "'<div class=\"section\" id=\"section1\">\\n <h2>\\n  섹션 1: BeautifulSoup 기초\\n </h2>\\n <p>\\n  BeautifulSoup는 웹 페이지에서 데이터를 추출하기 위한 파이썬 라이브러리입니다.\\n </p>\\n <ul>\\n  <li>\\n   HTML 파싱\\n  </li>\\n  <li>\\n   태그 검색\\n  </li>\\n  <li>\\n   데이터 추출\\n  </li>\\n </ul>\\n</div>\\n'"
      ]
     },
     "execution_count": 16,
     "metadata": {},
     "output_type": "execute_result"
    }
   ],
   "source": [
    "sections[0].prettify()"
   ]
  },
  {
   "cell_type": "code",
   "execution_count": 17,
   "id": "84e8e2a9-f5e4-4d9e-aa01-4b96d5fd6277",
   "metadata": {},
   "outputs": [
    {
     "name": "stdout",
     "output_type": "stream",
     "text": [
      "<div class=\"section\" id=\"section1\">\n",
      " <h2>\n",
      "  섹션 1: BeautifulSoup 기초\n",
      " </h2>\n",
      " <p>\n",
      "  BeautifulSoup는 웹 페이지에서 데이터를 추출하기 위한 파이썬 라이브러리입니다.\n",
      " </p>\n",
      " <ul>\n",
      "  <li>\n",
      "   HTML 파싱\n",
      "  </li>\n",
      "  <li>\n",
      "   태그 검색\n",
      "  </li>\n",
      "  <li>\n",
      "   데이터 추출\n",
      "  </li>\n",
      " </ul>\n",
      "</div>\n",
      "\n"
     ]
    }
   ],
   "source": [
    "print(sections[0].prettify())"
   ]
  },
  {
   "cell_type": "markdown",
   "id": "a5763b4e-d104-482b-88ea-a0d3add9a873",
   "metadata": {},
   "source": [
    "* 두 번째 요소"
   ]
  },
  {
   "cell_type": "code",
   "execution_count": 18,
   "id": "f015370e-b613-4235-8ebf-72aad21b6cce",
   "metadata": {},
   "outputs": [
    {
     "name": "stdout",
     "output_type": "stream",
     "text": [
      "<div class=\"section\" id=\"section2\">\n",
      " <h2>\n",
      "  섹션 2: 고급 사용법\n",
      " </h2>\n",
      " <p>\n",
      "  고급 사용법을 통해 더 효과적으로 데이터를 다룰 수 있습니다.\n",
      " </p>\n",
      " <a class=\"link\" href=\"https://www.google.com/search?q=BeautifulSoup+%EA%B8%B0%EC%B4%88&amp;sca_esv=a0ce93ff23945b86&amp;sxsrf=ADLYWIKD3OxW3MwhB0VF77lOtSq2uhVw1w%3A1716417838022&amp;ei=LnVOZoiAAdTW1e8P16WBsAY&amp;ved=0ahUKEwiIz5XcqqKGAxVUa_UHHddSAGYQ4dUDCBA&amp;uact=5&amp;oq=BeautifulSoup+%EA%B8%B0%EC%B4%88&amp;gs_lp=Egxnd3Mtd2l6LXNlcnAiFEJlYXV0aWZ1bFNvdXAg6riw7LSIMgQQIxgnMggQABiABBiiBDIIEAAYgAQYogQyCBAAGIAEGKIESLbvBFDw6QRYye0EcAR4AJABAZgBkQGgAfYDqgEDMC40uAEDyAEA-AEBmAIEoAL-AsICBRAAGIAEmAMAiAYBkgcDMS4zoAe5EQ&amp;sclient=gws-wiz-serp\" id=\"searchLink\">\n",
      "  구글 검색 정보\n",
      " </a>\n",
      "</div>\n",
      "\n"
     ]
    }
   ],
   "source": [
    "print(sections[1].prettify())"
   ]
  },
  {
   "cell_type": "markdown",
   "id": "d2af6542-4cc7-4625-a9c8-5654879b73e5",
   "metadata": {},
   "source": [
    "# 4. 태그의 리스트 검색"
   ]
  },
  {
   "cell_type": "code",
   "execution_count": 19,
   "id": "be3a998b-7676-4f7f-ba3d-4d93fe942126",
   "metadata": {},
   "outputs": [
    {
     "name": "stdout",
     "output_type": "stream",
     "text": [
      "<h1>\n",
      " 안녕하세요, 환영합니다!\n",
      "</h1>\n",
      "\n",
      "<h2>\n",
      " 섹션 1: BeautifulSoup 기초\n",
      "</h2>\n",
      "\n",
      "<h2>\n",
      " 섹션 2: 고급 사용법\n",
      "</h2>\n",
      "\n"
     ]
    }
   ],
   "source": [
    "# 모든 h2 태그 검색\n",
    "headers = soup.find_all(['h1', 'h2'])\n",
    "for header in headers:\n",
    "    print(header.prettify())"
   ]
  },
  {
   "cell_type": "code",
   "execution_count": 20,
   "id": "5ba718c3-1086-48ee-830e-a35909fa6a1f",
   "metadata": {},
   "outputs": [
    {
     "name": "stdout",
     "output_type": "stream",
     "text": [
      "안녕하세요, 환영합니다!\n",
      "섹션 1: BeautifulSoup 기초\n",
      "섹션 2: 고급 사용법\n"
     ]
    }
   ],
   "source": [
    "for header in headers:\n",
    "    print(header.text)"
   ]
  },
  {
   "cell_type": "markdown",
   "id": "7afec43d-7cc8-4f78-992b-f3d32c35cdb3",
   "metadata": {},
   "source": [
    "# 5. 속성을 사용한 검색"
   ]
  },
  {
   "cell_type": "code",
   "execution_count": 21,
   "id": "fc25d172-75cd-493a-ac7a-4624c40b8f0e",
   "metadata": {},
   "outputs": [
    {
     "name": "stdout",
     "output_type": "stream",
     "text": [
      "https://www.google.com/search?q=BeautifulSoup+%EA%B8%B0%EC%B4%88&sca_esv=a0ce93ff23945b86&sxsrf=ADLYWIKD3OxW3MwhB0VF77lOtSq2uhVw1w%3A1716417838022&ei=LnVOZoiAAdTW1e8P16WBsAY&ved=0ahUKEwiIz5XcqqKGAxVUa_UHHddSAGYQ4dUDCBA&uact=5&oq=BeautifulSoup+%EA%B8%B0%EC%B4%88&gs_lp=Egxnd3Mtd2l6LXNlcnAiFEJlYXV0aWZ1bFNvdXAg6riw7LSIMgQQIxgnMggQABiABBiiBDIIEAAYgAQYogQyCBAAGIAEGKIESLbvBFDw6QRYye0EcAR4AJABAZgBkQGgAfYDqgEDMC40uAEDyAEA-AEBmAIEoAL-AsICBRAAGIAEmAMAiAYBkgcDMS4zoAe5EQ&sclient=gws-wiz-serp\n"
     ]
    }
   ],
   "source": [
    "# 속성 href가 있는 모든 a 태그 검색\n",
    "links = soup.find_all('a', href=True)\n",
    "for link in links:\n",
    "    print(link['href'])"
   ]
  },
  {
   "cell_type": "markdown",
   "id": "6876727e-7bfa-4b72-857a-7d5b6b7b078c",
   "metadata": {},
   "source": [
    "# 6. 텍스트 내용으로 검색"
   ]
  },
  {
   "cell_type": "code",
   "execution_count": 22,
   "id": "21992521-408d-43d8-aee4-71f8bea693d4",
   "metadata": {},
   "outputs": [
    {
     "name": "stdout",
     "output_type": "stream",
     "text": [
      "데이터 추출\n"
     ]
    }
   ],
   "source": [
    "# 텍스트 내용이 '데이터 추출'인 모든 요소 검색\n",
    "data_extraction_items = soup.find_all(string=\"데이터 추출\")\n",
    "for item in data_extraction_items:\n",
    "    print(item)"
   ]
  },
  {
   "cell_type": "code",
   "execution_count": 23,
   "id": "377c91f9-8a53-44b4-8e92-c1bef4714dc7",
   "metadata": {},
   "outputs": [],
   "source": [
    "# 텍스트 내용이 '데이터 추출'인 모든 요소 검색\n",
    "# 부분 검색은 안된다.\n",
    "data_extraction_items = soup.find_all(string=\"데이터\")\n",
    "for item in data_extraction_items:\n",
    "    print(item)"
   ]
  },
  {
   "cell_type": "markdown",
   "id": "8677acda-695c-4454-a69e-3515d2ef2525",
   "metadata": {},
   "source": [
    "* 부분 검색"
   ]
  },
  {
   "cell_type": "code",
   "execution_count": 24,
   "id": "2f813663-7f41-46ec-adb6-0514d541e3b3",
   "metadata": {},
   "outputs": [],
   "source": [
    "import re"
   ]
  },
  {
   "cell_type": "code",
   "execution_count": 25,
   "id": "71312739-a1b1-4d5b-b6ef-c56f02297f73",
   "metadata": {},
   "outputs": [
    {
     "name": "stdout",
     "output_type": "stream",
     "text": [
      "BeautifulSoup는 웹 페이지에서 데이터를 추출하기 위한 파이썬 라이브러리입니다.\n",
      "데이터 추출\n",
      "고급 사용법을 통해 더 효과적으로 데이터를 다룰 수 있습니다.\n"
     ]
    }
   ],
   "source": [
    "data_extraction_items = soup.find_all(string=re.compile(\".*데이터.*\"))\n",
    "for item in data_extraction_items:\n",
    "    print(item)"
   ]
  },
  {
   "cell_type": "code",
   "execution_count": 26,
   "id": "4082b7ce-c2d2-475b-bb75-9622b374dd8f",
   "metadata": {},
   "outputs": [
    {
     "name": "stdout",
     "output_type": "stream",
     "text": [
      "BeautifulSoup는 웹 페이지에서 데이터를 추출하기 위한 파이썬 라이브러리입니다.\n",
      "데이터 추출\n",
      "고급 사용법을 통해 더 효과적으로 데이터를 다룰 수 있습니다.\n"
     ]
    }
   ],
   "source": [
    "data_extraction_items = soup.find_all(string=re.compile(\"데이터\")) # 위 문법을 이렇게 간략화 할 수 있다.\n",
    "for item in data_extraction_items:\n",
    "    print(item)"
   ]
  },
  {
   "cell_type": "markdown",
   "id": "3c7eedb9-907a-460d-9dc1-786537ce6e24",
   "metadata": {},
   "source": [
    "# 7. CSS 선택자 사용"
   ]
  },
  {
   "cell_type": "code",
   "execution_count": 27,
   "id": "17c1005d-2a66-4b99-a4c1-8ba787c9eca9",
   "metadata": {},
   "outputs": [
    {
     "name": "stdout",
     "output_type": "stream",
     "text": [
      "HTML 파싱\n",
      "태그 검색\n",
      "데이터 추출\n"
     ]
    }
   ],
   "source": [
    "# ID가 'section1'인 요소 내 모든 li 태그 검색\n",
    "list_items = soup.select(\"#section1 li\")\n",
    "for li in list_items:\n",
    "    print(li.text)"
   ]
  },
  {
   "cell_type": "markdown",
   "id": "7ce175df-9fb0-4c81-a344-19204b801cb0",
   "metadata": {},
   "source": [
    "# 8. 한정자 사용"
   ]
  },
  {
   "cell_type": "code",
   "execution_count": 28,
   "id": "e78dca87-d969-4e9d-ae3c-71bb714ed430",
   "metadata": {},
   "outputs": [
    {
     "data": {
      "text/plain": [
       "'고급 사용법을 통해 더 효과적으로 데이터를 다룰 수 있습니다.'"
      ]
     },
     "execution_count": 28,
     "metadata": {},
     "output_type": "execute_result"
    }
   ],
   "source": [
    "# 섹션2 내의 p 태그 검색\n",
    "section2_p = soup.select_one(\"div#section2 p\")\n",
    "section2_p.text"
   ]
  },
  {
   "cell_type": "code",
   "execution_count": null,
   "id": "20cb5f44-6ea6-40d4-b826-3dc748217626",
   "metadata": {},
   "outputs": [],
   "source": []
  },
  {
   "cell_type": "code",
   "execution_count": null,
   "id": "1314d9bb-e36e-477b-9d5c-1d8aea20599b",
   "metadata": {},
   "outputs": [],
   "source": []
  }
 ],
 "metadata": {
  "kernelspec": {
   "display_name": "Python [conda env:base] *",
   "language": "python",
   "name": "conda-base-py"
  },
  "language_info": {
   "codemirror_mode": {
    "name": "ipython",
    "version": 3
   },
   "file_extension": ".py",
   "mimetype": "text/x-python",
   "name": "python",
   "nbconvert_exporter": "python",
   "pygments_lexer": "ipython3",
   "version": "3.13.5"
  }
 },
 "nbformat": 4,
 "nbformat_minor": 5
}
