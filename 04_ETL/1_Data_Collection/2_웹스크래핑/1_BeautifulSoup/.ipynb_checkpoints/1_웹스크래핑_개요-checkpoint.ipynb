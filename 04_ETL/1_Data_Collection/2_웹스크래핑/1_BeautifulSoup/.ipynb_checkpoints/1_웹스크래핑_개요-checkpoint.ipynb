{
 "cells": [
  {
   "cell_type": "markdown",
   "id": "61fd4ddd",
   "metadata": {
    "heading_collapsed": true
   },
   "source": [
    "# 개념정의"
   ]
  },
  {
   "cell_type": "markdown",
   "id": "b3a1d71a",
   "metadata": {
    "hidden": true
   },
   "source": [
    "## 협의의 개념"
   ]
  },
  {
   "cell_type": "markdown",
   "id": "27048bbc",
   "metadata": {
    "hidden": true
   },
   "source": [
    "### 웹스크래핑(Web Scraping)"
   ]
  },
  {
   "cell_type": "markdown",
   "id": "e51cb515",
   "metadata": {
    "hidden": true
   },
   "source": [
    "* 웹 페이지의 특정 부분에서 원하는 데이터를 추출하는 과정"
   ]
  },
  {
   "cell_type": "markdown",
   "id": "d1d7df54",
   "metadata": {
    "hidden": true
   },
   "source": [
    "### 웹 크롤링(Web crawling)"
   ]
  },
  {
   "cell_type": "markdown",
   "id": "de80909c",
   "metadata": {
    "hidden": true
   },
   "source": [
    "* 웹 상의 여러 페이지를 자동으로 탐색하는 과정 (도메인 단위로 더 대용량 데이터를 수집)"
   ]
  },
  {
   "cell_type": "markdown",
   "id": "9b1caf45",
   "metadata": {
    "hidden": true
   },
   "source": [
    "## 광의의 개념"
   ]
  },
  {
   "cell_type": "markdown",
   "id": "0be1b9af",
   "metadata": {
    "hidden": true
   },
   "source": [
    "*  웹상의 데이터를 수집하는 개념으로 웹스크래핑, 웹 크롤링을 혼용하여 사용"
   ]
  },
  {
   "cell_type": "markdown",
   "id": "470264a0",
   "metadata": {},
   "source": [
    "# 웹스크래핑을 위한 기초 기술 BeautifulSoup"
   ]
  },
  {
   "cell_type": "markdown",
   "id": "f9776456",
   "metadata": {},
   "source": [
    "* 문자 데이터를 html의 요소에 대한 검색, 데이터 수집을 하기 용이한 형태(BeautifulSoup)의 타입으로 변환"
   ]
  },
  {
   "cell_type": "markdown",
   "id": "42a4df4d-b211-45b5-a202-f74d5289e8ec",
   "metadata": {},
   "source": [
    "* soup을 출력하면 부모(상위)태그, 자식(하위)태그에 대한 띄어쓰기를 제공하지 않는다."
   ]
  },
  {
   "cell_type": "markdown",
   "id": "e1a4cdd0",
   "metadata": {},
   "source": [
    "## html 요소 이름로 하위 요소 검색"
   ]
  },
  {
   "cell_type": "markdown",
   "id": "81cf8c61",
   "metadata": {},
   "source": [
    "* 요소.하위요소\n",
    "* 요소.find('하위요소')"
   ]
  },
  {
   "cell_type": "markdown",
   "id": "226556a9",
   "metadata": {},
   "source": [
    "## 요소의 속성값 구하기"
   ]
  },
  {
   "cell_type": "markdown",
   "id": "727e2762",
   "metadata": {},
   "source": [
    "* 요소.attrs['속성명']"
   ]
  },
  {
   "cell_type": "markdown",
   "id": "8ed4b687",
   "metadata": {},
   "source": [
    "## 요소(태그)의 값 구하기"
   ]
  },
  {
   "cell_type": "markdown",
   "id": "a460982a",
   "metadata": {},
   "source": [
    "* 요소.string\n",
    "* 요소.text"
   ]
  },
  {
   "cell_type": "markdown",
   "id": "3f117e92",
   "metadata": {},
   "source": [
    "## 동일한 요소(태그)가 복수개 존재할 경우 검색"
   ]
  },
  {
   "cell_type": "markdown",
   "id": "b5ccb01b",
   "metadata": {},
   "source": [
    "### 모든 하위요소 검색시"
   ]
  },
  {
   "cell_type": "markdown",
   "id": "c2a941bb",
   "metadata": {},
   "source": [
    "* findAll('하위요소')"
   ]
  },
  {
   "cell_type": "markdown",
   "id": "cf25a2f8-b784-4184-8f2b-16787ef7e3e5",
   "metadata": {},
   "source": [
    "* 첫번째 요소\n",
    "  "
   ]
  },
  {
   "cell_type": "markdown",
   "id": "6edaa824-8d4a-4c82-8e10-f5bd2019171d",
   "metadata": {},
   "source": [
    "* 두번째 요소"
   ]
  }
 ],
 "metadata": {
  "kernelspec": {
   "display_name": "Python [conda env:base] *",
   "language": "python",
   "name": "conda-base-py"
  },
  "language_info": {
   "codemirror_mode": {
    "name": "ipython",
    "version": 3
   },
   "file_extension": ".py",
   "mimetype": "text/x-python",
   "name": "python",
   "nbconvert_exporter": "python",
   "pygments_lexer": "ipython3",
   "version": "3.13.5"
  }
 },
 "nbformat": 4,
 "nbformat_minor": 5
}