{
 "cells": [
  {
   "cell_type": "markdown",
   "id": "efe1ee4e",
   "metadata": {},
   "source": [
    "# BeautifulSoup 기초\n"
   ]
  },
  {
   "cell_type": "markdown",
   "id": "f7a3f6b6",
   "metadata": {},
   "source": [
    "## BeautifulSoup 객체 생성 및 탐색"
   ]
  },
  {
   "cell_type": "code",
   "execution_count": 1,
   "id": "9951e03d-4206-4e43-ad33-e2b1b44f194e",
   "metadata": {},
   "outputs": [],
   "source": [
    "html_content = \"\"\"\n",
    "<!DOCTYPE html>\n",
    "<html>\n",
    "<head>\n",
    "    <title>내 웹사이트 홈페이지</title>\n",
    "\t<link rel=\"stylesheet\" type=\"text/css\" href=\"style.css\">\n",
    "</head>\n",
    "<body>\n",
    "    <h1>안녕하세요, 환영합니다!</h1>\n",
    "    <p id=\"intro\">\n",
    "        이 웹사이트는 BeautifulSoup 학습을 위한 예제 페이지입니다. \n",
    "        여기에는 여러 가지 HTML 기본 태그들과 속성 및 스타일을 포함되어 있습니다.\n",
    "    </p>\n",
    "    <div class=\"section\" id=\"section1\">\n",
    "        <h2>섹션 1: BeautifulSoup 기초</h2>\n",
    "        <p>BeautifulSoup는 웹 페이지에서 데이터를 추출하기 위한 파이썬 라이브러리입니다.</p>\n",
    "        <ul>\n",
    "            <li>HTML 파싱</li>\n",
    "            <li>태그 검색</li>\n",
    "            <li>데이터 추출</li>\n",
    "        </ul>\n",
    "    </div>\n",
    "    <div class=\"section\" id=\"section2\">\n",
    "        <h2>섹션 2: 고급 사용법</h2>\n",
    "        <p>고급 사용법을 통해 더 효과적으로 데이터를 다룰 수 있습니다.</p>\n",
    "\t\t<a href=\"https://www.google.com/search?q=BeautifulSoup+%EA%B8%B0%EC%B4%88&sca_esv=a0ce93ff23945b86&sxsrf=ADLYWIKD3OxW3MwhB0VF77lOtSq2uhVw1w%3A1716417838022&ei=LnVOZoiAAdTW1e8P16WBsAY&ved=0ahUKEwiIz5XcqqKGAxVUa_UHHddSAGYQ4dUDCBA&uact=5&oq=BeautifulSoup+%EA%B8%B0%EC%B4%88&gs_lp=Egxnd3Mtd2l6LXNlcnAiFEJlYXV0aWZ1bFNvdXAg6riw7LSIMgQQIxgnMggQABiABBiiBDIIEAAYgAQYogQyCBAAGIAEGKIESLbvBFDw6QRYye0EcAR4AJABAZgBkQGgAfYDqgEDMC40uAEDyAEA-AEBmAIEoAL-AsICBRAAGIAEmAMAiAYBkgcDMS4zoAe5EQ&sclient=gws-wiz-serp\" class=\"link\" id=\"searchLink\">구글 검색 정보</a>\n",
    "    </div>\n",
    "    <footer>\n",
    "        <p>저작권 © 2024 내 웹사이트. 모든 권리 보유.</p>\n",
    "    </footer>\n",
    "</body>\n",
    "</html>\n",
    "\"\"\"\n"
   ]
  },
  {
   "cell_type": "code",
   "execution_count": 2,
   "id": "e66a5ecc-8e83-4205-a5a4-66a6d3ed9cd9",
   "metadata": {},
   "outputs": [
    {
     "data": {
      "text/plain": [
       "\n",
       "<!DOCTYPE html>\n",
       "\n",
       "<html>\n",
       "<head>\n",
       "<title>내 웹사이트 홈페이지</title>\n",
       "<link href=\"style.css\" rel=\"stylesheet\" type=\"text/css\"/>\n",
       "</head>\n",
       "<body>\n",
       "<h1>안녕하세요, 환영합니다!</h1>\n",
       "<p id=\"intro\">\n",
       "        이 웹사이트는 BeautifulSoup 학습을 위한 예제 페이지입니다. \n",
       "        여기에는 여러 가지 HTML 기본 태그들과 속성 및 스타일을 포함되어 있습니다.\n",
       "    </p>\n",
       "<div class=\"section\" id=\"section1\">\n",
       "<h2>섹션 1: BeautifulSoup 기초</h2>\n",
       "<p>BeautifulSoup는 웹 페이지에서 데이터를 추출하기 위한 파이썬 라이브러리입니다.</p>\n",
       "<ul>\n",
       "<li>HTML 파싱</li>\n",
       "<li>태그 검색</li>\n",
       "<li>데이터 추출</li>\n",
       "</ul>\n",
       "</div>\n",
       "<div class=\"section\" id=\"section2\">\n",
       "<h2>섹션 2: 고급 사용법</h2>\n",
       "<p>고급 사용법을 통해 더 효과적으로 데이터를 다룰 수 있습니다.</p>\n",
       "<a class=\"link\" href=\"https://www.google.com/search?q=BeautifulSoup+%EA%B8%B0%EC%B4%88&amp;sca_esv=a0ce93ff23945b86&amp;sxsrf=ADLYWIKD3OxW3MwhB0VF77lOtSq2uhVw1w%3A1716417838022&amp;ei=LnVOZoiAAdTW1e8P16WBsAY&amp;ved=0ahUKEwiIz5XcqqKGAxVUa_UHHddSAGYQ4dUDCBA&amp;uact=5&amp;oq=BeautifulSoup+%EA%B8%B0%EC%B4%88&amp;gs_lp=Egxnd3Mtd2l6LXNlcnAiFEJlYXV0aWZ1bFNvdXAg6riw7LSIMgQQIxgnMggQABiABBiiBDIIEAAYgAQYogQyCBAAGIAEGKIESLbvBFDw6QRYye0EcAR4AJABAZgBkQGgAfYDqgEDMC40uAEDyAEA-AEBmAIEoAL-AsICBRAAGIAEmAMAiAYBkgcDMS4zoAe5EQ&amp;sclient=gws-wiz-serp\" id=\"searchLink\">구글 검색 정보</a>\n",
       "</div>\n",
       "<footer>\n",
       "<p>저작권 © 2024 내 웹사이트. 모든 권리 보유.</p>\n",
       "</footer>\n",
       "</body>\n",
       "</html>"
      ]
     },
     "execution_count": 2,
     "metadata": {},
     "output_type": "execute_result"
    }
   ],
   "source": [
    "from bs4 import BeautifulSoup\n",
    "\n",
    "soup = BeautifulSoup(html_content, \"html.parser\")\n",
    "soup"
   ]
  },
  {
   "cell_type": "markdown",
   "id": "827e2e2a-9104-46a6-a6f6-7eaf05ff24a8",
   "metadata": {},
   "source": [
    "* 인덴테이션 고려해서 html 보기"
   ]
  },
  {
   "cell_type": "code",
   "execution_count": 3,
   "id": "1cbae109-275b-4849-a087-551444fef30b",
   "metadata": {},
   "outputs": [
    {
     "name": "stdout",
     "output_type": "stream",
     "text": [
      "<!DOCTYPE html>\n",
      "<html>\n",
      " <head>\n",
      "  <title>\n",
      "   내 웹사이트 홈페이지\n",
      "  </title>\n",
      "  <link href=\"style.css\" rel=\"stylesheet\" type=\"text/css\"/>\n",
      " </head>\n",
      " <body>\n",
      "  <h1>\n",
      "   안녕하세요, 환영합니다!\n",
      "  </h1>\n",
      "  <p id=\"intro\">\n",
      "   이 웹사이트는 BeautifulSoup 학습을 위한 예제 페이지입니다. \n",
      "        여기에는 여러 가지 HTML 기본 태그들과 속성 및 스타일을 포함되어 있습니다.\n",
      "  </p>\n",
      "  <div class=\"section\" id=\"section1\">\n",
      "   <h2>\n",
      "    섹션 1: BeautifulSoup 기초\n",
      "   </h2>\n",
      "   <p>\n",
      "    BeautifulSoup는 웹 페이지에서 데이터를 추출하기 위한 파이썬 라이브러리입니다.\n",
      "   </p>\n",
      "   <ul>\n",
      "    <li>\n",
      "     HTML 파싱\n",
      "    </li>\n",
      "    <li>\n",
      "     태그 검색\n",
      "    </li>\n",
      "    <li>\n",
      "     데이터 추출\n",
      "    </li>\n",
      "   </ul>\n",
      "  </div>\n",
      "  <div class=\"section\" id=\"section2\">\n",
      "   <h2>\n",
      "    섹션 2: 고급 사용법\n",
      "   </h2>\n",
      "   <p>\n",
      "    고급 사용법을 통해 더 효과적으로 데이터를 다룰 수 있습니다.\n",
      "   </p>\n",
      "   <a class=\"link\" href=\"https://www.google.com/search?q=BeautifulSoup+%EA%B8%B0%EC%B4%88&amp;sca_esv=a0ce93ff23945b86&amp;sxsrf=ADLYWIKD3OxW3MwhB0VF77lOtSq2uhVw1w%3A1716417838022&amp;ei=LnVOZoiAAdTW1e8P16WBsAY&amp;ved=0ahUKEwiIz5XcqqKGAxVUa_UHHddSAGYQ4dUDCBA&amp;uact=5&amp;oq=BeautifulSoup+%EA%B8%B0%EC%B4%88&amp;gs_lp=Egxnd3Mtd2l6LXNlcnAiFEJlYXV0aWZ1bFNvdXAg6riw7LSIMgQQIxgnMggQABiABBiiBDIIEAAYgAQYogQyCBAAGIAEGKIESLbvBFDw6QRYye0EcAR4AJABAZgBkQGgAfYDqgEDMC40uAEDyAEA-AEBmAIEoAL-AsICBRAAGIAEmAMAiAYBkgcDMS4zoAe5EQ&amp;sclient=gws-wiz-serp\" id=\"searchLink\">\n",
      "    구글 검색 정보\n",
      "   </a>\n",
      "  </div>\n",
      "  <footer>\n",
      "   <p>\n",
      "    저작권 © 2024 내 웹사이트. 모든 권리 보유.\n",
      "   </p>\n",
      "  </footer>\n",
      " </body>\n",
      "</html>\n",
      "\n"
     ]
    }
   ],
   "source": [
    "# soup.prettify() 하지 말고 반드시 print해서 볼것\n",
    "print(soup.prettify())"
   ]
  },
  {
   "cell_type": "markdown",
   "id": "e51b6c42",
   "metadata": {},
   "source": [
    "### 태그 찾기"
   ]
  },
  {
   "cell_type": "markdown",
   "id": "98818cd9-578f-4482-a023-9a6dedf6825b",
   "metadata": {},
   "source": [
    "* 계층구조에 맞게 찾기"
   ]
  },
  {
   "cell_type": "code",
   "execution_count": 4,
   "id": "1c2e70e9-d5c6-44a4-a829-b304925f0ce5",
   "metadata": {},
   "outputs": [
    {
     "data": {
      "text/plain": [
       "<html>\n",
       "<head>\n",
       "<title>내 웹사이트 홈페이지</title>\n",
       "<link href=\"style.css\" rel=\"stylesheet\" type=\"text/css\"/>\n",
       "</head>\n",
       "<body>\n",
       "<h1>안녕하세요, 환영합니다!</h1>\n",
       "<p id=\"intro\">\n",
       "        이 웹사이트는 BeautifulSoup 학습을 위한 예제 페이지입니다. \n",
       "        여기에는 여러 가지 HTML 기본 태그들과 속성 및 스타일을 포함되어 있습니다.\n",
       "    </p>\n",
       "<div class=\"section\" id=\"section1\">\n",
       "<h2>섹션 1: BeautifulSoup 기초</h2>\n",
       "<p>BeautifulSoup는 웹 페이지에서 데이터를 추출하기 위한 파이썬 라이브러리입니다.</p>\n",
       "<ul>\n",
       "<li>HTML 파싱</li>\n",
       "<li>태그 검색</li>\n",
       "<li>데이터 추출</li>\n",
       "</ul>\n",
       "</div>\n",
       "<div class=\"section\" id=\"section2\">\n",
       "<h2>섹션 2: 고급 사용법</h2>\n",
       "<p>고급 사용법을 통해 더 효과적으로 데이터를 다룰 수 있습니다.</p>\n",
       "<a class=\"link\" href=\"https://www.google.com/search?q=BeautifulSoup+%EA%B8%B0%EC%B4%88&amp;sca_esv=a0ce93ff23945b86&amp;sxsrf=ADLYWIKD3OxW3MwhB0VF77lOtSq2uhVw1w%3A1716417838022&amp;ei=LnVOZoiAAdTW1e8P16WBsAY&amp;ved=0ahUKEwiIz5XcqqKGAxVUa_UHHddSAGYQ4dUDCBA&amp;uact=5&amp;oq=BeautifulSoup+%EA%B8%B0%EC%B4%88&amp;gs_lp=Egxnd3Mtd2l6LXNlcnAiFEJlYXV0aWZ1bFNvdXAg6riw7LSIMgQQIxgnMggQABiABBiiBDIIEAAYgAQYogQyCBAAGIAEGKIESLbvBFDw6QRYye0EcAR4AJABAZgBkQGgAfYDqgEDMC40uAEDyAEA-AEBmAIEoAL-AsICBRAAGIAEmAMAiAYBkgcDMS4zoAe5EQ&amp;sclient=gws-wiz-serp\" id=\"searchLink\">구글 검색 정보</a>\n",
       "</div>\n",
       "<footer>\n",
       "<p>저작권 © 2024 내 웹사이트. 모든 권리 보유.</p>\n",
       "</footer>\n",
       "</body>\n",
       "</html>"
      ]
     },
     "execution_count": 4,
     "metadata": {},
     "output_type": "execute_result"
    }
   ],
   "source": [
    "soup.html"
   ]
  },
  {
   "cell_type": "markdown",
   "id": "2225fd3d-c2dc-4ad2-a6a6-3a2eaa231aa0",
   "metadata": {},
   "source": [
    "* 상위요소.하위요소: 모든 하위요소중 첫번째 요소"
   ]
  },
  {
   "cell_type": "code",
   "execution_count": 5,
   "id": "0c1d6dd8-5cda-4259-ad92-f005fe995ec1",
   "metadata": {},
   "outputs": [
    {
     "data": {
      "text/plain": [
       "<head>\n",
       "<title>내 웹사이트 홈페이지</title>\n",
       "<link href=\"style.css\" rel=\"stylesheet\" type=\"text/css\"/>\n",
       "</head>"
      ]
     },
     "execution_count": 5,
     "metadata": {},
     "output_type": "execute_result"
    }
   ],
   "source": [
    "soup.head"
   ]
  },
  {
   "cell_type": "code",
   "execution_count": 6,
   "id": "4e0db5dd-4c2d-4e3d-889f-c058d93e72bc",
   "metadata": {},
   "outputs": [
    {
     "data": {
      "text/plain": [
       "<title>내 웹사이트 홈페이지</title>"
      ]
     },
     "execution_count": 6,
     "metadata": {},
     "output_type": "execute_result"
    }
   ],
   "source": [
    "soup.head.title"
   ]
  },
  {
   "cell_type": "code",
   "execution_count": 7,
   "id": "ab562818-489e-45c6-8fff-c2f2d8df33e8",
   "metadata": {},
   "outputs": [
    {
     "data": {
      "text/plain": [
       "<body>\n",
       "<h1>안녕하세요, 환영합니다!</h1>\n",
       "<p id=\"intro\">\n",
       "        이 웹사이트는 BeautifulSoup 학습을 위한 예제 페이지입니다. \n",
       "        여기에는 여러 가지 HTML 기본 태그들과 속성 및 스타일을 포함되어 있습니다.\n",
       "    </p>\n",
       "<div class=\"section\" id=\"section1\">\n",
       "<h2>섹션 1: BeautifulSoup 기초</h2>\n",
       "<p>BeautifulSoup는 웹 페이지에서 데이터를 추출하기 위한 파이썬 라이브러리입니다.</p>\n",
       "<ul>\n",
       "<li>HTML 파싱</li>\n",
       "<li>태그 검색</li>\n",
       "<li>데이터 추출</li>\n",
       "</ul>\n",
       "</div>\n",
       "<div class=\"section\" id=\"section2\">\n",
       "<h2>섹션 2: 고급 사용법</h2>\n",
       "<p>고급 사용법을 통해 더 효과적으로 데이터를 다룰 수 있습니다.</p>\n",
       "<a class=\"link\" href=\"https://www.google.com/search?q=BeautifulSoup+%EA%B8%B0%EC%B4%88&amp;sca_esv=a0ce93ff23945b86&amp;sxsrf=ADLYWIKD3OxW3MwhB0VF77lOtSq2uhVw1w%3A1716417838022&amp;ei=LnVOZoiAAdTW1e8P16WBsAY&amp;ved=0ahUKEwiIz5XcqqKGAxVUa_UHHddSAGYQ4dUDCBA&amp;uact=5&amp;oq=BeautifulSoup+%EA%B8%B0%EC%B4%88&amp;gs_lp=Egxnd3Mtd2l6LXNlcnAiFEJlYXV0aWZ1bFNvdXAg6riw7LSIMgQQIxgnMggQABiABBiiBDIIEAAYgAQYogQyCBAAGIAEGKIESLbvBFDw6QRYye0EcAR4AJABAZgBkQGgAfYDqgEDMC40uAEDyAEA-AEBmAIEoAL-AsICBRAAGIAEmAMAiAYBkgcDMS4zoAe5EQ&amp;sclient=gws-wiz-serp\" id=\"searchLink\">구글 검색 정보</a>\n",
       "</div>\n",
       "<footer>\n",
       "<p>저작권 © 2024 내 웹사이트. 모든 권리 보유.</p>\n",
       "</footer>\n",
       "</body>"
      ]
     },
     "execution_count": 7,
     "metadata": {},
     "output_type": "execute_result"
    }
   ],
   "source": [
    "soup.body"
   ]
  },
  {
   "cell_type": "code",
   "execution_count": 8,
   "id": "c86b3e5c-26c6-45c5-bd3b-f44abb639228",
   "metadata": {},
   "outputs": [
    {
     "data": {
      "text/plain": [
       "<h1>안녕하세요, 환영합니다!</h1>"
      ]
     },
     "execution_count": 8,
     "metadata": {},
     "output_type": "execute_result"
    }
   ],
   "source": [
    "soup.body.h1"
   ]
  },
  {
   "cell_type": "code",
   "execution_count": 9,
   "id": "2d2e1f0f-d3ba-4237-9e9c-0a84d0469e5e",
   "metadata": {},
   "outputs": [
    {
     "data": {
      "text/plain": [
       "<p id=\"intro\">\n",
       "        이 웹사이트는 BeautifulSoup 학습을 위한 예제 페이지입니다. \n",
       "        여기에는 여러 가지 HTML 기본 태그들과 속성 및 스타일을 포함되어 있습니다.\n",
       "    </p>"
      ]
     },
     "execution_count": 9,
     "metadata": {},
     "output_type": "execute_result"
    }
   ],
   "source": [
    "soup.body.p"
   ]
  },
  {
   "cell_type": "markdown",
   "id": "ca954df9-5cb9-42d6-8615-a8f1cb9c6f89",
   "metadata": {},
   "source": [
    "* 가장 첫번째 요소 찾기"
   ]
  },
  {
   "cell_type": "code",
   "execution_count": 10,
   "id": "dd81aa20-872b-4287-93bb-1e64d2ad7c4b",
   "metadata": {},
   "outputs": [
    {
     "data": {
      "text/plain": [
       "<p id=\"intro\">\n",
       "        이 웹사이트는 BeautifulSoup 학습을 위한 예제 페이지입니다. \n",
       "        여기에는 여러 가지 HTML 기본 태그들과 속성 및 스타일을 포함되어 있습니다.\n",
       "    </p>"
      ]
     },
     "execution_count": 10,
     "metadata": {},
     "output_type": "execute_result"
    }
   ],
   "source": [
    "soup.p"
   ]
  },
  {
   "cell_type": "code",
   "execution_count": 11,
   "id": "96c87512-580d-4d54-9703-a459f929b5d5",
   "metadata": {},
   "outputs": [
    {
     "data": {
      "text/plain": [
       "<div class=\"section\" id=\"section1\">\n",
       "<h2>섹션 1: BeautifulSoup 기초</h2>\n",
       "<p>BeautifulSoup는 웹 페이지에서 데이터를 추출하기 위한 파이썬 라이브러리입니다.</p>\n",
       "<ul>\n",
       "<li>HTML 파싱</li>\n",
       "<li>태그 검색</li>\n",
       "<li>데이터 추출</li>\n",
       "</ul>\n",
       "</div>"
      ]
     },
     "execution_count": 11,
     "metadata": {},
     "output_type": "execute_result"
    }
   ],
   "source": [
    "soup.div"
   ]
  },
  {
   "cell_type": "code",
   "execution_count": 12,
   "id": "8cf9f486-90f0-4f6f-b224-3187acf42691",
   "metadata": {},
   "outputs": [
    {
     "data": {
      "text/plain": [
       "<li>HTML 파싱</li>"
      ]
     },
     "execution_count": 12,
     "metadata": {},
     "output_type": "execute_result"
    }
   ],
   "source": [
    "soup.li"
   ]
  },
  {
   "cell_type": "markdown",
   "id": "35044366-c8c4-40bf-a72d-d7c6ca5656d8",
   "metadata": {},
   "source": [
    "# 파일에서 html 로드하기"
   ]
  },
  {
   "cell_type": "code",
   "execution_count": 13,
   "id": "d5d1cd96-81e0-4ceb-8d12-f6d608e61c37",
   "metadata": {},
   "outputs": [],
   "source": [
    "# 파일로부터 HTML 읽기\n",
    "with open('1_basic.html', 'r', encoding='utf-8') as file:\n",
    "    html_content = file.read()"
   ]
  },
  {
   "cell_type": "code",
   "execution_count": 14,
   "id": "8b7cc01b-8a5f-4fa0-af34-e9e43d05bb5b",
   "metadata": {},
   "outputs": [
    {
     "name": "stdout",
     "output_type": "stream",
     "text": [
      "<!DOCTYPE html>\n",
      "<html>\n",
      " <head>\n",
      "  <title>\n",
      "   내 웹사이트 홈페이지\n",
      "  </title>\n",
      "  <link href=\"style.css\" rel=\"stylesheet\" type=\"text/css\"/>\n",
      " </head>\n",
      " <body>\n",
      "  <h1>\n",
      "   안녕하세요, 환영합니다!\n",
      "  </h1>\n",
      "  <p id=\"intro\">\n",
      "   이 웹사이트는 BeautifulSoup 학습을 위한 예제 페이지입니다. \n",
      "        여기에는 여러 가지 HTML 기본 태그들과 속성 및 스타일을 포함되어 있습니다.\n",
      "  </p>\n",
      "  <div class=\"section\" id=\"section1\">\n",
      "   <h2>\n",
      "    섹션 1: BeautifulSoup 기초\n",
      "   </h2>\n",
      "   <p>\n",
      "    BeautifulSoup는 웹 페이지에서 데이터를 추출하기 위한 파이썬 라이브러리입니다.\n",
      "   </p>\n",
      "   <ul>\n",
      "    <li>\n",
      "     HTML 파싱\n",
      "    </li>\n",
      "    <li>\n",
      "     태그 검색\n",
      "    </li>\n",
      "    <li>\n",
      "     데이터 추출\n",
      "    </li>\n",
      "   </ul>\n",
      "  </div>\n",
      "  <div class=\"section\" id=\"section2\">\n",
      "   <h2>\n",
      "    섹션 2: 고급 사용법\n",
      "   </h2>\n",
      "   <p>\n",
      "    고급 사용법을 통해 더 효과적으로 데이터를 다룰 수 있습니다.\n",
      "   </p>\n",
      "   <a class=\"link\" href=\"https://www.google.com/search?q=BeautifulSoup+%EA%B8%B0%EC%B4%88&amp;sca_esv=a0ce93ff23945b86&amp;sxsrf=ADLYWIKD3OxW3MwhB0VF77lOtSq2uhVw1w%3A1716417838022&amp;ei=LnVOZoiAAdTW1e8P16WBsAY&amp;ved=0ahUKEwiIz5XcqqKGAxVUa_UHHddSAGYQ4dUDCBA&amp;uact=5&amp;oq=BeautifulSoup+%EA%B8%B0%EC%B4%88&amp;gs_lp=Egxnd3Mtd2l6LXNlcnAiFEJlYXV0aWZ1bFNvdXAg6riw7LSIMgQQIxgnMggQABiABBiiBDIIEAAYgAQYogQyCBAAGIAEGKIESLbvBFDw6QRYye0EcAR4AJABAZgBkQGgAfYDqgEDMC40uAEDyAEA-AEBmAIEoAL-AsICBRAAGIAEmAMAiAYBkgcDMS4zoAe5EQ&amp;sclient=gws-wiz-serp\" id=\"searchLink\">\n",
      "    구글 검색 정보\n",
      "   </a>\n",
      "  </div>\n",
      "  <footer>\n",
      "   <p>\n",
      "    저작권 © 2024 내 웹사이트. 모든 권리 보유.\n",
      "   </p>\n",
      "  </footer>\n",
      " </body>\n",
      "</html>\n",
      "\n"
     ]
    }
   ],
   "source": [
    "soup = BeautifulSoup(html_content, 'html.parser')\n",
    "print(soup.prettify())"
   ]
  },
  {
   "cell_type": "code",
   "execution_count": null,
   "id": "c6237f64-2896-4ae4-82d0-099edf9a1696",
   "metadata": {},
   "outputs": [],
   "source": []
  },
  {
   "cell_type": "code",
   "execution_count": null,
   "id": "ef9c7e61-4084-4349-aae2-bea36fca1cce",
   "metadata": {},
   "outputs": [],
   "source": []
  }
 ],
 "metadata": {
  "kernelspec": {
   "display_name": "Python [conda env:base] *",
   "language": "python",
   "name": "conda-base-py"
  },
  "language_info": {
   "codemirror_mode": {
    "name": "ipython",
    "version": 3
   },
   "file_extension": ".py",
   "mimetype": "text/x-python",
   "name": "python",
   "nbconvert_exporter": "python",
   "pygments_lexer": "ipython3",
   "version": "3.13.5"
  }
 },
 "nbformat": 4,
 "nbformat_minor": 5
}
