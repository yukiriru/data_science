{
 "cells": [
  {
   "cell_type": "code",
   "execution_count": 14,
   "id": "54d50df2-fffa-4d00-bd3f-5564c1dd20fe",
   "metadata": {},
   "outputs": [],
   "source": [
    "from selenium import webdriver\n",
    "from selenium.webdriver.common.by import By\n",
    "from selenium.webdriver.common.keys import Keys\n",
    "from selenium.webdriver.chrome.service import Service\n",
    "from webdriver_manager.chrome import ChromeDriverManager\n",
    "from selenium.common.exceptions import NoSuchElementException\n",
    "import time\n",
    "\n",
    "# 웹 드라이버 초기화\n",
    "driver = webdriver.Chrome(service=Service(ChromeDriverManager().install()))\n",
    "\n",
    "# 크롤링할 웹사이트 URL\n",
    "url = 'http://localhost:8080/page1.html'\n",
    "driver.get(url)\n",
    "driver.maximize_window()\n",
    "# 결과를 저장할 리스트\n",
    "books = []\n"
   ]
  },
  {
   "cell_type": "markdown",
   "id": "62794abf-d1bf-4bbc-8d44-859dac2968e4",
   "metadata": {},
   "source": [
    "* 테스트 환경 설정\n",
    "    * 파이썬이 설치 되어 있는 커맨드 창 실행(아나콘다 환경은 아나콘다 파워쉘, 파이썬 환경은 cmd)\n",
    "    * html 파일이 있는 곳으로 cd\n",
    "    * 파이썬 웹서버 구동\n",
    "    * 향후 localhost:8080/page1.html 접속되는지 확인"
   ]
  },
  {
   "cell_type": "code",
   "execution_count": 15,
   "id": "70d3587a-49f3-4203-ae44-14db23da0c65",
   "metadata": {},
   "outputs": [],
   "source": [
    "try:\n",
    "    while True:\n",
    "        # DOM이 완전히 로드되고 자바스크립트가 실행될 때까지 기다림\n",
    "        driver.implicitly_wait(3) \n",
    "\n",
    "        # 현재 페이지의 책 정보 수집\n",
    "        # find_elements: html 요소를 찾는 함수\n",
    "        # By.TAG_NAME: 태그를 기준으로 검색\n",
    "        items = driver.find_elements(By.TAG_NAME, 'li')\n",
    "        for item in items:\n",
    "            books.append(item.text)\n",
    "\n",
    "        # 'Next' 페이지 링크를 찾아 클릭\n",
    "        next_links = driver.find_elements(By.TAG_NAME, 'a')\n",
    "        if next_links:\n",
    "            next_links[0].click() # 해당 링크를 실제로 클릭하는 효과\n",
    "        else:\n",
    "            break  # 'Next' 페이지 링크가 없으면 종료\n",
    "except Exception as e:\n",
    "    print(f\"An error occurred: {e}\")\n",
    "finally:\n",
    "    # 드라이버 종료\n",
    "    driver.close()"
   ]
  },
  {
   "cell_type": "code",
   "execution_count": 16,
   "id": "7c0ae4df-3ac9-48bb-a7c0-fde7662a4eee",
   "metadata": {},
   "outputs": [
    {
     "name": "stdout",
     "output_type": "stream",
     "text": [
      "Book 7 - $30\n",
      "Book 8 - $35\n"
     ]
    }
   ],
   "source": [
    "# 수집한 데이터 출력\n",
    "for book in books:\n",
    "    print(book)"
   ]
  },
  {
   "cell_type": "code",
   "execution_count": null,
   "id": "6febeeb9-c9cc-4ec5-ae36-1a2e0398a1a6",
   "metadata": {},
   "outputs": [],
   "source": []
  },
  {
   "cell_type": "code",
   "execution_count": null,
   "id": "41c7bde6-6446-45e5-9835-87fd48389327",
   "metadata": {},
   "outputs": [],
   "source": []
  }
 ],
 "metadata": {
  "kernelspec": {
   "display_name": "Python [conda env:base] *",
   "language": "python",
   "name": "conda-base-py"
  },
  "language_info": {
   "codemirror_mode": {
    "name": "ipython",
    "version": 3
   },
   "file_extension": ".py",
   "mimetype": "text/x-python",
   "name": "python",
   "nbconvert_exporter": "python",
   "pygments_lexer": "ipython3",
   "version": "3.13.5"
  }
 },
 "nbformat": 4,
 "nbformat_minor": 5
}
