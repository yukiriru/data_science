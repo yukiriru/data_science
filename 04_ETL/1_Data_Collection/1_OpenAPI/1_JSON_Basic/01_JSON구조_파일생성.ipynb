{
 "cells": [
  {
   "cell_type": "markdown",
   "id": "de9409d6-d522-4825-aab5-eb55074ad757",
   "metadata": {},
   "source": [
    "# JSON 복습"
   ]
  },
  {
   "cell_type": "markdown",
   "id": "20c227a8-1dee-4867-b269-4abcce8e4507",
   "metadata": {},
   "source": [
    "* JSON 타입은 OPEN API의 기본 포맷이고 Python의 dict 타입과 일치한다."
   ]
  },
  {
   "cell_type": "markdown",
   "id": "0d340531-3fe8-4a4a-8a81-4b886de35388",
   "metadata": {},
   "source": [
    "## 간단한 메세지 정보를 JSON 타입으로 작성"
   ]
  },
  {
   "cell_type": "markdown",
   "id": "42c3c739-e718-408f-8942-a2abd5721eb6",
   "metadata": {},
   "source": [
    "* value에 접근하기"
   ]
  },
  {
   "cell_type": "raw",
   "id": "1d3546c2-0a21-43a8-9767-189c492d042b",
   "metadata": {},
   "source": [
    "* 중첩된 dict 정의\n",
    "nested_dic={\n",
    "    '상위키':{\n",
    "        // 하위 딕셔너리\n",
    "    }\n",
    "}\n",
    "하위 딕셔너리 접근: 하위 딕셔너리는 '상위키'의 value\n",
    "nested_dic['상위키']"
   ]
  },
  {
   "cell_type": "code",
   "execution_count": 1,
   "id": "7fb9ccdc-5165-46ee-9ce6-d5ff764bd3a8",
   "metadata": {
    "scrolled": true
   },
   "outputs": [
    {
     "data": {
      "text/plain": [
       "{'date': '20240729',\n",
       " 'to': '김혜민',\n",
       " 'from': '남효정',\n",
       " 'heading': '주말에 뭐해요?',\n",
       " 'body': '주말에 영화시청후 치맥?'}"
      ]
     },
     "execution_count": 1,
     "metadata": {},
     "output_type": "execute_result"
    }
   ],
   "source": [
    "basic_message = {\n",
    "    'date':'20240729',\n",
    "    'to':'김혜민',\n",
    "    'from':'남효정',\n",
    "    'heading': '주말에 뭐해요?',\n",
    "    'body': '주말에 영화시청후 치맥?'\n",
    "}\n",
    "basic_message"
   ]
  },
  {
   "cell_type": "code",
   "execution_count": 2,
   "id": "46d8b31d-6e8f-48e2-a087-3d8a657339eb",
   "metadata": {},
   "outputs": [
    {
     "data": {
      "text/plain": [
       "'김혜민'"
      ]
     },
     "execution_count": 2,
     "metadata": {},
     "output_type": "execute_result"
    }
   ],
   "source": [
    "basic_message['to']"
   ]
  },
  {
   "cell_type": "markdown",
   "id": "111e1358-c970-421d-ad6b-db1b4a5a8979",
   "metadata": {},
   "source": [
    "* 하위 딕셔너리의 값에 대한 접근"
   ]
  },
  {
   "cell_type": "code",
   "execution_count": 14,
   "id": "3bc99125-f271-4224-b868-c41c79d90bdb",
   "metadata": {},
   "outputs": [
    {
     "data": {
      "text/plain": [
       "{'records': [{'date': 20240320,\n",
       "   'method': 'gmail',\n",
       "   'to': '배은지',\n",
       "   'from': '엄현빈',\n",
       "   'heading': '주말에 뭐해요?',\n",
       "   'body': '주말에 영화한편?'},\n",
       "  {'date': 20250828,\n",
       "   'method': 'gmail',\n",
       "   'to': '장윤진',\n",
       "   'from': '김민기',\n",
       "   'heading': '수고하셨습니다.',\n",
       "   'body': '내마음속의 일등은 우리팀입니다.'}]}"
      ]
     },
     "execution_count": 14,
     "metadata": {},
     "output_type": "execute_result"
    }
   ],
   "source": [
    "class_message = {\n",
    "    \"records\":[\n",
    "        {\n",
    "        \"date\":20240320,\n",
    "        \"method\":\"gmail\",\n",
    "        \"to\":\"배은지\",\n",
    "        \"from\":\"엄현빈\",\n",
    "        \"heading\":\"주말에 뭐해요?\",\n",
    "        \"body\":\"주말에 영화한편?\"\n",
    "        },\n",
    "        {\n",
    "        \"date\":20250828,\n",
    "        \"method\":\"gmail\",\n",
    "        \"to\":\"장윤진\",\n",
    "        \"from\":\"김민기\",\n",
    "        \"heading\":\"수고하셨습니다.\",\n",
    "        \"body\":\"내마음속의 일등은 우리팀입니다.\"\n",
    "        }\n",
    "    ]\n",
    "}\n",
    "class_message"
   ]
  },
  {
   "cell_type": "code",
   "execution_count": 15,
   "id": "fa10182a-c228-4197-89f9-0b4bbd17b07a",
   "metadata": {},
   "outputs": [
    {
     "data": {
      "text/plain": [
       "[{'date': 20240320,\n",
       "  'method': 'gmail',\n",
       "  'to': '배은지',\n",
       "  'from': '엄현빈',\n",
       "  'heading': '주말에 뭐해요?',\n",
       "  'body': '주말에 영화한편?'},\n",
       " {'date': 20250828,\n",
       "  'method': 'gmail',\n",
       "  'to': '장윤진',\n",
       "  'from': '김민기',\n",
       "  'heading': '수고하셨습니다.',\n",
       "  'body': '내마음속의 일등은 우리팀입니다.'}]"
      ]
     },
     "execution_count": 15,
     "metadata": {},
     "output_type": "execute_result"
    }
   ],
   "source": [
    "class_message['records']"
   ]
  },
  {
   "cell_type": "code",
   "execution_count": 16,
   "id": "52f61dbb-4274-4ce2-a2d0-81a6c4d047ae",
   "metadata": {},
   "outputs": [
    {
     "data": {
      "text/plain": [
       "list"
      ]
     },
     "execution_count": 16,
     "metadata": {},
     "output_type": "execute_result"
    }
   ],
   "source": [
    "type(class_message['records'])"
   ]
  },
  {
   "cell_type": "code",
   "execution_count": 18,
   "id": "1f6c5fdc-486e-4d7e-adf2-6e3dbe84d002",
   "metadata": {},
   "outputs": [
    {
     "data": {
      "text/plain": [
       "{'date': 20250828,\n",
       " 'method': 'gmail',\n",
       " 'to': '장윤진',\n",
       " 'from': '김민기',\n",
       " 'heading': '수고하셨습니다.',\n",
       " 'body': '내마음속의 일등은 우리팀입니다.'}"
      ]
     },
     "execution_count": 18,
     "metadata": {},
     "output_type": "execute_result"
    }
   ],
   "source": [
    "class_message['records'][1]"
   ]
  },
  {
   "cell_type": "raw",
   "id": "4619e85b-b84b-47bc-941b-68370a248655",
   "metadata": {},
   "source": [
    "김민기씨가 보낸 메세지 내용 \"내마음속의 일등은 우리팀입니다.\" 조회"
   ]
  },
  {
   "cell_type": "code",
   "execution_count": 19,
   "id": "69483217-9bb3-4427-ab47-db00a408ecd4",
   "metadata": {},
   "outputs": [
    {
     "data": {
      "text/plain": [
       "'내마음속의 일등은 우리팀입니다.'"
      ]
     },
     "execution_count": 19,
     "metadata": {},
     "output_type": "execute_result"
    }
   ],
   "source": [
    "class_message['records'][1]['body']"
   ]
  },
  {
   "cell_type": "markdown",
   "id": "43e1f321-32b9-4b13-8f09-87c129ff2326",
   "metadata": {},
   "source": [
    "# 딕셔너리 재구성"
   ]
  },
  {
   "cell_type": "markdown",
   "id": "cd5677ce-e501-4358-89a2-06b106344b7b",
   "metadata": {},
   "source": [
    "* 아래 딕셔너리 값을 처음부터 구성하기"
   ]
  },
  {
   "cell_type": "raw",
   "id": "00c6ac91-7d59-43da-a231-31226b60bbde",
   "metadata": {},
   "source": [
    " {\"message\":{\n",
    "        \"date\":20240320,\n",
    "        \"method\":\"gmail\",\n",
    "        \"to\":\"배은지\",\n",
    "        \"from\":\"엄현빈\",\n",
    "        \"heading\":\"주말에 뭐해요?\",\n",
    "        \"body\":\"주말에 영화한편?\"\n",
    "    }\n",
    "}\n"
   ]
  },
  {
   "cell_type": "markdown",
   "id": "9eaa8e46-3a1e-4fd3-bca4-b9622e3ec7f5",
   "metadata": {},
   "source": [
    "* Empty 딕셔너리 생성"
   ]
  },
  {
   "cell_type": "code",
   "execution_count": 6,
   "id": "8946a52c-ead1-4c14-b645-daebdd9ddff7",
   "metadata": {},
   "outputs": [
    {
     "data": {
      "text/plain": [
       "{}"
      ]
     },
     "execution_count": 6,
     "metadata": {},
     "output_type": "execute_result"
    }
   ],
   "source": [
    "my_message={}\n",
    "my_message"
   ]
  },
  {
   "cell_type": "code",
   "execution_count": 8,
   "id": "9ef477a5-786c-4335-949b-07f0b11c9f03",
   "metadata": {},
   "outputs": [
    {
     "data": {
      "text/plain": [
       "{'message': {}}"
      ]
     },
     "execution_count": 8,
     "metadata": {},
     "output_type": "execute_result"
    }
   ],
   "source": [
    "my_message['message']={}\n",
    "my_message"
   ]
  },
  {
   "cell_type": "code",
   "execution_count": 10,
   "id": "3ea4abff-2c3f-444f-a680-45378e1b39e9",
   "metadata": {},
   "outputs": [
    {
     "data": {
      "text/plain": [
       "{'message': {'date': 20240320}}"
      ]
     },
     "execution_count": 10,
     "metadata": {},
     "output_type": "execute_result"
    }
   ],
   "source": [
    "my_message['message']['date']=20240320\n",
    "my_message"
   ]
  },
  {
   "cell_type": "code",
   "execution_count": 11,
   "id": "81bc67d6-d2dc-43a9-bc0f-292c9e7e5d80",
   "metadata": {},
   "outputs": [
    {
     "data": {
      "text/plain": [
       "{'message': {'date': 20240320, 'method': 'gmail'}}"
      ]
     },
     "execution_count": 11,
     "metadata": {},
     "output_type": "execute_result"
    }
   ],
   "source": [
    "my_message['message']['method']=\"gmail\"\n",
    "my_message"
   ]
  },
  {
   "cell_type": "code",
   "execution_count": 12,
   "id": "96182a45-e11f-4203-a44a-fd20a9c6c303",
   "metadata": {},
   "outputs": [
    {
     "data": {
      "text/plain": [
       "{'message': {'date': 20240320,\n",
       "  'method': 'gmail',\n",
       "  'to': '배은지',\n",
       "  'from': '엄현빈',\n",
       "  'heading': '주말에 뭐해요?',\n",
       "  'body': '주말에 영화한편?'}}"
      ]
     },
     "execution_count": 12,
     "metadata": {},
     "output_type": "execute_result"
    }
   ],
   "source": [
    "my_message['message']['to']=\"배은지\"\n",
    "my_message['message']['from']=\"엄현빈\"\n",
    "my_message['message']['heading']=\"주말에 뭐해요?\"\n",
    "my_message['message']['body']=\"주말에 영화한편?\"\n",
    "my_message"
   ]
  },
  {
   "cell_type": "markdown",
   "id": "88692102-b30f-4a8c-9355-6d692f9974f9",
   "metadata": {},
   "source": [
    "# JSON 파일 생성"
   ]
  },
  {
   "cell_type": "code",
   "execution_count": 20,
   "id": "ef7dc038-bd9e-4d9c-bd61-c5c2929ebd63",
   "metadata": {},
   "outputs": [],
   "source": [
    "import json"
   ]
  },
  {
   "cell_type": "code",
   "execution_count": 21,
   "id": "64184fa3-49d0-426d-95eb-f615e300408b",
   "metadata": {},
   "outputs": [
    {
     "name": "stdout",
     "output_type": "stream",
     "text": [
      "JSON 파일 생성 완료.\n"
     ]
    }
   ],
   "source": [
    "with open('k_message.json','w', encoding='utf8') as outfile:\n",
    "    result = json.dumps(my_message, indent=4, ensure_ascii=False)\n",
    "    outfile.write(result)\n",
    "    print(\"JSON 파일 생성 완료.\")"
   ]
  },
  {
   "cell_type": "code",
   "execution_count": 24,
   "id": "dc877a8d-ef10-4f3d-ba7c-deac3b6b1bf6",
   "metadata": {
    "scrolled": true
   },
   "outputs": [
    {
     "name": "stdout",
     "output_type": "stream",
     "text": [
      " C 드라이브의 볼륨: Windows10\n",
      " 볼륨 일련 번호: 0601-669D\n",
      "\n",
      " C:\\Project\\3_DataScience\\04_ETL\\1_Data_Collection\\1_OpenAPI\\1_JSON_Basic 디렉터리\n",
      "\n",
      "2025-08-28  오후 02:56    <DIR>          .\n",
      "2025-08-28  오후 02:56    <DIR>          ..\n",
      "2025-08-28  오후 01:51    <DIR>          .ipynb_checkpoints\n",
      "2025-08-28  오후 02:56            12,965 01_JSON구조_파일생성.ipynb\n",
      "2025-08-28  오후 02:56               546 class_message.json\n",
      "2025-08-28  오후 02:54               229 k_message.json\n",
      "2025-08-28  오후 01:52           929,480 기상청41_단기예보 조회서비스_오픈API활용가이드_241128.zip\n",
      "               4개 파일             943,220 바이트\n",
      "               3개 디렉터리  135,868,641,280 바이트 남음\n"
     ]
    }
   ],
   "source": [
    "!dir"
   ]
  },
  {
   "cell_type": "code",
   "execution_count": 23,
   "id": "883a7910-87da-4f2b-9db6-b9cdc3316932",
   "metadata": {},
   "outputs": [
    {
     "name": "stdout",
     "output_type": "stream",
     "text": [
      "JSON 파일 생성 완료.\n"
     ]
    }
   ],
   "source": [
    "with open('class_message.json','w', encoding='utf8') as outfile:\n",
    "    result = json.dumps(class_message, indent=4, ensure_ascii=False)\n",
    "    outfile.write(result)\n",
    "    print(\"JSON 파일 생성 완료.\")"
   ]
  },
  {
   "cell_type": "code",
   "execution_count": null,
   "id": "86c8fead-255c-4307-80e1-3d2136167e24",
   "metadata": {},
   "outputs": [],
   "source": []
  }
 ],
 "metadata": {
  "kernelspec": {
   "display_name": "Python [conda env:base] *",
   "language": "python",
   "name": "conda-base-py"
  },
  "language_info": {
   "codemirror_mode": {
    "name": "ipython",
    "version": 3
   },
   "file_extension": ".py",
   "mimetype": "text/x-python",
   "name": "python",
   "nbconvert_exporter": "python",
   "pygments_lexer": "ipython3",
   "version": "3.13.5"
  }
 },
 "nbformat": 4,
 "nbformat_minor": 5
}
