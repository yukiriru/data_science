{
 "cells": [
  {
   "cell_type": "markdown",
   "id": "2ae98f3b-85d1-42d9-baae-03f51fd20bf2",
   "metadata": {},
   "source": [
    "# 문제"
   ]
  },
  {
   "cell_type": "markdown",
   "id": "dd30eb32-c429-4a0f-ac43-141ff3c1a7d6",
   "metadata": {},
   "source": [
    "* 주어진 JSON 파일을 데이터 프레임으로 전환해 보세요"
   ]
  },
  {
   "cell_type": "code",
   "execution_count": 1,
   "id": "fb4f14a0-bda7-45b2-b903-1f22cde171a8",
   "metadata": {},
   "outputs": [
    {
     "data": {
      "text/plain": [
       "{'response': {'body': {'student_list': [{'age': 46,\n",
       "     'major': '경영학',\n",
       "     'name': '영호',\n",
       "     'sex': '남'},\n",
       "    {'age': 32, 'major': '정치외교', 'name': '세중', 'sex': '남'},\n",
       "    {'age': 30, 'major': '신문방송학', 'name': '치우', 'sex': '남'}]}}}"
      ]
     },
     "execution_count": 1,
     "metadata": {},
     "output_type": "execute_result"
    }
   ],
   "source": [
    "{ \"response\": {\"body\":  { \"student_list\": [ {\"age\": 46, \"major\": \"경영학\", \"name\": \"영호\",\"sex\": \"남\" }, { \"age\": 32, \"major\": \"정치외교\", \"name\": \"세중\", \"sex\": \"남\" }, {    \"age\": 30, \"major\": \"신문방송학\", \"name\": \"치우\",  \"sex\": \"남\"  }  ]        }    }}"
   ]
  },
  {
   "cell_type": "code",
   "execution_count": 4,
   "id": "0c39c736-7e5c-4cab-aac7-29170c309d80",
   "metadata": {},
   "outputs": [],
   "source": [
    "import json"
   ]
  },
  {
   "cell_type": "code",
   "execution_count": 5,
   "id": "44fcc271-c9db-4ec3-9414-e42ffdc5ac43",
   "metadata": {},
   "outputs": [],
   "source": [
    "def open_json(file_name, encoding):\n",
    "    with open(file_name, encoding=encoding) as json_file: \n",
    "        json_object = json.load(json_file)\n",
    "        json_string = json.dumps(json_object)\n",
    "        json_data = json.loads(json_string)\n",
    "    return json_data\n"
   ]
  },
  {
   "cell_type": "code",
   "execution_count": 6,
   "id": "87544aa2-9dd1-485b-9c4f-3e0c8d1d0f86",
   "metadata": {
    "scrolled": true
   },
   "outputs": [
    {
     "data": {
      "text/plain": [
       "{'response': {'body': {'student_list': [{'age': 46,\n",
       "     'major': '경영학',\n",
       "     'name': '영호',\n",
       "     'sex': '남'},\n",
       "    {'age': 32, 'major': '정치외교', 'name': '세중', 'sex': '남'},\n",
       "    {'age': 30, 'major': '신문방송학', 'name': '치우', 'sex': '남'}]}}}"
      ]
     },
     "execution_count": 6,
     "metadata": {},
     "output_type": "execute_result"
    }
   ],
   "source": [
    "json_data = open_json('student_info2.json','cp949')\n",
    "json_data"
   ]
  },
  {
   "cell_type": "markdown",
   "id": "47c950d7-6893-4469-904c-21fdf4719813",
   "metadata": {},
   "source": [
    "# JSON 구조 파악"
   ]
  },
  {
   "cell_type": "markdown",
   "id": "0e0932fc-6ace-4d0b-8bda-0c8bc85d065c",
   "metadata": {},
   "source": [
    "* 원본"
   ]
  },
  {
   "cell_type": "raw",
   "id": "f3874b43-fcc0-4278-b5bd-2ceb6cd60700",
   "metadata": {},
   "source": [
    "{ \"response\": {\"body\":  { \"student_list\": [ {\"age\": 46, \"major\": \"경영학\", \"name\": \"영호\",\"sex\": \"남\" }, { \"age\": 32, \"major\": \"정치외교\", \"name\": \"세중\", \"sex\": \"남\" }, {    \"age\": 30, \"major\": \"신문방송학\", \"name\": \"치우\",  \"sex\": \"남\"  }  ]        }    }}"
   ]
  },
  {
   "cell_type": "markdown",
   "id": "7d76dcfe-96d6-45e4-ab92-c6bdccf7847a",
   "metadata": {},
   "source": [
    "* 구조 파악 후"
   ]
  },
  {
   "cell_type": "raw",
   "id": "e2e9e6e6-03f0-4d1c-81d7-67385056903b",
   "metadata": {},
   "source": [
    "{\n",
    "\t\"response\": {\n",
    "\t\t\"body\":  {\n",
    "\t\t\t\"student_list\": [\n",
    "\t\t\t\t{\"age\": 46, \"major\": \"경영학\", \"name\": \"영호\",\"sex\": \"남\" }, \n",
    "\t\t\t\t{\"age\": 32, \"major\": \"정치외교\", \"name\": \"세중\", \"sex\": \"남\" }, \n",
    "\t\t\t\t{\"age\": 30, \"major\": \"신문방송학\", \"name\": \"치우\",  \"sex\": \"남\"  }\n",
    "\t\t\t]        \n",
    "\t}\n",
    "}\n"
   ]
  },
  {
   "cell_type": "markdown",
   "id": "c905f5e4-d720-4c98-b8f0-9f8e0a0d5ff8",
   "metadata": {},
   "source": [
    "* DataFrame 전환을 위한 데이터 조회"
   ]
  },
  {
   "cell_type": "code",
   "execution_count": 8,
   "id": "487ba46a-5906-41f4-bb91-8abe822f236a",
   "metadata": {},
   "outputs": [
    {
     "data": {
      "text/plain": [
       "[{'age': 46, 'major': '경영학', 'name': '영호', 'sex': '남'},\n",
       " {'age': 32, 'major': '정치외교', 'name': '세중', 'sex': '남'},\n",
       " {'age': 30, 'major': '신문방송학', 'name': '치우', 'sex': '남'}]"
      ]
     },
     "execution_count": 8,
     "metadata": {},
     "output_type": "execute_result"
    }
   ],
   "source": [
    "json_data['response']['body']['student_list']"
   ]
  },
  {
   "cell_type": "code",
   "execution_count": null,
   "id": "26ed8cff-e959-4398-a10d-27c4c22bee6a",
   "metadata": {},
   "outputs": [],
   "source": []
  }
 ],
 "metadata": {
  "kernelspec": {
   "display_name": "Python [conda env:base] *",
   "language": "python",
   "name": "conda-base-py"
  },
  "language_info": {
   "codemirror_mode": {
    "name": "ipython",
    "version": 3
   },
   "file_extension": ".py",
   "mimetype": "text/x-python",
   "name": "python",
   "nbconvert_exporter": "python",
   "pygments_lexer": "ipython3",
   "version": "3.13.5"
  }
 },
 "nbformat": 4,
 "nbformat_minor": 5
}
