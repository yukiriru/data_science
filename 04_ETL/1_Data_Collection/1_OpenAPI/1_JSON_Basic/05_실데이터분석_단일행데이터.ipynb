{
 "cells": [
  {
   "cell_type": "code",
   "execution_count": 2,
   "id": "6868f6d9-42bb-455f-ba7c-95f9f258f915",
   "metadata": {},
   "outputs": [],
   "source": [
    "import json\n",
    "import pandas as pd"
   ]
  },
  {
   "cell_type": "markdown",
   "id": "b454b1f5-92c5-430f-a4ca-0bb0e1a03eb3",
   "metadata": {},
   "source": [
    "# 원본데이터"
   ]
  },
  {
   "cell_type": "raw",
   "id": "a54ce6b2-ecc1-4e5d-99a8-feb7031f6d4a",
   "metadata": {},
   "source": [
    "{\"response\":{\"header\":{\"resultCode\":\"0000\",\"resultMsg\":\"OK\"},\"body\":{\"items\":{\"item\":{\"ed\":\"국민해외관광객\",\"edCd\":\"D\",\"natCd\":100,\"natKorNm\":\"한  국\",\"num\":2219151,\"rnum\":1,\"ym\":202406}},\"numOfRows\":10,\"pageNo\":1,\"totalCount\":1}}}"
   ]
  },
  {
   "cell_type": "markdown",
   "id": "2fd207ea-4245-47b6-ae8e-4a14d22b4d90",
   "metadata": {},
   "source": [
    "# 구조파악"
   ]
  },
  {
   "cell_type": "raw",
   "id": "c0b75f1f-329d-42b1-9dbd-fe24870a0e0e",
   "metadata": {},
   "source": [
    "{\n",
    "\t\"response\":{\n",
    "\t\"header\":\n",
    "\t\t{\"resultCode\":\"0000\",\"resultMsg\":\"OK\"},\n",
    "\t\t\"body\":\t{\n",
    "\t\t\t\t\"items\":{\n",
    "\t\t\t\t\t\"item\":{\n",
    "\t\t\t\t\t\t\"ed\":\"국민해외관광객\",\n",
    "\t\t\t\t\t\t\"edCd\":\"D\",\n",
    "\t\t\t\t\t\t\"natCd\":100,\n",
    "\t\t\t\t\t\t\"natKorNm\":\"한  국\",\n",
    "\t\t\t\t\t\t\"num\":2219151,\n",
    "\t\t\t\t\t\t\"rnum\":1,\n",
    "\t\t\t\t\t\t\"ym\":202406\n",
    "\t\t\t\t\t}\n",
    "\t\t\t\t},\n",
    "\t\t\t\t\"numOfRows\":10,\"pageNo\":1,\"totalCount\":1\n",
    "\t\t}\n",
    "\t}\n",
    "}"
   ]
  },
  {
   "cell_type": "code",
   "execution_count": 3,
   "id": "04a2c84e-2438-4d3c-9f92-5007124cf91c",
   "metadata": {},
   "outputs": [],
   "source": [
    "json_data = {\n",
    "\t\"response\":{\n",
    "\t\"header\":\n",
    "\t\t{\"resultCode\":\"0000\",\"resultMsg\":\"OK\"},\n",
    "\t\t\"body\":\t{\n",
    "\t\t\t\t\"items\":{\n",
    "\t\t\t\t\t\"item\":{\n",
    "\t\t\t\t\t\t\"ed\":\"국민해외관광객\",\n",
    "\t\t\t\t\t\t\"edCd\":\"D\",\n",
    "\t\t\t\t\t\t\"natCd\":100,\n",
    "\t\t\t\t\t\t\"natKorNm\":\"한  국\",\n",
    "\t\t\t\t\t\t\"num\":2219151,\n",
    "\t\t\t\t\t\t\"rnum\":1,\n",
    "\t\t\t\t\t\t\"ym\":202406\n",
    "\t\t\t\t\t}\n",
    "\t\t\t\t},\n",
    "\t\t\t\t\"numOfRows\":10,\"pageNo\":1,\"totalCount\":1\n",
    "\t\t}\n",
    "\t}\n",
    "}"
   ]
  },
  {
   "cell_type": "code",
   "execution_count": 4,
   "id": "d6d69cac-9b9c-4c10-9185-57a6fb2e1ca3",
   "metadata": {},
   "outputs": [
    {
     "data": {
      "text/plain": [
       "{'response': {'header': {'resultCode': '0000', 'resultMsg': 'OK'},\n",
       "  'body': {'items': {'item': {'ed': '국민해외관광객',\n",
       "     'edCd': 'D',\n",
       "     'natCd': 100,\n",
       "     'natKorNm': '한  국',\n",
       "     'num': 2219151,\n",
       "     'rnum': 1,\n",
       "     'ym': 202406}},\n",
       "   'numOfRows': 10,\n",
       "   'pageNo': 1,\n",
       "   'totalCount': 1}}}"
      ]
     },
     "execution_count": 4,
     "metadata": {},
     "output_type": "execute_result"
    }
   ],
   "source": [
    "json_data"
   ]
  },
  {
   "cell_type": "markdown",
   "id": "372dc2a2-0af8-4f5b-af6c-bd258fc409e6",
   "metadata": {},
   "source": [
    "# 데이터 프레임 전환"
   ]
  },
  {
   "cell_type": "code",
   "execution_count": 5,
   "id": "454e2ecf-5c46-4747-ae39-40f9edbab1fb",
   "metadata": {},
   "outputs": [
    {
     "data": {
      "text/plain": [
       "{'ed': '국민해외관광객',\n",
       " 'edCd': 'D',\n",
       " 'natCd': 100,\n",
       " 'natKorNm': '한  국',\n",
       " 'num': 2219151,\n",
       " 'rnum': 1,\n",
       " 'ym': 202406}"
      ]
     },
     "execution_count": 5,
     "metadata": {},
     "output_type": "execute_result"
    }
   ],
   "source": [
    "json_data['response']['body']['items']['item']"
   ]
  },
  {
   "cell_type": "code",
   "execution_count": 13,
   "id": "adc5e67a-5da5-4a8e-bb19-aea3936bdec2",
   "metadata": {
    "scrolled": true
   },
   "outputs": [],
   "source": [
    "# df = pd.DataFrame(json_data['response']['body']['items']['item'])\n",
    "# df"
   ]
  },
  {
   "cell_type": "code",
   "execution_count": 14,
   "id": "92e94fc2-c880-44a9-936e-f790d5601fb5",
   "metadata": {},
   "outputs": [],
   "source": [
    "item = json_data['response']['body']['items']['item']"
   ]
  },
  {
   "cell_type": "code",
   "execution_count": 15,
   "id": "3de08ce5-8475-4614-84ec-d54841ad8ce8",
   "metadata": {},
   "outputs": [],
   "source": [
    "item_list = [item]"
   ]
  },
  {
   "cell_type": "code",
   "execution_count": 16,
   "id": "5950f9e5-0770-4257-b65a-43f1b99b2cff",
   "metadata": {},
   "outputs": [
    {
     "data": {
      "text/html": [
       "<div>\n",
       "<style scoped>\n",
       "    .dataframe tbody tr th:only-of-type {\n",
       "        vertical-align: middle;\n",
       "    }\n",
       "\n",
       "    .dataframe tbody tr th {\n",
       "        vertical-align: top;\n",
       "    }\n",
       "\n",
       "    .dataframe thead th {\n",
       "        text-align: right;\n",
       "    }\n",
       "</style>\n",
       "<table border=\"1\" class=\"dataframe\">\n",
       "  <thead>\n",
       "    <tr style=\"text-align: right;\">\n",
       "      <th></th>\n",
       "      <th>ed</th>\n",
       "      <th>edCd</th>\n",
       "      <th>natCd</th>\n",
       "      <th>natKorNm</th>\n",
       "      <th>num</th>\n",
       "      <th>rnum</th>\n",
       "      <th>ym</th>\n",
       "    </tr>\n",
       "  </thead>\n",
       "  <tbody>\n",
       "    <tr>\n",
       "      <th>0</th>\n",
       "      <td>국민해외관광객</td>\n",
       "      <td>D</td>\n",
       "      <td>100</td>\n",
       "      <td>한  국</td>\n",
       "      <td>2219151</td>\n",
       "      <td>1</td>\n",
       "      <td>202406</td>\n",
       "    </tr>\n",
       "  </tbody>\n",
       "</table>\n",
       "</div>"
      ],
      "text/plain": [
       "        ed edCd  natCd natKorNm      num  rnum      ym\n",
       "0  국민해외관광객    D    100     한  국  2219151     1  202406"
      ]
     },
     "execution_count": 16,
     "metadata": {},
     "output_type": "execute_result"
    }
   ],
   "source": [
    "df = pd.DataFrame(item_list)\n",
    "df"
   ]
  },
  {
   "cell_type": "code",
   "execution_count": null,
   "id": "a2605c1a-a1c1-4aee-b378-c0fc9e81ec82",
   "metadata": {},
   "outputs": [],
   "source": []
  }
 ],
 "metadata": {
  "kernelspec": {
   "display_name": "Python [conda env:base] *",
   "language": "python",
   "name": "conda-base-py"
  },
  "language_info": {
   "codemirror_mode": {
    "name": "ipython",
    "version": 3
   },
   "file_extension": ".py",
   "mimetype": "text/x-python",
   "name": "python",
   "nbconvert_exporter": "python",
   "pygments_lexer": "ipython3",
   "version": "3.13.5"
  }
 },
 "nbformat": 4,
 "nbformat_minor": 5
}
