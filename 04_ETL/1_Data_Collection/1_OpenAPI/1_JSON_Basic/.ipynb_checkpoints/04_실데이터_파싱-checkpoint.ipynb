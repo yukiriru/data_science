{
 "cells": [
  {
   "cell_type": "markdown",
   "id": "3e1a8025-9979-4950-a250-42c8ce6f73c4",
   "metadata": {},
   "source": [
    "# JSON 파일 읽기"
   ]
  }
 ],
 "metadata": {
  "kernelspec": {
   "display_name": "Python 3 (ipykernel)",
   "language": "python",
   "name": "python3"
  },
  "language_info": {
   "codemirror_mode": {
    "name": "ipython",
    "version": 3
   },
   "file_extension": ".py",
   "mimetype": "text/x-python",
   "name": "python",
   "nbconvert_exporter": "python",
   "pygments_lexer": "ipython3",
   "version": "3.11.7"
  }
 },
 "nbformat": 4,
 "nbformat_minor": 5
}
