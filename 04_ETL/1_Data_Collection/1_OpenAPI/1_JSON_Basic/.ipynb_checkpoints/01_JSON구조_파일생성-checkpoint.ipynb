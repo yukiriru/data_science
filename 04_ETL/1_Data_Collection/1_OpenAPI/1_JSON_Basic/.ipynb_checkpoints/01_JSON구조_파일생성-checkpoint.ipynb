{
 "cells": [
  {
   "cell_type": "markdown",
   "id": "de9409d6-d522-4825-aab5-eb55074ad757",
   "metadata": {},
   "source": [
    "# JSON 복습"
   ]
  },
  {
   "cell_type": "markdown",
   "id": "20c227a8-1dee-4867-b269-4abcce8e4507",
   "metadata": {},
   "source": [
    "* JSON 타입은 OPEN API의 기본 포맷이고 Python의 dict 타입과 일치한다."
   ]
  },
  {
   "cell_type": "markdown",
   "id": "0d340531-3fe8-4a4a-8a81-4b886de35388",
   "metadata": {},
   "source": [
    "## 간단한 메세지 정보를 JSON 타입으로 작성"
   ]
  },
  {
   "cell_type": "markdown",
   "id": "42c3c739-e718-408f-8942-a2abd5721eb6",
   "metadata": {},
   "source": [
    "* value에 접근하기"
   ]
  },
  {
   "cell_type": "raw",
   "id": "1d3546c2-0a21-43a8-9767-189c492d042b",
   "metadata": {},
   "source": [
    "* 중첩된 dict 정의\n",
    "nested_dic={\n",
    "    '상위키':{\n",
    "        // 하위 딕셔너리\n",
    "    }\n",
    "}\n",
    "하위 딕셔너리 접근: 하위 딕셔너리는 '상위키'의 value\n",
    "nested_dic['상위키']"
   ]
  },
  {
   "cell_type": "markdown",
   "id": "111e1358-c970-421d-ad6b-db1b4a5a8979",
   "metadata": {},
   "source": [
    "* 하위 딕셔너리의 값에 대한 접근"
   ]
  },
  {
   "cell_type": "markdown",
   "id": "43e1f321-32b9-4b13-8f09-87c129ff2326",
   "metadata": {},
   "source": [
    "# 딕셔너리 재구성"
   ]
  },
  {
   "cell_type": "markdown",
   "id": "cd5677ce-e501-4358-89a2-06b106344b7b",
   "metadata": {},
   "source": [
    "* 아래 딕셔너리 값을 처음부터 구성하기"
   ]
  },
  {
   "cell_type": "raw",
   "id": "00c6ac91-7d59-43da-a231-31226b60bbde",
   "metadata": {},
   "source": [
    "{\"message\":{\n",
    "        \"date\":20240320,\n",
    "        \"method\":\"gmail\",\n",
    "        \"to\":\"배은지\",\n",
    "        \"from\":\"엄현빈\",\n",
    "        \"heading\":\"주말에 뭐해요?\",\n",
    "        \"body\":\"주말에 영화한편?\"\n",
    "    }\n",
    "}"
   ]
  },
  {
   "cell_type": "markdown",
   "id": "9eaa8e46-3a1e-4fd3-bca4-b9622e3ec7f5",
   "metadata": {},
   "source": [
    "* Empty 딕셔너리 생성"
   ]
  },
  {
   "cell_type": "markdown",
   "id": "88692102-b30f-4a8c-9355-6d692f9974f9",
   "metadata": {},
   "source": [
    "# JSON 파일 생성"
   ]
  }
 ],
 "metadata": {
  "kernelspec": {
   "display_name": "Python 3 (ipykernel)",
   "language": "python",
   "name": "python3"
  },
  "language_info": {
   "codemirror_mode": {
    "name": "ipython",
    "version": 3
   },
   "file_extension": ".py",
   "mimetype": "text/x-python",
   "name": "python",
   "nbconvert_exporter": "python",
   "pygments_lexer": "ipython3",
   "version": "3.11.7"
  }
 },
 "nbformat": 4,
 "nbformat_minor": 5
}
