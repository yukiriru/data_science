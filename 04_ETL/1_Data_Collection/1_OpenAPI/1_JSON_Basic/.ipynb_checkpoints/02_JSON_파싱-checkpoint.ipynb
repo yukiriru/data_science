{
 "cells": [
  {
   "cell_type": "markdown",
   "id": "4ebc9eea-8650-48b0-88f0-01f76177a878",
   "metadata": {},
   "source": [
    "# JSON 구조를 보며 계층 구조 별 KEY 값으로 VALUE 값을 구해본다."
   ]
  },
  {
   "cell_type": "markdown",
   "id": "5a0dfcd9-4bce-4855-bee1-aceff62ac296",
   "metadata": {},
   "source": [
    "# 중첩된 딕셔너리 값을 파싱하기"
   ]
  },
  {
   "cell_type": "markdown",
   "id": "145bc597-b672-4c11-bfa9-6867c26b0a2b",
   "metadata": {},
   "source": [
    "## Key 값 자동으로 파싱하기"
   ]
  },
  {
   "cell_type": "markdown",
   "id": "8d4f22ad-55e2-478c-a9d6-f6a62f631f79",
   "metadata": {},
   "source": [
    "## Value 값 자동 파싱"
   ]
  }
 ],
 "metadata": {
  "kernelspec": {
   "display_name": "Python 3 (ipykernel)",
   "language": "python",
   "name": "python3"
  },
  "language_info": {
   "codemirror_mode": {
    "name": "ipython",
    "version": 3
   },
   "file_extension": ".py",
   "mimetype": "text/x-python",
   "name": "python",
   "nbconvert_exporter": "python",
   "pygments_lexer": "ipython3",
   "version": "3.11.7"
  }
 },
 "nbformat": 4,
 "nbformat_minor": 5
}
