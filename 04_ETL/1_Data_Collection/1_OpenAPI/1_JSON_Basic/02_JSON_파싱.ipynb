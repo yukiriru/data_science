{
 "cells": [
  {
   "cell_type": "markdown",
   "id": "4ebc9eea-8650-48b0-88f0-01f76177a878",
   "metadata": {},
   "source": [
    "# JSON 구조를 보며 계층 구조 별 KEY 값으로 VALUE 값을 구해본다."
   ]
  },
  {
   "cell_type": "code",
   "execution_count": 1,
   "id": "ba713bc5-550f-4fec-910a-20bf8dd91002",
   "metadata": {},
   "outputs": [
    {
     "data": {
      "text/plain": [
       "{'note': {'date': '20240320',\n",
       "  'method': 'gmail',\n",
       "  'to': '강연배',\n",
       "  'from': 'all',\n",
       "  'heading': '3차 프로젝트 Kick Off 모임 일정',\n",
       "  'Body': '4월 4일 저녁 8시, 장소: 마포갈매기'}}"
      ]
     },
     "execution_count": 1,
     "metadata": {},
     "output_type": "execute_result"
    }
   ],
   "source": [
    "k_note= {\n",
    "    'note':{\n",
    "        'date':'20240320',\n",
    "        'method':'gmail',\n",
    "        'to':'강연배',\n",
    "        'from':'all',\n",
    "        'heading':'3차 프로젝트 Kick Off 모임 일정',\n",
    "        'Body':'4월 4일 저녁 8시, 장소: 마포갈매기'\n",
    "    }\n",
    "}\n",
    "k_note"
   ]
  },
  {
   "cell_type": "code",
   "execution_count": 2,
   "id": "f7177074-54ff-41c4-b7b7-98dabf271868",
   "metadata": {},
   "outputs": [
    {
     "data": {
      "text/plain": [
       "{'date': '20240320',\n",
       " 'method': 'gmail',\n",
       " 'to': '강연배',\n",
       " 'from': 'all',\n",
       " 'heading': '3차 프로젝트 Kick Off 모임 일정',\n",
       " 'Body': '4월 4일 저녁 8시, 장소: 마포갈매기'}"
      ]
     },
     "execution_count": 2,
     "metadata": {},
     "output_type": "execute_result"
    }
   ],
   "source": [
    "k_note['note']"
   ]
  },
  {
   "cell_type": "markdown",
   "id": "6e5d0dd6-59eb-4277-aa5a-53778cb4f570",
   "metadata": {},
   "source": [
    "- 수신인 조회"
   ]
  },
  {
   "cell_type": "code",
   "execution_count": 3,
   "id": "73acde47-e4fc-4a10-864d-9e29be6cd143",
   "metadata": {},
   "outputs": [
    {
     "data": {
      "text/plain": [
       "'강연배'"
      ]
     },
     "execution_count": 3,
     "metadata": {},
     "output_type": "execute_result"
    }
   ],
   "source": [
    "k_note['note']['to']"
   ]
  },
  {
   "cell_type": "markdown",
   "id": "77724d29-a9a8-4df5-9c41-74011c692a84",
   "metadata": {},
   "source": [
    "* note 딕셔너리의 모든 값 조회"
   ]
  },
  {
   "cell_type": "code",
   "execution_count": 8,
   "id": "074618ff-2d2a-466e-bad3-280c3fa55e4b",
   "metadata": {},
   "outputs": [
    {
     "name": "stdout",
     "output_type": "stream",
     "text": [
      "20240320\n",
      "gmail\n",
      "강연배\n",
      "all\n",
      "3차 프로젝트 Kick Off 모임 일정\n",
      "4월 4일 저녁 8시, 장소: 마포갈매기\n"
     ]
    }
   ],
   "source": [
    "print(k_note['note']['date'])\n",
    "print(k_note['note']['method'])\n",
    "print(k_note['note']['to'])\n",
    "print(k_note['note']['from'])\n",
    "print(k_note['note']['heading'])\n",
    "print(k_note['note']['Body'])"
   ]
  },
  {
   "cell_type": "markdown",
   "id": "5a0dfcd9-4bce-4855-bee1-aceff62ac296",
   "metadata": {},
   "source": [
    "# 중첩된 딕셔너리 값을 파싱하기"
   ]
  },
  {
   "cell_type": "markdown",
   "id": "145bc597-b672-4c11-bfa9-6867c26b0a2b",
   "metadata": {},
   "source": [
    "## Key 값 자동으로 파싱하기"
   ]
  },
  {
   "cell_type": "code",
   "execution_count": 10,
   "id": "c8feb18f-f4a8-4a08-9fda-a70eca8e2ec0",
   "metadata": {},
   "outputs": [
    {
     "name": "stdout",
     "output_type": "stream",
     "text": [
      "date\n",
      "method\n",
      "to\n",
      "from\n",
      "heading\n",
      "Body\n"
     ]
    }
   ],
   "source": [
    "for child_key in k_note['note']:\n",
    "    print(child_key)"
   ]
  },
  {
   "cell_type": "markdown",
   "id": "8d4f22ad-55e2-478c-a9d6-f6a62f631f79",
   "metadata": {},
   "source": [
    "## Value 값 자동 파싱"
   ]
  },
  {
   "cell_type": "code",
   "execution_count": 11,
   "id": "ef14b058-a0c6-41fd-9502-1669cd54e39d",
   "metadata": {},
   "outputs": [
    {
     "name": "stdout",
     "output_type": "stream",
     "text": [
      "20240320\n",
      "gmail\n",
      "강연배\n",
      "all\n",
      "3차 프로젝트 Kick Off 모임 일정\n",
      "4월 4일 저녁 8시, 장소: 마포갈매기\n"
     ]
    }
   ],
   "source": [
    "for child_key in k_note['note']:\n",
    "    print(k_note['note'][child_key])"
   ]
  },
  {
   "cell_type": "code",
   "execution_count": null,
   "id": "9a703310-5084-4be7-b082-598400952099",
   "metadata": {},
   "outputs": [],
   "source": []
  }
 ],
 "metadata": {
  "kernelspec": {
   "display_name": "Python [conda env:base] *",
   "language": "python",
   "name": "conda-base-py"
  },
  "language_info": {
   "codemirror_mode": {
    "name": "ipython",
    "version": 3
   },
   "file_extension": ".py",
   "mimetype": "text/x-python",
   "name": "python",
   "nbconvert_exporter": "python",
   "pygments_lexer": "ipython3",
   "version": "3.13.5"
  }
 },
 "nbformat": 4,
 "nbformat_minor": 5
}
