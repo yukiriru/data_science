{
 "cells": [
  {
   "cell_type": "markdown",
   "id": "8d4652ef-3130-475f-98be-d0332922e9fc",
   "metadata": {},
   "source": [
    "# XML: 태그로 사용자 정의 타입을 지원하는 데이터포멧"
   ]
  },
  {
   "cell_type": "code",
   "execution_count": 1,
   "id": "f57fdf26-5521-4a3f-a4fb-1c9146489c65",
   "metadata": {},
   "outputs": [],
   "source": [
    "from xml.etree.ElementTree import Element,dump, SubElement,ElementTree"
   ]
  },
  {
   "cell_type": "markdown",
   "id": "b9d6e14b-1ed8-419c-a192-929efe2ab2be",
   "metadata": {},
   "source": [
    "# 사용자 정의 타입 생성"
   ]
  },
  {
   "cell_type": "markdown",
   "id": "3d55fc03-5ea8-44bf-9358-98ad0bb46b5c",
   "metadata": {},
   "source": [
    "### Element: 노드(태그) 생성"
   ]
  },
  {
   "cell_type": "code",
   "execution_count": 2,
   "id": "0925694b-5f29-49da-8495-3c9c3dbf6dfa",
   "metadata": {},
   "outputs": [
    {
     "data": {
      "text/plain": [
       "<Element 'message' at 0x000001AF4FEEB650>"
      ]
     },
     "execution_count": 2,
     "metadata": {},
     "output_type": "execute_result"
    }
   ],
   "source": [
    "message = Element('message')\n",
    "message"
   ]
  },
  {
   "cell_type": "markdown",
   "id": "6054ae0b-1743-46ad-9563-38c109102689",
   "metadata": {},
   "source": [
    "### dump: 노드를 확인하는 함수"
   ]
  },
  {
   "cell_type": "code",
   "execution_count": 3,
   "id": "c32b3930-111d-419a-bb51-0105d3151a64",
   "metadata": {},
   "outputs": [
    {
     "name": "stdout",
     "output_type": "stream",
     "text": [
      "<message />\n"
     ]
    }
   ],
   "source": [
    "dump(message)"
   ]
  },
  {
   "cell_type": "code",
   "execution_count": 4,
   "id": "c7be9063-8aa3-4769-8343-969a9ac1357d",
   "metadata": {},
   "outputs": [],
   "source": [
    "to = Element('to')"
   ]
  },
  {
   "cell_type": "code",
   "execution_count": 5,
   "id": "2732e39c-e770-4e64-b4a9-9f980b231494",
   "metadata": {},
   "outputs": [
    {
     "data": {
      "text/plain": [
       "<Element 'to' at 0x000001AF4F1D6D40>"
      ]
     },
     "execution_count": 5,
     "metadata": {},
     "output_type": "execute_result"
    }
   ],
   "source": [
    "to"
   ]
  },
  {
   "cell_type": "markdown",
   "id": "fa32d936-3cf9-4596-9d31-a4fcfd5f4e41",
   "metadata": {},
   "source": [
    "### 노드.text: 노드의 값을 지정"
   ]
  },
  {
   "cell_type": "code",
   "execution_count": 6,
   "id": "22034606-90c4-4839-96e4-bf2c210bb57b",
   "metadata": {},
   "outputs": [],
   "source": [
    "to.text = '김혜민'"
   ]
  },
  {
   "cell_type": "code",
   "execution_count": 7,
   "id": "d17f4d4e-4668-43d1-bed1-e70f744f3343",
   "metadata": {},
   "outputs": [
    {
     "name": "stdout",
     "output_type": "stream",
     "text": [
      "<to>김혜민</to>\n"
     ]
    }
   ],
   "source": [
    "dump(to)"
   ]
  },
  {
   "cell_type": "markdown",
   "id": "5bd10eb3-3b4b-4768-8053-d6a92aedb7fa",
   "metadata": {},
   "source": [
    "* 노드 구조  \n",
    "<노드명> 값 </노드명>\n",
    "* JSON과 비교  \n",
    "키:값"
   ]
  },
  {
   "cell_type": "markdown",
   "id": "6c58386d-88d7-4700-bc0f-719dedc044ca",
   "metadata": {},
   "source": [
    "### append 함수로 자식노드 추가"
   ]
  },
  {
   "cell_type": "markdown",
   "id": "9a3cde33-58bb-4dff-a7bd-50f157405e3b",
   "metadata": {},
   "source": [
    "* 부모노드.append(자식노드) : 부모 노드에 자식 노드 추가"
   ]
  },
  {
   "cell_type": "code",
   "execution_count": 8,
   "id": "5534fd2c-1110-4b64-b433-7e4c4abbbb15",
   "metadata": {},
   "outputs": [
    {
     "name": "stdout",
     "output_type": "stream",
     "text": [
      "<message><to>김혜민</to></message>\n"
     ]
    }
   ],
   "source": [
    "message.append(to)\n",
    "dump(message)"
   ]
  },
  {
   "cell_type": "raw",
   "id": "0f6803f0-fa77-4d65-b086-73647761532c",
   "metadata": {},
   "source": [
    "<message> \t\t    # 부모노드\n",
    "\t<to>김혜민</to>\t# 자식노드\n",
    "</message>"
   ]
  },
  {
   "cell_type": "markdown",
   "id": "8c040499-4fe9-449a-a748-c5d8c4a504eb",
   "metadata": {},
   "source": [
    "* JSON 타입과 비교"
   ]
  },
  {
   "cell_type": "raw",
   "id": "3408e441-6544-4bbb-93df-157bf7ac4c6a",
   "metadata": {},
   "source": [
    "{\n",
    "\t'message':{\t\t    # 상위딕셔너리\n",
    "\t\t'to':'김혜민'\t# 하위딕셔너리\n",
    "\t}\n",
    "}"
   ]
  },
  {
   "cell_type": "markdown",
   "id": "6a60b1d7-ff36-430a-8803-fcfea11d2ed9",
   "metadata": {},
   "source": [
    "### 중간정리"
   ]
  },
  {
   "cell_type": "raw",
   "id": "50459de7-f421-45d0-909d-29b9f2e0385c",
   "metadata": {},
   "source": [
    "XML로 사용자 정의 데이터를 정의하는 구조\n",
    "<부모노드>\n",
    "    <자식노드1> 값 </자식노드1>\n",
    "    <자식노드2> 값 </자식노드2>\n",
    "        ...\n",
    "    <자식노드N> 값 </자식노드N>\n",
    "</부모노드>"
   ]
  },
  {
   "cell_type": "markdown",
   "id": "a63daecb-66de-4c94-831a-98eb1cc31131",
   "metadata": {},
   "source": [
    "### SubElement 함수로 자식노드 추가"
   ]
  },
  {
   "cell_type": "markdown",
   "id": "5d9d3510-9c2f-48ec-aa86-ac150451c449",
   "metadata": {},
   "source": [
    "* SubElement(부모노드,'자식노드명').text = 자식노드 값"
   ]
  },
  {
   "cell_type": "code",
   "execution_count": 9,
   "id": "42401488-8b4a-490f-98e7-263359ed3e18",
   "metadata": {},
   "outputs": [
    {
     "name": "stdout",
     "output_type": "stream",
     "text": [
      "<message><to>김혜민</to><from>남효정</from></message>\n"
     ]
    }
   ],
   "source": [
    "SubElement(message, 'from').text = '남효정'\n",
    "dump(message)"
   ]
  },
  {
   "cell_type": "raw",
   "id": "ad214be2-2c27-428a-a188-7a1baea78d37",
   "metadata": {},
   "source": [
    "<message>\n",
    "\t<to>김혜민</to>\n",
    "\t<from>남효정</from>\n",
    "</message>"
   ]
  },
  {
   "cell_type": "markdown",
   "id": "a14fc104-8c0c-4272-9984-c48d4bd057d1",
   "metadata": {},
   "source": [
    "### 노드 삽입/삭제"
   ]
  },
  {
   "cell_type": "markdown",
   "id": "5bddef82-ff19-4373-aa39-5f21ad2af5c8",
   "metadata": {},
   "source": [
    "#### 삽입(insert)"
   ]
  },
  {
   "cell_type": "markdown",
   "id": "9bd95d32-90cf-4d53-b2ce-d1e1755f5653",
   "metadata": {},
   "source": [
    "* 부모노드.insert(인덱스, 자식노드)"
   ]
  },
  {
   "cell_type": "code",
   "execution_count": 10,
   "id": "f7e147f0-fae0-4623-b63d-5d74ecb3c359",
   "metadata": {},
   "outputs": [
    {
     "name": "stdout",
     "output_type": "stream",
     "text": [
      "<message><to>김혜민</to><dummy /><from>남효정</from></message>\n"
     ]
    }
   ],
   "source": [
    "dummy = Element('dummy')\n",
    "message.insert(1, dummy)\n",
    "dump(message)"
   ]
  },
  {
   "cell_type": "markdown",
   "id": "5ba025f1-97d0-4772-b4f1-349338869210",
   "metadata": {},
   "source": [
    "* 값이 정의되지 않는 노드 표기 방식"
   ]
  },
  {
   "cell_type": "raw",
   "id": "a6a4351c-109a-4120-ab1c-df19eccc5022",
   "metadata": {},
   "source": [
    "- 노드에 값이 없는 경우\n",
    "<노드명 />  \n",
    "\n",
    "- 값이 있는 노드와 비교\n",
    "<노드명>\n",
    "    값\n",
    "</노드명>"
   ]
  },
  {
   "cell_type": "markdown",
   "id": "f5a39931-10aa-4f4b-9b57-8b5ebf5b1550",
   "metadata": {},
   "source": [
    "## 속성으로 데이터 추가"
   ]
  },
  {
   "cell_type": "markdown",
   "id": "bec8e05e-0dcf-4f82-ac66-9862383d1fbe",
   "metadata": {},
   "source": [
    "* 날짜 속성 추가"
   ]
  },
  {
   "cell_type": "code",
   "execution_count": 11,
   "id": "5271ba75-b14c-4dca-8010-445bc441affa",
   "metadata": {},
   "outputs": [
    {
     "name": "stdout",
     "output_type": "stream",
     "text": [
      "<message date=\"20240731\"><to>김혜민</to><dummy /><from>남효정</from></message>\n"
     ]
    }
   ],
   "source": [
    "message.attrib['date'] = '20240731'\n",
    "dump(message)"
   ]
  },
  {
   "cell_type": "markdown",
   "id": "b19b97cc-51c8-491b-b9f7-75bc19295ad4",
   "metadata": {},
   "source": [
    "* 기타 하위 노드 정의"
   ]
  },
  {
   "cell_type": "code",
   "execution_count": 12,
   "id": "eeabd036-09f7-439e-8478-c035ee853d4a",
   "metadata": {},
   "outputs": [
    {
     "name": "stdout",
     "output_type": "stream",
     "text": [
      "<message date=\"20240731\"><to>김혜민</to><dummy /><from>남효정</from><method>gmail</method><heading>주말에 뭐해요?</heading><body>주말에 영화한편?</body></message>\n"
     ]
    }
   ],
   "source": [
    "SubElement(message,'method').text='gmail'\n",
    "SubElement(message,'heading').text='주말에 뭐해요?'\n",
    "SubElement(message,'body').text='주말에 영화한편?'\n",
    "dump(message)"
   ]
  },
  {
   "cell_type": "code",
   "execution_count": 13,
   "id": "21b92ee0-cf3b-44b2-92be-eb989fc60a62",
   "metadata": {},
   "outputs": [],
   "source": [
    "def indent(elem, level=0):\n",
    "    i = \"\\n\"+level*\" \"\n",
    "    if len(elem):\n",
    "        if not elem.text or not elem.text.strip():\n",
    "            elem.text = i+\" \"\n",
    "        if not elem.tail or not elem.tail.strip():\n",
    "            elem.tail = i\n",
    "        for elem in elem:\n",
    "            indent(elem, level+1)\n",
    "        if not elem.tail or not elem.tail.strip():\n",
    "            elem.tail = i\n",
    "    else:\n",
    "        if level and (not elem.tail or not elem.tail.strip()):\n",
    "            elem.tail = i"
   ]
  },
  {
   "cell_type": "code",
   "execution_count": 14,
   "id": "35bfb77f-3512-4e41-a8ec-bdb074425598",
   "metadata": {},
   "outputs": [],
   "source": [
    "# indent(message) # 주피터 또는 파이참 환경에서 인덴테이션을 적용해 보고 싶을 때에만 실행"
   ]
  },
  {
   "cell_type": "code",
   "execution_count": 15,
   "id": "8ab1768e-998a-443e-8cc7-ea5ba69bcb58",
   "metadata": {},
   "outputs": [
    {
     "name": "stdout",
     "output_type": "stream",
     "text": [
      "<message date=\"20240731\">\n",
      " <to>김혜민</to>\n",
      " <dummy />\n",
      " <from>남효정</from>\n",
      " <method>gmail</method>\n",
      " <heading>주말에 뭐해요?</heading>\n",
      " <body>주말에 영화한편?</body>\n",
      "</message>\n"
     ]
    }
   ],
   "source": [
    "dump(message)"
   ]
  },
  {
   "cell_type": "markdown",
   "id": "2d49ab70-34d3-459e-8368-6c5bb9a6109f",
   "metadata": {},
   "source": [
    "# XML 저장"
   ]
  },
  {
   "cell_type": "code",
   "execution_count": 16,
   "id": "5bce744a-c199-4330-843c-99d5e7d3ef25",
   "metadata": {
    "scrolled": true
   },
   "outputs": [
    {
     "name": "stdout",
     "output_type": "stream",
     "text": [
      " C 드라이브의 볼륨: Windows10\n",
      " 볼륨 일련 번호: 0601-669D\n",
      "\n",
      " C:\\Project\\3_DataScience\\04_ETL\\1_Data_Collection\\1_OpenAPI\\2_XML_Basic 디렉터리\n",
      "\n",
      "2025-09-01  오전 10:22               298 message_작성실습.xml\n",
      "               1개 파일                 298 바이트\n",
      "               0개 디렉터리  127,627,182,080 바이트 남음\n"
     ]
    }
   ],
   "source": [
    "ElementTree(message).write('message_작성실습.xml')\n",
    "!dir *.xml"
   ]
  },
  {
   "cell_type": "code",
   "execution_count": null,
   "id": "abc30f8d-eae5-4f4a-9026-8e0bcb8fb3df",
   "metadata": {},
   "outputs": [],
   "source": []
  },
  {
   "cell_type": "code",
   "execution_count": null,
   "id": "ac93c173-f4f5-4760-983e-bab619177156",
   "metadata": {},
   "outputs": [],
   "source": []
  },
  {
   "cell_type": "code",
   "execution_count": null,
   "id": "65bb63d1-99cc-4300-b1b0-d8d1d732769c",
   "metadata": {},
   "outputs": [],
   "source": []
  }
 ],
 "metadata": {
  "kernelspec": {
   "display_name": "Python [conda env:base] *",
   "language": "python",
   "name": "conda-base-py"
  },
  "language_info": {
   "codemirror_mode": {
    "name": "ipython",
    "version": 3
   },
   "file_extension": ".py",
   "mimetype": "text/x-python",
   "name": "python",
   "nbconvert_exporter": "python",
   "pygments_lexer": "ipython3",
   "version": "3.13.5"
  }
 },
 "nbformat": 4,
 "nbformat_minor": 5
}
