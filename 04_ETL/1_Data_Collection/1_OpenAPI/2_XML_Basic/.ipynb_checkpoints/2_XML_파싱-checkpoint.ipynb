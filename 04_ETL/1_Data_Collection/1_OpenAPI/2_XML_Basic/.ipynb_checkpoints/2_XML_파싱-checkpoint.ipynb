{
 "cells": [
  {
   "cell_type": "markdown",
   "id": "85d9b624-b9fb-497a-b5b6-1ea5e4bfa9a7",
   "metadata": {},
   "source": [
    "* XML 노드를 파싱하기 위한 최소 모듈"
   ]
  },
  {
   "cell_type": "code",
   "execution_count": 1,
   "id": "8735aa3f-b557-4eb8-b353-d2d327665ca1",
   "metadata": {},
   "outputs": [],
   "source": [
    "from xml.etree.ElementTree import parse,dump"
   ]
  },
  {
   "cell_type": "code",
   "execution_count": 2,
   "id": "de779811-1d4a-4a52-b384-56c9a50f4dde",
   "metadata": {},
   "outputs": [
    {
     "name": "stdout",
     "output_type": "stream",
     "text": [
      " D 드라이브의 볼륨에는 이름이 없습니다.\n",
      " 볼륨 일련 번호: DEA8-2814\n",
      "\n",
      " D:\\hklee\\project\\data_science\\04_ETL\\02_Data_Collection\\01_OpenAPI\\02_XML_Basic 디렉터리\n",
      "\n",
      "2024-07-31  오전 10:24    <DIR>          .\n",
      "2024-07-31  오전 10:24    <DIR>          ..\n",
      "2024-07-31  오전 10:24    <DIR>          .ipynb_checkpoints\n",
      "2024-07-31  오전 10:23            12,491 1_basic.ipynb\n",
      "2024-07-31  오전 10:23                72 2_XML_파싱.ipynb\n",
      "2024-07-31  오전 10:21               276 message_작성실습.xml\n",
      "2024-07-31  오전 09:06    <DIR>          ref\n",
      "2024-03-22  오전 11:46               380 출입국관광_실데이터_샘플.xml\n",
      "               4개 파일              13,219 바이트\n",
      "               4개 디렉터리  1,956,851,859,456 바이트 남음\n"
     ]
    }
   ],
   "source": [
    "!dir"
   ]
  },
  {
   "cell_type": "markdown",
   "id": "fd81668f-5a00-416b-af62-c710f321830b",
   "metadata": {},
   "source": [
    "* XML 파일에서 노드 읽기"
   ]
  },
  {
   "cell_type": "code",
   "execution_count": 3,
   "id": "45204085-f187-4ab5-a58b-50a244b57275",
   "metadata": {},
   "outputs": [],
   "source": [
    "tree = parse('message_작성실습.xml')\n",
    "message = tree.getroot()"
   ]
  },
  {
   "cell_type": "code",
   "execution_count": 4,
   "id": "c897e076-028e-4b79-8289-a42b47c8767b",
   "metadata": {},
   "outputs": [
    {
     "name": "stdout",
     "output_type": "stream",
     "text": [
      "<message date=\"20240731\"><to>김혜민</to><dummy /><from>남효정</from><method>gmail</method><heading>주말에 뭐해요?</heading><body>주말에 영화한편?</body></message>\n"
     ]
    }
   ],
   "source": [
    "dump(message)"
   ]
  },
  {
   "cell_type": "markdown",
   "id": "2bc4fcdb-eed8-4400-b1e1-6664d8fd4fc1",
   "metadata": {},
   "source": [
    "* XML 속성 읽기"
   ]
  },
  {
   "cell_type": "markdown",
   "id": "a4c175e4-6ff1-4b63-b8ce-8dc30ac68b4b",
   "metadata": {},
   "source": [
    "노드.get('속성명')"
   ]
  },
  {
   "cell_type": "code",
   "execution_count": 5,
   "id": "9c5012b6-630f-4caf-adca-221824aa22fa",
   "metadata": {},
   "outputs": [
    {
     "data": {
      "text/plain": [
       "'20240731'"
      ]
     },
     "execution_count": 5,
     "metadata": {},
     "output_type": "execute_result"
    }
   ],
   "source": [
    "message.get('date')"
   ]
  },
  {
   "cell_type": "code",
   "execution_count": 6,
   "id": "6454496d-f394-4e2d-89b7-e2c94ea07f65",
   "metadata": {},
   "outputs": [],
   "source": [
    "message.get('wether')"
   ]
  },
  {
   "cell_type": "code",
   "execution_count": 7,
   "id": "821b9215-9719-4a81-8dc4-f042aaee0c29",
   "metadata": {},
   "outputs": [
    {
     "name": "stdout",
     "output_type": "stream",
     "text": [
      "None\n"
     ]
    }
   ],
   "source": [
    "print(message.get('wether')) # 지정한 속성 값이 없으면 None을 반환"
   ]
  },
  {
   "cell_type": "markdown",
   "id": "c98988c6-65af-4675-b726-2884b900f231",
   "metadata": {},
   "source": [
    "* 속성 리스트 구하기"
   ]
  },
  {
   "cell_type": "raw",
   "id": "5e3d29f0-bcdc-4f5c-b282-34b115e316b4",
   "metadata": {},
   "source": [
    "노드.keys(): 해당 노드의 모든 속성 값을 리스트로 반환"
   ]
  },
  {
   "cell_type": "code",
   "execution_count": 8,
   "id": "d94f065a-ceb7-465f-b121-fa0e76ea43ea",
   "metadata": {},
   "outputs": [
    {
     "data": {
      "text/plain": [
       "['date']"
      ]
     },
     "execution_count": 8,
     "metadata": {},
     "output_type": "execute_result"
    }
   ],
   "source": [
    "message.keys()"
   ]
  },
  {
   "cell_type": "code",
   "execution_count": 9,
   "id": "33e9ef98-f9e0-491a-9c28-91e4d64a9ee2",
   "metadata": {},
   "outputs": [],
   "source": [
    "message.attrib['wether'] = '맑음'"
   ]
  },
  {
   "cell_type": "code",
   "execution_count": 10,
   "id": "cb160aee-b3cc-4c16-a908-97da7a620636",
   "metadata": {},
   "outputs": [
    {
     "data": {
      "text/plain": [
       "'맑음'"
      ]
     },
     "execution_count": 10,
     "metadata": {},
     "output_type": "execute_result"
    }
   ],
   "source": [
    "message.get('wether')"
   ]
  },
  {
   "cell_type": "code",
   "execution_count": 11,
   "id": "9f40d7cf-78e8-48cf-aade-9afaa3866f5a",
   "metadata": {},
   "outputs": [
    {
     "data": {
      "text/plain": [
       "['date', 'wether']"
      ]
     },
     "execution_count": 11,
     "metadata": {},
     "output_type": "execute_result"
    }
   ],
   "source": [
    "message.keys()"
   ]
  },
  {
   "cell_type": "code",
   "execution_count": 12,
   "id": "266de034-9895-4c4f-8c6b-45e86636d7d5",
   "metadata": {},
   "outputs": [
    {
     "name": "stdout",
     "output_type": "stream",
     "text": [
      "<message date=\"20240731\" wether=\"맑음\"><to>김혜민</to><dummy /><from>남효정</from><method>gmail</method><heading>주말에 뭐해요?</heading><body>주말에 영화한편?</body></message>\n"
     ]
    }
   ],
   "source": [
    "dump(message)"
   ]
  },
  {
   "cell_type": "markdown",
   "id": "cd00daad-c222-4a92-ad8e-5ed44b4a320c",
   "metadata": {},
   "source": [
    "### 특정 노드의 전체 속성 값 출력하기"
   ]
  },
  {
   "cell_type": "code",
   "execution_count": 13,
   "id": "f17ede63-f76e-4300-9bc1-48da2fda64ca",
   "metadata": {},
   "outputs": [
    {
     "name": "stdout",
     "output_type": "stream",
     "text": [
      "20240731\n",
      "맑음\n"
     ]
    }
   ],
   "source": [
    "for attribute in message.keys():\n",
    "    print(message.get(attribute))"
   ]
  },
  {
   "cell_type": "markdown",
   "id": "b338302a-2475-4352-9bfa-56156da36106",
   "metadata": {},
   "source": [
    "### 모든 자식 노드의 값 접근"
   ]
  },
  {
   "cell_type": "code",
   "execution_count": 15,
   "id": "f15100a5-8f30-4be7-86c2-909da0cb791e",
   "metadata": {},
   "outputs": [
    {
     "name": "stdout",
     "output_type": "stream",
     "text": [
      "김혜민\n",
      "None\n",
      "남효정\n",
      "gmail\n",
      "주말에 뭐해요?\n",
      "주말에 영화한편?\n"
     ]
    }
   ],
   "source": [
    "for child in message:\n",
    "    print(child.text)"
   ]
  },
  {
   "cell_type": "markdown",
   "id": "60df8958-6834-4131-8650-739b53b9d6ab",
   "metadata": {},
   "source": [
    "### 특정 노드 검색"
   ]
  },
  {
   "cell_type": "code",
   "execution_count": 16,
   "id": "cfba12e5-5921-487b-94dd-a633a578c0cd",
   "metadata": {},
   "outputs": [
    {
     "data": {
      "text/plain": [
       "'주말에 영화한편?'"
      ]
     },
     "execution_count": 16,
     "metadata": {},
     "output_type": "execute_result"
    }
   ],
   "source": [
    "message.find('body').text"
   ]
  },
  {
   "cell_type": "code",
   "execution_count": 17,
   "id": "a9f1a6cc-cf5c-4744-aec9-0fe58b72cc84",
   "metadata": {},
   "outputs": [
    {
     "data": {
      "text/plain": [
       "'주말에 뭐해요?'"
      ]
     },
     "execution_count": 17,
     "metadata": {},
     "output_type": "execute_result"
    }
   ],
   "source": [
    "message.find('heading').text"
   ]
  },
  {
   "cell_type": "code",
   "execution_count": null,
   "id": "a9034889-b905-49f2-b747-f6a5182eb011",
   "metadata": {},
   "outputs": [],
   "source": []
  }
 ],
 "metadata": {
  "kernelspec": {
   "display_name": "Python 3 (ipykernel)",
   "language": "python",
   "name": "python3"
  },
  "language_info": {
   "codemirror_mode": {
    "name": "ipython",
    "version": 3
   },
   "file_extension": ".py",
   "mimetype": "text/x-python",
   "name": "python",
   "nbconvert_exporter": "python",
   "pygments_lexer": "ipython3",
   "version": "3.11.7"
  }
 },
 "nbformat": 4,
 "nbformat_minor": 5
}
