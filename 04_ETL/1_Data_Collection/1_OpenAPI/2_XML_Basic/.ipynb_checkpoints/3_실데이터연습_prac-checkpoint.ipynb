{
 "cells": [
  {
   "cell_type": "markdown",
   "id": "5d713b8e-7e04-457f-b624-b372f86556e4",
   "metadata": {},
   "source": [
    "* 국가명 값을 출력해 보세요"
   ]
  },
  {
   "cell_type": "markdown",
   "id": "0cd34df2-d9b2-491f-9070-60aed39288a3",
   "metadata": {},
   "source": [
    "* 방문자수 출력해보세요"
   ]
  },
  {
   "cell_type": "markdown",
   "id": "441548cd-7f5d-4679-b229-1871a195c99c",
   "metadata": {},
   "source": [
    "# XML 문자열에서 XML 노드로 변환"
   ]
  },
  {
   "cell_type": "markdown",
   "id": "e7c0d88c-3c7e-4d41-8f21-b0db39a7976b",
   "metadata": {},
   "source": [
    "* '방한외래 관광객' 값을 접근해 보세요"
   ]
  }
 ],
 "metadata": {
  "kernelspec": {
   "display_name": "Python [conda env:base] *",
   "language": "python",
   "name": "conda-base-py"
  },
  "language_info": {
   "codemirror_mode": {
    "name": "ipython",
    "version": 3
   },
   "file_extension": ".py",
   "mimetype": "text/x-python",
   "name": "python",
   "nbconvert_exporter": "python",
   "pygments_lexer": "ipython3",
   "version": "3.13.5"
  }
 },
 "nbformat": 4,
 "nbformat_minor": 5
}
