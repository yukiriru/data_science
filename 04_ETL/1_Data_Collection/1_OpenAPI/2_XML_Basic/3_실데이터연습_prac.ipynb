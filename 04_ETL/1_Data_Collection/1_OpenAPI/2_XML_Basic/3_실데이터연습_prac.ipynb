{
 "cells": [
  {
   "cell_type": "code",
   "execution_count": 11,
   "id": "5d48539a-d269-4198-a633-567791f206d5",
   "metadata": {},
   "outputs": [],
   "source": [
    "from xml.etree.ElementTree import parse,dump,fromstring,indent"
   ]
  },
  {
   "cell_type": "markdown",
   "id": "ad0950b3-cbc6-4f21-b9cb-ef6f760c6f50",
   "metadata": {},
   "source": [
    "- 데이터 로드"
   ]
  },
  {
   "cell_type": "code",
   "execution_count": 19,
   "id": "2c1b4c03-5842-4844-8462-b38efaf3e0ef",
   "metadata": {
    "scrolled": true
   },
   "outputs": [],
   "source": [
    "tree = parse('출입국관광_실데이터_샘플.xml')\n",
    "xml_root = tree.getroot()\n",
    "#dump(xml_root)\n",
    "indent(xml_root)"
   ]
  },
  {
   "cell_type": "markdown",
   "id": "3823046a-7309-422c-bb51-19b7e72c218d",
   "metadata": {},
   "source": [
    "- 자식 노드 검색"
   ]
  },
  {
   "cell_type": "code",
   "execution_count": 20,
   "id": "10072ae4-b364-40fb-925d-22f1997285c7",
   "metadata": {},
   "outputs": [],
   "source": [
    "#dump(xml_root.find('num')) #find함수는 자식 노드 (header,body)에만 적용"
   ]
  },
  {
   "cell_type": "code",
   "execution_count": 18,
   "id": "938b8887-a4c0-471d-bc5d-a96b985c280b",
   "metadata": {},
   "outputs": [
    {
     "name": "stdout",
     "output_type": "stream",
     "text": [
      "<body>\n",
      "<items>\n",
      "<item>\n",
      "<ed>방한외래관광객</ed>\n",
      "<edCd>E</edCd>\n",
      "<natCd>112</natCd>\n",
      "<natKorNm>중 국</natKorNm>\n",
      "<num>280035</num>\n",
      "<rnum>1</rnum>\n",
      "<ym>202401</ym>\n",
      "</item>\n",
      "</items>\n",
      "<numOfRows>10</numOfRows>\n",
      "<pageNo>1</pageNo>\n",
      "<totalCount>1</totalCount>\n",
      "</body>\n"
     ]
    }
   ],
   "source": [
    "dump(xml_root.find('body'))"
   ]
  },
  {
   "cell_type": "markdown",
   "id": "f46d6bf3-de26-4582-96f6-3406070de6eb",
   "metadata": {},
   "source": [
    "- 자식 아래 계층의 노드 검색"
   ]
  },
  {
   "cell_type": "markdown",
   "id": "216d522e-9a2e-47c1-82f0-421cc9a385ec",
   "metadata": {},
   "source": [
    "child = xml_root.find('body')\n",
    "dump(child.find('items'))"
   ]
  },
  {
   "cell_type": "code",
   "execution_count": 19,
   "id": "a95929c1-8d47-4bef-a2dc-f511d8642acc",
   "metadata": {
    "scrolled": true
   },
   "outputs": [
    {
     "name": "stdout",
     "output_type": "stream",
     "text": [
      "<items>\n",
      "<item>\n",
      "<ed>방한외래관광객</ed>\n",
      "<edCd>E</edCd>\n",
      "<natCd>112</natCd>\n",
      "<natKorNm>중 국</natKorNm>\n",
      "<num>280035</num>\n",
      "<rnum>1</rnum>\n",
      "<ym>202401</ym>\n",
      "</item>\n",
      "</items>\n"
     ]
    }
   ],
   "source": [
    "dump( xml_root.find('body').find('items') )"
   ]
  },
  {
   "cell_type": "markdown",
   "id": "5d713b8e-7e04-457f-b624-b372f86556e4",
   "metadata": {},
   "source": [
    "* 국가명 값을 출력해 보세요 (메소드 체인방식으로)"
   ]
  },
  {
   "cell_type": "code",
   "execution_count": 21,
   "id": "893527d3-c6e7-4f10-951e-b25364580004",
   "metadata": {},
   "outputs": [
    {
     "name": "stdout",
     "output_type": "stream",
     "text": [
      "<natKorNm>중 국</natKorNm>\n"
     ]
    }
   ],
   "source": [
    "dump( xml_root.find('body').find('items').find('item').find('natKorNm') ) # 노드 확인"
   ]
  },
  {
   "cell_type": "code",
   "execution_count": 23,
   "id": "3d5833f8-b9bf-4cf9-a49e-abc13a6c4543",
   "metadata": {},
   "outputs": [
    {
     "data": {
      "text/plain": [
       "'중 국'"
      ]
     },
     "execution_count": 23,
     "metadata": {},
     "output_type": "execute_result"
    }
   ],
   "source": [
    "xml_root.find('body').find('items').find('item').find('natKorNm').text  # 노드의 값  <=  문제의 정답"
   ]
  },
  {
   "cell_type": "markdown",
   "id": "0cd34df2-d9b2-491f-9070-60aed39288a3",
   "metadata": {},
   "source": [
    "* 방문자수 출력해보세요"
   ]
  },
  {
   "cell_type": "code",
   "execution_count": 24,
   "id": "49929a98-f4f3-4f07-b9b5-373d98e77217",
   "metadata": {},
   "outputs": [
    {
     "data": {
      "text/plain": [
       "'280035'"
      ]
     },
     "execution_count": 24,
     "metadata": {},
     "output_type": "execute_result"
    }
   ],
   "source": [
    "xml_root.find('body').find('items').find('item').find('num').text"
   ]
  },
  {
   "cell_type": "code",
   "execution_count": null,
   "id": "d1c41ab3-9a69-45f6-97fc-024f84f60be7",
   "metadata": {},
   "outputs": [],
   "source": []
  },
  {
   "cell_type": "markdown",
   "id": "441548cd-7f5d-4679-b229-1871a195c99c",
   "metadata": {},
   "source": [
    "# XML 문자열에서 XML 노드로 변환"
   ]
  },
  {
   "cell_type": "code",
   "execution_count": 25,
   "id": "72316074-60a9-4c05-bf9e-8a903504735b",
   "metadata": {},
   "outputs": [],
   "source": [
    "raw_str_xml='''\n",
    "<response>\n",
    "<header>\n",
    "<resultCode>0000</resultCode>\n",
    "<resultMsg>OK</resultMsg>\n",
    "</header>\n",
    "<body>\n",
    "<items>\n",
    "<item>\n",
    "<ed>방한외래관광객</ed>\n",
    "<edCd>E</edCd>\n",
    "<natCd>112</natCd>\n",
    "<natKorNm>중 국</natKorNm>\n",
    "<num>280035</num>\n",
    "<rnum>1</rnum>\n",
    "<ym>202401</ym>mm   \n",
    "</item>\n",
    "</items>\n",
    "<numOfRows>10</numOfRows>\n",
    "<pageNo>1</pageNo>\n",
    "<totalCount>1</totalCount>\n",
    "</body>\n",
    "</response>\n",
    "'''"
   ]
  },
  {
   "cell_type": "code",
   "execution_count": 26,
   "id": "6b956663-eeaa-4ad2-8bd5-ad6077c9280a",
   "metadata": {},
   "outputs": [
    {
     "data": {
      "text/plain": [
       "'\\n<response>\\n<header>\\n<resultCode>0000</resultCode>\\n<resultMsg>OK</resultMsg>\\n</header>\\n<body>\\n<items>\\n<item>\\n<ed>방한외래관광객</ed>\\n<edCd>E</edCd>\\n<natCd>112</natCd>\\n<natKorNm>중 국</natKorNm>\\n<num>280035</num>\\n<rnum>1</rnum>\\n<ym>202401</ym>\\n</item>\\n</items>\\n<numOfRows>10</numOfRows>\\n<pageNo>1</pageNo>\\n<totalCount>1</totalCount>\\n</body>\\n</response>\\n'"
      ]
     },
     "execution_count": 26,
     "metadata": {},
     "output_type": "execute_result"
    }
   ],
   "source": [
    "raw_str_xml"
   ]
  },
  {
   "cell_type": "code",
   "execution_count": 27,
   "id": "a2c3c5eb-ee5a-4f49-b7ae-848b6e48045b",
   "metadata": {},
   "outputs": [
    {
     "data": {
      "text/plain": [
       "str"
      ]
     },
     "execution_count": 27,
     "metadata": {},
     "output_type": "execute_result"
    }
   ],
   "source": [
    "type(raw_str_xml)"
   ]
  },
  {
   "cell_type": "code",
   "execution_count": 30,
   "id": "ec3fb87c-7309-4e17-9436-c633eee9e8fd",
   "metadata": {},
   "outputs": [
    {
     "data": {
      "text/plain": [
       "xml.etree.ElementTree.Element"
      ]
     },
     "execution_count": 30,
     "metadata": {},
     "output_type": "execute_result"
    }
   ],
   "source": [
    "xml_converted = fromstring(raw_str_xml)\n",
    "type(xml_converted)"
   ]
  },
  {
   "cell_type": "markdown",
   "id": "e7c0d88c-3c7e-4d41-8f21-b0db39a7976b",
   "metadata": {},
   "source": [
    "* '방한외래 관광객' 값을 접근해 보세요"
   ]
  },
  {
   "cell_type": "code",
   "execution_count": 31,
   "id": "75bc6947-9b74-49e7-8b94-f7a0ef0e399c",
   "metadata": {},
   "outputs": [
    {
     "data": {
      "text/plain": [
       "'방한외래관광객'"
      ]
     },
     "execution_count": 31,
     "metadata": {},
     "output_type": "execute_result"
    }
   ],
   "source": [
    "xml_root.find('body').find('items').find('item').find('ed').text"
   ]
  },
  {
   "cell_type": "code",
   "execution_count": null,
   "id": "831b9b96-1239-431a-b90e-5499cb8314c0",
   "metadata": {},
   "outputs": [],
   "source": []
  }
 ],
 "metadata": {
  "kernelspec": {
   "display_name": "Python [conda env:base] *",
   "language": "python",
   "name": "conda-base-py"
  },
  "language_info": {
   "codemirror_mode": {
    "name": "ipython",
    "version": 3
   },
   "file_extension": ".py",
   "mimetype": "text/x-python",
   "name": "python",
   "nbconvert_exporter": "python",
   "pygments_lexer": "ipython3",
   "version": "3.13.5"
  }
 },
 "nbformat": 4,
 "nbformat_minor": 5
}
