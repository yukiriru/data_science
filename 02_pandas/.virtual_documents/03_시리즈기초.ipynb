





import pandas as pd #관용적으로 pandas 모델을 pd로 별칭하여 사용함.


# 버전확인
pd.__version__





ser1 = pd.Series([1,2,3])
ser1











list1 =[1,2,3]
list2 =[1,2,3]
list1 + list2





# 파이썬 기본문법으로 작성할 경우
result = []
for index in range(len(list1)):
    # print(index)
    result.append( list1[index] + list2[index] )
result





ser2 = pd.Series([1,2,3])
ser2


ser1





ser1 + ser2








#수학 성적이라고 가정하고 너무 점수가 낮아 전체적으로 기본점수(50)을 주려고 한다.
scores = [10,20,30] 
for index in range(len(scores)):
    # scores[index] = scores[index] + 50
    scores[index] += 50
scores





s_scores = pd.Series([10,20,30])
s_scores


s_scores + 50





ser1 =pd.Series([1,2,3])
ser2 =pd.Series([1,2,3,4])
ser1 + ser2








salaries = [3720, 5460, 4200, 6500, 7125, 5700, 7540, 3900, 6780, 4820]
salaries_increase = []

for salary in salaries:
    increased_salary = salary * 1.045
    salaries_increase.append(increased_salary)

print(salaries_increase)





pd.Series([3720, 5460, 4200, 6500, 7125, 5700, 7540, 3900, 6780, 4820]) *1.045



