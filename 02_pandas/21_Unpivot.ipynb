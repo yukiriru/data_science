{
 "cells": [
  {
   "cell_type": "markdown",
   "id": "bfd75e60",
   "metadata": {},
   "source": [
    "# Unpivot이란?\n",
    "* wide 타입의 데이터를 long 타입으로 변환하는 과정\n",
    "    * long 타입 데이터 ----  pivot  ---> wide 타입 데이터\n",
    "    * wide 타입 데이터 ---- unpivot ---> long 타입 데이터  \n",
    "     stack() 함수를 활용\n",
    "## 언제 Unpivot을 할까요?\n",
    "* 수집한 데이터 소스가 wide 타입 데이터 인 경우 (예: 데이터베이스에서 분석용 테이블을 만들어 export 한 경우)\n",
    "* 추가적인 데이터 변경에 대한 요구사항이 있을 경우 wide 타입 데이터는 분석용 데이터이기 때문에 raw 형태의 데이터를 만들어  \n",
    " 새로운 분석 데이터를 만들고자 할때"
   ]
  },
  {
   "cell_type": "markdown",
   "id": "e56b3d4b",
   "metadata": {},
   "source": [
    "# 멀티인덱스인 경우 unpivot"
   ]
  },
  {
   "cell_type": "code",
   "execution_count": 1,
   "id": "112a3ca8",
   "metadata": {},
   "outputs": [],
   "source": [
    "import pandas as pd"
   ]
  },
  {
   "cell_type": "code",
   "execution_count": 2,
   "id": "7890fc2d-fccf-4ab9-ac81-6766b78fb6de",
   "metadata": {},
   "outputs": [
    {
     "data": {
      "text/html": [
       "<div>\n",
       "<style scoped>\n",
       "    .dataframe tbody tr th:only-of-type {\n",
       "        vertical-align: middle;\n",
       "    }\n",
       "\n",
       "    .dataframe tbody tr th {\n",
       "        vertical-align: top;\n",
       "    }\n",
       "\n",
       "    .dataframe thead th {\n",
       "        text-align: right;\n",
       "    }\n",
       "</style>\n",
       "<table border=\"1\" class=\"dataframe\">\n",
       "  <thead>\n",
       "    <tr style=\"text-align: right;\">\n",
       "      <th></th>\n",
       "      <th>국어</th>\n",
       "      <th>수학</th>\n",
       "      <th>과학</th>\n",
       "    </tr>\n",
       "  </thead>\n",
       "  <tbody>\n",
       "    <tr>\n",
       "      <th>권보아</th>\n",
       "      <td>83</td>\n",
       "      <td>93</td>\n",
       "      <td>99</td>\n",
       "    </tr>\n",
       "    <tr>\n",
       "      <th>김범수</th>\n",
       "      <td>77</td>\n",
       "      <td>88</td>\n",
       "      <td>91</td>\n",
       "    </tr>\n",
       "    <tr>\n",
       "      <th>박효신</th>\n",
       "      <td>92</td>\n",
       "      <td>78</td>\n",
       "      <td>95</td>\n",
       "    </tr>\n",
       "  </tbody>\n",
       "</table>\n",
       "</div>"
      ],
      "text/plain": [
       "     국어  수학  과학\n",
       "권보아  83  93  99\n",
       "김범수  77  88  91\n",
       "박효신  92  78  95"
      ]
     },
     "execution_count": 2,
     "metadata": {},
     "output_type": "execute_result"
    }
   ],
   "source": [
    "val = [[83, 93, 99], [77, 88, 91], [92, 78, 95]]\n",
    "idx = [\"권보아\", \"김범수\", \"박효신\"]\n",
    "wide_df = pd.DataFrame(val, index=idx, columns=[\"국어\", \"수학\", \"과학\"])\n",
    "wide_df"
   ]
  },
  {
   "cell_type": "code",
   "execution_count": 3,
   "id": "b7c8e243-cb03-4574-b51d-a2c46353d023",
   "metadata": {},
   "outputs": [
    {
     "data": {
      "text/plain": [
       "권보아  국어    83\n",
       "     수학    93\n",
       "     과학    99\n",
       "김범수  국어    77\n",
       "     수학    88\n",
       "     과학    91\n",
       "박효신  국어    92\n",
       "     수학    78\n",
       "     과학    95\n",
       "dtype: int64"
      ]
     },
     "execution_count": 3,
     "metadata": {},
     "output_type": "execute_result"
    }
   ],
   "source": [
    "wide_df.stack() # 멀티인덱스인 시리즈로 반환"
   ]
  },
  {
   "cell_type": "markdown",
   "id": "518e6329-f3fb-4cef-8085-8b26ca005470",
   "metadata": {},
   "source": [
    "* Step1] 멀티 인덱스를 열로 전환 (열의 이름은 level_0, level_1 .. 이렇게 자동생성)"
   ]
  },
  {
   "cell_type": "code",
   "execution_count": 6,
   "id": "d44daa19-e54f-4f05-bf7a-1941424034c5",
   "metadata": {},
   "outputs": [
    {
     "data": {
      "text/html": [
       "<div>\n",
       "<style scoped>\n",
       "    .dataframe tbody tr th:only-of-type {\n",
       "        vertical-align: middle;\n",
       "    }\n",
       "\n",
       "    .dataframe tbody tr th {\n",
       "        vertical-align: top;\n",
       "    }\n",
       "\n",
       "    .dataframe thead th {\n",
       "        text-align: right;\n",
       "    }\n",
       "</style>\n",
       "<table border=\"1\" class=\"dataframe\">\n",
       "  <thead>\n",
       "    <tr style=\"text-align: right;\">\n",
       "      <th></th>\n",
       "      <th>level_0</th>\n",
       "      <th>level_1</th>\n",
       "      <th>0</th>\n",
       "    </tr>\n",
       "  </thead>\n",
       "  <tbody>\n",
       "    <tr>\n",
       "      <th>0</th>\n",
       "      <td>권보아</td>\n",
       "      <td>국어</td>\n",
       "      <td>83</td>\n",
       "    </tr>\n",
       "    <tr>\n",
       "      <th>1</th>\n",
       "      <td>권보아</td>\n",
       "      <td>수학</td>\n",
       "      <td>93</td>\n",
       "    </tr>\n",
       "    <tr>\n",
       "      <th>2</th>\n",
       "      <td>권보아</td>\n",
       "      <td>과학</td>\n",
       "      <td>99</td>\n",
       "    </tr>\n",
       "    <tr>\n",
       "      <th>3</th>\n",
       "      <td>김범수</td>\n",
       "      <td>국어</td>\n",
       "      <td>77</td>\n",
       "    </tr>\n",
       "    <tr>\n",
       "      <th>4</th>\n",
       "      <td>김범수</td>\n",
       "      <td>수학</td>\n",
       "      <td>88</td>\n",
       "    </tr>\n",
       "    <tr>\n",
       "      <th>5</th>\n",
       "      <td>김범수</td>\n",
       "      <td>과학</td>\n",
       "      <td>91</td>\n",
       "    </tr>\n",
       "    <tr>\n",
       "      <th>6</th>\n",
       "      <td>박효신</td>\n",
       "      <td>국어</td>\n",
       "      <td>92</td>\n",
       "    </tr>\n",
       "    <tr>\n",
       "      <th>7</th>\n",
       "      <td>박효신</td>\n",
       "      <td>수학</td>\n",
       "      <td>78</td>\n",
       "    </tr>\n",
       "    <tr>\n",
       "      <th>8</th>\n",
       "      <td>박효신</td>\n",
       "      <td>과학</td>\n",
       "      <td>95</td>\n",
       "    </tr>\n",
       "  </tbody>\n",
       "</table>\n",
       "</div>"
      ],
      "text/plain": [
       "  level_0 level_1   0\n",
       "0     권보아      국어  83\n",
       "1     권보아      수학  93\n",
       "2     권보아      과학  99\n",
       "3     김범수      국어  77\n",
       "4     김범수      수학  88\n",
       "5     김범수      과학  91\n",
       "6     박효신      국어  92\n",
       "7     박효신      수학  78\n",
       "8     박효신      과학  95"
      ]
     },
     "execution_count": 6,
     "metadata": {},
     "output_type": "execute_result"
    }
   ],
   "source": [
    "long_df = wide_df.stack().reset_index() \n",
    "long_df"
   ]
  },
  {
   "cell_type": "markdown",
   "id": "387f7428-f536-4aea-b732-ef9d98d00271",
   "metadata": {},
   "source": [
    "* Step2] 열이름 재 할당"
   ]
  },
  {
   "cell_type": "code",
   "execution_count": 8,
   "id": "7faad618-2bec-4372-a0e5-7316edb430d0",
   "metadata": {},
   "outputs": [
    {
     "data": {
      "text/html": [
       "<div>\n",
       "<style scoped>\n",
       "    .dataframe tbody tr th:only-of-type {\n",
       "        vertical-align: middle;\n",
       "    }\n",
       "\n",
       "    .dataframe tbody tr th {\n",
       "        vertical-align: top;\n",
       "    }\n",
       "\n",
       "    .dataframe thead th {\n",
       "        text-align: right;\n",
       "    }\n",
       "</style>\n",
       "<table border=\"1\" class=\"dataframe\">\n",
       "  <thead>\n",
       "    <tr style=\"text-align: right;\">\n",
       "      <th></th>\n",
       "      <th>학생이름</th>\n",
       "      <th>과목</th>\n",
       "      <th>점수</th>\n",
       "    </tr>\n",
       "  </thead>\n",
       "  <tbody>\n",
       "    <tr>\n",
       "      <th>0</th>\n",
       "      <td>권보아</td>\n",
       "      <td>국어</td>\n",
       "      <td>83</td>\n",
       "    </tr>\n",
       "    <tr>\n",
       "      <th>1</th>\n",
       "      <td>권보아</td>\n",
       "      <td>수학</td>\n",
       "      <td>93</td>\n",
       "    </tr>\n",
       "    <tr>\n",
       "      <th>2</th>\n",
       "      <td>권보아</td>\n",
       "      <td>과학</td>\n",
       "      <td>99</td>\n",
       "    </tr>\n",
       "    <tr>\n",
       "      <th>3</th>\n",
       "      <td>김범수</td>\n",
       "      <td>국어</td>\n",
       "      <td>77</td>\n",
       "    </tr>\n",
       "    <tr>\n",
       "      <th>4</th>\n",
       "      <td>김범수</td>\n",
       "      <td>수학</td>\n",
       "      <td>88</td>\n",
       "    </tr>\n",
       "    <tr>\n",
       "      <th>5</th>\n",
       "      <td>김범수</td>\n",
       "      <td>과학</td>\n",
       "      <td>91</td>\n",
       "    </tr>\n",
       "    <tr>\n",
       "      <th>6</th>\n",
       "      <td>박효신</td>\n",
       "      <td>국어</td>\n",
       "      <td>92</td>\n",
       "    </tr>\n",
       "    <tr>\n",
       "      <th>7</th>\n",
       "      <td>박효신</td>\n",
       "      <td>수학</td>\n",
       "      <td>78</td>\n",
       "    </tr>\n",
       "    <tr>\n",
       "      <th>8</th>\n",
       "      <td>박효신</td>\n",
       "      <td>과학</td>\n",
       "      <td>95</td>\n",
       "    </tr>\n",
       "  </tbody>\n",
       "</table>\n",
       "</div>"
      ],
      "text/plain": [
       "  학생이름  과목  점수\n",
       "0  권보아  국어  83\n",
       "1  권보아  수학  93\n",
       "2  권보아  과학  99\n",
       "3  김범수  국어  77\n",
       "4  김범수  수학  88\n",
       "5  김범수  과학  91\n",
       "6  박효신  국어  92\n",
       "7  박효신  수학  78\n",
       "8  박효신  과학  95"
      ]
     },
     "execution_count": 8,
     "metadata": {},
     "output_type": "execute_result"
    }
   ],
   "source": [
    "long_df.columns = ['학생이름','과목','점수']\n",
    "long_df"
   ]
  },
  {
   "cell_type": "markdown",
   "id": "1f58c6a1-74dd-4017-915f-c1772db2f95b",
   "metadata": {},
   "source": [
    "* Step3] 신규 데이터 추가"
   ]
  },
  {
   "cell_type": "code",
   "execution_count": 22,
   "id": "05e6f9fc-e50f-4ffa-9b4a-72abae7e97b1",
   "metadata": {},
   "outputs": [
    {
     "data": {
      "text/plain": [
       "{'학생이름': ['서동준', '서동준', '서동준'], '과목': ['국어', '수학', '과학'], '점수': [90, 70, 75]}"
      ]
     },
     "execution_count": 22,
     "metadata": {},
     "output_type": "execute_result"
    }
   ],
   "source": [
    "new_data = { '학생이름':['서동준','서동준','서동준'], '과목':['국어','수학','과학'] , '점수':[90,70,75] }\n",
    "new_data"
   ]
  },
  {
   "cell_type": "code",
   "execution_count": 24,
   "id": "0b5d3631-c8b8-4211-90a2-28d557520968",
   "metadata": {},
   "outputs": [
    {
     "data": {
      "text/html": [
       "<div>\n",
       "<style scoped>\n",
       "    .dataframe tbody tr th:only-of-type {\n",
       "        vertical-align: middle;\n",
       "    }\n",
       "\n",
       "    .dataframe tbody tr th {\n",
       "        vertical-align: top;\n",
       "    }\n",
       "\n",
       "    .dataframe thead th {\n",
       "        text-align: right;\n",
       "    }\n",
       "</style>\n",
       "<table border=\"1\" class=\"dataframe\">\n",
       "  <thead>\n",
       "    <tr style=\"text-align: right;\">\n",
       "      <th></th>\n",
       "      <th>학생이름</th>\n",
       "      <th>과목</th>\n",
       "      <th>점수</th>\n",
       "    </tr>\n",
       "  </thead>\n",
       "  <tbody>\n",
       "    <tr>\n",
       "      <th>0</th>\n",
       "      <td>서동준</td>\n",
       "      <td>국어</td>\n",
       "      <td>90</td>\n",
       "    </tr>\n",
       "    <tr>\n",
       "      <th>1</th>\n",
       "      <td>서동준</td>\n",
       "      <td>수학</td>\n",
       "      <td>70</td>\n",
       "    </tr>\n",
       "    <tr>\n",
       "      <th>2</th>\n",
       "      <td>서동준</td>\n",
       "      <td>과학</td>\n",
       "      <td>75</td>\n",
       "    </tr>\n",
       "  </tbody>\n",
       "</table>\n",
       "</div>"
      ],
      "text/plain": [
       "  학생이름  과목  점수\n",
       "0  서동준  국어  90\n",
       "1  서동준  수학  70\n",
       "2  서동준  과학  75"
      ]
     },
     "execution_count": 24,
     "metadata": {},
     "output_type": "execute_result"
    }
   ],
   "source": [
    "new_rows = pd.DataFrame(new_data)\n",
    "new_rows"
   ]
  },
  {
   "cell_type": "code",
   "execution_count": 27,
   "id": "9b90dd8d-8ad8-4ec3-b908-d294432f4d7b",
   "metadata": {},
   "outputs": [],
   "source": [
    "new_long_df = pd.concat([long_df, new_rows], ignore_index=True)"
   ]
  },
  {
   "cell_type": "code",
   "execution_count": 28,
   "id": "045fa9f5-03ef-4fb8-af40-af2b1adbb057",
   "metadata": {},
   "outputs": [
    {
     "data": {
      "text/html": [
       "<div>\n",
       "<style scoped>\n",
       "    .dataframe tbody tr th:only-of-type {\n",
       "        vertical-align: middle;\n",
       "    }\n",
       "\n",
       "    .dataframe tbody tr th {\n",
       "        vertical-align: top;\n",
       "    }\n",
       "\n",
       "    .dataframe thead th {\n",
       "        text-align: right;\n",
       "    }\n",
       "</style>\n",
       "<table border=\"1\" class=\"dataframe\">\n",
       "  <thead>\n",
       "    <tr style=\"text-align: right;\">\n",
       "      <th></th>\n",
       "      <th>학생이름</th>\n",
       "      <th>과목</th>\n",
       "      <th>점수</th>\n",
       "    </tr>\n",
       "  </thead>\n",
       "  <tbody>\n",
       "    <tr>\n",
       "      <th>0</th>\n",
       "      <td>권보아</td>\n",
       "      <td>국어</td>\n",
       "      <td>83</td>\n",
       "    </tr>\n",
       "    <tr>\n",
       "      <th>1</th>\n",
       "      <td>권보아</td>\n",
       "      <td>수학</td>\n",
       "      <td>93</td>\n",
       "    </tr>\n",
       "    <tr>\n",
       "      <th>2</th>\n",
       "      <td>권보아</td>\n",
       "      <td>과학</td>\n",
       "      <td>99</td>\n",
       "    </tr>\n",
       "    <tr>\n",
       "      <th>3</th>\n",
       "      <td>김범수</td>\n",
       "      <td>국어</td>\n",
       "      <td>77</td>\n",
       "    </tr>\n",
       "    <tr>\n",
       "      <th>4</th>\n",
       "      <td>김범수</td>\n",
       "      <td>수학</td>\n",
       "      <td>88</td>\n",
       "    </tr>\n",
       "    <tr>\n",
       "      <th>5</th>\n",
       "      <td>김범수</td>\n",
       "      <td>과학</td>\n",
       "      <td>91</td>\n",
       "    </tr>\n",
       "    <tr>\n",
       "      <th>6</th>\n",
       "      <td>박효신</td>\n",
       "      <td>국어</td>\n",
       "      <td>92</td>\n",
       "    </tr>\n",
       "    <tr>\n",
       "      <th>7</th>\n",
       "      <td>박효신</td>\n",
       "      <td>수학</td>\n",
       "      <td>78</td>\n",
       "    </tr>\n",
       "    <tr>\n",
       "      <th>8</th>\n",
       "      <td>박효신</td>\n",
       "      <td>과학</td>\n",
       "      <td>95</td>\n",
       "    </tr>\n",
       "    <tr>\n",
       "      <th>9</th>\n",
       "      <td>서동준</td>\n",
       "      <td>국어</td>\n",
       "      <td>90</td>\n",
       "    </tr>\n",
       "    <tr>\n",
       "      <th>10</th>\n",
       "      <td>서동준</td>\n",
       "      <td>수학</td>\n",
       "      <td>70</td>\n",
       "    </tr>\n",
       "    <tr>\n",
       "      <th>11</th>\n",
       "      <td>서동준</td>\n",
       "      <td>과학</td>\n",
       "      <td>75</td>\n",
       "    </tr>\n",
       "  </tbody>\n",
       "</table>\n",
       "</div>"
      ],
      "text/plain": [
       "   학생이름  과목  점수\n",
       "0   권보아  국어  83\n",
       "1   권보아  수학  93\n",
       "2   권보아  과학  99\n",
       "3   김범수  국어  77\n",
       "4   김범수  수학  88\n",
       "5   김범수  과학  91\n",
       "6   박효신  국어  92\n",
       "7   박효신  수학  78\n",
       "8   박효신  과학  95\n",
       "9   서동준  국어  90\n",
       "10  서동준  수학  70\n",
       "11  서동준  과학  75"
      ]
     },
     "execution_count": 28,
     "metadata": {},
     "output_type": "execute_result"
    }
   ],
   "source": [
    "new_long_df"
   ]
  },
  {
   "cell_type": "markdown",
   "id": "b5753e73-42f9-493e-8241-2931a545f94f",
   "metadata": {},
   "source": [
    "* Step4] 재분석"
   ]
  },
  {
   "cell_type": "code",
   "execution_count": 29,
   "id": "c6b2baa3-f08d-4523-95bc-835ff7a8feea",
   "metadata": {},
   "outputs": [],
   "source": [
    "w_df2 = new_long_df.pivot(values='점수', index='학생이름', columns='과목')"
   ]
  },
  {
   "cell_type": "code",
   "execution_count": 30,
   "id": "86d6b331-f5b2-43fb-bbdd-9ac8969eda5b",
   "metadata": {},
   "outputs": [
    {
     "data": {
      "text/html": [
       "<div>\n",
       "<style scoped>\n",
       "    .dataframe tbody tr th:only-of-type {\n",
       "        vertical-align: middle;\n",
       "    }\n",
       "\n",
       "    .dataframe tbody tr th {\n",
       "        vertical-align: top;\n",
       "    }\n",
       "\n",
       "    .dataframe thead th {\n",
       "        text-align: right;\n",
       "    }\n",
       "</style>\n",
       "<table border=\"1\" class=\"dataframe\">\n",
       "  <thead>\n",
       "    <tr style=\"text-align: right;\">\n",
       "      <th>과목</th>\n",
       "      <th>과학</th>\n",
       "      <th>국어</th>\n",
       "      <th>수학</th>\n",
       "    </tr>\n",
       "    <tr>\n",
       "      <th>학생이름</th>\n",
       "      <th></th>\n",
       "      <th></th>\n",
       "      <th></th>\n",
       "    </tr>\n",
       "  </thead>\n",
       "  <tbody>\n",
       "    <tr>\n",
       "      <th>권보아</th>\n",
       "      <td>99</td>\n",
       "      <td>83</td>\n",
       "      <td>93</td>\n",
       "    </tr>\n",
       "    <tr>\n",
       "      <th>김범수</th>\n",
       "      <td>91</td>\n",
       "      <td>77</td>\n",
       "      <td>88</td>\n",
       "    </tr>\n",
       "    <tr>\n",
       "      <th>박효신</th>\n",
       "      <td>95</td>\n",
       "      <td>92</td>\n",
       "      <td>78</td>\n",
       "    </tr>\n",
       "    <tr>\n",
       "      <th>서동준</th>\n",
       "      <td>75</td>\n",
       "      <td>90</td>\n",
       "      <td>70</td>\n",
       "    </tr>\n",
       "  </tbody>\n",
       "</table>\n",
       "</div>"
      ],
      "text/plain": [
       "과목    과학  국어  수학\n",
       "학생이름            \n",
       "권보아   99  83  93\n",
       "김범수   91  77  88\n",
       "박효신   95  92  78\n",
       "서동준   75  90  70"
      ]
     },
     "execution_count": 30,
     "metadata": {},
     "output_type": "execute_result"
    }
   ],
   "source": [
    "w_df2"
   ]
  },
  {
   "cell_type": "code",
   "execution_count": null,
   "id": "78907741-e6ed-4335-b2f4-3895ef553520",
   "metadata": {},
   "outputs": [],
   "source": []
  }
 ],
 "metadata": {
  "kernelspec": {
   "display_name": "Python [conda env:base] *",
   "language": "python",
   "name": "conda-base-py"
  },
  "language_info": {
   "codemirror_mode": {
    "name": "ipython",
    "version": 3
   },
   "file_extension": ".py",
   "mimetype": "text/x-python",
   "name": "python",
   "nbconvert_exporter": "python",
   "pygments_lexer": "ipython3",
   "version": "3.13.5"
  }
 },
 "nbformat": 4,
 "nbformat_minor": 5
}
