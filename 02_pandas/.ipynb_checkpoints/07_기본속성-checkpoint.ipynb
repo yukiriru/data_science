{
 "cells": [
  {
   "cell_type": "code",
   "execution_count": 1,
   "id": "52b5b9ef-3765-4100-a3da-29b596dc9923",
   "metadata": {},
   "outputs": [],
   "source": [
    "import pandas as pd"
   ]
  },
  {
   "cell_type": "markdown",
   "id": "1cbb12b0-a633-4f3b-9cfe-6a2f84b26393",
   "metadata": {},
   "source": [
    "# 시리즈 멤버 속성 알아보기"
   ]
  },
  {
   "cell_type": "code",
   "execution_count": 3,
   "id": "b4718942-f690-4216-9324-9744134b7fae",
   "metadata": {},
   "outputs": [
    {
     "data": {
      "text/plain": [
       "a    1\n",
       "b    2\n",
       "c    3\n",
       "d    4\n",
       "Name: SR1, dtype: int64"
      ]
     },
     "execution_count": 3,
     "metadata": {},
     "output_type": "execute_result"
    }
   ],
   "source": [
    "sr = pd.Series([1,2,3,4], name=\"SR1\", index=list('abcd'))\n",
    "sr"
   ]
  },
  {
   "cell_type": "code",
   "execution_count": 4,
   "id": "99566f20-86fb-469f-b198-1d0e90d1cc21",
   "metadata": {},
   "outputs": [
    {
     "data": {
      "text/plain": [
       "'SR1'"
      ]
     },
     "execution_count": 4,
     "metadata": {},
     "output_type": "execute_result"
    }
   ],
   "source": [
    "sr.name"
   ]
  },
  {
   "cell_type": "code",
   "execution_count": 5,
   "id": "dadb9243-da6e-415a-a50a-c903b9c0a8f0",
   "metadata": {},
   "outputs": [
    {
     "data": {
      "text/plain": [
       "Index(['a', 'b', 'c', 'd'], dtype='object')"
      ]
     },
     "execution_count": 5,
     "metadata": {},
     "output_type": "execute_result"
    }
   ],
   "source": [
    "sr.index"
   ]
  },
  {
   "cell_type": "code",
   "execution_count": 6,
   "id": "b2611c09-2cd0-459a-bb1c-7ffb8b4fdf96",
   "metadata": {},
   "outputs": [
    {
     "data": {
      "text/plain": [
       "1차성적    80\n",
       "2차성적    90\n",
       "3차성적    85\n",
       "Name: 홍길동_모의고사정보, dtype: int64"
      ]
     },
     "execution_count": 6,
     "metadata": {},
     "output_type": "execute_result"
    }
   ],
   "source": [
    "sr =pd.Series( [80, 90, 85], name = \"홍길동_모의고사정보\", index=['1차성적','2차성적','3차성적'])\n",
    "sr"
   ]
  },
  {
   "cell_type": "code",
   "execution_count": 7,
   "id": "4e01b981-a899-4fc5-984e-62576347a483",
   "metadata": {},
   "outputs": [
    {
     "data": {
      "text/plain": [
       "'홍길동_모의고사정보'"
      ]
     },
     "execution_count": 7,
     "metadata": {},
     "output_type": "execute_result"
    }
   ],
   "source": [
    "sr.name"
   ]
  },
  {
   "cell_type": "code",
   "execution_count": 8,
   "id": "245720e2-f6f2-43b5-8aa7-bbeb352c2685",
   "metadata": {},
   "outputs": [
    {
     "data": {
      "text/plain": [
       "Index(['1차성적', '2차성적', '3차성적'], dtype='object')"
      ]
     },
     "execution_count": 8,
     "metadata": {},
     "output_type": "execute_result"
    }
   ],
   "source": [
    "sr.index"
   ]
  },
  {
   "cell_type": "markdown",
   "id": "45847969-e3a0-4c43-8754-b907abc7c980",
   "metadata": {},
   "source": [
    "# 판다스의 기본 데이터 타입"
   ]
  },
  {
   "cell_type": "markdown",
   "id": "e7a7fb97-374a-4d50-a6b2-a4124fb057bb",
   "metadata": {},
   "source": [
    "* 정수: int64\n",
    "* 실수: float64\n",
    "* 문자열: object"
   ]
  },
  {
   "cell_type": "code",
   "execution_count": 9,
   "id": "5471db08-a125-4710-bb3b-594b414fb504",
   "metadata": {},
   "outputs": [
    {
     "data": {
      "text/plain": [
       "1차성적    80.5\n",
       "2차성적    90.7\n",
       "3차성적    85.1\n",
       "Name: 홍길동_모의고사정보, dtype: float64"
      ]
     },
     "execution_count": 9,
     "metadata": {},
     "output_type": "execute_result"
    }
   ],
   "source": [
    "sr =pd.Series( [80.5, 90.7, 85.1], name = \"홍길동_모의고사정보\", index=['1차성적','2차성적','3차성적'])\n",
    "sr"
   ]
  },
  {
   "cell_type": "code",
   "execution_count": 10,
   "id": "b0e10a94-101e-41d9-bf83-bc2b3dcb2112",
   "metadata": {},
   "outputs": [
    {
     "data": {
      "text/plain": [
       "1차성적     우수등급\n",
       "2차성적    최우수등급\n",
       "3차성적     우수등급\n",
       "Name: 홍길동_모의고사정보, dtype: object"
      ]
     },
     "execution_count": 10,
     "metadata": {},
     "output_type": "execute_result"
    }
   ],
   "source": [
    "sr =pd.Series( ['우수등급', '최우수등급', '우수등급'], name = \"홍길동_모의고사정보\", index=['1차성적','2차성적','3차성적'])\n",
    "sr"
   ]
  },
  {
   "cell_type": "markdown",
   "id": "022a8b8b-6e28-4a6b-bdbe-c97a35ceeb19",
   "metadata": {},
   "source": [
    "# 기타 속성"
   ]
  },
  {
   "cell_type": "code",
   "execution_count": 13,
   "id": "b84226e4-0143-47f8-a553-737f933f99f0",
   "metadata": {},
   "outputs": [
    {
     "data": {
      "text/plain": [
       "(3,)"
      ]
     },
     "execution_count": 13,
     "metadata": {},
     "output_type": "execute_result"
    }
   ],
   "source": [
    "sr.shape # 3행 1열의 의미"
   ]
  },
  {
   "cell_type": "code",
   "execution_count": 14,
   "id": "a1c065ef-a040-4b58-818f-67ddf795f3b8",
   "metadata": {},
   "outputs": [
    {
     "data": {
      "text/plain": [
       "1"
      ]
     },
     "execution_count": 14,
     "metadata": {},
     "output_type": "execute_result"
    }
   ],
   "source": [
    "sr.ndim #차원수를 나타냄"
   ]
  },
  {
   "cell_type": "code",
   "execution_count": 15,
   "id": "feb09f0f-88cc-401a-95f2-90709c47251c",
   "metadata": {},
   "outputs": [
    {
     "data": {
      "text/plain": [
       "3"
      ]
     },
     "execution_count": 15,
     "metadata": {},
     "output_type": "execute_result"
    }
   ],
   "source": [
    "sr.size"
   ]
  },
  {
   "cell_type": "markdown",
   "id": "4705f47f-8180-4b5e-955d-cdd0eacbad6d",
   "metadata": {},
   "source": [
    "# 데이터프레임 주요 멤버속성 알아보기"
   ]
  },
  {
   "cell_type": "code",
   "execution_count": 20,
   "id": "d87bf258-ea3b-4e96-a7a9-998c53ebe7dc",
   "metadata": {},
   "outputs": [
    {
     "data": {
      "text/html": [
       "<div>\n",
       "<style scoped>\n",
       "    .dataframe tbody tr th:only-of-type {\n",
       "        vertical-align: middle;\n",
       "    }\n",
       "\n",
       "    .dataframe tbody tr th {\n",
       "        vertical-align: top;\n",
       "    }\n",
       "\n",
       "    .dataframe thead th {\n",
       "        text-align: right;\n",
       "    }\n",
       "</style>\n",
       "<table border=\"1\" class=\"dataframe\">\n",
       "  <thead>\n",
       "    <tr style=\"text-align: right;\">\n",
       "      <th></th>\n",
       "      <th>d</th>\n",
       "      <th>e</th>\n",
       "      <th>f</th>\n",
       "      <th>g</th>\n",
       "    </tr>\n",
       "  </thead>\n",
       "  <tbody>\n",
       "    <tr>\n",
       "      <th>a</th>\n",
       "      <td>1</td>\n",
       "      <td>2</td>\n",
       "      <td>3</td>\n",
       "      <td>4</td>\n",
       "    </tr>\n",
       "    <tr>\n",
       "      <th>b</th>\n",
       "      <td>5</td>\n",
       "      <td>6</td>\n",
       "      <td>7</td>\n",
       "      <td>8</td>\n",
       "    </tr>\n",
       "  </tbody>\n",
       "</table>\n",
       "</div>"
      ],
      "text/plain": [
       "   d  e  f  g\n",
       "a  1  2  3  4\n",
       "b  5  6  7  8"
      ]
     },
     "execution_count": 20,
     "metadata": {},
     "output_type": "execute_result"
    }
   ],
   "source": [
    "import pandas as pd\n",
    "\n",
    "df = pd.DataFrame(\n",
    "    [[1, 2, 3, 4],\n",
    "     [5, 6, 7, 8]],\n",
    "    index=list('ab'),\n",
    "    columns=list('defg')\n",
    ")\n",
    "df"
   ]
  },
  {
   "cell_type": "code",
   "execution_count": 21,
   "id": "c76769c9-74cb-48cb-bb09-765ce9b23da5",
   "metadata": {},
   "outputs": [
    {
     "data": {
      "text/plain": [
       "(2, 4)"
      ]
     },
     "execution_count": 21,
     "metadata": {},
     "output_type": "execute_result"
    }
   ],
   "source": [
    "df.shape"
   ]
  },
  {
   "cell_type": "code",
   "execution_count": 28,
   "id": "46c72fb5-f499-4e92-bf69-d0942d1a6d12",
   "metadata": {},
   "outputs": [
    {
     "data": {
      "text/plain": [
       "2"
      ]
     },
     "execution_count": 28,
     "metadata": {},
     "output_type": "execute_result"
    }
   ],
   "source": [
    "df.ndim"
   ]
  },
  {
   "cell_type": "code",
   "execution_count": 23,
   "id": "04fecca1-ce65-4ced-b9e2-41b744fc278a",
   "metadata": {},
   "outputs": [
    {
     "data": {
      "text/plain": [
       "8"
      ]
     },
     "execution_count": 23,
     "metadata": {},
     "output_type": "execute_result"
    }
   ],
   "source": [
    "df.size"
   ]
  },
  {
   "cell_type": "markdown",
   "id": "547c94fd-3445-48db-88ac-5449b11ad409",
   "metadata": {},
   "source": [
    "* 요약 정보 보기"
   ]
  },
  {
   "cell_type": "code",
   "execution_count": 24,
   "id": "1620a953-470e-408a-a0c2-0af4a3c1f8e7",
   "metadata": {},
   "outputs": [
    {
     "name": "stdout",
     "output_type": "stream",
     "text": [
      "<class 'pandas.core.frame.DataFrame'>\n",
      "Index: 2 entries, a to b\n",
      "Data columns (total 4 columns):\n",
      " #   Column  Non-Null Count  Dtype\n",
      "---  ------  --------------  -----\n",
      " 0   d       2 non-null      int64\n",
      " 1   e       2 non-null      int64\n",
      " 2   f       2 non-null      int64\n",
      " 3   g       2 non-null      int64\n",
      "dtypes: int64(4)\n",
      "memory usage: 80.0+ bytes\n"
     ]
    }
   ],
   "source": [
    "df.info()"
   ]
  },
  {
   "cell_type": "code",
   "execution_count": 26,
   "id": "721134c1-9c29-413b-8d58-6bee007182a8",
   "metadata": {},
   "outputs": [
    {
     "data": {
      "text/plain": [
       "array([[1, 2, 3, 4],\n",
       "       [5, 6, 7, 8]])"
      ]
     },
     "execution_count": 26,
     "metadata": {},
     "output_type": "execute_result"
    }
   ],
   "source": [
    "df.values"
   ]
  },
  {
   "cell_type": "code",
   "execution_count": null,
   "id": "f52d7696-dbf3-4f85-948d-74a5ef8a04b2",
   "metadata": {},
   "outputs": [],
   "source": []
  }
 ],
 "metadata": {
  "kernelspec": {
   "display_name": "Python [conda env:base] *",
   "language": "python",
   "name": "conda-base-py"
  },
  "language_info": {
   "codemirror_mode": {
    "name": "ipython",
    "version": 3
   },
   "file_extension": ".py",
   "mimetype": "text/x-python",
   "name": "python",
   "nbconvert_exporter": "python",
   "pygments_lexer": "ipython3",
   "version": "3.13.5"
  }
 },
 "nbformat": 4,
 "nbformat_minor": 5
}
