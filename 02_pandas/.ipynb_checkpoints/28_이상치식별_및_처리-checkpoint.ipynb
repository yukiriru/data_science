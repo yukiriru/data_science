{
 "cells": [
  {
   "cell_type": "markdown",
   "id": "7af84aa8-afc1-469f-9399-28145c5dc935",
   "metadata": {},
   "source": [
    "# 이상치를 포함한 수치형 데이터 생성"
   ]
  },
  {
   "cell_type": "markdown",
   "id": "5cfab10e-c507-44fb-ba6c-1494f735eec1",
   "metadata": {},
   "source": [
    "# 초기데이터 기초통계 확인"
   ]
  },
  {
   "cell_type": "markdown",
   "id": "0b4cf233-a999-4bab-9ca4-17578ff367c3",
   "metadata": {},
   "source": [
    "# 초기데이터 시각화"
   ]
  },
  {
   "cell_type": "markdown",
   "id": "fd5dbc44-45b8-4853-9c28-0b52c294d567",
   "metadata": {},
   "source": [
    "# 이상치 식별"
   ]
  },
  {
   "cell_type": "markdown",
   "id": "d5ca1639-05f2-49a3-a543-1ea3a33285bf",
   "metadata": {},
   "source": [
    "# 특이사항 처리"
   ]
  },
  {
   "cell_type": "markdown",
   "id": "3c932847-1294-4ac0-a829-a10651082812",
   "metadata": {},
   "source": [
    "# 이상치 제거 후 기초통계 및 시각화 재확인"
   ]
  },
  {
   "cell_type": "markdown",
   "id": "f7b3da8f-8cb1-455f-8d28-28e164f93429",
   "metadata": {},
   "source": [
    "* 추후에도 이상치가 확인되면 삭제작업을 반복한다."
   ]
  }
 ],
 "metadata": {
  "kernelspec": {
   "display_name": "Python 3 (ipykernel)",
   "language": "python",
   "name": "python3"
  },
  "language_info": {
   "codemirror_mode": {
    "name": "ipython",
    "version": 3
   },
   "file_extension": ".py",
   "mimetype": "text/x-python",
   "name": "python",
   "nbconvert_exporter": "python",
   "pygments_lexer": "ipython3",
   "version": "3.11.7"
  }
 },
 "nbformat": 4,
 "nbformat_minor": 5
}