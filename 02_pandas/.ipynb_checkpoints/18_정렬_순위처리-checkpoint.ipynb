{
 "cells": [
  {
   "cell_type": "markdown",
   "id": "e42e15c1",
   "metadata": {},
   "source": [
    "# 정렬"
   ]
  },
  {
   "cell_type": "markdown",
   "id": "23da52b9",
   "metadata": {
    "heading_collapsed": true
   },
   "source": [
    "## 시리즈의 값 정렬"
   ]
  },
  {
   "cell_type": "markdown",
   "id": "2e708f17-a68c-40e4-90ae-639a8b43f8d4",
   "metadata": {},
   "source": [
    "* 값에 의한 정렬"
   ]
  },
  {
   "cell_type": "markdown",
   "id": "a5c112fa-8d50-4525-a61c-9ba4a6ed1475",
   "metadata": {},
   "source": [
    "* 인덱스에 의한 정렬"
   ]
  },
  {
   "cell_type": "markdown",
   "id": "f7a3b2bb",
   "metadata": {
    "heading_collapsed": true
   },
   "source": [
    "## 데이터프레임의 값 정렬"
   ]
  },
  {
   "cell_type": "markdown",
   "id": "59838858",
   "metadata": {
    "heading_collapsed": true,
    "hidden": true
   },
   "source": [
    "### 열의 값을 기준으로 정렬하기"
   ]
  },
  {
   "cell_type": "markdown",
   "id": "bf9596e5",
   "metadata": {
    "heading_collapsed": true,
    "hidden": true
   },
   "source": [
    "### 다중 열 기준 정렬"
   ]
  },
  {
   "cell_type": "markdown",
   "id": "ee763083-2793-4778-a9ef-a75c9f8e4b9b",
   "metadata": {},
   "source": [
    "* 가 열을 기준으로 오름차순 정렬"
   ]
  },
  {
   "cell_type": "markdown",
   "id": "78d714f0-ec41-446e-ac30-c987542013dc",
   "metadata": {},
   "source": [
    "* 가, 나 열 오름차순 정렬  \n",
    "  가열의 오름차순 정렬 결과에 나열 오름차순 정렬"
   ]
  },
  {
   "cell_type": "markdown",
   "id": "fe6aba67-3515-4c54-bb84-a656e6209e73",
   "metadata": {},
   "source": [
    "* 각 열의 정렬 방식을 다르게 지정  \n",
    "  예) 가열 오름차순, 나열은 내림차순 정렬"
   ]
  },
  {
   "cell_type": "markdown",
   "id": "6539391f",
   "metadata": {
    "heading_collapsed": true,
    "hidden": true
   },
   "source": [
    "### 데이터프레임 인덱스, 컬럼 정렬"
   ]
  },
  {
   "cell_type": "markdown",
   "id": "d13020b6-995c-4f71-aca3-a8e6e80a872c",
   "metadata": {},
   "source": [
    "* 열 인덱스로 정렬"
   ]
  },
  {
   "cell_type": "markdown",
   "id": "b016091d-2c05-4f56-a854-72a12d8c5128",
   "metadata": {},
   "source": [
    "* 행, 열 인덱스 모두 사용  \n",
    "문제] 행 인덱스를 내림차순 정렬하고 열 인덱스 내림차순으로 정렬 (메소드 체인 기법을 활용)"
   ]
  },
  {
   "cell_type": "markdown",
   "id": "fa019317",
   "metadata": {},
   "source": [
    "# 순위 처리"
   ]
  },
  {
   "cell_type": "markdown",
   "id": "f1e709f7-6ad4-4e05-b2c6-b9b770067312",
   "metadata": {},
   "source": [
    "* 문제] 위 데이터 프레임에 점수에 따른 내림차순 순위를 매겨 '순위' 열을 추가"
   ]
  },
  {
   "cell_type": "markdown",
   "id": "b7209741-db21-4ae2-a886-0d3087ab831f",
   "metadata": {},
   "source": [
    "* 문제] '순위' 열의 값을 기준으로 오름차순 정렬"
   ]
  },
  {
   "cell_type": "markdown",
   "id": "750b5665-f704-4375-b8c6-28935f686e5c",
   "metadata": {},
   "source": [
    "* 문제] '순위' 열의 값을 기준으로 성적이 낮은 학생순으로 정렬"
   ]
  },
  {
   "cell_type": "markdown",
   "id": "8f4a59f5-bb35-4c88-90dc-3937a8cfef4e",
   "metadata": {},
   "source": [
    "* 인덱스 재정렬"
   ]
  },
  {
   "cell_type": "markdown",
   "id": "d63e99a6-0257-45d5-a8a8-6585da6f1e57",
   "metadata": {},
   "source": [
    "* 인덱스 사이즈"
   ]
  },
  {
   "cell_type": "markdown",
   "id": "6be86d5b-5bbc-4778-abe2-320d77b216d4",
   "metadata": {},
   "source": [
    "* 인덱스 재정렬 자동화"
   ]
  },
  {
   "cell_type": "markdown",
   "id": "9ac891f1",
   "metadata": {},
   "source": [
    "## Rank 함수 심화"
   ]
  },
  {
   "cell_type": "markdown",
   "id": "5801fd75-38ba-4be3-9a75-b8853b9a0390",
   "metadata": {},
   "source": [
    "* rank() 기본 동작 방식은 등수간 평균값으로 선정"
   ]
  },
  {
   "cell_type": "markdown",
   "id": "d238255b",
   "metadata": {},
   "source": [
    "* method='max' 동일 등수자에 대해서 최대등수값으로 결정"
   ]
  },
  {
   "cell_type": "markdown",
   "id": "d8412e2e-3807-44f9-901e-1af2a66cacea",
   "metadata": {},
   "source": [
    "* method='min' 동일 등수자에 대해서 최대등수값으로 결정"
   ]
  },
  {
   "cell_type": "markdown",
   "id": "bbe784f7",
   "metadata": {},
   "source": [
    "### 결론\n",
    "* rank() 함수 사용시 동일 등수에 대한 처리는 min 방식이 가장 범용적이다."
   ]
  }
 ],
 "metadata": {
  "kernelspec": {
   "display_name": "Python 3 (ipykernel)",
   "language": "python",
   "name": "python3"
  },
  "language_info": {
   "codemirror_mode": {
    "name": "ipython",
    "version": 3
   },
   "file_extension": ".py",
   "mimetype": "text/x-python",
   "name": "python",
   "nbconvert_exporter": "python",
   "pygments_lexer": "ipython3",
   "version": "3.11.7"
  }
 },
 "nbformat": 4,
 "nbformat_minor": 5
}