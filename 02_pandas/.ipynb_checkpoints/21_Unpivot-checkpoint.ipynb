{
 "cells": [
  {
   "cell_type": "markdown",
   "id": "bfd75e60",
   "metadata": {},
   "source": [
    "# Unpivot이란?\n",
    "* wide 타입의 데이터를 long 타입으로 변환하는 과정\n",
    "    * long 타입 데이터 ----  pivot  ---> wide 타입 데이터\n",
    "    * wide 타입 데이터 ---- unpivot ---> long 타입 데이터  \n",
    "     stack() 함수를 활용\n",
    "## 언제 Unpivot을 할까요?\n",
    "* 수집한 데이터 소스가 wide 타입 데이터 인 경우 (예: 데이터베이스에서 분석용 테이블을 만들어 export 한 경우)\n",
    "* 추가적인 데이터 변경에 대한 요구사항이 있을 경우 wide 타입 데이터는 분석용 데이터이기 때문에 raw 형태의 데이터를 만들어  \n",
    " 새로운 분석 데이터를 만들고자 할때"
   ]
  },
  {
   "cell_type": "markdown",
   "id": "e56b3d4b",
   "metadata": {},
   "source": [
    "# 멀티인덱스인 경우 unpivot"
   ]
  },
  {
   "cell_type": "markdown",
   "id": "518e6329-f3fb-4cef-8085-8b26ca005470",
   "metadata": {},
   "source": [
    "* Step1] 멀티 인덱스를 열로 전환 (열의 이름은 level_0, level_1 .. 이렇게 자동생성)"
   ]
  },
  {
   "cell_type": "markdown",
   "id": "387f7428-f536-4aea-b732-ef9d98d00271",
   "metadata": {},
   "source": [
    "* Step2] 열이름 재 할당"
   ]
  },
  {
   "cell_type": "markdown",
   "id": "1f58c6a1-74dd-4017-915f-c1772db2f95b",
   "metadata": {},
   "source": [
    "* Step3] 신규 데이터 추가"
   ]
  },
  {
   "cell_type": "markdown",
   "id": "b5753e73-42f9-493e-8241-2931a545f94f",
   "metadata": {},
   "source": [
    "* Step4] 재분석"
   ]
  }
 ],
 "metadata": {
  "kernelspec": {
   "display_name": "Python [conda env:base] *",
   "language": "python",
   "name": "conda-base-py"
  },
  "language_info": {
   "codemirror_mode": {
    "name": "ipython",
    "version": 3
   },
   "file_extension": ".py",
   "mimetype": "text/x-python",
   "name": "python",
   "nbconvert_exporter": "python",
   "pygments_lexer": "ipython3",
   "version": "3.13.5"
  }
 },
 "nbformat": 4,
 "nbformat_minor": 5
}