{
 "cells": [
  {
   "cell_type": "markdown",
   "id": "9a2ecff4",
   "metadata": {},
   "source": [
    "# Pandas 연습문제 (8개)\n",
    "본 노트북은 Series와 DataFrame의 기초 문법(생성, 열 연산, 브로드캐스팅, 비교/불리언 마스크, 평균 계산 등)만으로 풀 수 있는 문제로 구성되어 있습니다.\n",
    "\n",
    "> 아래 각 문제 밑의 코드 셀에 직접 풀이 코드를 작성하세요."
   ]
  },
  {
   "cell_type": "code",
   "execution_count": null,
   "id": "9676c153",
   "metadata": {},
   "outputs": [],
   "source": [
    "import pandas as pd"
   ]
  },
  {
   "cell_type": "markdown",
   "id": "2e26b9ff",
   "metadata": {},
   "source": [
    "## 문제 1: Series 생성\n",
    "값이 [10, 20, 30]인 시리즈 s1을 생성하고 출력하세요. (인덱스는 기본값 사용)"
   ]
  },
  {
   "cell_type": "code",
   "execution_count": null,
   "id": "ff014454",
   "metadata": {},
   "outputs": [],
   "source": [
    "# 여기에 풀이 코드를 작성하세요.\n"
   ]
  },
  {
   "cell_type": "markdown",
   "id": "bc342b02",
   "metadata": {},
   "source": [
    "## 문제 2: Series 연산\n",
    "값이 [5, 15, 25]인 시리즈 s2를 생성하고, s1 + s2의 결과를 출력하세요."
   ]
  },
  {
   "cell_type": "code",
   "execution_count": null,
   "id": "1f6c7839",
   "metadata": {},
   "outputs": [],
   "source": [
    "# 여기에 풀이 코드를 작성하세요.\n"
   ]
  },
  {
   "cell_type": "markdown",
   "id": "7a6ec049",
   "metadata": {},
   "source": [
    "## 문제 3: 브로드캐스팅\n",
    "시리즈 s1에 정수 10을 더한 결과를 출력하세요. (브로드캐스팅 활용)"
   ]
  },
  {
   "cell_type": "code",
   "execution_count": null,
   "id": "420bfaf3",
   "metadata": {},
   "outputs": [],
   "source": [
    "# 여기에 풀이 코드를 작성하세요.\n"
   ]
  },
  {
   "cell_type": "markdown",
   "id": "bcea8e33",
   "metadata": {},
   "source": [
    "## 문제 4: DataFrame 생성 & head\n",
    "다음 데이터를 이용하여 DataFrame을 생성하고, head(2)로 상위 2개 행만 출력하세요.\n",
    "\n",
    "data = {\n",
    "    '이름': ['홍길동', '김철수', '이영희'],\n",
    "    '나이': [25, 30, 35]\n",
    "}"
   ]
  },
  {
   "cell_type": "code",
   "execution_count": null,
   "id": "c4caac6d",
   "metadata": {},
   "outputs": [],
   "source": [
    "# 여기에 풀이 코드를 작성하세요.\n"
   ]
  },
  {
   "cell_type": "markdown",
   "id": "1b118628",
   "metadata": {},
   "source": [
    "## 문제 5: 컬럼명 변경\n",
    "문제 4에서 만든 DataFrame의 컬럼명을 'Name', 'Age'로 변경하고 출력하세요."
   ]
  },
  {
   "cell_type": "code",
   "execution_count": null,
   "id": "7523a19d",
   "metadata": {},
   "outputs": [],
   "source": [
    "# 여기에 풀이 코드를 작성하세요.\n"
   ]
  },
  {
   "cell_type": "markdown",
   "id": "d9a1458e",
   "metadata": {},
   "source": [
    "## 문제 6: 신규 열 추가 (백만원 단위)\n",
    "아래 df에서 '대학교 등록금'을 백만원 단위로 변환한 열 '등록금_백만원'을 추가하세요.\n",
    "\n",
    "df = pd.DataFrame({\n",
    "    '대학': ['가람대', '누리대', '한빛대', '다온대', '이룸대'],\n",
    "    '지역': ['서울', '부산', '대구', '광주', '대전'],\n",
    "    '대학교 등록금': [7200000, 5800000, 6400000, 5100000, 6800000]\n",
    "})"
   ]
  },
  {
   "cell_type": "code",
   "execution_count": null,
   "id": "86792c40",
   "metadata": {},
   "outputs": [],
   "source": [
    "# 여기에 풀이 코드를 작성하세요.\n"
   ]
  },
  {
   "cell_type": "markdown",
   "id": "b3d86c32",
   "metadata": {},
   "source": [
    "## 문제 7: 고액 등록금 여부\n",
    "위 df에 등록금이 6,500,000원 이상이면 True인 불리언 열 '고액등록금'을 추가하세요."
   ]
  },
  {
   "cell_type": "code",
   "execution_count": null,
   "id": "5a8a4d80",
   "metadata": {},
   "outputs": [],
   "source": [
    "# 여기에 풀이 코드를 작성하세요.\n"
   ]
  },
  {
   "cell_type": "markdown",
   "id": "e1ec663b",
   "metadata": {},
   "source": [
    "## 문제 8: 평균 편차 & 서울 할인\n",
    "위 df에서 (1) '등록금_평균편차' = 등록금 - 평균 등록금, (2) '서울_할인등록금' = 서울만 5% 할인(그 외는 원래값) 열을 추가하세요."
   ]
  },
  {
   "cell_type": "code",
   "execution_count": null,
   "id": "1a978332",
   "metadata": {},
   "outputs": [],
   "source": [
    "# 여기에 풀이 코드를 작성하세요.\n"
   ]
  }
 ],
 "metadata": {
  "kernelspec": {
   "display_name": "Python [conda env:base] *",
   "language": "python",
   "name": "conda-base-py"
  },
  "language_info": {
   "codemirror_mode": {
    "name": "ipython",
    "version": 3
   },
   "file_extension": ".py",
   "mimetype": "text/x-python",
   "name": "python",
   "nbconvert_exporter": "python",
   "pygments_lexer": "ipython3",
   "version": "3.13.5"
  }
 },
 "nbformat": 4,
 "nbformat_minor": 5
}
