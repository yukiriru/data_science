{
 "cells": [
  {
   "cell_type": "markdown",
   "id": "c7b45d72-4270-48c1-a18b-a2eee73a34ef",
   "metadata": {},
   "source": [
    "# Apply 문법"
   ]
  },
  {
   "cell_type": "markdown",
   "id": "63ecaa14-d44f-4a67-b97b-a3a3d1efc1e0",
   "metadata": {},
   "source": [
    "* [데이터프레임 또는 데이터프레임의 열].apply(사용자 정의 함수 또는 람다함수)"
   ]
  },
  {
   "cell_type": "markdown",
   "id": "c90041dc-f4a1-411a-af62-1cd75142da3f",
   "metadata": {},
   "source": [
    "* 사용자 정의 함수 apply 적용"
   ]
  },
  {
   "cell_type": "markdown",
   "id": "2e5fb6f5-7d52-4a12-ab6a-e8b2792d9100",
   "metadata": {},
   "source": [
    "* 람다함수 apply 적용  \n",
    "  간단한 사용자 함수를 정의할 때 사용"
   ]
  },
  {
   "cell_type": "markdown",
   "id": "a4c809d0-aa08-4bc2-bf57-04b57e41a0c7",
   "metadata": {},
   "source": [
    "# 판다스 기본 문법으로 전처리"
   ]
  },
  {
   "cell_type": "markdown",
   "id": "a4d2e8f6-c68b-4e1f-ba23-af74b172744c",
   "metadata": {},
   "source": [
    "### 중간 결론  \n",
    "* 간단한 작업은 굳이 apply 함수를 사용할 필요가 없다."
   ]
  },
  {
   "cell_type": "markdown",
   "id": "15a1a793-e657-4f9a-8a10-cd5c02a33dac",
   "metadata": {},
   "source": [
    "# 조금 복잡한 경우의 apply 적용"
   ]
  },
  {
   "cell_type": "markdown",
   "id": "b6496cc4-b533-4809-9695-ae69e7600f49",
   "metadata": {},
   "source": [
    "## 중간결론"
   ]
  },
  {
   "cell_type": "markdown",
   "id": "0cd82c07-75fe-4c8d-92a7-097ce6301068",
   "metadata": {},
   "source": [
    "* 복잡한 사용자정의 전처리는 사용자 정의 함수를 apply 메소드에 적용하자!"
   ]
  },
  {
   "cell_type": "markdown",
   "id": "63853917-7c07-4901-ab79-6d306976a1f2",
   "metadata": {},
   "source": [
    "# 복잡한 경우에서 사용자 전처리"
   ]
  },
  {
   "cell_type": "markdown",
   "id": "3f8c4f6e-0b1c-433a-b560-f5c17afced22",
   "metadata": {},
   "source": [
    "### 문제 풀어봅시다.  "
   ]
  },
  {
   "cell_type": "markdown",
   "id": "114ebcf5-dab7-4ac4-99c9-403db9faee9e",
   "metadata": {},
   "source": [
    "* 각 카테고리별 할인률을 적용해 봅시다.\n",
    "* 할인률을 적용한 열 이름을 '할인가격' 으로 한다.\n",
    "* 카테고리별 할인율은 다음과 같다\n",
    "    * 의류: 10%\n",
    "    * 가전제품: 20%\n",
    "    * 식품: 5%\n",
    "    * 화장품: 15%\n",
    "\n",
    "apply 메소드에 사용자 정의 함수를 구현해 풀어보세요!"
   ]
  },
  {
   "cell_type": "markdown",
   "id": "4bba1a78-0070-449b-aeb1-0931807dbf81",
   "metadata": {},
   "source": [
    "* 데이터프레임.apply(사용자정의함수명 또는 람다함수, axis=1)"
   ]
  },
  {
   "cell_type": "markdown",
   "id": "33e4f64e-4cdd-4d80-ae14-c5d342c50103",
   "metadata": {},
   "source": [
    "# 조금 더 복잡한 케이스"
   ]
  },
  {
   "cell_type": "markdown",
   "id": "8fcc21a1-f3a9-48ab-bfea-691063acfca0",
   "metadata": {},
   "source": [
    "* 위 수행 결과를 리뷰한 결과 아래와 같은 추가 요구사항이 도출이 되었다.\n",
    "    * 요구사항1] 달러는 앞에 $ 추가한다. 그리고 세자리마다 , 추가한다.\n",
    "    * 요구사항2] 원화는 금액위에 '원' 표시하고 세자리마다 , 추가\n",
    "    * 요구사항3] 할인 금액은 정수로 표기\n",
    "    * 요구사항4] 원본데이터는 숫자로 생성해야 된다."
   ]
  },
  {
   "cell_type": "markdown",
   "id": "10063953-426e-4585-a3ca-de863bcbd602",
   "metadata": {},
   "source": [
    "* 요구사항1"
   ]
  },
  {
   "cell_type": "markdown",
   "id": "7588a396-893c-416f-9947-a1b63ab53e9f",
   "metadata": {},
   "source": [
    "* 요구사항2,3"
   ]
  },
  {
   "cell_type": "markdown",
   "id": "7722fc70-d262-4147-a867-ec95f1694a28",
   "metadata": {},
   "source": [
    "# 판다스 연습은 아래에서"
   ]
  },
  {
   "cell_type": "raw",
   "id": "318dc80c-e1d6-4d01-b301-d300fc232408",
   "metadata": {},
   "source": [
    "* 기초 문제\n",
    "https://wikidocs.net/book/4852\n",
    "\n",
    "* 더 심화학습은 '빅데이터 처리기사'를 알아보세요~"
   ]
  }
 ],
 "metadata": {
  "kernelspec": {
   "display_name": "Python [conda env:base] *",
   "language": "python",
   "name": "conda-base-py"
  },
  "language_info": {
   "codemirror_mode": {
    "name": "ipython",
    "version": 3
   },
   "file_extension": ".py",
   "mimetype": "text/x-python",
   "name": "python",
   "nbconvert_exporter": "python",
   "pygments_lexer": "ipython3",
   "version": "3.13.5"
  }
 },
 "nbformat": 4,
 "nbformat_minor": 5
}
