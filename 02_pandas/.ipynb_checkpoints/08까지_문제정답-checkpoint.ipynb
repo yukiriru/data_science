{
 "cells": [
  {
   "cell_type": "markdown",
   "id": "81ec8359",
   "metadata": {},
   "source": [
    "# 08까지_문제정답\n",
    "\n",
    "Pandas 기초 문법 연습문제와 정답입니다."
   ]
  },
  {
   "cell_type": "code",
   "execution_count": 2,
   "id": "ca19691c",
   "metadata": {},
   "outputs": [],
   "source": [
    "import pandas as pd"
   ]
  },
  {
   "cell_type": "markdown",
   "id": "a1b00d36",
   "metadata": {},
   "source": [
    "## 1) 시리즈 생성 & 브로드캐스팅 (급여 5% 인상)\n",
    "\n",
    "리스트 [3_200_000, 3_800_000, 4_100_000, 2_900_000, 5_200_000]로 시리즈 salary를 만들고, 전 직원 급여를 5% 인상한 시리즈를 계산하세요."
   ]
  },
  {
   "cell_type": "code",
   "execution_count": 3,
   "id": "b18ab05c",
   "metadata": {},
   "outputs": [
    {
     "data": {
      "text/plain": [
       "0    3360000.0\n",
       "1    3990000.0\n",
       "2    4305000.0\n",
       "3    3045000.0\n",
       "4    5460000.0\n",
       "dtype: float64"
      ]
     },
     "execution_count": 3,
     "metadata": {},
     "output_type": "execute_result"
    }
   ],
   "source": [
    "salary = pd.Series([3_200_000, 3_800_000, 4_100_000, 2_900_000, 5_200_000])\n",
    "salary * 1.05"
   ]
  },
  {
   "cell_type": "markdown",
   "id": "60f09f35",
   "metadata": {},
   "source": [
    "## 2) 데이터프레임 생성 & 기본 속성\n",
    "\n",
    "아래 데이터로 df_signup을 만들고 head(2), shape, columns, dtypes를 확인하세요.\n",
    "{\n",
    "  \"고객ID\": [101, 102, 103, 104, 105],\n",
    "  \"채널\": [\"검색광고\", \"지인추천\", \"검색광고\", \"SNS\", \"지인추천\"],\n",
    "  \"가입일\": [\"2025-08-01\", \"2025-08-02\", \"2025-08-02\", \"2025-08-03\", \"2025-08-03\"]\n",
    "}"
   ]
  },
  {
   "cell_type": "code",
   "execution_count": null,
   "id": "ffc888de-3f4a-474a-9e2c-7c3dd951b118",
   "metadata": {},
   "outputs": [],
   "source": [
    "df_signup = pd.DataFrame({\n",
    "    \"고객ID\": [101, 102, 103, 104, 105],\n",
    "    \"채널\": [\"검색광고\", \"지인추천\", \"검색광고\", \"SNS\", \"지인추천\"],\n",
    "    \"가입일\": [\"2025-08-01\", \"2025-08-02\", \"2025-08-02\", \"2025-08-03\", \"2025-08-03\"]\n",
    "})"
   ]
  },
  {
   "cell_type": "code",
   "execution_count": null,
   "id": "4665f5d4-f8f4-40fb-9da4-526513afdf80",
   "metadata": {},
   "outputs": [],
   "source": [
    "df_signup.head(2)"
   ]
  },
  {
   "cell_type": "code",
   "execution_count": null,
   "id": "570a3f7b-3a7a-48dc-9f91-d916f23a1b3a",
   "metadata": {},
   "outputs": [],
   "source": [
    "df_signup.shape"
   ]
  },
  {
   "cell_type": "code",
   "execution_count": null,
   "id": "6ecef946-1396-4913-bdbe-31d3facedb8d",
   "metadata": {},
   "outputs": [],
   "source": [
    "df_signup.columns"
   ]
  },
  {
   "cell_type": "code",
   "execution_count": null,
   "id": "9bf5e54a-44d9-4093-8a90-194a36a61d26",
   "metadata": {},
   "outputs": [
    {
     "data": {
      "text/plain": [
       "(   고객ID    채널         가입일\n",
       " 0   101  검색광고  2025-08-01\n",
       " 1   102  지인추천  2025-08-02,\n",
       " (5, 3),\n",
       " Index(['고객ID', '채널', '가입일'], dtype='object'),\n",
       " 고객ID     int64\n",
       " 채널      object\n",
       " 가입일     object\n",
       " dtype: object)"
      ]
     },
     "execution_count": 4,
     "metadata": {},
     "output_type": "execute_result"
    }
   ],
   "source": [
    "df_signup.dtypes"
   ]
  },
  {
   "cell_type": "markdown",
   "id": "3a55e5a4",
   "metadata": {},
   "source": [
    "## 4) 브로드캐스팅 신규 열 (등록금 → 백만원)\n",
    "\n",
    "아래 데이터로 df_fee를 만들고, 등록금_백만원 = '대학교 등록금' / 1_000_000 열을 추가하세요.\n",
    "{\n",
    "  \"대학\": [\"가람대\", \"누리대\", \"한빛대\", \"다온대\", \"이룸대\"],\n",
    "  \"지역\": [\"서울\", \"부산\", \"대구\", \"광주\", \"대전\"],\n",
    "  \"대학교 등록금\": [7_200_000, 5_800_000, 6_400_000, 5_100_000, 6_800_000]\n",
    "}"
   ]
  },
  {
   "cell_type": "code",
   "execution_count": null,
   "id": "62bf7c9f",
   "metadata": {},
   "outputs": [],
   "source": [
    "df_fee = pd.DataFrame({\n",
    "    \"대학\": [\"가람대\", \"누리대\", \"한빛대\", \"다온대\", \"이룸대\"],\n",
    "    \"지역\": [\"서울\", \"부산\", \"대구\", \"광주\", \"대전\"],\n",
    "    \"대학교 등록금\": [7_200_000, 5_800_000, 6_400_000, 5_100_000, 6_800_000]\n",
    "})\n",
    "df_fee[\"등록금_백만원\"] = df_fee[\"대학교 등록금\"] / 1_000_000\n",
    "df_fee"
   ]
  },
  {
   "cell_type": "markdown",
   "id": "7751a6e8",
   "metadata": {},
   "source": [
    "## 5) 고액 등록금 여부 열\n",
    "\n",
    "문제 4의 df_fee에 고액등록금 = ('대학교 등록금' >= 6_500_000) 불리언 열을 추가하세요."
   ]
  },
  {
   "cell_type": "code",
   "execution_count": null,
   "id": "0dbef14e",
   "metadata": {},
   "outputs": [],
   "source": [
    "df_fee[\"고액등록금\"] = df_fee[\"대학교 등록금\"] >= 6_500_000\n",
    "df_fee"
   ]
  },
  {
   "cell_type": "markdown",
   "id": "23740eca",
   "metadata": {},
   "source": [
    "## 6) 서울만 할인 테이블 만들기\n",
    "\n",
    "문제 4의 df_fee에서 지역이 '서울'인 행만 df_seoul로 추출하고, 할인등록금_서울만 = '대학교 등록금' * 0.95 열을 추가하세요."
   ]
  },
  {
   "cell_type": "code",
   "execution_count": null,
   "id": "f3a530ee",
   "metadata": {},
   "outputs": [],
   "source": [
    "mask_seoul = df_fee[\"지역\"] == \"서울\"\n",
    "df_seoul = df_fee[mask_seoul].copy()\n",
    "df_seoul[\"할인등록금_서울만\"] = df_seoul[\"대학교 등록금\"] * 0.95\n",
    "df_seoul[[\"대학\", \"지역\", \"대학교 등록금\", \"할인등록금_서울만\"]]"
   ]
  },
  {
   "cell_type": "markdown",
   "id": "53a3dca6",
   "metadata": {},
   "source": [
    "## 8) axis 합계 (월별/지표별 합)\n",
    "\n",
    "아래 데이터로 df_kpi를 만들고, sum(axis=0)으로 월별 합, sum(axis=1)으로 지표별 합을 구하세요.\n",
    "{\n",
    "  \"지표\": [\"방문자수\", \"신규가입\", \"구매건수\"],\n",
    "  \"2025-06\": [12000, 350, 180],\n",
    "  \"2025-07\": [13500, 410, 205],\n",
    "  \"2025-08\": [14200, 390, 210]\n",
    "}"
   ]
  },
  {
   "cell_type": "code",
   "execution_count": null,
   "id": "5833da01",
   "metadata": {},
   "outputs": [],
   "source": [
    "df_kpi = pd.DataFrame({\n",
    "    \"지표\": [\"방문자수\", \"신규가입\", \"구매건수\"],\n",
    "    \"2025-06\": [12000, 350, 180],\n",
    "    \"2025-07\": [13500, 410, 205],\n",
    "    \"2025-08\": [14200, 390, 210]\n",
    "})\n",
    "df_kpi_idx = df_kpi.set_index(\"지표\")\n",
    "월별합 = df_kpi_idx.sum(axis=0)\n",
    "지표별합 = df_kpi_idx.sum(axis=1)\n",
    "(월별합, 지표별합)"
   ]
  }
 ],
 "metadata": {
  "kernelspec": {
   "display_name": "Python [conda env:base] *",
   "language": "python",
   "name": "conda-base-py"
  },
  "language_info": {
   "codemirror_mode": {
    "name": "ipython",
    "version": 3
   },
   "file_extension": ".py",
   "mimetype": "text/x-python",
   "name": "python",
   "nbconvert_exporter": "python",
   "pygments_lexer": "ipython3",
   "version": "3.13.5"
  }
 },
 "nbformat": 4,
 "nbformat_minor": 5
}
