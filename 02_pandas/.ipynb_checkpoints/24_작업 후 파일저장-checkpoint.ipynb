{
 "cells": [
  {
   "cell_type": "code",
   "execution_count": 1,
   "id": "f99ef663",
   "metadata": {},
   "outputs": [
    {
     "data": {
      "text/html": [
       "<style>.output {flex-direction: row;}</style>"
      ],
      "text/plain": [
       "<IPython.core.display.HTML object>"
      ]
     },
     "execution_count": 1,
     "metadata": {},
     "output_type": "execute_result"
    }
   ],
   "source": [
    "import pandas as pd\n",
    "from IPython.display import display, HTML\n",
    "HTML('<style>.output {flex-direction: row;}</style>')"
   ]
  },
  {
   "cell_type": "code",
   "execution_count": 2,
   "id": "a63417a9",
   "metadata": {},
   "outputs": [
    {
     "data": {
      "text/plain": [
       "(95012, 12)"
      ]
     },
     "execution_count": 2,
     "metadata": {},
     "output_type": "execute_result"
    }
   ],
   "source": [
    "asia = pd.read_csv('data/dataset_raw_data.csv', encoding='cp949')\n",
    "asia.shape"
   ]
  },
  {
   "cell_type": "code",
   "execution_count": 3,
   "id": "201c28eb",
   "metadata": {},
   "outputs": [
    {
     "data": {
      "text/html": [
       "<div>\n",
       "<style scoped>\n",
       "    .dataframe tbody tr th:only-of-type {\n",
       "        vertical-align: middle;\n",
       "    }\n",
       "\n",
       "    .dataframe tbody tr th {\n",
       "        vertical-align: top;\n",
       "    }\n",
       "\n",
       "    .dataframe thead th {\n",
       "        text-align: right;\n",
       "    }\n",
       "</style>\n",
       "<table border=\"1\" class=\"dataframe\">\n",
       "  <thead>\n",
       "    <tr style=\"text-align: right;\">\n",
       "      <th></th>\n",
       "      <th>노선명</th>\n",
       "      <th>항공사</th>\n",
       "      <th>출발 공항</th>\n",
       "      <th>출발 국가</th>\n",
       "      <th>도착 공항</th>\n",
       "      <th>도착 국가</th>\n",
       "      <th>기체번호</th>\n",
       "      <th>기종</th>\n",
       "      <th>정원(전체)</th>\n",
       "      <th>년도</th>\n",
       "      <th>월</th>\n",
       "      <th>일</th>\n",
       "    </tr>\n",
       "  </thead>\n",
       "  <tbody>\n",
       "    <tr>\n",
       "      <th>0</th>\n",
       "      <td>7J105</td>\n",
       "      <td>Tajik Air</td>\n",
       "      <td>DYU</td>\n",
       "      <td>TJK</td>\n",
       "      <td>IKA</td>\n",
       "      <td>IRI</td>\n",
       "      <td>EY-444</td>\n",
       "      <td>B737-3L9</td>\n",
       "      <td>149</td>\n",
       "      <td>2018</td>\n",
       "      <td>1</td>\n",
       "      <td>7</td>\n",
       "    </tr>\n",
       "    <tr>\n",
       "      <th>1</th>\n",
       "      <td>7J105</td>\n",
       "      <td>Tajik Air</td>\n",
       "      <td>DYU</td>\n",
       "      <td>TJK</td>\n",
       "      <td>IKA</td>\n",
       "      <td>IRI</td>\n",
       "      <td>EY-444</td>\n",
       "      <td>B737-3L9</td>\n",
       "      <td>149</td>\n",
       "      <td>2018</td>\n",
       "      <td>1</td>\n",
       "      <td>14</td>\n",
       "    </tr>\n",
       "    <tr>\n",
       "      <th>2</th>\n",
       "      <td>7J105</td>\n",
       "      <td>Tajik Air</td>\n",
       "      <td>DYU</td>\n",
       "      <td>TJK</td>\n",
       "      <td>IKA</td>\n",
       "      <td>IRI</td>\n",
       "      <td>EY-444</td>\n",
       "      <td>B737-3L9</td>\n",
       "      <td>149</td>\n",
       "      <td>2018</td>\n",
       "      <td>1</td>\n",
       "      <td>21</td>\n",
       "    </tr>\n",
       "    <tr>\n",
       "      <th>3</th>\n",
       "      <td>7J105</td>\n",
       "      <td>Tajik Air</td>\n",
       "      <td>DYU</td>\n",
       "      <td>TJK</td>\n",
       "      <td>IKA</td>\n",
       "      <td>IRI</td>\n",
       "      <td>EY-444</td>\n",
       "      <td>B737-3L9</td>\n",
       "      <td>149</td>\n",
       "      <td>2018</td>\n",
       "      <td>1</td>\n",
       "      <td>29</td>\n",
       "    </tr>\n",
       "    <tr>\n",
       "      <th>4</th>\n",
       "      <td>7J105</td>\n",
       "      <td>Tajik Air</td>\n",
       "      <td>DYU</td>\n",
       "      <td>TJK</td>\n",
       "      <td>IKA</td>\n",
       "      <td>IRI</td>\n",
       "      <td>EY-444</td>\n",
       "      <td>B737-3L9</td>\n",
       "      <td>149</td>\n",
       "      <td>2018</td>\n",
       "      <td>2</td>\n",
       "      <td>4</td>\n",
       "    </tr>\n",
       "  </tbody>\n",
       "</table>\n",
       "</div>"
      ],
      "text/plain": [
       "     노선명        항공사 출발 공항 출발 국가 도착 공항 도착 국가    기체번호        기종  정원(전체)    년도  \\\n",
       "0  7J105  Tajik Air   DYU   TJK   IKA   IRI  EY-444  B737-3L9     149  2018   \n",
       "1  7J105  Tajik Air   DYU   TJK   IKA   IRI  EY-444  B737-3L9     149  2018   \n",
       "2  7J105  Tajik Air   DYU   TJK   IKA   IRI  EY-444  B737-3L9     149  2018   \n",
       "3  7J105  Tajik Air   DYU   TJK   IKA   IRI  EY-444  B737-3L9     149  2018   \n",
       "4  7J105  Tajik Air   DYU   TJK   IKA   IRI  EY-444  B737-3L9     149  2018   \n",
       "\n",
       "   월   일  \n",
       "0  1   7  \n",
       "1  1  14  \n",
       "2  1  21  \n",
       "3  1  29  \n",
       "4  2   4  "
      ]
     },
     "execution_count": 3,
     "metadata": {},
     "output_type": "execute_result"
    }
   ],
   "source": [
    "asia.head()"
   ]
  },
  {
   "cell_type": "code",
   "execution_count": 4,
   "id": "78a8992e",
   "metadata": {},
   "outputs": [
    {
     "name": "stdout",
     "output_type": "stream",
     "text": [
      "<class 'pandas.core.frame.DataFrame'>\n",
      "RangeIndex: 95012 entries, 0 to 95011\n",
      "Data columns (total 12 columns):\n",
      " #   Column  Non-Null Count  Dtype \n",
      "---  ------  --------------  ----- \n",
      " 0   노선명     95012 non-null  object\n",
      " 1   항공사     95012 non-null  object\n",
      " 2   출발 공항   95012 non-null  object\n",
      " 3   출발 국가   95012 non-null  object\n",
      " 4   도착 공항   95012 non-null  object\n",
      " 5   도착 국가   95012 non-null  object\n",
      " 6   기체번호    95012 non-null  object\n",
      " 7   기종      95012 non-null  object\n",
      " 8   정원(전체)  95012 non-null  int64 \n",
      " 9   년도      95012 non-null  int64 \n",
      " 10  월       95012 non-null  int64 \n",
      " 11  일       95012 non-null  int64 \n",
      "dtypes: int64(4), object(8)\n",
      "memory usage: 8.7+ MB\n"
     ]
    }
   ],
   "source": [
    "asia.info()"
   ]
  },
  {
   "cell_type": "code",
   "execution_count": 5,
   "id": "37a847ed",
   "metadata": {},
   "outputs": [],
   "source": [
    "asia_dep_port = asia.groupby([\"항공사\",\"출발 공항\",\"출발 국가\",\"도착 공항\",\"도착 국가\",\"년도\",\"월\"])\n",
    "a = asia_dep_port.agg({'월':'count',\n",
    "                       '년도':'count',\n",
    "                       '출발 국가':'count',\n",
    "                       '도착 국가':'count',\n",
    "                       '정원(전체)':'sum'}) "
   ]
  },
  {
   "cell_type": "code",
   "execution_count": 6,
   "id": "a16de212",
   "metadata": {
    "scrolled": true
   },
   "outputs": [
    {
     "data": {
      "text/html": [
       "<div>\n",
       "<style scoped>\n",
       "    .dataframe tbody tr th:only-of-type {\n",
       "        vertical-align: middle;\n",
       "    }\n",
       "\n",
       "    .dataframe tbody tr th {\n",
       "        vertical-align: top;\n",
       "    }\n",
       "\n",
       "    .dataframe thead th {\n",
       "        text-align: right;\n",
       "    }\n",
       "</style>\n",
       "<table border=\"1\" class=\"dataframe\">\n",
       "  <thead>\n",
       "    <tr style=\"text-align: right;\">\n",
       "      <th></th>\n",
       "      <th></th>\n",
       "      <th></th>\n",
       "      <th></th>\n",
       "      <th></th>\n",
       "      <th></th>\n",
       "      <th></th>\n",
       "      <th>월</th>\n",
       "      <th>년도</th>\n",
       "      <th>출발 국가</th>\n",
       "      <th>도착 국가</th>\n",
       "      <th>정원(전체)</th>\n",
       "    </tr>\n",
       "    <tr>\n",
       "      <th>항공사</th>\n",
       "      <th>출발 공항</th>\n",
       "      <th>출발 국가</th>\n",
       "      <th>도착 공항</th>\n",
       "      <th>도착 국가</th>\n",
       "      <th>년도</th>\n",
       "      <th>월</th>\n",
       "      <th></th>\n",
       "      <th></th>\n",
       "      <th></th>\n",
       "      <th></th>\n",
       "      <th></th>\n",
       "    </tr>\n",
       "  </thead>\n",
       "  <tbody>\n",
       "    <tr>\n",
       "      <th rowspan=\"5\" valign=\"top\">AZAL Azerbaijan Airlines</th>\n",
       "      <th rowspan=\"5\" valign=\"top\">SCO</th>\n",
       "      <th rowspan=\"5\" valign=\"top\">KAZ</th>\n",
       "      <th rowspan=\"5\" valign=\"top\">GYD</th>\n",
       "      <th rowspan=\"5\" valign=\"top\">AZE</th>\n",
       "      <th rowspan=\"5\" valign=\"top\">2016</th>\n",
       "      <th>6</th>\n",
       "      <td>8</td>\n",
       "      <td>8</td>\n",
       "      <td>8</td>\n",
       "      <td>8</td>\n",
       "      <td>500</td>\n",
       "    </tr>\n",
       "    <tr>\n",
       "      <th>7</th>\n",
       "      <td>7</td>\n",
       "      <td>7</td>\n",
       "      <td>7</td>\n",
       "      <td>7</td>\n",
       "      <td>514</td>\n",
       "    </tr>\n",
       "    <tr>\n",
       "      <th>8</th>\n",
       "      <td>12</td>\n",
       "      <td>12</td>\n",
       "      <td>12</td>\n",
       "      <td>12</td>\n",
       "      <td>760</td>\n",
       "    </tr>\n",
       "    <tr>\n",
       "      <th>9</th>\n",
       "      <td>2</td>\n",
       "      <td>2</td>\n",
       "      <td>2</td>\n",
       "      <td>2</td>\n",
       "      <td>164</td>\n",
       "    </tr>\n",
       "    <tr>\n",
       "      <th>11</th>\n",
       "      <td>2</td>\n",
       "      <td>2</td>\n",
       "      <td>2</td>\n",
       "      <td>2</td>\n",
       "      <td>140</td>\n",
       "    </tr>\n",
       "  </tbody>\n",
       "</table>\n",
       "</div>"
      ],
      "text/plain": [
       "                                                           월  년도  출발 국가  \\\n",
       "항공사                      출발 공항 출발 국가 도착 공항 도착 국가 년도   월                   \n",
       "AZAL Azerbaijan Airlines SCO   KAZ   GYD   AZE   2016 6    8   8      8   \n",
       "                                                      7    7   7      7   \n",
       "                                                      8   12  12     12   \n",
       "                                                      9    2   2      2   \n",
       "                                                      11   2   2      2   \n",
       "\n",
       "                                                          도착 국가  정원(전체)  \n",
       "항공사                      출발 공항 출발 국가 도착 공항 도착 국가 년도   월                  \n",
       "AZAL Azerbaijan Airlines SCO   KAZ   GYD   AZE   2016 6       8     500  \n",
       "                                                      7       7     514  \n",
       "                                                      8      12     760  \n",
       "                                                      9       2     164  \n",
       "                                                      11      2     140  "
      ]
     },
     "execution_count": 6,
     "metadata": {},
     "output_type": "execute_result"
    }
   ],
   "source": [
    "a.head()"
   ]
  },
  {
   "cell_type": "code",
   "execution_count": 7,
   "id": "68c4ad90",
   "metadata": {},
   "outputs": [
    {
     "data": {
      "text/plain": [
       "(7769, 5)"
      ]
     },
     "execution_count": 7,
     "metadata": {},
     "output_type": "execute_result"
    }
   ],
   "source": [
    "a.shape"
   ]
  },
  {
   "cell_type": "code",
   "execution_count": 8,
   "id": "a3cfa580",
   "metadata": {},
   "outputs": [],
   "source": [
    "a.to_csv('data/groupby_result.csv', encoding='cp949')"
   ]
  },
  {
   "cell_type": "code",
   "execution_count": null,
   "id": "31303c45",
   "metadata": {},
   "outputs": [],
   "source": []
  }
 ],
 "metadata": {
  "kernelspec": {
   "display_name": "Python [conda env:base] *",
   "language": "python",
   "name": "conda-base-py"
  },
  "language_info": {
   "codemirror_mode": {
    "name": "ipython",
    "version": 3
   },
   "file_extension": ".py",
   "mimetype": "text/x-python",
   "name": "python",
   "nbconvert_exporter": "python",
   "pygments_lexer": "ipython3",
   "version": "3.13.5"
  }
 },
 "nbformat": 4,
 "nbformat_minor": 5
}
