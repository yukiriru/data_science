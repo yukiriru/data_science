{
 "cells": [
  {
   "cell_type": "code",
   "execution_count": null,
   "id": "91899ceb-ceb1-4d0f-980b-906c04b3c375",
   "metadata": {},
   "outputs": [],
   "source": [
    "입력 모드"
   ]
  },
  {
   "cell_type": "code",
   "execution_count": 1,
   "id": "507330cd-fe99-4c8d-b278-f35812f0f611",
   "metadata": {},
   "outputs": [
    {
     "data": {
      "text/plain": [
       "300"
      ]
     },
     "execution_count": 1,
     "metadata": {},
     "output_type": "execute_result"
    }
   ],
   "source": [
    "# 셀에서 Esc를 입력하기 전까지는 계속 하나의 셀에 입력(편집) 모드로 진행\n",
    "num1 = 100\n",
    "num2 = 200\n",
    "num1+num2\n",
    "#Output으로 출력되는 것은 마지막 명령문의 결과"
   ]
  },
  {
   "cell_type": "raw",
   "id": "615df8b5-176d-4384-b976-dfd631b04dd2",
   "metadata": {},
   "source": [
    "주피터에서는 print 함수를 사용하지 않아도 변수 또는 표현식의 값을 바로 확인 가능하다."
   ]
  },
  {
   "cell_type": "code",
   "execution_count": 2,
   "id": "4b0326b9-7256-47f1-923c-52fb33f002d5",
   "metadata": {},
   "outputs": [
    {
     "data": {
      "text/plain": [
       "100"
      ]
     },
     "execution_count": 2,
     "metadata": {},
     "output_type": "execute_result"
    }
   ],
   "source": [
    "num1"
   ]
  },
  {
   "cell_type": "code",
   "execution_count": 3,
   "id": "e5756f3f-295b-45b8-bd4c-1b5c04f995d5",
   "metadata": {},
   "outputs": [
    {
     "data": {
      "text/plain": [
       "200"
      ]
     },
     "execution_count": 3,
     "metadata": {},
     "output_type": "execute_result"
    }
   ],
   "source": [
    "num2"
   ]
  },
  {
   "cell_type": "code",
   "execution_count": 4,
   "id": "0d73695d-1d19-4dd6-b0f6-8507bb4d41b6",
   "metadata": {},
   "outputs": [
    {
     "data": {
      "text/plain": [
       "100"
      ]
     },
     "execution_count": 4,
     "metadata": {},
     "output_type": "execute_result"
    }
   ],
   "source": [
    "num2-num1"
   ]
  },
  {
   "cell_type": "markdown",
   "id": "fe5f629e-d724-4cf5-8f75-6644d7d4ce64",
   "metadata": {},
   "source": [
    "## 자동완성"
   ]
  },
  {
   "cell_type": "code",
   "execution_count": 5,
   "id": "75eaf1a7-fdb4-4f5c-bc22-27ced10bc4b0",
   "metadata": {},
   "outputs": [],
   "source": [
    "myloooooooooooooooooooooooooog_varible =100"
   ]
  },
  {
   "cell_type": "markdown",
   "id": "d10a546c-efdd-4f67-9386-a03145adbcf8",
   "metadata": {},
   "source": [
    "* 자동완성을 하려면 Tab키 입력"
   ]
  },
  {
   "cell_type": "code",
   "execution_count": 7,
   "id": "42348225-346b-40e1-9dfe-b40498ee0e8f",
   "metadata": {},
   "outputs": [
    {
     "data": {
      "text/plain": [
       "200"
      ]
     },
     "execution_count": 7,
     "metadata": {},
     "output_type": "execute_result"
    }
   ],
   "source": [
    "myloooooooooooooooooooooooooog_varible"
   ]
  },
  {
   "cell_type": "code",
   "execution_count": 6,
   "id": "0549ef8f-246f-40b0-bb4c-15d951717056",
   "metadata": {},
   "outputs": [
    {
     "data": {
      "text/plain": [
       "200"
      ]
     },
     "execution_count": 6,
     "metadata": {},
     "output_type": "execute_result"
    }
   ],
   "source": [
    "myloooooooooooooooooooooooooog_varible=200\n",
    "myloooooooooooooooooooooooooog_varible"
   ]
  },
  {
   "cell_type": "markdown",
   "id": "f86f9815-14a8-46fd-bebc-0b1a2c53b11a",
   "metadata": {},
   "source": [
    "## 명령모드"
   ]
  },
  {
   "cell_type": "raw",
   "id": "abb9a141-96bc-4baf-ae6f-891676009db2",
   "metadata": {},
   "source": [
    "입력(편집)모드에서 ESC를 선택하게 되면 명령 모드로 전환이 된다.\n",
    "화살표 위,아래 방향키: 위,아래로 이동\n",
    "* k,j: 위,아래로 이동\n",
    "* a: 현재 셀에서 윗 라인에 셀 추가\n",
    "* b: 현재 셀에서 다음 라인에 셀 추가\n",
    "* dd: 현재 셀을 삭제하고 다음 라인으로 이동"
   ]
  },
  {
   "cell_type": "raw",
   "id": "b023069b-320c-4838-8753-83b67d550796",
   "metadata": {},
   "source": [
    " 명령모드, 입력(편집)모드에서 모두 사용할 수 있는 단축키\n",
    "* Ctrl + Enter: 셀 실행 (행이동X, 현재 셀만 실행)\n",
    "* Shift + Enter: 실행 후 다음행으로 이동 (이전에 만든 코드 블럭 재수행할때)\n",
    "* Alt + Enter: 셀 실행하고 아래에 새 셀 추가 (처음 코드를 작성할 때 주로 사용)\n",
    "* Ctrl + S: 저장"
   ]
  },
  {
   "cell_type": "code",
   "execution_count": null,
   "id": "69fb4b55-1168-4ab9-ba1b-ed21ac78f4a4",
   "metadata": {},
   "outputs": [],
   "source": [
    "num1=2\n",
    "num2=4\n",
    "num1 * num2"
   ]
  },
  {
   "cell_type": "code",
   "execution_count": null,
   "id": "69e8077c-66df-477d-bb34-07b01e095a19",
   "metadata": {},
   "outputs": [],
   "source": [
    "문서종료"
   ]
  },
  {
   "cell_type": "markdown",
   "id": "565b38f6-e95e-4834-bb11-b8d06445bacd",
   "metadata": {
    "jp-MarkdownHeadingCollapsed": true
   },
   "source": [
    "# 편집(입력) 모드에서만 사용할 수 있는 키보드 단축키\n",
    "* Esc: 명령 모드로 전환\n",
    "* Ctrl + Shift + - : 셀 분할 (커서 위치를 기준으로 분할 )\n",
    "* 병합할 셀을 멀티 셀렉트(Shift+방향키) - Shift+m => 셀 병합\n",
    "* Ctrl + z : Undo\n",
    "* Ctrl + / : Comment"
   ]
  },
  {
   "cell_type": "code",
   "execution_count": null,
   "id": "3fc8e3a3-9d93-4bff-9c20-1a510907c16c",
   "metadata": {},
   "outputs": [],
   "source": [
    "num1 = 100\n",
    "num2 = 200\n",
    "num3 = 300\n",
    "\n",
    "result = num1 + num2 + num3\n",
    "\n",
    "#출력정의\n",
    "print(f'result:{resulit}')"
   ]
  },
  {
   "cell_type": "markdown",
   "id": "13a34f73-1fc5-48ee-ab7b-3250772586cc",
   "metadata": {},
   "source": [
    "# 명령 모드에서만 사용할 수 있는 키보드 단축키\n",
    "* Enter: 편집 모드로 전환\n",
    "* k: 이전 셀 선택\n",
    "* j: 다음 셀 선택\n",
    "* y/m/r:  코드 셀/ 마크다운 셀/ Raw 셀로 타입 전환\n",
    "* a/b:  현재 셀의 위/아래에 새 셀 추가\n",
    "* x/c/v: 현재 셀에 대한 cut/copy/paste\n",
    "* dd: 현재 셀 삭제\n",
    "* Shift + m = 아래셀과 병합\n",
    "* z: 삭제한 셀 복원\n",
    "* Ctrl + f: find\n",
    "* Space: 화면 단위 스크롤 다운\n",
    "* Shift + Space: 화면 단위 스크롤 업\n",
    "* Ctrl + Shift + h: 키보드 단축키 전체 목록\n"
   ]
  },
  {
   "cell_type": "code",
   "execution_count": null,
   "id": "7c0dee4c-efc7-402f-9a81-d4a262bac214",
   "metadata": {},
   "outputs": [],
   "source": [
    "#주석 또는 제목"
   ]
  },
  {
   "cell_type": "code",
   "execution_count": 14,
   "id": "198e09ce-844f-4ece-8dfd-ccddde0c1289",
   "metadata": {},
   "outputs": [],
   "source": [
    "secret_pw = '4321'"
   ]
  },
  {
   "cell_type": "code",
   "execution_count": 15,
   "id": "43b9e1c7-94ea-4148-8fd7-5fa94687dbfb",
   "metadata": {},
   "outputs": [
    {
     "name": "stdout",
     "output_type": "stream",
     "text": [
      "secret_pw:4321\n"
     ]
    }
   ],
   "source": [
    "print(f'secret_pw:{secret_pw}')"
   ]
  },
  {
   "cell_type": "code",
   "execution_count": 16,
   "id": "612c3442-bbd0-4ddc-8e93-caedb17e9218",
   "metadata": {},
   "outputs": [],
   "source": [
    "secret_pw = '4321'"
   ]
  },
  {
   "cell_type": "code",
   "execution_count": 17,
   "id": "846f96f2-326e-4352-8b50-cb69a496541d",
   "metadata": {},
   "outputs": [
    {
     "name": "stdout",
     "output_type": "stream",
     "text": [
      "secret_pw:4321\n"
     ]
    }
   ],
   "source": [
    "print(f'secret_pw:{secret_pw}')"
   ]
  },
  {
   "cell_type": "code",
   "execution_count": 18,
   "id": "beb4641c-46e6-4104-8686-51022ab3e45b",
   "metadata": {},
   "outputs": [],
   "source": [
    "#기타"
   ]
  },
  {
   "cell_type": "raw",
   "id": "75469d0e-1943-42ca-88f7-8ce12c038a0a",
   "metadata": {},
   "source": [
    "![커맨드라인 명령어]\n",
    "파이썬 코드상 참조하는 외부라이브러리 설치 명령어 실행할 때 유용하다."
   ]
  },
  {
   "cell_type": "code",
   "execution_count": 20,
   "id": "e6d43361-684a-4cd4-a89d-6d3e9a470423",
   "metadata": {},
   "outputs": [
    {
     "name": "stdout",
     "output_type": "stream",
     "text": [
      " C 드라이브의 볼륨: Windows10\n",
      " 볼륨 일련 번호: 0601-669D\n",
      "\n",
      " C:\\Project\\3_DataScience\\02_pandas 디렉터리\n",
      "\n",
      "2025-08-13  오전 11:23    <DIR>          .\n",
      "2025-08-13  오전 11:23    <DIR>          ..\n",
      "2025-08-13  오전 10:33    <DIR>          .ipynb_checkpoints\n",
      "2025-08-13  오전 11:01             9,486 01_마크다운_연습.ipynb\n",
      "2025-08-13  오전 11:23             8,727 02_에디터연습.ipynb\n",
      "2025-08-13  오전 09:25    <DIR>          anaconda_projects\n",
      "2025-08-13  오전 09:27               936 HelloWorld.ipynb\n",
      "               3개 파일              19,149 바이트\n",
      "               4개 디렉터리  139,893,551,104 바이트 남음\n"
     ]
    }
   ],
   "source": [
    "!dir"
   ]
  },
  {
   "cell_type": "code",
   "execution_count": 23,
   "id": "6152d460-4f0a-4685-b9bd-7e17bb1fee03",
   "metadata": {},
   "outputs": [
    {
     "name": "stdout",
     "output_type": "stream",
     "text": [
      "Requirement already satisfied: faker in c:\\users\\owner\\anaconda3\\lib\\site-packages (37.5.3)\n",
      "Requirement already satisfied: tzdata in c:\\users\\owner\\anaconda3\\lib\\site-packages (from faker) (2025.2)\n"
     ]
    }
   ],
   "source": [
    "!pip install faker"
   ]
  },
  {
   "cell_type": "code",
   "execution_count": null,
   "id": "c8730da5-fdde-4eb0-a33c-4cf6bc5e6e18",
   "metadata": {},
   "outputs": [],
   "source": []
  },
  {
   "cell_type": "code",
   "execution_count": null,
   "id": "7fe215bf-9943-43b5-8179-cdf3a6667292",
   "metadata": {},
   "outputs": [],
   "source": []
  }
 ],
 "metadata": {
  "kernelspec": {
   "display_name": "Python [conda env:base] *",
   "language": "python",
   "name": "conda-base-py"
  },
  "language_info": {
   "codemirror_mode": {
    "name": "ipython",
    "version": 3
   },
   "file_extension": ".py",
   "mimetype": "text/x-python",
   "name": "python",
   "nbconvert_exporter": "python",
   "pygments_lexer": "ipython3",
   "version": "3.13.5"
  }
 },
 "nbformat": 4,
 "nbformat_minor": 5
}
