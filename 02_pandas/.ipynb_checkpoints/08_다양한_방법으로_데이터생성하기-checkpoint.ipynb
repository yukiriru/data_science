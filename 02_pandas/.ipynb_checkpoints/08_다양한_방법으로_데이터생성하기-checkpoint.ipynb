{
 "cells": [
  {
   "cell_type": "code",
   "execution_count": 5,
   "id": "d855443d-a086-4770-9600-99e1a67cedcb",
   "metadata": {},
   "outputs": [],
   "source": [
    "import pandas as pd"
   ]
  },
  {
   "cell_type": "code",
   "execution_count": null,
   "id": "f9703463-be62-49b2-a0ef-b6daa26a02ce",
   "metadata": {},
   "outputs": [],
   "source": []
  },
  {
   "cell_type": "markdown",
   "id": "fab7304a-6613-4cb3-96eb-e62c5ab29eca",
   "metadata": {},
   "source": [
    "# 시리즈"
   ]
  },
  {
   "cell_type": "code",
   "execution_count": 7,
   "id": "c3796ac6-34e3-4831-9bb4-04a7f64539e7",
   "metadata": {},
   "outputs": [
    {
     "data": {
      "text/plain": [
       "1차성적    86\n",
       "2차성적    85\n",
       "3차성적    89\n",
       "4차성적    95\n",
       "dtype: int64"
      ]
     },
     "execution_count": 7,
     "metadata": {},
     "output_type": "execute_result"
    }
   ],
   "source": [
    "d = {\n",
    "    '1차성적':86,\n",
    "    '2차성적':85,\n",
    "    '3차성적':89,\n",
    "    '4차성적':95,\n",
    "}\n",
    "ser1 = pd.Series(d)\n",
    "ser1"
   ]
  },
  {
   "cell_type": "code",
   "execution_count": 8,
   "id": "f63c7040-be15-483e-ae41-de9f529486a3",
   "metadata": {},
   "outputs": [
    {
     "data": {
      "text/plain": [
       "id0001    홍길동\n",
       "id0002    이순신\n",
       "id0003    강감찬\n",
       "id0004    임꺽정\n",
       "dtype: object"
      ]
     },
     "execution_count": 8,
     "metadata": {},
     "output_type": "execute_result"
    }
   ],
   "source": [
    "d2={\n",
    "    'id0001':'홍길동',\n",
    "    'id0002':'이순신',\n",
    "    'id0003':'강감찬',\n",
    "    'id0004':'임꺽정',\n",
    "}\n",
    "ser2 = pd.Series(d2)\n",
    "ser2"
   ]
  },
  {
   "cell_type": "markdown",
   "id": "4f4df099-e7d4-4cb3-a38d-81ff7de252c6",
   "metadata": {},
   "source": [
    "## 리스트로 시리즈 생성"
   ]
  },
  {
   "cell_type": "markdown",
   "id": "73fe8a9e-d42c-4b1a-b5e8-5549495f0ad8",
   "metadata": {},
   "source": [
    "## Dict(딕셔너리)로 시리즈 생성"
   ]
  },
  {
   "cell_type": "markdown",
   "id": "b777c440-544e-4c06-a99e-1c6a7a3a7843",
   "metadata": {},
   "source": [
    "* 키가 시리즈의 인덱스로 활용이 된다."
   ]
  },
  {
   "cell_type": "markdown",
   "id": "a6a2cc25-e04c-4be1-872c-5448d7ded02e",
   "metadata": {},
   "source": [
    "# 데이터 프레임"
   ]
  },
  {
   "cell_type": "code",
   "execution_count": null,
   "id": "c6c98d5b-71b6-441d-b2a1-c1ec9d7815df",
   "metadata": {},
   "outputs": [],
   "source": []
  },
  {
   "cell_type": "markdown",
   "id": "4c9c4cc3-4b49-48a3-8565-a7903ea0c77f",
   "metadata": {},
   "source": [
    "## 시리즈로 데이터 프레임 생성 1 - Dict의 키가 index로 활용"
   ]
  },
  {
   "cell_type": "code",
   "execution_count": 13,
   "id": "b8d0a75a-0b73-4a60-94fc-6fdf7ff794e9",
   "metadata": {},
   "outputs": [
    {
     "data": {
      "text/html": [
       "<div>\n",
       "<style scoped>\n",
       "    .dataframe tbody tr th:only-of-type {\n",
       "        vertical-align: middle;\n",
       "    }\n",
       "\n",
       "    .dataframe tbody tr th {\n",
       "        vertical-align: top;\n",
       "    }\n",
       "\n",
       "    .dataframe thead th {\n",
       "        text-align: right;\n",
       "    }\n",
       "</style>\n",
       "<table border=\"1\" class=\"dataframe\">\n",
       "  <thead>\n",
       "    <tr style=\"text-align: right;\">\n",
       "      <th></th>\n",
       "      <th>이름</th>\n",
       "    </tr>\n",
       "  </thead>\n",
       "  <tbody>\n",
       "    <tr>\n",
       "      <th>id0001</th>\n",
       "      <td>홍길동</td>\n",
       "    </tr>\n",
       "    <tr>\n",
       "      <th>id0002</th>\n",
       "      <td>이순신</td>\n",
       "    </tr>\n",
       "    <tr>\n",
       "      <th>id0003</th>\n",
       "      <td>강감찬</td>\n",
       "    </tr>\n",
       "    <tr>\n",
       "      <th>id0004</th>\n",
       "      <td>임꺽정</td>\n",
       "    </tr>\n",
       "  </tbody>\n",
       "</table>\n",
       "</div>"
      ],
      "text/plain": [
       "         이름\n",
       "id0001  홍길동\n",
       "id0002  이순신\n",
       "id0003  강감찬\n",
       "id0004  임꺽정"
      ]
     },
     "execution_count": 13,
     "metadata": {},
     "output_type": "execute_result"
    }
   ],
   "source": [
    "df = pd.DataFrame(ser2,columns=['이름'])\n",
    "df"
   ]
  },
  {
   "cell_type": "markdown",
   "id": "a38a67ef-a598-4109-b4cd-8eb10249308e",
   "metadata": {},
   "source": [
    "## 시리즈로 데이터 프레임 생성 2  - dict의 키가 컬럼으로 활용"
   ]
  },
  {
   "cell_type": "code",
   "execution_count": 14,
   "id": "dfc1a1f6-314d-4c12-8ab2-affd1423b4a3",
   "metadata": {},
   "outputs": [],
   "source": [
    "s1 = pd.Series([91,92,93,94], name='s1')\n",
    "s2 = pd.Series([81,82,83,84], name='s2')"
   ]
  },
  {
   "cell_type": "code",
   "execution_count": 17,
   "id": "aff06cea-66cf-479a-991c-53a93247558a",
   "metadata": {},
   "outputs": [
    {
     "data": {
      "text/html": [
       "<div>\n",
       "<style scoped>\n",
       "    .dataframe tbody tr th:only-of-type {\n",
       "        vertical-align: middle;\n",
       "    }\n",
       "\n",
       "    .dataframe tbody tr th {\n",
       "        vertical-align: top;\n",
       "    }\n",
       "\n",
       "    .dataframe thead th {\n",
       "        text-align: right;\n",
       "    }\n",
       "</style>\n",
       "<table border=\"1\" class=\"dataframe\">\n",
       "  <thead>\n",
       "    <tr style=\"text-align: right;\">\n",
       "      <th></th>\n",
       "      <th>국어점수</th>\n",
       "      <th>수학점수</th>\n",
       "    </tr>\n",
       "  </thead>\n",
       "  <tbody>\n",
       "    <tr>\n",
       "      <th>0</th>\n",
       "      <td>91</td>\n",
       "      <td>81</td>\n",
       "    </tr>\n",
       "    <tr>\n",
       "      <th>1</th>\n",
       "      <td>92</td>\n",
       "      <td>82</td>\n",
       "    </tr>\n",
       "    <tr>\n",
       "      <th>2</th>\n",
       "      <td>93</td>\n",
       "      <td>83</td>\n",
       "    </tr>\n",
       "    <tr>\n",
       "      <th>3</th>\n",
       "      <td>94</td>\n",
       "      <td>84</td>\n",
       "    </tr>\n",
       "  </tbody>\n",
       "</table>\n",
       "</div>"
      ],
      "text/plain": [
       "   국어점수  수학점수\n",
       "0    91    81\n",
       "1    92    82\n",
       "2    93    83\n",
       "3    94    84"
      ]
     },
     "execution_count": 17,
     "metadata": {},
     "output_type": "execute_result"
    }
   ],
   "source": [
    "df =pd.DataFrame(\n",
    "    {\n",
    "        #딕셔너리의 키가 데이터 프레임의 열 이름으로 활용\n",
    "        #딕셔너리 키의 값이 데이터 프레임 열의 실데이터로 활용ㅊㅍ\n",
    "        '국어점수':s1, \n",
    "        '수학점수':s2\n",
    "    }\n",
    ")\n",
    "df"
   ]
  },
  {
   "cell_type": "code",
   "execution_count": 17,
   "id": "4aca57c7-c68f-4cfe-8826-02f5a9b3faea",
   "metadata": {},
   "outputs": [
    {
     "data": {
      "text/html": [
       "<div>\n",
       "<style scoped>\n",
       "    .dataframe tbody tr th:only-of-type {\n",
       "        vertical-align: middle;\n",
       "    }\n",
       "\n",
       "    .dataframe tbody tr th {\n",
       "        vertical-align: top;\n",
       "    }\n",
       "\n",
       "    .dataframe thead th {\n",
       "        text-align: right;\n",
       "    }\n",
       "</style>\n",
       "<table border=\"1\" class=\"dataframe\">\n",
       "  <thead>\n",
       "    <tr style=\"text-align: right;\">\n",
       "      <th></th>\n",
       "      <th>국어점수</th>\n",
       "      <th>수학점수</th>\n",
       "    </tr>\n",
       "  </thead>\n",
       "  <tbody>\n",
       "    <tr>\n",
       "      <th>0</th>\n",
       "      <td>91</td>\n",
       "      <td>81</td>\n",
       "    </tr>\n",
       "    <tr>\n",
       "      <th>1</th>\n",
       "      <td>92</td>\n",
       "      <td>82</td>\n",
       "    </tr>\n",
       "    <tr>\n",
       "      <th>2</th>\n",
       "      <td>93</td>\n",
       "      <td>83</td>\n",
       "    </tr>\n",
       "    <tr>\n",
       "      <th>3</th>\n",
       "      <td>94</td>\n",
       "      <td>84</td>\n",
       "    </tr>\n",
       "  </tbody>\n",
       "</table>\n",
       "</div>"
      ],
      "text/plain": [
       "   국어점수  수학점수\n",
       "0    91    81\n",
       "1    92    82\n",
       "2    93    83\n",
       "3    94    84"
      ]
     },
     "execution_count": 17,
     "metadata": {},
     "output_type": "execute_result"
    }
   ],
   "source": [
    "df =pd.DataFrame(\n",
    "    {\n",
    "        #딕셔너리의 키가 데이터 프레임의 열 이름으로 활용\n",
    "        #딕셔너리 키의 값이 데이터 프레임 열의 실데이터로 활용ㅊㅍ\n",
    "        '국어점수':[91,92,93,94]\n",
    "        '수학점수':[81,82,83,84]\n",
    "        \n",
    "    }\n",
    ")\n",
    "df"
   ]
  },
  {
   "cell_type": "code",
   "execution_count": 21,
   "id": "60478254-55d8-4646-ab43-5e277aaed7d7",
   "metadata": {},
   "outputs": [
    {
     "data": {
      "text/html": [
       "<div>\n",
       "<style scoped>\n",
       "    .dataframe tbody tr th:only-of-type {\n",
       "        vertical-align: middle;\n",
       "    }\n",
       "\n",
       "    .dataframe tbody tr th {\n",
       "        vertical-align: top;\n",
       "    }\n",
       "\n",
       "    .dataframe thead th {\n",
       "        text-align: right;\n",
       "    }\n",
       "</style>\n",
       "<table border=\"1\" class=\"dataframe\">\n",
       "  <thead>\n",
       "    <tr style=\"text-align: right;\">\n",
       "      <th></th>\n",
       "      <th>국어점수</th>\n",
       "      <th>수학점수</th>\n",
       "    </tr>\n",
       "  </thead>\n",
       "  <tbody>\n",
       "    <tr>\n",
       "      <th>0</th>\n",
       "      <td>91</td>\n",
       "      <td>81</td>\n",
       "    </tr>\n",
       "    <tr>\n",
       "      <th>1</th>\n",
       "      <td>92</td>\n",
       "      <td>82</td>\n",
       "    </tr>\n",
       "    <tr>\n",
       "      <th>2</th>\n",
       "      <td>93</td>\n",
       "      <td>83</td>\n",
       "    </tr>\n",
       "    <tr>\n",
       "      <th>3</th>\n",
       "      <td>94</td>\n",
       "      <td>84</td>\n",
       "    </tr>\n",
       "  </tbody>\n",
       "</table>\n",
       "</div>"
      ],
      "text/plain": [
       "   국어점수  수학점수\n",
       "0    91    81\n",
       "1    92    82\n",
       "2    93    83\n",
       "3    94    84"
      ]
     },
     "execution_count": 21,
     "metadata": {},
     "output_type": "execute_result"
    }
   ],
   "source": [
    "df =pd.DataFrame(\n",
    "    [\n",
    "        [91,81],\n",
    "        [92,82],\n",
    "        [93,83],\n",
    "        [94,84]\n",
    "    ], columns=['국어점수','수학점수']\n",
    ")\n",
    "df"
   ]
  },
  {
   "cell_type": "code",
   "execution_count": null,
   "id": "b2c9c2f2-d43f-48c7-9017-898189365e21",
   "metadata": {},
   "outputs": [],
   "source": []
  }
 ],
 "metadata": {
  "kernelspec": {
   "display_name": "Python [conda env:base] *",
   "language": "python",
   "name": "conda-base-py"
  },
  "language_info": {
   "codemirror_mode": {
    "name": "ipython",
    "version": 3
   },
   "file_extension": ".py",
   "mimetype": "text/x-python",
   "name": "python",
   "nbconvert_exporter": "python",
   "pygments_lexer": "ipython3",
   "version": "3.13.5"
  }
 },
 "nbformat": 4,
 "nbformat_minor": 5
}
