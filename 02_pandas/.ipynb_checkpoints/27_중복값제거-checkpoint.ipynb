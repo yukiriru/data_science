{
 "cells": [
  {
   "cell_type": "markdown",
   "id": "52ca0414-68f1-48bc-9fbe-a9c80d1f50b5",
   "metadata": {},
   "source": [
    "# 중복데이터를 삭제해야 하는 경우  \n",
    "제공받은 데이터의 행데이터가 중복을 허용하지 말아야 하는 경우라면 식별을 해서 삭제를 해야 한다."
   ]
  },
  {
   "cell_type": "markdown",
   "id": "26d71fc0-d298-4f24-8a5e-63dbc4e3ae0f",
   "metadata": {},
   "source": [
    "# 중복값 찾기"
   ]
  },
  {
   "cell_type": "markdown",
   "id": "223d9111-0118-4cd9-aa52-0da1753edbfd",
   "metadata": {},
   "source": [
    "* 전체 행에 적용"
   ]
  },
  {
   "cell_type": "markdown",
   "id": "4c605c75-2724-48fa-9735-1ff9bb5ea028",
   "metadata": {},
   "source": [
    "* 특정 열을 기준으로 적용"
   ]
  },
  {
   "cell_type": "markdown",
   "id": "d9eed4b7-46af-4d6f-b82e-0717952cbefa",
   "metadata": {},
   "source": [
    "* 중복값이 발생한 행데이터 보기"
   ]
  },
  {
   "cell_type": "markdown",
   "id": "cb0d8208-2626-43ef-bdea-e4b8ae2482eb",
   "metadata": {},
   "source": [
    "* 원본을 포함하여 중복값이 발생한 모든 행데이터 보기"
   ]
  },
  {
   "cell_type": "markdown",
   "id": "6b15283b-cc14-4a00-b0e3-bd45b55a8a85",
   "metadata": {},
   "source": [
    "# 중복값 삭제"
   ]
  },
  {
   "cell_type": "markdown",
   "id": "fa9c0374-f2b7-4042-99bd-90c779f4655b",
   "metadata": {},
   "source": [
    "* 원본을 유지한 형태로 삭제"
   ]
  },
  {
   "cell_type": "markdown",
   "id": "aa8f7a22-9eb8-43e5-9e8f-005d3dd0a2cc",
   "metadata": {},
   "source": [
    "* 원본에 중복값 삭제후 업데이트"
   ]
  }
 ],
 "metadata": {
  "kernelspec": {
   "display_name": "Python [conda env:base] *",
   "language": "python",
   "name": "conda-base-py"
  },
  "language_info": {
   "codemirror_mode": {
    "name": "ipython",
    "version": 3
   },
   "file_extension": ".py",
   "mimetype": "text/x-python",
   "name": "python",
   "nbconvert_exporter": "python",
   "pygments_lexer": "ipython3",
   "version": "3.13.5"
  }
 },
 "nbformat": 4,
 "nbformat_minor": 5
}