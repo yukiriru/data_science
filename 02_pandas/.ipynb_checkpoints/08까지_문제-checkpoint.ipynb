{
 "cells": [
  {
   "cell_type": "markdown",
   "id": "a944e036",
   "metadata": {},
   "source": [
    "# 08까지_문제\n",
    "\n",
    "Pandas 기초 문법 연습문제입니다."
   ]
  },
  {
   "cell_type": "code",
   "execution_count": null,
   "id": "eb0741ce",
   "metadata": {},
   "outputs": [],
   "source": [
    "import pandas as pd"
   ]
  },
  {
   "cell_type": "markdown",
   "id": "a0f2a84e",
   "metadata": {},
   "source": [
    "## 1) 시리즈 생성 & 브로드캐스팅 (급여 5% 인상)\n",
    "\n",
    "리스트 [3_200_000, 3_800_000, 4_100_000, 2_900_000, 5_200_000]로 시리즈 salary를 만들고, 전 직원 급여를 5% 인상한 시리즈를 계산하세요."
   ]
  },
  {
   "cell_type": "code",
   "execution_count": null,
   "id": "3d247eef",
   "metadata": {},
   "outputs": [],
   "source": [
    "# 여기에 코드를 작성하세요."
   ]
  },
  {
   "cell_type": "markdown",
   "id": "0119b855",
   "metadata": {},
   "source": [
    "## 2) 데이터프레임 생성 & 기본 속성\n",
    "\n",
    "아래 데이터로 df_signup을 만들고 head(2), shape, columns, dtypes를 확인하세요.\n",
    "{\n",
    "  \"고객ID\": [101, 102, 103, 104, 105],\n",
    "  \"채널\": [\"검색광고\", \"지인추천\", \"검색광고\", \"SNS\", \"지인추천\"],\n",
    "  \"가입일\": [\"2025-08-01\", \"2025-08-02\", \"2025-08-02\", \"2025-08-03\", \"2025-08-03\"]\n",
    "}"
   ]
  },
  {
   "cell_type": "code",
   "execution_count": null,
   "id": "6702364b",
   "metadata": {},
   "outputs": [],
   "source": [
    "# 여기에 코드를 작성하세요."
   ]
  },
  {
   "cell_type": "code",
   "execution_count": null,
   "id": "1e74bd3b",
   "metadata": {},
   "outputs": [],
   "source": [
    "# 여기에 코드를 작성하세요."
   ]
  },
  {
   "cell_type": "markdown",
   "id": "1811ef72",
   "metadata": {},
   "source": [
    "## 4) 브로드캐스팅 신규 열 (등록금 → 백만원)\n",
    "\n",
    "아래 데이터로 df_fee를 만들고, 등록금_백만원 = '대학교 등록금' / 1_000_000 열을 추가하세요.\n",
    "{\n",
    "  \"대학\": [\"가람대\", \"누리대\", \"한빛대\", \"다온대\", \"이룸대\"],\n",
    "  \"지역\": [\"서울\", \"부산\", \"대구\", \"광주\", \"대전\"],\n",
    "  \"대학교 등록금\": [7_200_000, 5_800_000, 6_400_000, 5_100_000, 6_800_000]\n",
    "}"
   ]
  },
  {
   "cell_type": "code",
   "execution_count": null,
   "id": "531086cc",
   "metadata": {},
   "outputs": [],
   "source": [
    "# 여기에 코드를 작성하세요."
   ]
  },
  {
   "cell_type": "markdown",
   "id": "d5da0681",
   "metadata": {},
   "source": [
    "## 5) 고액 등록금 여부 열\n",
    "\n",
    "문제 4의 df_fee에 고액등록금 = ('대학교 등록금' >= 6_500_000) 불리언 열을 추가하세요."
   ]
  },
  {
   "cell_type": "code",
   "execution_count": null,
   "id": "67a56da3",
   "metadata": {},
   "outputs": [],
   "source": [
    "# 여기에 코드를 작성하세요."
   ]
  },
  {
   "cell_type": "markdown",
   "id": "12a20bda",
   "metadata": {},
   "source": [
    "## 6) 서울만 할인 테이블 만들기\n",
    "\n",
    "문제 4의 df_fee에서 지역이 '서울'인 행만 df_seoul로 추출하고, 할인등록금_서울만 = '대학교 등록금' * 0.95 열을 추가하세요."
   ]
  },
  {
   "cell_type": "code",
   "execution_count": null,
   "id": "ad5d8aa8",
   "metadata": {},
   "outputs": [],
   "source": [
    "# 여기에 코드를 작성하세요."
   ]
  },
  {
   "cell_type": "code",
   "execution_count": null,
   "id": "7fce5126",
   "metadata": {},
   "outputs": [],
   "source": [
    "# 여기에 코드를 작성하세요."
   ]
  },
  {
   "cell_type": "markdown",
   "id": "fb3466fa",
   "metadata": {},
   "source": [
    "## 8) axis 합계 (월별/지표별 합)\n",
    "\n",
    "아래 데이터로 df_kpi를 만들고, sum(axis=0)으로 월별 합, sum(axis=1)으로 지표별 합을 구하세요.\n",
    "{\n",
    "  \"지표\": [\"방문자수\", \"신규가입\", \"구매건수\"],\n",
    "  \"2025-06\": [12000, 350, 180],\n",
    "  \"2025-07\": [13500, 410, 205],\n",
    "  \"2025-08\": [14200, 390, 210]\n",
    "}"
   ]
  },
  {
   "cell_type": "code",
   "execution_count": null,
   "id": "ffe4f7d9",
   "metadata": {},
   "outputs": [],
   "source": [
    "# 여기에 코드를 작성하세요."
   ]
  }
 ],
 "metadata": {
  "kernelspec": {
   "display_name": "Python [conda env:base] *",
   "language": "python",
   "name": "conda-base-py"
  },
  "language_info": {
   "codemirror_mode": {
    "name": "ipython",
    "version": 3
   },
   "file_extension": ".py",
   "mimetype": "text/x-python",
   "name": "python",
   "nbconvert_exporter": "python",
   "pygments_lexer": "ipython3",
   "version": "3.13.5"
  }
 },
 "nbformat": 4,
 "nbformat_minor": 5
}
