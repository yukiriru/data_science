{
 "cells": [
  {
   "cell_type": "markdown",
   "id": "ecff2940",
   "metadata": {},
   "source": [
    "# 결측값/문자열/자료형/필터링 연습문제 (정답 포함)"
   ]
  },
  {
   "cell_type": "markdown",
   "id": "7accce1b",
   "metadata": {},
   "source": [
    "사용 문법: `import pandas as pd`, `pd.DataFrame`, `df.isnull()`, `df.isnull().any(axis=0/1)`, `df.dropna(subset=[...])`, `df.loc[...]`, `df.select_dtypes(include=[\"object\"])`, `Series.value_counts()`, `df.nlargest(n, col)`, `Series/DataFrame.fillna(...)`, `Series/DataFrame.interpolate(...)`"
   ]
  },
  {
   "cell_type": "markdown",
   "id": "c718cafc",
   "metadata": {},
   "source": [
    "## 0) 공통 데이터셋 (학교별, 12행)"
   ]
  },
  {
   "cell_type": "code",
   "execution_count": null,
   "id": "e4a5486c",
   "metadata": {},
   "outputs": [],
   "source": [
    "\n",
    "import pandas as pd\n",
    "\n",
    "data = {\n",
    "    \"학교\":      [\"한빛대\", \"청솔대\", \"해오름대\", \"누리대\", \"한빛대 분교\", \"수성대\", \"대명대\", \"강북대\", \"남산대\", \"동성대\", \"가온대\", \"별무리대\"],\n",
    "    \"지역\":      [\"서울\", \"대구\", \"부산\", \"대구\", \"서울\", \"대구\", \"대구\", \"서울\", \"부산\", \"대전\", None, \"서울\"],\n",
    "    \"설립구분\":   [\"사립\", \"국립\", \"사립\", \"사립\", \"사립\", \"국립\", \"사립\", \"사립\", \"국립\", \"사립\", \"사립\", \"국립\"],\n",
    "    \"학생수\":     [12000, 8000, None, 5000, 6000, 7000, None, 9000, 11000, 4000, 3000, None],\n",
    "    \"평균등록금\": [720.0, 680.0, 750.0, None, 710.0, 690.0, 720.0, 705.0, None, 660.0, 640.0, 730.0],\n",
    "    \"전화번호\":   [\"02-1111-2222\", None, \"051-222-3333\", \"053-444-5555\", \"02-7777-8888\", None, \"053-999-0000\", \"02-333-4444\", None, \"042-111-2222\", \"02-555-6666\", None],\n",
    "    \"홈페이지\":   [\"hanbit.ac.kr\", \"chs.ac.kr\", \"sunrise.ac.kr\", \"nuri.ac.kr\", None, \"susung.ac.kr\", \"daemyeong.ac.kr\", \"gb.ac.kr\", \"namsan.ac.kr\", None, \"gaon.ac.kr\", \"star.ac.kr\"],\n",
    "    \"만족도\":     [4.1, None, 3.8, 4.0, None, 4.2, None, 3.9, 4.3, None, 3.7, 4.0],\n",
    "    \"개교연도\":   [1980, 1975, 1990, 2001, 2005, 1988, 1995, 1972, 1983, 2003, 2010, 1999]\n",
    "}\n",
    "\n",
    "df = pd.DataFrame(data)\n",
    "df\n"
   ]
  },
  {
   "cell_type": "markdown",
   "id": "96ac4141",
   "metadata": {},
   "source": [
    "## 1) 결측값이 있는 **열 정보** 식별"
   ]
  },
  {
   "cell_type": "code",
   "execution_count": null,
   "id": "04bbfe5c",
   "metadata": {},
   "outputs": [],
   "source": [
    "\n",
    "missing_cols_mask = df.isnull().any(axis=0)\n",
    "missing_cols_mask\n",
    "\n",
    "cols_with_na = missing_cols_mask[missing_cols_mask == True]\n",
    "cols_with_na\n"
   ]
  },
  {
   "cell_type": "markdown",
   "id": "c686f77d",
   "metadata": {},
   "source": [
    "## 2) 결측치가 있는 **전체 행** 필터링"
   ]
  },
  {
   "cell_type": "code",
   "execution_count": null,
   "id": "52574929",
   "metadata": {},
   "outputs": [],
   "source": [
    "\n",
    "row_has_na = df.isnull().any(axis=1)\n",
    "df[row_has_na]\n"
   ]
  },
  {
   "cell_type": "markdown",
   "id": "c7b6bd55",
   "metadata": {},
   "source": [
    "## 3) **2개 열에 있는 결측치** 행 필터링 (예: 학생수, 평균등록금 중 하나라도 NaN)"
   ]
  },
  {
   "cell_type": "code",
   "execution_count": null,
   "id": "b594eca7",
   "metadata": {},
   "outputs": [],
   "source": [
    "\n",
    "target_cols = [\"학생수\", \"평균등록금\"]\n",
    "mask_2col_na = df[target_cols].isnull().any(axis=1)\n",
    "df[mask_2col_na]\n"
   ]
  },
  {
   "cell_type": "markdown",
   "id": "2ebeb35e",
   "metadata": {},
   "source": [
    "## 4) 결측치가 **없는 전체 행** 필터링"
   ]
  },
  {
   "cell_type": "code",
   "execution_count": null,
   "id": "e9af350c",
   "metadata": {},
   "outputs": [],
   "source": [
    "\n",
    "no_na_rows = df.loc[~df.isnull().any(axis=1), :]\n",
    "no_na_rows\n"
   ]
  },
  {
   "cell_type": "markdown",
   "id": "d80d2c1b",
   "metadata": {},
   "source": [
    "## 5) **2개 열에 결측치가 없는** 행 필터링 (subset 활용: 학생수, 평균등록금)"
   ]
  },
  {
   "cell_type": "code",
   "execution_count": null,
   "id": "f18ac5e3",
   "metadata": {},
   "outputs": [],
   "source": [
    "\n",
    "df_no_na_subset = df.dropna(subset=[\"학생수\", \"평균등록금\"])\n",
    "df_no_na_subset\n"
   ]
  },
  {
   "cell_type": "markdown",
   "id": "5a179451",
   "metadata": {},
   "source": [
    "## 6) 범주형 데이터 열에서 '설립구분, 지역' 열에 대해서 **유형별 갯수** 구하기 (힌트: value_counts)"
   ]
  },
  {
   "cell_type": "code",
   "execution_count": null,
   "id": "ae599ee3",
   "metadata": {},
   "outputs": [],
   "source": [
    "\n",
    "df[\"설립구분\"].value_counts(), df[\"지역\"].value_counts()\n"
   ]
  },
  {
   "cell_type": "markdown",
   "id": "94ddafe2",
   "metadata": {},
   "source": [
    "## 7) **수치형 열 별 상위 Top3 값** 구하기 (예: 평균등록금, 학생수)"
   ]
  },
  {
   "cell_type": "code",
   "execution_count": null,
   "id": "7693367a",
   "metadata": {},
   "outputs": [],
   "source": [
    "\n",
    "top3_fee = df.nlargest(3, \"평균등록금\")\n",
    "top3_student = df.nlargest(3, \"학생수\")\n",
    "top3_fee, top3_student\n"
   ]
  },
  {
   "cell_type": "markdown",
   "id": "3425d9fd",
   "metadata": {},
   "source": [
    "## 8) **문자열(객체) dtype인 모든 열만** 선택해서 보기 (select_dtypes)"
   ]
  },
  {
   "cell_type": "code",
   "execution_count": null,
   "id": "88be5dfc",
   "metadata": {},
   "outputs": [],
   "source": [
    "\n",
    "df_str_only = df.select_dtypes(include=[\"object\"])\n",
    "df_str_only.head(10)\n"
   ]
  },
  {
   "cell_type": "markdown",
   "id": "ddafcbf7",
   "metadata": {},
   "source": [
    "## 9) **단일 값으로 결측값 처리** (fillna): 평균등록금=700.0, 전화번호='정보없음'"
   ]
  },
  {
   "cell_type": "code",
   "execution_count": null,
   "id": "a0e46bba",
   "metadata": {},
   "outputs": [],
   "source": [
    "\n",
    "df_fill_fee = df.copy()\n",
    "df_fill_fee[\"평균등록금\"] = df_fill_fee[\"평균등록금\"].fillna(700.0)\n",
    "df_fill_phone = df.copy()\n",
    "df_fill_phone[\"전화번호\"] = df_fill_phone[\"전화번호\"].fillna(\"정보없음\")\n",
    "df_fill_fee[[\"학교\",\"평균등록금\"]].head(), df_fill_phone[[\"학교\",\"전화번호\"]].head()\n"
   ]
  },
  {
   "cell_type": "markdown",
   "id": "e6de3f4e",
   "metadata": {},
   "source": [
    "## 10) 보간법용 별도 데이터셋 (연도별 평균등록금)"
   ]
  },
  {
   "cell_type": "code",
   "execution_count": null,
   "id": "cf30fe32",
   "metadata": {},
   "outputs": [],
   "source": [
    "\n",
    "import pandas as pd\n",
    "\n",
    "df_fee_year = pd.DataFrame({\n",
    "    \"연도\": [2018, 2019, 2020, 2021, 2022, 2023],\n",
    "    \"평균등록금\": [700, 710, None, 730, None, 750]\n",
    "})\n",
    "df_fee_year\n"
   ]
  },
  {
   "cell_type": "markdown",
   "id": "bd7d9343",
   "metadata": {},
   "source": [
    "## 10) **보간법으로 결측값 처리** (interpolate) — 별도 데이터셋(df_fee_year)의 평균등록금 보간"
   ]
  },
  {
   "cell_type": "code",
   "execution_count": null,
   "id": "adc5ae61",
   "metadata": {},
   "outputs": [],
   "source": [
    "\n",
    "df_fee_year_interp = df_fee_year.copy()\n",
    "df_fee_year_interp[\"평균등록금_보간\"] = df_fee_year_interp[\"평균등록금\"].interpolate()\n",
    "df_fee_year_interp\n"
   ]
  },
  {
   "cell_type": "markdown",
   "id": "83e8625b",
   "metadata": {},
   "source": [
    "## 11) **특정 열에서 결측값이 있는 모든 행** 삭제 (예: 홈페이지)"
   ]
  },
  {
   "cell_type": "code",
   "execution_count": null,
   "id": "91b306bd",
   "metadata": {},
   "outputs": [],
   "source": [
    "\n",
    "df_drop_home = df.dropna(subset=[\"홈페이지\"])\n",
    "df_drop_home\n"
   ]
  }
 ],
 "metadata": {
  "kernelspec": {
   "display_name": "Python [conda env:base] *",
   "language": "python",
   "name": "conda-base-py"
  },
  "language_info": {
   "codemirror_mode": {
    "name": "ipython",
    "version": 3
   },
   "file_extension": ".py",
   "mimetype": "text/x-python",
   "name": "python",
   "nbconvert_exporter": "python",
   "pygments_lexer": "ipython3",
   "version": "3.13.5"
  }
 },
 "nbformat": 4,
 "nbformat_minor": 5
}
