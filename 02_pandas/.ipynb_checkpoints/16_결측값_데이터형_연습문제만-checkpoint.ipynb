{
 "cells": [
  {
   "cell_type": "markdown",
   "id": "20cd7061",
   "metadata": {},
   "source": [
    "# 결측값/문자열/자료형/필터링 연습문제 (문제만)"
   ]
  },
  {
   "cell_type": "markdown",
   "id": "669261a3",
   "metadata": {},
   "source": [
    "사용 문법: `import pandas as pd`, `pd.DataFrame`, `df.isnull()`, `df.isnull().any(axis=0/1)`, `df.dropna(subset=[...])`, `df.loc[...]`, `df.select_dtypes(include=[\"object\"])`, `Series.value_counts()`, `df.nlargest(n, col)`, `Series/DataFrame.fillna(...)`, `Series/DataFrame.interpolate(...)`"
   ]
  },
  {
   "cell_type": "markdown",
   "id": "fe96a997",
   "metadata": {},
   "source": [
    "## 0) 공통 데이터셋 (학교별, 12행)"
   ]
  },
  {
   "cell_type": "code",
   "execution_count": null,
   "id": "a188f335",
   "metadata": {},
   "outputs": [],
   "source": [
    "\n",
    "import pandas as pd\n",
    "\n",
    "data = {\n",
    "    \"학교\":      [\"한빛대\", \"청솔대\", \"해오름대\", \"누리대\", \"한빛대 분교\", \"수성대\", \"대명대\", \"강북대\", \"남산대\", \"동성대\", \"가온대\", \"별무리대\"],\n",
    "    \"지역\":      [\"서울\", \"대구\", \"부산\", \"대구\", \"서울\", \"대구\", \"대구\", \"서울\", \"부산\", \"대전\", None, \"서울\"],\n",
    "    \"설립구분\":   [\"사립\", \"국립\", \"사립\", \"사립\", \"사립\", \"국립\", \"사립\", \"사립\", \"국립\", \"사립\", \"사립\", \"국립\"],\n",
    "    \"학생수\":     [12000, 8000, None, 5000, 6000, 7000, None, 9000, 11000, 4000, 3000, None],\n",
    "    \"평균등록금\": [720.0, 680.0, 750.0, None, 710.0, 690.0, 720.0, 705.0, None, 660.0, 640.0, 730.0],\n",
    "    \"전화번호\":   [\"02-1111-2222\", None, \"051-222-3333\", \"053-444-5555\", \"02-7777-8888\", None, \"053-999-0000\", \"02-333-4444\", None, \"042-111-2222\", \"02-555-6666\", None],\n",
    "    \"홈페이지\":   [\"hanbit.ac.kr\", \"chs.ac.kr\", \"sunrise.ac.kr\", \"nuri.ac.kr\", None, \"susung.ac.kr\", \"daemyeong.ac.kr\", \"gb.ac.kr\", \"namsan.ac.kr\", None, \"gaon.ac.kr\", \"star.ac.kr\"],\n",
    "    \"만족도\":     [4.1, None, 3.8, 4.0, None, 4.2, None, 3.9, 4.3, None, 3.7, 4.0],\n",
    "    \"개교연도\":   [1980, 1975, 1990, 2001, 2005, 1988, 1995, 1972, 1983, 2003, 2010, 1999]\n",
    "}\n",
    "\n",
    "df = pd.DataFrame(data)\n",
    "df\n"
   ]
  },
  {
   "cell_type": "markdown",
   "id": "25d1496a",
   "metadata": {},
   "source": [
    "## 1) 결측값이 있는 **열 정보** 식별"
   ]
  },
  {
   "cell_type": "code",
   "execution_count": null,
   "id": "35d27f11",
   "metadata": {},
   "outputs": [],
   "source": [
    "# 여기에 코드를 작성하세요"
   ]
  },
  {
   "cell_type": "markdown",
   "id": "18a14433",
   "metadata": {},
   "source": [
    "## 2) 결측치가 있는 **전체 행** 필터링"
   ]
  },
  {
   "cell_type": "code",
   "execution_count": null,
   "id": "d0516ab9",
   "metadata": {},
   "outputs": [],
   "source": [
    "# 여기에 코드를 작성하세요"
   ]
  },
  {
   "cell_type": "markdown",
   "id": "27dc9e56",
   "metadata": {},
   "source": [
    "## 3) **2개 열에 있는 결측치** 행 필터링 (예: 학생수, 평균등록금 중 하나라도 NaN)"
   ]
  },
  {
   "cell_type": "code",
   "execution_count": null,
   "id": "e7564614",
   "metadata": {},
   "outputs": [],
   "source": [
    "# 여기에 코드를 작성하세요"
   ]
  },
  {
   "cell_type": "markdown",
   "id": "676af1ad",
   "metadata": {},
   "source": [
    "## 4) 결측치가 **없는 전체 행** 필터링"
   ]
  },
  {
   "cell_type": "code",
   "execution_count": null,
   "id": "b56bced6",
   "metadata": {},
   "outputs": [],
   "source": [
    "# 여기에 코드를 작성하세요"
   ]
  },
  {
   "cell_type": "markdown",
   "id": "0a7bbf9b",
   "metadata": {},
   "source": [
    "## 5) **2개 열에 결측치가 없는** 행 필터링 (subset 활용: 학생수, 평균등록금)"
   ]
  },
  {
   "cell_type": "code",
   "execution_count": null,
   "id": "3a7bd0d6",
   "metadata": {},
   "outputs": [],
   "source": [
    "# 여기에 코드를 작성하세요"
   ]
  },
  {
   "cell_type": "markdown",
   "id": "8e87bfa1",
   "metadata": {},
   "source": [
    "## 6) 범주형 데이터 열에서 '설립구분, 지역' 열에 대해서 **유형별 갯수** 구하기 (힌트: value_counts)"
   ]
  },
  {
   "cell_type": "code",
   "execution_count": null,
   "id": "2aeec7dc",
   "metadata": {},
   "outputs": [],
   "source": [
    "# 여기에 코드를 작성하세요"
   ]
  },
  {
   "cell_type": "markdown",
   "id": "4cb9474e",
   "metadata": {},
   "source": [
    "## 7) **수치형 열 별 상위 Top3 값** 구하기 (예: 평균등록금, 학생수)"
   ]
  },
  {
   "cell_type": "code",
   "execution_count": null,
   "id": "b672e12c",
   "metadata": {},
   "outputs": [],
   "source": [
    "# 여기에 코드를 작성하세요"
   ]
  },
  {
   "cell_type": "markdown",
   "id": "5e188b87",
   "metadata": {},
   "source": [
    "## 8) **문자열(객체) dtype인 모든 열만** 선택해서 보기 (select_dtypes)"
   ]
  },
  {
   "cell_type": "code",
   "execution_count": null,
   "id": "68e32fad",
   "metadata": {},
   "outputs": [],
   "source": [
    "# 여기에 코드를 작성하세요"
   ]
  },
  {
   "cell_type": "markdown",
   "id": "185da50e",
   "metadata": {},
   "source": [
    "## 9) **단일 값으로 결측값 처리** (fillna): 평균등록금=700.0, 전화번호='정보없음'"
   ]
  },
  {
   "cell_type": "code",
   "execution_count": null,
   "id": "19b4ce10",
   "metadata": {},
   "outputs": [],
   "source": [
    "# 여기에 코드를 작성하세요"
   ]
  },
  {
   "cell_type": "markdown",
   "id": "e1221d9b",
   "metadata": {},
   "source": [
    "## 10) 보간법용 별도 데이터셋 (연도별 평균등록금)"
   ]
  },
  {
   "cell_type": "code",
   "execution_count": null,
   "id": "5aedd921",
   "metadata": {},
   "outputs": [],
   "source": [
    "\n",
    "import pandas as pd\n",
    "\n",
    "df_fee_year = pd.DataFrame({\n",
    "    \"연도\": [2018, 2019, 2020, 2021, 2022, 2023],\n",
    "    \"평균등록금\": [700, 710, None, 730, None, 750]\n",
    "})\n",
    "df_fee_year\n"
   ]
  },
  {
   "cell_type": "markdown",
   "id": "ceb150b0",
   "metadata": {},
   "source": [
    "## 10) **보간법으로 결측값 처리** (interpolate) — 별도 데이터셋(df_fee_year)의 평균등록금 보간"
   ]
  },
  {
   "cell_type": "code",
   "execution_count": null,
   "id": "925f4a4d",
   "metadata": {},
   "outputs": [],
   "source": [
    "# 여기에 코드를 작성하세요"
   ]
  },
  {
   "cell_type": "markdown",
   "id": "20bd24b7",
   "metadata": {},
   "source": [
    "## 11) **특정 열에서 결측값이 있는 모든 행** 삭제 (예: 홈페이지)"
   ]
  },
  {
   "cell_type": "code",
   "execution_count": null,
   "id": "8a7c8613",
   "metadata": {},
   "outputs": [],
   "source": [
    "# 여기에 코드를 작성하세요"
   ]
  }
 ],
 "metadata": {
  "kernelspec": {
   "display_name": "Python [conda env:base] *",
   "language": "python",
   "name": "conda-base-py"
  },
  "language_info": {
   "codemirror_mode": {
    "name": "ipython",
    "version": 3
   },
   "file_extension": ".py",
   "mimetype": "text/x-python",
   "name": "python",
   "nbconvert_exporter": "python",
   "pygments_lexer": "ipython3",
   "version": "3.13.5"
  }
 },
 "nbformat": 4,
 "nbformat_minor": 5
}
