{
 "cells": [
  {
   "cell_type": "markdown",
   "id": "d6011317",
   "metadata": {},
   "source": [
    "# 8~12강 문법 범위 연습문제 (정답 제거 버전)\n",
    "- 사용 문법: 논리식 검색(boolean indexing), 팬시 인덱싱(fancy indexing), `loc` 인덱서만 사용\n",
    "- 첫 셀에서 데이터를 로드한 뒤, 각 문제 아래의 **빈 코드 셀**에 풀이를 작성하세요.\n",
    "- `sat` CSV가 없다면 해당 줄을 주석 처리하고 나머지 문제를 풉니다.\n"
   ]
  },
  {
   "cell_type": "code",
   "execution_count": null,
   "id": "868c27c0",
   "metadata": {},
   "outputs": [],
   "source": [
    "# 데이터 로드 셀\n",
    "import pandas as pd\n",
    "import seaborn as sns\n",
    "\n",
    "# 수업 자료 경로에 CSV가 있는 경우에만 사용하세요.\n",
    "# 파일이 없다면 아래 줄을 주석 처리하세요.\n",
    "sat = pd.read_csv('data/2014_korea_sat_scores.csv', encoding='cp949')\n",
    "\n",
    "# seaborn 내장 데이터셋 (환경에 따라 미리 설치/설정 필요할 수 있습니다)\n",
    "titanic = sns.load_dataset('titanic')\n",
    "diamonds = sns.load_dataset('diamonds')\n",
    "\n",
    "# 로드 확인 (필수 아님)\n",
    "try:\n",
    "    print('sat:', sat.shape)\n",
    "except NameError:\n",
    "    print('sat: (not loaded)')\n",
    "print('titanic:', titanic.shape)\n",
    "print('diamonds:', diamonds.shape)\n"
   ]
  },
  {
   "cell_type": "markdown",
   "id": "33385a5c",
   "metadata": {},
   "source": [
    "### 문제 1\n",
    "`sat` 데이터프레임에서 `도수(명)`이 20,000보다 작은 모든 행을 출력하세요."
   ]
  },
  {
   "cell_type": "code",
   "execution_count": null,
   "id": "6e2466a6",
   "metadata": {},
   "outputs": [],
   "source": [
    "# 여기에 풀이 코드를 작성하세요"
   ]
  },
  {
   "cell_type": "markdown",
   "id": "32e5a6f8",
   "metadata": {},
   "source": [
    "### 문제 2\n",
    "`sat` 데이터프레임에서 `비율(%)`이 10보다 큰 행을 출력하세요."
   ]
  },
  {
   "cell_type": "code",
   "execution_count": null,
   "id": "8d74cf8f",
   "metadata": {},
   "outputs": [],
   "source": [
    "# 여기에 풀이 코드를 작성하세요"
   ]
  },
  {
   "cell_type": "markdown",
   "id": "422722ee",
   "metadata": {},
   "source": [
    "### 문제 3\n",
    "`sat` 데이터프레임에서 `도수(명)`이 20,000보다 작고 `비율(%)`이 5보다 작은 행을 출력하세요."
   ]
  },
  {
   "cell_type": "code",
   "execution_count": null,
   "id": "9dc8413c",
   "metadata": {},
   "outputs": [],
   "source": [
    "# 여기에 풀이 코드를 작성하세요"
   ]
  },
  {
   "cell_type": "markdown",
   "id": "540ccc5f",
   "metadata": {},
   "source": [
    "### 문제 4\n",
    "`sat` 데이터프레임에서 `도수(명)`이 20,000보다 작거나 `비율(%)`이 10보다 작은 행을 출력하세요."
   ]
  },
  {
   "cell_type": "code",
   "execution_count": null,
   "id": "0ccc1bdf",
   "metadata": {},
   "outputs": [],
   "source": [
    "# 여기에 풀이 코드를 작성하세요"
   ]
  },
  {
   "cell_type": "markdown",
   "id": "05bc919c",
   "metadata": {},
   "source": [
    "### 문제 5\n",
    "`titanic` 데이터프레임에서 `age`, `sex`, `alive` 열만 출력하세요."
   ]
  },
  {
   "cell_type": "code",
   "execution_count": null,
   "id": "dd2bbc12",
   "metadata": {},
   "outputs": [],
   "source": [
    "# 여기에 풀이 코드를 작성하세요"
   ]
  },
  {
   "cell_type": "markdown",
   "id": "ccb5f2af",
   "metadata": {},
   "source": [
    "### 문제 6\n",
    "`titanic` 데이터프레임에서 `age` 열의 0, 3, 4번째 인덱스 값을 출력하세요."
   ]
  },
  {
   "cell_type": "code",
   "execution_count": null,
   "id": "c4d75675",
   "metadata": {},
   "outputs": [],
   "source": [
    "# 여기에 풀이 코드를 작성하세요"
   ]
  },
  {
   "cell_type": "markdown",
   "id": "796a3f75",
   "metadata": {},
   "source": [
    "### 문제 7\n",
    "`diamonds` 데이터프레임에서 인덱스 1의 `price` 값을 출력하세요."
   ]
  },
  {
   "cell_type": "code",
   "execution_count": null,
   "id": "2209a312",
   "metadata": {},
   "outputs": [],
   "source": [
    "# 여기에 풀이 코드를 작성하세요"
   ]
  },
  {
   "cell_type": "markdown",
   "id": "d05db221",
   "metadata": {},
   "source": [
    "### 문제 8\n",
    "`diamonds` 데이터프레임에서 인덱스 2의 `clarity` 값을 출력하세요."
   ]
  },
  {
   "cell_type": "code",
   "execution_count": null,
   "id": "ffb89e72",
   "metadata": {},
   "outputs": [],
   "source": [
    "# 여기에 풀이 코드를 작성하세요"
   ]
  },
  {
   "cell_type": "markdown",
   "id": "e423bb5e",
   "metadata": {},
   "source": [
    "### 문제 9\n",
    "`diamonds` 데이터프레임에서 인덱스 10~25의 모든 `carat` 데이터를 출력하세요."
   ]
  },
  {
   "cell_type": "code",
   "execution_count": null,
   "id": "25a9a7ae",
   "metadata": {},
   "outputs": [],
   "source": [
    "# 여기에 풀이 코드를 작성하세요"
   ]
  },
  {
   "cell_type": "markdown",
   "id": "a8258064",
   "metadata": {},
   "source": [
    "### 문제 10\n",
    "`diamonds` 데이터프레임에서 인덱스 10~25의 모든 `carat`과 `depth` 데이터를 출력하세요."
   ]
  },
  {
   "cell_type": "code",
   "execution_count": null,
   "id": "27d0fa3e",
   "metadata": {},
   "outputs": [],
   "source": [
    "# 여기에 풀이 코드를 작성하세요"
   ]
  }
 ],
 "metadata": {
  "kernelspec": {
   "display_name": "Python [conda env:base] *",
   "language": "python",
   "name": "conda-base-py"
  },
  "language_info": {
   "codemirror_mode": {
    "name": "ipython",
    "version": 3
   },
   "file_extension": ".py",
   "mimetype": "text/x-python",
   "name": "python",
   "nbconvert_exporter": "python",
   "pygments_lexer": "ipython3",
   "version": "3.13.5"
  }
 },
 "nbformat": 4,
 "nbformat_minor": 5
}
