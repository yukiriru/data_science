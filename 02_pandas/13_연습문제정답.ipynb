{
 "cells": [
  {
   "cell_type": "code",
   "execution_count": null,
   "id": "0786a127",
   "metadata": {},
   "outputs": [],
   "source": [
    "import pandas as pd\n",
    "movies_ko_all = pd.read_csv(\"data/movies_ko.csv\")"
   ]
  },
  {
   "cell_type": "markdown",
   "id": "b8d0d539",
   "metadata": {},
   "source": [
    "1) 특정 열만 골라 읽고 확인하기\n",
    "/mnt/data/movies_ko.csv에서 영화, 장르, 개봉연도 열만 읽어 movies_ko에 저장하고, 처음 5행을 확인하세요."
   ]
  },
  {
   "cell_type": "code",
   "execution_count": null,
   "id": "750bc93b",
   "metadata": {},
   "outputs": [],
   "source": [
    "movies_ko = pd.read_csv(\"data/movies_ko.csv\", usecols=[\"영화\",\"장르\",\"개봉연도\"])\n",
    "movies_ko.head()"
   ]
  },
  {
   "cell_type": "markdown",
   "id": "8fb6c780",
   "metadata": {},
   "source": [
    "2) 두 평점의 평균(버림)으로 새 열 만들기\n",
    "전체 데이터를 movies_ko_all로 읽은 뒤, 네이버평점과 다음평점의 평균을 정수 나눗셈 //로 계산해 소수점 버림 처리한 값을 평균평점_버림이라는 새 열로 추가하고, 처음 5행을 확인하세요."
   ]
  },
  {
   "cell_type": "code",
   "execution_count": null,
   "id": "88e1f9e9",
   "metadata": {},
   "outputs": [],
   "source": [
    "movies_ko_all = pd.read_csv(\"data/movies_ko.csv\")\n",
    "movies_ko_all[\"평균평점_버림\"] = (movies_ko_all[\"네이버평점\"] + movies_ko_all[\"다음평점\"]) // 2\n",
    "movies_ko_all.head()"
   ]
  },
  {
   "cell_type": "markdown",
   "id": "5b8fa881",
   "metadata": {},
   "source": [
    "3) 달러 기호 제거 후 실수형으로 변환\n",
    "movies_ko_all의 매출(달러) 열에서 달러 기호 $를 제거한 뒤 실수형(float64)으로 변환하여 매출_float라는 새 열을 만들고, 앞 3행을 확인하세요."
   ]
  },
  {
   "cell_type": "code",
   "execution_count": null,
   "id": "f9d90b2e",
   "metadata": {},
   "outputs": [],
   "source": [
    "movies_ko_all[\"매출_float\"] = movies_ko_all[\"매출(달러)\"].str.replace(\"$\", \"\").astype(\"float64\")\n",
    "movies_ko_all[[\"영화\",\"매출(달러)\",\"매출_float\"]].head(3)"
   ]
  },
  {
   "cell_type": "markdown",
   "id": "d84b5ca7",
   "metadata": {},
   "source": [
    "4) 특정 조건 필터링\n",
    "movies_ko_all에서 관객수(만)이 500 이상인 영화만 선택해 처음 5행을 확인하세요."
   ]
  },
  {
   "cell_type": "code",
   "execution_count": null,
   "id": "1c6c75c6",
   "metadata": {},
   "outputs": [],
   "source": [
    "movies_ko_all[movies_ko_all[\"관객수(만)\"] >= 500].head()"
   ]
  },
  {
   "cell_type": "markdown",
   "id": "ccf9be5e",
   "metadata": {},
   "source": [
    "5) 새로운 열에 조건식으로 True/False 저장하기\n",
    "movies_ko_all에 개봉10년이상이라는 새 열을 만들고, 개봉연도가 2015년보다 작으면 True, 아니면 False 값을 넣으세요. 그리고 처음 5행을 확인하세요."
   ]
  },
  {
   "cell_type": "code",
   "execution_count": null,
   "id": "2da658fb",
   "metadata": {},
   "outputs": [],
   "source": [
    "movies_ko_all[\"개봉10년이상\"] = movies_ko_all[\"개봉연도\"] < 2015\n",
    "movies_ko_all.head()"
   ]
  },
  {
   "cell_type": "markdown",
   "id": "51c71d6b",
   "metadata": {},
   "source": [
    "6) 문자열 처리만 수행\n",
    "매출(달러) 열에서 $ 기호를 제거한 문자열만 매출_문자 열로 저장하고 처음 3행을 확인하세요."
   ]
  },
  {
   "cell_type": "code",
   "execution_count": null,
   "id": "b526a277",
   "metadata": {},
   "outputs": [],
   "source": [
    "movies_ko_all[\"매출_문자\"] = movies_ko_all[\"매출(달러)\"].str.replace(\"$\", \"\")\n",
    "movies_ko_all[[\"영화\",\"매출_문자\"]].head(3)"
   ]
  }
 ],
 "metadata": {
  "kernelspec": {
   "display_name": "Python [conda env:base] *",
   "language": "python",
   "name": "conda-base-py"
  },
  "language_info": {
   "codemirror_mode": {
    "name": "ipython",
    "version": 3
   },
   "file_extension": ".py",
   "mimetype": "text/x-python",
   "name": "python",
   "nbconvert_exporter": "python",
   "pygments_lexer": "ipython3",
   "version": "3.13.5"
  }
 },
 "nbformat": 4,
 "nbformat_minor": 5
}
