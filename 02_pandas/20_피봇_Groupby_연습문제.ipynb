{
 "cells": [
  {
   "cell_type": "markdown",
   "id": "f41502c6",
   "metadata": {},
   "source": [
    "# 피봇 / 그룹바이 연습문제 \n",
    "- 사용 문법: `pivot`, `pivot_table(aggfunc=...)`, `groupby().agg(...)`, `loc`, `xs`\n",
    "- 다중 인덱스/다중 컬럼: `index=[...]`, `columns=[...]`\n",
    "- **Dataset A는 pivot 전용**으로 `values`는 **문자열(비수치)** 만 사용합니다.\n"
   ]
  },
  {
   "cell_type": "markdown",
   "id": "a3f915e9",
   "metadata": {},
   "source": [
    "### Dataset A (Q1–Q2, pivot only)"
   ]
  },
  {
   "cell_type": "code",
   "execution_count": 2,
   "id": "2bf11c19",
   "metadata": {},
   "outputs": [
    {
     "data": {
      "text/html": [
       "<div>\n",
       "<style scoped>\n",
       "    .dataframe tbody tr th:only-of-type {\n",
       "        vertical-align: middle;\n",
       "    }\n",
       "\n",
       "    .dataframe tbody tr th {\n",
       "        vertical-align: top;\n",
       "    }\n",
       "\n",
       "    .dataframe thead th {\n",
       "        text-align: right;\n",
       "    }\n",
       "</style>\n",
       "<table border=\"1\" class=\"dataframe\">\n",
       "  <thead>\n",
       "    <tr style=\"text-align: right;\">\n",
       "      <th></th>\n",
       "      <th>학교</th>\n",
       "      <th>학년</th>\n",
       "      <th>반장</th>\n",
       "      <th>동아리</th>\n",
       "    </tr>\n",
       "  </thead>\n",
       "  <tbody>\n",
       "    <tr>\n",
       "      <th>0</th>\n",
       "      <td>동해중</td>\n",
       "      <td>1</td>\n",
       "      <td>민지</td>\n",
       "      <td>합창</td>\n",
       "    </tr>\n",
       "    <tr>\n",
       "      <th>1</th>\n",
       "      <td>동해중</td>\n",
       "      <td>2</td>\n",
       "      <td>도윤</td>\n",
       "      <td>축구</td>\n",
       "    </tr>\n",
       "    <tr>\n",
       "      <th>2</th>\n",
       "      <td>서해중</td>\n",
       "      <td>1</td>\n",
       "      <td>서연</td>\n",
       "      <td>미술</td>\n",
       "    </tr>\n",
       "    <tr>\n",
       "      <th>3</th>\n",
       "      <td>서해중</td>\n",
       "      <td>2</td>\n",
       "      <td>지호</td>\n",
       "      <td>과학</td>\n",
       "    </tr>\n",
       "    <tr>\n",
       "      <th>4</th>\n",
       "      <td>남해중</td>\n",
       "      <td>2</td>\n",
       "      <td>유진</td>\n",
       "      <td>연극</td>\n",
       "    </tr>\n",
       "    <tr>\n",
       "      <th>5</th>\n",
       "      <td>남해중</td>\n",
       "      <td>3</td>\n",
       "      <td>건우</td>\n",
       "      <td>미술</td>\n",
       "    </tr>\n",
       "  </tbody>\n",
       "</table>\n",
       "</div>"
      ],
      "text/plain": [
       "    학교  학년  반장 동아리\n",
       "0  동해중   1  민지  합창\n",
       "1  동해중   2  도윤  축구\n",
       "2  서해중   1  서연  미술\n",
       "3  서해중   2  지호  과학\n",
       "4  남해중   2  유진  연극\n",
       "5  남해중   3  건우  미술"
      ]
     },
     "execution_count": 2,
     "metadata": {},
     "output_type": "execute_result"
    }
   ],
   "source": [
    "\n",
    "import pandas as pd\n",
    "\n",
    "df_a = pd.DataFrame({\n",
    "    \"학교\": [\"동해중\",\"동해중\",\"서해중\",\"서해중\",\"남해중\",\"남해중\"],\n",
    "    \"학년\": [1,2,1,2,2,3],\n",
    "    \"반장\": [\"민지\",\"도윤\",\"서연\",\"지호\",\"유진\",\"건우\"],\n",
    "    \"동아리\": [\"합창\",\"축구\",\"미술\",\"과학\",\"연극\",\"미술\"]\n",
    "})\n",
    "df_a\n"
   ]
  },
  {
   "cell_type": "markdown",
   "id": "72da1aa6",
   "metadata": {},
   "source": [
    "## 1) 집계 없는 Pivot테이블 문제 1\n",
    "학교 × 학년 기준으로 **이름** 재배치 (`pivot`)"
   ]
  },
  {
   "cell_type": "markdown",
   "id": "88bcfa6c",
   "metadata": {},
   "source": [
    "## 2) 집계 없는 Pivot테이블 문제 2\n",
    "학교 × 학년 기준으로 **동아리** 재배치 (`pivot`)"
   ]
  },
  {
   "cell_type": "markdown",
   "id": "5d747fac",
   "metadata": {},
   "source": [
    "---"
   ]
  },
  {
   "cell_type": "markdown",
   "id": "a50af6c1",
   "metadata": {},
   "source": [
    "### Dataset B (Q3–Q5, Q11)"
   ]
  },
  {
   "cell_type": "code",
   "execution_count": null,
   "id": "53222c41",
   "metadata": {},
   "outputs": [],
   "source": [
    "\n",
    "df_b = pd.DataFrame({\n",
    "    \"서점\": [\"서울서점\",\"서울서점\",\"서울서점\",\"부산서점\",\"부산서점\",\"대구서점\",\"대구서점\",\"대구서점\",\"대구서점\"],\n",
    "    \"연도\": [2022,2022,2023,2022,2023,2022,2022,2023,2023],\n",
    "    \"월\":   [1,2,1,1,1,1,2,1,2],\n",
    "    \"판매권수\": [120, 150, 200, 90, 110, 80, 70, 130, 140]\n",
    "})\n",
    "df_b\n"
   ]
  },
  {
   "cell_type": "markdown",
   "id": "bec658ed",
   "metadata": {},
   "source": [
    "## 3) `pivot_table` 합계\n",
    "서점 × 연도 기준 **판매권수 합계**"
   ]
  },
  {
   "cell_type": "markdown",
   "id": "1b90ccbe",
   "metadata": {},
   "source": [
    "## 4) `pivot_table` 평균\n",
    "서점 × 연도 기준 **판매권수 평균**"
   ]
  },
  {
   "cell_type": "markdown",
   "id": "9c61a73b",
   "metadata": {},
   "source": [
    "## 5) `pivot_table` (다중 컬럼)\n",
    "서점 × (연도, 월) 기준 **판매권수 합계**"
   ]
  },
  {
   "cell_type": "markdown",
   "id": "e90d410b",
   "metadata": {},
   "source": [
    "## 11) `pivot_table` — 행 MultiIndex + 행 조회\n",
    "(서점 × 연도 행) x 월 MultiIndex 후 특정 행 조회 (`loc`/`xs`)"
   ]
  },
  {
   "cell_type": "markdown",
   "id": "8b714e69",
   "metadata": {},
   "source": [
    "### Dataset C (Q6–Q10, Q12)"
   ]
  },
  {
   "cell_type": "code",
   "execution_count": null,
   "id": "bb895643",
   "metadata": {},
   "outputs": [],
   "source": [
    "\n",
    "df_c = pd.DataFrame({\n",
    "    \"판매처\":   [\"A상회\",\"A상회\",\"A상회\",\"B마트\",\"B마트\",\"C몰\",\"C몰\",\"C몰\",\"C몰\"],\n",
    "    \"제품\":     [\"사과\",\"배\",\"사과\",\"사과\",\"배\",\"배\",\"사과\",\"사과\",\"포도\"],\n",
    "    \"분기\":     [\"Q1\",\"Q1\",\"Q2\",\"Q1\",\"Q2\",\"Q1\",\"Q2\",\"Q3\",\"Q3\"],\n",
    "    \"판매량\":   [100, 80, 120, 90, 110, 70, 60, 140, 130],\n",
    "    \"판매금액\": [200,160, 240, 180, 220, 140,120, 280, 260]\n",
    "})\n",
    "df_c\n"
   ]
  },
  {
   "cell_type": "markdown",
   "id": "5331b8fd",
   "metadata": {},
   "source": [
    "## 6) groupby 평균\n",
    "판매처별 **평균 판매량**"
   ]
  },
  {
   "cell_type": "markdown",
   "id": "402717e8",
   "metadata": {},
   "source": [
    "## 7) groupby 최대\n",
    "판매처별 **최대 판매량**"
   ]
  },
  {
   "cell_type": "markdown",
   "id": "8255f1d1",
   "metadata": {},
   "source": [
    "## 8) groupby 여러 집계\n",
    "판매처별 **판매량의 평균·최대·최소**"
   ]
  },
  {
   "cell_type": "markdown",
   "id": "256641a3",
   "metadata": {},
   "source": [
    "## 9) groupby 다중 그룹(2개)\n",
    "판매처 × 제품 기준 **판매량의 평균·최대·최소**"
   ]
  },
  {
   "cell_type": "markdown",
   "id": "1ed225c9",
   "metadata": {},
   "source": [
    "## 10) groupby 다중 그룹(3개)\n",
    "판매처 × 제품 × 분기 기준 **판매량 합계**"
   ]
  },
  {
   "cell_type": "markdown",
   "id": "54d3df68",
   "metadata": {},
   "source": [
    "## 12) groupby — 행 MultiIndex + 행 조회\n",
    "판매처 × 제품으로 MultiIndex 후 특정 조합 조회 (`loc`/`xs`)"
   ]
  }
 ],
 "metadata": {
  "kernelspec": {
   "display_name": "Python [conda env:base] *",
   "language": "python",
   "name": "conda-base-py"
  },
  "language_info": {
   "codemirror_mode": {
    "name": "ipython",
    "version": 3
   },
   "file_extension": ".py",
   "mimetype": "text/x-python",
   "name": "python",
   "nbconvert_exporter": "python",
   "pygments_lexer": "ipython3",
   "version": "3.13.5"
  }
 },
 "nbformat": 4,
 "nbformat_minor": 5
}
