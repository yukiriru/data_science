{
 "cells": [
  {
   "cell_type": "markdown",
   "id": "20cd7061",
   "metadata": {},
   "source": [
    "# 결측값/문자열/자료형/필터링 연습문제 (문제만)"
   ]
  },
  {
   "cell_type": "markdown",
   "id": "669261a3",
   "metadata": {},
   "source": [
    "사용 문법: `import pandas as pd`, `pd.DataFrame`, `df.isnull()`, `df.isnull().any(axis=0/1)`, `df.dropna(subset=[...])`, `df.loc[...]`, `df.select_dtypes(include=[\"object\"])`, `Series.value_counts()`, `df.nlargest(n, col)`, `Series/DataFrame.fillna(...)`, `Series/DataFrame.interpolate(...)`"
   ]
  },
  {
   "cell_type": "markdown",
   "id": "fe96a997",
   "metadata": {},
   "source": [
    "## 0) 공통 데이터셋 (학교별, 12행)"
   ]
  },
  {
   "cell_type": "code",
   "execution_count": 2,
   "id": "a188f335",
   "metadata": {},
   "outputs": [
    {
     "data": {
      "text/html": [
       "<div>\n",
       "<style scoped>\n",
       "    .dataframe tbody tr th:only-of-type {\n",
       "        vertical-align: middle;\n",
       "    }\n",
       "\n",
       "    .dataframe tbody tr th {\n",
       "        vertical-align: top;\n",
       "    }\n",
       "\n",
       "    .dataframe thead th {\n",
       "        text-align: right;\n",
       "    }\n",
       "</style>\n",
       "<table border=\"1\" class=\"dataframe\">\n",
       "  <thead>\n",
       "    <tr style=\"text-align: right;\">\n",
       "      <th></th>\n",
       "      <th>학교</th>\n",
       "      <th>지역</th>\n",
       "      <th>설립구분</th>\n",
       "      <th>학생수</th>\n",
       "      <th>평균등록금</th>\n",
       "      <th>전화번호</th>\n",
       "      <th>홈페이지</th>\n",
       "      <th>만족도</th>\n",
       "      <th>개교연도</th>\n",
       "    </tr>\n",
       "  </thead>\n",
       "  <tbody>\n",
       "    <tr>\n",
       "      <th>0</th>\n",
       "      <td>한빛대</td>\n",
       "      <td>서울</td>\n",
       "      <td>사립</td>\n",
       "      <td>12000.0</td>\n",
       "      <td>720.0</td>\n",
       "      <td>02-1111-2222</td>\n",
       "      <td>hanbit.ac.kr</td>\n",
       "      <td>4.1</td>\n",
       "      <td>1980</td>\n",
       "    </tr>\n",
       "    <tr>\n",
       "      <th>1</th>\n",
       "      <td>청솔대</td>\n",
       "      <td>대구</td>\n",
       "      <td>국립</td>\n",
       "      <td>8000.0</td>\n",
       "      <td>680.0</td>\n",
       "      <td>None</td>\n",
       "      <td>chs.ac.kr</td>\n",
       "      <td>NaN</td>\n",
       "      <td>1975</td>\n",
       "    </tr>\n",
       "    <tr>\n",
       "      <th>2</th>\n",
       "      <td>해오름대</td>\n",
       "      <td>부산</td>\n",
       "      <td>사립</td>\n",
       "      <td>NaN</td>\n",
       "      <td>750.0</td>\n",
       "      <td>051-222-3333</td>\n",
       "      <td>sunrise.ac.kr</td>\n",
       "      <td>3.8</td>\n",
       "      <td>1990</td>\n",
       "    </tr>\n",
       "    <tr>\n",
       "      <th>3</th>\n",
       "      <td>누리대</td>\n",
       "      <td>대구</td>\n",
       "      <td>사립</td>\n",
       "      <td>5000.0</td>\n",
       "      <td>NaN</td>\n",
       "      <td>053-444-5555</td>\n",
       "      <td>nuri.ac.kr</td>\n",
       "      <td>4.0</td>\n",
       "      <td>2001</td>\n",
       "    </tr>\n",
       "    <tr>\n",
       "      <th>4</th>\n",
       "      <td>한빛대 분교</td>\n",
       "      <td>서울</td>\n",
       "      <td>사립</td>\n",
       "      <td>6000.0</td>\n",
       "      <td>710.0</td>\n",
       "      <td>02-7777-8888</td>\n",
       "      <td>None</td>\n",
       "      <td>NaN</td>\n",
       "      <td>2005</td>\n",
       "    </tr>\n",
       "    <tr>\n",
       "      <th>5</th>\n",
       "      <td>수성대</td>\n",
       "      <td>대구</td>\n",
       "      <td>국립</td>\n",
       "      <td>7000.0</td>\n",
       "      <td>690.0</td>\n",
       "      <td>None</td>\n",
       "      <td>susung.ac.kr</td>\n",
       "      <td>4.2</td>\n",
       "      <td>1988</td>\n",
       "    </tr>\n",
       "    <tr>\n",
       "      <th>6</th>\n",
       "      <td>대명대</td>\n",
       "      <td>대구</td>\n",
       "      <td>사립</td>\n",
       "      <td>NaN</td>\n",
       "      <td>720.0</td>\n",
       "      <td>053-999-0000</td>\n",
       "      <td>daemyeong.ac.kr</td>\n",
       "      <td>NaN</td>\n",
       "      <td>1995</td>\n",
       "    </tr>\n",
       "    <tr>\n",
       "      <th>7</th>\n",
       "      <td>강북대</td>\n",
       "      <td>서울</td>\n",
       "      <td>사립</td>\n",
       "      <td>9000.0</td>\n",
       "      <td>705.0</td>\n",
       "      <td>02-333-4444</td>\n",
       "      <td>gb.ac.kr</td>\n",
       "      <td>3.9</td>\n",
       "      <td>1972</td>\n",
       "    </tr>\n",
       "    <tr>\n",
       "      <th>8</th>\n",
       "      <td>남산대</td>\n",
       "      <td>부산</td>\n",
       "      <td>국립</td>\n",
       "      <td>11000.0</td>\n",
       "      <td>NaN</td>\n",
       "      <td>None</td>\n",
       "      <td>namsan.ac.kr</td>\n",
       "      <td>4.3</td>\n",
       "      <td>1983</td>\n",
       "    </tr>\n",
       "    <tr>\n",
       "      <th>9</th>\n",
       "      <td>동성대</td>\n",
       "      <td>대전</td>\n",
       "      <td>사립</td>\n",
       "      <td>4000.0</td>\n",
       "      <td>660.0</td>\n",
       "      <td>042-111-2222</td>\n",
       "      <td>None</td>\n",
       "      <td>NaN</td>\n",
       "      <td>2003</td>\n",
       "    </tr>\n",
       "    <tr>\n",
       "      <th>10</th>\n",
       "      <td>가온대</td>\n",
       "      <td>None</td>\n",
       "      <td>사립</td>\n",
       "      <td>3000.0</td>\n",
       "      <td>640.0</td>\n",
       "      <td>02-555-6666</td>\n",
       "      <td>gaon.ac.kr</td>\n",
       "      <td>3.7</td>\n",
       "      <td>2010</td>\n",
       "    </tr>\n",
       "    <tr>\n",
       "      <th>11</th>\n",
       "      <td>별무리대</td>\n",
       "      <td>서울</td>\n",
       "      <td>국립</td>\n",
       "      <td>NaN</td>\n",
       "      <td>730.0</td>\n",
       "      <td>None</td>\n",
       "      <td>star.ac.kr</td>\n",
       "      <td>4.0</td>\n",
       "      <td>1999</td>\n",
       "    </tr>\n",
       "  </tbody>\n",
       "</table>\n",
       "</div>"
      ],
      "text/plain": [
       "        학교    지역 설립구분      학생수  평균등록금          전화번호             홈페이지  만족도  \\\n",
       "0      한빛대    서울   사립  12000.0  720.0  02-1111-2222     hanbit.ac.kr  4.1   \n",
       "1      청솔대    대구   국립   8000.0  680.0          None        chs.ac.kr  NaN   \n",
       "2     해오름대    부산   사립      NaN  750.0  051-222-3333    sunrise.ac.kr  3.8   \n",
       "3      누리대    대구   사립   5000.0    NaN  053-444-5555       nuri.ac.kr  4.0   \n",
       "4   한빛대 분교    서울   사립   6000.0  710.0  02-7777-8888             None  NaN   \n",
       "5      수성대    대구   국립   7000.0  690.0          None     susung.ac.kr  4.2   \n",
       "6      대명대    대구   사립      NaN  720.0  053-999-0000  daemyeong.ac.kr  NaN   \n",
       "7      강북대    서울   사립   9000.0  705.0   02-333-4444         gb.ac.kr  3.9   \n",
       "8      남산대    부산   국립  11000.0    NaN          None     namsan.ac.kr  4.3   \n",
       "9      동성대    대전   사립   4000.0  660.0  042-111-2222             None  NaN   \n",
       "10     가온대  None   사립   3000.0  640.0   02-555-6666       gaon.ac.kr  3.7   \n",
       "11    별무리대    서울   국립      NaN  730.0          None       star.ac.kr  4.0   \n",
       "\n",
       "    개교연도  \n",
       "0   1980  \n",
       "1   1975  \n",
       "2   1990  \n",
       "3   2001  \n",
       "4   2005  \n",
       "5   1988  \n",
       "6   1995  \n",
       "7   1972  \n",
       "8   1983  \n",
       "9   2003  \n",
       "10  2010  \n",
       "11  1999  "
      ]
     },
     "execution_count": 2,
     "metadata": {},
     "output_type": "execute_result"
    }
   ],
   "source": [
    "\n",
    "import pandas as pd\n",
    "\n",
    "data = {\n",
    "    \"학교\":      [\"한빛대\", \"청솔대\", \"해오름대\", \"누리대\", \"한빛대 분교\", \"수성대\", \"대명대\", \"강북대\", \"남산대\", \"동성대\", \"가온대\", \"별무리대\"],\n",
    "    \"지역\":      [\"서울\", \"대구\", \"부산\", \"대구\", \"서울\", \"대구\", \"대구\", \"서울\", \"부산\", \"대전\", None, \"서울\"],\n",
    "    \"설립구분\":   [\"사립\", \"국립\", \"사립\", \"사립\", \"사립\", \"국립\", \"사립\", \"사립\", \"국립\", \"사립\", \"사립\", \"국립\"],\n",
    "    \"학생수\":     [12000, 8000, None, 5000, 6000, 7000, None, 9000, 11000, 4000, 3000, None],\n",
    "    \"평균등록금\": [720.0, 680.0, 750.0, None, 710.0, 690.0, 720.0, 705.0, None, 660.0, 640.0, 730.0],\n",
    "    \"전화번호\":   [\"02-1111-2222\", None, \"051-222-3333\", \"053-444-5555\", \"02-7777-8888\", None, \"053-999-0000\", \"02-333-4444\", None, \"042-111-2222\", \"02-555-6666\", None],\n",
    "    \"홈페이지\":   [\"hanbit.ac.kr\", \"chs.ac.kr\", \"sunrise.ac.kr\", \"nuri.ac.kr\", None, \"susung.ac.kr\", \"daemyeong.ac.kr\", \"gb.ac.kr\", \"namsan.ac.kr\", None, \"gaon.ac.kr\", \"star.ac.kr\"],\n",
    "    \"만족도\":     [4.1, None, 3.8, 4.0, None, 4.2, None, 3.9, 4.3, None, 3.7, 4.0],\n",
    "    \"개교연도\":   [1980, 1975, 1990, 2001, 2005, 1988, 1995, 1972, 1983, 2003, 2010, 1999]\n",
    "}\n",
    "\n",
    "df = pd.DataFrame(data)\n",
    "df\n"
   ]
  },
  {
   "cell_type": "markdown",
   "id": "25d1496a",
   "metadata": {},
   "source": [
    "## 1) 결측값이 있는 **열 정보** 식별"
   ]
  },
  {
   "cell_type": "code",
   "execution_count": 3,
   "id": "35d27f11",
   "metadata": {},
   "outputs": [
    {
     "data": {
      "text/plain": [
       "학교       False\n",
       "지역        True\n",
       "설립구분     False\n",
       "학생수       True\n",
       "평균등록금     True\n",
       "전화번호      True\n",
       "홈페이지      True\n",
       "만족도       True\n",
       "개교연도     False\n",
       "dtype: bool"
      ]
     },
     "execution_count": 3,
     "metadata": {},
     "output_type": "execute_result"
    }
   ],
   "source": [
    "# 여기에 코드를 작성하세요\n",
    "missing_cols_mask = df.isnull().any(axis=0)\n",
    "missing_cols_mask\n"
   ]
  },
  {
   "cell_type": "markdown",
   "id": "18a14433",
   "metadata": {},
   "source": [
    "## 2) 결측치가 있는 **전체 행** 필터링"
   ]
  },
  {
   "cell_type": "code",
   "execution_count": 6,
   "id": "d0516ab9",
   "metadata": {},
   "outputs": [
    {
     "data": {
      "text/html": [
       "<div>\n",
       "<style scoped>\n",
       "    .dataframe tbody tr th:only-of-type {\n",
       "        vertical-align: middle;\n",
       "    }\n",
       "\n",
       "    .dataframe tbody tr th {\n",
       "        vertical-align: top;\n",
       "    }\n",
       "\n",
       "    .dataframe thead th {\n",
       "        text-align: right;\n",
       "    }\n",
       "</style>\n",
       "<table border=\"1\" class=\"dataframe\">\n",
       "  <thead>\n",
       "    <tr style=\"text-align: right;\">\n",
       "      <th></th>\n",
       "      <th>학교</th>\n",
       "      <th>지역</th>\n",
       "      <th>설립구분</th>\n",
       "      <th>학생수</th>\n",
       "      <th>평균등록금</th>\n",
       "      <th>전화번호</th>\n",
       "      <th>홈페이지</th>\n",
       "      <th>만족도</th>\n",
       "      <th>개교연도</th>\n",
       "    </tr>\n",
       "  </thead>\n",
       "  <tbody>\n",
       "    <tr>\n",
       "      <th>1</th>\n",
       "      <td>청솔대</td>\n",
       "      <td>대구</td>\n",
       "      <td>국립</td>\n",
       "      <td>8000.0</td>\n",
       "      <td>680.0</td>\n",
       "      <td>None</td>\n",
       "      <td>chs.ac.kr</td>\n",
       "      <td>NaN</td>\n",
       "      <td>1975</td>\n",
       "    </tr>\n",
       "    <tr>\n",
       "      <th>2</th>\n",
       "      <td>해오름대</td>\n",
       "      <td>부산</td>\n",
       "      <td>사립</td>\n",
       "      <td>NaN</td>\n",
       "      <td>750.0</td>\n",
       "      <td>051-222-3333</td>\n",
       "      <td>sunrise.ac.kr</td>\n",
       "      <td>3.8</td>\n",
       "      <td>1990</td>\n",
       "    </tr>\n",
       "    <tr>\n",
       "      <th>3</th>\n",
       "      <td>누리대</td>\n",
       "      <td>대구</td>\n",
       "      <td>사립</td>\n",
       "      <td>5000.0</td>\n",
       "      <td>NaN</td>\n",
       "      <td>053-444-5555</td>\n",
       "      <td>nuri.ac.kr</td>\n",
       "      <td>4.0</td>\n",
       "      <td>2001</td>\n",
       "    </tr>\n",
       "    <tr>\n",
       "      <th>4</th>\n",
       "      <td>한빛대 분교</td>\n",
       "      <td>서울</td>\n",
       "      <td>사립</td>\n",
       "      <td>6000.0</td>\n",
       "      <td>710.0</td>\n",
       "      <td>02-7777-8888</td>\n",
       "      <td>None</td>\n",
       "      <td>NaN</td>\n",
       "      <td>2005</td>\n",
       "    </tr>\n",
       "    <tr>\n",
       "      <th>5</th>\n",
       "      <td>수성대</td>\n",
       "      <td>대구</td>\n",
       "      <td>국립</td>\n",
       "      <td>7000.0</td>\n",
       "      <td>690.0</td>\n",
       "      <td>None</td>\n",
       "      <td>susung.ac.kr</td>\n",
       "      <td>4.2</td>\n",
       "      <td>1988</td>\n",
       "    </tr>\n",
       "    <tr>\n",
       "      <th>6</th>\n",
       "      <td>대명대</td>\n",
       "      <td>대구</td>\n",
       "      <td>사립</td>\n",
       "      <td>NaN</td>\n",
       "      <td>720.0</td>\n",
       "      <td>053-999-0000</td>\n",
       "      <td>daemyeong.ac.kr</td>\n",
       "      <td>NaN</td>\n",
       "      <td>1995</td>\n",
       "    </tr>\n",
       "    <tr>\n",
       "      <th>8</th>\n",
       "      <td>남산대</td>\n",
       "      <td>부산</td>\n",
       "      <td>국립</td>\n",
       "      <td>11000.0</td>\n",
       "      <td>NaN</td>\n",
       "      <td>None</td>\n",
       "      <td>namsan.ac.kr</td>\n",
       "      <td>4.3</td>\n",
       "      <td>1983</td>\n",
       "    </tr>\n",
       "    <tr>\n",
       "      <th>9</th>\n",
       "      <td>동성대</td>\n",
       "      <td>대전</td>\n",
       "      <td>사립</td>\n",
       "      <td>4000.0</td>\n",
       "      <td>660.0</td>\n",
       "      <td>042-111-2222</td>\n",
       "      <td>None</td>\n",
       "      <td>NaN</td>\n",
       "      <td>2003</td>\n",
       "    </tr>\n",
       "    <tr>\n",
       "      <th>10</th>\n",
       "      <td>가온대</td>\n",
       "      <td>None</td>\n",
       "      <td>사립</td>\n",
       "      <td>3000.0</td>\n",
       "      <td>640.0</td>\n",
       "      <td>02-555-6666</td>\n",
       "      <td>gaon.ac.kr</td>\n",
       "      <td>3.7</td>\n",
       "      <td>2010</td>\n",
       "    </tr>\n",
       "    <tr>\n",
       "      <th>11</th>\n",
       "      <td>별무리대</td>\n",
       "      <td>서울</td>\n",
       "      <td>국립</td>\n",
       "      <td>NaN</td>\n",
       "      <td>730.0</td>\n",
       "      <td>None</td>\n",
       "      <td>star.ac.kr</td>\n",
       "      <td>4.0</td>\n",
       "      <td>1999</td>\n",
       "    </tr>\n",
       "  </tbody>\n",
       "</table>\n",
       "</div>"
      ],
      "text/plain": [
       "        학교    지역 설립구분      학생수  평균등록금          전화번호             홈페이지  만족도  \\\n",
       "1      청솔대    대구   국립   8000.0  680.0          None        chs.ac.kr  NaN   \n",
       "2     해오름대    부산   사립      NaN  750.0  051-222-3333    sunrise.ac.kr  3.8   \n",
       "3      누리대    대구   사립   5000.0    NaN  053-444-5555       nuri.ac.kr  4.0   \n",
       "4   한빛대 분교    서울   사립   6000.0  710.0  02-7777-8888             None  NaN   \n",
       "5      수성대    대구   국립   7000.0  690.0          None     susung.ac.kr  4.2   \n",
       "6      대명대    대구   사립      NaN  720.0  053-999-0000  daemyeong.ac.kr  NaN   \n",
       "8      남산대    부산   국립  11000.0    NaN          None     namsan.ac.kr  4.3   \n",
       "9      동성대    대전   사립   4000.0  660.0  042-111-2222             None  NaN   \n",
       "10     가온대  None   사립   3000.0  640.0   02-555-6666       gaon.ac.kr  3.7   \n",
       "11    별무리대    서울   국립      NaN  730.0          None       star.ac.kr  4.0   \n",
       "\n",
       "    개교연도  \n",
       "1   1975  \n",
       "2   1990  \n",
       "3   2001  \n",
       "4   2005  \n",
       "5   1988  \n",
       "6   1995  \n",
       "8   1983  \n",
       "9   2003  \n",
       "10  2010  \n",
       "11  1999  "
      ]
     },
     "execution_count": 6,
     "metadata": {},
     "output_type": "execute_result"
    }
   ],
   "source": [
    "# 여기에 코드를 작성하세요\n",
    "row_nan = df.isnull().any(axis=1)\n",
    "df[row_nan]"
   ]
  },
  {
   "cell_type": "markdown",
   "id": "27dc9e56",
   "metadata": {},
   "source": [
    "## 3) **2개 열에 있는 결측치** 행 필터링 (예: 학생수, 평균등록금 중 하나라도 NaN)"
   ]
  },
  {
   "cell_type": "code",
   "execution_count": 11,
   "id": "e7564614",
   "metadata": {},
   "outputs": [
    {
     "ename": "SyntaxError",
     "evalue": "invalid decimal literal (1983355721.py, line 2)",
     "output_type": "error",
     "traceback": [
      "\u001b[1;36m  Cell \u001b[1;32mIn[11], line 2\u001b[1;36m\u001b[0m\n\u001b[1;33m    2na = [\"학생수\", \"평균등록금\"]\u001b[0m\n\u001b[1;37m    ^\u001b[0m\n\u001b[1;31mSyntaxError\u001b[0m\u001b[1;31m:\u001b[0m invalid decimal literal\n"
     ]
    }
   ],
   "source": [
    "# 여기에 코드를 작성하세요\n",
    "2na = [\"학생수\",\"평균등록금\"]\n",
    "mask_2na = df[2na].isnull().any(axis=1)\n",
    "df[mask_2na]"
   ]
  },
  {
   "cell_type": "markdown",
   "id": "676af1ad",
   "metadata": {},
   "source": [
    "## 4) 결측치가 **없는 전체 행** 필터링"
   ]
  },
  {
   "cell_type": "code",
   "execution_count": null,
   "id": "b56bced6",
   "metadata": {},
   "outputs": [],
   "source": [
    "# 여기에 코드를 작성하세요"
   ]
  },
  {
   "cell_type": "markdown",
   "id": "0a7bbf9b",
   "metadata": {},
   "source": [
    "## 5) **2개 열에 결측치가 없는** 행 필터링 (subset 활용: 학생수, 평균등록금)"
   ]
  },
  {
   "cell_type": "code",
   "execution_count": null,
   "id": "3a7bd0d6",
   "metadata": {},
   "outputs": [],
   "source": [
    "# 여기에 코드를 작성하세요"
   ]
  },
  {
   "cell_type": "markdown",
   "id": "8e87bfa1",
   "metadata": {},
   "source": [
    "## 6) 범주형 데이터 열에서 '설립구분, 지역' 열에 대해서 **유형별 갯수** 구하기 (힌트: value_counts)"
   ]
  },
  {
   "cell_type": "code",
   "execution_count": null,
   "id": "2aeec7dc",
   "metadata": {},
   "outputs": [],
   "source": [
    "# 여기에 코드를 작성하세요"
   ]
  },
  {
   "cell_type": "markdown",
   "id": "4cb9474e",
   "metadata": {},
   "source": [
    "## 7) **수치형 열 별 상위 Top3 값** 구하기 (예: 평균등록금, 학생수)"
   ]
  },
  {
   "cell_type": "code",
   "execution_count": null,
   "id": "b672e12c",
   "metadata": {},
   "outputs": [],
   "source": [
    "# 여기에 코드를 작성하세요"
   ]
  },
  {
   "cell_type": "markdown",
   "id": "5e188b87",
   "metadata": {},
   "source": [
    "## 8) **문자열(객체) dtype인 모든 열만** 선택해서 보기 (select_dtypes)"
   ]
  },
  {
   "cell_type": "code",
   "execution_count": null,
   "id": "68e32fad",
   "metadata": {},
   "outputs": [],
   "source": [
    "# 여기에 코드를 작성하세요"
   ]
  },
  {
   "cell_type": "markdown",
   "id": "185da50e",
   "metadata": {},
   "source": [
    "## 9) **단일 값으로 결측값 처리** (fillna): 평균등록금=700.0, 전화번호='정보없음'"
   ]
  },
  {
   "cell_type": "code",
   "execution_count": null,
   "id": "19b4ce10",
   "metadata": {},
   "outputs": [],
   "source": [
    "# 여기에 코드를 작성하세요"
   ]
  },
  {
   "cell_type": "markdown",
   "id": "e1221d9b",
   "metadata": {},
   "source": [
    "## 10) 보간법용 별도 데이터셋 (연도별 평균등록금)"
   ]
  },
  {
   "cell_type": "code",
   "execution_count": null,
   "id": "5aedd921",
   "metadata": {},
   "outputs": [],
   "source": [
    "\n",
    "import pandas as pd\n",
    "\n",
    "df_fee_year = pd.DataFrame({\n",
    "    \"연도\": [2018, 2019, 2020, 2021, 2022, 2023],\n",
    "    \"평균등록금\": [700, 710, None, 730, None, 750]\n",
    "})\n",
    "df_fee_year\n"
   ]
  },
  {
   "cell_type": "markdown",
   "id": "ceb150b0",
   "metadata": {},
   "source": [
    "## 10) **보간법으로 결측값 처리** (interpolate) — 별도 데이터셋(df_fee_year)의 평균등록금 보간"
   ]
  },
  {
   "cell_type": "code",
   "execution_count": null,
   "id": "925f4a4d",
   "metadata": {},
   "outputs": [],
   "source": [
    "# 여기에 코드를 작성하세요"
   ]
  },
  {
   "cell_type": "markdown",
   "id": "20bd24b7",
   "metadata": {},
   "source": [
    "## 11) **특정 열에서 결측값이 있는 모든 행** 삭제 (예: 홈페이지)"
   ]
  },
  {
   "cell_type": "code",
   "execution_count": null,
   "id": "8a7c8613",
   "metadata": {},
   "outputs": [],
   "source": [
    "# 여기에 코드를 작성하세요"
   ]
  }
 ],
 "metadata": {
  "kernelspec": {
   "display_name": "Python [conda env:base] *",
   "language": "python",
   "name": "conda-base-py"
  },
  "language_info": {
   "codemirror_mode": {
    "name": "ipython",
    "version": 3
   },
   "file_extension": ".py",
   "mimetype": "text/x-python",
   "name": "python",
   "nbconvert_exporter": "python",
   "pygments_lexer": "ipython3",
   "version": "3.13.5"
  }
 },
 "nbformat": 4,
 "nbformat_minor": 5
}
