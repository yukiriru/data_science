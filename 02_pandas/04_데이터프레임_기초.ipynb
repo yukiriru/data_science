{
 "cells": [
  {
   "cell_type": "code",
   "execution_count": 1,
   "id": "4d6a04cb-5af3-4b07-bc3e-01041d1a777e",
   "metadata": {},
   "outputs": [],
   "source": [
    "import pandas as pd"
   ]
  },
  {
   "cell_type": "markdown",
   "id": "319d814a-11e0-4703-b170-5ce85916d46b",
   "metadata": {},
   "source": [
    "# 데이터 프레임 기초"
   ]
  },
  {
   "cell_type": "markdown",
   "id": "464e1b59-82f8-494d-a52a-bbbc860ae115",
   "metadata": {},
   "source": [
    "## 데이터 프레임을 만들기 위한 2차원 데이터 예"
   ]
  },
  {
   "cell_type": "code",
   "execution_count": 2,
   "id": "92b987b3-51ce-4f4d-9db0-6ffea6c3c439",
   "metadata": {},
   "outputs": [],
   "source": [
    "data =[ [0,1,2],[3,4,5] ] # 2차원 데이터 [ [ 행데이터 ], [ 행데이터 ] ... ]"
   ]
  },
  {
   "cell_type": "code",
   "execution_count": null,
   "id": "f78139c4-b4cb-4d67-aff5-d6e155cf54c1",
   "metadata": {},
   "outputs": [],
   "source": [
    "# 2차원 데이터를 아래와 같이 행단위로 줄바꿈을 하게 되면 2차원 데이터로 해석하기 용이하다.\n",
    "data = [\n",
    "    [0,1,2],\n",
    "    [3,4,5]\n",
    "]"
   ]
  },
  {
   "cell_type": "markdown",
   "id": "86010e8f-1c5a-41b5-96e6-8e08c9bea8e6",
   "metadata": {},
   "source": [
    "# 데이터 프레임 만들기1"
   ]
  },
  {
   "cell_type": "raw",
   "id": "9c137158-0ad3-4244-9f71-3b9eca625cac",
   "metadata": {},
   "source": [
    "pd.DataFrame(data = [2차원 데이터] )"
   ]
  },
  {
   "cell_type": "code",
   "execution_count": 3,
   "id": "01e00021-de59-4915-89b9-e06fcb13aa72",
   "metadata": {},
   "outputs": [
    {
     "data": {
      "text/html": [
       "<div>\n",
       "<style scoped>\n",
       "    .dataframe tbody tr th:only-of-type {\n",
       "        vertical-align: middle;\n",
       "    }\n",
       "\n",
       "    .dataframe tbody tr th {\n",
       "        vertical-align: top;\n",
       "    }\n",
       "\n",
       "    .dataframe thead th {\n",
       "        text-align: right;\n",
       "    }\n",
       "</style>\n",
       "<table border=\"1\" class=\"dataframe\">\n",
       "  <thead>\n",
       "    <tr style=\"text-align: right;\">\n",
       "      <th></th>\n",
       "      <th>0</th>\n",
       "      <th>1</th>\n",
       "      <th>2</th>\n",
       "    </tr>\n",
       "  </thead>\n",
       "  <tbody>\n",
       "    <tr>\n",
       "      <th>0</th>\n",
       "      <td>0</td>\n",
       "      <td>1</td>\n",
       "      <td>2</td>\n",
       "    </tr>\n",
       "    <tr>\n",
       "      <th>1</th>\n",
       "      <td>3</td>\n",
       "      <td>4</td>\n",
       "      <td>5</td>\n",
       "    </tr>\n",
       "  </tbody>\n",
       "</table>\n",
       "</div>"
      ],
      "text/plain": [
       "   0  1  2\n",
       "0  0  1  2\n",
       "1  3  4  5"
      ]
     },
     "execution_count": 3,
     "metadata": {},
     "output_type": "execute_result"
    }
   ],
   "source": [
    "df = pd.DataFrame(data = data) # 데이터 프레임 관련 함수는 통산 df로 축약하여\n",
    "df"
   ]
  },
  {
   "cell_type": "markdown",
   "id": "82820263-9341-431a-bbd9-a85cf6008988",
   "metadata": {},
   "source": [
    "# 행렬에 의미 부여"
   ]
  },
  {
   "cell_type": "code",
   "execution_count": null,
   "id": "846b37cb-cbc8-4c90-b1e4-fc115fb37570",
   "metadata": {},
   "outputs": [],
   "source": []
  },
  {
   "cell_type": "markdown",
   "id": "dd0fad4b-8b8a-40dd-9cc9-53c71d285a43",
   "metadata": {},
   "source": [
    "* 의미 부여 전"
   ]
  },
  {
   "cell_type": "code",
   "execution_count": 4,
   "id": "67dd41fd-fe0e-4969-ad0d-880e2782bb27",
   "metadata": {},
   "outputs": [
    {
     "data": {
      "text/html": [
       "<div>\n",
       "<style scoped>\n",
       "    .dataframe tbody tr th:only-of-type {\n",
       "        vertical-align: middle;\n",
       "    }\n",
       "\n",
       "    .dataframe tbody tr th {\n",
       "        vertical-align: top;\n",
       "    }\n",
       "\n",
       "    .dataframe thead th {\n",
       "        text-align: right;\n",
       "    }\n",
       "</style>\n",
       "<table border=\"1\" class=\"dataframe\">\n",
       "  <thead>\n",
       "    <tr style=\"text-align: right;\">\n",
       "      <th></th>\n",
       "      <th>0</th>\n",
       "      <th>1</th>\n",
       "      <th>2</th>\n",
       "    </tr>\n",
       "  </thead>\n",
       "  <tbody>\n",
       "    <tr>\n",
       "      <th>0</th>\n",
       "      <td>95</td>\n",
       "      <td>80</td>\n",
       "      <td>60</td>\n",
       "    </tr>\n",
       "    <tr>\n",
       "      <th>1</th>\n",
       "      <td>100</td>\n",
       "      <td>95</td>\n",
       "      <td>95</td>\n",
       "    </tr>\n",
       "    <tr>\n",
       "      <th>2</th>\n",
       "      <td>88</td>\n",
       "      <td>98</td>\n",
       "      <td>85</td>\n",
       "    </tr>\n",
       "  </tbody>\n",
       "</table>\n",
       "</div>"
      ],
      "text/plain": [
       "     0   1   2\n",
       "0   95  80  60\n",
       "1  100  95  95\n",
       "2   88  98  85"
      ]
     },
     "execution_count": 4,
     "metadata": {},
     "output_type": "execute_result"
    }
   ],
   "source": [
    "df = pd.DataFrame(data=[\n",
    "    [95,80,60],\n",
    "    [100,95,95],\n",
    "    [88,98,85]\n",
    "])\n",
    "df\n",
    "    "
   ]
  },
  {
   "cell_type": "code",
   "execution_count": 9,
   "id": "5d984e12-cb3c-4040-836b-28e5af7ffbd3",
   "metadata": {},
   "outputs": [
    {
     "data": {
      "text/html": [
       "<div>\n",
       "<style scoped>\n",
       "    .dataframe tbody tr th:only-of-type {\n",
       "        vertical-align: middle;\n",
       "    }\n",
       "\n",
       "    .dataframe tbody tr th {\n",
       "        vertical-align: top;\n",
       "    }\n",
       "\n",
       "    .dataframe thead th {\n",
       "        text-align: right;\n",
       "    }\n",
       "</style>\n",
       "<table border=\"1\" class=\"dataframe\">\n",
       "  <thead>\n",
       "    <tr style=\"text-align: right;\">\n",
       "      <th></th>\n",
       "      <th>국어</th>\n",
       "      <th>영어</th>\n",
       "      <th>수학</th>\n",
       "    </tr>\n",
       "  </thead>\n",
       "  <tbody>\n",
       "    <tr>\n",
       "      <th>홍길동</th>\n",
       "      <td>95</td>\n",
       "      <td>80</td>\n",
       "      <td>60</td>\n",
       "    </tr>\n",
       "    <tr>\n",
       "      <th>이순신</th>\n",
       "      <td>100</td>\n",
       "      <td>95</td>\n",
       "      <td>95</td>\n",
       "    </tr>\n",
       "    <tr>\n",
       "      <th>김유신</th>\n",
       "      <td>88</td>\n",
       "      <td>98</td>\n",
       "      <td>85</td>\n",
       "    </tr>\n",
       "  </tbody>\n",
       "</table>\n",
       "</div>"
      ],
      "text/plain": [
       "      국어  영어  수학\n",
       "홍길동   95  80  60\n",
       "이순신  100  95  95\n",
       "김유신   88  98  85"
      ]
     },
     "execution_count": 9,
     "metadata": {},
     "output_type": "execute_result"
    }
   ],
   "source": [
    "df = pd.DataFrame(data=[\n",
    "    [95,80,60],\n",
    "    [100,95,95],\n",
    "    [88,98,85]\n",
    "    ],  #데이터 소스\n",
    "    index = ['홍길동', '이순신', '김유신'], #행에 대한 설정은 index 속성으로 지정\n",
    "    columns = ['국어','영어', '수학'] # 열에 대한 설정은 columns 속성으로 지정\n",
    ")\n",
    "df\n",
    "    "
   ]
  },
  {
   "cell_type": "markdown",
   "id": "a92aca83-c2ba-4f8e-b059-2d38a20684ea",
   "metadata": {},
   "source": [
    " - 타입확인"
   ]
  },
  {
   "cell_type": "code",
   "execution_count": 10,
   "id": "4e74aa1a-0874-44a3-95a7-8e62d201b7f5",
   "metadata": {},
   "outputs": [
    {
     "data": {
      "text/plain": [
       "pandas.core.frame.DataFrame"
      ]
     },
     "execution_count": 10,
     "metadata": {},
     "output_type": "execute_result"
    }
   ],
   "source": [
    "type(df)"
   ]
  },
  {
   "cell_type": "markdown",
   "id": "4bb1d5d5-fad2-40a0-9367-e22485d7a563",
   "metadata": {},
   "source": [
    "* 행 정보 확인"
   ]
  },
  {
   "cell_type": "code",
   "execution_count": 11,
   "id": "81dffd3b-b5f2-49f0-a143-7c21199b04f1",
   "metadata": {},
   "outputs": [
    {
     "data": {
      "text/plain": [
       "Index(['홍길동', '이순신', '김유신'], dtype='object')"
      ]
     },
     "execution_count": 11,
     "metadata": {},
     "output_type": "execute_result"
    }
   ],
   "source": [
    "df.index"
   ]
  },
  {
   "cell_type": "markdown",
   "id": "9bb25720-7889-4a2d-8f74-4d4d5e0d43e2",
   "metadata": {},
   "source": [
    "* 열 정보 확인"
   ]
  },
  {
   "cell_type": "code",
   "execution_count": 12,
   "id": "c442966c-14b4-4232-aa75-8769f1be4745",
   "metadata": {},
   "outputs": [
    {
     "data": {
      "text/plain": [
       "Index(['국어', '영어', '수학'], dtype='object')"
      ]
     },
     "execution_count": 12,
     "metadata": {},
     "output_type": "execute_result"
    }
   ],
   "source": [
    "df.columns"
   ]
  },
  {
   "cell_type": "markdown",
   "id": "396f43a2-b157-4dbd-83bf-5e143d5b4146",
   "metadata": {},
   "source": [
    "* 데이터 소스 정보"
   ]
  },
  {
   "cell_type": "code",
   "execution_count": 13,
   "id": "f31215c5-7c6f-4e25-a1fb-a6f104b81a74",
   "metadata": {},
   "outputs": [
    {
     "data": {
      "text/plain": [
       "array([[ 95,  80,  60],\n",
       "       [100,  95,  95],\n",
       "       [ 88,  98,  85]])"
      ]
     },
     "execution_count": 13,
     "metadata": {},
     "output_type": "execute_result"
    }
   ],
   "source": [
    "df.values"
   ]
  },
  {
   "cell_type": "markdown",
   "id": "f3c5f1fa-d86c-4c1f-a90c-958076965c03",
   "metadata": {},
   "source": [
    "* 속성 생략"
   ]
  },
  {
   "cell_type": "code",
   "execution_count": 14,
   "id": "ede602da-6a69-4cfd-a011-44e4677fe8b9",
   "metadata": {},
   "outputs": [
    {
     "data": {
      "text/plain": [
       "numpy.ndarray"
      ]
     },
     "execution_count": 14,
     "metadata": {},
     "output_type": "execute_result"
    }
   ],
   "source": [
    "type(df.values)"
   ]
  },
  {
   "cell_type": "markdown",
   "id": "8fafcb08-b2bc-445f-8488-78d539af77dd",
   "metadata": {},
   "source": [
    "# 기본연산"
   ]
  },
  {
   "cell_type": "markdown",
   "id": "e8fe21f2-a7d0-4edf-98f5-69f91f3cfe26",
   "metadata": {},
   "source": [
    "* 파이썬 버전"
   ]
  },
  {
   "cell_type": "raw",
   "id": "776e15e5-fe39-4a1e-ab62-a61db79e3b2a",
   "metadata": {},
   "source": [
    "동일한 차원(요소)간의 연산"
   ]
  },
  {
   "cell_type": "code",
   "execution_count": 15,
   "id": "3db48b7a-c99a-48a6-8d07-f80901295cb5",
   "metadata": {},
   "outputs": [
    {
     "data": {
      "text/plain": [
       "[[4, 5, 6], [8, 9, 10], [12, 13, 14]]"
      ]
     },
     "execution_count": 15,
     "metadata": {},
     "output_type": "execute_result"
    }
   ],
   "source": [
    "list1 =[\n",
    "     [1,2,3],\n",
    "     [4,5,6],\n",
    "     [7,8,9]\n",
    " ]\n",
    "list2 =  [\n",
    "     [3,3,3],\n",
    "     [4,4,4],\n",
    "     [5,5,5]\n",
    " ]\n",
    "\n",
    "# for column_index in range (len(list1[0])):\n",
    "#     print(column_index);\n",
    "total_result = []\n",
    "\n",
    "for row_index in range(len(list1)):\n",
    "    # print(row_index)\n",
    "    rows = []\n",
    "    for column_index in range (len(list1[0])):\n",
    "        # print(list2[row_index][column_index])\n",
    "        rows.append(list1[row_index][column_index] + list2[row_index][column_index])\n",
    "    total_result.append(rows)\n",
    "\n",
    "total_result"
   ]
  },
  {
   "cell_type": "code",
   "execution_count": null,
   "id": "5a03041e-092c-47a9-8e88-1e0f62a34bb9",
   "metadata": {},
   "outputs": [],
   "source": [
    "동인한 차원간의 데이터 프레임 연산은 각각 행/열이 일치하는 요소간 연산을 한다."
   ]
  },
  {
   "cell_type": "code",
   "execution_count": 16,
   "id": "b51a1bf5-4ed7-4e62-a825-de748d3e9c67",
   "metadata": {},
   "outputs": [
    {
     "data": {
      "text/html": [
       "<div>\n",
       "<style scoped>\n",
       "    .dataframe tbody tr th:only-of-type {\n",
       "        vertical-align: middle;\n",
       "    }\n",
       "\n",
       "    .dataframe tbody tr th {\n",
       "        vertical-align: top;\n",
       "    }\n",
       "\n",
       "    .dataframe thead th {\n",
       "        text-align: right;\n",
       "    }\n",
       "</style>\n",
       "<table border=\"1\" class=\"dataframe\">\n",
       "  <thead>\n",
       "    <tr style=\"text-align: right;\">\n",
       "      <th></th>\n",
       "      <th>0</th>\n",
       "      <th>1</th>\n",
       "      <th>2</th>\n",
       "    </tr>\n",
       "  </thead>\n",
       "  <tbody>\n",
       "    <tr>\n",
       "      <th>0</th>\n",
       "      <td>4</td>\n",
       "      <td>5</td>\n",
       "      <td>6</td>\n",
       "    </tr>\n",
       "    <tr>\n",
       "      <th>1</th>\n",
       "      <td>8</td>\n",
       "      <td>9</td>\n",
       "      <td>10</td>\n",
       "    </tr>\n",
       "    <tr>\n",
       "      <th>2</th>\n",
       "      <td>12</td>\n",
       "      <td>13</td>\n",
       "      <td>14</td>\n",
       "    </tr>\n",
       "  </tbody>\n",
       "</table>\n",
       "</div>"
      ],
      "text/plain": [
       "    0   1   2\n",
       "0   4   5   6\n",
       "1   8   9  10\n",
       "2  12  13  14"
      ]
     },
     "execution_count": 16,
     "metadata": {},
     "output_type": "execute_result"
    }
   ],
   "source": [
    "df1 =pd.DataFrame(list1)\n",
    "df2 =pd.DataFrame(list2)\n",
    "df1 + df2"
   ]
  },
  {
   "cell_type": "markdown",
   "id": "bb368630-5ac7-4f38-b779-aaedb082a381",
   "metadata": {},
   "source": [
    "# 단일 값 연산"
   ]
  },
  {
   "cell_type": "code",
   "execution_count": null,
   "id": "84aa9595-756f-4b71-81cc-d85bd6cb4faa",
   "metadata": {},
   "outputs": [],
   "source": [
    "단일 값은 연산하고자하는 데이터 프레임의 행열값의 요소에 맞게 확장하여 동일한 요소간 연산을 수행한다."
   ]
  },
  {
   "cell_type": "code",
   "execution_count": 17,
   "id": "f2e4e3bf-d942-48bb-a107-2d7c32a01b20",
   "metadata": {},
   "outputs": [
    {
     "data": {
      "text/html": [
       "<div>\n",
       "<style scoped>\n",
       "    .dataframe tbody tr th:only-of-type {\n",
       "        vertical-align: middle;\n",
       "    }\n",
       "\n",
       "    .dataframe tbody tr th {\n",
       "        vertical-align: top;\n",
       "    }\n",
       "\n",
       "    .dataframe thead th {\n",
       "        text-align: right;\n",
       "    }\n",
       "</style>\n",
       "<table border=\"1\" class=\"dataframe\">\n",
       "  <thead>\n",
       "    <tr style=\"text-align: right;\">\n",
       "      <th></th>\n",
       "      <th>0</th>\n",
       "      <th>1</th>\n",
       "      <th>2</th>\n",
       "    </tr>\n",
       "  </thead>\n",
       "  <tbody>\n",
       "    <tr>\n",
       "      <th>0</th>\n",
       "      <td>1</td>\n",
       "      <td>2</td>\n",
       "      <td>3</td>\n",
       "    </tr>\n",
       "    <tr>\n",
       "      <th>1</th>\n",
       "      <td>4</td>\n",
       "      <td>5</td>\n",
       "      <td>6</td>\n",
       "    </tr>\n",
       "    <tr>\n",
       "      <th>2</th>\n",
       "      <td>7</td>\n",
       "      <td>8</td>\n",
       "      <td>9</td>\n",
       "    </tr>\n",
       "  </tbody>\n",
       "</table>\n",
       "</div>"
      ],
      "text/plain": [
       "   0  1  2\n",
       "0  1  2  3\n",
       "1  4  5  6\n",
       "2  7  8  9"
      ]
     },
     "execution_count": 17,
     "metadata": {},
     "output_type": "execute_result"
    }
   ],
   "source": [
    "df1"
   ]
  },
  {
   "cell_type": "code",
   "execution_count": 19,
   "id": "60579a5e-d47f-45c1-b7e6-5ab69e516a73",
   "metadata": {},
   "outputs": [
    {
     "data": {
      "text/html": [
       "<div>\n",
       "<style scoped>\n",
       "    .dataframe tbody tr th:only-of-type {\n",
       "        vertical-align: middle;\n",
       "    }\n",
       "\n",
       "    .dataframe tbody tr th {\n",
       "        vertical-align: top;\n",
       "    }\n",
       "\n",
       "    .dataframe thead th {\n",
       "        text-align: right;\n",
       "    }\n",
       "</style>\n",
       "<table border=\"1\" class=\"dataframe\">\n",
       "  <thead>\n",
       "    <tr style=\"text-align: right;\">\n",
       "      <th></th>\n",
       "      <th>0</th>\n",
       "      <th>1</th>\n",
       "      <th>2</th>\n",
       "    </tr>\n",
       "  </thead>\n",
       "  <tbody>\n",
       "    <tr>\n",
       "      <th>0</th>\n",
       "      <td>11</td>\n",
       "      <td>12</td>\n",
       "      <td>13</td>\n",
       "    </tr>\n",
       "    <tr>\n",
       "      <th>1</th>\n",
       "      <td>14</td>\n",
       "      <td>15</td>\n",
       "      <td>16</td>\n",
       "    </tr>\n",
       "    <tr>\n",
       "      <th>2</th>\n",
       "      <td>17</td>\n",
       "      <td>18</td>\n",
       "      <td>19</td>\n",
       "    </tr>\n",
       "  </tbody>\n",
       "</table>\n",
       "</div>"
      ],
      "text/plain": [
       "    0   1   2\n",
       "0  11  12  13\n",
       "1  14  15  16\n",
       "2  17  18  19"
      ]
     },
     "execution_count": 19,
     "metadata": {},
     "output_type": "execute_result"
    }
   ],
   "source": [
    "df1+10"
   ]
  },
  {
   "cell_type": "markdown",
   "id": "b7463bd4-bd01-4d4a-8d47-14a86673b0a2",
   "metadata": {},
   "source": [
    "## 단일 행 연산"
   ]
  },
  {
   "cell_type": "code",
   "execution_count": null,
   "id": "39e8b2fe-b3dc-499f-9aa2-ec24aa0e46e4",
   "metadata": {},
   "outputs": [],
   "source": [
    "단일행은 연산하고자 하는 데이터 프레임의 행의 갯수에 맞게 확장하여 동일 요소간 연산을 수행한다."
   ]
  },
  {
   "cell_type": "code",
   "execution_count": 20,
   "id": "5ac63af2-0956-4673-ad15-ea317a60c0a5",
   "metadata": {},
   "outputs": [
    {
     "data": {
      "text/html": [
       "<div>\n",
       "<style scoped>\n",
       "    .dataframe tbody tr th:only-of-type {\n",
       "        vertical-align: middle;\n",
       "    }\n",
       "\n",
       "    .dataframe tbody tr th {\n",
       "        vertical-align: top;\n",
       "    }\n",
       "\n",
       "    .dataframe thead th {\n",
       "        text-align: right;\n",
       "    }\n",
       "</style>\n",
       "<table border=\"1\" class=\"dataframe\">\n",
       "  <thead>\n",
       "    <tr style=\"text-align: right;\">\n",
       "      <th></th>\n",
       "      <th>0</th>\n",
       "      <th>1</th>\n",
       "      <th>2</th>\n",
       "    </tr>\n",
       "  </thead>\n",
       "  <tbody>\n",
       "    <tr>\n",
       "      <th>0</th>\n",
       "      <td>1</td>\n",
       "      <td>2</td>\n",
       "      <td>3</td>\n",
       "    </tr>\n",
       "    <tr>\n",
       "      <th>1</th>\n",
       "      <td>4</td>\n",
       "      <td>5</td>\n",
       "      <td>6</td>\n",
       "    </tr>\n",
       "    <tr>\n",
       "      <th>2</th>\n",
       "      <td>7</td>\n",
       "      <td>8</td>\n",
       "      <td>9</td>\n",
       "    </tr>\n",
       "  </tbody>\n",
       "</table>\n",
       "</div>"
      ],
      "text/plain": [
       "   0  1  2\n",
       "0  1  2  3\n",
       "1  4  5  6\n",
       "2  7  8  9"
      ]
     },
     "execution_count": 20,
     "metadata": {},
     "output_type": "execute_result"
    }
   ],
   "source": [
    "df1"
   ]
  },
  {
   "cell_type": "code",
   "execution_count": 22,
   "id": "5e061a66-6830-4a15-a1b2-3cf63b3fb02c",
   "metadata": {
    "scrolled": true
   },
   "outputs": [
    {
     "data": {
      "text/html": [
       "<div>\n",
       "<style scoped>\n",
       "    .dataframe tbody tr th:only-of-type {\n",
       "        vertical-align: middle;\n",
       "    }\n",
       "\n",
       "    .dataframe tbody tr th {\n",
       "        vertical-align: top;\n",
       "    }\n",
       "\n",
       "    .dataframe thead th {\n",
       "        text-align: right;\n",
       "    }\n",
       "</style>\n",
       "<table border=\"1\" class=\"dataframe\">\n",
       "  <thead>\n",
       "    <tr style=\"text-align: right;\">\n",
       "      <th></th>\n",
       "      <th>0</th>\n",
       "      <th>1</th>\n",
       "      <th>2</th>\n",
       "    </tr>\n",
       "  </thead>\n",
       "  <tbody>\n",
       "    <tr>\n",
       "      <th>0</th>\n",
       "      <td>11</td>\n",
       "      <td>13</td>\n",
       "      <td>15</td>\n",
       "    </tr>\n",
       "    <tr>\n",
       "      <th>1</th>\n",
       "      <td>14</td>\n",
       "      <td>16</td>\n",
       "      <td>18</td>\n",
       "    </tr>\n",
       "    <tr>\n",
       "      <th>2</th>\n",
       "      <td>17</td>\n",
       "      <td>19</td>\n",
       "      <td>21</td>\n",
       "    </tr>\n",
       "  </tbody>\n",
       "</table>\n",
       "</div>"
      ],
      "text/plain": [
       "    0   1   2\n",
       "0  11  13  15\n",
       "1  14  16  18\n",
       "2  17  19  21"
      ]
     },
     "execution_count": 22,
     "metadata": {},
     "output_type": "execute_result"
    }
   ],
   "source": [
    "df1 +[10,11,12]"
   ]
  },
  {
   "cell_type": "markdown",
   "id": "03fe5997-16d6-4554-8bee-88b51771d157",
   "metadata": {},
   "source": [
    "## 차원이 다른 데이터 프레임간 연산"
   ]
  },
  {
   "cell_type": "code",
   "execution_count": null,
   "id": "33594f47-ed76-40bf-b26b-d7e3f2b8b95b",
   "metadata": {},
   "outputs": [],
   "source": [
    "차원이 작은 데이터프레임에서 차원을 확장한후 NaN으로 채운뒤 동일 요소간 연산을 수행한다"
   ]
  },
  {
   "cell_type": "code",
   "execution_count": null,
   "id": "f76f3f10-dee6-462c-b629-99c782908c1b",
   "metadata": {},
   "outputs": [],
   "source": [
    "df1"
   ]
  },
  {
   "cell_type": "code",
   "execution_count": null,
   "id": "54d6ea97-3f6e-474e-b8c3-466100f93d2f",
   "metadata": {},
   "outputs": [],
   "source": [
    "df3 =pd.DataFrame"
   ]
  },
  {
   "cell_type": "markdown",
   "id": "6ee11048-6e66-4dc8-a3b3-f3acfd1be37e",
   "metadata": {},
   "source": [
    "# 실전 데이터 연습"
   ]
  },
  {
   "cell_type": "markdown",
   "id": "8ce8a6e7-67cb-4b24-b059-11c41ead169a",
   "metadata": {},
   "source": [
    "* csv 데이터 읽기  \n",
    "read_csv 함수 활용  \n",
    "read_csv의 수행 결과는 data frame으로 변환  \n",
    "윈도우 관련 인코딩은 cp949로 지정한다.  \n",
    "헤더행을 지정하지 않으면 기본값으로 csv의 첫번째 행을 헤더로 인식한다.\n"
   ]
  },
  {
   "cell_type": "code",
   "execution_count": 24,
   "id": "eb3dcc8b-6229-4dea-8305-47e3d4e43416",
   "metadata": {},
   "outputs": [
    {
     "data": {
      "text/html": [
       "<div>\n",
       "<style scoped>\n",
       "    .dataframe tbody tr th:only-of-type {\n",
       "        vertical-align: middle;\n",
       "    }\n",
       "\n",
       "    .dataframe tbody tr th {\n",
       "        vertical-align: top;\n",
       "    }\n",
       "\n",
       "    .dataframe thead th {\n",
       "        text-align: right;\n",
       "    }\n",
       "</style>\n",
       "<table border=\"1\" class=\"dataframe\">\n",
       "  <thead>\n",
       "    <tr style=\"text-align: right;\">\n",
       "      <th></th>\n",
       "      <th>학교명</th>\n",
       "      <th>설립구분</th>\n",
       "      <th>평균등록금</th>\n",
       "    </tr>\n",
       "  </thead>\n",
       "  <tbody>\n",
       "    <tr>\n",
       "      <th>0</th>\n",
       "      <td>강릉원주대학교</td>\n",
       "      <td>국공립</td>\n",
       "      <td>4262</td>\n",
       "    </tr>\n",
       "    <tr>\n",
       "      <th>1</th>\n",
       "      <td>강원대학교</td>\n",
       "      <td>국공립</td>\n",
       "      <td>4116</td>\n",
       "    </tr>\n",
       "    <tr>\n",
       "      <th>2</th>\n",
       "      <td>경남과학기술대학교</td>\n",
       "      <td>국공립</td>\n",
       "      <td>3771</td>\n",
       "    </tr>\n",
       "    <tr>\n",
       "      <th>3</th>\n",
       "      <td>경북대학교</td>\n",
       "      <td>국공립</td>\n",
       "      <td>4351</td>\n",
       "    </tr>\n",
       "    <tr>\n",
       "      <th>4</th>\n",
       "      <td>경상대학교</td>\n",
       "      <td>국공립</td>\n",
       "      <td>3967</td>\n",
       "    </tr>\n",
       "    <tr>\n",
       "      <th>...</th>\n",
       "      <td>...</td>\n",
       "      <td>...</td>\n",
       "      <td>...</td>\n",
       "    </tr>\n",
       "    <tr>\n",
       "      <th>191</th>\n",
       "      <td>호남대학교</td>\n",
       "      <td>사립</td>\n",
       "      <td>6482</td>\n",
       "    </tr>\n",
       "    <tr>\n",
       "      <th>192</th>\n",
       "      <td>호남신학대학교</td>\n",
       "      <td>사립</td>\n",
       "      <td>6438</td>\n",
       "    </tr>\n",
       "    <tr>\n",
       "      <th>193</th>\n",
       "      <td>호서대학교</td>\n",
       "      <td>사립</td>\n",
       "      <td>7695</td>\n",
       "    </tr>\n",
       "    <tr>\n",
       "      <th>194</th>\n",
       "      <td>호원대학교</td>\n",
       "      <td>사립</td>\n",
       "      <td>6929</td>\n",
       "    </tr>\n",
       "    <tr>\n",
       "      <th>195</th>\n",
       "      <td>홍익대학교</td>\n",
       "      <td>사립</td>\n",
       "      <td>8297</td>\n",
       "    </tr>\n",
       "  </tbody>\n",
       "</table>\n",
       "<p>196 rows × 3 columns</p>\n",
       "</div>"
      ],
      "text/plain": [
       "           학교명 설립구분  평균등록금\n",
       "0      강릉원주대학교  국공립   4262\n",
       "1        강원대학교  국공립   4116\n",
       "2    경남과학기술대학교  국공립   3771\n",
       "3        경북대학교  국공립   4351\n",
       "4        경상대학교  국공립   3967\n",
       "..         ...  ...    ...\n",
       "191      호남대학교   사립   6482\n",
       "192    호남신학대학교   사립   6438\n",
       "193      호서대학교   사립   7695\n",
       "194      호원대학교   사립   6929\n",
       "195      홍익대학교   사립   8297\n",
       "\n",
       "[196 rows x 3 columns]"
      ]
     },
     "execution_count": 24,
     "metadata": {},
     "output_type": "execute_result"
    }
   ],
   "source": [
    "college = pd.read_csv('data/2017_college_tuition.csv', encoding='cp949')\n",
    "college"
   ]
  },
  {
   "cell_type": "code",
   "execution_count": 25,
   "id": "45d3ddb6-d370-4953-a932-5002b2f1f8e8",
   "metadata": {},
   "outputs": [
    {
     "data": {
      "text/plain": [
       "Index(['학교명', '설립구분', '평균등록금'], dtype='object')"
      ]
     },
     "execution_count": 25,
     "metadata": {},
     "output_type": "execute_result"
    }
   ],
   "source": [
    " college.columns"
   ]
  },
  {
   "cell_type": "markdown",
   "id": "52c8f716-323c-4124-8e90-95d931856e26",
   "metadata": {},
   "source": [
    "### 초간단 데이터 둘러보기"
   ]
  },
  {
   "cell_type": "markdown",
   "id": "599af106-6725-4bdb-9e81-35ed12bc112a",
   "metadata": {},
   "source": [
    "* 데이터요소 차원 확인하기"
   ]
  },
  {
   "cell_type": "code",
   "execution_count": 26,
   "id": "7f5ea33d-ac99-4986-83d9-23455fd86bc9",
   "metadata": {},
   "outputs": [
    {
     "data": {
      "text/plain": [
       "(196, 3)"
      ]
     },
     "execution_count": 26,
     "metadata": {},
     "output_type": "execute_result"
    }
   ],
   "source": [
    "college.shape"
   ]
  },
  {
   "cell_type": "markdown",
   "id": "1522f03b-3143-4bab-b292-f2488a266ea3",
   "metadata": {},
   "source": [
    "* 시작데이터 확인"
   ]
  },
  {
   "cell_type": "code",
   "execution_count": 27,
   "id": "e75c193e-74f7-4e7d-ab61-d960246672f0",
   "metadata": {},
   "outputs": [
    {
     "data": {
      "text/html": [
       "<div>\n",
       "<style scoped>\n",
       "    .dataframe tbody tr th:only-of-type {\n",
       "        vertical-align: middle;\n",
       "    }\n",
       "\n",
       "    .dataframe tbody tr th {\n",
       "        vertical-align: top;\n",
       "    }\n",
       "\n",
       "    .dataframe thead th {\n",
       "        text-align: right;\n",
       "    }\n",
       "</style>\n",
       "<table border=\"1\" class=\"dataframe\">\n",
       "  <thead>\n",
       "    <tr style=\"text-align: right;\">\n",
       "      <th></th>\n",
       "      <th>학교명</th>\n",
       "      <th>설립구분</th>\n",
       "      <th>평균등록금</th>\n",
       "    </tr>\n",
       "  </thead>\n",
       "  <tbody>\n",
       "    <tr>\n",
       "      <th>0</th>\n",
       "      <td>강릉원주대학교</td>\n",
       "      <td>국공립</td>\n",
       "      <td>4262</td>\n",
       "    </tr>\n",
       "    <tr>\n",
       "      <th>1</th>\n",
       "      <td>강원대학교</td>\n",
       "      <td>국공립</td>\n",
       "      <td>4116</td>\n",
       "    </tr>\n",
       "    <tr>\n",
       "      <th>2</th>\n",
       "      <td>경남과학기술대학교</td>\n",
       "      <td>국공립</td>\n",
       "      <td>3771</td>\n",
       "    </tr>\n",
       "    <tr>\n",
       "      <th>3</th>\n",
       "      <td>경북대학교</td>\n",
       "      <td>국공립</td>\n",
       "      <td>4351</td>\n",
       "    </tr>\n",
       "    <tr>\n",
       "      <th>4</th>\n",
       "      <td>경상대학교</td>\n",
       "      <td>국공립</td>\n",
       "      <td>3967</td>\n",
       "    </tr>\n",
       "  </tbody>\n",
       "</table>\n",
       "</div>"
      ],
      "text/plain": [
       "         학교명 설립구분  평균등록금\n",
       "0    강릉원주대학교  국공립   4262\n",
       "1      강원대학교  국공립   4116\n",
       "2  경남과학기술대학교  국공립   3771\n",
       "3      경북대학교  국공립   4351\n",
       "4      경상대학교  국공립   3967"
      ]
     },
     "execution_count": 27,
     "metadata": {},
     "output_type": "execute_result"
    }
   ],
   "source": [
    "college.head() #기본값은 앞에서 부터 5개 데이터를 조회한다."
   ]
  },
  {
   "cell_type": "code",
   "execution_count": 30,
   "id": "38d79a75-af07-44b1-837d-61730d2f7c69",
   "metadata": {},
   "outputs": [
    {
     "data": {
      "text/html": [
       "<div>\n",
       "<style scoped>\n",
       "    .dataframe tbody tr th:only-of-type {\n",
       "        vertical-align: middle;\n",
       "    }\n",
       "\n",
       "    .dataframe tbody tr th {\n",
       "        vertical-align: top;\n",
       "    }\n",
       "\n",
       "    .dataframe thead th {\n",
       "        text-align: right;\n",
       "    }\n",
       "</style>\n",
       "<table border=\"1\" class=\"dataframe\">\n",
       "  <thead>\n",
       "    <tr style=\"text-align: right;\">\n",
       "      <th></th>\n",
       "      <th>학교명</th>\n",
       "      <th>설립구분</th>\n",
       "      <th>평균등록금</th>\n",
       "    </tr>\n",
       "  </thead>\n",
       "  <tbody>\n",
       "    <tr>\n",
       "      <th>0</th>\n",
       "      <td>강릉원주대학교</td>\n",
       "      <td>국공립</td>\n",
       "      <td>4262</td>\n",
       "    </tr>\n",
       "    <tr>\n",
       "      <th>1</th>\n",
       "      <td>강원대학교</td>\n",
       "      <td>국공립</td>\n",
       "      <td>4116</td>\n",
       "    </tr>\n",
       "    <tr>\n",
       "      <th>2</th>\n",
       "      <td>경남과학기술대학교</td>\n",
       "      <td>국공립</td>\n",
       "      <td>3771</td>\n",
       "    </tr>\n",
       "    <tr>\n",
       "      <th>3</th>\n",
       "      <td>경북대학교</td>\n",
       "      <td>국공립</td>\n",
       "      <td>4351</td>\n",
       "    </tr>\n",
       "    <tr>\n",
       "      <th>4</th>\n",
       "      <td>경상대학교</td>\n",
       "      <td>국공립</td>\n",
       "      <td>3967</td>\n",
       "    </tr>\n",
       "    <tr>\n",
       "      <th>5</th>\n",
       "      <td>경인교육대학교</td>\n",
       "      <td>국공립</td>\n",
       "      <td>3189</td>\n",
       "    </tr>\n",
       "    <tr>\n",
       "      <th>6</th>\n",
       "      <td>공주교육대학교</td>\n",
       "      <td>국공립</td>\n",
       "      <td>3424</td>\n",
       "    </tr>\n",
       "    <tr>\n",
       "      <th>7</th>\n",
       "      <td>공주대학교</td>\n",
       "      <td>국공립</td>\n",
       "      <td>3824</td>\n",
       "    </tr>\n",
       "    <tr>\n",
       "      <th>8</th>\n",
       "      <td>광주교육대학교</td>\n",
       "      <td>국공립</td>\n",
       "      <td>3477</td>\n",
       "    </tr>\n",
       "    <tr>\n",
       "      <th>9</th>\n",
       "      <td>군산대학교</td>\n",
       "      <td>국공립</td>\n",
       "      <td>3914</td>\n",
       "    </tr>\n",
       "  </tbody>\n",
       "</table>\n",
       "</div>"
      ],
      "text/plain": [
       "         학교명 설립구분  평균등록금\n",
       "0    강릉원주대학교  국공립   4262\n",
       "1      강원대학교  국공립   4116\n",
       "2  경남과학기술대학교  국공립   3771\n",
       "3      경북대학교  국공립   4351\n",
       "4      경상대학교  국공립   3967\n",
       "5    경인교육대학교  국공립   3189\n",
       "6    공주교육대학교  국공립   3424\n",
       "7      공주대학교  국공립   3824\n",
       "8    광주교육대학교  국공립   3477\n",
       "9      군산대학교  국공립   3914"
      ]
     },
     "execution_count": 30,
     "metadata": {},
     "output_type": "execute_result"
    }
   ],
   "source": [
    "college.head(10) #인자의 수만큼 "
   ]
  },
  {
   "cell_type": "code",
   "execution_count": 31,
   "id": "dd47fa7c-e711-494b-833c-9367799af346",
   "metadata": {},
   "outputs": [
    {
     "data": {
      "text/html": [
       "<div>\n",
       "<style scoped>\n",
       "    .dataframe tbody tr th:only-of-type {\n",
       "        vertical-align: middle;\n",
       "    }\n",
       "\n",
       "    .dataframe tbody tr th {\n",
       "        vertical-align: top;\n",
       "    }\n",
       "\n",
       "    .dataframe thead th {\n",
       "        text-align: right;\n",
       "    }\n",
       "</style>\n",
       "<table border=\"1\" class=\"dataframe\">\n",
       "  <thead>\n",
       "    <tr style=\"text-align: right;\">\n",
       "      <th></th>\n",
       "      <th>학교명</th>\n",
       "      <th>설립구분</th>\n",
       "      <th>평균등록금</th>\n",
       "    </tr>\n",
       "  </thead>\n",
       "  <tbody>\n",
       "    <tr>\n",
       "      <th>191</th>\n",
       "      <td>호남대학교</td>\n",
       "      <td>사립</td>\n",
       "      <td>6482</td>\n",
       "    </tr>\n",
       "    <tr>\n",
       "      <th>192</th>\n",
       "      <td>호남신학대학교</td>\n",
       "      <td>사립</td>\n",
       "      <td>6438</td>\n",
       "    </tr>\n",
       "    <tr>\n",
       "      <th>193</th>\n",
       "      <td>호서대학교</td>\n",
       "      <td>사립</td>\n",
       "      <td>7695</td>\n",
       "    </tr>\n",
       "    <tr>\n",
       "      <th>194</th>\n",
       "      <td>호원대학교</td>\n",
       "      <td>사립</td>\n",
       "      <td>6929</td>\n",
       "    </tr>\n",
       "    <tr>\n",
       "      <th>195</th>\n",
       "      <td>홍익대학교</td>\n",
       "      <td>사립</td>\n",
       "      <td>8297</td>\n",
       "    </tr>\n",
       "  </tbody>\n",
       "</table>\n",
       "</div>"
      ],
      "text/plain": [
       "         학교명 설립구분  평균등록금\n",
       "191    호남대학교   사립   6482\n",
       "192  호남신학대학교   사립   6438\n",
       "193    호서대학교   사립   7695\n",
       "194    호원대학교   사립   6929\n",
       "195    홍익대학교   사립   8297"
      ]
     },
     "execution_count": 31,
     "metadata": {},
     "output_type": "execute_result"
    }
   ],
   "source": [
    "college.tail()"
   ]
  },
  {
   "cell_type": "code",
   "execution_count": 32,
   "id": "64464e35-83b3-4249-8972-1983875921a5",
   "metadata": {},
   "outputs": [
    {
     "data": {
      "text/html": [
       "<div>\n",
       "<style scoped>\n",
       "    .dataframe tbody tr th:only-of-type {\n",
       "        vertical-align: middle;\n",
       "    }\n",
       "\n",
       "    .dataframe tbody tr th {\n",
       "        vertical-align: top;\n",
       "    }\n",
       "\n",
       "    .dataframe thead th {\n",
       "        text-align: right;\n",
       "    }\n",
       "</style>\n",
       "<table border=\"1\" class=\"dataframe\">\n",
       "  <thead>\n",
       "    <tr style=\"text-align: right;\">\n",
       "      <th></th>\n",
       "      <th>학교명</th>\n",
       "      <th>설립구분</th>\n",
       "      <th>평균등록금</th>\n",
       "    </tr>\n",
       "  </thead>\n",
       "  <tbody>\n",
       "    <tr>\n",
       "      <th>186</th>\n",
       "      <td>한양대학교</td>\n",
       "      <td>사립</td>\n",
       "      <td>8423</td>\n",
       "    </tr>\n",
       "    <tr>\n",
       "      <th>187</th>\n",
       "      <td>한영신학대학교</td>\n",
       "      <td>사립</td>\n",
       "      <td>6636</td>\n",
       "    </tr>\n",
       "    <tr>\n",
       "      <th>188</th>\n",
       "      <td>한일장신대학교</td>\n",
       "      <td>사립</td>\n",
       "      <td>6196</td>\n",
       "    </tr>\n",
       "    <tr>\n",
       "      <th>189</th>\n",
       "      <td>한중대학교</td>\n",
       "      <td>사립</td>\n",
       "      <td>7159</td>\n",
       "    </tr>\n",
       "    <tr>\n",
       "      <th>190</th>\n",
       "      <td>협성대학교</td>\n",
       "      <td>사립</td>\n",
       "      <td>7300</td>\n",
       "    </tr>\n",
       "    <tr>\n",
       "      <th>191</th>\n",
       "      <td>호남대학교</td>\n",
       "      <td>사립</td>\n",
       "      <td>6482</td>\n",
       "    </tr>\n",
       "    <tr>\n",
       "      <th>192</th>\n",
       "      <td>호남신학대학교</td>\n",
       "      <td>사립</td>\n",
       "      <td>6438</td>\n",
       "    </tr>\n",
       "    <tr>\n",
       "      <th>193</th>\n",
       "      <td>호서대학교</td>\n",
       "      <td>사립</td>\n",
       "      <td>7695</td>\n",
       "    </tr>\n",
       "    <tr>\n",
       "      <th>194</th>\n",
       "      <td>호원대학교</td>\n",
       "      <td>사립</td>\n",
       "      <td>6929</td>\n",
       "    </tr>\n",
       "    <tr>\n",
       "      <th>195</th>\n",
       "      <td>홍익대학교</td>\n",
       "      <td>사립</td>\n",
       "      <td>8297</td>\n",
       "    </tr>\n",
       "  </tbody>\n",
       "</table>\n",
       "</div>"
      ],
      "text/plain": [
       "         학교명 설립구분  평균등록금\n",
       "186    한양대학교   사립   8423\n",
       "187  한영신학대학교   사립   6636\n",
       "188  한일장신대학교   사립   6196\n",
       "189    한중대학교   사립   7159\n",
       "190    협성대학교   사립   7300\n",
       "191    호남대학교   사립   6482\n",
       "192  호남신학대학교   사립   6438\n",
       "193    호서대학교   사립   7695\n",
       "194    호원대학교   사립   6929\n",
       "195    홍익대학교   사립   8297"
      ]
     },
     "execution_count": 32,
     "metadata": {},
     "output_type": "execute_result"
    }
   ],
   "source": [
    "college.tail(10)"
   ]
  },
  {
   "cell_type": "markdown",
   "id": "d5071126-874d-4244-acf2-ef63f911a4ff",
   "metadata": {},
   "source": [
    "* 특정 열 선택하기  \n",
    "  데이터프레임['열이름']"
   ]
  },
  {
   "cell_type": "code",
   "execution_count": 33,
   "id": "20f8ea0d-75e8-41dd-a537-9f1c8a6f8daa",
   "metadata": {},
   "outputs": [
    {
     "data": {
      "text/plain": [
       "Index(['학교명', '설립구분', '평균등록금'], dtype='object')"
      ]
     },
     "execution_count": 33,
     "metadata": {},
     "output_type": "execute_result"
    }
   ],
   "source": [
    "college.columns"
   ]
  },
  {
   "cell_type": "code",
   "execution_count": 34,
   "id": "857e1c8d-8ce0-468a-a89b-bdaac5c2e33e",
   "metadata": {},
   "outputs": [
    {
     "data": {
      "text/plain": [
       "0        강릉원주대학교\n",
       "1          강원대학교\n",
       "2      경남과학기술대학교\n",
       "3          경북대학교\n",
       "4          경상대학교\n",
       "         ...    \n",
       "191        호남대학교\n",
       "192      호남신학대학교\n",
       "193        호서대학교\n",
       "194        호원대학교\n",
       "195        홍익대학교\n",
       "Name: 학교명, Length: 196, dtype: object"
      ]
     },
     "execution_count": 34,
     "metadata": {},
     "output_type": "execute_result"
    }
   ],
   "source": [
    "college['학교명']"
   ]
  },
  {
   "cell_type": "code",
   "execution_count": 35,
   "id": "5cc8cb84-e21d-4f6c-b546-5eee7c2c1e57",
   "metadata": {},
   "outputs": [
    {
     "data": {
      "text/plain": [
       "pandas.core.series.Series"
      ]
     },
     "execution_count": 35,
     "metadata": {},
     "output_type": "execute_result"
    }
   ],
   "source": [
    "type(college['학교명'])"
   ]
  },
  {
   "cell_type": "code",
   "execution_count": 36,
   "id": "96b699c2-c22d-4434-9fce-5d24cfffb697",
   "metadata": {},
   "outputs": [
    {
     "data": {
      "text/plain": [
       "191      호남대학교\n",
       "192    호남신학대학교\n",
       "193      호서대학교\n",
       "194      호원대학교\n",
       "195      홍익대학교\n",
       "Name: 학교명, dtype: object"
      ]
     },
     "execution_count": 36,
     "metadata": {},
     "output_type": "execute_result"
    }
   ],
   "source": [
    "college['학교명'].tail()"
   ]
  },
  {
   "cell_type": "code",
   "execution_count": 37,
   "id": "7500e2de-7ff3-4e38-a7c0-c31377cf0cdf",
   "metadata": {},
   "outputs": [
    {
     "data": {
      "text/plain": [
       "0      국공립\n",
       "1      국공립\n",
       "2      국공립\n",
       "3      국공립\n",
       "4      국공립\n",
       "      ... \n",
       "191     사립\n",
       "192     사립\n",
       "193     사립\n",
       "194     사립\n",
       "195     사립\n",
       "Name: 설립구분, Length: 196, dtype: object"
      ]
     },
     "execution_count": 37,
     "metadata": {},
     "output_type": "execute_result"
    }
   ],
   "source": [
    "college['설립구분']"
   ]
  },
  {
   "cell_type": "code",
   "execution_count": null,
   "id": "3f22dc52-849b-4551-af8c-52c66a2cb7af",
   "metadata": {},
   "outputs": [],
   "source": []
  },
  {
   "cell_type": "markdown",
   "id": "fc42ceec-77aa-4fa1-b7ee-88c8190d0fbe",
   "metadata": {},
   "source": [
    "# 연습문제"
   ]
  },
  {
   "cell_type": "markdown",
   "id": "abf928c3-95e4-4a55-9347-a18eca4aae0c",
   "metadata": {},
   "source": [
    "* 평균 등록금의 모든 값에 1000을 곱한 값을 조회"
   ]
  },
  {
   "cell_type": "code",
   "execution_count": 38,
   "id": "32ac0236-d4d9-4f2b-9223-7062ccef2df8",
   "metadata": {},
   "outputs": [
    {
     "data": {
      "text/plain": [
       "0      4262000\n",
       "1      4116000\n",
       "2      3771000\n",
       "3      4351000\n",
       "4      3967000\n",
       "        ...   \n",
       "191    6482000\n",
       "192    6438000\n",
       "193    7695000\n",
       "194    6929000\n",
       "195    8297000\n",
       "Name: 평균등록금, Length: 196, dtype: int64"
      ]
     },
     "execution_count": 38,
     "metadata": {},
     "output_type": "execute_result"
    }
   ],
   "source": [
    "college['평균등록금'] * 1000"
   ]
  },
  {
   "cell_type": "markdown",
   "id": "82b024dc-ec99-4f48-ae1a-0f57f8c51d91",
   "metadata": {},
   "source": [
    "### 열의 값 갱신"
   ]
  },
  {
   "cell_type": "raw",
   "id": "f138f4a6-5cc7-499c-995a-bc453fe61db1",
   "metadata": {},
   "source": [
    "데이터프레임['열이름'] = 갱신값 또는 관련 연산 => 기존의 열의 값이 있다면 갱신이된다."
   ]
  },
  {
   "cell_type": "code",
   "execution_count": 45,
   "id": "b339bd70-7ca1-4bcb-9b93-c4a6ce45f3bc",
   "metadata": {},
   "outputs": [
    {
     "data": {
      "text/html": [
       "<div>\n",
       "<style scoped>\n",
       "    .dataframe tbody tr th:only-of-type {\n",
       "        vertical-align: middle;\n",
       "    }\n",
       "\n",
       "    .dataframe tbody tr th {\n",
       "        vertical-align: top;\n",
       "    }\n",
       "\n",
       "    .dataframe thead th {\n",
       "        text-align: right;\n",
       "    }\n",
       "</style>\n",
       "<table border=\"1\" class=\"dataframe\">\n",
       "  <thead>\n",
       "    <tr style=\"text-align: right;\">\n",
       "      <th></th>\n",
       "      <th>학교명</th>\n",
       "      <th>설립구분</th>\n",
       "      <th>평균등록금</th>\n",
       "    </tr>\n",
       "  </thead>\n",
       "  <tbody>\n",
       "    <tr>\n",
       "      <th>0</th>\n",
       "      <td>강릉원주대학교</td>\n",
       "      <td>국공립</td>\n",
       "      <td>4262000.0</td>\n",
       "    </tr>\n",
       "    <tr>\n",
       "      <th>1</th>\n",
       "      <td>강원대학교</td>\n",
       "      <td>국공립</td>\n",
       "      <td>4116000.0</td>\n",
       "    </tr>\n",
       "    <tr>\n",
       "      <th>2</th>\n",
       "      <td>경남과학기술대학교</td>\n",
       "      <td>국공립</td>\n",
       "      <td>3771000.0</td>\n",
       "    </tr>\n",
       "    <tr>\n",
       "      <th>3</th>\n",
       "      <td>경북대학교</td>\n",
       "      <td>국공립</td>\n",
       "      <td>4351000.0</td>\n",
       "    </tr>\n",
       "    <tr>\n",
       "      <th>4</th>\n",
       "      <td>경상대학교</td>\n",
       "      <td>국공립</td>\n",
       "      <td>3967000.0</td>\n",
       "    </tr>\n",
       "    <tr>\n",
       "      <th>...</th>\n",
       "      <td>...</td>\n",
       "      <td>...</td>\n",
       "      <td>...</td>\n",
       "    </tr>\n",
       "    <tr>\n",
       "      <th>191</th>\n",
       "      <td>호남대학교</td>\n",
       "      <td>사립</td>\n",
       "      <td>6482000.0</td>\n",
       "    </tr>\n",
       "    <tr>\n",
       "      <th>192</th>\n",
       "      <td>호남신학대학교</td>\n",
       "      <td>사립</td>\n",
       "      <td>6438000.0</td>\n",
       "    </tr>\n",
       "    <tr>\n",
       "      <th>193</th>\n",
       "      <td>호서대학교</td>\n",
       "      <td>사립</td>\n",
       "      <td>7695000.0</td>\n",
       "    </tr>\n",
       "    <tr>\n",
       "      <th>194</th>\n",
       "      <td>호원대학교</td>\n",
       "      <td>사립</td>\n",
       "      <td>6929000.0</td>\n",
       "    </tr>\n",
       "    <tr>\n",
       "      <th>195</th>\n",
       "      <td>홍익대학교</td>\n",
       "      <td>사립</td>\n",
       "      <td>8297000.0</td>\n",
       "    </tr>\n",
       "  </tbody>\n",
       "</table>\n",
       "<p>196 rows × 3 columns</p>\n",
       "</div>"
      ],
      "text/plain": [
       "           학교명 설립구분      평균등록금\n",
       "0      강릉원주대학교  국공립  4262000.0\n",
       "1        강원대학교  국공립  4116000.0\n",
       "2    경남과학기술대학교  국공립  3771000.0\n",
       "3        경북대학교  국공립  4351000.0\n",
       "4        경상대학교  국공립  3967000.0\n",
       "..         ...  ...        ...\n",
       "191      호남대학교   사립  6482000.0\n",
       "192    호남신학대학교   사립  6438000.0\n",
       "193      호서대학교   사립  7695000.0\n",
       "194      호원대학교   사립  6929000.0\n",
       "195      홍익대학교   사립  8297000.0\n",
       "\n",
       "[196 rows x 3 columns]"
      ]
     },
     "execution_count": 45,
     "metadata": {},
     "output_type": "execute_result"
    }
   ],
   "source": [
    "college['평균등록금'] = college['평균등록금'] *100\n",
    "college"
   ]
  },
  {
   "cell_type": "markdown",
   "id": "c85cb57b-6daf-452a-b8dc-4a6a33e9feee",
   "metadata": {},
   "source": [
    "### 신규열 추가"
   ]
  },
  {
   "cell_type": "raw",
   "id": "d5be34d9-ce51-41cf-858a-298d4146c3c2",
   "metadata": {},
   "source": [
    "데이터프레임['신규열이름'] = 신규값 또는 관련 연산 => 기존에 해당 열이 없다면 신규열이 생성된다."
   ]
  },
  {
   "cell_type": "code",
   "execution_count": 47,
   "id": "92546d24-0c5e-4cd5-b178-e7a0929bff71",
   "metadata": {},
   "outputs": [
    {
     "data": {
      "text/html": [
       "<div>\n",
       "<style scoped>\n",
       "    .dataframe tbody tr th:only-of-type {\n",
       "        vertical-align: middle;\n",
       "    }\n",
       "\n",
       "    .dataframe tbody tr th {\n",
       "        vertical-align: top;\n",
       "    }\n",
       "\n",
       "    .dataframe thead th {\n",
       "        text-align: right;\n",
       "    }\n",
       "</style>\n",
       "<table border=\"1\" class=\"dataframe\">\n",
       "  <thead>\n",
       "    <tr style=\"text-align: right;\">\n",
       "      <th></th>\n",
       "      <th>학교명</th>\n",
       "      <th>설립구분</th>\n",
       "      <th>평균등록금</th>\n",
       "      <th>평균등록금k</th>\n",
       "    </tr>\n",
       "  </thead>\n",
       "  <tbody>\n",
       "    <tr>\n",
       "      <th>0</th>\n",
       "      <td>강릉원주대학교</td>\n",
       "      <td>국공립</td>\n",
       "      <td>4262000.0</td>\n",
       "      <td>4262.0</td>\n",
       "    </tr>\n",
       "    <tr>\n",
       "      <th>1</th>\n",
       "      <td>강원대학교</td>\n",
       "      <td>국공립</td>\n",
       "      <td>4116000.0</td>\n",
       "      <td>4116.0</td>\n",
       "    </tr>\n",
       "    <tr>\n",
       "      <th>2</th>\n",
       "      <td>경남과학기술대학교</td>\n",
       "      <td>국공립</td>\n",
       "      <td>3771000.0</td>\n",
       "      <td>3771.0</td>\n",
       "    </tr>\n",
       "    <tr>\n",
       "      <th>3</th>\n",
       "      <td>경북대학교</td>\n",
       "      <td>국공립</td>\n",
       "      <td>4351000.0</td>\n",
       "      <td>4351.0</td>\n",
       "    </tr>\n",
       "    <tr>\n",
       "      <th>4</th>\n",
       "      <td>경상대학교</td>\n",
       "      <td>국공립</td>\n",
       "      <td>3967000.0</td>\n",
       "      <td>3967.0</td>\n",
       "    </tr>\n",
       "    <tr>\n",
       "      <th>...</th>\n",
       "      <td>...</td>\n",
       "      <td>...</td>\n",
       "      <td>...</td>\n",
       "      <td>...</td>\n",
       "    </tr>\n",
       "    <tr>\n",
       "      <th>191</th>\n",
       "      <td>호남대학교</td>\n",
       "      <td>사립</td>\n",
       "      <td>6482000.0</td>\n",
       "      <td>6482.0</td>\n",
       "    </tr>\n",
       "    <tr>\n",
       "      <th>192</th>\n",
       "      <td>호남신학대학교</td>\n",
       "      <td>사립</td>\n",
       "      <td>6438000.0</td>\n",
       "      <td>6438.0</td>\n",
       "    </tr>\n",
       "    <tr>\n",
       "      <th>193</th>\n",
       "      <td>호서대학교</td>\n",
       "      <td>사립</td>\n",
       "      <td>7695000.0</td>\n",
       "      <td>7695.0</td>\n",
       "    </tr>\n",
       "    <tr>\n",
       "      <th>194</th>\n",
       "      <td>호원대학교</td>\n",
       "      <td>사립</td>\n",
       "      <td>6929000.0</td>\n",
       "      <td>6929.0</td>\n",
       "    </tr>\n",
       "    <tr>\n",
       "      <th>195</th>\n",
       "      <td>홍익대학교</td>\n",
       "      <td>사립</td>\n",
       "      <td>8297000.0</td>\n",
       "      <td>8297.0</td>\n",
       "    </tr>\n",
       "  </tbody>\n",
       "</table>\n",
       "<p>196 rows × 4 columns</p>\n",
       "</div>"
      ],
      "text/plain": [
       "           학교명 설립구분      평균등록금  평균등록금k\n",
       "0      강릉원주대학교  국공립  4262000.0  4262.0\n",
       "1        강원대학교  국공립  4116000.0  4116.0\n",
       "2    경남과학기술대학교  국공립  3771000.0  3771.0\n",
       "3        경북대학교  국공립  4351000.0  4351.0\n",
       "4        경상대학교  국공립  3967000.0  3967.0\n",
       "..         ...  ...        ...     ...\n",
       "191      호남대학교   사립  6482000.0  6482.0\n",
       "192    호남신학대학교   사립  6438000.0  6438.0\n",
       "193      호서대학교   사립  7695000.0  7695.0\n",
       "194      호원대학교   사립  6929000.0  6929.0\n",
       "195      홍익대학교   사립  8297000.0  8297.0\n",
       "\n",
       "[196 rows x 4 columns]"
      ]
     },
     "execution_count": 47,
     "metadata": {},
     "output_type": "execute_result"
    }
   ],
   "source": [
    "college['평균등록금k']= college['평균등록금'] // 1000\n",
    "college"
   ]
  },
  {
   "cell_type": "code",
   "execution_count": null,
   "id": "847df6df-185a-4385-8825-d962874d39d6",
   "metadata": {},
   "outputs": [],
   "source": []
  },
  {
   "cell_type": "code",
   "execution_count": null,
   "id": "137a2ff5-17ee-4e91-a451-0e5f64d31764",
   "metadata": {},
   "outputs": [],
   "source": []
  }
 ],
 "metadata": {
  "kernelspec": {
   "display_name": "Python [conda env:base] *",
   "language": "python",
   "name": "conda-base-py"
  },
  "language_info": {
   "codemirror_mode": {
    "name": "ipython",
    "version": 3
   },
   "file_extension": ".py",
   "mimetype": "text/x-python",
   "name": "python",
   "nbconvert_exporter": "python",
   "pygments_lexer": "ipython3",
   "version": "3.13.5"
  }
 },
 "nbformat": 4,
 "nbformat_minor": 5
}
