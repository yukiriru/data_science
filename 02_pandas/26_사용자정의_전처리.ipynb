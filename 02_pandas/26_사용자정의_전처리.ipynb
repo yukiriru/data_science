{
 "cells": [
  {
   "cell_type": "markdown",
   "id": "3b164975-e98c-4407-883c-ec6dc4b2985c",
   "metadata": {},
   "source": [
    "# 사용자정의 전처리란?"
   ]
  },
  {
   "cell_type": "markdown",
   "id": "79997e23-5e6f-48ce-8ec8-85071f2bf038",
   "metadata": {},
   "source": [
    "* 데이터 프레임 또는 시리즈에서 제공하는 기본 함수로 처리하기 어려운 복잡한 전처리를 개발자가 직접 정의하여 처리하는 방식"
   ]
  },
  {
   "cell_type": "code",
   "execution_count": 66,
   "id": "53ef0596-ffb9-4030-85b2-fab2416b70ad",
   "metadata": {},
   "outputs": [],
   "source": [
    "import pandas as pd\n",
    "import numpy as np"
   ]
  },
  {
   "cell_type": "markdown",
   "id": "c7b45d72-4270-48c1-a18b-a2eee73a34ef",
   "metadata": {},
   "source": [
    "# Apply 문법"
   ]
  },
  {
   "cell_type": "markdown",
   "id": "63ecaa14-d44f-4a67-b97b-a3a3d1efc1e0",
   "metadata": {},
   "source": [
    "* [데이터프레임 또는 데이터프레임의 열].apply(사용자 정의 함수 또는 람다함수)"
   ]
  },
  {
   "cell_type": "code",
   "execution_count": 67,
   "id": "6aca80c1-b15b-4b4f-89ae-a4c0bbb25fcb",
   "metadata": {},
   "outputs": [
    {
     "data": {
      "text/html": [
       "<div>\n",
       "<style scoped>\n",
       "    .dataframe tbody tr th:only-of-type {\n",
       "        vertical-align: middle;\n",
       "    }\n",
       "\n",
       "    .dataframe tbody tr th {\n",
       "        vertical-align: top;\n",
       "    }\n",
       "\n",
       "    .dataframe thead th {\n",
       "        text-align: right;\n",
       "    }\n",
       "</style>\n",
       "<table border=\"1\" class=\"dataframe\">\n",
       "  <thead>\n",
       "    <tr style=\"text-align: right;\">\n",
       "      <th></th>\n",
       "      <th>상품</th>\n",
       "      <th>가격($)</th>\n",
       "    </tr>\n",
       "  </thead>\n",
       "  <tbody>\n",
       "    <tr>\n",
       "      <th>0</th>\n",
       "      <td>상품1</td>\n",
       "      <td>3</td>\n",
       "    </tr>\n",
       "    <tr>\n",
       "      <th>1</th>\n",
       "      <td>상품2</td>\n",
       "      <td>8</td>\n",
       "    </tr>\n",
       "    <tr>\n",
       "      <th>2</th>\n",
       "      <td>상품3</td>\n",
       "      <td>13</td>\n",
       "    </tr>\n",
       "    <tr>\n",
       "      <th>3</th>\n",
       "      <td>상품4</td>\n",
       "      <td>4</td>\n",
       "    </tr>\n",
       "    <tr>\n",
       "      <th>4</th>\n",
       "      <td>상품5</td>\n",
       "      <td>205</td>\n",
       "    </tr>\n",
       "  </tbody>\n",
       "</table>\n",
       "</div>"
      ],
      "text/plain": [
       "    상품  가격($)\n",
       "0  상품1      3\n",
       "1  상품2      8\n",
       "2  상품3     13\n",
       "3  상품4      4\n",
       "4  상품5    205"
      ]
     },
     "execution_count": 67,
     "metadata": {},
     "output_type": "execute_result"
    }
   ],
   "source": [
    "data = {\n",
    "    '상품':['상품1','상품2','상품3','상품4','상품5'],\n",
    "    '가격($)': [3, 8, 13, 4, 205]}\n",
    "df = pd.DataFrame(data)\n",
    "df"
   ]
  },
  {
   "cell_type": "markdown",
   "id": "c90041dc-f4a1-411a-af62-1cd75142da3f",
   "metadata": {},
   "source": [
    "* 사용자 정의 함수 apply 적용"
   ]
  },
  {
   "cell_type": "code",
   "execution_count": 68,
   "id": "320941b7-fd4a-4ee3-9d37-3f26a8563379",
   "metadata": {},
   "outputs": [],
   "source": [
    "def transform_won(dollar):\n",
    "    won = dollar * 1395\n",
    "    return won    "
   ]
  },
  {
   "cell_type": "code",
   "execution_count": 69,
   "id": "6a1ffe53-e6df-4cb7-9e19-05d76f490e55",
   "metadata": {},
   "outputs": [
    {
     "data": {
      "text/plain": [
       "0      3\n",
       "1      8\n",
       "2     13\n",
       "3      4\n",
       "4    205\n",
       "Name: 가격($), dtype: int64"
      ]
     },
     "execution_count": 69,
     "metadata": {},
     "output_type": "execute_result"
    }
   ],
   "source": [
    "df['가격($)']"
   ]
  },
  {
   "cell_type": "code",
   "execution_count": 70,
   "id": "a867d08f-f862-41aa-add2-3961efd61ad6",
   "metadata": {},
   "outputs": [
    {
     "data": {
      "text/plain": [
       "0      4185\n",
       "1     11160\n",
       "2     18135\n",
       "3      5580\n",
       "4    285975\n",
       "Name: 가격($), dtype: int64"
      ]
     },
     "execution_count": 70,
     "metadata": {},
     "output_type": "execute_result"
    }
   ],
   "source": [
    "df['가격($)'].apply( transform_won ) # 데이터프레임의 열에 apply적용하면 사용자 정의 함수에 열의 값이 순차적으로 적용이 된다."
   ]
  },
  {
   "cell_type": "code",
   "execution_count": 71,
   "id": "b74f7cda-4aa8-4021-96a3-ac7bcb921f17",
   "metadata": {},
   "outputs": [
    {
     "data": {
      "text/plain": [
       "0      3\n",
       "1      8\n",
       "2     13\n",
       "3      4\n",
       "4    205\n",
       "Name: 가격($), dtype: int64"
      ]
     },
     "execution_count": 71,
     "metadata": {},
     "output_type": "execute_result"
    }
   ],
   "source": [
    "df['가격($)']"
   ]
  },
  {
   "cell_type": "code",
   "execution_count": 72,
   "id": "558a2b16-1abd-486c-9063-d8e40e3c646c",
   "metadata": {},
   "outputs": [
    {
     "data": {
      "text/html": [
       "<div>\n",
       "<style scoped>\n",
       "    .dataframe tbody tr th:only-of-type {\n",
       "        vertical-align: middle;\n",
       "    }\n",
       "\n",
       "    .dataframe tbody tr th {\n",
       "        vertical-align: top;\n",
       "    }\n",
       "\n",
       "    .dataframe thead th {\n",
       "        text-align: right;\n",
       "    }\n",
       "</style>\n",
       "<table border=\"1\" class=\"dataframe\">\n",
       "  <thead>\n",
       "    <tr style=\"text-align: right;\">\n",
       "      <th></th>\n",
       "      <th>상품</th>\n",
       "      <th>가격($)</th>\n",
       "      <th>가격(원)</th>\n",
       "    </tr>\n",
       "  </thead>\n",
       "  <tbody>\n",
       "    <tr>\n",
       "      <th>0</th>\n",
       "      <td>상품1</td>\n",
       "      <td>3</td>\n",
       "      <td>4185</td>\n",
       "    </tr>\n",
       "    <tr>\n",
       "      <th>1</th>\n",
       "      <td>상품2</td>\n",
       "      <td>8</td>\n",
       "      <td>11160</td>\n",
       "    </tr>\n",
       "    <tr>\n",
       "      <th>2</th>\n",
       "      <td>상품3</td>\n",
       "      <td>13</td>\n",
       "      <td>18135</td>\n",
       "    </tr>\n",
       "    <tr>\n",
       "      <th>3</th>\n",
       "      <td>상품4</td>\n",
       "      <td>4</td>\n",
       "      <td>5580</td>\n",
       "    </tr>\n",
       "    <tr>\n",
       "      <th>4</th>\n",
       "      <td>상품5</td>\n",
       "      <td>205</td>\n",
       "      <td>285975</td>\n",
       "    </tr>\n",
       "  </tbody>\n",
       "</table>\n",
       "</div>"
      ],
      "text/plain": [
       "    상품  가격($)   가격(원)\n",
       "0  상품1      3    4185\n",
       "1  상품2      8   11160\n",
       "2  상품3     13   18135\n",
       "3  상품4      4    5580\n",
       "4  상품5    205  285975"
      ]
     },
     "execution_count": 72,
     "metadata": {},
     "output_type": "execute_result"
    }
   ],
   "source": [
    "df['가격(원)'] =  df['가격($)'].apply(transform_won)\n",
    "df"
   ]
  },
  {
   "cell_type": "markdown",
   "id": "2e5fb6f5-7d52-4a12-ab6a-e8b2792d9100",
   "metadata": {},
   "source": [
    "* 람다함수 apply 적용  \n",
    "  간단한 사용자 함수를 정의할 때 사용"
   ]
  },
  {
   "cell_type": "code",
   "execution_count": 73,
   "id": "426ac75d-df9a-4c09-bb3b-135f5776ce13",
   "metadata": {},
   "outputs": [
    {
     "data": {
      "text/html": [
       "<div>\n",
       "<style scoped>\n",
       "    .dataframe tbody tr th:only-of-type {\n",
       "        vertical-align: middle;\n",
       "    }\n",
       "\n",
       "    .dataframe tbody tr th {\n",
       "        vertical-align: top;\n",
       "    }\n",
       "\n",
       "    .dataframe thead th {\n",
       "        text-align: right;\n",
       "    }\n",
       "</style>\n",
       "<table border=\"1\" class=\"dataframe\">\n",
       "  <thead>\n",
       "    <tr style=\"text-align: right;\">\n",
       "      <th></th>\n",
       "      <th>상품</th>\n",
       "      <th>가격($)</th>\n",
       "    </tr>\n",
       "  </thead>\n",
       "  <tbody>\n",
       "    <tr>\n",
       "      <th>0</th>\n",
       "      <td>상품1</td>\n",
       "      <td>3</td>\n",
       "    </tr>\n",
       "    <tr>\n",
       "      <th>1</th>\n",
       "      <td>상품2</td>\n",
       "      <td>8</td>\n",
       "    </tr>\n",
       "    <tr>\n",
       "      <th>2</th>\n",
       "      <td>상품3</td>\n",
       "      <td>13</td>\n",
       "    </tr>\n",
       "    <tr>\n",
       "      <th>3</th>\n",
       "      <td>상품4</td>\n",
       "      <td>4</td>\n",
       "    </tr>\n",
       "    <tr>\n",
       "      <th>4</th>\n",
       "      <td>상품5</td>\n",
       "      <td>205</td>\n",
       "    </tr>\n",
       "  </tbody>\n",
       "</table>\n",
       "</div>"
      ],
      "text/plain": [
       "    상품  가격($)\n",
       "0  상품1      3\n",
       "1  상품2      8\n",
       "2  상품3     13\n",
       "3  상품4      4\n",
       "4  상품5    205"
      ]
     },
     "execution_count": 73,
     "metadata": {},
     "output_type": "execute_result"
    }
   ],
   "source": [
    "df.drop('가격(원)', axis=1, inplace=True)\n",
    "df"
   ]
  },
  {
   "cell_type": "code",
   "execution_count": 74,
   "id": "440bba7d-f9f5-4117-9cc4-8969ac8553a3",
   "metadata": {},
   "outputs": [
    {
     "data": {
      "text/html": [
       "<div>\n",
       "<style scoped>\n",
       "    .dataframe tbody tr th:only-of-type {\n",
       "        vertical-align: middle;\n",
       "    }\n",
       "\n",
       "    .dataframe tbody tr th {\n",
       "        vertical-align: top;\n",
       "    }\n",
       "\n",
       "    .dataframe thead th {\n",
       "        text-align: right;\n",
       "    }\n",
       "</style>\n",
       "<table border=\"1\" class=\"dataframe\">\n",
       "  <thead>\n",
       "    <tr style=\"text-align: right;\">\n",
       "      <th></th>\n",
       "      <th>상품</th>\n",
       "      <th>가격($)</th>\n",
       "      <th>가격(원)</th>\n",
       "    </tr>\n",
       "  </thead>\n",
       "  <tbody>\n",
       "    <tr>\n",
       "      <th>0</th>\n",
       "      <td>상품1</td>\n",
       "      <td>3</td>\n",
       "      <td>4185</td>\n",
       "    </tr>\n",
       "    <tr>\n",
       "      <th>1</th>\n",
       "      <td>상품2</td>\n",
       "      <td>8</td>\n",
       "      <td>11160</td>\n",
       "    </tr>\n",
       "    <tr>\n",
       "      <th>2</th>\n",
       "      <td>상품3</td>\n",
       "      <td>13</td>\n",
       "      <td>18135</td>\n",
       "    </tr>\n",
       "    <tr>\n",
       "      <th>3</th>\n",
       "      <td>상품4</td>\n",
       "      <td>4</td>\n",
       "      <td>5580</td>\n",
       "    </tr>\n",
       "    <tr>\n",
       "      <th>4</th>\n",
       "      <td>상품5</td>\n",
       "      <td>205</td>\n",
       "      <td>285975</td>\n",
       "    </tr>\n",
       "  </tbody>\n",
       "</table>\n",
       "</div>"
      ],
      "text/plain": [
       "    상품  가격($)   가격(원)\n",
       "0  상품1      3    4185\n",
       "1  상품2      8   11160\n",
       "2  상품3     13   18135\n",
       "3  상품4      4    5580\n",
       "4  상품5    205  285975"
      ]
     },
     "execution_count": 74,
     "metadata": {},
     "output_type": "execute_result"
    }
   ],
   "source": [
    "df['가격(원)'] =  df['가격($)'].apply(lambda dollar: dollar *1395)\n",
    "df"
   ]
  },
  {
   "cell_type": "markdown",
   "id": "a4c809d0-aa08-4bc2-bf57-04b57e41a0c7",
   "metadata": {},
   "source": [
    "# 판다스 기본 문법으로 전처리"
   ]
  },
  {
   "cell_type": "code",
   "execution_count": 75,
   "id": "b8549efc-688e-4806-b961-7b8b82c6af6e",
   "metadata": {},
   "outputs": [
    {
     "data": {
      "text/html": [
       "<div>\n",
       "<style scoped>\n",
       "    .dataframe tbody tr th:only-of-type {\n",
       "        vertical-align: middle;\n",
       "    }\n",
       "\n",
       "    .dataframe tbody tr th {\n",
       "        vertical-align: top;\n",
       "    }\n",
       "\n",
       "    .dataframe thead th {\n",
       "        text-align: right;\n",
       "    }\n",
       "</style>\n",
       "<table border=\"1\" class=\"dataframe\">\n",
       "  <thead>\n",
       "    <tr style=\"text-align: right;\">\n",
       "      <th></th>\n",
       "      <th>상품</th>\n",
       "      <th>가격($)</th>\n",
       "    </tr>\n",
       "  </thead>\n",
       "  <tbody>\n",
       "    <tr>\n",
       "      <th>0</th>\n",
       "      <td>상품1</td>\n",
       "      <td>3</td>\n",
       "    </tr>\n",
       "    <tr>\n",
       "      <th>1</th>\n",
       "      <td>상품2</td>\n",
       "      <td>8</td>\n",
       "    </tr>\n",
       "    <tr>\n",
       "      <th>2</th>\n",
       "      <td>상품3</td>\n",
       "      <td>13</td>\n",
       "    </tr>\n",
       "    <tr>\n",
       "      <th>3</th>\n",
       "      <td>상품4</td>\n",
       "      <td>4</td>\n",
       "    </tr>\n",
       "    <tr>\n",
       "      <th>4</th>\n",
       "      <td>상품5</td>\n",
       "      <td>205</td>\n",
       "    </tr>\n",
       "  </tbody>\n",
       "</table>\n",
       "</div>"
      ],
      "text/plain": [
       "    상품  가격($)\n",
       "0  상품1      3\n",
       "1  상품2      8\n",
       "2  상품3     13\n",
       "3  상품4      4\n",
       "4  상품5    205"
      ]
     },
     "execution_count": 75,
     "metadata": {},
     "output_type": "execute_result"
    }
   ],
   "source": [
    "df.drop('가격(원)', axis=1, inplace=True)\n",
    "df"
   ]
  },
  {
   "cell_type": "code",
   "execution_count": 76,
   "id": "dd0dde19-571b-47dc-b709-8c17f48fa270",
   "metadata": {},
   "outputs": [
    {
     "data": {
      "text/plain": [
       "0      3\n",
       "1      8\n",
       "2     13\n",
       "3      4\n",
       "4    205\n",
       "Name: 가격($), dtype: int64"
      ]
     },
     "execution_count": 76,
     "metadata": {},
     "output_type": "execute_result"
    }
   ],
   "source": [
    "df['가격($)']"
   ]
  },
  {
   "cell_type": "code",
   "execution_count": 77,
   "id": "0db16b58-cee7-4019-8352-5af81f94c17a",
   "metadata": {},
   "outputs": [
    {
     "data": {
      "text/plain": [
       "0      4185\n",
       "1     11160\n",
       "2     18135\n",
       "3      5580\n",
       "4    285975\n",
       "Name: 가격($), dtype: int64"
      ]
     },
     "execution_count": 77,
     "metadata": {},
     "output_type": "execute_result"
    }
   ],
   "source": [
    "df['가격($)'] * 1395"
   ]
  },
  {
   "cell_type": "code",
   "execution_count": 78,
   "id": "6d75952a-5e1f-4b0c-bedc-f70a9e6a92c5",
   "metadata": {},
   "outputs": [
    {
     "data": {
      "text/html": [
       "<div>\n",
       "<style scoped>\n",
       "    .dataframe tbody tr th:only-of-type {\n",
       "        vertical-align: middle;\n",
       "    }\n",
       "\n",
       "    .dataframe tbody tr th {\n",
       "        vertical-align: top;\n",
       "    }\n",
       "\n",
       "    .dataframe thead th {\n",
       "        text-align: right;\n",
       "    }\n",
       "</style>\n",
       "<table border=\"1\" class=\"dataframe\">\n",
       "  <thead>\n",
       "    <tr style=\"text-align: right;\">\n",
       "      <th></th>\n",
       "      <th>상품</th>\n",
       "      <th>가격($)</th>\n",
       "      <th>가격(원)</th>\n",
       "    </tr>\n",
       "  </thead>\n",
       "  <tbody>\n",
       "    <tr>\n",
       "      <th>0</th>\n",
       "      <td>상품1</td>\n",
       "      <td>3</td>\n",
       "      <td>4185</td>\n",
       "    </tr>\n",
       "    <tr>\n",
       "      <th>1</th>\n",
       "      <td>상품2</td>\n",
       "      <td>8</td>\n",
       "      <td>11160</td>\n",
       "    </tr>\n",
       "    <tr>\n",
       "      <th>2</th>\n",
       "      <td>상품3</td>\n",
       "      <td>13</td>\n",
       "      <td>18135</td>\n",
       "    </tr>\n",
       "    <tr>\n",
       "      <th>3</th>\n",
       "      <td>상품4</td>\n",
       "      <td>4</td>\n",
       "      <td>5580</td>\n",
       "    </tr>\n",
       "    <tr>\n",
       "      <th>4</th>\n",
       "      <td>상품5</td>\n",
       "      <td>205</td>\n",
       "      <td>285975</td>\n",
       "    </tr>\n",
       "  </tbody>\n",
       "</table>\n",
       "</div>"
      ],
      "text/plain": [
       "    상품  가격($)   가격(원)\n",
       "0  상품1      3    4185\n",
       "1  상품2      8   11160\n",
       "2  상품3     13   18135\n",
       "3  상품4      4    5580\n",
       "4  상품5    205  285975"
      ]
     },
     "execution_count": 78,
     "metadata": {},
     "output_type": "execute_result"
    }
   ],
   "source": [
    "df['가격(원)'] = df['가격($)'] * 1395\n",
    "df"
   ]
  },
  {
   "cell_type": "markdown",
   "id": "a4d2e8f6-c68b-4e1f-ba23-af74b172744c",
   "metadata": {},
   "source": [
    "### 중간 결론  \n",
    "* 간단한 작업은 굳이 apply 함수를 사용할 필요가 없다."
   ]
  },
  {
   "cell_type": "markdown",
   "id": "15a1a793-e657-4f9a-8a10-cd5c02a33dac",
   "metadata": {},
   "source": [
    "# 조금 복잡한 경우의 apply 적용"
   ]
  },
  {
   "cell_type": "markdown",
   "id": "e2d22f57-50c7-4909-8664-494253a628e1",
   "metadata": {},
   "source": [
    "* 등급 열에 대한 요구사항 \n",
    "    * 한화 가격이 10,000 이하이면 저가상품\n",
    "    * 한화 가격이 100,000 이하이면 일반상품\n",
    "    * 한화 가격이 100,000 초과시 고가상품    "
   ]
  },
  {
   "cell_type": "code",
   "execution_count": 79,
   "id": "6827ce87-ed70-4930-a5cf-0797d62bd161",
   "metadata": {},
   "outputs": [
    {
     "data": {
      "text/plain": [
       "0      4185\n",
       "1     11160\n",
       "2     18135\n",
       "3      5580\n",
       "4    285975\n",
       "Name: 가격(원), dtype: int64"
      ]
     },
     "execution_count": 79,
     "metadata": {},
     "output_type": "execute_result"
    }
   ],
   "source": [
    "df['가격(원)']"
   ]
  },
  {
   "cell_type": "code",
   "execution_count": 80,
   "id": "184f778e-119b-42a2-8d55-7bb8e525b09c",
   "metadata": {},
   "outputs": [],
   "source": [
    "def get_grade(won_price):\n",
    "    if won_price <= 10_000:\n",
    "        return '저가상품'\n",
    "    elif won_price <= 100_000:\n",
    "        return '일반상품'\n",
    "    else:\n",
    "        return '고가상품'    "
   ]
  },
  {
   "cell_type": "code",
   "execution_count": 81,
   "id": "d2f10dcc-18fe-4edd-aff4-3395b015d674",
   "metadata": {
    "scrolled": true
   },
   "outputs": [
    {
     "data": {
      "text/html": [
       "<div>\n",
       "<style scoped>\n",
       "    .dataframe tbody tr th:only-of-type {\n",
       "        vertical-align: middle;\n",
       "    }\n",
       "\n",
       "    .dataframe tbody tr th {\n",
       "        vertical-align: top;\n",
       "    }\n",
       "\n",
       "    .dataframe thead th {\n",
       "        text-align: right;\n",
       "    }\n",
       "</style>\n",
       "<table border=\"1\" class=\"dataframe\">\n",
       "  <thead>\n",
       "    <tr style=\"text-align: right;\">\n",
       "      <th></th>\n",
       "      <th>상품</th>\n",
       "      <th>가격($)</th>\n",
       "      <th>가격(원)</th>\n",
       "      <th>등급</th>\n",
       "    </tr>\n",
       "  </thead>\n",
       "  <tbody>\n",
       "    <tr>\n",
       "      <th>0</th>\n",
       "      <td>상품1</td>\n",
       "      <td>3</td>\n",
       "      <td>4185</td>\n",
       "      <td>저가상품</td>\n",
       "    </tr>\n",
       "    <tr>\n",
       "      <th>1</th>\n",
       "      <td>상품2</td>\n",
       "      <td>8</td>\n",
       "      <td>11160</td>\n",
       "      <td>일반상품</td>\n",
       "    </tr>\n",
       "    <tr>\n",
       "      <th>2</th>\n",
       "      <td>상품3</td>\n",
       "      <td>13</td>\n",
       "      <td>18135</td>\n",
       "      <td>일반상품</td>\n",
       "    </tr>\n",
       "    <tr>\n",
       "      <th>3</th>\n",
       "      <td>상품4</td>\n",
       "      <td>4</td>\n",
       "      <td>5580</td>\n",
       "      <td>저가상품</td>\n",
       "    </tr>\n",
       "    <tr>\n",
       "      <th>4</th>\n",
       "      <td>상품5</td>\n",
       "      <td>205</td>\n",
       "      <td>285975</td>\n",
       "      <td>고가상품</td>\n",
       "    </tr>\n",
       "  </tbody>\n",
       "</table>\n",
       "</div>"
      ],
      "text/plain": [
       "    상품  가격($)   가격(원)    등급\n",
       "0  상품1      3    4185  저가상품\n",
       "1  상품2      8   11160  일반상품\n",
       "2  상품3     13   18135  일반상품\n",
       "3  상품4      4    5580  저가상품\n",
       "4  상품5    205  285975  고가상품"
      ]
     },
     "execution_count": 81,
     "metadata": {},
     "output_type": "execute_result"
    }
   ],
   "source": [
    "df['등급'] = df['가격(원)'].apply(get_grade)\n",
    "df"
   ]
  },
  {
   "cell_type": "code",
   "execution_count": 82,
   "id": "044af42b-5003-477a-a5fe-ae91e9c5f6e7",
   "metadata": {},
   "outputs": [],
   "source": [
    "df.drop('등급', axis=1, inplace=True)"
   ]
  },
  {
   "cell_type": "code",
   "execution_count": 83,
   "id": "c9626d6c-b713-40ec-a8c3-725742866ef4",
   "metadata": {},
   "outputs": [
    {
     "data": {
      "text/html": [
       "<div>\n",
       "<style scoped>\n",
       "    .dataframe tbody tr th:only-of-type {\n",
       "        vertical-align: middle;\n",
       "    }\n",
       "\n",
       "    .dataframe tbody tr th {\n",
       "        vertical-align: top;\n",
       "    }\n",
       "\n",
       "    .dataframe thead th {\n",
       "        text-align: right;\n",
       "    }\n",
       "</style>\n",
       "<table border=\"1\" class=\"dataframe\">\n",
       "  <thead>\n",
       "    <tr style=\"text-align: right;\">\n",
       "      <th></th>\n",
       "      <th>상품</th>\n",
       "      <th>가격($)</th>\n",
       "      <th>가격(원)</th>\n",
       "    </tr>\n",
       "  </thead>\n",
       "  <tbody>\n",
       "    <tr>\n",
       "      <th>0</th>\n",
       "      <td>상품1</td>\n",
       "      <td>3</td>\n",
       "      <td>4185</td>\n",
       "    </tr>\n",
       "    <tr>\n",
       "      <th>1</th>\n",
       "      <td>상품2</td>\n",
       "      <td>8</td>\n",
       "      <td>11160</td>\n",
       "    </tr>\n",
       "    <tr>\n",
       "      <th>2</th>\n",
       "      <td>상품3</td>\n",
       "      <td>13</td>\n",
       "      <td>18135</td>\n",
       "    </tr>\n",
       "    <tr>\n",
       "      <th>3</th>\n",
       "      <td>상품4</td>\n",
       "      <td>4</td>\n",
       "      <td>5580</td>\n",
       "    </tr>\n",
       "    <tr>\n",
       "      <th>4</th>\n",
       "      <td>상품5</td>\n",
       "      <td>205</td>\n",
       "      <td>285975</td>\n",
       "    </tr>\n",
       "  </tbody>\n",
       "</table>\n",
       "</div>"
      ],
      "text/plain": [
       "    상품  가격($)   가격(원)\n",
       "0  상품1      3    4185\n",
       "1  상품2      8   11160\n",
       "2  상품3     13   18135\n",
       "3  상품4      4    5580\n",
       "4  상품5    205  285975"
      ]
     },
     "execution_count": 83,
     "metadata": {},
     "output_type": "execute_result"
    }
   ],
   "source": [
    "df"
   ]
  },
  {
   "cell_type": "code",
   "execution_count": 84,
   "id": "a0ecd640-6aae-4fee-ab3a-b2eadf7e5939",
   "metadata": {},
   "outputs": [
    {
     "data": {
      "text/html": [
       "<div>\n",
       "<style scoped>\n",
       "    .dataframe tbody tr th:only-of-type {\n",
       "        vertical-align: middle;\n",
       "    }\n",
       "\n",
       "    .dataframe tbody tr th {\n",
       "        vertical-align: top;\n",
       "    }\n",
       "\n",
       "    .dataframe thead th {\n",
       "        text-align: right;\n",
       "    }\n",
       "</style>\n",
       "<table border=\"1\" class=\"dataframe\">\n",
       "  <thead>\n",
       "    <tr style=\"text-align: right;\">\n",
       "      <th></th>\n",
       "      <th>상품</th>\n",
       "      <th>가격($)</th>\n",
       "      <th>가격(원)</th>\n",
       "      <th>등급</th>\n",
       "    </tr>\n",
       "  </thead>\n",
       "  <tbody>\n",
       "    <tr>\n",
       "      <th>0</th>\n",
       "      <td>상품1</td>\n",
       "      <td>3</td>\n",
       "      <td>4185</td>\n",
       "      <td>저가</td>\n",
       "    </tr>\n",
       "    <tr>\n",
       "      <th>1</th>\n",
       "      <td>상품2</td>\n",
       "      <td>8</td>\n",
       "      <td>11160</td>\n",
       "      <td>일반</td>\n",
       "    </tr>\n",
       "    <tr>\n",
       "      <th>2</th>\n",
       "      <td>상품3</td>\n",
       "      <td>13</td>\n",
       "      <td>18135</td>\n",
       "      <td>일반</td>\n",
       "    </tr>\n",
       "    <tr>\n",
       "      <th>3</th>\n",
       "      <td>상품4</td>\n",
       "      <td>4</td>\n",
       "      <td>5580</td>\n",
       "      <td>저가</td>\n",
       "    </tr>\n",
       "    <tr>\n",
       "      <th>4</th>\n",
       "      <td>상품5</td>\n",
       "      <td>205</td>\n",
       "      <td>285975</td>\n",
       "      <td>고급</td>\n",
       "    </tr>\n",
       "  </tbody>\n",
       "</table>\n",
       "</div>"
      ],
      "text/plain": [
       "    상품  가격($)   가격(원)  등급\n",
       "0  상품1      3    4185  저가\n",
       "1  상품2      8   11160  일반\n",
       "2  상품3     13   18135  일반\n",
       "3  상품4      4    5580  저가\n",
       "4  상품5    205  285975  고급"
      ]
     },
     "execution_count": 84,
     "metadata": {},
     "output_type": "execute_result"
    }
   ],
   "source": [
    "df['등급'] = df['가격(원)'].apply(lambda price: '저가' if price < 10000 else ('일반' if price < 100000 else '고급'))\n",
    "df"
   ]
  },
  {
   "cell_type": "markdown",
   "id": "b6496cc4-b533-4809-9695-ae69e7600f49",
   "metadata": {},
   "source": [
    "## 중간결론"
   ]
  },
  {
   "cell_type": "markdown",
   "id": "0cd82c07-75fe-4c8d-92a7-097ce6301068",
   "metadata": {},
   "source": [
    "* 복잡한 사용자정의 전처리는 사용자 정의 함수를 apply 메소드에 적용하자!"
   ]
  },
  {
   "cell_type": "markdown",
   "id": "63853917-7c07-4901-ab79-6d306976a1f2",
   "metadata": {},
   "source": [
    "# 복잡한 경우에서 사용자 전처리"
   ]
  },
  {
   "cell_type": "code",
   "execution_count": 139,
   "id": "9062b858-a681-4360-965d-94605ade5690",
   "metadata": {},
   "outputs": [],
   "source": [
    "import random\n",
    "\n",
    "categories = ['의류', '가전제품', '식품', '화장품']\n",
    "\n",
    "# 상품 데이터 생성\n",
    "data = []\n",
    "for index in range(20):\n",
    "    category = random.choice(categories)\n",
    "    product = f'상품{index+1}'\n",
    "    price = random.randint(10, 100)\n",
    "    data.append([category, product, price])"
   ]
  },
  {
   "cell_type": "code",
   "execution_count": 140,
   "id": "280c880b-d2dd-455a-ac13-6a99b9006ccc",
   "metadata": {},
   "outputs": [
    {
     "data": {
      "text/html": [
       "<div>\n",
       "<style scoped>\n",
       "    .dataframe tbody tr th:only-of-type {\n",
       "        vertical-align: middle;\n",
       "    }\n",
       "\n",
       "    .dataframe tbody tr th {\n",
       "        vertical-align: top;\n",
       "    }\n",
       "\n",
       "    .dataframe thead th {\n",
       "        text-align: right;\n",
       "    }\n",
       "</style>\n",
       "<table border=\"1\" class=\"dataframe\">\n",
       "  <thead>\n",
       "    <tr style=\"text-align: right;\">\n",
       "      <th></th>\n",
       "      <th>카테고리</th>\n",
       "      <th>제품</th>\n",
       "      <th>가격($)</th>\n",
       "    </tr>\n",
       "  </thead>\n",
       "  <tbody>\n",
       "    <tr>\n",
       "      <th>0</th>\n",
       "      <td>가전제품</td>\n",
       "      <td>상품1</td>\n",
       "      <td>25</td>\n",
       "    </tr>\n",
       "    <tr>\n",
       "      <th>1</th>\n",
       "      <td>의류</td>\n",
       "      <td>상품2</td>\n",
       "      <td>26</td>\n",
       "    </tr>\n",
       "    <tr>\n",
       "      <th>2</th>\n",
       "      <td>화장품</td>\n",
       "      <td>상품3</td>\n",
       "      <td>61</td>\n",
       "    </tr>\n",
       "    <tr>\n",
       "      <th>3</th>\n",
       "      <td>가전제품</td>\n",
       "      <td>상품4</td>\n",
       "      <td>59</td>\n",
       "    </tr>\n",
       "    <tr>\n",
       "      <th>4</th>\n",
       "      <td>식품</td>\n",
       "      <td>상품5</td>\n",
       "      <td>86</td>\n",
       "    </tr>\n",
       "  </tbody>\n",
       "</table>\n",
       "</div>"
      ],
      "text/plain": [
       "   카테고리   제품  가격($)\n",
       "0  가전제품  상품1     25\n",
       "1    의류  상품2     26\n",
       "2   화장품  상품3     61\n",
       "3  가전제품  상품4     59\n",
       "4    식품  상품5     86"
      ]
     },
     "execution_count": 140,
     "metadata": {},
     "output_type": "execute_result"
    }
   ],
   "source": [
    "df = pd.DataFrame(data, columns=['카테고리', '제품','가격($)'])\n",
    "df.head()"
   ]
  },
  {
   "cell_type": "markdown",
   "id": "3f8c4f6e-0b1c-433a-b560-f5c17afced22",
   "metadata": {},
   "source": [
    "### 문제 풀어봅시다.  "
   ]
  },
  {
   "cell_type": "markdown",
   "id": "114ebcf5-dab7-4ac4-99c9-403db9faee9e",
   "metadata": {},
   "source": [
    "* 가격(원) 열을 추가한다.\n",
    "* 각 카테고리별 할인률을 적용해 봅시다.\n",
    "* 할인률을 적용한 열 이름을 '할인가격(원)' 으로 한다.\n",
    "* 카테고리별 할인율은 다음과 같다\n",
    "    * 의류: 10%\n",
    "    * 가전제품: 20%\n",
    "    * 식품: 5%\n",
    "    * 화장품: 15%\n",
    "\n",
    "apply 메소드에 사용자 정의 함수를 구현해 풀어보세요!"
   ]
  },
  {
   "cell_type": "code",
   "execution_count": 141,
   "id": "f272bf74-f4bf-4aab-a8e4-c55f306447d9",
   "metadata": {},
   "outputs": [
    {
     "data": {
      "text/html": [
       "<div>\n",
       "<style scoped>\n",
       "    .dataframe tbody tr th:only-of-type {\n",
       "        vertical-align: middle;\n",
       "    }\n",
       "\n",
       "    .dataframe tbody tr th {\n",
       "        vertical-align: top;\n",
       "    }\n",
       "\n",
       "    .dataframe thead th {\n",
       "        text-align: right;\n",
       "    }\n",
       "</style>\n",
       "<table border=\"1\" class=\"dataframe\">\n",
       "  <thead>\n",
       "    <tr style=\"text-align: right;\">\n",
       "      <th></th>\n",
       "      <th>카테고리</th>\n",
       "      <th>제품</th>\n",
       "      <th>가격($)</th>\n",
       "      <th>가격(원)</th>\n",
       "    </tr>\n",
       "  </thead>\n",
       "  <tbody>\n",
       "    <tr>\n",
       "      <th>0</th>\n",
       "      <td>가전제품</td>\n",
       "      <td>상품1</td>\n",
       "      <td>25</td>\n",
       "      <td>33475</td>\n",
       "    </tr>\n",
       "    <tr>\n",
       "      <th>1</th>\n",
       "      <td>의류</td>\n",
       "      <td>상품2</td>\n",
       "      <td>26</td>\n",
       "      <td>34814</td>\n",
       "    </tr>\n",
       "    <tr>\n",
       "      <th>2</th>\n",
       "      <td>화장품</td>\n",
       "      <td>상품3</td>\n",
       "      <td>61</td>\n",
       "      <td>81679</td>\n",
       "    </tr>\n",
       "    <tr>\n",
       "      <th>3</th>\n",
       "      <td>가전제품</td>\n",
       "      <td>상품4</td>\n",
       "      <td>59</td>\n",
       "      <td>79001</td>\n",
       "    </tr>\n",
       "    <tr>\n",
       "      <th>4</th>\n",
       "      <td>식품</td>\n",
       "      <td>상품5</td>\n",
       "      <td>86</td>\n",
       "      <td>115154</td>\n",
       "    </tr>\n",
       "  </tbody>\n",
       "</table>\n",
       "</div>"
      ],
      "text/plain": [
       "   카테고리   제품  가격($)   가격(원)\n",
       "0  가전제품  상품1     25   33475\n",
       "1    의류  상품2     26   34814\n",
       "2   화장품  상품3     61   81679\n",
       "3  가전제품  상품4     59   79001\n",
       "4    식품  상품5     86  115154"
      ]
     },
     "execution_count": 141,
     "metadata": {},
     "output_type": "execute_result"
    }
   ],
   "source": [
    "df['가격(원)'] = df['가격($)'] * 1339\n",
    "df.head()"
   ]
  },
  {
   "cell_type": "markdown",
   "id": "4bba1a78-0070-449b-aeb1-0931807dbf81",
   "metadata": {},
   "source": [
    "* 데이터프레임.apply(사용자정의함수명 또는 람다함수, axis=1)"
   ]
  },
  {
   "cell_type": "code",
   "execution_count": 142,
   "id": "a0274d94-79b7-4b65-aef9-a5fa2f19769b",
   "metadata": {},
   "outputs": [],
   "source": [
    "def apply_discount(df):\n",
    "    if df['카테고리'] == '의류':\n",
    "        return  df['가격(원)'] * 0.9\n",
    "    elif df['카테고리'] == '가전제품':\n",
    "        return  df['가격(원)'] * 0.8\n",
    "    elif df['카테고리'] == '식품':\n",
    "        return  df['가격(원)'] * 0.95\n",
    "    elif df['카테고리'] == '화장품':\n",
    "        return  df['가격(원)'] * 0.85"
   ]
  },
  {
   "cell_type": "code",
   "execution_count": 143,
   "id": "923fb1ce-8663-4815-a791-6099bef30512",
   "metadata": {},
   "outputs": [
    {
     "data": {
      "text/html": [
       "<div>\n",
       "<style scoped>\n",
       "    .dataframe tbody tr th:only-of-type {\n",
       "        vertical-align: middle;\n",
       "    }\n",
       "\n",
       "    .dataframe tbody tr th {\n",
       "        vertical-align: top;\n",
       "    }\n",
       "\n",
       "    .dataframe thead th {\n",
       "        text-align: right;\n",
       "    }\n",
       "</style>\n",
       "<table border=\"1\" class=\"dataframe\">\n",
       "  <thead>\n",
       "    <tr style=\"text-align: right;\">\n",
       "      <th></th>\n",
       "      <th>카테고리</th>\n",
       "      <th>제품</th>\n",
       "      <th>가격($)</th>\n",
       "      <th>가격(원)</th>\n",
       "      <th>할인가격(원)</th>\n",
       "    </tr>\n",
       "  </thead>\n",
       "  <tbody>\n",
       "    <tr>\n",
       "      <th>0</th>\n",
       "      <td>가전제품</td>\n",
       "      <td>상품1</td>\n",
       "      <td>25</td>\n",
       "      <td>33475</td>\n",
       "      <td>26780.00</td>\n",
       "    </tr>\n",
       "    <tr>\n",
       "      <th>1</th>\n",
       "      <td>의류</td>\n",
       "      <td>상품2</td>\n",
       "      <td>26</td>\n",
       "      <td>34814</td>\n",
       "      <td>31332.60</td>\n",
       "    </tr>\n",
       "    <tr>\n",
       "      <th>2</th>\n",
       "      <td>화장품</td>\n",
       "      <td>상품3</td>\n",
       "      <td>61</td>\n",
       "      <td>81679</td>\n",
       "      <td>69427.15</td>\n",
       "    </tr>\n",
       "    <tr>\n",
       "      <th>3</th>\n",
       "      <td>가전제품</td>\n",
       "      <td>상품4</td>\n",
       "      <td>59</td>\n",
       "      <td>79001</td>\n",
       "      <td>63200.80</td>\n",
       "    </tr>\n",
       "    <tr>\n",
       "      <th>4</th>\n",
       "      <td>식품</td>\n",
       "      <td>상품5</td>\n",
       "      <td>86</td>\n",
       "      <td>115154</td>\n",
       "      <td>109396.30</td>\n",
       "    </tr>\n",
       "    <tr>\n",
       "      <th>5</th>\n",
       "      <td>의류</td>\n",
       "      <td>상품6</td>\n",
       "      <td>59</td>\n",
       "      <td>79001</td>\n",
       "      <td>71100.90</td>\n",
       "    </tr>\n",
       "    <tr>\n",
       "      <th>6</th>\n",
       "      <td>가전제품</td>\n",
       "      <td>상품7</td>\n",
       "      <td>66</td>\n",
       "      <td>88374</td>\n",
       "      <td>70699.20</td>\n",
       "    </tr>\n",
       "    <tr>\n",
       "      <th>7</th>\n",
       "      <td>화장품</td>\n",
       "      <td>상품8</td>\n",
       "      <td>29</td>\n",
       "      <td>38831</td>\n",
       "      <td>33006.35</td>\n",
       "    </tr>\n",
       "    <tr>\n",
       "      <th>8</th>\n",
       "      <td>화장품</td>\n",
       "      <td>상품9</td>\n",
       "      <td>84</td>\n",
       "      <td>112476</td>\n",
       "      <td>95604.60</td>\n",
       "    </tr>\n",
       "    <tr>\n",
       "      <th>9</th>\n",
       "      <td>가전제품</td>\n",
       "      <td>상품10</td>\n",
       "      <td>80</td>\n",
       "      <td>107120</td>\n",
       "      <td>85696.00</td>\n",
       "    </tr>\n",
       "    <tr>\n",
       "      <th>10</th>\n",
       "      <td>식품</td>\n",
       "      <td>상품11</td>\n",
       "      <td>57</td>\n",
       "      <td>76323</td>\n",
       "      <td>72506.85</td>\n",
       "    </tr>\n",
       "    <tr>\n",
       "      <th>11</th>\n",
       "      <td>가전제품</td>\n",
       "      <td>상품12</td>\n",
       "      <td>64</td>\n",
       "      <td>85696</td>\n",
       "      <td>68556.80</td>\n",
       "    </tr>\n",
       "    <tr>\n",
       "      <th>12</th>\n",
       "      <td>가전제품</td>\n",
       "      <td>상품13</td>\n",
       "      <td>50</td>\n",
       "      <td>66950</td>\n",
       "      <td>53560.00</td>\n",
       "    </tr>\n",
       "    <tr>\n",
       "      <th>13</th>\n",
       "      <td>의류</td>\n",
       "      <td>상품14</td>\n",
       "      <td>81</td>\n",
       "      <td>108459</td>\n",
       "      <td>97613.10</td>\n",
       "    </tr>\n",
       "    <tr>\n",
       "      <th>14</th>\n",
       "      <td>식품</td>\n",
       "      <td>상품15</td>\n",
       "      <td>66</td>\n",
       "      <td>88374</td>\n",
       "      <td>83955.30</td>\n",
       "    </tr>\n",
       "    <tr>\n",
       "      <th>15</th>\n",
       "      <td>의류</td>\n",
       "      <td>상품16</td>\n",
       "      <td>88</td>\n",
       "      <td>117832</td>\n",
       "      <td>106048.80</td>\n",
       "    </tr>\n",
       "    <tr>\n",
       "      <th>16</th>\n",
       "      <td>의류</td>\n",
       "      <td>상품17</td>\n",
       "      <td>14</td>\n",
       "      <td>18746</td>\n",
       "      <td>16871.40</td>\n",
       "    </tr>\n",
       "    <tr>\n",
       "      <th>17</th>\n",
       "      <td>식품</td>\n",
       "      <td>상품18</td>\n",
       "      <td>100</td>\n",
       "      <td>133900</td>\n",
       "      <td>127205.00</td>\n",
       "    </tr>\n",
       "    <tr>\n",
       "      <th>18</th>\n",
       "      <td>식품</td>\n",
       "      <td>상품19</td>\n",
       "      <td>72</td>\n",
       "      <td>96408</td>\n",
       "      <td>91587.60</td>\n",
       "    </tr>\n",
       "    <tr>\n",
       "      <th>19</th>\n",
       "      <td>의류</td>\n",
       "      <td>상품20</td>\n",
       "      <td>40</td>\n",
       "      <td>53560</td>\n",
       "      <td>48204.00</td>\n",
       "    </tr>\n",
       "  </tbody>\n",
       "</table>\n",
       "</div>"
      ],
      "text/plain": [
       "    카테고리    제품  가격($)   가격(원)    할인가격(원)\n",
       "0   가전제품   상품1     25   33475   26780.00\n",
       "1     의류   상품2     26   34814   31332.60\n",
       "2    화장품   상품3     61   81679   69427.15\n",
       "3   가전제품   상품4     59   79001   63200.80\n",
       "4     식품   상품5     86  115154  109396.30\n",
       "5     의류   상품6     59   79001   71100.90\n",
       "6   가전제품   상품7     66   88374   70699.20\n",
       "7    화장품   상품8     29   38831   33006.35\n",
       "8    화장품   상품9     84  112476   95604.60\n",
       "9   가전제품  상품10     80  107120   85696.00\n",
       "10    식품  상품11     57   76323   72506.85\n",
       "11  가전제품  상품12     64   85696   68556.80\n",
       "12  가전제품  상품13     50   66950   53560.00\n",
       "13    의류  상품14     81  108459   97613.10\n",
       "14    식품  상품15     66   88374   83955.30\n",
       "15    의류  상품16     88  117832  106048.80\n",
       "16    의류  상품17     14   18746   16871.40\n",
       "17    식품  상품18    100  133900  127205.00\n",
       "18    식품  상품19     72   96408   91587.60\n",
       "19    의류  상품20     40   53560   48204.00"
      ]
     },
     "execution_count": 143,
     "metadata": {},
     "output_type": "execute_result"
    }
   ],
   "source": [
    "df['할인가격(원)'] = df.apply( apply_discount, axis = 1)\n",
    "df"
   ]
  },
  {
   "cell_type": "markdown",
   "id": "33e4f64e-4cdd-4d80-ae14-c5d342c50103",
   "metadata": {},
   "source": [
    "# 조금 더 복잡한 케이스"
   ]
  },
  {
   "cell_type": "markdown",
   "id": "8fcc21a1-f3a9-48ab-bfea-691063acfca0",
   "metadata": {},
   "source": [
    "* 위 수행 결과를 리뷰한 결과 아래와 같은 추가 요구사항이 도출이 되었다.\n",
    "    * 요구사항1] 달러는 앞에 $ 추가한다. 그리고 세자리마다 , 추가한다.\n",
    "    * 요구사항2] 원화는 금액위에 '원' 표시하고 세자리마다 , 추가\n",
    "    * 요구사항3] 할인 금액은 정수로 표기\n",
    "    * 요구사항4] 원본데이터는 숫자로 생성해야 된다."
   ]
  },
  {
   "cell_type": "markdown",
   "id": "10063953-426e-4585-a3ca-de863bcbd602",
   "metadata": {},
   "source": [
    "* 요구사항1"
   ]
  },
  {
   "cell_type": "code",
   "execution_count": 91,
   "id": "39ec81ae-539e-4c6b-a7ad-2ddcf34885d5",
   "metadata": {
    "scrolled": true
   },
   "outputs": [
    {
     "data": {
      "text/html": [
       "<div>\n",
       "<style scoped>\n",
       "    .dataframe tbody tr th:only-of-type {\n",
       "        vertical-align: middle;\n",
       "    }\n",
       "\n",
       "    .dataframe tbody tr th {\n",
       "        vertical-align: top;\n",
       "    }\n",
       "\n",
       "    .dataframe thead th {\n",
       "        text-align: right;\n",
       "    }\n",
       "</style>\n",
       "<table border=\"1\" class=\"dataframe\">\n",
       "  <thead>\n",
       "    <tr style=\"text-align: right;\">\n",
       "      <th></th>\n",
       "      <th>카테고리</th>\n",
       "      <th>제품</th>\n",
       "      <th>가격($)</th>\n",
       "      <th>가격(원)</th>\n",
       "      <th>할인가격(원)</th>\n",
       "    </tr>\n",
       "  </thead>\n",
       "  <tbody>\n",
       "    <tr>\n",
       "      <th>0</th>\n",
       "      <td>의류</td>\n",
       "      <td>상품1</td>\n",
       "      <td>41</td>\n",
       "      <td>54,899</td>\n",
       "      <td>49,409.1</td>\n",
       "    </tr>\n",
       "    <tr>\n",
       "      <th>1</th>\n",
       "      <td>의류</td>\n",
       "      <td>상품2</td>\n",
       "      <td>92</td>\n",
       "      <td>123,188</td>\n",
       "      <td>110,869.2</td>\n",
       "    </tr>\n",
       "    <tr>\n",
       "      <th>2</th>\n",
       "      <td>화장품</td>\n",
       "      <td>상품3</td>\n",
       "      <td>61</td>\n",
       "      <td>81,679</td>\n",
       "      <td>69,427.15</td>\n",
       "    </tr>\n",
       "    <tr>\n",
       "      <th>3</th>\n",
       "      <td>의류</td>\n",
       "      <td>상품4</td>\n",
       "      <td>100</td>\n",
       "      <td>133,900</td>\n",
       "      <td>120,510.0</td>\n",
       "    </tr>\n",
       "    <tr>\n",
       "      <th>4</th>\n",
       "      <td>화장품</td>\n",
       "      <td>상품5</td>\n",
       "      <td>44</td>\n",
       "      <td>58,916</td>\n",
       "      <td>50,078.6</td>\n",
       "    </tr>\n",
       "  </tbody>\n",
       "</table>\n",
       "</div>"
      ],
      "text/plain": [
       "  카테고리   제품  가격($)    가격(원)    할인가격(원)\n",
       "0   의류  상품1     41   54,899   49,409.1\n",
       "1   의류  상품2     92  123,188  110,869.2\n",
       "2  화장품  상품3     61   81,679  69,427.15\n",
       "3   의류  상품4    100  133,900  120,510.0\n",
       "4  화장품  상품5     44   58,916   50,078.6"
      ]
     },
     "execution_count": 91,
     "metadata": {},
     "output_type": "execute_result"
    }
   ],
   "source": [
    "# f'{won:,} => 약식 포맷스트링 문법에서 ':,' 3자리마다 ,를 추가하는 문법\n",
    "try:\n",
    "    df['가격(원)'] = df['가격(원)'].apply(lambda won: f'{won:,}')\n",
    "    df['할인가격(원)'] = df['할인가격(원)'].apply(lambda won: f'{won:,}')\n",
    "except:\n",
    "    pass\n",
    "df.head()"
   ]
  },
  {
   "cell_type": "markdown",
   "id": "7588a396-893c-416f-9947-a1b63ab53e9f",
   "metadata": {},
   "source": [
    "* 요구사항2,3"
   ]
  },
  {
   "cell_type": "code",
   "execution_count": 146,
   "id": "7e420c1d-e685-496c-b5af-8591c765c1fc",
   "metadata": {
    "scrolled": true
   },
   "outputs": [
    {
     "data": {
      "text/html": [
       "<div>\n",
       "<style scoped>\n",
       "    .dataframe tbody tr th:only-of-type {\n",
       "        vertical-align: middle;\n",
       "    }\n",
       "\n",
       "    .dataframe tbody tr th {\n",
       "        vertical-align: top;\n",
       "    }\n",
       "\n",
       "    .dataframe thead th {\n",
       "        text-align: right;\n",
       "    }\n",
       "</style>\n",
       "<table border=\"1\" class=\"dataframe\">\n",
       "  <thead>\n",
       "    <tr style=\"text-align: right;\">\n",
       "      <th></th>\n",
       "      <th>카테고리</th>\n",
       "      <th>제품</th>\n",
       "      <th>가격($)</th>\n",
       "      <th>가격(원)</th>\n",
       "      <th>할인가격(원)</th>\n",
       "    </tr>\n",
       "  </thead>\n",
       "  <tbody>\n",
       "    <tr>\n",
       "      <th>0</th>\n",
       "      <td>가전제품</td>\n",
       "      <td>상품1</td>\n",
       "      <td>25</td>\n",
       "      <td>33,475원</td>\n",
       "      <td>26,780원</td>\n",
       "    </tr>\n",
       "    <tr>\n",
       "      <th>1</th>\n",
       "      <td>의류</td>\n",
       "      <td>상품2</td>\n",
       "      <td>26</td>\n",
       "      <td>34,814원</td>\n",
       "      <td>31,332원</td>\n",
       "    </tr>\n",
       "    <tr>\n",
       "      <th>2</th>\n",
       "      <td>화장품</td>\n",
       "      <td>상품3</td>\n",
       "      <td>61</td>\n",
       "      <td>81,679원</td>\n",
       "      <td>69,427원</td>\n",
       "    </tr>\n",
       "    <tr>\n",
       "      <th>3</th>\n",
       "      <td>가전제품</td>\n",
       "      <td>상품4</td>\n",
       "      <td>59</td>\n",
       "      <td>79,001원</td>\n",
       "      <td>63,200원</td>\n",
       "    </tr>\n",
       "    <tr>\n",
       "      <th>4</th>\n",
       "      <td>식품</td>\n",
       "      <td>상품5</td>\n",
       "      <td>86</td>\n",
       "      <td>115,154원</td>\n",
       "      <td>109,396원</td>\n",
       "    </tr>\n",
       "  </tbody>\n",
       "</table>\n",
       "</div>"
      ],
      "text/plain": [
       "   카테고리   제품  가격($)     가격(원)   할인가격(원)\n",
       "0  가전제품  상품1     25   33,475원   26,780원\n",
       "1    의류  상품2     26   34,814원   31,332원\n",
       "2   화장품  상품3     61   81,679원   69,427원\n",
       "3  가전제품  상품4     59   79,001원   63,200원\n",
       "4    식품  상품5     86  115,154원  109,396원"
      ]
     },
     "execution_count": 146,
     "metadata": {},
     "output_type": "execute_result"
    }
   ],
   "source": [
    "# f'{won:,} => 약식 포맷스트링 문법에서 ':,' 3자리마다 ,를 추가하는 문법\n",
    "try:\n",
    "    df['가격(원)'] = df['가격(원)'].apply(lambda won: f'{won:,}원')\n",
    "    df['할인가격(원)'] = df['할인가격(원)'].apply(lambda won: f'{won:,}원')\n",
    "except:\n",
    "    pass\n",
    "df.head()"
   ]
  },
  {
   "cell_type": "code",
   "execution_count": 135,
   "id": "374d6f9f-9787-46ef-82d3-95535bdf1941",
   "metadata": {},
   "outputs": [
    {
     "data": {
      "text/plain": [
       "0      식품\n",
       "1      식품\n",
       "2      의류\n",
       "3    가전제품\n",
       "4      식품\n",
       "Name: 카테고리, dtype: object"
      ]
     },
     "execution_count": 135,
     "metadata": {},
     "output_type": "execute_result"
    }
   ],
   "source": [
    "df.카테고리.head()"
   ]
  },
  {
   "cell_type": "code",
   "execution_count": 145,
   "id": "3034d0f1-66b8-4917-b2f6-9944bf364ac9",
   "metadata": {},
   "outputs": [
    {
     "data": {
      "text/plain": [
       "0      26780\n",
       "1      31332\n",
       "2      69427\n",
       "3      63200\n",
       "4     109396\n",
       "5      71100\n",
       "6      70699\n",
       "7      33006\n",
       "8      95604\n",
       "9      85696\n",
       "10     72506\n",
       "11     68556\n",
       "12     53560\n",
       "13     97613\n",
       "14     83955\n",
       "15    106048\n",
       "16     16871\n",
       "17    127205\n",
       "18     91587\n",
       "19     48204\n",
       "Name: 할인가격(원), dtype: int64"
      ]
     },
     "execution_count": 145,
     "metadata": {},
     "output_type": "execute_result"
    }
   ],
   "source": [
    "df['할인가격(원)'] = df['할인가격(원)'].astype(int)\n",
    "df['할인가격(원)']"
   ]
  },
  {
   "cell_type": "markdown",
   "id": "7722fc70-d262-4147-a867-ec95f1694a28",
   "metadata": {},
   "source": [
    "# 판다스 연습은 아래에서"
   ]
  },
  {
   "cell_type": "raw",
   "id": "318dc80c-e1d6-4d01-b301-d300fc232408",
   "metadata": {},
   "source": [
    "* 기초 문제\n",
    "https://wikidocs.net/book/4852\n",
    "\n",
    "* 더 심화학습은 '빅데이터 처리기사'를 알아보세요~"
   ]
  },
  {
   "cell_type": "code",
   "execution_count": null,
   "id": "daa3d307-efd4-4c2a-ad91-dfc302724369",
   "metadata": {},
   "outputs": [],
   "source": []
  },
  {
   "cell_type": "code",
   "execution_count": null,
   "id": "7790ff55-59e3-407a-8cfc-ccd9ba2bce76",
   "metadata": {},
   "outputs": [],
   "source": []
  }
 ],
 "metadata": {
  "kernelspec": {
   "display_name": "Python [conda env:base] *",
   "language": "python",
   "name": "conda-base-py"
  },
  "language_info": {
   "codemirror_mode": {
    "name": "ipython",
    "version": 3
   },
   "file_extension": ".py",
   "mimetype": "text/x-python",
   "name": "python",
   "nbconvert_exporter": "python",
   "pygments_lexer": "ipython3",
   "version": "3.13.5"
  }
 },
 "nbformat": 4,
 "nbformat_minor": 5
}
