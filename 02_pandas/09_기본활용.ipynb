{
 "cells": [
  {
   "cell_type": "code",
   "execution_count": 1,
   "id": "2215bc26-508c-426d-a220-9826cf671221",
   "metadata": {},
   "outputs": [],
   "source": [
    "import pandas as pd"
   ]
  },
  {
   "cell_type": "markdown",
   "id": "6291c330-3325-4cb1-92e2-696c2c9dc91a",
   "metadata": {},
   "source": [
    "* 파일 읽기"
   ]
  },
  {
   "cell_type": "code",
   "execution_count": 2,
   "id": "3e7775e5-dbed-42a1-bc02-1273a285fdeb",
   "metadata": {},
   "outputs": [],
   "source": [
    "ct = pd.read_csv('data/2017_college_tuition.csv', encoding='cp949' )"
   ]
  },
  {
   "cell_type": "markdown",
   "id": "0fc72294-e3de-4d0b-8334-e433cd848913",
   "metadata": {},
   "source": [
    "* 실데이터 원본을 볼 수 있으면 본다."
   ]
  },
  {
   "cell_type": "code",
   "execution_count": 4,
   "id": "c0e14721-17f8-433e-b8ce-59b0af450c10",
   "metadata": {},
   "outputs": [
    {
     "data": {
      "text/html": [
       "<div>\n",
       "<style scoped>\n",
       "    .dataframe tbody tr th:only-of-type {\n",
       "        vertical-align: middle;\n",
       "    }\n",
       "\n",
       "    .dataframe tbody tr th {\n",
       "        vertical-align: top;\n",
       "    }\n",
       "\n",
       "    .dataframe thead th {\n",
       "        text-align: right;\n",
       "    }\n",
       "</style>\n",
       "<table border=\"1\" class=\"dataframe\">\n",
       "  <thead>\n",
       "    <tr style=\"text-align: right;\">\n",
       "      <th></th>\n",
       "      <th>학교명</th>\n",
       "      <th>설립구분</th>\n",
       "      <th>평균등록금</th>\n",
       "    </tr>\n",
       "  </thead>\n",
       "  <tbody>\n",
       "    <tr>\n",
       "      <th>0</th>\n",
       "      <td>강릉원주대학교</td>\n",
       "      <td>국공립</td>\n",
       "      <td>4262</td>\n",
       "    </tr>\n",
       "    <tr>\n",
       "      <th>1</th>\n",
       "      <td>강원대학교</td>\n",
       "      <td>국공립</td>\n",
       "      <td>4116</td>\n",
       "    </tr>\n",
       "    <tr>\n",
       "      <th>2</th>\n",
       "      <td>경남과학기술대학교</td>\n",
       "      <td>국공립</td>\n",
       "      <td>3771</td>\n",
       "    </tr>\n",
       "    <tr>\n",
       "      <th>3</th>\n",
       "      <td>경북대학교</td>\n",
       "      <td>국공립</td>\n",
       "      <td>4351</td>\n",
       "    </tr>\n",
       "    <tr>\n",
       "      <th>4</th>\n",
       "      <td>경상대학교</td>\n",
       "      <td>국공립</td>\n",
       "      <td>3967</td>\n",
       "    </tr>\n",
       "    <tr>\n",
       "      <th>...</th>\n",
       "      <td>...</td>\n",
       "      <td>...</td>\n",
       "      <td>...</td>\n",
       "    </tr>\n",
       "    <tr>\n",
       "      <th>191</th>\n",
       "      <td>호남대학교</td>\n",
       "      <td>사립</td>\n",
       "      <td>6482</td>\n",
       "    </tr>\n",
       "    <tr>\n",
       "      <th>192</th>\n",
       "      <td>호남신학대학교</td>\n",
       "      <td>사립</td>\n",
       "      <td>6438</td>\n",
       "    </tr>\n",
       "    <tr>\n",
       "      <th>193</th>\n",
       "      <td>호서대학교</td>\n",
       "      <td>사립</td>\n",
       "      <td>7695</td>\n",
       "    </tr>\n",
       "    <tr>\n",
       "      <th>194</th>\n",
       "      <td>호원대학교</td>\n",
       "      <td>사립</td>\n",
       "      <td>6929</td>\n",
       "    </tr>\n",
       "    <tr>\n",
       "      <th>195</th>\n",
       "      <td>홍익대학교</td>\n",
       "      <td>사립</td>\n",
       "      <td>8297</td>\n",
       "    </tr>\n",
       "  </tbody>\n",
       "</table>\n",
       "<p>196 rows × 3 columns</p>\n",
       "</div>"
      ],
      "text/plain": [
       "           학교명 설립구분  평균등록금\n",
       "0      강릉원주대학교  국공립   4262\n",
       "1        강원대학교  국공립   4116\n",
       "2    경남과학기술대학교  국공립   3771\n",
       "3        경북대학교  국공립   4351\n",
       "4        경상대학교  국공립   3967\n",
       "..         ...  ...    ...\n",
       "191      호남대학교   사립   6482\n",
       "192    호남신학대학교   사립   6438\n",
       "193      호서대학교   사립   7695\n",
       "194      호원대학교   사립   6929\n",
       "195      홍익대학교   사립   8297\n",
       "\n",
       "[196 rows x 3 columns]"
      ]
     },
     "execution_count": 4,
     "metadata": {},
     "output_type": "execute_result"
    }
   ],
   "source": [
    "ct"
   ]
  },
  {
   "cell_type": "markdown",
   "id": "0bf29364-2cf4-4581-8366-841e11dddb67",
   "metadata": {},
   "source": [
    "* 데이터 샘플 조회"
   ]
  },
  {
   "cell_type": "code",
   "execution_count": 5,
   "id": "d70178a6-e189-4386-9d4a-fd3e32e64c21",
   "metadata": {},
   "outputs": [
    {
     "data": {
      "text/html": [
       "<div>\n",
       "<style scoped>\n",
       "    .dataframe tbody tr th:only-of-type {\n",
       "        vertical-align: middle;\n",
       "    }\n",
       "\n",
       "    .dataframe tbody tr th {\n",
       "        vertical-align: top;\n",
       "    }\n",
       "\n",
       "    .dataframe thead th {\n",
       "        text-align: right;\n",
       "    }\n",
       "</style>\n",
       "<table border=\"1\" class=\"dataframe\">\n",
       "  <thead>\n",
       "    <tr style=\"text-align: right;\">\n",
       "      <th></th>\n",
       "      <th>학교명</th>\n",
       "      <th>설립구분</th>\n",
       "      <th>평균등록금</th>\n",
       "    </tr>\n",
       "  </thead>\n",
       "  <tbody>\n",
       "    <tr>\n",
       "      <th>191</th>\n",
       "      <td>호남대학교</td>\n",
       "      <td>사립</td>\n",
       "      <td>6482</td>\n",
       "    </tr>\n",
       "    <tr>\n",
       "      <th>192</th>\n",
       "      <td>호남신학대학교</td>\n",
       "      <td>사립</td>\n",
       "      <td>6438</td>\n",
       "    </tr>\n",
       "    <tr>\n",
       "      <th>193</th>\n",
       "      <td>호서대학교</td>\n",
       "      <td>사립</td>\n",
       "      <td>7695</td>\n",
       "    </tr>\n",
       "    <tr>\n",
       "      <th>194</th>\n",
       "      <td>호원대학교</td>\n",
       "      <td>사립</td>\n",
       "      <td>6929</td>\n",
       "    </tr>\n",
       "    <tr>\n",
       "      <th>195</th>\n",
       "      <td>홍익대학교</td>\n",
       "      <td>사립</td>\n",
       "      <td>8297</td>\n",
       "    </tr>\n",
       "  </tbody>\n",
       "</table>\n",
       "</div>"
      ],
      "text/plain": [
       "         학교명 설립구분  평균등록금\n",
       "191    호남대학교   사립   6482\n",
       "192  호남신학대학교   사립   6438\n",
       "193    호서대학교   사립   7695\n",
       "194    호원대학교   사립   6929\n",
       "195    홍익대학교   사립   8297"
      ]
     },
     "execution_count": 5,
     "metadata": {},
     "output_type": "execute_result"
    }
   ],
   "source": [
    "ct.tail()"
   ]
  },
  {
   "cell_type": "markdown",
   "id": "7edfe07f-93b6-4328-af3a-964548c6550b",
   "metadata": {},
   "source": [
    "* 데이터 사이즈 윤곽을 간단하게 파악"
   ]
  },
  {
   "cell_type": "code",
   "execution_count": 11,
   "id": "f69b20d7-67c2-416c-ab1d-be235028d49c",
   "metadata": {},
   "outputs": [
    {
     "data": {
      "text/plain": [
       "(196, 3)"
      ]
     },
     "execution_count": 11,
     "metadata": {},
     "output_type": "execute_result"
    }
   ],
   "source": [
    "ct.shape"
   ]
  },
  {
   "cell_type": "markdown",
   "id": "c9ac95e1-4bc3-4264-8803-148041c5c8c3",
   "metadata": {},
   "source": [
    "* 데이터 요약정보 참조"
   ]
  },
  {
   "cell_type": "code",
   "execution_count": 12,
   "id": "fa1ad8ce-76a2-493e-a1ab-5cc2cdde36ad",
   "metadata": {},
   "outputs": [
    {
     "data": {
      "text/plain": [
       "<bound method NDFrame.describe of            학교명 설립구분  평균등록금\n",
       "0      강릉원주대학교  국공립   4262\n",
       "1        강원대학교  국공립   4116\n",
       "2    경남과학기술대학교  국공립   3771\n",
       "3        경북대학교  국공립   4351\n",
       "4        경상대학교  국공립   3967\n",
       "..         ...  ...    ...\n",
       "191      호남대학교   사립   6482\n",
       "192    호남신학대학교   사립   6438\n",
       "193      호서대학교   사립   7695\n",
       "194      호원대학교   사립   6929\n",
       "195      홍익대학교   사립   8297\n",
       "\n",
       "[196 rows x 3 columns]>"
      ]
     },
     "execution_count": 12,
     "metadata": {},
     "output_type": "execute_result"
    }
   ],
   "source": [
    "ct.describe"
   ]
  },
  {
   "cell_type": "markdown",
   "id": "43231547-51ef-48a3-9ea6-4c283dc9c8b7",
   "metadata": {},
   "source": [
    "* 주피터에서 확인 가능한 최대사이즈의 셈플 확인"
   ]
  },
  {
   "cell_type": "code",
   "execution_count": 6,
   "id": "c532511f-b8ee-4abb-908a-4c4cd650e109",
   "metadata": {},
   "outputs": [
    {
     "data": {
      "text/plain": [
       "<bound method DataFrame.info of            학교명 설립구분  평균등록금\n",
       "0      강릉원주대학교  국공립   4262\n",
       "1        강원대학교  국공립   4116\n",
       "2    경남과학기술대학교  국공립   3771\n",
       "3        경북대학교  국공립   4351\n",
       "4        경상대학교  국공립   3967\n",
       "..         ...  ...    ...\n",
       "191      호남대학교   사립   6482\n",
       "192    호남신학대학교   사립   6438\n",
       "193      호서대학교   사립   7695\n",
       "194      호원대학교   사립   6929\n",
       "195      홍익대학교   사립   8297\n",
       "\n",
       "[196 rows x 3 columns]>"
      ]
     },
     "execution_count": 6,
     "metadata": {},
     "output_type": "execute_result"
    }
   ],
   "source": [
    "ct.info"
   ]
  },
  {
   "cell_type": "markdown",
   "id": "5b1dfc00-c446-442f-8b1a-117ca82c0655",
   "metadata": {},
   "source": [
    "# 특정열 조회"
   ]
  },
  {
   "cell_type": "markdown",
   "id": "75986391-cab0-40ab-84fc-ea82d10fa541",
   "metadata": {},
   "source": [
    "* 시리즈 형태로"
   ]
  },
  {
   "cell_type": "code",
   "execution_count": 14,
   "id": "6446ff0e-bcf3-4f61-988a-1fe900083f34",
   "metadata": {},
   "outputs": [
    {
     "ename": "SyntaxError",
     "evalue": "invalid syntax (157348084.py, line 1)",
     "output_type": "error",
     "traceback": [
      "\u001b[1;36m  Cell \u001b[1;32mIn[14], line 1\u001b[1;36m\u001b[0m\n\u001b[1;33m    ct.['학교명'].head()\u001b[0m\n\u001b[1;37m       ^\u001b[0m\n\u001b[1;31mSyntaxError\u001b[0m\u001b[1;31m:\u001b[0m invalid syntax\n"
     ]
    }
   ],
   "source": [
    "ct.['학교명'].head()"
   ]
  },
  {
   "cell_type": "markdown",
   "id": "b9631474-29c2-4eed-9ca6-8bbd11dc97ea",
   "metadata": {},
   "source": [
    "* 데이터 프레임 형태로"
   ]
  },
  {
   "cell_type": "code",
   "execution_count": 16,
   "id": "0ad4f17a-100a-49d2-8eba-29f23173e2e2",
   "metadata": {},
   "outputs": [
    {
     "data": {
      "text/html": [
       "<div>\n",
       "<style scoped>\n",
       "    .dataframe tbody tr th:only-of-type {\n",
       "        vertical-align: middle;\n",
       "    }\n",
       "\n",
       "    .dataframe tbody tr th {\n",
       "        vertical-align: top;\n",
       "    }\n",
       "\n",
       "    .dataframe thead th {\n",
       "        text-align: right;\n",
       "    }\n",
       "</style>\n",
       "<table border=\"1\" class=\"dataframe\">\n",
       "  <thead>\n",
       "    <tr style=\"text-align: right;\">\n",
       "      <th></th>\n",
       "      <th>학교명</th>\n",
       "    </tr>\n",
       "  </thead>\n",
       "  <tbody>\n",
       "    <tr>\n",
       "      <th>0</th>\n",
       "      <td>강릉원주대학교</td>\n",
       "    </tr>\n",
       "    <tr>\n",
       "      <th>1</th>\n",
       "      <td>강원대학교</td>\n",
       "    </tr>\n",
       "    <tr>\n",
       "      <th>2</th>\n",
       "      <td>경남과학기술대학교</td>\n",
       "    </tr>\n",
       "    <tr>\n",
       "      <th>3</th>\n",
       "      <td>경북대학교</td>\n",
       "    </tr>\n",
       "    <tr>\n",
       "      <th>4</th>\n",
       "      <td>경상대학교</td>\n",
       "    </tr>\n",
       "    <tr>\n",
       "      <th>...</th>\n",
       "      <td>...</td>\n",
       "    </tr>\n",
       "    <tr>\n",
       "      <th>191</th>\n",
       "      <td>호남대학교</td>\n",
       "    </tr>\n",
       "    <tr>\n",
       "      <th>192</th>\n",
       "      <td>호남신학대학교</td>\n",
       "    </tr>\n",
       "    <tr>\n",
       "      <th>193</th>\n",
       "      <td>호서대학교</td>\n",
       "    </tr>\n",
       "    <tr>\n",
       "      <th>194</th>\n",
       "      <td>호원대학교</td>\n",
       "    </tr>\n",
       "    <tr>\n",
       "      <th>195</th>\n",
       "      <td>홍익대학교</td>\n",
       "    </tr>\n",
       "  </tbody>\n",
       "</table>\n",
       "<p>196 rows × 1 columns</p>\n",
       "</div>"
      ],
      "text/plain": [
       "           학교명\n",
       "0      강릉원주대학교\n",
       "1        강원대학교\n",
       "2    경남과학기술대학교\n",
       "3        경북대학교\n",
       "4        경상대학교\n",
       "..         ...\n",
       "191      호남대학교\n",
       "192    호남신학대학교\n",
       "193      호서대학교\n",
       "194      호원대학교\n",
       "195      홍익대학교\n",
       "\n",
       "[196 rows x 1 columns]"
      ]
     },
     "execution_count": 16,
     "metadata": {},
     "output_type": "execute_result"
    }
   ],
   "source": [
    "school = pd.DataFrame(ct['학교명'])\n",
    "school"
   ]
  },
  {
   "cell_type": "code",
   "execution_count": 17,
   "id": "5d2fa012-ced5-4cf8-b715-226d7ffe749a",
   "metadata": {},
   "outputs": [
    {
     "data": {
      "text/plain": [
       "Index(['학교명', '설립구분', '평균등록금'], dtype='object')"
      ]
     },
     "execution_count": 17,
     "metadata": {},
     "output_type": "execute_result"
    }
   ],
   "source": [
    "ct.columns"
   ]
  },
  {
   "cell_type": "code",
   "execution_count": 18,
   "id": "92972017-366d-4314-a77c-a66cbe6e2ad4",
   "metadata": {},
   "outputs": [
    {
     "data": {
      "text/plain": [
       "0    국공립\n",
       "1    국공립\n",
       "2    국공립\n",
       "3    국공립\n",
       "4    국공립\n",
       "Name: 설립구분, dtype: object"
      ]
     },
     "execution_count": 18,
     "metadata": {},
     "output_type": "execute_result"
    }
   ],
   "source": [
    "ct['설립구분'].head()"
   ]
  },
  {
   "cell_type": "code",
   "execution_count": 19,
   "id": "bb7074a1-fdf4-4157-80d7-0b1e6c9bbb2f",
   "metadata": {},
   "outputs": [
    {
     "data": {
      "text/plain": [
       "0      4262\n",
       "1      4116\n",
       "2      3771\n",
       "3      4351\n",
       "4      3967\n",
       "       ... \n",
       "191    6482\n",
       "192    6438\n",
       "193    7695\n",
       "194    6929\n",
       "195    8297\n",
       "Name: 평균등록금, Length: 196, dtype: int64"
      ]
     },
     "execution_count": 19,
     "metadata": {},
     "output_type": "execute_result"
    }
   ],
   "source": [
    "ct['평균등록금']"
   ]
  },
  {
   "cell_type": "code",
   "execution_count": 20,
   "id": "a98cf6a8-ceaa-4b08-a5ff-fc63b860ceb1",
   "metadata": {},
   "outputs": [
    {
     "data": {
      "text/html": [
       "<div>\n",
       "<style scoped>\n",
       "    .dataframe tbody tr th:only-of-type {\n",
       "        vertical-align: middle;\n",
       "    }\n",
       "\n",
       "    .dataframe tbody tr th {\n",
       "        vertical-align: top;\n",
       "    }\n",
       "\n",
       "    .dataframe thead th {\n",
       "        text-align: right;\n",
       "    }\n",
       "</style>\n",
       "<table border=\"1\" class=\"dataframe\">\n",
       "  <thead>\n",
       "    <tr style=\"text-align: right;\">\n",
       "      <th></th>\n",
       "      <th>평균등록금</th>\n",
       "    </tr>\n",
       "  </thead>\n",
       "  <tbody>\n",
       "    <tr>\n",
       "      <th>0</th>\n",
       "      <td>4262</td>\n",
       "    </tr>\n",
       "    <tr>\n",
       "      <th>1</th>\n",
       "      <td>4116</td>\n",
       "    </tr>\n",
       "    <tr>\n",
       "      <th>2</th>\n",
       "      <td>3771</td>\n",
       "    </tr>\n",
       "    <tr>\n",
       "      <th>3</th>\n",
       "      <td>4351</td>\n",
       "    </tr>\n",
       "    <tr>\n",
       "      <th>4</th>\n",
       "      <td>3967</td>\n",
       "    </tr>\n",
       "    <tr>\n",
       "      <th>...</th>\n",
       "      <td>...</td>\n",
       "    </tr>\n",
       "    <tr>\n",
       "      <th>191</th>\n",
       "      <td>6482</td>\n",
       "    </tr>\n",
       "    <tr>\n",
       "      <th>192</th>\n",
       "      <td>6438</td>\n",
       "    </tr>\n",
       "    <tr>\n",
       "      <th>193</th>\n",
       "      <td>7695</td>\n",
       "    </tr>\n",
       "    <tr>\n",
       "      <th>194</th>\n",
       "      <td>6929</td>\n",
       "    </tr>\n",
       "    <tr>\n",
       "      <th>195</th>\n",
       "      <td>8297</td>\n",
       "    </tr>\n",
       "  </tbody>\n",
       "</table>\n",
       "<p>196 rows × 1 columns</p>\n",
       "</div>"
      ],
      "text/plain": [
       "     평균등록금\n",
       "0     4262\n",
       "1     4116\n",
       "2     3771\n",
       "3     4351\n",
       "4     3967\n",
       "..     ...\n",
       "191   6482\n",
       "192   6438\n",
       "193   7695\n",
       "194   6929\n",
       "195   8297\n",
       "\n",
       "[196 rows x 1 columns]"
      ]
     },
     "execution_count": 20,
     "metadata": {},
     "output_type": "execute_result"
    }
   ],
   "source": [
    "pd.DataFrame(ct['평균등록금'])"
   ]
  },
  {
   "cell_type": "markdown",
   "id": "737bc0c8-bdb3-46ce-9589-72a32de722fb",
   "metadata": {},
   "source": [
    "# 기본 검색"
   ]
  },
  {
   "cell_type": "markdown",
   "id": "e06bc208-a8a0-4f41-9837-32587f6f7413",
   "metadata": {},
   "source": [
    "## 시리즈에서 개별 인덱스 검색  \n",
    "시리즈[인덱스명] => 해당 인덱스의 값 반환"
   ]
  },
  {
   "cell_type": "code",
   "execution_count": null,
   "id": "19bd4ce1-ea21-4df7-a2b4-38a7929357d9",
   "metadata": {},
   "outputs": [],
   "source": []
  },
  {
   "cell_type": "code",
   "execution_count": 21,
   "id": "2a32d652-4c76-4675-83ff-d60000a29de4",
   "metadata": {},
   "outputs": [
    {
     "data": {
      "text/plain": [
       "0      강릉원주대학교\n",
       "1        강원대학교\n",
       "2    경남과학기술대학교\n",
       "3        경북대학교\n",
       "4        경상대학교\n",
       "Name: 학교명, dtype: object"
      ]
     },
     "execution_count": 21,
     "metadata": {},
     "output_type": "execute_result"
    }
   ],
   "source": [
    "ct['학교명'].head()"
   ]
  },
  {
   "cell_type": "markdown",
   "id": "ca0c8b3e-0a47-401a-a7af-f5deec54d23d",
   "metadata": {},
   "source": [
    "* 강원대학교 조회"
   ]
  },
  {
   "cell_type": "code",
   "execution_count": 22,
   "id": "baa95feb-7e44-4e98-9e4a-522ab930fa5a",
   "metadata": {
    "scrolled": true
   },
   "outputs": [
    {
     "data": {
      "text/plain": [
       "'강원대학교'"
      ]
     },
     "execution_count": 22,
     "metadata": {},
     "output_type": "execute_result"
    }
   ],
   "source": [
    "ct['학교명'][1]"
   ]
  },
  {
   "cell_type": "code",
   "execution_count": 26,
   "id": "bca379ca-35b7-43a4-a04d-9957e17ca253",
   "metadata": {
    "scrolled": true
   },
   "outputs": [
    {
     "data": {
      "text/plain": [
       "'경북대학교'"
      ]
     },
     "execution_count": 26,
     "metadata": {},
     "output_type": "execute_result"
    }
   ],
   "source": [
    "ct['학교명'][3]"
   ]
  },
  {
   "cell_type": "code",
   "execution_count": 29,
   "id": "29a38c24-3a05-473f-9daa-060b873e6399",
   "metadata": {
    "scrolled": true
   },
   "outputs": [
    {
     "data": {
      "text/plain": [
       "'호남신학대학교'"
      ]
     },
     "execution_count": 29,
     "metadata": {},
     "output_type": "execute_result"
    }
   ],
   "source": [
    "ct['학교명'][192]"
   ]
  },
  {
   "cell_type": "code",
   "execution_count": null,
   "id": "3389c758-b508-4f72-a0c3-a769826fad3d",
   "metadata": {},
   "outputs": [],
   "source": [
    "ct['학교명'] == '호남신학대학교'"
   ]
  },
  {
   "cell_type": "markdown",
   "id": "ab39f28c-3767-40c3-a84c-e8f37fea09dd",
   "metadata": {},
   "source": [
    "## 슬라이스 검색\n",
    "### 시리즈"
   ]
  },
  {
   "cell_type": "code",
   "execution_count": 30,
   "id": "07c80d92-0ec5-46fb-8cc3-ed21be9fa0ef",
   "metadata": {},
   "outputs": [
    {
     "data": {
      "text/plain": [
       "0      강릉원주대학교\n",
       "1        강원대학교\n",
       "2    경남과학기술대학교\n",
       "3        경북대학교\n",
       "4        경상대학교\n",
       "5      경인교육대학교\n",
       "6      공주교육대학교\n",
       "7        공주대학교\n",
       "8      광주교육대학교\n",
       "9        군산대학교\n",
       "Name: 학교명, dtype: object"
      ]
     },
     "execution_count": 30,
     "metadata": {},
     "output_type": "execute_result"
    }
   ],
   "source": [
    "ct['학교명'].head(10)"
   ]
  },
  {
   "cell_type": "code",
   "execution_count": 31,
   "id": "3ff267d7-2fc6-41f3-979e-b47b28e1631f",
   "metadata": {},
   "outputs": [
    {
     "data": {
      "text/plain": [
       "0      강릉원주대학교\n",
       "1        강원대학교\n",
       "2    경남과학기술대학교\n",
       "3        경북대학교\n",
       "4        경상대학교\n",
       "5      경인교육대학교\n",
       "6      공주교육대학교\n",
       "Name: 학교명, dtype: object"
      ]
     },
     "execution_count": 31,
     "metadata": {},
     "output_type": "execute_result"
    }
   ],
   "source": [
    "ct['학교명'][:7]"
   ]
  },
  {
   "cell_type": "code",
   "execution_count": 32,
   "id": "758e280d-265a-40e6-8ac7-2443a930ada0",
   "metadata": {},
   "outputs": [
    {
     "data": {
      "text/plain": [
       "60       광운대학교\n",
       "61    광주가톨릭대학교\n",
       "62       광주대학교\n",
       "63     광주여자대학교\n",
       "64       국민대학교\n",
       "65       극동대학교\n",
       "66       금강대학교\n",
       "67       김천대학교\n",
       "68      꽃동네대학교\n",
       "69      나사렛대학교\n",
       "Name: 학교명, dtype: object"
      ]
     },
     "execution_count": 32,
     "metadata": {},
     "output_type": "execute_result"
    }
   ],
   "source": [
    "ct['학교명'][60:70]"
   ]
  },
  {
   "cell_type": "markdown",
   "id": "d8a7e2b2-eceb-49fd-9326-bf3af39f83df",
   "metadata": {},
   "source": [
    "### 데이터 프레임"
   ]
  },
  {
   "cell_type": "markdown",
   "id": "0d47573b-f017-430c-956b-4327d9e18a38",
   "metadata": {},
   "source": [
    "### 데이터 프레임에서 슬라이싱\n",
    "\n",
    "데이터 프레임[행인덱스 슬라이싱조건]  \n",
    "해당 값을 데이터 프레임형태로 반환"
   ]
  },
  {
   "cell_type": "code",
   "execution_count": 33,
   "id": "0fe897f4-f6b7-4ace-812d-42f15f4d0895",
   "metadata": {},
   "outputs": [
    {
     "data": {
      "text/html": [
       "<div>\n",
       "<style scoped>\n",
       "    .dataframe tbody tr th:only-of-type {\n",
       "        vertical-align: middle;\n",
       "    }\n",
       "\n",
       "    .dataframe tbody tr th {\n",
       "        vertical-align: top;\n",
       "    }\n",
       "\n",
       "    .dataframe thead th {\n",
       "        text-align: right;\n",
       "    }\n",
       "</style>\n",
       "<table border=\"1\" class=\"dataframe\">\n",
       "  <thead>\n",
       "    <tr style=\"text-align: right;\">\n",
       "      <th></th>\n",
       "      <th>학교명</th>\n",
       "      <th>설립구분</th>\n",
       "      <th>평균등록금</th>\n",
       "    </tr>\n",
       "  </thead>\n",
       "  <tbody>\n",
       "    <tr>\n",
       "      <th>60</th>\n",
       "      <td>광운대학교</td>\n",
       "      <td>사립</td>\n",
       "      <td>7800</td>\n",
       "    </tr>\n",
       "    <tr>\n",
       "      <th>61</th>\n",
       "      <td>광주가톨릭대학교</td>\n",
       "      <td>사립</td>\n",
       "      <td>0</td>\n",
       "    </tr>\n",
       "    <tr>\n",
       "      <th>62</th>\n",
       "      <td>광주대학교</td>\n",
       "      <td>사립</td>\n",
       "      <td>6497</td>\n",
       "    </tr>\n",
       "    <tr>\n",
       "      <th>63</th>\n",
       "      <td>광주여자대학교</td>\n",
       "      <td>사립</td>\n",
       "      <td>6269</td>\n",
       "    </tr>\n",
       "    <tr>\n",
       "      <th>64</th>\n",
       "      <td>국민대학교</td>\n",
       "      <td>사립</td>\n",
       "      <td>7853</td>\n",
       "    </tr>\n",
       "    <tr>\n",
       "      <th>65</th>\n",
       "      <td>극동대학교</td>\n",
       "      <td>사립</td>\n",
       "      <td>7336</td>\n",
       "    </tr>\n",
       "    <tr>\n",
       "      <th>66</th>\n",
       "      <td>금강대학교</td>\n",
       "      <td>사립</td>\n",
       "      <td>6564</td>\n",
       "    </tr>\n",
       "    <tr>\n",
       "      <th>67</th>\n",
       "      <td>김천대학교</td>\n",
       "      <td>사립</td>\n",
       "      <td>6980</td>\n",
       "    </tr>\n",
       "    <tr>\n",
       "      <th>68</th>\n",
       "      <td>꽃동네대학교</td>\n",
       "      <td>사립</td>\n",
       "      <td>7031</td>\n",
       "    </tr>\n",
       "    <tr>\n",
       "      <th>69</th>\n",
       "      <td>나사렛대학교</td>\n",
       "      <td>사립</td>\n",
       "      <td>7115</td>\n",
       "    </tr>\n",
       "  </tbody>\n",
       "</table>\n",
       "</div>"
      ],
      "text/plain": [
       "         학교명 설립구분  평균등록금\n",
       "60     광운대학교   사립   7800\n",
       "61  광주가톨릭대학교   사립      0\n",
       "62     광주대학교   사립   6497\n",
       "63   광주여자대학교   사립   6269\n",
       "64     국민대학교   사립   7853\n",
       "65     극동대학교   사립   7336\n",
       "66     금강대학교   사립   6564\n",
       "67     김천대학교   사립   6980\n",
       "68    꽃동네대학교   사립   7031\n",
       "69    나사렛대학교   사립   7115"
      ]
     },
     "execution_count": 33,
     "metadata": {},
     "output_type": "execute_result"
    }
   ],
   "source": [
    "ct[60:70]"
   ]
  },
  {
   "cell_type": "code",
   "execution_count": null,
   "id": "f8492dac-761c-45f3-bcf5-b4025c963bb3",
   "metadata": {},
   "outputs": [],
   "source": []
  }
 ],
 "metadata": {
  "kernelspec": {
   "display_name": "Python [conda env:base] *",
   "language": "python",
   "name": "conda-base-py"
  },
  "language_info": {
   "codemirror_mode": {
    "name": "ipython",
    "version": 3
   },
   "file_extension": ".py",
   "mimetype": "text/x-python",
   "name": "python",
   "nbconvert_exporter": "python",
   "pygments_lexer": "ipython3",
   "version": "3.13.5"
  }
 },
 "nbformat": 4,
 "nbformat_minor": 5
}
