{
 "cells": [
  {
   "cell_type": "code",
   "execution_count": 209,
   "id": "128ab629-63dc-42ac-b9a0-57360327cb3a",
   "metadata": {},
   "outputs": [],
   "source": [
    "import pandas as pd"
   ]
  },
  {
   "cell_type": "markdown",
   "id": "8483aa15-967e-4e66-be14-9e880a0d96de",
   "metadata": {},
   "source": [
    "* csv파일의 특정 열을 지정하여 데이터 프레임생성"
   ]
  },
  {
   "cell_type": "code",
   "execution_count": 210,
   "id": "37e46fab-6e37-4544-b91d-1652c79c8318",
   "metadata": {},
   "outputs": [
    {
     "data": {
      "text/html": [
       "<div>\n",
       "<style scoped>\n",
       "    .dataframe tbody tr th:only-of-type {\n",
       "        vertical-align: middle;\n",
       "    }\n",
       "\n",
       "    .dataframe tbody tr th {\n",
       "        vertical-align: top;\n",
       "    }\n",
       "\n",
       "    .dataframe thead th {\n",
       "        text-align: right;\n",
       "    }\n",
       "</style>\n",
       "<table border=\"1\" class=\"dataframe\">\n",
       "  <thead>\n",
       "    <tr style=\"text-align: right;\">\n",
       "      <th></th>\n",
       "      <th>Film</th>\n",
       "      <th>Genre</th>\n",
       "      <th>Year</th>\n",
       "    </tr>\n",
       "  </thead>\n",
       "  <tbody>\n",
       "    <tr>\n",
       "      <th>0</th>\n",
       "      <td>Zack and Miri Make a Porno</td>\n",
       "      <td>Romance</td>\n",
       "      <td>2008</td>\n",
       "    </tr>\n",
       "    <tr>\n",
       "      <th>1</th>\n",
       "      <td>Youth in Revolt</td>\n",
       "      <td>Comedy</td>\n",
       "      <td>2010</td>\n",
       "    </tr>\n",
       "    <tr>\n",
       "      <th>2</th>\n",
       "      <td>You Will Meet a Tall Dark Stranger</td>\n",
       "      <td>Comedy</td>\n",
       "      <td>2010</td>\n",
       "    </tr>\n",
       "    <tr>\n",
       "      <th>3</th>\n",
       "      <td>When in Rome</td>\n",
       "      <td>Comedy</td>\n",
       "      <td>2010</td>\n",
       "    </tr>\n",
       "    <tr>\n",
       "      <th>4</th>\n",
       "      <td>What Happens in Vegas</td>\n",
       "      <td>Comedy</td>\n",
       "      <td>2008</td>\n",
       "    </tr>\n",
       "  </tbody>\n",
       "</table>\n",
       "</div>"
      ],
      "text/plain": [
       "                                 Film    Genre  Year\n",
       "0          Zack and Miri Make a Porno  Romance  2008\n",
       "1                     Youth in Revolt   Comedy  2010\n",
       "2  You Will Meet a Tall Dark Stranger   Comedy  2010\n",
       "3                        When in Rome   Comedy  2010\n",
       "4               What Happens in Vegas   Comedy  2008"
      ]
     },
     "execution_count": 210,
     "metadata": {},
     "output_type": "execute_result"
    }
   ],
   "source": [
    "movies = pd.read_csv('data/movies.csv', usecols = ['Film','Genre','Year'])\n",
    "movies.head()"
   ]
  },
  {
   "cell_type": "code",
   "execution_count": 211,
   "id": "16478490-7d82-4884-8d35-0f5742a9d13a",
   "metadata": {},
   "outputs": [
    {
     "data": {
      "text/html": [
       "<div>\n",
       "<style scoped>\n",
       "    .dataframe tbody tr th:only-of-type {\n",
       "        vertical-align: middle;\n",
       "    }\n",
       "\n",
       "    .dataframe tbody tr th {\n",
       "        vertical-align: top;\n",
       "    }\n",
       "\n",
       "    .dataframe thead th {\n",
       "        text-align: right;\n",
       "    }\n",
       "</style>\n",
       "<table border=\"1\" class=\"dataframe\">\n",
       "  <thead>\n",
       "    <tr style=\"text-align: right;\">\n",
       "      <th></th>\n",
       "      <th>Film</th>\n",
       "      <th>Genre</th>\n",
       "      <th>Lead Studio</th>\n",
       "      <th>Audience score %</th>\n",
       "      <th>Profitability</th>\n",
       "      <th>Rotten Tomatoes %</th>\n",
       "      <th>Worldwide Gross</th>\n",
       "      <th>Year</th>\n",
       "    </tr>\n",
       "  </thead>\n",
       "  <tbody>\n",
       "    <tr>\n",
       "      <th>0</th>\n",
       "      <td>Zack and Miri Make a Porno</td>\n",
       "      <td>Romance</td>\n",
       "      <td>The Weinstein Company</td>\n",
       "      <td>70</td>\n",
       "      <td>1.747542</td>\n",
       "      <td>64</td>\n",
       "      <td>$41.94</td>\n",
       "      <td>2008</td>\n",
       "    </tr>\n",
       "    <tr>\n",
       "      <th>1</th>\n",
       "      <td>Youth in Revolt</td>\n",
       "      <td>Comedy</td>\n",
       "      <td>The Weinstein Company</td>\n",
       "      <td>52</td>\n",
       "      <td>1.090000</td>\n",
       "      <td>68</td>\n",
       "      <td>$19.62</td>\n",
       "      <td>2010</td>\n",
       "    </tr>\n",
       "    <tr>\n",
       "      <th>2</th>\n",
       "      <td>You Will Meet a Tall Dark Stranger</td>\n",
       "      <td>Comedy</td>\n",
       "      <td>Independent</td>\n",
       "      <td>35</td>\n",
       "      <td>1.211818</td>\n",
       "      <td>43</td>\n",
       "      <td>$26.66</td>\n",
       "      <td>2010</td>\n",
       "    </tr>\n",
       "    <tr>\n",
       "      <th>3</th>\n",
       "      <td>When in Rome</td>\n",
       "      <td>Comedy</td>\n",
       "      <td>Disney</td>\n",
       "      <td>44</td>\n",
       "      <td>0.000000</td>\n",
       "      <td>15</td>\n",
       "      <td>$43.04</td>\n",
       "      <td>2010</td>\n",
       "    </tr>\n",
       "    <tr>\n",
       "      <th>4</th>\n",
       "      <td>What Happens in Vegas</td>\n",
       "      <td>Comedy</td>\n",
       "      <td>Fox</td>\n",
       "      <td>72</td>\n",
       "      <td>6.267647</td>\n",
       "      <td>28</td>\n",
       "      <td>$219.37</td>\n",
       "      <td>2008</td>\n",
       "    </tr>\n",
       "  </tbody>\n",
       "</table>\n",
       "</div>"
      ],
      "text/plain": [
       "                                 Film    Genre            Lead Studio  \\\n",
       "0          Zack and Miri Make a Porno  Romance  The Weinstein Company   \n",
       "1                     Youth in Revolt   Comedy  The Weinstein Company   \n",
       "2  You Will Meet a Tall Dark Stranger   Comedy            Independent   \n",
       "3                        When in Rome   Comedy                 Disney   \n",
       "4               What Happens in Vegas   Comedy                    Fox   \n",
       "\n",
       "   Audience score %  Profitability  Rotten Tomatoes % Worldwide Gross  Year  \n",
       "0                70       1.747542                 64         $41.94   2008  \n",
       "1                52       1.090000                 68         $19.62   2010  \n",
       "2                35       1.211818                 43         $26.66   2010  \n",
       "3                44       0.000000                 15         $43.04   2010  \n",
       "4                72       6.267647                 28        $219.37   2008  "
      ]
     },
     "execution_count": 211,
     "metadata": {},
     "output_type": "execute_result"
    }
   ],
   "source": [
    "movies_all = pd.read_csv('data/movies.csv')\n",
    "movies_all.head()"
   ]
  },
  {
   "cell_type": "markdown",
   "id": "8d7ab831-91b1-464d-8303-cbb4b2884431",
   "metadata": {},
   "source": [
    "# 브로드캐스팅을 활용하여 특정 열 생성 미 초기화"
   ]
  },
  {
   "cell_type": "markdown",
   "id": "010e9df6-c36a-4f64-a952-5d6e30072bc3",
   "metadata": {},
   "source": [
    "* Audience score, Rotten Tomatoes는 영화 평가 지표임  \n",
    "has_seen이라는 열을 만들어 두 지표의 평균값을 구하기 위해 열 생성 및 초기화 시도"
   ]
  },
  {
   "cell_type": "code",
   "execution_count": 212,
   "id": "35d7b978-93dd-476d-9739-8fad65168e9f",
   "metadata": {},
   "outputs": [
    {
     "data": {
      "text/html": [
       "<div>\n",
       "<style scoped>\n",
       "    .dataframe tbody tr th:only-of-type {\n",
       "        vertical-align: middle;\n",
       "    }\n",
       "\n",
       "    .dataframe tbody tr th {\n",
       "        vertical-align: top;\n",
       "    }\n",
       "\n",
       "    .dataframe thead th {\n",
       "        text-align: right;\n",
       "    }\n",
       "</style>\n",
       "<table border=\"1\" class=\"dataframe\">\n",
       "  <thead>\n",
       "    <tr style=\"text-align: right;\">\n",
       "      <th></th>\n",
       "      <th>Film</th>\n",
       "      <th>Genre</th>\n",
       "      <th>Year</th>\n",
       "      <th>has_seen</th>\n",
       "    </tr>\n",
       "  </thead>\n",
       "  <tbody>\n",
       "    <tr>\n",
       "      <th>0</th>\n",
       "      <td>Zack and Miri Make a Porno</td>\n",
       "      <td>Romance</td>\n",
       "      <td>2008</td>\n",
       "      <td>0</td>\n",
       "    </tr>\n",
       "    <tr>\n",
       "      <th>1</th>\n",
       "      <td>Youth in Revolt</td>\n",
       "      <td>Comedy</td>\n",
       "      <td>2010</td>\n",
       "      <td>0</td>\n",
       "    </tr>\n",
       "    <tr>\n",
       "      <th>2</th>\n",
       "      <td>You Will Meet a Tall Dark Stranger</td>\n",
       "      <td>Comedy</td>\n",
       "      <td>2010</td>\n",
       "      <td>0</td>\n",
       "    </tr>\n",
       "    <tr>\n",
       "      <th>3</th>\n",
       "      <td>When in Rome</td>\n",
       "      <td>Comedy</td>\n",
       "      <td>2010</td>\n",
       "      <td>0</td>\n",
       "    </tr>\n",
       "    <tr>\n",
       "      <th>4</th>\n",
       "      <td>What Happens in Vegas</td>\n",
       "      <td>Comedy</td>\n",
       "      <td>2008</td>\n",
       "      <td>0</td>\n",
       "    </tr>\n",
       "  </tbody>\n",
       "</table>\n",
       "</div>"
      ],
      "text/plain": [
       "                                 Film    Genre  Year  has_seen\n",
       "0          Zack and Miri Make a Porno  Romance  2008         0\n",
       "1                     Youth in Revolt   Comedy  2010         0\n",
       "2  You Will Meet a Tall Dark Stranger   Comedy  2010         0\n",
       "3                        When in Rome   Comedy  2010         0\n",
       "4               What Happens in Vegas   Comedy  2008         0"
      ]
     },
     "execution_count": 212,
     "metadata": {},
     "output_type": "execute_result"
    }
   ],
   "source": [
    "movies['has_seen'] = 0 # 신규열 초기화 하는 방법\n",
    "movies.head()"
   ]
  },
  {
   "cell_type": "code",
   "execution_count": 213,
   "id": "bd0783ef-e58d-4839-9b9e-e88d0f99180a",
   "metadata": {},
   "outputs": [
    {
     "data": {
      "text/plain": [
       "Index(['Film', 'Genre', 'Lead Studio', 'Audience score %', 'Profitability',\n",
       "       'Rotten Tomatoes %', 'Worldwide Gross', 'Year'],\n",
       "      dtype='object')"
      ]
     },
     "execution_count": 213,
     "metadata": {},
     "output_type": "execute_result"
    }
   ],
   "source": [
    "movies_all.columns"
   ]
  },
  {
   "cell_type": "code",
   "execution_count": 214,
   "id": "41bf3e2c-7be5-4a57-9f6e-dee1c17d9ccb",
   "metadata": {},
   "outputs": [
    {
     "data": {
      "text/html": [
       "<div>\n",
       "<style scoped>\n",
       "    .dataframe tbody tr th:only-of-type {\n",
       "        vertical-align: middle;\n",
       "    }\n",
       "\n",
       "    .dataframe tbody tr th {\n",
       "        vertical-align: top;\n",
       "    }\n",
       "\n",
       "    .dataframe thead th {\n",
       "        text-align: right;\n",
       "    }\n",
       "</style>\n",
       "<table border=\"1\" class=\"dataframe\">\n",
       "  <thead>\n",
       "    <tr style=\"text-align: right;\">\n",
       "      <th></th>\n",
       "      <th>Film</th>\n",
       "      <th>Genre</th>\n",
       "      <th>Year</th>\n",
       "      <th>has_seen</th>\n",
       "    </tr>\n",
       "  </thead>\n",
       "  <tbody>\n",
       "    <tr>\n",
       "      <th>0</th>\n",
       "      <td>Zack and Miri Make a Porno</td>\n",
       "      <td>Romance</td>\n",
       "      <td>2008</td>\n",
       "      <td>67</td>\n",
       "    </tr>\n",
       "    <tr>\n",
       "      <th>1</th>\n",
       "      <td>Youth in Revolt</td>\n",
       "      <td>Comedy</td>\n",
       "      <td>2010</td>\n",
       "      <td>60</td>\n",
       "    </tr>\n",
       "    <tr>\n",
       "      <th>2</th>\n",
       "      <td>You Will Meet a Tall Dark Stranger</td>\n",
       "      <td>Comedy</td>\n",
       "      <td>2010</td>\n",
       "      <td>39</td>\n",
       "    </tr>\n",
       "    <tr>\n",
       "      <th>3</th>\n",
       "      <td>When in Rome</td>\n",
       "      <td>Comedy</td>\n",
       "      <td>2010</td>\n",
       "      <td>29</td>\n",
       "    </tr>\n",
       "    <tr>\n",
       "      <th>4</th>\n",
       "      <td>What Happens in Vegas</td>\n",
       "      <td>Comedy</td>\n",
       "      <td>2008</td>\n",
       "      <td>50</td>\n",
       "    </tr>\n",
       "  </tbody>\n",
       "</table>\n",
       "</div>"
      ],
      "text/plain": [
       "                                 Film    Genre  Year  has_seen\n",
       "0          Zack and Miri Make a Porno  Romance  2008        67\n",
       "1                     Youth in Revolt   Comedy  2010        60\n",
       "2  You Will Meet a Tall Dark Stranger   Comedy  2010        39\n",
       "3                        When in Rome   Comedy  2010        29\n",
       "4               What Happens in Vegas   Comedy  2008        50"
      ]
     },
     "execution_count": 214,
     "metadata": {},
     "output_type": "execute_result"
    }
   ],
   "source": [
    "movies['has_seen'] = (movies_all['Audience score %'] + movies_all['Rotten Tomatoes %']) // 2\n",
    "movies.head()"
   ]
  },
  {
   "cell_type": "markdown",
   "id": "c34ecda2-cbbd-45de-8779-c0c4a53dfa51",
   "metadata": {},
   "source": [
    "# 타입변경"
   ]
  },
  {
   "cell_type": "code",
   "execution_count": 215,
   "id": "1c7711c2-2083-4cf8-9270-e984ba8ef56b",
   "metadata": {},
   "outputs": [
    {
     "name": "stdout",
     "output_type": "stream",
     "text": [
      "<class 'pandas.core.frame.DataFrame'>\n",
      "RangeIndex: 77 entries, 0 to 76\n",
      "Data columns (total 8 columns):\n",
      " #   Column             Non-Null Count  Dtype  \n",
      "---  ------             --------------  -----  \n",
      " 0   Film               77 non-null     object \n",
      " 1   Genre              77 non-null     object \n",
      " 2   Lead Studio        77 non-null     object \n",
      " 3   Audience score %   77 non-null     int64  \n",
      " 4   Profitability      77 non-null     float64\n",
      " 5   Rotten Tomatoes %  77 non-null     int64  \n",
      " 6   Worldwide Gross    77 non-null     object \n",
      " 7   Year               77 non-null     int64  \n",
      "dtypes: float64(1), int64(3), object(4)\n",
      "memory usage: 4.9+ KB\n"
     ]
    }
   ],
   "source": [
    "movies_all.info()"
   ]
  },
  {
   "cell_type": "code",
   "execution_count": 216,
   "id": "f06dbf89-cdd4-47c1-b270-37a7baa086e4",
   "metadata": {},
   "outputs": [
    {
     "data": {
      "text/html": [
       "<div>\n",
       "<style scoped>\n",
       "    .dataframe tbody tr th:only-of-type {\n",
       "        vertical-align: middle;\n",
       "    }\n",
       "\n",
       "    .dataframe tbody tr th {\n",
       "        vertical-align: top;\n",
       "    }\n",
       "\n",
       "    .dataframe thead th {\n",
       "        text-align: right;\n",
       "    }\n",
       "</style>\n",
       "<table border=\"1\" class=\"dataframe\">\n",
       "  <thead>\n",
       "    <tr style=\"text-align: right;\">\n",
       "      <th></th>\n",
       "      <th>Film</th>\n",
       "      <th>Genre</th>\n",
       "      <th>Lead Studio</th>\n",
       "      <th>Audience score %</th>\n",
       "      <th>Profitability</th>\n",
       "      <th>Rotten Tomatoes %</th>\n",
       "      <th>Worldwide Gross</th>\n",
       "      <th>Year</th>\n",
       "    </tr>\n",
       "  </thead>\n",
       "  <tbody>\n",
       "    <tr>\n",
       "      <th>0</th>\n",
       "      <td>Zack and Miri Make a Porno</td>\n",
       "      <td>Romance</td>\n",
       "      <td>The Weinstein Company</td>\n",
       "      <td>70</td>\n",
       "      <td>1.747542</td>\n",
       "      <td>64</td>\n",
       "      <td>$41.94</td>\n",
       "      <td>2008</td>\n",
       "    </tr>\n",
       "    <tr>\n",
       "      <th>1</th>\n",
       "      <td>Youth in Revolt</td>\n",
       "      <td>Comedy</td>\n",
       "      <td>The Weinstein Company</td>\n",
       "      <td>52</td>\n",
       "      <td>1.090000</td>\n",
       "      <td>68</td>\n",
       "      <td>$19.62</td>\n",
       "      <td>2010</td>\n",
       "    </tr>\n",
       "    <tr>\n",
       "      <th>2</th>\n",
       "      <td>You Will Meet a Tall Dark Stranger</td>\n",
       "      <td>Comedy</td>\n",
       "      <td>Independent</td>\n",
       "      <td>35</td>\n",
       "      <td>1.211818</td>\n",
       "      <td>43</td>\n",
       "      <td>$26.66</td>\n",
       "      <td>2010</td>\n",
       "    </tr>\n",
       "    <tr>\n",
       "      <th>3</th>\n",
       "      <td>When in Rome</td>\n",
       "      <td>Comedy</td>\n",
       "      <td>Disney</td>\n",
       "      <td>44</td>\n",
       "      <td>0.000000</td>\n",
       "      <td>15</td>\n",
       "      <td>$43.04</td>\n",
       "      <td>2010</td>\n",
       "    </tr>\n",
       "    <tr>\n",
       "      <th>4</th>\n",
       "      <td>What Happens in Vegas</td>\n",
       "      <td>Comedy</td>\n",
       "      <td>Fox</td>\n",
       "      <td>72</td>\n",
       "      <td>6.267647</td>\n",
       "      <td>28</td>\n",
       "      <td>$219.37</td>\n",
       "      <td>2008</td>\n",
       "    </tr>\n",
       "  </tbody>\n",
       "</table>\n",
       "</div>"
      ],
      "text/plain": [
       "                                 Film    Genre            Lead Studio  \\\n",
       "0          Zack and Miri Make a Porno  Romance  The Weinstein Company   \n",
       "1                     Youth in Revolt   Comedy  The Weinstein Company   \n",
       "2  You Will Meet a Tall Dark Stranger   Comedy            Independent   \n",
       "3                        When in Rome   Comedy                 Disney   \n",
       "4               What Happens in Vegas   Comedy                    Fox   \n",
       "\n",
       "   Audience score %  Profitability  Rotten Tomatoes % Worldwide Gross  Year  \n",
       "0                70       1.747542                 64         $41.94   2008  \n",
       "1                52       1.090000                 68         $19.62   2010  \n",
       "2                35       1.211818                 43         $26.66   2010  \n",
       "3                44       0.000000                 15         $43.04   2010  \n",
       "4                72       6.267647                 28        $219.37   2008  "
      ]
     },
     "execution_count": 216,
     "metadata": {},
     "output_type": "execute_result"
    }
   ],
   "source": [
    "movies_all.head()"
   ]
  },
  {
   "cell_type": "markdown",
   "id": "c4564910-0f2f-4ad0-9c46-1afed28f96f4",
   "metadata": {},
   "source": [
    "* 숫자로 변환가능한 문자열은 판다스에서 자동으로 숫자로 변환해 준다.\n",
    "* csv 파일은 아스키 파일이기 때문에 서식이 들어간 숫자 데이터를 문자열로 인식한다. 예) Worldwide Gross\n",
    "* 서식이 있는 숫자 데이터는 서식을 제거하고 별도로 형변환을 해주어야 한다. => 이러한 작업을 전처리(Preprocessing)이라고 한다.\n",
    "* 열의 타입이 문자열인 경우. 열.str 속성의 문자열 함수를 사용할 수 있다."
   ]
  },
  {
   "cell_type": "markdown",
   "id": "40d25879-58a1-4b1f-a070-d7caf9f26df5",
   "metadata": {},
   "source": [
    "# 타입변경을 위한 기본 전처리"
   ]
  },
  {
   "cell_type": "markdown",
   "id": "cbf3d5a1-b1ef-45d7-8c39-b500e9d8ad5d",
   "metadata": {},
   "source": [
    "* 전처리(Preprocessing): 데이터 분석을 하기 위해서 원본 데이터를 분석 가능한 데이터로 조작하는 작업"
   ]
  },
  {
   "cell_type": "code",
   "execution_count": 217,
   "id": "db620fc8-39f5-4d39-a245-dc6479cc1f9f",
   "metadata": {},
   "outputs": [
    {
     "data": {
      "text/plain": [
       "0      $41.94 \n",
       "1      $19.62 \n",
       "2      $26.66 \n",
       "3      $43.04 \n",
       "4     $219.37 \n",
       "        ...   \n",
       "72     $29.37 \n",
       "73     $30.68 \n",
       "74      $8.97 \n",
       "75    $160.31 \n",
       "76     $60.72 \n",
       "Name: Worldwide Gross, Length: 77, dtype: object"
      ]
     },
     "execution_count": 217,
     "metadata": {},
     "output_type": "execute_result"
    }
   ],
   "source": [
    "movies_all['Worldwide Gross']"
   ]
  },
  {
   "cell_type": "markdown",
   "id": "c6ee6aac-a789-4eb1-87df-d92769f615aa",
   "metadata": {},
   "source": [
    "* 데이터프레임['타입이 문자열인 열 이름'].str.replace([원본문자열],[바꿀문자열])\n",
    "    * 문자열을 포함한 열의 모든 행데이터값에 대해서 replace 수행\n",
    "    * 변경된 값을 반환한다. 원본이 바뀌는 것은 X"
   ]
  },
  {
   "cell_type": "code",
   "execution_count": 218,
   "id": "5c9a0a52-6d2f-4bc7-b9b8-0206413068cb",
   "metadata": {},
   "outputs": [
    {
     "data": {
      "text/plain": [
       "0    41.94 \n",
       "1    19.62 \n",
       "2    26.66 \n",
       "Name: Worldwide Gross, dtype: object"
      ]
     },
     "execution_count": 218,
     "metadata": {},
     "output_type": "execute_result"
    }
   ],
   "source": [
    "movies_all['Worldwide Gross'].str.replace('$','').head(3) "
   ]
  },
  {
   "cell_type": "code",
   "execution_count": 219,
   "id": "16119701-88e0-45a8-aede-0ba38290435e",
   "metadata": {},
   "outputs": [
    {
     "data": {
      "text/plain": [
       "0    $41.94 \n",
       "1    $19.62 \n",
       "2    $26.66 \n",
       "Name: Worldwide Gross, dtype: object"
      ]
     },
     "execution_count": 219,
     "metadata": {},
     "output_type": "execute_result"
    }
   ],
   "source": [
    "movies_all['Worldwide Gross'].head(3)"
   ]
  },
  {
   "cell_type": "code",
   "execution_count": 220,
   "id": "c8c542b5-565e-4b10-bbed-d1d12822fedb",
   "metadata": {},
   "outputs": [
    {
     "data": {
      "text/plain": [
       "0    41.94 \n",
       "1    19.62 \n",
       "2    26.66 \n",
       "Name: Worldwide Gross, dtype: object"
      ]
     },
     "execution_count": 220,
     "metadata": {},
     "output_type": "execute_result"
    }
   ],
   "source": [
    "wg = movies_all['Worldwide Gross'].str.replace('$','')\n",
    "wg.head(3) # 여전히 타입은 문자열"
   ]
  },
  {
   "cell_type": "code",
   "execution_count": 221,
   "id": "a25a80e9-b9f2-448e-b1f6-c19dd9d2f847",
   "metadata": {},
   "outputs": [],
   "source": [
    "# 아래 코드 수행하면 TypeError 발생\n",
    "# wg * 1392.20 # 보이기에는 실수 타입으로 보이나 실제는 문자열 타입이기때문에 수치형 연산이 불가능하다."
   ]
  },
  {
   "cell_type": "markdown",
   "id": "709a067e-9afb-4ffe-b060-2edb3460b5d0",
   "metadata": {},
   "source": [
    "* astype: 형변환 함수"
   ]
  },
  {
   "cell_type": "code",
   "execution_count": 222,
   "id": "36c9362d-eab6-4113-bada-da2fae5d666c",
   "metadata": {},
   "outputs": [
    {
     "data": {
      "text/plain": [
       "0      41.94\n",
       "1      19.62\n",
       "2      26.66\n",
       "3      43.04\n",
       "4     219.37\n",
       "       ...  \n",
       "72     29.37\n",
       "73     30.68\n",
       "74      8.97\n",
       "75    160.31\n",
       "76     60.72\n",
       "Name: Worldwide Gross, Length: 77, dtype: float64"
      ]
     },
     "execution_count": 222,
     "metadata": {},
     "output_type": "execute_result"
    }
   ],
   "source": [
    "wg.astype('float64')"
   ]
  },
  {
   "cell_type": "markdown",
   "id": "43c48f4c-89f1-4f99-b0ff-d1a62505dc54",
   "metadata": {},
   "source": [
    "* 메소드 파이프라인  \n",
    "  앞의 메소드의 수행 결과를 연속적으로 사용하는 프로그래밍 방식"
   ]
  },
  {
   "cell_type": "code",
   "execution_count": 223,
   "id": "086a9253-3e98-473f-b5b1-8846efffa57f",
   "metadata": {},
   "outputs": [
    {
     "data": {
      "text/plain": [
       "0      41.94\n",
       "1      19.62\n",
       "2      26.66\n",
       "3      43.04\n",
       "4     219.37\n",
       "       ...  \n",
       "72     29.37\n",
       "73     30.68\n",
       "74      8.97\n",
       "75    160.31\n",
       "76     60.72\n",
       "Name: Worldwide Gross, Length: 77, dtype: float64"
      ]
     },
     "execution_count": 223,
     "metadata": {},
     "output_type": "execute_result"
    }
   ],
   "source": [
    "movies_all['Worldwide Gross'].str.replace('$','').astype('float64')"
   ]
  },
  {
   "cell_type": "code",
   "execution_count": 224,
   "id": "7b353104-e050-4e19-aacb-499098462bcc",
   "metadata": {},
   "outputs": [],
   "source": [
    "converted_gross = movies_all['Worldwide Gross'].str.replace('$','').astype('float64') * 1392.20"
   ]
  },
  {
   "cell_type": "markdown",
   "id": "a3e7c8aa-4145-42d6-b18c-9d533b8dc687",
   "metadata": {},
   "source": [
    "# 전처리한 결과를 특정 위치에 삽입"
   ]
  },
  {
   "cell_type": "markdown",
   "id": "4ac04eef-6cda-4eb3-93d7-1ef3216f701c",
   "metadata": {},
   "source": [
    "* insert() : 데이터프레임.insert(삽입열의 인덱스, 열이름, 값) => 함수 수행후 데이터 프레임의 값을 갱신한다."
   ]
  },
  {
   "cell_type": "markdown",
   "id": "6dca3cf9-7244-45df-905f-c7aff12b57fc",
   "metadata": {},
   "source": [
    "* 열의 인덱스 확인"
   ]
  },
  {
   "cell_type": "code",
   "execution_count": 225,
   "id": "2d377334-b021-427e-b469-48cbd36041ef",
   "metadata": {},
   "outputs": [
    {
     "data": {
      "text/plain": [
       "Index(['Film', 'Genre', 'Year', 'has_seen'], dtype='object')"
      ]
     },
     "execution_count": 225,
     "metadata": {},
     "output_type": "execute_result"
    }
   ],
   "source": [
    "movies.columns"
   ]
  },
  {
   "cell_type": "markdown",
   "id": "c0bfc67e-8ba1-480f-b685-6743910c2030",
   "metadata": {},
   "source": [
    "* get_loc([열이름])  \n",
    "특정열의 인덱스를 반환한다."
   ]
  },
  {
   "cell_type": "code",
   "execution_count": 226,
   "id": "df2fcaff-2b5a-4c69-92a3-dcc070a35bd3",
   "metadata": {},
   "outputs": [
    {
     "data": {
      "text/plain": [
       "3"
      ]
     },
     "execution_count": 226,
     "metadata": {},
     "output_type": "execute_result"
    }
   ],
   "source": [
    "movies.columns.get_loc('has_seen') # get_loc([열이름]) 해당열의 인덱스 반환"
   ]
  },
  {
   "cell_type": "code",
   "execution_count": 227,
   "id": "f3177df4-a622-40db-9ff6-96afae233d7c",
   "metadata": {},
   "outputs": [],
   "source": [
    "try:\n",
    "    movies.insert( 4, '매출(한화)',  converted_gross ) # 두번 실행하면 동일한 열이 추가되기 때문에 런타임에러 발생한다.\n",
    "except:\n",
    "    print('동일한 열이 있으므로 삽입할 수 없습니다.')"
   ]
  },
  {
   "cell_type": "code",
   "execution_count": 228,
   "id": "a5d121a4-d7ce-4305-871a-c9b388e0daf4",
   "metadata": {},
   "outputs": [
    {
     "data": {
      "text/html": [
       "<div>\n",
       "<style scoped>\n",
       "    .dataframe tbody tr th:only-of-type {\n",
       "        vertical-align: middle;\n",
       "    }\n",
       "\n",
       "    .dataframe tbody tr th {\n",
       "        vertical-align: top;\n",
       "    }\n",
       "\n",
       "    .dataframe thead th {\n",
       "        text-align: right;\n",
       "    }\n",
       "</style>\n",
       "<table border=\"1\" class=\"dataframe\">\n",
       "  <thead>\n",
       "    <tr style=\"text-align: right;\">\n",
       "      <th></th>\n",
       "      <th>Film</th>\n",
       "      <th>Genre</th>\n",
       "      <th>Year</th>\n",
       "      <th>has_seen</th>\n",
       "      <th>매출(한화)</th>\n",
       "    </tr>\n",
       "  </thead>\n",
       "  <tbody>\n",
       "    <tr>\n",
       "      <th>0</th>\n",
       "      <td>Zack and Miri Make a Porno</td>\n",
       "      <td>Romance</td>\n",
       "      <td>2008</td>\n",
       "      <td>67</td>\n",
       "      <td>58388.868</td>\n",
       "    </tr>\n",
       "    <tr>\n",
       "      <th>1</th>\n",
       "      <td>Youth in Revolt</td>\n",
       "      <td>Comedy</td>\n",
       "      <td>2010</td>\n",
       "      <td>60</td>\n",
       "      <td>27314.964</td>\n",
       "    </tr>\n",
       "    <tr>\n",
       "      <th>2</th>\n",
       "      <td>You Will Meet a Tall Dark Stranger</td>\n",
       "      <td>Comedy</td>\n",
       "      <td>2010</td>\n",
       "      <td>39</td>\n",
       "      <td>37116.052</td>\n",
       "    </tr>\n",
       "    <tr>\n",
       "      <th>3</th>\n",
       "      <td>When in Rome</td>\n",
       "      <td>Comedy</td>\n",
       "      <td>2010</td>\n",
       "      <td>29</td>\n",
       "      <td>59920.288</td>\n",
       "    </tr>\n",
       "    <tr>\n",
       "      <th>4</th>\n",
       "      <td>What Happens in Vegas</td>\n",
       "      <td>Comedy</td>\n",
       "      <td>2008</td>\n",
       "      <td>50</td>\n",
       "      <td>305406.914</td>\n",
       "    </tr>\n",
       "    <tr>\n",
       "      <th>...</th>\n",
       "      <td>...</td>\n",
       "      <td>...</td>\n",
       "      <td>...</td>\n",
       "      <td>...</td>\n",
       "      <td>...</td>\n",
       "    </tr>\n",
       "    <tr>\n",
       "      <th>72</th>\n",
       "      <td>Across the Universe</td>\n",
       "      <td>romance</td>\n",
       "      <td>2007</td>\n",
       "      <td>69</td>\n",
       "      <td>40888.914</td>\n",
       "    </tr>\n",
       "    <tr>\n",
       "      <th>73</th>\n",
       "      <td>A Serious Man</td>\n",
       "      <td>Drama</td>\n",
       "      <td>2009</td>\n",
       "      <td>76</td>\n",
       "      <td>42712.696</td>\n",
       "    </tr>\n",
       "    <tr>\n",
       "      <th>74</th>\n",
       "      <td>A Dangerous Method</td>\n",
       "      <td>Drama</td>\n",
       "      <td>2011</td>\n",
       "      <td>84</td>\n",
       "      <td>12488.034</td>\n",
       "    </tr>\n",
       "    <tr>\n",
       "      <th>75</th>\n",
       "      <td>27 Dresses</td>\n",
       "      <td>Comedy</td>\n",
       "      <td>2008</td>\n",
       "      <td>55</td>\n",
       "      <td>223183.582</td>\n",
       "    </tr>\n",
       "    <tr>\n",
       "      <th>76</th>\n",
       "      <td>(500) Days of Summer</td>\n",
       "      <td>comedy</td>\n",
       "      <td>2009</td>\n",
       "      <td>84</td>\n",
       "      <td>84534.384</td>\n",
       "    </tr>\n",
       "  </tbody>\n",
       "</table>\n",
       "<p>77 rows × 5 columns</p>\n",
       "</div>"
      ],
      "text/plain": [
       "                                  Film    Genre  Year  has_seen      매출(한화)\n",
       "0           Zack and Miri Make a Porno  Romance  2008        67   58388.868\n",
       "1                      Youth in Revolt   Comedy  2010        60   27314.964\n",
       "2   You Will Meet a Tall Dark Stranger   Comedy  2010        39   37116.052\n",
       "3                         When in Rome   Comedy  2010        29   59920.288\n",
       "4                What Happens in Vegas   Comedy  2008        50  305406.914\n",
       "..                                 ...      ...   ...       ...         ...\n",
       "72                 Across the Universe  romance  2007        69   40888.914\n",
       "73                       A Serious Man    Drama  2009        76   42712.696\n",
       "74                  A Dangerous Method    Drama  2011        84   12488.034\n",
       "75                          27 Dresses   Comedy  2008        55  223183.582\n",
       "76                (500) Days of Summer   comedy  2009        84   84534.384\n",
       "\n",
       "[77 rows x 5 columns]"
      ]
     },
     "execution_count": 228,
     "metadata": {},
     "output_type": "execute_result"
    }
   ],
   "source": [
    "movies"
   ]
  },
  {
   "cell_type": "markdown",
   "id": "76e8fdbc-af52-4bb8-b688-f62de8bc2c7b",
   "metadata": {},
   "source": [
    "* 열 이름으로 열 삭제"
   ]
  },
  {
   "cell_type": "raw",
   "id": "c99e58a2-dcac-44f4-b715-dde3309601ea",
   "metadata": {},
   "source": [
    "데이터프레임.drop( columns=[삭제할열 이름 리스트] )  # 삭제한 결과를 반영, 자기 자신은 변경 X\n",
    "데이터프레임.drop( columns=[삭제할열 이름 리스트] , inplace =  True ) # 자기 자신도 변경"
   ]
  },
  {
   "cell_type": "code",
   "execution_count": 229,
   "id": "64053dfe-6faf-4761-8e18-5d8bf93eb721",
   "metadata": {},
   "outputs": [
    {
     "data": {
      "text/plain": [
       "Index(['Film', 'Genre', 'Year', 'has_seen', '매출(한화)'], dtype='object')"
      ]
     },
     "execution_count": 229,
     "metadata": {},
     "output_type": "execute_result"
    }
   ],
   "source": [
    "movies.columns"
   ]
  },
  {
   "cell_type": "code",
   "execution_count": 230,
   "id": "78ec3c6f-56e0-4963-87f2-cf6312bdc70f",
   "metadata": {
    "scrolled": true
   },
   "outputs": [
    {
     "data": {
      "text/html": [
       "<div>\n",
       "<style scoped>\n",
       "    .dataframe tbody tr th:only-of-type {\n",
       "        vertical-align: middle;\n",
       "    }\n",
       "\n",
       "    .dataframe tbody tr th {\n",
       "        vertical-align: top;\n",
       "    }\n",
       "\n",
       "    .dataframe thead th {\n",
       "        text-align: right;\n",
       "    }\n",
       "</style>\n",
       "<table border=\"1\" class=\"dataframe\">\n",
       "  <thead>\n",
       "    <tr style=\"text-align: right;\">\n",
       "      <th></th>\n",
       "      <th>Film</th>\n",
       "      <th>Genre</th>\n",
       "      <th>Year</th>\n",
       "      <th>has_seen</th>\n",
       "    </tr>\n",
       "  </thead>\n",
       "  <tbody>\n",
       "    <tr>\n",
       "      <th>0</th>\n",
       "      <td>Zack and Miri Make a Porno</td>\n",
       "      <td>Romance</td>\n",
       "      <td>2008</td>\n",
       "      <td>67</td>\n",
       "    </tr>\n",
       "    <tr>\n",
       "      <th>1</th>\n",
       "      <td>Youth in Revolt</td>\n",
       "      <td>Comedy</td>\n",
       "      <td>2010</td>\n",
       "      <td>60</td>\n",
       "    </tr>\n",
       "    <tr>\n",
       "      <th>2</th>\n",
       "      <td>You Will Meet a Tall Dark Stranger</td>\n",
       "      <td>Comedy</td>\n",
       "      <td>2010</td>\n",
       "      <td>39</td>\n",
       "    </tr>\n",
       "  </tbody>\n",
       "</table>\n",
       "</div>"
      ],
      "text/plain": [
       "                                 Film    Genre  Year  has_seen\n",
       "0          Zack and Miri Make a Porno  Romance  2008        67\n",
       "1                     Youth in Revolt   Comedy  2010        60\n",
       "2  You Will Meet a Tall Dark Stranger   Comedy  2010        39"
      ]
     },
     "execution_count": 230,
     "metadata": {},
     "output_type": "execute_result"
    }
   ],
   "source": [
    "movies.drop( columns=['매출(한화)']).head(3)"
   ]
  },
  {
   "cell_type": "code",
   "execution_count": 231,
   "id": "4cfbdb3c-1fc3-4460-ac4c-8c8d7f3cb045",
   "metadata": {},
   "outputs": [
    {
     "data": {
      "text/html": [
       "<div>\n",
       "<style scoped>\n",
       "    .dataframe tbody tr th:only-of-type {\n",
       "        vertical-align: middle;\n",
       "    }\n",
       "\n",
       "    .dataframe tbody tr th {\n",
       "        vertical-align: top;\n",
       "    }\n",
       "\n",
       "    .dataframe thead th {\n",
       "        text-align: right;\n",
       "    }\n",
       "</style>\n",
       "<table border=\"1\" class=\"dataframe\">\n",
       "  <thead>\n",
       "    <tr style=\"text-align: right;\">\n",
       "      <th></th>\n",
       "      <th>Film</th>\n",
       "      <th>Genre</th>\n",
       "      <th>Year</th>\n",
       "      <th>has_seen</th>\n",
       "    </tr>\n",
       "  </thead>\n",
       "  <tbody>\n",
       "    <tr>\n",
       "      <th>0</th>\n",
       "      <td>Zack and Miri Make a Porno</td>\n",
       "      <td>Romance</td>\n",
       "      <td>2008</td>\n",
       "      <td>67</td>\n",
       "    </tr>\n",
       "    <tr>\n",
       "      <th>1</th>\n",
       "      <td>Youth in Revolt</td>\n",
       "      <td>Comedy</td>\n",
       "      <td>2010</td>\n",
       "      <td>60</td>\n",
       "    </tr>\n",
       "    <tr>\n",
       "      <th>2</th>\n",
       "      <td>You Will Meet a Tall Dark Stranger</td>\n",
       "      <td>Comedy</td>\n",
       "      <td>2010</td>\n",
       "      <td>39</td>\n",
       "    </tr>\n",
       "  </tbody>\n",
       "</table>\n",
       "</div>"
      ],
      "text/plain": [
       "                                 Film    Genre  Year  has_seen\n",
       "0          Zack and Miri Make a Porno  Romance  2008        67\n",
       "1                     Youth in Revolt   Comedy  2010        60\n",
       "2  You Will Meet a Tall Dark Stranger   Comedy  2010        39"
      ]
     },
     "execution_count": 231,
     "metadata": {},
     "output_type": "execute_result"
    }
   ],
   "source": [
    "try:\n",
    "    movies.drop( columns=['매출(한화)'], inplace = True)\n",
    "except:\n",
    "    print(\"해당열이 존재하지 않아 삭제가 불가능합니다.\")\n",
    "movies.head(3)"
   ]
  },
  {
   "cell_type": "markdown",
   "id": "d2d8bdbc-b3cc-434c-bfd6-9583a52bea55",
   "metadata": {},
   "source": [
    "* 특정 열 다음에 신규열 추가하기  \n",
    "    * Film 열에 '매출(한화)' 열 추가  \n",
    "    insert, get_loc 함수를 조합해서 할 수 있다."
   ]
  },
  {
   "cell_type": "code",
   "execution_count": 232,
   "id": "e7551092-837d-448e-8bb0-dcb4f095ec28",
   "metadata": {},
   "outputs": [],
   "source": [
    "movies.insert( movies.columns.get_loc('Film') + 1 , '매출(한화)', converted_gross )"
   ]
  },
  {
   "cell_type": "code",
   "execution_count": 233,
   "id": "d561258c-3e25-4849-bd1e-5dbced6a4b16",
   "metadata": {},
   "outputs": [
    {
     "data": {
      "text/html": [
       "<div>\n",
       "<style scoped>\n",
       "    .dataframe tbody tr th:only-of-type {\n",
       "        vertical-align: middle;\n",
       "    }\n",
       "\n",
       "    .dataframe tbody tr th {\n",
       "        vertical-align: top;\n",
       "    }\n",
       "\n",
       "    .dataframe thead th {\n",
       "        text-align: right;\n",
       "    }\n",
       "</style>\n",
       "<table border=\"1\" class=\"dataframe\">\n",
       "  <thead>\n",
       "    <tr style=\"text-align: right;\">\n",
       "      <th></th>\n",
       "      <th>Film</th>\n",
       "      <th>매출(한화)</th>\n",
       "      <th>Genre</th>\n",
       "      <th>Year</th>\n",
       "      <th>has_seen</th>\n",
       "    </tr>\n",
       "  </thead>\n",
       "  <tbody>\n",
       "    <tr>\n",
       "      <th>0</th>\n",
       "      <td>Zack and Miri Make a Porno</td>\n",
       "      <td>58388.868</td>\n",
       "      <td>Romance</td>\n",
       "      <td>2008</td>\n",
       "      <td>67</td>\n",
       "    </tr>\n",
       "    <tr>\n",
       "      <th>1</th>\n",
       "      <td>Youth in Revolt</td>\n",
       "      <td>27314.964</td>\n",
       "      <td>Comedy</td>\n",
       "      <td>2010</td>\n",
       "      <td>60</td>\n",
       "    </tr>\n",
       "    <tr>\n",
       "      <th>2</th>\n",
       "      <td>You Will Meet a Tall Dark Stranger</td>\n",
       "      <td>37116.052</td>\n",
       "      <td>Comedy</td>\n",
       "      <td>2010</td>\n",
       "      <td>39</td>\n",
       "    </tr>\n",
       "    <tr>\n",
       "      <th>3</th>\n",
       "      <td>When in Rome</td>\n",
       "      <td>59920.288</td>\n",
       "      <td>Comedy</td>\n",
       "      <td>2010</td>\n",
       "      <td>29</td>\n",
       "    </tr>\n",
       "    <tr>\n",
       "      <th>4</th>\n",
       "      <td>What Happens in Vegas</td>\n",
       "      <td>305406.914</td>\n",
       "      <td>Comedy</td>\n",
       "      <td>2008</td>\n",
       "      <td>50</td>\n",
       "    </tr>\n",
       "  </tbody>\n",
       "</table>\n",
       "</div>"
      ],
      "text/plain": [
       "                                 Film      매출(한화)    Genre  Year  has_seen\n",
       "0          Zack and Miri Make a Porno   58388.868  Romance  2008        67\n",
       "1                     Youth in Revolt   27314.964   Comedy  2010        60\n",
       "2  You Will Meet a Tall Dark Stranger   37116.052   Comedy  2010        39\n",
       "3                        When in Rome   59920.288   Comedy  2010        29\n",
       "4               What Happens in Vegas  305406.914   Comedy  2008        50"
      ]
     },
     "execution_count": 233,
     "metadata": {},
     "output_type": "execute_result"
    }
   ],
   "source": [
    "movies.head()"
   ]
  },
  {
   "cell_type": "markdown",
   "id": "82a992be-73e9-46ec-8a28-29977cebe80e",
   "metadata": {},
   "source": [
    "* 문제 풀어봐요  \n",
    "'매출(미화)' 열을 movies 데이터 프레임 제일 마지막 열에 추가하세요."
   ]
  },
  {
   "cell_type": "code",
   "execution_count": 234,
   "id": "6652c900-6da7-4086-a300-7e0763bcfe3e",
   "metadata": {},
   "outputs": [
    {
     "data": {
      "text/html": [
       "<div>\n",
       "<style scoped>\n",
       "    .dataframe tbody tr th:only-of-type {\n",
       "        vertical-align: middle;\n",
       "    }\n",
       "\n",
       "    .dataframe tbody tr th {\n",
       "        vertical-align: top;\n",
       "    }\n",
       "\n",
       "    .dataframe thead th {\n",
       "        text-align: right;\n",
       "    }\n",
       "</style>\n",
       "<table border=\"1\" class=\"dataframe\">\n",
       "  <thead>\n",
       "    <tr style=\"text-align: right;\">\n",
       "      <th></th>\n",
       "      <th>Film</th>\n",
       "      <th>Genre</th>\n",
       "      <th>Year</th>\n",
       "      <th>has_seen</th>\n",
       "    </tr>\n",
       "  </thead>\n",
       "  <tbody>\n",
       "    <tr>\n",
       "      <th>0</th>\n",
       "      <td>Zack and Miri Make a Porno</td>\n",
       "      <td>Romance</td>\n",
       "      <td>2008</td>\n",
       "      <td>67</td>\n",
       "    </tr>\n",
       "    <tr>\n",
       "      <th>1</th>\n",
       "      <td>Youth in Revolt</td>\n",
       "      <td>Comedy</td>\n",
       "      <td>2010</td>\n",
       "      <td>60</td>\n",
       "    </tr>\n",
       "    <tr>\n",
       "      <th>2</th>\n",
       "      <td>You Will Meet a Tall Dark Stranger</td>\n",
       "      <td>Comedy</td>\n",
       "      <td>2010</td>\n",
       "      <td>39</td>\n",
       "    </tr>\n",
       "    <tr>\n",
       "      <th>3</th>\n",
       "      <td>When in Rome</td>\n",
       "      <td>Comedy</td>\n",
       "      <td>2010</td>\n",
       "      <td>29</td>\n",
       "    </tr>\n",
       "    <tr>\n",
       "      <th>4</th>\n",
       "      <td>What Happens in Vegas</td>\n",
       "      <td>Comedy</td>\n",
       "      <td>2008</td>\n",
       "      <td>50</td>\n",
       "    </tr>\n",
       "    <tr>\n",
       "      <th>...</th>\n",
       "      <td>...</td>\n",
       "      <td>...</td>\n",
       "      <td>...</td>\n",
       "      <td>...</td>\n",
       "    </tr>\n",
       "    <tr>\n",
       "      <th>72</th>\n",
       "      <td>Across the Universe</td>\n",
       "      <td>romance</td>\n",
       "      <td>2007</td>\n",
       "      <td>69</td>\n",
       "    </tr>\n",
       "    <tr>\n",
       "      <th>73</th>\n",
       "      <td>A Serious Man</td>\n",
       "      <td>Drama</td>\n",
       "      <td>2009</td>\n",
       "      <td>76</td>\n",
       "    </tr>\n",
       "    <tr>\n",
       "      <th>74</th>\n",
       "      <td>A Dangerous Method</td>\n",
       "      <td>Drama</td>\n",
       "      <td>2011</td>\n",
       "      <td>84</td>\n",
       "    </tr>\n",
       "    <tr>\n",
       "      <th>75</th>\n",
       "      <td>27 Dresses</td>\n",
       "      <td>Comedy</td>\n",
       "      <td>2008</td>\n",
       "      <td>55</td>\n",
       "    </tr>\n",
       "    <tr>\n",
       "      <th>76</th>\n",
       "      <td>(500) Days of Summer</td>\n",
       "      <td>comedy</td>\n",
       "      <td>2009</td>\n",
       "      <td>84</td>\n",
       "    </tr>\n",
       "  </tbody>\n",
       "</table>\n",
       "<p>77 rows × 4 columns</p>\n",
       "</div>"
      ],
      "text/plain": [
       "                                  Film    Genre  Year  has_seen\n",
       "0           Zack and Miri Make a Porno  Romance  2008        67\n",
       "1                      Youth in Revolt   Comedy  2010        60\n",
       "2   You Will Meet a Tall Dark Stranger   Comedy  2010        39\n",
       "3                         When in Rome   Comedy  2010        29\n",
       "4                What Happens in Vegas   Comedy  2008        50\n",
       "..                                 ...      ...   ...       ...\n",
       "72                 Across the Universe  romance  2007        69\n",
       "73                       A Serious Man    Drama  2009        76\n",
       "74                  A Dangerous Method    Drama  2011        84\n",
       "75                          27 Dresses   Comedy  2008        55\n",
       "76                (500) Days of Summer   comedy  2009        84\n",
       "\n",
       "[77 rows x 4 columns]"
      ]
     },
     "execution_count": 234,
     "metadata": {},
     "output_type": "execute_result"
    }
   ],
   "source": [
    "movies.drop( columns=['매출(한화)'], inplace=True)\n",
    "movies"
   ]
  },
  {
   "cell_type": "code",
   "execution_count": 245,
   "id": "e2dcb557-04c3-4b53-a3eb-6acf4ae59a89",
   "metadata": {},
   "outputs": [
    {
     "name": "stdout",
     "output_type": "stream",
     "text": [
      "해당열이 이미 존재합니다.\n"
     ]
    },
    {
     "data": {
      "text/html": [
       "<div>\n",
       "<style scoped>\n",
       "    .dataframe tbody tr th:only-of-type {\n",
       "        vertical-align: middle;\n",
       "    }\n",
       "\n",
       "    .dataframe tbody tr th {\n",
       "        vertical-align: top;\n",
       "    }\n",
       "\n",
       "    .dataframe thead th {\n",
       "        text-align: right;\n",
       "    }\n",
       "</style>\n",
       "<table border=\"1\" class=\"dataframe\">\n",
       "  <thead>\n",
       "    <tr style=\"text-align: right;\">\n",
       "      <th></th>\n",
       "      <th>Film</th>\n",
       "      <th>Genre</th>\n",
       "      <th>Year</th>\n",
       "      <th>has_seen</th>\n",
       "      <th>매출(한화)</th>\n",
       "    </tr>\n",
       "  </thead>\n",
       "  <tbody>\n",
       "    <tr>\n",
       "      <th>0</th>\n",
       "      <td>Zack and Miri Make a Porno</td>\n",
       "      <td>Romance</td>\n",
       "      <td>2008</td>\n",
       "      <td>67</td>\n",
       "      <td>58388.868</td>\n",
       "    </tr>\n",
       "    <tr>\n",
       "      <th>1</th>\n",
       "      <td>Youth in Revolt</td>\n",
       "      <td>Comedy</td>\n",
       "      <td>2010</td>\n",
       "      <td>60</td>\n",
       "      <td>27314.964</td>\n",
       "    </tr>\n",
       "    <tr>\n",
       "      <th>2</th>\n",
       "      <td>You Will Meet a Tall Dark Stranger</td>\n",
       "      <td>Comedy</td>\n",
       "      <td>2010</td>\n",
       "      <td>39</td>\n",
       "      <td>37116.052</td>\n",
       "    </tr>\n",
       "  </tbody>\n",
       "</table>\n",
       "</div>"
      ],
      "text/plain": [
       "                                 Film    Genre  Year  has_seen     매출(한화)\n",
       "0          Zack and Miri Make a Porno  Romance  2008        67  58388.868\n",
       "1                     Youth in Revolt   Comedy  2010        60  27314.964\n",
       "2  You Will Meet a Tall Dark Stranger   Comedy  2010        39  37116.052"
      ]
     },
     "execution_count": 245,
     "metadata": {},
     "output_type": "execute_result"
    }
   ],
   "source": [
    "try:\n",
    "    movies.insert( movies.columns.get_loc('has_seen') + 1 , '매출(한화)', converted_gross )\n",
    "except:\n",
    "    print('해당열이 이미 존재합니다.')\n",
    "movies.head(3)"
   ]
  },
  {
   "cell_type": "markdown",
   "id": "e0a00c51-f84f-4461-a6c9-55fedfdaffd2",
   "metadata": {},
   "source": [
    "# 특정 원소 변경"
   ]
  },
  {
   "cell_type": "markdown",
   "id": "b6febb5c-106b-4c5b-b5ef-7a913184d945",
   "metadata": {},
   "source": [
    "### 조회"
   ]
  },
  {
   "cell_type": "markdown",
   "id": "dcb5d243-c1fb-4c9f-af57-36bb5ab73dfd",
   "metadata": {},
   "source": [
    "* 특정 인덱스, 특정 열의 데이터 조회"
   ]
  },
  {
   "cell_type": "code",
   "execution_count": 246,
   "id": "446cc20b-3590-4fc1-8c36-b60202470405",
   "metadata": {},
   "outputs": [
    {
     "data": {
      "text/plain": [
       "np.int64(84)"
      ]
     },
     "execution_count": 246,
     "metadata": {},
     "output_type": "execute_result"
    }
   ],
   "source": [
    "movies.loc[74, 'has_seen']"
   ]
  },
  {
   "cell_type": "markdown",
   "id": "e4e3d1c9-e051-4455-9b9d-1eded7c04f41",
   "metadata": {},
   "source": [
    "### 변경"
   ]
  },
  {
   "cell_type": "code",
   "execution_count": 247,
   "id": "4bad8a61-543e-4a5b-88ed-c5275e85182f",
   "metadata": {},
   "outputs": [],
   "source": [
    "movies.loc[74, 'has_seen'] = 98"
   ]
  },
  {
   "cell_type": "code",
   "execution_count": 248,
   "id": "c26eb3e1-5a4b-4336-8519-72d021105c96",
   "metadata": {},
   "outputs": [
    {
     "data": {
      "text/plain": [
       "np.int64(98)"
      ]
     },
     "execution_count": 248,
     "metadata": {},
     "output_type": "execute_result"
    }
   ],
   "source": [
    "movies.loc[74, 'has_seen']"
   ]
  },
  {
   "cell_type": "code",
   "execution_count": 249,
   "id": "334d465b-5fba-47c9-b648-f0932930f6f7",
   "metadata": {},
   "outputs": [
    {
     "data": {
      "text/html": [
       "<div>\n",
       "<style scoped>\n",
       "    .dataframe tbody tr th:only-of-type {\n",
       "        vertical-align: middle;\n",
       "    }\n",
       "\n",
       "    .dataframe tbody tr th {\n",
       "        vertical-align: top;\n",
       "    }\n",
       "\n",
       "    .dataframe thead th {\n",
       "        text-align: right;\n",
       "    }\n",
       "</style>\n",
       "<table border=\"1\" class=\"dataframe\">\n",
       "  <thead>\n",
       "    <tr style=\"text-align: right;\">\n",
       "      <th></th>\n",
       "      <th>Film</th>\n",
       "      <th>Genre</th>\n",
       "      <th>Year</th>\n",
       "      <th>has_seen</th>\n",
       "      <th>매출(한화)</th>\n",
       "    </tr>\n",
       "  </thead>\n",
       "  <tbody>\n",
       "    <tr>\n",
       "      <th>0</th>\n",
       "      <td>Zack and Miri Make a Porno</td>\n",
       "      <td>Romance</td>\n",
       "      <td>2008</td>\n",
       "      <td>67</td>\n",
       "      <td>58388.868</td>\n",
       "    </tr>\n",
       "    <tr>\n",
       "      <th>1</th>\n",
       "      <td>Youth in Revolt</td>\n",
       "      <td>Comedy</td>\n",
       "      <td>2010</td>\n",
       "      <td>60</td>\n",
       "      <td>27314.964</td>\n",
       "    </tr>\n",
       "    <tr>\n",
       "      <th>2</th>\n",
       "      <td>You Will Meet a Tall Dark Stranger</td>\n",
       "      <td>Comedy</td>\n",
       "      <td>2010</td>\n",
       "      <td>39</td>\n",
       "      <td>37116.052</td>\n",
       "    </tr>\n",
       "  </tbody>\n",
       "</table>\n",
       "</div>"
      ],
      "text/plain": [
       "                                 Film    Genre  Year  has_seen     매출(한화)\n",
       "0          Zack and Miri Make a Porno  Romance  2008        67  58388.868\n",
       "1                     Youth in Revolt   Comedy  2010        60  27314.964\n",
       "2  You Will Meet a Tall Dark Stranger   Comedy  2010        39  37116.052"
      ]
     },
     "execution_count": 249,
     "metadata": {},
     "output_type": "execute_result"
    }
   ],
   "source": [
    "movies.head(3)"
   ]
  },
  {
   "cell_type": "markdown",
   "id": "fd1d7f94-e7e0-45b5-8c00-8444be23de12",
   "metadata": {},
   "source": [
    "# 데이터 삭제"
   ]
  },
  {
   "cell_type": "markdown",
   "id": "b098ab67-0ecf-425d-89c5-6dd7cc353ee9",
   "metadata": {},
   "source": [
    "## 데이터 프레임에서 삭제"
   ]
  },
  {
   "cell_type": "code",
   "execution_count": 250,
   "id": "1cc5e976-3075-4c5c-ba19-3e2a7bee27d4",
   "metadata": {},
   "outputs": [
    {
     "data": {
      "text/html": [
       "<div>\n",
       "<style scoped>\n",
       "    .dataframe tbody tr th:only-of-type {\n",
       "        vertical-align: middle;\n",
       "    }\n",
       "\n",
       "    .dataframe tbody tr th {\n",
       "        vertical-align: top;\n",
       "    }\n",
       "\n",
       "    .dataframe thead th {\n",
       "        text-align: right;\n",
       "    }\n",
       "</style>\n",
       "<table border=\"1\" class=\"dataframe\">\n",
       "  <thead>\n",
       "    <tr style=\"text-align: right;\">\n",
       "      <th></th>\n",
       "      <th>Film</th>\n",
       "      <th>Genre</th>\n",
       "      <th>Lead Studio</th>\n",
       "      <th>Audience score %</th>\n",
       "      <th>Profitability</th>\n",
       "      <th>Rotten Tomatoes %</th>\n",
       "      <th>Worldwide Gross</th>\n",
       "      <th>Year</th>\n",
       "    </tr>\n",
       "  </thead>\n",
       "  <tbody>\n",
       "    <tr>\n",
       "      <th>0</th>\n",
       "      <td>Zack and Miri Make a Porno</td>\n",
       "      <td>Romance</td>\n",
       "      <td>The Weinstein Company</td>\n",
       "      <td>70</td>\n",
       "      <td>1.747542</td>\n",
       "      <td>64</td>\n",
       "      <td>$41.94</td>\n",
       "      <td>2008</td>\n",
       "    </tr>\n",
       "    <tr>\n",
       "      <th>1</th>\n",
       "      <td>Youth in Revolt</td>\n",
       "      <td>Comedy</td>\n",
       "      <td>The Weinstein Company</td>\n",
       "      <td>52</td>\n",
       "      <td>1.090000</td>\n",
       "      <td>68</td>\n",
       "      <td>$19.62</td>\n",
       "      <td>2010</td>\n",
       "    </tr>\n",
       "    <tr>\n",
       "      <th>2</th>\n",
       "      <td>You Will Meet a Tall Dark Stranger</td>\n",
       "      <td>Comedy</td>\n",
       "      <td>Independent</td>\n",
       "      <td>35</td>\n",
       "      <td>1.211818</td>\n",
       "      <td>43</td>\n",
       "      <td>$26.66</td>\n",
       "      <td>2010</td>\n",
       "    </tr>\n",
       "    <tr>\n",
       "      <th>3</th>\n",
       "      <td>When in Rome</td>\n",
       "      <td>Comedy</td>\n",
       "      <td>Disney</td>\n",
       "      <td>44</td>\n",
       "      <td>0.000000</td>\n",
       "      <td>15</td>\n",
       "      <td>$43.04</td>\n",
       "      <td>2010</td>\n",
       "    </tr>\n",
       "    <tr>\n",
       "      <th>4</th>\n",
       "      <td>What Happens in Vegas</td>\n",
       "      <td>Comedy</td>\n",
       "      <td>Fox</td>\n",
       "      <td>72</td>\n",
       "      <td>6.267647</td>\n",
       "      <td>28</td>\n",
       "      <td>$219.37</td>\n",
       "      <td>2008</td>\n",
       "    </tr>\n",
       "  </tbody>\n",
       "</table>\n",
       "</div>"
      ],
      "text/plain": [
       "                                 Film    Genre            Lead Studio  \\\n",
       "0          Zack and Miri Make a Porno  Romance  The Weinstein Company   \n",
       "1                     Youth in Revolt   Comedy  The Weinstein Company   \n",
       "2  You Will Meet a Tall Dark Stranger   Comedy            Independent   \n",
       "3                        When in Rome   Comedy                 Disney   \n",
       "4               What Happens in Vegas   Comedy                    Fox   \n",
       "\n",
       "   Audience score %  Profitability  Rotten Tomatoes % Worldwide Gross  Year  \n",
       "0                70       1.747542                 64         $41.94   2008  \n",
       "1                52       1.090000                 68         $19.62   2010  \n",
       "2                35       1.211818                 43         $26.66   2010  \n",
       "3                44       0.000000                 15         $43.04   2010  \n",
       "4                72       6.267647                 28        $219.37   2008  "
      ]
     },
     "execution_count": 250,
     "metadata": {},
     "output_type": "execute_result"
    }
   ],
   "source": [
    "movies_del = pd.read_csv('data/movies.csv')\n",
    "movies_del.head()"
   ]
  },
  {
   "cell_type": "markdown",
   "id": "f2f911cf-7310-4b27-8d27-c92b956436d4",
   "metadata": {},
   "source": [
    "## 열 삭제"
   ]
  },
  {
   "cell_type": "markdown",
   "id": "03b70350-3cc9-4132-9f41-405097efc2e7",
   "metadata": {},
   "source": [
    "* 삭제방법1 (axis 인자 활용)"
   ]
  },
  {
   "cell_type": "code",
   "execution_count": 254,
   "id": "f865ccc5-2084-495a-854b-b12be62babf3",
   "metadata": {},
   "outputs": [
    {
     "data": {
      "text/html": [
       "<div>\n",
       "<style scoped>\n",
       "    .dataframe tbody tr th:only-of-type {\n",
       "        vertical-align: middle;\n",
       "    }\n",
       "\n",
       "    .dataframe tbody tr th {\n",
       "        vertical-align: top;\n",
       "    }\n",
       "\n",
       "    .dataframe thead th {\n",
       "        text-align: right;\n",
       "    }\n",
       "</style>\n",
       "<table border=\"1\" class=\"dataframe\">\n",
       "  <thead>\n",
       "    <tr style=\"text-align: right;\">\n",
       "      <th></th>\n",
       "      <th>Film</th>\n",
       "      <th>Genre</th>\n",
       "      <th>Lead Studio</th>\n",
       "      <th>Audience score %</th>\n",
       "      <th>Profitability</th>\n",
       "      <th>Worldwide Gross</th>\n",
       "      <th>Year</th>\n",
       "    </tr>\n",
       "  </thead>\n",
       "  <tbody>\n",
       "    <tr>\n",
       "      <th>0</th>\n",
       "      <td>Zack and Miri Make a Porno</td>\n",
       "      <td>Romance</td>\n",
       "      <td>The Weinstein Company</td>\n",
       "      <td>70</td>\n",
       "      <td>1.747542</td>\n",
       "      <td>$41.94</td>\n",
       "      <td>2008</td>\n",
       "    </tr>\n",
       "  </tbody>\n",
       "</table>\n",
       "</div>"
      ],
      "text/plain": [
       "                         Film    Genre            Lead Studio  \\\n",
       "0  Zack and Miri Make a Porno  Romance  The Weinstein Company   \n",
       "\n",
       "   Audience score %  Profitability Worldwide Gross  Year  \n",
       "0                70       1.747542         $41.94   2008  "
      ]
     },
     "execution_count": 254,
     "metadata": {},
     "output_type": "execute_result"
    }
   ],
   "source": [
    "movies_del.drop('Rotten Tomatoes %', axis=1).head(1)"
   ]
  },
  {
   "cell_type": "code",
   "execution_count": 252,
   "id": "c81aabf1-bfa4-4f79-8437-e168f542ce9f",
   "metadata": {},
   "outputs": [
    {
     "data": {
      "text/html": [
       "<div>\n",
       "<style scoped>\n",
       "    .dataframe tbody tr th:only-of-type {\n",
       "        vertical-align: middle;\n",
       "    }\n",
       "\n",
       "    .dataframe tbody tr th {\n",
       "        vertical-align: top;\n",
       "    }\n",
       "\n",
       "    .dataframe thead th {\n",
       "        text-align: right;\n",
       "    }\n",
       "</style>\n",
       "<table border=\"1\" class=\"dataframe\">\n",
       "  <thead>\n",
       "    <tr style=\"text-align: right;\">\n",
       "      <th></th>\n",
       "      <th>Film</th>\n",
       "      <th>Genre</th>\n",
       "      <th>Lead Studio</th>\n",
       "      <th>Audience score %</th>\n",
       "      <th>Profitability</th>\n",
       "      <th>Rotten Tomatoes %</th>\n",
       "      <th>Worldwide Gross</th>\n",
       "      <th>Year</th>\n",
       "    </tr>\n",
       "  </thead>\n",
       "  <tbody>\n",
       "    <tr>\n",
       "      <th>0</th>\n",
       "      <td>Zack and Miri Make a Porno</td>\n",
       "      <td>Romance</td>\n",
       "      <td>The Weinstein Company</td>\n",
       "      <td>70</td>\n",
       "      <td>1.747542</td>\n",
       "      <td>64</td>\n",
       "      <td>$41.94</td>\n",
       "      <td>2008</td>\n",
       "    </tr>\n",
       "  </tbody>\n",
       "</table>\n",
       "</div>"
      ],
      "text/plain": [
       "                         Film    Genre            Lead Studio  \\\n",
       "0  Zack and Miri Make a Porno  Romance  The Weinstein Company   \n",
       "\n",
       "   Audience score %  Profitability  Rotten Tomatoes % Worldwide Gross  Year  \n",
       "0                70       1.747542                 64         $41.94   2008  "
      ]
     },
     "execution_count": 252,
     "metadata": {},
     "output_type": "execute_result"
    }
   ],
   "source": [
    "movies_del.head(1)"
   ]
  },
  {
   "cell_type": "markdown",
   "id": "0e22818c-f8ba-4733-b2ca-2d737f8374cc",
   "metadata": {},
   "source": [
    "* 삭제방법2 (columns 인자 활용)"
   ]
  },
  {
   "cell_type": "code",
   "execution_count": 253,
   "id": "e919e184-ef21-4be9-a71b-c036c200bbf7",
   "metadata": {},
   "outputs": [
    {
     "data": {
      "text/html": [
       "<div>\n",
       "<style scoped>\n",
       "    .dataframe tbody tr th:only-of-type {\n",
       "        vertical-align: middle;\n",
       "    }\n",
       "\n",
       "    .dataframe tbody tr th {\n",
       "        vertical-align: top;\n",
       "    }\n",
       "\n",
       "    .dataframe thead th {\n",
       "        text-align: right;\n",
       "    }\n",
       "</style>\n",
       "<table border=\"1\" class=\"dataframe\">\n",
       "  <thead>\n",
       "    <tr style=\"text-align: right;\">\n",
       "      <th></th>\n",
       "      <th>Film</th>\n",
       "      <th>Genre</th>\n",
       "      <th>Lead Studio</th>\n",
       "      <th>Audience score %</th>\n",
       "      <th>Profitability</th>\n",
       "      <th>Worldwide Gross</th>\n",
       "      <th>Year</th>\n",
       "    </tr>\n",
       "  </thead>\n",
       "  <tbody>\n",
       "    <tr>\n",
       "      <th>0</th>\n",
       "      <td>Zack and Miri Make a Porno</td>\n",
       "      <td>Romance</td>\n",
       "      <td>The Weinstein Company</td>\n",
       "      <td>70</td>\n",
       "      <td>1.747542</td>\n",
       "      <td>$41.94</td>\n",
       "      <td>2008</td>\n",
       "    </tr>\n",
       "  </tbody>\n",
       "</table>\n",
       "</div>"
      ],
      "text/plain": [
       "                         Film    Genre            Lead Studio  \\\n",
       "0  Zack and Miri Make a Porno  Romance  The Weinstein Company   \n",
       "\n",
       "   Audience score %  Profitability Worldwide Gross  Year  \n",
       "0                70       1.747542         $41.94   2008  "
      ]
     },
     "execution_count": 253,
     "metadata": {},
     "output_type": "execute_result"
    }
   ],
   "source": [
    "movies_del.drop(columns = ['Rotten Tomatoes %']).head(1)"
   ]
  },
  {
   "cell_type": "markdown",
   "id": "d1d1b88c-4f21-40db-8ea5-4221146bad37",
   "metadata": {},
   "source": [
    "* 삭제본 만드는 법: copy본 만들기"
   ]
  },
  {
   "cell_type": "code",
   "execution_count": 265,
   "id": "90ba9f09-80ed-49f0-8bf6-84638654cad1",
   "metadata": {},
   "outputs": [
    {
     "data": {
      "text/html": [
       "<div>\n",
       "<style scoped>\n",
       "    .dataframe tbody tr th:only-of-type {\n",
       "        vertical-align: middle;\n",
       "    }\n",
       "\n",
       "    .dataframe tbody tr th {\n",
       "        vertical-align: top;\n",
       "    }\n",
       "\n",
       "    .dataframe thead th {\n",
       "        text-align: right;\n",
       "    }\n",
       "</style>\n",
       "<table border=\"1\" class=\"dataframe\">\n",
       "  <thead>\n",
       "    <tr style=\"text-align: right;\">\n",
       "      <th></th>\n",
       "      <th>Film</th>\n",
       "      <th>Genre</th>\n",
       "      <th>Lead Studio</th>\n",
       "      <th>Audience score %</th>\n",
       "      <th>Profitability</th>\n",
       "      <th>Worldwide Gross</th>\n",
       "      <th>Year</th>\n",
       "    </tr>\n",
       "  </thead>\n",
       "  <tbody>\n",
       "    <tr>\n",
       "      <th>0</th>\n",
       "      <td>Zack and Miri Make a Porno</td>\n",
       "      <td>Romance</td>\n",
       "      <td>The Weinstein Company</td>\n",
       "      <td>70</td>\n",
       "      <td>1.747542</td>\n",
       "      <td>$41.94</td>\n",
       "      <td>2008</td>\n",
       "    </tr>\n",
       "  </tbody>\n",
       "</table>\n",
       "</div>"
      ],
      "text/plain": [
       "                         Film    Genre            Lead Studio  \\\n",
       "0  Zack and Miri Make a Porno  Romance  The Weinstein Company   \n",
       "\n",
       "   Audience score %  Profitability Worldwide Gross  Year  \n",
       "0                70       1.747542         $41.94   2008  "
      ]
     },
     "execution_count": 265,
     "metadata": {},
     "output_type": "execute_result"
    }
   ],
   "source": [
    "movies_del_copy = movies_del.drop(columns = ['Rotten Tomatoes %'])\n",
    "movies_del_copy.head(1)"
   ]
  },
  {
   "cell_type": "markdown",
   "id": "c7147548-1303-4f96-9dc1-e182624b7a2b",
   "metadata": {},
   "source": [
    "* 삭제본 만드는 법: 자기 자신 변경"
   ]
  },
  {
   "cell_type": "code",
   "execution_count": 273,
   "id": "ce403caf-36ba-48fa-8136-f3031346950f",
   "metadata": {},
   "outputs": [
    {
     "name": "stdout",
     "output_type": "stream",
     "text": [
      "해당열이 존재하지 않아 삭제할 수 없습니다.\n"
     ]
    },
    {
     "data": {
      "text/html": [
       "<div>\n",
       "<style scoped>\n",
       "    .dataframe tbody tr th:only-of-type {\n",
       "        vertical-align: middle;\n",
       "    }\n",
       "\n",
       "    .dataframe tbody tr th {\n",
       "        vertical-align: top;\n",
       "    }\n",
       "\n",
       "    .dataframe thead th {\n",
       "        text-align: right;\n",
       "    }\n",
       "</style>\n",
       "<table border=\"1\" class=\"dataframe\">\n",
       "  <thead>\n",
       "    <tr style=\"text-align: right;\">\n",
       "      <th></th>\n",
       "      <th>Film</th>\n",
       "      <th>Genre</th>\n",
       "      <th>Lead Studio</th>\n",
       "      <th>Audience score %</th>\n",
       "      <th>Profitability</th>\n",
       "      <th>Worldwide Gross</th>\n",
       "      <th>Year</th>\n",
       "    </tr>\n",
       "  </thead>\n",
       "  <tbody>\n",
       "    <tr>\n",
       "      <th>0</th>\n",
       "      <td>Zack and Miri Make a Porno</td>\n",
       "      <td>Romance</td>\n",
       "      <td>The Weinstein Company</td>\n",
       "      <td>70</td>\n",
       "      <td>1.747542</td>\n",
       "      <td>$41.94</td>\n",
       "      <td>2008</td>\n",
       "    </tr>\n",
       "  </tbody>\n",
       "</table>\n",
       "</div>"
      ],
      "text/plain": [
       "                         Film    Genre            Lead Studio  \\\n",
       "0  Zack and Miri Make a Porno  Romance  The Weinstein Company   \n",
       "\n",
       "   Audience score %  Profitability Worldwide Gross  Year  \n",
       "0                70       1.747542         $41.94   2008  "
      ]
     },
     "execution_count": 273,
     "metadata": {},
     "output_type": "execute_result"
    }
   ],
   "source": [
    "try:\n",
    "    movies_del.drop(columns = ['Rotten Tomatoes %'], inplace=True)\n",
    "except:\n",
    "    print(\"해당열이 존재하지 않아 삭제할 수 없습니다.\")\n",
    "movies_del.head(1)"
   ]
  },
  {
   "cell_type": "markdown",
   "id": "057e1efc-708a-4d18-a4e5-9e2160be292f",
   "metadata": {},
   "source": [
    "### 행삭제"
   ]
  },
  {
   "cell_type": "markdown",
   "id": "efa19893-8b3a-470e-9f6c-47117a8ebfe3",
   "metadata": {},
   "source": [
    "* 행인덱스 2,3,4의 멀티행 삭제"
   ]
  },
  {
   "cell_type": "markdown",
   "id": "24e93b20-05c4-40a0-afb3-0dbca0746f48",
   "metadata": {},
   "source": [
    "* 방법1: index인자 활용"
   ]
  },
  {
   "cell_type": "code",
   "execution_count": 279,
   "id": "498a830f-b974-4405-9af7-f900d8caa38f",
   "metadata": {},
   "outputs": [
    {
     "data": {
      "text/html": [
       "<div>\n",
       "<style scoped>\n",
       "    .dataframe tbody tr th:only-of-type {\n",
       "        vertical-align: middle;\n",
       "    }\n",
       "\n",
       "    .dataframe tbody tr th {\n",
       "        vertical-align: top;\n",
       "    }\n",
       "\n",
       "    .dataframe thead th {\n",
       "        text-align: right;\n",
       "    }\n",
       "</style>\n",
       "<table border=\"1\" class=\"dataframe\">\n",
       "  <thead>\n",
       "    <tr style=\"text-align: right;\">\n",
       "      <th></th>\n",
       "      <th>Film</th>\n",
       "      <th>Genre</th>\n",
       "      <th>Lead Studio</th>\n",
       "      <th>Audience score %</th>\n",
       "      <th>Profitability</th>\n",
       "      <th>Worldwide Gross</th>\n",
       "      <th>Year</th>\n",
       "    </tr>\n",
       "  </thead>\n",
       "  <tbody>\n",
       "    <tr>\n",
       "      <th>0</th>\n",
       "      <td>Zack and Miri Make a Porno</td>\n",
       "      <td>Romance</td>\n",
       "      <td>The Weinstein Company</td>\n",
       "      <td>70</td>\n",
       "      <td>1.747542</td>\n",
       "      <td>$41.94</td>\n",
       "      <td>2008</td>\n",
       "    </tr>\n",
       "    <tr>\n",
       "      <th>1</th>\n",
       "      <td>Youth in Revolt</td>\n",
       "      <td>Comedy</td>\n",
       "      <td>The Weinstein Company</td>\n",
       "      <td>52</td>\n",
       "      <td>1.090000</td>\n",
       "      <td>$19.62</td>\n",
       "      <td>2010</td>\n",
       "    </tr>\n",
       "    <tr>\n",
       "      <th>5</th>\n",
       "      <td>Water For Elephants</td>\n",
       "      <td>Drama</td>\n",
       "      <td>20th Century Fox</td>\n",
       "      <td>72</td>\n",
       "      <td>3.081421</td>\n",
       "      <td>$117.09</td>\n",
       "      <td>2011</td>\n",
       "    </tr>\n",
       "    <tr>\n",
       "      <th>6</th>\n",
       "      <td>WALL-E</td>\n",
       "      <td>Animation</td>\n",
       "      <td>Disney</td>\n",
       "      <td>89</td>\n",
       "      <td>2.896019</td>\n",
       "      <td>$521.28</td>\n",
       "      <td>2008</td>\n",
       "    </tr>\n",
       "    <tr>\n",
       "      <th>7</th>\n",
       "      <td>Waitress</td>\n",
       "      <td>Romance</td>\n",
       "      <td>Independent</td>\n",
       "      <td>67</td>\n",
       "      <td>11.089742</td>\n",
       "      <td>$22.18</td>\n",
       "      <td>2007</td>\n",
       "    </tr>\n",
       "  </tbody>\n",
       "</table>\n",
       "</div>"
      ],
      "text/plain": [
       "                         Film      Genre            Lead Studio  \\\n",
       "0  Zack and Miri Make a Porno    Romance  The Weinstein Company   \n",
       "1             Youth in Revolt     Comedy  The Weinstein Company   \n",
       "5         Water For Elephants      Drama       20th Century Fox   \n",
       "6                      WALL-E  Animation                 Disney   \n",
       "7                    Waitress    Romance            Independent   \n",
       "\n",
       "   Audience score %  Profitability Worldwide Gross  Year  \n",
       "0                70       1.747542         $41.94   2008  \n",
       "1                52       1.090000         $19.62   2010  \n",
       "5                72       3.081421        $117.09   2011  \n",
       "6                89       2.896019        $521.28   2008  \n",
       "7                67      11.089742         $22.18   2007  "
      ]
     },
     "execution_count": 279,
     "metadata": {},
     "output_type": "execute_result"
    }
   ],
   "source": [
    "movies_del.drop(index = [2,3,4]).head()"
   ]
  },
  {
   "cell_type": "markdown",
   "id": "91352cb1-a042-460a-9e5a-ffc25d4496ed",
   "metadata": {},
   "source": [
    "* 방법2: axis 인자 활용"
   ]
  },
  {
   "cell_type": "code",
   "execution_count": 277,
   "id": "3b705352-f9a7-4c47-bf44-b535e01f6845",
   "metadata": {},
   "outputs": [
    {
     "data": {
      "text/html": [
       "<div>\n",
       "<style scoped>\n",
       "    .dataframe tbody tr th:only-of-type {\n",
       "        vertical-align: middle;\n",
       "    }\n",
       "\n",
       "    .dataframe tbody tr th {\n",
       "        vertical-align: top;\n",
       "    }\n",
       "\n",
       "    .dataframe thead th {\n",
       "        text-align: right;\n",
       "    }\n",
       "</style>\n",
       "<table border=\"1\" class=\"dataframe\">\n",
       "  <thead>\n",
       "    <tr style=\"text-align: right;\">\n",
       "      <th></th>\n",
       "      <th>Film</th>\n",
       "      <th>Genre</th>\n",
       "      <th>Lead Studio</th>\n",
       "      <th>Audience score %</th>\n",
       "      <th>Profitability</th>\n",
       "      <th>Worldwide Gross</th>\n",
       "      <th>Year</th>\n",
       "    </tr>\n",
       "  </thead>\n",
       "  <tbody>\n",
       "    <tr>\n",
       "      <th>0</th>\n",
       "      <td>Zack and Miri Make a Porno</td>\n",
       "      <td>Romance</td>\n",
       "      <td>The Weinstein Company</td>\n",
       "      <td>70</td>\n",
       "      <td>1.747542</td>\n",
       "      <td>$41.94</td>\n",
       "      <td>2008</td>\n",
       "    </tr>\n",
       "    <tr>\n",
       "      <th>1</th>\n",
       "      <td>Youth in Revolt</td>\n",
       "      <td>Comedy</td>\n",
       "      <td>The Weinstein Company</td>\n",
       "      <td>52</td>\n",
       "      <td>1.090000</td>\n",
       "      <td>$19.62</td>\n",
       "      <td>2010</td>\n",
       "    </tr>\n",
       "    <tr>\n",
       "      <th>5</th>\n",
       "      <td>Water For Elephants</td>\n",
       "      <td>Drama</td>\n",
       "      <td>20th Century Fox</td>\n",
       "      <td>72</td>\n",
       "      <td>3.081421</td>\n",
       "      <td>$117.09</td>\n",
       "      <td>2011</td>\n",
       "    </tr>\n",
       "    <tr>\n",
       "      <th>6</th>\n",
       "      <td>WALL-E</td>\n",
       "      <td>Animation</td>\n",
       "      <td>Disney</td>\n",
       "      <td>89</td>\n",
       "      <td>2.896019</td>\n",
       "      <td>$521.28</td>\n",
       "      <td>2008</td>\n",
       "    </tr>\n",
       "    <tr>\n",
       "      <th>7</th>\n",
       "      <td>Waitress</td>\n",
       "      <td>Romance</td>\n",
       "      <td>Independent</td>\n",
       "      <td>67</td>\n",
       "      <td>11.089742</td>\n",
       "      <td>$22.18</td>\n",
       "      <td>2007</td>\n",
       "    </tr>\n",
       "  </tbody>\n",
       "</table>\n",
       "</div>"
      ],
      "text/plain": [
       "                         Film      Genre            Lead Studio  \\\n",
       "0  Zack and Miri Make a Porno    Romance  The Weinstein Company   \n",
       "1             Youth in Revolt     Comedy  The Weinstein Company   \n",
       "5         Water For Elephants      Drama       20th Century Fox   \n",
       "6                      WALL-E  Animation                 Disney   \n",
       "7                    Waitress    Romance            Independent   \n",
       "\n",
       "   Audience score %  Profitability Worldwide Gross  Year  \n",
       "0                70       1.747542         $41.94   2008  \n",
       "1                52       1.090000         $19.62   2010  \n",
       "5                72       3.081421        $117.09   2011  \n",
       "6                89       2.896019        $521.28   2008  \n",
       "7                67      11.089742         $22.18   2007  "
      ]
     },
     "execution_count": 277,
     "metadata": {},
     "output_type": "execute_result"
    }
   ],
   "source": [
    "movies_del.drop([2,3,4], axis=0).head()"
   ]
  },
  {
   "cell_type": "markdown",
   "id": "fb9578fe-3cc0-4584-95d9-40443b204958",
   "metadata": {},
   "source": [
    "* 슬라이스 적용  \n",
    "행인덱스 10~20행 데이터 삭제"
   ]
  },
  {
   "cell_type": "code",
   "execution_count": 278,
   "id": "d414bdd9-cd2c-4ee1-948d-331a036d60cb",
   "metadata": {},
   "outputs": [
    {
     "data": {
      "text/html": [
       "<div>\n",
       "<style scoped>\n",
       "    .dataframe tbody tr th:only-of-type {\n",
       "        vertical-align: middle;\n",
       "    }\n",
       "\n",
       "    .dataframe tbody tr th {\n",
       "        vertical-align: top;\n",
       "    }\n",
       "\n",
       "    .dataframe thead th {\n",
       "        text-align: right;\n",
       "    }\n",
       "</style>\n",
       "<table border=\"1\" class=\"dataframe\">\n",
       "  <thead>\n",
       "    <tr style=\"text-align: right;\">\n",
       "      <th></th>\n",
       "      <th>Film</th>\n",
       "      <th>Genre</th>\n",
       "      <th>Lead Studio</th>\n",
       "      <th>Audience score %</th>\n",
       "      <th>Profitability</th>\n",
       "      <th>Worldwide Gross</th>\n",
       "      <th>Year</th>\n",
       "    </tr>\n",
       "  </thead>\n",
       "  <tbody>\n",
       "    <tr>\n",
       "      <th>0</th>\n",
       "      <td>Zack and Miri Make a Porno</td>\n",
       "      <td>Romance</td>\n",
       "      <td>The Weinstein Company</td>\n",
       "      <td>70</td>\n",
       "      <td>1.747542</td>\n",
       "      <td>$41.94</td>\n",
       "      <td>2008</td>\n",
       "    </tr>\n",
       "    <tr>\n",
       "      <th>1</th>\n",
       "      <td>Youth in Revolt</td>\n",
       "      <td>Comedy</td>\n",
       "      <td>The Weinstein Company</td>\n",
       "      <td>52</td>\n",
       "      <td>1.090000</td>\n",
       "      <td>$19.62</td>\n",
       "      <td>2010</td>\n",
       "    </tr>\n",
       "    <tr>\n",
       "      <th>2</th>\n",
       "      <td>You Will Meet a Tall Dark Stranger</td>\n",
       "      <td>Comedy</td>\n",
       "      <td>Independent</td>\n",
       "      <td>35</td>\n",
       "      <td>1.211818</td>\n",
       "      <td>$26.66</td>\n",
       "      <td>2010</td>\n",
       "    </tr>\n",
       "    <tr>\n",
       "      <th>3</th>\n",
       "      <td>When in Rome</td>\n",
       "      <td>Comedy</td>\n",
       "      <td>Disney</td>\n",
       "      <td>44</td>\n",
       "      <td>0.000000</td>\n",
       "      <td>$43.04</td>\n",
       "      <td>2010</td>\n",
       "    </tr>\n",
       "    <tr>\n",
       "      <th>4</th>\n",
       "      <td>What Happens in Vegas</td>\n",
       "      <td>Comedy</td>\n",
       "      <td>Fox</td>\n",
       "      <td>72</td>\n",
       "      <td>6.267647</td>\n",
       "      <td>$219.37</td>\n",
       "      <td>2008</td>\n",
       "    </tr>\n",
       "    <tr>\n",
       "      <th>5</th>\n",
       "      <td>Water For Elephants</td>\n",
       "      <td>Drama</td>\n",
       "      <td>20th Century Fox</td>\n",
       "      <td>72</td>\n",
       "      <td>3.081421</td>\n",
       "      <td>$117.09</td>\n",
       "      <td>2011</td>\n",
       "    </tr>\n",
       "    <tr>\n",
       "      <th>6</th>\n",
       "      <td>WALL-E</td>\n",
       "      <td>Animation</td>\n",
       "      <td>Disney</td>\n",
       "      <td>89</td>\n",
       "      <td>2.896019</td>\n",
       "      <td>$521.28</td>\n",
       "      <td>2008</td>\n",
       "    </tr>\n",
       "    <tr>\n",
       "      <th>7</th>\n",
       "      <td>Waitress</td>\n",
       "      <td>Romance</td>\n",
       "      <td>Independent</td>\n",
       "      <td>67</td>\n",
       "      <td>11.089742</td>\n",
       "      <td>$22.18</td>\n",
       "      <td>2007</td>\n",
       "    </tr>\n",
       "    <tr>\n",
       "      <th>8</th>\n",
       "      <td>Waiting For Forever</td>\n",
       "      <td>Romance</td>\n",
       "      <td>Independent</td>\n",
       "      <td>53</td>\n",
       "      <td>0.005000</td>\n",
       "      <td>$0.03</td>\n",
       "      <td>2011</td>\n",
       "    </tr>\n",
       "    <tr>\n",
       "      <th>9</th>\n",
       "      <td>Valentine's Day</td>\n",
       "      <td>Comedy</td>\n",
       "      <td>Warner Bros.</td>\n",
       "      <td>54</td>\n",
       "      <td>4.184038</td>\n",
       "      <td>$217.57</td>\n",
       "      <td>2010</td>\n",
       "    </tr>\n",
       "    <tr>\n",
       "      <th>20</th>\n",
       "      <td>The Curious Case of Benjamin Button</td>\n",
       "      <td>Fantasy</td>\n",
       "      <td>Warner Bros.</td>\n",
       "      <td>81</td>\n",
       "      <td>1.783944</td>\n",
       "      <td>$285.43</td>\n",
       "      <td>2008</td>\n",
       "    </tr>\n",
       "    <tr>\n",
       "      <th>21</th>\n",
       "      <td>The Back-up Plan</td>\n",
       "      <td>Comedy</td>\n",
       "      <td>CBS</td>\n",
       "      <td>47</td>\n",
       "      <td>2.202571</td>\n",
       "      <td>$77.09</td>\n",
       "      <td>2010</td>\n",
       "    </tr>\n",
       "    <tr>\n",
       "      <th>22</th>\n",
       "      <td>Tangled</td>\n",
       "      <td>Animation</td>\n",
       "      <td>Disney</td>\n",
       "      <td>88</td>\n",
       "      <td>1.365692</td>\n",
       "      <td>$355.01</td>\n",
       "      <td>2010</td>\n",
       "    </tr>\n",
       "    <tr>\n",
       "      <th>23</th>\n",
       "      <td>Something Borrowed</td>\n",
       "      <td>Romance</td>\n",
       "      <td>Independent</td>\n",
       "      <td>48</td>\n",
       "      <td>1.719514</td>\n",
       "      <td>$60.18</td>\n",
       "      <td>2011</td>\n",
       "    </tr>\n",
       "    <tr>\n",
       "      <th>24</th>\n",
       "      <td>She's Out of My League</td>\n",
       "      <td>Comedy</td>\n",
       "      <td>Paramount</td>\n",
       "      <td>60</td>\n",
       "      <td>2.440500</td>\n",
       "      <td>$48.81</td>\n",
       "      <td>2010</td>\n",
       "    </tr>\n",
       "    <tr>\n",
       "      <th>25</th>\n",
       "      <td>Sex and the City Two</td>\n",
       "      <td>Comedy</td>\n",
       "      <td>Warner Bros.</td>\n",
       "      <td>49</td>\n",
       "      <td>2.883500</td>\n",
       "      <td>$288.35</td>\n",
       "      <td>2010</td>\n",
       "    </tr>\n",
       "    <tr>\n",
       "      <th>26</th>\n",
       "      <td>Sex and the City 2</td>\n",
       "      <td>Comedy</td>\n",
       "      <td>Warner Bros.</td>\n",
       "      <td>49</td>\n",
       "      <td>2.883500</td>\n",
       "      <td>$288.35</td>\n",
       "      <td>2010</td>\n",
       "    </tr>\n",
       "    <tr>\n",
       "      <th>27</th>\n",
       "      <td>Sex and the City</td>\n",
       "      <td>Comedy</td>\n",
       "      <td>Warner Bros.</td>\n",
       "      <td>81</td>\n",
       "      <td>7.221796</td>\n",
       "      <td>$415.25</td>\n",
       "      <td>2008</td>\n",
       "    </tr>\n",
       "    <tr>\n",
       "      <th>28</th>\n",
       "      <td>Remember Me</td>\n",
       "      <td>Drama</td>\n",
       "      <td>Summit</td>\n",
       "      <td>70</td>\n",
       "      <td>3.491250</td>\n",
       "      <td>$55.86</td>\n",
       "      <td>2010</td>\n",
       "    </tr>\n",
       "    <tr>\n",
       "      <th>29</th>\n",
       "      <td>Rachel Getting Married</td>\n",
       "      <td>Drama</td>\n",
       "      <td>Independent</td>\n",
       "      <td>61</td>\n",
       "      <td>1.384167</td>\n",
       "      <td>$16.61</td>\n",
       "      <td>2008</td>\n",
       "    </tr>\n",
       "  </tbody>\n",
       "</table>\n",
       "</div>"
      ],
      "text/plain": [
       "                                   Film      Genre            Lead Studio  \\\n",
       "0            Zack and Miri Make a Porno    Romance  The Weinstein Company   \n",
       "1                       Youth in Revolt     Comedy  The Weinstein Company   \n",
       "2    You Will Meet a Tall Dark Stranger     Comedy            Independent   \n",
       "3                          When in Rome     Comedy                 Disney   \n",
       "4                 What Happens in Vegas     Comedy                    Fox   \n",
       "5                   Water For Elephants      Drama       20th Century Fox   \n",
       "6                                WALL-E  Animation                 Disney   \n",
       "7                              Waitress    Romance            Independent   \n",
       "8                   Waiting For Forever    Romance            Independent   \n",
       "9                       Valentine's Day     Comedy           Warner Bros.   \n",
       "20  The Curious Case of Benjamin Button    Fantasy           Warner Bros.   \n",
       "21                     The Back-up Plan     Comedy                    CBS   \n",
       "22                              Tangled  Animation                 Disney   \n",
       "23                   Something Borrowed    Romance            Independent   \n",
       "24               She's Out of My League     Comedy              Paramount   \n",
       "25                 Sex and the City Two     Comedy           Warner Bros.   \n",
       "26                   Sex and the City 2     Comedy           Warner Bros.   \n",
       "27                     Sex and the City     Comedy           Warner Bros.   \n",
       "28                          Remember Me      Drama                 Summit   \n",
       "29               Rachel Getting Married      Drama            Independent   \n",
       "\n",
       "    Audience score %  Profitability Worldwide Gross  Year  \n",
       "0                 70       1.747542         $41.94   2008  \n",
       "1                 52       1.090000         $19.62   2010  \n",
       "2                 35       1.211818         $26.66   2010  \n",
       "3                 44       0.000000         $43.04   2010  \n",
       "4                 72       6.267647        $219.37   2008  \n",
       "5                 72       3.081421        $117.09   2011  \n",
       "6                 89       2.896019        $521.28   2008  \n",
       "7                 67      11.089742         $22.18   2007  \n",
       "8                 53       0.005000          $0.03   2011  \n",
       "9                 54       4.184038        $217.57   2010  \n",
       "20                81       1.783944        $285.43   2008  \n",
       "21                47       2.202571         $77.09   2010  \n",
       "22                88       1.365692        $355.01   2010  \n",
       "23                48       1.719514         $60.18   2011  \n",
       "24                60       2.440500         $48.81   2010  \n",
       "25                49       2.883500        $288.35   2010  \n",
       "26                49       2.883500        $288.35   2010  \n",
       "27                81       7.221796        $415.25   2008  \n",
       "28                70       3.491250         $55.86   2010  \n",
       "29                61       1.384167         $16.61   2008  "
      ]
     },
     "execution_count": 278,
     "metadata": {},
     "output_type": "execute_result"
    }
   ],
   "source": [
    "movies_del.drop(index=movies.index[10:20], axis=0).head(20)"
   ]
  },
  {
   "cell_type": "code",
   "execution_count": null,
   "id": "6983d84d-734c-4ed5-82a8-0aeb391afa42",
   "metadata": {},
   "outputs": [],
   "source": []
  }
 ],
 "metadata": {
  "kernelspec": {
   "display_name": "Python [conda env:base] *",
   "language": "python",
   "name": "conda-base-py"
  },
  "language_info": {
   "codemirror_mode": {
    "name": "ipython",
    "version": 3
   },
   "file_extension": ".py",
   "mimetype": "text/x-python",
   "name": "python",
   "nbconvert_exporter": "python",
   "pygments_lexer": "ipython3",
   "version": "3.13.5"
  }
 },
 "nbformat": 4,
 "nbformat_minor": 5
}
