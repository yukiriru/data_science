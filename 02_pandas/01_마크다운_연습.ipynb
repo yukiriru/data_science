{
 "cells": [
  {
   "cell_type": "markdown",
   "id": "0dafaad4-f55d-4a96-ad2f-d234b0c336b3",
   "metadata": {},
   "source": [
    "# 제목크기 설정"
   ]
  },
  {
   "cell_type": "code",
   "execution_count": null,
   "id": "3fda018a-ae77-47a8-94ab-b40c4ddb7fc9",
   "metadata": {},
   "outputs": [],
   "source": [
    "# 첫 번째 큰 제목\n",
    "## 두 번째 큰 제목\n",
    "### 세 번째 큰 제목\n",
    "#### 네 번째 큰 제목\n",
    "##### 다섯 번째 큰 제목\n",
    "###### 여섯 번째 큰 제목"
   ]
  },
  {
   "cell_type": "markdown",
   "id": "ab1f0664-78fd-464d-87bf-94e04182bf96",
   "metadata": {},
   "source": [
    "# 첫 번째 큰 제목\n",
    "## 두 번째 큰 제목\n",
    "### 세 번째 큰 제목\n",
    "#### 네 번째 큰 제목\n",
    "##### 다섯 번째 큰 제목\n",
    "###### 여섯 번째 큰 제목"
   ]
  },
  {
   "cell_type": "markdown",
   "id": "0abf1113-b2f3-4087-b66b-ec9dad86b23b",
   "metadata": {
    "jp-MarkdownHeadingCollapsed": true
   },
   "source": [
    "# 단축키 (1~6)으로 크기 변경"
   ]
  },
  {
   "cell_type": "markdown",
   "id": "7fed3e0e-eaf1-4bfb-8223-6e8e448eb23e",
   "metadata": {},
   "source": [
    "이 문장의 크기를 단축키로 바꿔보세요"
   ]
  },
  {
   "cell_type": "markdown",
   "id": "716d7aa0-7228-423c-bd9f-8cede03de6c9",
   "metadata": {},
   "source": [
    "# 줄 바꾸기"
   ]
  },
  {
   "cell_type": "raw",
   "id": "4edd6693-f388-4e25-bc1f-39f13036c508",
   "metadata": {},
   "source": [
    "각 줄마다 공백문자를 추가한다."
   ]
  },
  {
   "cell_type": "markdown",
   "id": "a57998bc-3fde-41f2-9b0c-c7b943ac7ffa",
   "metadata": {},
   "source": [
    "# 셀의 종류 1"
   ]
  },
  {
   "cell_type": "markdown",
   "id": "5548da6f-3909-43df-9a61-aff4252f603f",
   "metadata": {},
   "source": [
    "## Code 타입 셀"
   ]
  },
  {
   "cell_type": "code",
   "execution_count": 18,
   "id": "ecc1ad26-a3dd-4a24-88a4-e1ca882c35d0",
   "metadata": {},
   "outputs": [],
   "source": [
    "num1=1"
   ]
  },
  {
   "cell_type": "code",
   "execution_count": 19,
   "id": "ce6c752f-84b9-4365-9a3e-9890385905be",
   "metadata": {},
   "outputs": [
    {
     "name": "stdout",
     "output_type": "stream",
     "text": [
      "num1: 1\n"
     ]
    }
   ],
   "source": [
    "print(f'num1: {num1}')"
   ]
  },
  {
   "cell_type": "code",
   "execution_count": 20,
   "id": "60ecd392-4e6a-4754-9f8e-cf2b2a55f60a",
   "metadata": {},
   "outputs": [],
   "source": [
    "num2=2"
   ]
  },
  {
   "cell_type": "code",
   "execution_count": 21,
   "id": "31b61611-3639-4786-babf-79d7490f3679",
   "metadata": {},
   "outputs": [
    {
     "data": {
      "text/plain": [
       "2"
      ]
     },
     "execution_count": 21,
     "metadata": {},
     "output_type": "execute_result"
    }
   ],
   "source": [
    "num2"
   ]
  },
  {
   "cell_type": "code",
   "execution_count": 22,
   "id": "ea9a2db6-19f9-490b-aceb-041f0043b320",
   "metadata": {},
   "outputs": [
    {
     "data": {
      "text/plain": [
       "3"
      ]
     },
     "execution_count": 22,
     "metadata": {},
     "output_type": "execute_result"
    }
   ],
   "source": [
    "num1+num2"
   ]
  },
  {
   "cell_type": "markdown",
   "id": "3409d67d-d1f1-4b70-89cc-16ccaf5721cd",
   "metadata": {},
   "source": [
    "## Raw 타입 셀 "
   ]
  },
  {
   "cell_type": "raw",
   "id": "97409c0f-74d2-4034-a494-b96fcbda66d5",
   "metadata": {},
   "source": [
    "Raw 타입 셀은 텍스트를 그대로 인식한다"
   ]
  },
  {
   "cell_type": "markdown",
   "id": "7b25f5a2-4157-447a-8627-1a504c0129ea",
   "metadata": {},
   "source": [
    "## 수평선 그리는 양식 ***"
   ]
  },
  {
   "cell_type": "markdown",
   "id": "d00b0431-be5d-4bc1-ad8a-6cb52a929da0",
   "metadata": {},
   "source": [
    "***"
   ]
  },
  {
   "cell_type": "markdown",
   "id": "4fae8d97-d8a3-4ee9-8961-157f63d583cb",
   "metadata": {},
   "source": [
    "---"
   ]
  },
  {
   "cell_type": "markdown",
   "id": "412bf3a3-b077-41af-8a81-9d903e4e8bb7",
   "metadata": {},
   "source": [
    "## 마크다운 타입 셀"
   ]
  },
  {
   "cell_type": "code",
   "execution_count": null,
   "id": "f30ad02c-f904-4aca-a04d-1ee8166a091a",
   "metadata": {},
   "outputs": [],
   "source": []
  },
  {
   "cell_type": "code",
   "execution_count": null,
   "id": "50402172-b96d-42e7-a0e8-02b751735850",
   "metadata": {},
   "outputs": [],
   "source": []
  },
  {
   "cell_type": "code",
   "execution_count": null,
   "id": "f617ef1a-49ad-4c6d-bb6a-a7d505c8e5ea",
   "metadata": {},
   "outputs": [],
   "source": [
    "목록 불릿"
   ]
  },
  {
   "cell_type": "code",
   "execution_count": null,
   "id": "4e77263b-a4e3-41a0-8631-9a52069a5883",
   "metadata": {},
   "outputs": [],
   "source": []
  },
  {
   "cell_type": "raw",
   "id": "6ab80061-4b42-49ec-80a3-92c04be3dbde",
   "metadata": {},
   "source": [
    "+ 첫번째\n",
    "+ 두번째\n",
    "+ 세번째\n",
    "\n",
    "- 첫번째\n",
    "- 두번째\n",
    "- 세번째\n",
    "\n",
    "* 첫번째\n",
    "* 두번째\n",
    "* 세번째"
   ]
  },
  {
   "cell_type": "markdown",
   "id": "acfa3207-5f8b-4c58-836d-6ab469973866",
   "metadata": {},
   "source": [
    "## Depth 별 불릿 기호"
   ]
  },
  {
   "cell_type": "markdown",
   "id": "d37339b0-0ebc-4065-87ca-420bfb6bdd21",
   "metadata": {},
   "source": [
    "+ 첫번째\n",
    "    + 두번째\n",
    "        + 세번째\n",
    "\n",
    "- 첫번째  \n",
    "    - 두번째  \n",
    "        - 세번째  \n",
    "\n",
    "* 첫번째  \n",
    "    * 두번째\n",
    "        * 세번째  "
   ]
  },
  {
   "cell_type": "code",
   "execution_count": null,
   "id": "9a5f2a02-3c77-40c8-97ea-f8e99b3e9ca6",
   "metadata": {},
   "outputs": [],
   "source": []
  },
  {
   "cell_type": "markdown",
   "id": "e6a51d1f-8d71-42b3-8bd5-f9424609f418",
   "metadata": {},
   "source": [
    "## 하이퍼링크"
   ]
  },
  {
   "cell_type": "raw",
   "id": "0462aacb-4c63-46f3-919c-5fc2b550f3d7",
   "metadata": {},
   "source": [
    "[홈페이지이름](URL)\n",
    "예\n",
    "[네이버](http://www.naver.com)"
   ]
  },
  {
   "cell_type": "markdown",
   "id": "cf0f1acb-5920-4cbc-85d8-d228e06ff093",
   "metadata": {},
   "source": [
    "[네이버 예시](http://www.naver.com)"
   ]
  },
  {
   "cell_type": "markdown",
   "id": "5beabaef-ef2c-4092-9e64-d218286919bf",
   "metadata": {},
   "source": [
    "테이블"
   ]
  },
  {
   "cell_type": "raw",
   "id": "e5ba5356-00e9-49e4-9e27-88b9dda65ac3",
   "metadata": {},
   "source": [
    "|  이름  | 국어성적 | 영어성적 | 수학성적 |\n",
    "|-------|---------|---------|---------|\n",
    "| 홍길동 |    90    |  79     |    85   |\n",
    "| 이순신 |    90    |  79     |    85   |\n",
    "| 임꺽정 |    90    |  79     |    85   |"
   ]
  },
  {
   "cell_type": "markdown",
   "id": "e470205f-3d90-4f73-a28d-7fe689521d61",
   "metadata": {},
   "source": [
    "|  이름  | 국어성적 | 영어성적 | 수학성적 |\n",
    "|-------|---------|---------|---------|\n",
    "| 홍길동 |    90    |  79     |    85   |\n",
    "| 이순신 |    90    |  79     |    85   |\n",
    "| 임꺽정 |    90    |  79     |    85   |"
   ]
  },
  {
   "cell_type": "code",
   "execution_count": null,
   "id": "3dd24e40-2b69-4bde-a70e-6eadd2a0308d",
   "metadata": {},
   "outputs": [],
   "source": []
  },
  {
   "cell_type": "markdown",
   "id": "fde825ff-bf82-4876-a1b6-c9133e47e738",
   "metadata": {},
   "source": [
    "<span style=\"color:red\"> 빨간색 글씨 </span>\n",
    "<span style=\"color:blue\"> 파란색 글씨 </span>\n",
    "<span style=\"color:#F8766D\"> 색상코드의 글씨 </span>"
   ]
  },
  {
   "cell_type": "markdown",
   "id": "a2d48ea1-0cdc-4e5e-9fbc-43e6a232b5db",
   "metadata": {},
   "source": [
    "<table border=\"\">\n",
    "    <th>이름</th> <th> 나이</th>\n",
    "    <tr>\n",
    "        <td>서동준</td>\n",
    "        <td>27</td>\n",
    "    </tr>\n",
    "    <tr>\n",
    "        <td>남효정</td>\n",
    "        <td>28</td>\n",
    "    </tr>\n",
    "</table>"
   ]
  },
  {
   "cell_type": "code",
   "execution_count": null,
   "id": "7e439890-8f1b-456b-9b43-15a2b496aab0",
   "metadata": {},
   "outputs": [],
   "source": []
  },
  {
   "cell_type": "code",
   "execution_count": null,
   "id": "d59ef57c-eaa5-4e1b-97a4-55df1e7fb856",
   "metadata": {},
   "outputs": [],
   "source": []
  },
  {
   "cell_type": "code",
   "execution_count": null,
   "id": "6d9f8978-7aca-43ec-bfa9-b925e6084ef3",
   "metadata": {},
   "outputs": [],
   "source": []
  },
  {
   "cell_type": "code",
   "execution_count": null,
   "id": "77df700d-e67e-476f-8fa9-c38cf433fa91",
   "metadata": {},
   "outputs": [],
   "source": []
  },
  {
   "cell_type": "code",
   "execution_count": null,
   "id": "41edc09c-2141-41fa-a891-76f736cf1498",
   "metadata": {},
   "outputs": [],
   "source": []
  }
 ],
 "metadata": {
  "kernelspec": {
   "display_name": "Python [conda env:base] *",
   "language": "python",
   "name": "conda-base-py"
  },
  "language_info": {
   "codemirror_mode": {
    "name": "ipython",
    "version": 3
   },
   "file_extension": ".py",
   "mimetype": "text/x-python",
   "name": "python",
   "nbconvert_exporter": "python",
   "pygments_lexer": "ipython3",
   "version": "3.13.5"
  }
 },
 "nbformat": 4,
 "nbformat_minor": 5
}
