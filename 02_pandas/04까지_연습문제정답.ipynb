{
 "cells": [
  {
   "cell_type": "markdown",
   "id": "e4899ec2",
   "metadata": {},
   "source": [
    "# Pandas 연습문제 (8개)\n",
    "본 노트북은 Series와 DataFrame의 기초 문법(생성, 열 연산, 브로드캐스팅, 비교/불리언 마스크, 평균 계산 등)만으로 풀 수 있는 문제로 구성되어 있습니다.\n",
    "\n",
    "> 각 문제 아래에 정답 예시 코드가 포함되어 있습니다."
   ]
  },
  {
   "cell_type": "code",
   "execution_count": null,
   "id": "79dccc4f",
   "metadata": {},
   "outputs": [],
   "source": [
    "import pandas as pd"
   ]
  },
  {
   "cell_type": "markdown",
   "id": "6b993f18",
   "metadata": {},
   "source": [
    "## 문제 1: Series 생성\n",
    "값이 [10, 20, 30]인 시리즈 s1을 생성하고 출력하세요. (인덱스는 기본값 사용)"
   ]
  },
  {
   "cell_type": "code",
   "execution_count": null,
   "id": "4fe81911",
   "metadata": {},
   "outputs": [],
   "source": [
    "import pandas as pd\n",
    "s1 = pd.Series([10, 20, 30])\n",
    "s1"
   ]
  },
  {
   "cell_type": "markdown",
   "id": "3c25c17b",
   "metadata": {},
   "source": [
    "## 문제 2: Series 연산\n",
    "값이 [5, 15, 25]인 시리즈 s2를 생성하고, s1 + s2의 결과를 출력하세요."
   ]
  },
  {
   "cell_type": "code",
   "execution_count": null,
   "id": "17890d74",
   "metadata": {},
   "outputs": [],
   "source": [
    "import pandas as pd\n",
    "s1 = pd.Series([10, 20, 30])\n",
    "s2 = pd.Series([5, 15, 25])\n",
    "s1 + s2"
   ]
  },
  {
   "cell_type": "markdown",
   "id": "68b61869",
   "metadata": {},
   "source": [
    "## 문제 3: 브로드캐스팅\n",
    "시리즈 s1에 정수 10을 더한 결과를 출력하세요. (브로드캐스팅 활용)"
   ]
  },
  {
   "cell_type": "code",
   "execution_count": null,
   "id": "9055f67a",
   "metadata": {},
   "outputs": [],
   "source": [
    "import pandas as pd\n",
    "s1 = pd.Series([10, 20, 30])\n",
    "s1 + 10"
   ]
  },
  {
   "cell_type": "markdown",
   "id": "389ef6f8",
   "metadata": {},
   "source": [
    "## 문제 4: DataFrame 생성 & head\n",
    "다음 데이터를 이용하여 DataFrame을 생성하고, head(2)로 상위 2개 행만 출력하세요.\n",
    "\n",
    "data = {\n",
    "    '이름': ['홍길동', '김철수', '이영희'],\n",
    "    '나이': [25, 30, 35]\n",
    "}"
   ]
  },
  {
   "cell_type": "code",
   "execution_count": null,
   "id": "7e5c154c",
   "metadata": {},
   "outputs": [],
   "source": [
    "import pandas as pd\n",
    "data = {\n",
    "    '이름': ['홍길동', '김철수', '이영희'],\n",
    "    '나이': [25, 30, 35]\n",
    "}\n",
    "df = pd.DataFrame(data)\n",
    "df.head(2)"
   ]
  },
  {
   "cell_type": "markdown",
   "id": "65ebd4a3",
   "metadata": {},
   "source": [
    "## 문제 5: 컬럼명 변경\n",
    "문제 4에서 만든 DataFrame의 컬럼명을 'Name', 'Age'로 변경하고 출력하세요."
   ]
  },
  {
   "cell_type": "code",
   "execution_count": null,
   "id": "5bbb91e5",
   "metadata": {},
   "outputs": [],
   "source": [
    "import pandas as pd\n",
    "data = {\n",
    "    '이름': ['홍길동', '김철수', '이영희'],\n",
    "    '나이': [25, 30, 35]\n",
    "}\n",
    "df = pd.DataFrame(data)\n",
    "df.columns = ['Name', 'Age']\n",
    "df"
   ]
  },
  {
   "cell_type": "markdown",
   "id": "35da8892",
   "metadata": {},
   "source": [
    "## 문제 6: 신규 열 추가 (백만원 단위)\n",
    "아래 df에서 '대학교 등록금'을 백만원 단위로 변환한 열 '등록금_백만원'을 추가하세요.\n",
    "\n",
    "df = pd.DataFrame({\n",
    "    '대학': ['가람대', '누리대', '한빛대', '다온대', '이룸대'],\n",
    "    '지역': ['서울', '부산', '대구', '광주', '대전'],\n",
    "    '대학교 등록금': [7200000, 5800000, 6400000, 5100000, 6800000]\n",
    "})"
   ]
  },
  {
   "cell_type": "code",
   "execution_count": null,
   "id": "969d8e68",
   "metadata": {},
   "outputs": [],
   "source": [
    "import pandas as pd\n",
    "df = pd.DataFrame({\n",
    "    '대학': ['가람대', '누리대', '한빛대', '다온대', '이룸대'],\n",
    "    '지역': ['서울', '부산', '대구', '광주', '대전'],\n",
    "    '대학교 등록금': [7200000, 5800000, 6400000, 5100000, 6800000]\n",
    "})\n",
    "df['등록금_백만원'] = df['대학교 등록금'] / 1_000_000\n",
    "df"
   ]
  },
  {
   "cell_type": "markdown",
   "id": "59ba081b",
   "metadata": {},
   "source": [
    "## 문제 7: 고액 등록금 여부\n",
    "위 df에 등록금이 6,500,000원 이상이면 True인 불리언 열 '고액등록금'을 추가하세요."
   ]
  },
  {
   "cell_type": "code",
   "execution_count": null,
   "id": "0899aa9a",
   "metadata": {},
   "outputs": [],
   "source": [
    "import pandas as pd\n",
    "df = pd.DataFrame({\n",
    "    '대학': ['가람대', '누리대', '한빛대', '다온대', '이룸대'],\n",
    "    '지역': ['서울', '부산', '대구', '광주', '대전'],\n",
    "    '대학교 등록금': [7200000, 5800000, 6400000, 5100000, 6800000]\n",
    "})\n",
    "df['고액등록금'] = df['대학교 등록금'] >= 6_500_000\n",
    "df"
   ]
  }
 ],
 "metadata": {
  "kernelspec": {
   "display_name": "Python [conda env:base] *",
   "language": "python",
   "name": "conda-base-py"
  },
  "language_info": {
   "codemirror_mode": {
    "name": "ipython",
    "version": 3
   },
   "file_extension": ".py",
   "mimetype": "text/x-python",
   "name": "python",
   "nbconvert_exporter": "python",
   "pygments_lexer": "ipython3",
   "version": "3.13.5"
  }
 },
 "nbformat": 4,
 "nbformat_minor": 5
}
