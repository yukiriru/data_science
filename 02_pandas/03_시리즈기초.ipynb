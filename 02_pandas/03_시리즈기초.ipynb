{
 "cells": [
  {
   "cell_type": "markdown",
   "id": "8af396a4-e1d0-49ee-88e7-bdfde8854562",
   "metadata": {},
   "source": [
    "# 시리즈 기초 동작"
   ]
  },
  {
   "cell_type": "markdown",
   "id": "d04d6ddf-0994-49b9-93c0-34f59910629e",
   "metadata": {},
   "source": [
    "- 시리즈(Series): 데이터 프레임(2차원 데이터)에서 열을 표현할 수 있는 벡터(벡터: 1차원 배열)"
   ]
  },
  {
   "cell_type": "code",
   "execution_count": 3,
   "id": "5b5dc086-5527-495e-ae50-3e1db2736188",
   "metadata": {},
   "outputs": [],
   "source": [
    "import pandas as pd #관용적으로 pandas 모델을 pd로 별칭하여 사용함."
   ]
  },
  {
   "cell_type": "code",
   "execution_count": 4,
   "id": "8be6e16c-7a7b-4db3-9e8c-c7969025ffb0",
   "metadata": {},
   "outputs": [
    {
     "data": {
      "text/plain": [
       "'2.2.3'"
      ]
     },
     "execution_count": 4,
     "metadata": {},
     "output_type": "execute_result"
    }
   ],
   "source": [
    "# 버전확인\n",
    "pd.__version__"
   ]
  },
  {
   "cell_type": "markdown",
   "id": "d58d2f0f-e443-433f-91da-e20e2b6096ac",
   "metadata": {},
   "source": [
    "* 시리즈 생성하는 문법\n",
    "    * pd.Series([시리즈데이터]) : 보통 리스트로 생성"
   ]
  },
  {
   "cell_type": "code",
   "execution_count": 6,
   "id": "1311b9bd-3a77-426e-977c-8cd6073a3dd9",
   "metadata": {},
   "outputs": [
    {
     "data": {
      "text/plain": [
       "0    1\n",
       "1    2\n",
       "2    3\n",
       "dtype: int64"
      ]
     },
     "execution_count": 6,
     "metadata": {},
     "output_type": "execute_result"
    }
   ],
   "source": [
    "ser1 = pd.Series([1,2,3])\n",
    "ser1"
   ]
  },
  {
   "cell_type": "raw",
   "id": "db51212f-c89c-4eaa-ad74-27ea3a99251c",
   "metadata": {},
   "source": [
    "# 판다스에서 내부적으로 처리하는 데이터가 존재: 숫자 타입 => int64"
   ]
  },
  {
   "cell_type": "markdown",
   "id": "610ef8a4-c832-4e42-a60e-5d9db17a52df",
   "metadata": {},
   "source": [
    "# 기본 브로드 캐스팅 연산"
   ]
  },
  {
   "cell_type": "markdown",
   "id": "ca84207a-65b3-4629-b0f9-287f757de469",
   "metadata": {},
   "source": [
    "## 동일 요소간 리스트 연산"
   ]
  },
  {
   "cell_type": "code",
   "execution_count": 7,
   "id": "b3c0bae3-a088-4e4d-b00e-4a7760fd64ac",
   "metadata": {},
   "outputs": [
    {
     "data": {
      "text/plain": [
       "[1, 2, 3, 1, 2, 3]"
      ]
     },
     "execution_count": 7,
     "metadata": {},
     "output_type": "execute_result"
    }
   ],
   "source": [
    "list1 =[1,2,3]\n",
    "list2 =[1,2,3]\n",
    "list1 + list2"
   ]
  },
  {
   "cell_type": "raw",
   "id": "70cc2283-346f-43ef-b3aa-a531c7e8fc8f",
   "metadata": {},
   "source": [
    "* 서로 다른 리스트에서 동일 요소간 + 연산을 하려면?"
   ]
  },
  {
   "cell_type": "code",
   "execution_count": 8,
   "id": "ba91b1dd-9808-42eb-9320-00f6b9b56eea",
   "metadata": {},
   "outputs": [
    {
     "data": {
      "text/plain": [
       "[2, 4, 6]"
      ]
     },
     "execution_count": 8,
     "metadata": {},
     "output_type": "execute_result"
    }
   ],
   "source": [
    "# 파이썬 기본문법으로 작성할 경우\n",
    "result = []\n",
    "for index in range(len(list1)):\n",
    "    # print(index)\n",
    "    result.append( list1[index] + list2[index] )\n",
    "result"
   ]
  },
  {
   "cell_type": "markdown",
   "id": "a9f7cbae-e6c4-4668-98e9-2802883d8fed",
   "metadata": {},
   "source": [
    "## 동일 요소간 시리즈 연산"
   ]
  },
  {
   "cell_type": "code",
   "execution_count": 9,
   "id": "bbbaa7dc-adb0-44c3-ba58-f857b87c84de",
   "metadata": {},
   "outputs": [
    {
     "data": {
      "text/plain": [
       "0    1\n",
       "1    2\n",
       "2    3\n",
       "dtype: int64"
      ]
     },
     "execution_count": 9,
     "metadata": {},
     "output_type": "execute_result"
    }
   ],
   "source": [
    "ser2 = pd.Series([1,2,3])\n",
    "ser2"
   ]
  },
  {
   "cell_type": "code",
   "execution_count": 10,
   "id": "c3689dd5-c71b-472e-beea-0e60ab5eff55",
   "metadata": {},
   "outputs": [
    {
     "data": {
      "text/plain": [
       "0    1\n",
       "1    2\n",
       "2    3\n",
       "dtype: int64"
      ]
     },
     "execution_count": 10,
     "metadata": {},
     "output_type": "execute_result"
    }
   ],
   "source": [
    "ser1"
   ]
  },
  {
   "cell_type": "markdown",
   "id": "b65518b8-5444-45b1-88ef-5e13438ae141",
   "metadata": {},
   "source": [
    "* 시리즈의 요소가 같을 경우에는 같은 요소끼리 연산자를 적용한다.\n",
    "* 연산 결과를 반환하고 개별 시리즈는 변경되지 않는다."
   ]
  },
  {
   "cell_type": "code",
   "execution_count": 11,
   "id": "59efcd33-563d-4717-a150-778a8e54b316",
   "metadata": {},
   "outputs": [
    {
     "data": {
      "text/plain": [
       "0    2\n",
       "1    4\n",
       "2    6\n",
       "dtype: int64"
      ]
     },
     "execution_count": 11,
     "metadata": {},
     "output_type": "execute_result"
    }
   ],
   "source": [
    "ser1 + ser2"
   ]
  },
  {
   "cell_type": "markdown",
   "id": "3e0672ab-4965-4553-b370-c77d31a23d83",
   "metadata": {},
   "source": [
    "## 동일 요소가 아닌 경우"
   ]
  },
  {
   "cell_type": "markdown",
   "id": "c65069a9-ac13-475c-a7d9-5d7be3cee034",
   "metadata": {},
   "source": [
    "## 파이썬 리스트 버전"
   ]
  },
  {
   "cell_type": "code",
   "execution_count": 13,
   "id": "96257071-fe93-40d5-b430-1d49b9e6ec0b",
   "metadata": {},
   "outputs": [
    {
     "data": {
      "text/plain": [
       "[60, 70, 80]"
      ]
     },
     "execution_count": 13,
     "metadata": {},
     "output_type": "execute_result"
    }
   ],
   "source": [
    "#수학 성적이라고 가정하고 너무 점수가 낮아 전체적으로 기본점수(50)을 주려고 한다.\n",
    "scores = [10,20,30] \n",
    "for index in range(len(scores)):\n",
    "    # scores[index] = scores[index] + 50\n",
    "    scores[index] += 50\n",
    "scores"
   ]
  },
  {
   "cell_type": "markdown",
   "id": "47802302-954b-4eff-9abd-ca09df30206e",
   "metadata": {},
   "source": [
    "## 시리즈 버전"
   ]
  },
  {
   "cell_type": "code",
   "execution_count": 14,
   "id": "868f52ce-b6fb-4381-966e-6592665cecbd",
   "metadata": {},
   "outputs": [
    {
     "data": {
      "text/plain": [
       "0    10\n",
       "1    20\n",
       "2    30\n",
       "dtype: int64"
      ]
     },
     "execution_count": 14,
     "metadata": {},
     "output_type": "execute_result"
    }
   ],
   "source": [
    "s_scores = pd.Series([10,20,30])\n",
    "s_scores"
   ]
  },
  {
   "cell_type": "code",
   "execution_count": 15,
   "id": "ef1d98e6-407c-4593-b792-d4ae9f676119",
   "metadata": {},
   "outputs": [
    {
     "data": {
      "text/plain": [
       "0    60\n",
       "1    70\n",
       "2    80\n",
       "dtype: int64"
      ]
     },
     "execution_count": 15,
     "metadata": {},
     "output_type": "execute_result"
    }
   ],
   "source": [
    "s_scores + 50"
   ]
  },
  {
   "cell_type": "markdown",
   "id": "5d8ddef8-0842-44ed-8513-bf6a0633ea63",
   "metadata": {},
   "source": [
    "- 시리즈간 요소의 개수가 맞지 않을 경우"
   ]
  },
  {
   "cell_type": "code",
   "execution_count": 16,
   "id": "83b184f2-363c-437a-bbf1-a2d901825ad4",
   "metadata": {},
   "outputs": [],
   "source": [
    "ser1 =pd.Series([1,2,3])\n",
    "ser2 =pd.Series([1,2,3,4])\n",
    "ser1 + ser2"
   ]
  },
  {
   "cell_type": "raw",
   "id": "63945ce4-538a-4ec0-ab1d-26340bfe1d67",
   "metadata": {},
   "source": [
    "판다스에서 정의되지 않은 값은 NaN 으로 표기한다.\n",
    "NaN과의 모든 연산은 NaN이다.\n",
    "요소가 있을 경우에는 정상 브로드캐스팅 연산을 하고 요소가 없는 경우에는 NaN으로 처리한다."
   ]
  },
  {
   "cell_type": "raw",
   "id": "d0ad64fb-e0fe-4d74-b46a-774a9ac0b977",
   "metadata": {},
   "source": [
    "연습문제] 아래 직원연봉 정보에서 연봉을 4.5% 인상하는 프로그램 작성하세요\n",
    "[3720, 5460, 4200, 6500, 7125, 5700, 7540, 3900, 6780, 4820]"
   ]
  },
  {
   "cell_type": "code",
   "execution_count": 17,
   "id": "acae401c-fd8f-4026-8a9f-7b3dd5a28a73",
   "metadata": {},
   "outputs": [
    {
     "name": "stdout",
     "output_type": "stream",
     "text": [
      "[3887.3999999999996, 5705.7, 4389.0, 6792.499999999999, 7445.624999999999, 5956.5, 7879.299999999999, 4075.4999999999995, 7085.099999999999, 5036.9]\n"
     ]
    }
   ],
   "source": [
    "salaries = [3720, 5460, 4200, 6500, 7125, 5700, 7540, 3900, 6780, 4820]\n",
    "salaries_increase = []\n",
    "\n",
    "for salary in salaries:\n",
    "    increased_salary = salary * 1.045\n",
    "    salaries_increase.append(increased_salary)\n",
    "\n",
    "print(salaries_increase)"
   ]
  },
  {
   "cell_type": "markdown",
   "id": "e08a4971-04e4-4942-820b-71fa5c499cf3",
   "metadata": {},
   "source": [
    "* 시리즈버전"
   ]
  },
  {
   "cell_type": "code",
   "execution_count": 20,
   "id": "072c1c76-13d1-439b-abe4-05163c4ec4c4",
   "metadata": {},
   "outputs": [
    {
     "data": {
      "text/plain": [
       "0    3887.400\n",
       "1    5705.700\n",
       "2    4389.000\n",
       "3    6792.500\n",
       "4    7445.625\n",
       "5    5956.500\n",
       "6    7879.300\n",
       "7    4075.500\n",
       "8    7085.100\n",
       "9    5036.900\n",
       "dtype: float64"
      ]
     },
     "execution_count": 20,
     "metadata": {},
     "output_type": "execute_result"
    }
   ],
   "source": [
    "pd.Series([3720, 5460, 4200, 6500, 7125, 5700, 7540, 3900, 6780, 4820]) *1.045"
   ]
  },
  {
   "cell_type": "code",
   "execution_count": null,
   "id": "fc7ce04d-e349-414f-80eb-c5ca760b17ea",
   "metadata": {},
   "outputs": [],
   "source": []
  }
 ],
 "metadata": {
  "kernelspec": {
   "display_name": "Python [conda env:base] *",
   "language": "python",
   "name": "conda-base-py"
  },
  "language_info": {
   "codemirror_mode": {
    "name": "ipython",
    "version": 3
   },
   "file_extension": ".py",
   "mimetype": "text/x-python",
   "name": "python",
   "nbconvert_exporter": "python",
   "pygments_lexer": "ipython3",
   "version": "3.13.5"
  }
 },
 "nbformat": 4,
 "nbformat_minor": 5
}
