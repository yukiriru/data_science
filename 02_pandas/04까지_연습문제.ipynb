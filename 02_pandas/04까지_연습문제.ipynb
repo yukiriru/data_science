{
 "cells": [
  {
   "cell_type": "markdown",
   "id": "9a2ecff4",
   "metadata": {},
   "source": [
    "# Pandas 연습문제 (8개)\n",
    "본 노트북은 Series와 DataFrame의 기초 문법(생성, 열 연산, 브로드캐스팅, 비교/불리언 마스크, 평균 계산 등)만으로 풀 수 있는 문제로 구성되어 있습니다.\n",
    "\n",
    "> 아래 각 문제 밑의 코드 셀에 직접 풀이 코드를 작성하세요."
   ]
  },
  {
   "cell_type": "code",
   "execution_count": 2,
   "id": "9676c153",
   "metadata": {},
   "outputs": [],
   "source": [
    "import pandas as pd"
   ]
  },
  {
   "cell_type": "markdown",
   "id": "2e26b9ff",
   "metadata": {},
   "source": [
    "## 문제 1: Series 생성\n",
    "값이 [10, 20, 30]인 시리즈 s1을 생성하고 출력하세요. (인덱스는 기본값 사용)"
   ]
  },
  {
   "cell_type": "code",
   "execution_count": 11,
   "id": "ff014454",
   "metadata": {},
   "outputs": [
    {
     "data": {
      "text/plain": [
       "0    10\n",
       "1    20\n",
       "2    30\n",
       "dtype: int64"
      ]
     },
     "execution_count": 11,
     "metadata": {},
     "output_type": "execute_result"
    }
   ],
   "source": [
    "# 여기에 풀이 코드를 작성하세요.\n",
    "s1= pd.Series([10,20,30])\n",
    "s1"
   ]
  },
  {
   "cell_type": "markdown",
   "id": "bc342b02",
   "metadata": {},
   "source": [
    "## 문제 2: Series 연산\n",
    "값이 [5, 15, 25]인 시리즈 s2를 생성하고, s1 + s2의 결과를 출력하세요."
   ]
  },
  {
   "cell_type": "code",
   "execution_count": 6,
   "id": "1f6c7839",
   "metadata": {},
   "outputs": [
    {
     "data": {
      "text/plain": [
       "0    15\n",
       "1    35\n",
       "2    55\n",
       "dtype: int64"
      ]
     },
     "execution_count": 6,
     "metadata": {},
     "output_type": "execute_result"
    }
   ],
   "source": [
    "# 여기에 풀이 코드를 작성하세요.\n",
    "s2=pd.Series([5,15,25])\n",
    "s1+s2"
   ]
  },
  {
   "cell_type": "markdown",
   "id": "7a6ec049",
   "metadata": {},
   "source": [
    "## 문제 3: 브로드캐스팅\n",
    "시리즈 s1에 정수 10을 더한 결과를 출력하세요. (브로드캐스팅 활용)"
   ]
  },
  {
   "cell_type": "code",
   "execution_count": 12,
   "id": "420bfaf3",
   "metadata": {},
   "outputs": [
    {
     "data": {
      "text/plain": [
       "0    20\n",
       "1    30\n",
       "2    40\n",
       "dtype: int64"
      ]
     },
     "execution_count": 12,
     "metadata": {},
     "output_type": "execute_result"
    }
   ],
   "source": [
    "# 여기에 풀이 코드를 작성하세요.\n",
    "s1 +10"
   ]
  },
  {
   "cell_type": "markdown",
   "id": "bcea8e33",
   "metadata": {},
   "source": [
    "## 문제 4: DataFrame 생성 & head\n",
    "다음 데이터를 이용하여 DataFrame을 생성하고, head(2)로 상위 2개 행만 출력하세요.\n",
    "\n",
    "data = {\n",
    "    '이름': ['홍길동', '김철수', '이영희'],\n",
    "    '나이': [25, 30, 35]\n",
    "}"
   ]
  },
  {
   "cell_type": "code",
   "execution_count": 27,
   "id": "c4caac6d",
   "metadata": {},
   "outputs": [
    {
     "data": {
      "text/html": [
       "<div>\n",
       "<style scoped>\n",
       "    .dataframe tbody tr th:only-of-type {\n",
       "        vertical-align: middle;\n",
       "    }\n",
       "\n",
       "    .dataframe tbody tr th {\n",
       "        vertical-align: top;\n",
       "    }\n",
       "\n",
       "    .dataframe thead th {\n",
       "        text-align: right;\n",
       "    }\n",
       "</style>\n",
       "<table border=\"1\" class=\"dataframe\">\n",
       "  <thead>\n",
       "    <tr style=\"text-align: right;\">\n",
       "      <th></th>\n",
       "      <th>이름</th>\n",
       "      <th>나이</th>\n",
       "    </tr>\n",
       "  </thead>\n",
       "  <tbody>\n",
       "    <tr>\n",
       "      <th>0</th>\n",
       "      <td>홍길동</td>\n",
       "      <td>25</td>\n",
       "    </tr>\n",
       "    <tr>\n",
       "      <th>1</th>\n",
       "      <td>김철수</td>\n",
       "      <td>30</td>\n",
       "    </tr>\n",
       "  </tbody>\n",
       "</table>\n",
       "</div>"
      ],
      "text/plain": [
       "    이름  나이\n",
       "0  홍길동  25\n",
       "1  김철수  30"
      ]
     },
     "execution_count": 27,
     "metadata": {},
     "output_type": "execute_result"
    }
   ],
   "source": [
    "# 여기에 풀이 코드를 작성하세요.\n",
    "data = { '이름': ['홍길동', '김철수', '이영희'], '나이': [25, 30, 35] }\n",
    "agedata=pd.DataFrame(data)\n",
    "agedata.head(2)"
   ]
  },
  {
   "cell_type": "markdown",
   "id": "1b118628",
   "metadata": {},
   "source": [
    "## 문제 5: 컬럼명 변경\n",
    "문제 4에서 만든 DataFrame의 컬럼명을 'Name', 'Age'로 변경하고 출력하세요."
   ]
  },
  {
   "cell_type": "code",
   "execution_count": 28,
   "id": "7523a19d",
   "metadata": {},
   "outputs": [
    {
     "data": {
      "text/html": [
       "<div>\n",
       "<style scoped>\n",
       "    .dataframe tbody tr th:only-of-type {\n",
       "        vertical-align: middle;\n",
       "    }\n",
       "\n",
       "    .dataframe tbody tr th {\n",
       "        vertical-align: top;\n",
       "    }\n",
       "\n",
       "    .dataframe thead th {\n",
       "        text-align: right;\n",
       "    }\n",
       "</style>\n",
       "<table border=\"1\" class=\"dataframe\">\n",
       "  <thead>\n",
       "    <tr style=\"text-align: right;\">\n",
       "      <th></th>\n",
       "      <th>Name</th>\n",
       "      <th>Age</th>\n",
       "    </tr>\n",
       "  </thead>\n",
       "  <tbody>\n",
       "    <tr>\n",
       "      <th>0</th>\n",
       "      <td>홍길동</td>\n",
       "      <td>25</td>\n",
       "    </tr>\n",
       "    <tr>\n",
       "      <th>1</th>\n",
       "      <td>김철수</td>\n",
       "      <td>30</td>\n",
       "    </tr>\n",
       "    <tr>\n",
       "      <th>2</th>\n",
       "      <td>이영희</td>\n",
       "      <td>35</td>\n",
       "    </tr>\n",
       "  </tbody>\n",
       "</table>\n",
       "</div>"
      ],
      "text/plain": [
       "  Name  Age\n",
       "0  홍길동   25\n",
       "1  김철수   30\n",
       "2  이영희   35"
      ]
     },
     "execution_count": 28,
     "metadata": {},
     "output_type": "execute_result"
    }
   ],
   "source": [
    "# 여기에 풀이 코드를 작성하세요.\n",
    "agedata = agedata.rename(columns={'이름': 'Name'})\n",
    "agedata = agedata.rename(columns={'나이': 'Age'})\n",
    "agedata"
   ]
  },
  {
   "cell_type": "markdown",
   "id": "d9a1458e",
   "metadata": {},
   "source": [
    "## 문제 6: 신규 열 추가 (백만원 단위)\n",
    "아래 df에서 '대학교 등록금'을 백만원 단위로 변환한 열 '등록금_백만원'을 추가하세요.\n",
    "\n",
    "df = pd.DataFrame({\n",
    "    '대학': ['가람대', '누리대', '한빛대', '다온대', '이룸대'],\n",
    "    '지역': ['서울', '부산', '대구', '광주', '대전'],\n",
    "    '대학교 등록금': [7200000, 5800000, 6400000, 5100000, 6800000]\n",
    "})"
   ]
  },
  {
   "cell_type": "code",
   "execution_count": 16,
   "id": "86792c40",
   "metadata": {},
   "outputs": [
    {
     "data": {
      "text/html": [
       "<div>\n",
       "<style scoped>\n",
       "    .dataframe tbody tr th:only-of-type {\n",
       "        vertical-align: middle;\n",
       "    }\n",
       "\n",
       "    .dataframe tbody tr th {\n",
       "        vertical-align: top;\n",
       "    }\n",
       "\n",
       "    .dataframe thead th {\n",
       "        text-align: right;\n",
       "    }\n",
       "</style>\n",
       "<table border=\"1\" class=\"dataframe\">\n",
       "  <thead>\n",
       "    <tr style=\"text-align: right;\">\n",
       "      <th></th>\n",
       "      <th>대학</th>\n",
       "      <th>지역</th>\n",
       "      <th>대학교 등록금</th>\n",
       "      <th>등록금_백만원</th>\n",
       "    </tr>\n",
       "  </thead>\n",
       "  <tbody>\n",
       "    <tr>\n",
       "      <th>0</th>\n",
       "      <td>가람대</td>\n",
       "      <td>서울</td>\n",
       "      <td>7200000</td>\n",
       "      <td>7.2</td>\n",
       "    </tr>\n",
       "    <tr>\n",
       "      <th>1</th>\n",
       "      <td>누리대</td>\n",
       "      <td>부산</td>\n",
       "      <td>5800000</td>\n",
       "      <td>5.8</td>\n",
       "    </tr>\n",
       "    <tr>\n",
       "      <th>2</th>\n",
       "      <td>한빛대</td>\n",
       "      <td>대구</td>\n",
       "      <td>6400000</td>\n",
       "      <td>6.4</td>\n",
       "    </tr>\n",
       "    <tr>\n",
       "      <th>3</th>\n",
       "      <td>다온대</td>\n",
       "      <td>광주</td>\n",
       "      <td>5100000</td>\n",
       "      <td>5.1</td>\n",
       "    </tr>\n",
       "    <tr>\n",
       "      <th>4</th>\n",
       "      <td>이룸대</td>\n",
       "      <td>대전</td>\n",
       "      <td>6800000</td>\n",
       "      <td>6.8</td>\n",
       "    </tr>\n",
       "  </tbody>\n",
       "</table>\n",
       "</div>"
      ],
      "text/plain": [
       "    대학  지역  대학교 등록금  등록금_백만원\n",
       "0  가람대  서울  7200000      7.2\n",
       "1  누리대  부산  5800000      5.8\n",
       "2  한빛대  대구  6400000      6.4\n",
       "3  다온대  광주  5100000      5.1\n",
       "4  이룸대  대전  6800000      6.8"
      ]
     },
     "execution_count": 16,
     "metadata": {},
     "output_type": "execute_result"
    }
   ],
   "source": [
    "# 여기에 풀이 코드를 작성하세요.\n",
    "df = pd.DataFrame({ '대학': ['가람대', '누리대', '한빛대', '다온대', '이룸대'], '지역': ['서울', '부산', '대구', '광주', '대전'], '대학교 등록금': [7200000, 5800000, 6400000, 5100000, 6800000] })\n",
    "df['등록금_백만원'] =df['대학교 등록금'] /1000000\n",
    "df"
   ]
  },
  {
   "cell_type": "markdown",
   "id": "b3d86c32",
   "metadata": {},
   "source": [
    "## 문제 7: 고액 등록금 여부\n",
    "위 df에 등록금이 6,500,000원 이상이면 True인 불리언 열 '고액등록금'을 추가하세요."
   ]
  },
  {
   "cell_type": "code",
   "execution_count": 30,
   "id": "5a8a4d80",
   "metadata": {},
   "outputs": [
    {
     "data": {
      "text/html": [
       "<div>\n",
       "<style scoped>\n",
       "    .dataframe tbody tr th:only-of-type {\n",
       "        vertical-align: middle;\n",
       "    }\n",
       "\n",
       "    .dataframe tbody tr th {\n",
       "        vertical-align: top;\n",
       "    }\n",
       "\n",
       "    .dataframe thead th {\n",
       "        text-align: right;\n",
       "    }\n",
       "</style>\n",
       "<table border=\"1\" class=\"dataframe\">\n",
       "  <thead>\n",
       "    <tr style=\"text-align: right;\">\n",
       "      <th></th>\n",
       "      <th>대학</th>\n",
       "      <th>지역</th>\n",
       "      <th>대학교 등록금</th>\n",
       "      <th>등록금_백만원</th>\n",
       "      <th>고액등록금</th>\n",
       "    </tr>\n",
       "  </thead>\n",
       "  <tbody>\n",
       "    <tr>\n",
       "      <th>0</th>\n",
       "      <td>가람대</td>\n",
       "      <td>서울</td>\n",
       "      <td>7200000</td>\n",
       "      <td>7.2</td>\n",
       "      <td>True</td>\n",
       "    </tr>\n",
       "    <tr>\n",
       "      <th>1</th>\n",
       "      <td>누리대</td>\n",
       "      <td>부산</td>\n",
       "      <td>5800000</td>\n",
       "      <td>5.8</td>\n",
       "      <td>False</td>\n",
       "    </tr>\n",
       "    <tr>\n",
       "      <th>2</th>\n",
       "      <td>한빛대</td>\n",
       "      <td>대구</td>\n",
       "      <td>6400000</td>\n",
       "      <td>6.4</td>\n",
       "      <td>False</td>\n",
       "    </tr>\n",
       "    <tr>\n",
       "      <th>3</th>\n",
       "      <td>다온대</td>\n",
       "      <td>광주</td>\n",
       "      <td>5100000</td>\n",
       "      <td>5.1</td>\n",
       "      <td>False</td>\n",
       "    </tr>\n",
       "    <tr>\n",
       "      <th>4</th>\n",
       "      <td>이룸대</td>\n",
       "      <td>대전</td>\n",
       "      <td>6800000</td>\n",
       "      <td>6.8</td>\n",
       "      <td>True</td>\n",
       "    </tr>\n",
       "  </tbody>\n",
       "</table>\n",
       "</div>"
      ],
      "text/plain": [
       "    대학  지역  대학교 등록금  등록금_백만원  고액등록금\n",
       "0  가람대  서울  7200000      7.2   True\n",
       "1  누리대  부산  5800000      5.8  False\n",
       "2  한빛대  대구  6400000      6.4  False\n",
       "3  다온대  광주  5100000      5.1  False\n",
       "4  이룸대  대전  6800000      6.8   True"
      ]
     },
     "execution_count": 30,
     "metadata": {},
     "output_type": "execute_result"
    }
   ],
   "source": [
    "# 여기에 풀이 코드를 작성하세요.\n",
    "df['고액등록금'] = df['대학교 등록금'] >=6500000\n",
    "df"
   ]
  }
 ],
 "metadata": {
  "kernelspec": {
   "display_name": "Python [conda env:base] *",
   "language": "python",
   "name": "conda-base-py"
  },
  "language_info": {
   "codemirror_mode": {
    "name": "ipython",
    "version": 3
   },
   "file_extension": ".py",
   "mimetype": "text/x-python",
   "name": "python",
   "nbconvert_exporter": "python",
   "pygments_lexer": "ipython3",
   "version": "3.13.5"
  }
 },
 "nbformat": 4,
 "nbformat_minor": 5
}
