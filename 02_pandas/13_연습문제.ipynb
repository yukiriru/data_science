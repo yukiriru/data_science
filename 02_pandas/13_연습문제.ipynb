{
 "cells": [
  {
   "cell_type": "code",
   "execution_count": null,
   "id": "e03e5cd3",
   "metadata": {},
   "outputs": [],
   "source": [
    "import pandas as pd\n",
    "movies_ko_all = pd.read_csv(\"data/movies_ko.csv\")"
   ]
  },
  {
   "cell_type": "markdown",
   "id": "f98e5f72",
   "metadata": {},
   "source": [
    "1) 특정 열만 골라 읽고 확인하기\n",
    "/mnt/data/movies_ko.csv에서 영화, 장르, 개봉연도 열만 읽어 movies_ko에 저장하고, 처음 5행을 확인하세요."
   ]
  },
  {
   "cell_type": "markdown",
   "id": "d5d922f9",
   "metadata": {},
   "source": [
    "2) 두 평점의 평균(버림)으로 새 열 만들기\n",
    "전체 데이터를 movies_ko_all로 읽은 뒤, 네이버평점과 다음평점의 평균을 정수 나눗셈 //로 계산해 소수점 버림 처리한 값을 평균평점_버림이라는 새 열로 추가하고, 처음 5행을 확인하세요."
   ]
  },
  {
   "cell_type": "markdown",
   "id": "7896c087",
   "metadata": {},
   "source": [
    "3) 달러 기호 제거 후 실수형으로 변환\n",
    "movies_ko_all의 매출(달러) 열에서 달러 기호 $를 제거한 뒤 실수형(float64)으로 변환하여 매출_float라는 새 열을 만들고, 앞 3행을 확인하세요."
   ]
  },
  {
   "cell_type": "markdown",
   "id": "09c674fd",
   "metadata": {},
   "source": [
    "4) 특정 조건 필터링\n",
    "movies_ko_all에서 관객수(만)이 500 이상인 영화만 선택해 처음 5행을 확인하세요."
   ]
  },
  {
   "cell_type": "markdown",
   "id": "8a183871",
   "metadata": {},
   "source": [
    "5) 새로운 열에 조건식으로 True/False 저장하기\n",
    "movies_ko_all에 개봉10년이상이라는 새 열을 만들고, 개봉연도가 2015년보다 작으면 True, 아니면 False 값을 넣으세요. 그리고 처음 5행을 확인하세요."
   ]
  },
  {
   "cell_type": "markdown",
   "id": "3eb49218",
   "metadata": {},
   "source": [
    "6) 문자열 처리만 수행\n",
    "매출(달러) 열에서 $ 기호를 제거한 문자열만 매출_문자 열로 저장하고 처음 3행을 확인하세요."
   ]
  }
 ],
 "metadata": {
  "kernelspec": {
   "display_name": "Python [conda env:base] *",
   "language": "python",
   "name": "conda-base-py"
  },
  "language_info": {
   "codemirror_mode": {
    "name": "ipython",
    "version": 3
   },
   "file_extension": ".py",
   "mimetype": "text/x-python",
   "name": "python",
   "nbconvert_exporter": "python",
   "pygments_lexer": "ipython3",
   "version": "3.13.5"
  }
 },
 "nbformat": 4,
 "nbformat_minor": 5
}
