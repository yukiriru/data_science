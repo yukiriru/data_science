{
 "cells": [
  {
   "cell_type": "code",
   "execution_count": 1,
   "id": "d63bf72f-38dc-4e8b-9c47-4217d4d41aca",
   "metadata": {},
   "outputs": [],
   "source": [
    "import numpy as np\n",
    "import pandas as pd\n",
    "import seaborn as sns\n",
    "import matplotlib.pyplot as plt\n",
    "from matplotlib import font_manager,rc\n",
    "from IPython.display import display, HTML\n",
    "#한글 폰트\n",
    "font_location = \"C:\\Windows\\Fonts\\malgun.ttf\"\n",
    "font_name = font_manager.FontProperties(fname=font_location).get_name()\n",
    "rc('font',family=font_name)"
   ]
  },
  {
   "cell_type": "code",
   "execution_count": 2,
   "id": "93c98747-7290-47df-9cc3-4793d3f090ab",
   "metadata": {},
   "outputs": [],
   "source": [
    "def display_wide(df1, df2):\n",
    "    display(HTML(\n",
    "    f\"\"\"\n",
    "    <div style=\"display: flex;\">\n",
    "        <div style=\"margin-right: 20px;\">\n",
    "            {df1.to_html()}\n",
    "        </div>\n",
    "        <div>\n",
    "            {df2.to_html()}\n",
    "        </div>\n",
    "    </div>\n",
    "    \"\"\"\n",
    "))"
   ]
  },
  {
   "cell_type": "markdown",
   "id": "a67ab113-c6e3-4bd6-b9ab-e75005f31d30",
   "metadata": {},
   "source": [
    "# 이상치란?\n",
    "정상데이터가 아닌 데이터"
   ]
  },
  {
   "cell_type": "markdown",
   "id": "7af84aa8-afc1-469f-9399-28145c5dc935",
   "metadata": {},
   "source": [
    "# 이상치를 포함한 수치형 데이터 생성"
   ]
  },
  {
   "cell_type": "code",
   "execution_count": 3,
   "id": "ea7fe781-1198-42b8-8bb6-ba6cbe7c92ab",
   "metadata": {},
   "outputs": [
    {
     "data": {
      "text/html": [
       "<div>\n",
       "<style scoped>\n",
       "    .dataframe tbody tr th:only-of-type {\n",
       "        vertical-align: middle;\n",
       "    }\n",
       "\n",
       "    .dataframe tbody tr th {\n",
       "        vertical-align: top;\n",
       "    }\n",
       "\n",
       "    .dataframe thead th {\n",
       "        text-align: right;\n",
       "    }\n",
       "</style>\n",
       "<table border=\"1\" class=\"dataframe\">\n",
       "  <thead>\n",
       "    <tr style=\"text-align: right;\">\n",
       "      <th></th>\n",
       "      <th>상품명</th>\n",
       "      <th>가격</th>\n",
       "      <th>판매량</th>\n",
       "    </tr>\n",
       "  </thead>\n",
       "  <tbody>\n",
       "    <tr>\n",
       "      <th>0</th>\n",
       "      <td>모자</td>\n",
       "      <td>44534</td>\n",
       "      <td>72</td>\n",
       "    </tr>\n",
       "    <tr>\n",
       "      <th>1</th>\n",
       "      <td>가방</td>\n",
       "      <td>39818</td>\n",
       "      <td>144</td>\n",
       "    </tr>\n",
       "    <tr>\n",
       "      <th>2</th>\n",
       "      <td>바지</td>\n",
       "      <td>44695</td>\n",
       "      <td>105</td>\n",
       "    </tr>\n",
       "    <tr>\n",
       "      <th>3</th>\n",
       "      <td>바지</td>\n",
       "      <td>38888</td>\n",
       "      <td>85</td>\n",
       "    </tr>\n",
       "    <tr>\n",
       "      <th>4</th>\n",
       "      <td>바지</td>\n",
       "      <td>39874</td>\n",
       "      <td>154</td>\n",
       "    </tr>\n",
       "  </tbody>\n",
       "</table>\n",
       "</div>"
      ],
      "text/plain": [
       "  상품명     가격  판매량\n",
       "0  모자  44534   72\n",
       "1  가방  39818  144\n",
       "2  바지  44695  105\n",
       "3  바지  38888   85\n",
       "4  바지  39874  154"
      ]
     },
     "execution_count": 3,
     "metadata": {},
     "output_type": "execute_result"
    }
   ],
   "source": [
    "#Setting the random seed for reproducibility\n",
    "np.random.seed(0)\n",
    "\n",
    "#Creating 100 rows of data with 3 columns\n",
    "data = {\n",
    "    '상품명': np.random.choice(['가방', '신발', '티셔츠', '바지', '모자'], size=100),  # Column '상품명': Categorical data\n",
    "    '가격': np.random.normal(loc=50000, scale=15000, size=100).astype(int),  # Column '가격': Normally distributed data as integers\n",
    "    '판매량': np.random.normal(loc=100, scale=30, size=100).astype(int)  # Column '판매량': Normally distributed data as integers\n",
    "}\n",
    "\n",
    "#Introducing some extreme outliers\n",
    "data['가격'][[5, 15, 50]] = [200000, 200001, 150000]\n",
    "data['판매량'][[20, 70]] = [-50, 400]\n",
    "\n",
    "#Creating a DataFrame\n",
    "df = pd.DataFrame(data)\n",
    "df.head()"
   ]
  },
  {
   "cell_type": "markdown",
   "id": "5cfab10e-c507-44fb-ba6c-1494f735eec1",
   "metadata": {},
   "source": [
    "# 초기데이터 기초통계 확인"
   ]
  },
  {
   "cell_type": "code",
   "execution_count": 4,
   "id": "8332e2b7-2f5e-45f9-85fb-f698e08e45fc",
   "metadata": {},
   "outputs": [
    {
     "data": {
      "text/html": [
       "<div>\n",
       "<style scoped>\n",
       "    .dataframe tbody tr th:only-of-type {\n",
       "        vertical-align: middle;\n",
       "    }\n",
       "\n",
       "    .dataframe tbody tr th {\n",
       "        vertical-align: top;\n",
       "    }\n",
       "\n",
       "    .dataframe thead th {\n",
       "        text-align: right;\n",
       "    }\n",
       "</style>\n",
       "<table border=\"1\" class=\"dataframe\">\n",
       "  <thead>\n",
       "    <tr style=\"text-align: right;\">\n",
       "      <th></th>\n",
       "      <th>가격</th>\n",
       "      <th>판매량</th>\n",
       "    </tr>\n",
       "  </thead>\n",
       "  <tbody>\n",
       "    <tr>\n",
       "      <th>count</th>\n",
       "      <td>100.000000</td>\n",
       "      <td>100.000000</td>\n",
       "    </tr>\n",
       "    <tr>\n",
       "      <th>mean</th>\n",
       "      <td>54819.700000</td>\n",
       "      <td>97.090000</td>\n",
       "    </tr>\n",
       "    <tr>\n",
       "      <th>std</th>\n",
       "      <td>27579.832585</td>\n",
       "      <td>44.782774</td>\n",
       "    </tr>\n",
       "    <tr>\n",
       "      <th>min</th>\n",
       "      <td>20138.000000</td>\n",
       "      <td>-50.000000</td>\n",
       "    </tr>\n",
       "    <tr>\n",
       "      <th>25%</th>\n",
       "      <td>39860.000000</td>\n",
       "      <td>76.750000</td>\n",
       "    </tr>\n",
       "    <tr>\n",
       "      <th>50%</th>\n",
       "      <td>52065.500000</td>\n",
       "      <td>94.000000</td>\n",
       "    </tr>\n",
       "    <tr>\n",
       "      <th>75%</th>\n",
       "      <td>63799.250000</td>\n",
       "      <td>115.750000</td>\n",
       "    </tr>\n",
       "    <tr>\n",
       "      <th>max</th>\n",
       "      <td>200001.000000</td>\n",
       "      <td>400.000000</td>\n",
       "    </tr>\n",
       "  </tbody>\n",
       "</table>\n",
       "</div>"
      ],
      "text/plain": [
       "                  가격         판매량\n",
       "count     100.000000  100.000000\n",
       "mean    54819.700000   97.090000\n",
       "std     27579.832585   44.782774\n",
       "min     20138.000000  -50.000000\n",
       "25%     39860.000000   76.750000\n",
       "50%     52065.500000   94.000000\n",
       "75%     63799.250000  115.750000\n",
       "max    200001.000000  400.000000"
      ]
     },
     "execution_count": 4,
     "metadata": {},
     "output_type": "execute_result"
    }
   ],
   "source": [
    "df.describe()"
   ]
  },
  {
   "cell_type": "markdown",
   "id": "0b4cf233-a999-4bab-9ca4-17578ff367c3",
   "metadata": {},
   "source": [
    "# 초기데이터 시각화"
   ]
  },
  {
   "cell_type": "code",
   "execution_count": 6,
   "id": "b6c69b74-94e7-49f9-baad-2c9c35837952",
   "metadata": {},
   "outputs": [
    {
     "data": {
      "text/plain": [
       "Text(0.5, 1.0, '가격 히스토그램')"
      ]
     },
     "execution_count": 6,
     "metadata": {},
     "output_type": "execute_result"
    },
    {
     "data": {
      "image/png": "[encoded data removed]",
      "text/plain": [
       "<Figure size 1400x1000 with 1 Axes>"
      ]
     },
     "metadata": {},
     "output_type": "display_data"
    }
   ],
   "source": [
    "plt.figure(figsize=(14, 10))\n",
    "\n",
    "#Histogram for '가격'\n",
    "plt.subplot(2, 2, 1)\n",
    "sns.histplot(df['가격'], kde=True)\n",
    "plt.title('가격 히스토그램')"
   ]
  },
  {
   "cell_type": "code",
   "execution_count": 7,
   "id": "750d2889-802f-41e9-ae5b-77d384929d05",
   "metadata": {},
   "outputs": [
    {
     "data": {
      "text/plain": [
       "Text(0.5, 1.0, '판매량 히스토그램')"
      ]
     },
     "execution_count": 7,
     "metadata": {},
     "output_type": "execute_result"
    },
    {
     "data": {
      "image/png": "[encoded data removed]",
      "text/plain": [
       "<Figure size 1400x1000 with 1 Axes>"
      ]
     },
     "metadata": {},
     "output_type": "display_data"
    }
   ],
   "source": [
    "plt.figure(figsize=(14, 10))\n",
    "\n",
    "#Histogram for '판매량'\n",
    "plt.subplot(2, 2, 1)\n",
    "sns.histplot(df['판매량'], kde=True)\n",
    "plt.title('판매량 히스토그램')"
   ]
  },
  {
   "cell_type": "code",
   "execution_count": null,
   "id": "bbfbfd4c-f5f2-4b9c-9c30-08c5f650fc93",
   "metadata": {},
   "outputs": [],
   "source": []
  },
  {
   "cell_type": "markdown",
   "id": "fd5dbc44-45b8-4853-9c28-0b52c294d567",
   "metadata": {},
   "source": [
    "# 이상치 식별"
   ]
  },
  {
   "cell_type": "code",
   "execution_count": 8,
   "id": "6a4d615a-0c90-44a9-9643-e8a160f80eed",
   "metadata": {},
   "outputs": [],
   "source": [
    "#Function to find outliers using Z-score\n",
    "def find_outliers(df, threshold=3):\n",
    "    numeric_df = df.select_dtypes(include=[np.number])\n",
    "    z_scores = np.abs((numeric_df - numeric_df.mean()) / numeric_df.std())\n",
    "    outliers = (z_scores > threshold).any(axis=1)\n",
    "    return df[outliers]"
   ]
  },
  {
   "cell_type": "code",
   "execution_count": 10,
   "id": "c8e84f89-4d98-4bb4-a8f3-2cbdc742aaa6",
   "metadata": {},
   "outputs": [
    {
     "data": {
      "text/html": [
       "<div>\n",
       "<style scoped>\n",
       "    .dataframe tbody tr th:only-of-type {\n",
       "        vertical-align: middle;\n",
       "    }\n",
       "\n",
       "    .dataframe tbody tr th {\n",
       "        vertical-align: top;\n",
       "    }\n",
       "\n",
       "    .dataframe thead th {\n",
       "        text-align: right;\n",
       "    }\n",
       "</style>\n",
       "<table border=\"1\" class=\"dataframe\">\n",
       "  <thead>\n",
       "    <tr style=\"text-align: right;\">\n",
       "      <th></th>\n",
       "      <th>상품명</th>\n",
       "      <th>가격</th>\n",
       "      <th>판매량</th>\n",
       "    </tr>\n",
       "  </thead>\n",
       "  <tbody>\n",
       "    <tr>\n",
       "      <th>5</th>\n",
       "      <td>신발</td>\n",
       "      <td>200000</td>\n",
       "      <td>31</td>\n",
       "    </tr>\n",
       "    <tr>\n",
       "      <th>15</th>\n",
       "      <td>신발</td>\n",
       "      <td>200001</td>\n",
       "      <td>118</td>\n",
       "    </tr>\n",
       "    <tr>\n",
       "      <th>20</th>\n",
       "      <td>바지</td>\n",
       "      <td>63878</td>\n",
       "      <td>-50</td>\n",
       "    </tr>\n",
       "    <tr>\n",
       "      <th>50</th>\n",
       "      <td>신발</td>\n",
       "      <td>150000</td>\n",
       "      <td>79</td>\n",
       "    </tr>\n",
       "    <tr>\n",
       "      <th>70</th>\n",
       "      <td>모자</td>\n",
       "      <td>55406</td>\n",
       "      <td>400</td>\n",
       "    </tr>\n",
       "  </tbody>\n",
       "</table>\n",
       "</div>"
      ],
      "text/plain": [
       "   상품명      가격  판매량\n",
       "5   신발  200000   31\n",
       "15  신발  200001  118\n",
       "20  바지   63878  -50\n",
       "50  신발  150000   79\n",
       "70  모자   55406  400"
      ]
     },
     "execution_count": 10,
     "metadata": {},
     "output_type": "execute_result"
    }
   ],
   "source": [
    "outliers_df = find_outliers(df)\n",
    "outliers_df"
   ]
  },
  {
   "cell_type": "markdown",
   "id": "d5ca1639-05f2-49a3-a543-1ea3a33285bf",
   "metadata": {},
   "source": [
    "# 특이사항 처리"
   ]
  },
  {
   "cell_type": "code",
   "execution_count": 26,
   "id": "7d718e32-ab12-40ad-96a6-46e7999f1331",
   "metadata": {},
   "outputs": [
    {
     "data": {
      "text/plain": [
       "Index([5, 15, 20, 50, 70], dtype='int64')"
      ]
     },
     "execution_count": 26,
     "metadata": {},
     "output_type": "execute_result"
    }
   ],
   "source": [
    "outliers_df.index"
   ]
  },
  {
   "cell_type": "code",
   "execution_count": 27,
   "id": "f02f4f0c-2c2a-4e30-8fac-4f3bfd82504e",
   "metadata": {},
   "outputs": [],
   "source": [
    "cleaned_df = df.drop(outliers_df.index)"
   ]
  },
  {
   "cell_type": "code",
   "execution_count": 28,
   "id": "33ffde49-bc88-4f30-b367-1292fd9705bd",
   "metadata": {},
   "outputs": [
    {
     "data": {
      "text/plain": [
       "((99, 3), (94, 3))"
      ]
     },
     "execution_count": 28,
     "metadata": {},
     "output_type": "execute_result"
    }
   ],
   "source": [
    "df.shape,cleaned_df.shape"
   ]
  },
  {
   "cell_type": "code",
   "execution_count": 29,
   "id": "5fef116b-6508-4cae-89a7-b54bab4b1c42",
   "metadata": {
    "scrolled": true
   },
   "outputs": [
    {
     "data": {
      "text/html": [
       "<div>\n",
       "<style scoped>\n",
       "    .dataframe tbody tr th:only-of-type {\n",
       "        vertical-align: middle;\n",
       "    }\n",
       "\n",
       "    .dataframe tbody tr th {\n",
       "        vertical-align: top;\n",
       "    }\n",
       "\n",
       "    .dataframe thead th {\n",
       "        text-align: right;\n",
       "    }\n",
       "</style>\n",
       "<table border=\"1\" class=\"dataframe\">\n",
       "  <thead>\n",
       "    <tr style=\"text-align: right;\">\n",
       "      <th></th>\n",
       "      <th>상품명</th>\n",
       "      <th>가격</th>\n",
       "      <th>판매량</th>\n",
       "    </tr>\n",
       "  </thead>\n",
       "  <tbody>\n",
       "  </tbody>\n",
       "</table>\n",
       "</div>"
      ],
      "text/plain": [
       "Empty DataFrame\n",
       "Columns: [상품명, 가격, 판매량]\n",
       "Index: []"
      ]
     },
     "execution_count": 29,
     "metadata": {},
     "output_type": "execute_result"
    }
   ],
   "source": [
    "find_outliers(cleaned_df)"
   ]
  },
  {
   "cell_type": "code",
   "execution_count": 24,
   "id": "71141c79-adfc-44bd-b48f-9ce8a584107b",
   "metadata": {},
   "outputs": [
    {
     "ename": "AttributeError",
     "evalue": "'NoneType' object has no attribute 'drop'",
     "output_type": "error",
     "traceback": [
      "\u001b[1;31m---------------------------------------------------------------------------\u001b[0m",
      "\u001b[1;31mAttributeError\u001b[0m                            Traceback (most recent call last)",
      "Cell \u001b[1;32mIn[24], line 1\u001b[0m\n\u001b[1;32m----> 1\u001b[0m cleaned_df \u001b[38;5;241m=\u001b[39m cleaned_df\u001b[38;5;241m.\u001b[39mdrop(index\u001b[38;5;241m=\u001b[39m[\u001b[38;5;241m65\u001b[39m],inplace\u001b[38;5;241m=\u001b[39m\u001b[38;5;28;01mTrue\u001b[39;00m)\n\u001b[0;32m      2\u001b[0m cleaned_df\u001b[38;5;241m.\u001b[39mshape\n",
      "\u001b[1;31mAttributeError\u001b[0m: 'NoneType' object has no attribute 'drop'"
     ]
    }
   ],
   "source": [
    "cleaned_df = cleaned_df.drop(index=[65],inplace=True)\n",
    "cleaned_df.shape"
   ]
  },
  {
   "cell_type": "markdown",
   "id": "3c932847-1294-4ac0-a829-a10651082812",
   "metadata": {},
   "source": [
    "# 이상치 제거 후 기초통계 및 시각화 재확인"
   ]
  },
  {
   "cell_type": "markdown",
   "id": "f7b3da8f-8cb1-455f-8d28-28e164f93429",
   "metadata": {},
   "source": [
    "* 추후에도 이상치가 확인되면 삭제작업을 반복한다."
   ]
  },
  {
   "cell_type": "code",
   "execution_count": 30,
   "id": "69109c9e-9408-4bff-ad79-3d98a9712e60",
   "metadata": {},
   "outputs": [
    {
     "data": {
      "text/plain": [
       "Text(0.5, 1.0, '판매량 히스토그램')"
      ]
     },
     "execution_count": 30,
     "metadata": {},
     "output_type": "execute_result"
    },
    {
     "data": {
      "image/png": "[encoded data removed]",
      "text/plain": [
       "<Figure size 1400x1000 with 1 Axes>"
      ]
     },
     "metadata": {},
     "output_type": "display_data"
    }
   ],
   "source": [
    "plt.figure(figsize=(14, 10))\n",
    "\n",
    "#Histogram for '판매량'\n",
    "plt.subplot(2, 2, 1)\n",
    "sns.histplot(cleaned_df['판매량'], kde=True)\n",
    "plt.title('판매량 히스토그램')"
   ]
  },
  {
   "cell_type": "code",
   "execution_count": null,
   "id": "ec957181-0df9-4af9-b128-ce41652a7ef5",
   "metadata": {},
   "outputs": [],
   "source": []
  }
 ],
 "metadata": {
  "kernelspec": {
   "display_name": "Python [conda env:base] *",
   "language": "python",
   "name": "conda-base-py"
  },
  "language_info": {
   "codemirror_mode": {
    "name": "ipython",
    "version": 3
   },
   "file_extension": ".py",
   "mimetype": "text/x-python",
   "name": "python",
   "nbconvert_exporter": "python",
   "pygments_lexer": "ipython3",
   "version": "3.13.5"
  }
 },
 "nbformat": 4,
 "nbformat_minor": 5
}
