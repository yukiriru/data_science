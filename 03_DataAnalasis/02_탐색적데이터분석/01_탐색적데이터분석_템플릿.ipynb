{
 "cells": [
  {
   "cell_type": "markdown",
   "id": "16abe139-be8c-4dd0-bdc3-efd2cb0b1ec2",
   "metadata": {},
   "source": [
    "# 환경 설정"
   ]
  },
  {
   "cell_type": "code",
   "execution_count": null,
   "id": "aae9f5ec-e6f9-465b-974e-1610e69b5342",
   "metadata": {},
   "outputs": [],
   "source": [
    "import pandas as pd\n",
    "import numpy as np\n",
    "import seaborn as sns\n",
    "\n",
    "import matplotlib.pyplot as plt\n",
    "%matplotlib inline\n",
    "from matplotlib import font_manager,rc\n",
    "# 한글 폰트\n",
    "font_location = \"C:\\Windows\\Fonts\\malgun.ttf\"\n",
    "font_name = font_manager.FontProperties(fname=font_location).get_name()\n",
    "rc('font',family=font_name)\n",
    "plt.rcParams['axes.unicode_minus'] = False  # 유니코드 마이너스 기호 사용"
   ]
  },
  {
   "cell_type": "markdown",
   "id": "9a361676",
   "metadata": {
    "hidden": true
   },
   "source": [
    "## 주요절차"
   ]
  },
  {
   "cell_type": "markdown",
   "id": "3d379671-7fb1-4d1e-a490-58904eb3bed1",
   "metadata": {},
   "source": [
    "### 데이터 수집"
   ]
  },
  {
   "cell_type": "markdown",
   "id": "ec287f24-16cc-4c82-83f6-b478e82b7916",
   "metadata": {},
   "source": [
    "* 데이터 소스 명시"
   ]
  },
  {
   "cell_type": "markdown",
   "id": "27585602",
   "metadata": {
    "hidden": true
   },
   "source": [
    "### 1. 초기데이터 확인"
   ]
  },
  {
   "cell_type": "markdown",
   "id": "8ee24b55-a0e3-4420-bcd1-c36be80bf68f",
   "metadata": {
    "hidden": true
   },
   "source": [
    "#### 1-1. 데이터딕셔너리(각 열의 의미, 데이터의 의미해석관련 스펙 또는 메뉴얼) 확인"
   ]
  },
  {
   "cell_type": "markdown",
   "id": "6ca8f99f-15bb-48e9-a534-7cfc1aa498f5",
   "metadata": {
    "hidden": true
   },
   "source": [
    "#### 1-2 데이터 기초정보 확인 (사이즈, 열이름, 데이터형)"
   ]
  },
  {
   "cell_type": "markdown",
   "id": "fc3d0eb7-3b2e-4204-944a-9287732085c9",
   "metadata": {},
   "source": [
    "#### 1-3 기초통계정보 확인"
   ]
  },
  {
   "cell_type": "raw",
   "id": "66a43f0e-61a2-491f-96c6-5a54f3e52b50",
   "metadata": {
    "hidden": true
   },
   "source": [
    "기초 통계값 확인 ( df.describe() )\n",
    "[수치형 데이터]\r",
    " \n",
    "=> 수치데이터로서 의미가 는지 판단? \r\n",
    "=> 의미가 있는(예: 키, 몸무게, 가격등) 열에 대해 아래 작업 진행  분석\r\n",
    " - 확인해야 할 사항    수치상\r\n",
    "mean, min, 1q, 2q(중위값), 3q,게, 가격\r\n",
    " - 시각화\r\n",
    "  히스토그램, 박스플롯 (바이올린플롯)\r\n",
    " - 이상치 유무 확인\r\n",
    " - 이상치가 있다면 보정방식을 선택\r\n",
    "  (예: 삭제, 포함)\r\n",
    "- 기초통계값과, 차트 재확인 (이상\n",
    "[보정  데이터]유무 확인)\r\n",
    "- 문자열\r\n",
    " => unique의 결과값에서 파이차트나 막대차트로 그릴수  - 있는 열이 있는지 확인\r\n",
    " 10개미만은 파이차트,  - 도우넛차트 그리기에 용이\r\n",
    " 10개상위 은 파이차트, 막대차트(Top3,5,10 등을 도출.. 그리고 형 데이터나하위 데이터3,5,10)\r\n",
    "\r\n",
    "* 수치 문자 중에 범위화 할 \n",
    " 예)수 있는 열이 있는지 확인해 보자\r\n",
    " 가격=> 초고가, 고가,위 작업은  일반, 저가\r\n",
    " 주소 추후 진행할 수 있다.pply 함수를 통해\r",
    "ly 함수를 통해"
   ]
  },
  {
   "cell_type": "markdown",
   "id": "2ebab032",
   "metadata": {
    "hidden": true
   },
   "source": [
    "### 2. 데이터 정제"
   ]
  },
  {
   "cell_type": "markdown",
   "id": "39e200d0",
   "metadata": {
    "hidden": true
   },
   "source": [
    "#### 2.1. 원본데이터에서 분석가능한 형태로 데이터 전처리 (형변환, 열이름 변경등)\n",
    "#### 2.2. 데이터 클리닝: 이상치, 결측치처리"
   ]
  },
  {
   "cell_type": "markdown",
   "id": "4e60e3f3",
   "metadata": {
    "hidden": true
   },
   "source": [
    "### 3. 초기데이터 분석"
   ]
  },
  {
   "cell_type": "markdown",
   "id": "82e0a525",
   "metadata": {
    "hidden": true
   },
   "source": [
    "#### 3.1 데이터 정제후 데이터딕셔너리 재확인\n",
    "#### 3.2 기초통계 정보 확인 (최대값, 최소값, 평균값, 표준편차, 최빈값, 유일값 등)\n",
    "#### 3.3 시각화를 통한 데이터이해 심화 "
   ]
  },
  {
   "cell_type": "markdown",
   "id": "87e87a59",
   "metadata": {
    "hidden": true
   },
   "source": [
    "* 3.3.1 단일 열: 데이터의 성격에 따른 다양한 차트 적용  \n",
    "* 3.3.2 복수 열: 두개의 열간 연관관계 분석(Pair Plot 또는 Seaborn의 관련 지원 차트등)"
   ]
  },
  {
   "cell_type": "markdown",
   "id": "1016da18-a38d-4677-942d-ff8e13f2dfad",
   "metadata": {},
   "source": [
    "#### 3.4 데이터 분석 결과도출"
   ]
  },
  {
   "cell_type": "markdown",
   "id": "bc23d74d-a4cc-443f-984c-2ea493b3dd09",
   "metadata": {},
   "source": [
    "# 4. 탐색적연구"
   ]
  },
  {
   "cell_type": "markdown",
   "id": "3e7d8ba1-6a5d-4a0f-bbbe-f3d503c43175",
   "metadata": {},
   "source": [
    "#### Step0] 데이터 분석을 위한 목적, 대상 또는 주요 가설을 세워본다. 주요가설 도출후 우선순위를 설정한다."
   ]
  },
  {
   "cell_type": "markdown",
   "id": "6e717d77-89a2-4fd0-9e0a-8ce5527d3df9",
   "metadata": {},
   "source": [
    "#### Step1] 우선순위가 높은 가설을 구체화 한다.\n",
    "* 예) 나이와 월급간에 상관관계가 있을 것이다. (40~60대 사이에서 급여가 가장 높을 것이다)"
   ]
  },
  {
   "cell_type": "markdown",
   "id": "9d6bac36-33db-4150-bd7b-f4fa89a4ca08",
   "metadata": {},
   "source": [
    "#### Step2] 가설증명: 데이터 재 구조화, 시각화를 통해 새로운 insight 및 정보를 습득 및 가설을 검증한다. \n",
    "* 예) 나이별 월급에 대한 평균값을 구하고 line차트로 시각화하여 추세를 파악하여 가설을 검증한다."
   ]
  },
  {
   "cell_type": "markdown",
   "id": "385db4a9-bf48-4479-ac65-5813098ad3ea",
   "metadata": {},
   "source": [
    "#### Step3] 가설결론: 해당 가설에 대한 결론을 내린다."
   ]
  },
  {
   "cell_type": "markdown",
   "id": "7e7cc94c-59b6-4627-8844-bd50cf3de83f",
   "metadata": {},
   "source": [
    "#### Step4] 탐색적연구 반복\n",
    "* 추가 가설 설정 하고 가설의 우선순위를 재조정한다.\n",
    "* 시간 일정이 허락하는 범위내에서 Step1~Step3를 반복한다."
   ]
  },
  {
   "cell_type": "markdown",
   "id": "49634c1e-98c1-4371-a3ad-935514955cdf",
   "metadata": {},
   "source": [
    "#### Step5] 최종결론: 지금까지 진행했던 모든 탐색적연구의 결과를 반영하여 최종 결론을 내린다."
   ]
  },
  {
   "cell_type": "markdown",
   "id": "624a871d-49ea-4629-a260-dce13da1669e",
   "metadata": {},
   "source": [
    "---"
   ]
  },
  {
   "cell_type": "markdown",
   "id": "1ef49c0d-2e75-4bde-879a-4298d3d445bf",
   "metadata": {},
   "source": [
    "---"
   ]
  },
  {
   "cell_type": "markdown",
   "id": "d98ee251",
   "metadata": {},
   "source": [
    "# 데이터분석 적용 실습 템플릿"
   ]
  },
  {
   "cell_type": "code",
   "execution_count": null,
   "id": "2cd37688-f2e8-48bc-bd49-f4a2568911e2",
   "metadata": {},
   "outputs": [],
   "source": [
    "import pandas as pd\n",
    "import numpy as np\n",
    "import seaborn as sns"
   ]
  },
  {
   "cell_type": "markdown",
   "id": "bf0ce18c-c55c-4c09-86f8-ce8822890c5e",
   "metadata": {},
   "source": [
    "## 필요한 모듈 import"
   ]
  },
  {
   "cell_type": "code",
   "execution_count": null,
   "id": "9d0214b5-ef03-49c9-bb79-9a6fc62415e1",
   "metadata": {},
   "outputs": [],
   "source": []
  },
  {
   "cell_type": "markdown",
   "id": "0521bf67",
   "metadata": {},
   "source": [
    "## 데이터 수집"
   ]
  },
  {
   "cell_type": "code",
   "execution_count": 1,
   "id": "46c5eafe",
   "metadata": {},
   "outputs": [],
   "source": [
    "# 데이터 소스를 확보하세요\n"
   ]
  },
  {
   "cell_type": "markdown",
   "id": "c3b597f4",
   "metadata": {},
   "source": [
    "## 1. 초기데이터 확인"
   ]
  },
  {
   "cell_type": "markdown",
   "id": "0c3c91be",
   "metadata": {},
   "source": [
    "### 1-1. 데이터스키마 확인"
   ]
  },
  {
   "cell_type": "markdown",
   "id": "16b49047-50c3-4ff3-9417-edb92d59b2d4",
   "metadata": {},
   "source": [
    "#### 각 열의 의미, 데이터의 의미해석관련 스펙 또는 메뉴얼을 확인 가능시 진행 하세요\n",
    "* A열: A열의 의미를 기술\n",
    "* B열: B열의 의미를 기술  \n",
    "..."
   ]
  },
  {
   "cell_type": "markdown",
   "id": "913979f3",
   "metadata": {},
   "source": [
    "### 1-2. 데이터 기초정보 확인"
   ]
  },
  {
   "cell_type": "markdown",
   "id": "1e03acff-a002-4e37-be88-5d36d4706630",
   "metadata": {},
   "source": [
    "* 사이즈, 데이터형, 기초통계항목등을 확인하세요  "
   ]
  },
  {
   "cell_type": "code",
   "execution_count": null,
   "id": "4213881a-92fb-4064-af2a-25bc73e4299e",
   "metadata": {},
   "outputs": [],
   "source": [
    "#df.shape\n",
    "#df.info()"
   ]
  },
  {
   "cell_type": "markdown",
   "id": "8d2984b9-6715-49a2-8583-d9583b38b857",
   "metadata": {},
   "source": [
    "* 기초통계항목"
   ]
  },
  {
   "cell_type": "code",
   "execution_count": null,
   "id": "7f497c28-3191-4262-aae0-41402e8eaeef",
   "metadata": {},
   "outputs": [],
   "source": [
    "# df.desribe()"
   ]
  },
  {
   "cell_type": "markdown",
   "id": "c2e13829",
   "metadata": {},
   "source": [
    "## 2. 데이터 정제"
   ]
  },
  {
   "cell_type": "markdown",
   "id": "7eedb11e",
   "metadata": {},
   "source": [
    "### 2-1. 간단한 데이터 전처리"
   ]
  },
  {
   "cell_type": "code",
   "execution_count": 5,
   "id": "5fd51a76",
   "metadata": {},
   "outputs": [],
   "source": [
    "# 원본데이터로에서 읽기 가능한 형태로 데이터처리를 하세요. (열이름 변경, 형변환 등)"
   ]
  },
  {
   "cell_type": "markdown",
   "id": "cfa0f4f4",
   "metadata": {},
   "source": [
    "### 2-2. 데이터 클리닝"
   ]
  },
  {
   "cell_type": "code",
   "execution_count": 6,
   "id": "81050694",
   "metadata": {},
   "outputs": [],
   "source": [
    "# 결측치, 중복값, 이상치 처리등의 작업을 진행하세요"
   ]
  },
  {
   "cell_type": "markdown",
   "id": "94b01c03-879b-4b93-a375-5a88a7f3672a",
   "metadata": {},
   "source": [
    "* 결측치"
   ]
  },
  {
   "cell_type": "markdown",
   "id": "497a7431-81b3-42d2-84b5-0afde8e6c9c4",
   "metadata": {},
   "source": [
    "    - 결측치 열 확인"
   ]
  },
  {
   "cell_type": "code",
   "execution_count": null,
   "id": "b0a70dec-f81b-46d8-b58c-73f81ce17493",
   "metadata": {},
   "outputs": [],
   "source": [
    "# missing_values = df.isnull().any()  \n",
    "# column_missing_values = missing_values[ missing_values == True ]\n",
    "# column_missing_values"
   ]
  },
  {
   "cell_type": "raw",
   "id": "ab96e2e8-2ecc-462b-8055-915bff513d34",
   "metadata": {},
   "source": [
    "   - 결측값이 있는 모든 행 확인"
   ]
  },
  {
   "cell_type": "code",
   "execution_count": null,
   "id": "53aa6924-3c4f-4aad-91cf-2d09b459d59b",
   "metadata": {},
   "outputs": [],
   "source": [
    "# df.isnull().any(axis=1)"
   ]
  },
  {
   "cell_type": "markdown",
   "id": "b9cbf7a2-7aa7-4d87-86d8-b31476a77a01",
   "metadata": {},
   "source": [
    "* 결측치 보정"
   ]
  },
  {
   "cell_type": "raw",
   "id": "adbf1968-8d29-4baa-949e-d6394e19b81b",
   "metadata": {},
   "source": [
    "   - 열에 대하여 단일 값 보정     "
   ]
  },
  {
   "cell_type": "code",
   "execution_count": null,
   "id": "0e6c6935-a8a6-4df0-bed5-8da8fd160ec2",
   "metadata": {},
   "outputs": [],
   "source": [
    "# df['나이'] = df['나이'].fillna(0)"
   ]
  },
  {
   "cell_type": "raw",
   "id": "367abb36-a09d-4f12-be6d-cd0bc685f452",
   "metadata": {},
   "source": [
    "   - 데이터 프레임 전체에 단일 값 보정  "
   ]
  },
  {
   "cell_type": "code",
   "execution_count": 1,
   "id": "437088df-6ab9-474d-9b3f-503b9f8e2476",
   "metadata": {},
   "outputs": [],
   "source": [
    "# df = df.fillna(0)"
   ]
  },
  {
   "cell_type": "markdown",
   "id": "6cb87513-ac6b-49cd-98bd-6ff427c5d759",
   "metadata": {},
   "source": [
    "* 중복값 삭제 (필요시)"
   ]
  },
  {
   "cell_type": "raw",
   "id": "4e12f2c7-add7-47b8-a986-376fc1f2634e",
   "metadata": {},
   "source": [
    "  - 모든 중복 행데이터 확인"
   ]
  },
  {
   "cell_type": "code",
   "execution_count": null,
   "id": "eb5f565f-8fc8-434f-bb66-a9d1c75a7605",
   "metadata": {},
   "outputs": [],
   "source": [
    "# df[df.duplicated(keep=False)]"
   ]
  },
  {
   "cell_type": "raw",
   "id": "e847b33e-f13a-47bd-af55-111bf56442b2",
   "metadata": {},
   "source": [
    "  - 모든 중복 행데이터 삭제"
   ]
  },
  {
   "cell_type": "code",
   "execution_count": null,
   "id": "a352aa67-0634-483e-a41b-ba06c6cf51ab",
   "metadata": {},
   "outputs": [],
   "source": [
    "# df.drop_duplicates(inplace=True)"
   ]
  },
  {
   "cell_type": "markdown",
   "id": "9dac0879",
   "metadata": {},
   "source": [
    "## 3. 초기데이터 분석"
   ]
  },
  {
   "cell_type": "markdown",
   "id": "253f0cc0",
   "metadata": {},
   "source": [
    "### 3.1. 데이터 정제후 데이터스키마 재확인"
   ]
  },
  {
   "cell_type": "markdown",
   "id": "1812339b-9396-4195-833b-4be5a041d05d",
   "metadata": {},
   "source": [
    "* 1-2 작업을 다시 해보세요."
   ]
  },
  {
   "cell_type": "markdown",
   "id": "8a244e0a",
   "metadata": {},
   "source": [
    "### 3.2 데이터 기초정보 정보 확인"
   ]
  },
  {
   "cell_type": "markdown",
   "id": "3361d7b0-6b2c-493e-a6f8-20bcb153b912",
   "metadata": {},
   "source": [
    "* 최대값, 최소값, 평균값, 표준편차, 최빈값, 유일값, 결측치, 이상치 등의 정보를 재확인해 보세요"
   ]
  },
  {
   "cell_type": "markdown",
   "id": "e73d61a5",
   "metadata": {},
   "source": [
    "### 3.3 시각화를 통한 데이터이해 심화"
   ]
  },
  {
   "cell_type": "markdown",
   "id": "5de7dac1-31b5-4138-a9a6-33fbbde9caac",
   "metadata": {},
   "source": [
    "* 데이터의 성격에 따라 이해도를 올리기 위해 시각화가 필요한 데이터차트를 만들어 보세요.  \n",
    "  (Seaborn 추천: 페어플롯, 막대차트, 파이차트, 라인차트, 히스토그램등..)\n",
    "  * 범주형: countplot, barplot\n",
    "  * 단일수치값: histogram, boxplot등\n",
    "  * 시계열: lineplot\n",
    "  * 연관관계: pairplot, heatmap\n",
    "* 시각화한 차트에 대한 분석"
   ]
  },
  {
   "cell_type": "markdown",
   "id": "a3235557-d2a2-4d63-8932-c9e0c556dcb5",
   "metadata": {},
   "source": [
    "# 4. 탐색적연구"
   ]
  },
  {
   "cell_type": "markdown",
   "id": "8ff4c291-01f7-4056-812e-e0a23f00b8f0",
   "metadata": {},
   "source": [
    "#### Step1] 가설: 데이터 분석을 위한 목적, 대상 또는 가설을 세워본다.\n",
    "* 예) 나이와 월급간에 상관관계가 있을 것이다. (40~60대 사이에서 급여가 가장 높을 것이다)"
   ]
  },
  {
   "cell_type": "markdown",
   "id": "92480987-f863-4f32-a729-bc3be72bf6bd",
   "metadata": {},
   "source": [
    "#### Step2] 가설증명: 데이터 재 구조화, 시각화를 통해 새로운 insight 및 정보를 습득 및 가설을 검증한다. \n",
    "* 예) 나이별 월급에 대한 평균값을 구하고 line차트로 시각화하여 추세를 파악하여 가설을 검증한다."
   ]
  },
  {
   "cell_type": "markdown",
   "id": "b75903af-4eb4-4405-8865-15e6536b9def",
   "metadata": {},
   "source": [
    "#### Step3] 가설결론: 해당 가설에 대한 결론을 내린다."
   ]
  },
  {
   "cell_type": "markdown",
   "id": "de836e82-6986-4187-9303-33800fd71151",
   "metadata": {},
   "source": [
    "#### Step4] 탐색적연구 반복: 시간 일정이 허락하는 범위내에서 Step1~Step3를 반복한다."
   ]
  },
  {
   "cell_type": "markdown",
   "id": "f890f5ea-dc44-4ed7-a1ca-adce71183346",
   "metadata": {},
   "source": [
    "#### Step5] 최종결론: 지금까지 진행했던 모든 탐색적연구의 결과를 반영하여 최종 결론을 내린다.\n",
    "* 개별가설에 대한 인사이트 취합\n",
    "* 인사이트별 비즈니스 전략 도출\n",
    "* 추가로 분석하지 못한 항목 및 향후 분석 아이디어등을 명시"
   ]
  },
  {
   "cell_type": "code",
   "execution_count": null,
   "id": "2f6efa55-e0fe-403d-b199-a4e0590e52bb",
   "metadata": {},
   "outputs": [],
   "source": []
  },
  {
   "cell_type": "code",
   "execution_count": null,
   "id": "1f22e439-ace4-492d-99ee-b951f5347c2f",
   "metadata": {},
   "outputs": [],
   "source": []
  }
 ],
 "metadata": {
  "kernelspec": {
   "display_name": "Python [conda env:base] *",
   "language": "python",
   "name": "conda-base-py"
  },
  "language_info": {
   "codemirror_mode": {
    "name": "ipython",
    "version": 3
   },
   "file_extension": ".py",
   "mimetype": "text/x-python",
   "name": "python",
   "nbconvert_exporter": "python",
   "pygments_lexer": "ipython3",
   "version": "3.13.5"
  }
 },
 "nbformat": 4,
 "nbformat_minor": 5
}
