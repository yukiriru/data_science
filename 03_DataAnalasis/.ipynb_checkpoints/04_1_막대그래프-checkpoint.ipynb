{
 "cells": [
  {
   "cell_type": "markdown",
   "id": "a19a2e9a",
   "metadata": {},
   "source": [
    "## bar 차트 기본 사용"
   ]
  },
  {
   "cell_type": "markdown",
   "id": "7c0cdf21-93f8-4822-a433-bba58726cb5b",
   "metadata": {},
   "source": [
    "* 예상되는 원본데이터(Long형) 형태"
   ]
  },
  {
   "cell_type": "markdown",
   "id": "93954cfd-dd9b-459d-a1d5-a50e53ffb068",
   "metadata": {},
   "source": [
    "# 실데이터 연습"
   ]
  },
  {
   "cell_type": "markdown",
   "id": "ae9cd15d",
   "metadata": {},
   "source": [
    "### 색상 지정하기"
   ]
  },
  {
   "cell_type": "markdown",
   "id": "2987bef7",
   "metadata": {},
   "source": [
    "### 바마다 개별 색 지정"
   ]
  },
  {
   "cell_type": "markdown",
   "id": "984f8f86",
   "metadata": {},
   "source": [
    "### 막대 폭 지정하기"
   ]
  },
  {
   "cell_type": "markdown",
   "id": "447d119a",
   "metadata": {},
   "source": [
    "### 스타일 꾸미기"
   ]
  },
  {
   "cell_type": "raw",
   "id": "f629a3b7",
   "metadata": {},
   "source": [
    "align은 눈금과 막대의 위치를 조절. 디폴트 값은 ‘center’이며, ‘edge’로 설정하면 막대의 왼쪽 끝에 눈금이 표시.\n",
    "\n",
    "edgecolor는 막대 테두리 색, linewidth는 테두리의 두께를 지정.\n",
    "\n",
    "tick_label을 리스트 또는 어레이 형태로 지정하면, 틱에 문자열을 순서대로 나타냄."
   ]
  },
  {
   "cell_type": "markdown",
   "id": "38f1c03f",
   "metadata": {},
   "source": [
    "## 수평 막대 그래프 그리기"
   ]
  },
  {
   "cell_type": "markdown",
   "id": "10d91b89",
   "metadata": {},
   "source": [
    "### 기본 사용 (barh 함수 활용)"
   ]
  },
  {
   "cell_type": "markdown",
   "id": "1bccfaa0",
   "metadata": {},
   "source": [
    "### 색상지정하기"
   ]
  },
  {
   "cell_type": "markdown",
   "id": "3ae8f5f6",
   "metadata": {},
   "source": [
    "### 색상 개별 지정"
   ]
  },
  {
   "cell_type": "markdown",
   "id": "9e7c4140",
   "metadata": {},
   "source": [
    "### 막대 위치 지정"
   ]
  },
  {
   "cell_type": "markdown",
   "id": "f182aa25",
   "metadata": {},
   "source": [
    "### 스타일 꾸미기"
   ]
  }
 ],
 "metadata": {
  "kernelspec": {
   "display_name": "Python [conda env:base] *",
   "language": "python",
   "name": "conda-base-py"
  },
  "language_info": {
   "codemirror_mode": {
    "name": "ipython",
    "version": 3
   },
   "file_extension": ".py",
   "mimetype": "text/x-python",
   "name": "python",
   "nbconvert_exporter": "python",
   "pygments_lexer": "ipython3",
   "version": "3.13.5"
  }
 },
 "nbformat": 4,
 "nbformat_minor": 5
}
