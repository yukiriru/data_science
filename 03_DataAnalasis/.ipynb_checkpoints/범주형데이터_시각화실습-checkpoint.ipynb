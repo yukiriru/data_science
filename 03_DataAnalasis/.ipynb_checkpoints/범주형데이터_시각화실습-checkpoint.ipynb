{
 "cells": [
  {
   "cell_type": "code",
   "execution_count": 4,
   "id": "53bdecf4-7501-4a92-89d9-09c634b75360",
   "metadata": {},
   "outputs": [],
   "source": [
    "import pandas as pd\n",
    "import numpy as np\n",
    "import matplotlib.pyplot as plt\n",
    "%matplotlib inline\n",
    "from matplotlib import font_manager,rc\n",
    "# 한글 폰트\n",
    "font_location = \"C:\\Windows\\Fonts\\malgun.ttf\"\n",
    "font_name = font_manager.FontProperties(fname=font_location).get_name()\n",
    "rc('font',family=font_name)"
   ]
  },
  {
   "cell_type": "markdown",
   "id": "2145e5ae-8c85-45ac-904a-3b08c2a1b9f0",
   "metadata": {},
   "source": [
    "# 데이터 선정"
   ]
  },
  {
   "cell_type": "code",
   "execution_count": 6,
   "id": "0854357b-65c4-4f7a-b6ad-8427d4dc0a07",
   "metadata": {},
   "outputs": [
    {
     "data": {
      "text/html": [
       "<div>\n",
       "<style scoped>\n",
       "    .dataframe tbody tr th:only-of-type {\n",
       "        vertical-align: middle;\n",
       "    }\n",
       "\n",
       "    .dataframe tbody tr th {\n",
       "        vertical-align: top;\n",
       "    }\n",
       "\n",
       "    .dataframe thead th {\n",
       "        text-align: right;\n",
       "    }\n",
       "</style>\n",
       "<table border=\"1\" class=\"dataframe\">\n",
       "  <thead>\n",
       "    <tr style=\"text-align: right;\">\n",
       "      <th></th>\n",
       "      <th>시도</th>\n",
       "      <th>시군구</th>\n",
       "      <th>사고건수</th>\n",
       "      <th>사망자수</th>\n",
       "      <th>중상자수</th>\n",
       "      <th>경상자수</th>\n",
       "      <th>부상신고자수</th>\n",
       "    </tr>\n",
       "  </thead>\n",
       "  <tbody>\n",
       "    <tr>\n",
       "      <th>0</th>\n",
       "      <td>서울</td>\n",
       "      <td>종로구</td>\n",
       "      <td>917</td>\n",
       "      <td>5</td>\n",
       "      <td>230</td>\n",
       "      <td>938</td>\n",
       "      <td>85</td>\n",
       "    </tr>\n",
       "    <tr>\n",
       "      <th>1</th>\n",
       "      <td>서울</td>\n",
       "      <td>중구</td>\n",
       "      <td>976</td>\n",
       "      <td>16</td>\n",
       "      <td>241</td>\n",
       "      <td>876</td>\n",
       "      <td>119</td>\n",
       "    </tr>\n",
       "    <tr>\n",
       "      <th>2</th>\n",
       "      <td>서울</td>\n",
       "      <td>용산구</td>\n",
       "      <td>868</td>\n",
       "      <td>12</td>\n",
       "      <td>224</td>\n",
       "      <td>917</td>\n",
       "      <td>33</td>\n",
       "    </tr>\n",
       "    <tr>\n",
       "      <th>3</th>\n",
       "      <td>서울</td>\n",
       "      <td>성동구</td>\n",
       "      <td>919</td>\n",
       "      <td>7</td>\n",
       "      <td>210</td>\n",
       "      <td>889</td>\n",
       "      <td>56</td>\n",
       "    </tr>\n",
       "    <tr>\n",
       "      <th>4</th>\n",
       "      <td>서울</td>\n",
       "      <td>동대문구</td>\n",
       "      <td>1520</td>\n",
       "      <td>5</td>\n",
       "      <td>403</td>\n",
       "      <td>1369</td>\n",
       "      <td>134</td>\n",
       "    </tr>\n",
       "  </tbody>\n",
       "</table>\n",
       "</div>"
      ],
      "text/plain": [
       "   시도   시군구  사고건수  사망자수  중상자수  경상자수  부상신고자수\n",
       "0  서울   종로구   917     5   230   938      85\n",
       "1  서울    중구   976    16   241   876     119\n",
       "2  서울   용산구   868    12   224   917      33\n",
       "3  서울   성동구   919     7   210   889      56\n",
       "4  서울  동대문구  1520     5   403  1369     134"
      ]
     },
     "execution_count": 6,
     "metadata": {},
     "output_type": "execute_result"
    }
   ],
   "source": [
    "df = pd.read_csv('한국도로교통공단_시도 시군구별 교통사고 통계_20241231.csv',encoding='cp949')\n",
    "df.head()"
   ]
  },
  {
   "cell_type": "markdown",
   "id": "01183879-fb85-4855-80de-1ba4f0f12fc4",
   "metadata": {},
   "source": [
    "* 공공데이터 포털에서 csv 파일 검색"
   ]
  },
  {
   "cell_type": "raw",
   "id": "d1d122ce-250e-49cd-9348-9a33f8afd6c5",
   "metadata": {},
   "source": [
    "수치형 데이터가 아닌 범주형 문자열 데이터"
   ]
  },
  {
   "cell_type": "markdown",
   "id": "ae917d68-e092-47d4-992b-b47029e5f9b3",
   "metadata": {},
   "source": [
    "# 데이터 읽기"
   ]
  },
  {
   "cell_type": "code",
   "execution_count": null,
   "id": "443334c9-f862-4e30-9512-a96c3fd6da5e",
   "metadata": {},
   "outputs": [],
   "source": []
  },
  {
   "cell_type": "markdown",
   "id": "b62563fe-a6cb-4f34-98d0-7b8abf489281",
   "metadata": {},
   "source": [
    "# 데이터 기본 분석"
   ]
  },
  {
   "cell_type": "code",
   "execution_count": 7,
   "id": "d97b22e2-5281-40d7-8aeb-79ae37ad2b97",
   "metadata": {},
   "outputs": [
    {
     "name": "stdout",
     "output_type": "stream",
     "text": [
      "<class 'pandas.core.frame.DataFrame'>\n",
      "RangeIndex: 229 entries, 0 to 228\n",
      "Data columns (total 7 columns):\n",
      " #   Column  Non-Null Count  Dtype \n",
      "---  ------  --------------  ----- \n",
      " 0   시도      229 non-null    object\n",
      " 1   시군구     229 non-null    object\n",
      " 2   사고건수    229 non-null    int64 \n",
      " 3   사망자수    229 non-null    int64 \n",
      " 4   중상자수    229 non-null    int64 \n",
      " 5   경상자수    229 non-null    int64 \n",
      " 6   부상신고자수  229 non-null    int64 \n",
      "dtypes: int64(5), object(2)\n",
      "memory usage: 12.7+ KB\n"
     ]
    }
   ],
   "source": [
    "df.info()"
   ]
  },
  {
   "cell_type": "markdown",
   "id": "1f754515-54bf-44a5-ae77-f541530e2ba7",
   "metadata": {},
   "source": [
    "# 데이터 전처리"
   ]
  },
  {
   "cell_type": "markdown",
   "id": "6ab576e9-bf96-4478-b102-1bffbb4d35c1",
   "metadata": {},
   "source": [
    "* 결측치\n",
    "* 이상치\n",
    "* 중복데이터"
   ]
  },
  {
   "cell_type": "code",
   "execution_count": null,
   "id": "9bffcd37-f513-48c6-a481-28ca8689356c",
   "metadata": {},
   "outputs": [],
   "source": []
  },
  {
   "cell_type": "markdown",
   "id": "b45a6f24-818c-4c72-bd30-18ecd7836a07",
   "metadata": {},
   "source": [
    "# 분석용 데이터 변환"
   ]
  },
  {
   "cell_type": "markdown",
   "id": "3ba8425a-26ea-4f42-8430-c1268a4f3bd4",
   "metadata": {},
   "source": [
    "* value_counts()\n",
    "* 사용자 정의 전처리: apply()"
   ]
  },
  {
   "cell_type": "code",
   "execution_count": null,
   "id": "c098dfc8-165e-4802-9023-f7678f661d82",
   "metadata": {},
   "outputs": [],
   "source": []
  },
  {
   "cell_type": "markdown",
   "id": "b029f800-fd62-4e91-931c-1849bc4d22c2",
   "metadata": {},
   "source": [
    "# 시각화"
   ]
  },
  {
   "cell_type": "markdown",
   "id": "3b0c88bb-c73e-4632-afb3-59dd32480442",
   "metadata": {},
   "source": [
    "* Bar차트"
   ]
  },
  {
   "cell_type": "code",
   "execution_count": null,
   "id": "4baed700-e5a7-4689-a3c8-bca45af36a3a",
   "metadata": {},
   "outputs": [],
   "source": []
  },
  {
   "cell_type": "markdown",
   "id": "2ed09dd4-a682-45bd-b13f-8758ead14b80",
   "metadata": {},
   "source": [
    "* 파이 차트"
   ]
  },
  {
   "cell_type": "code",
   "execution_count": null,
   "id": "46ef20ca-d33e-4c2d-ba81-85226373702e",
   "metadata": {},
   "outputs": [],
   "source": []
  }
 ],
 "metadata": {
  "kernelspec": {
   "display_name": "Python [conda env:base] *",
   "language": "python",
   "name": "conda-base-py"
  },
  "language_info": {
   "codemirror_mode": {
    "name": "ipython",
    "version": 3
   },
   "file_extension": ".py",
   "mimetype": "text/x-python",
   "name": "python",
   "nbconvert_exporter": "python",
   "pygments_lexer": "ipython3",
   "version": "3.13.5"
  }
 },
 "nbformat": 4,
 "nbformat_minor": 5
}
