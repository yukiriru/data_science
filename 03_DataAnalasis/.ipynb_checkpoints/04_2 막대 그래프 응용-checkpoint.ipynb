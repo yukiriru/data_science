{
 "cells": [
  {
   "cell_type": "code",
   "execution_count": 1,
   "id": "a31ebf86-c68d-486e-a23a-4275c5f746cf",
   "metadata": {},
   "outputs": [],
   "source": [
    "import pandas as pd\n",
    "import numpy as np\n",
    "import matplotlib.pyplot as plt\n",
    "%matplotlib inline\n",
    "from matplotlib import font_manager,rc\n",
    "# 한글 폰트\n",
    "font_location = \"C:\\Windows\\Fonts\\malgun.ttf\"\n",
    "font_name = font_manager.FontProperties(fname=font_location).get_name()\n",
    "rc('font',family=font_name)"
   ]
  },
  {
   "cell_type": "markdown",
   "id": "84692f5f-9ad3-44f4-a58d-df03bd536568",
   "metadata": {},
   "source": [
    "* 빅데이터 생성 시뮬레이션"
   ]
  },
  {
   "cell_type": "markdown",
   "id": "b36956e2-bc58-4faf-af78-f0bbe1ea4bdb",
   "metadata": {},
   "source": [
    "- Random하게 생성할 범주형 데이터 정의"
   ]
  },
  {
   "cell_type": "code",
   "execution_count": 2,
   "id": "a575e33e-c498-44e5-9e23-a89c91cdb72b",
   "metadata": {},
   "outputs": [],
   "source": [
    "import random"
   ]
  },
  {
   "cell_type": "code",
   "execution_count": 4,
   "id": "b9fa6051-1dd7-4155-871d-a292b69edd11",
   "metadata": {},
   "outputs": [],
   "source": [
    "sex_range=['남성', '여성']\n",
    "age_range=[20,21,22,23,24,25,26,27,28,29]\n",
    "marrage_range=['독신','기혼','재혼']\n",
    "income_range=['저소득자','3000만원대','4000만원대','5000만원대','6000만원대','고소득자']\n",
    "\n",
    "MAX_RECORD=1000000 # 100만건\n",
    "\n",
    "sex_list=[] # 성 유형 \n",
    "age_list=[] # 20대 나이 분포\n",
    "marrage_list=[] # 결혼 형태\n",
    "income_list=[] # 소득수준"
   ]
  },
  {
   "cell_type": "code",
   "execution_count": null,
   "id": "a2a91f41-fd03-4ed8-9bec-7d93da387cf9",
   "metadata": {},
   "outputs": [],
   "source": []
  },
  {
   "cell_type": "code",
   "execution_count": 129,
   "id": "a72c6edf-ad6d-4a25-af14-5e8245da75f0",
   "metadata": {},
   "outputs": [
    {
     "data": {
      "text/plain": [
       "0"
      ]
     },
     "execution_count": 129,
     "metadata": {},
     "output_type": "execute_result"
    }
   ],
   "source": [
    "random.choice(range(len(sex_range)))"
   ]
  },
  {
   "cell_type": "markdown",
   "id": "500896d8-159d-43e6-9761-bb33cc5f4b58",
   "metadata": {},
   "source": [
    "# 막대차트에 값표시"
   ]
  },
  {
   "cell_type": "markdown",
   "id": "799df2a8-848a-4732-b8f7-40eb6cc8b011",
   "metadata": {},
   "source": [
    "* Bar 정중앙에 값 표시"
   ]
  }
 ],
 "metadata": {
  "kernelspec": {
   "display_name": "Python [conda env:base] *",
   "language": "python",
   "name": "conda-base-py"
  },
  "language_info": {
   "codemirror_mode": {
    "name": "ipython",
    "version": 3
   },
   "file_extension": ".py",
   "mimetype": "text/x-python",
   "name": "python",
   "nbconvert_exporter": "python",
   "pygments_lexer": "ipython3",
   "version": "3.13.5"
  }
 },
 "nbformat": 4,
 "nbformat_minor": 5
}
