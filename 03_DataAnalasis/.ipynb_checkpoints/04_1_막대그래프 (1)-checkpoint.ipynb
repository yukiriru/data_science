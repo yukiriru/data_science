{
 "cells": [
  {
   "cell_type": "code",
   "execution_count": 93,
   "id": "2fe34a77-a5cc-4f04-b9a9-d6c09359129a",
   "metadata": {},
   "outputs": [],
   "source": [
    "import pandas as pd\n",
    "import numpy as np\n",
    "import matplotlib.pyplot as plt\n",
    "%matplotlib inline\n",
    "from matplotlib import font_manager,rc\n",
    "# 한글 폰트\n",
    "font_location = \"C:\\Windows\\Fonts\\malgun.ttf\"\n",
    "font_name = font_manager.FontProperties(fname=font_location).get_name()\n",
    "rc('font',family=font_name)"
   ]
  },
  {
   "cell_type": "markdown",
   "id": "2e8ba9e3-1361-42b9-8ded-0e3ff7391231",
   "metadata": {},
   "source": [
    "## bar 차트 기본 사용  \n",
    "* plt.bar(개별항목, 개별항목 값)\n",
    "* plt.xticks(개별항목, 개별항목레이블)"
   ]
  },
  {
   "cell_type": "markdown",
   "id": "99969263-9011-42ff-86be-d688417cc77c",
   "metadata": {},
   "source": [
    "* bar 차트 데이터의 의미\n",
    "    * 개별 항목별 누적값\n",
    "    * 일반적으로 분석용 데이터: wide형 데이터"
   ]
  },
  {
   "cell_type": "code",
   "execution_count": 94,
   "id": "a0356700-01cf-4cc9-9b29-5188115e8a9e",
   "metadata": {},
   "outputs": [
    {
     "data": {
      "text/plain": [
       "([<matplotlib.axis.XTick at 0x22e91be7390>,\n",
       "  <matplotlib.axis.XTick at 0x22e91c01a90>,\n",
       "  <matplotlib.axis.XTick at 0x22e91c02210>],\n",
       " [Text(0, 0, '2018'), Text(1, 0, '2019'), Text(2, 0, '2020')])"
      ]
     },
     "execution_count": 94,
     "metadata": {},
     "output_type": "execute_result"
    }
   ],
   "source": [
    "x = np.arange(3)\n",
    "years = ['2018','2019','2020']\n",
    "values = [100,400,900]\n",
    "\n",
    "plt.bar(x,values) # x축 개별 항목의 값 설정\n",
    "plt.xticks(x, years) # 개별 항목의 레이블 설정"
   ]
  },
  {
   "cell_type": "code",
   "execution_count": 95,
   "id": "5c8f12ba-6962-461d-897d-c1d0a0bd41f2",
   "metadata": {},
   "outputs": [
    {
     "data": {
      "image/png": "[encoded data removed]",
      "text/plain": [
       "<Figure size 640x480 with 1 Axes>"
      ]
     },
     "metadata": {},
     "output_type": "display_data"
    }
   ],
   "source": [
    "plt.show()"
   ]
  },
  {
   "cell_type": "markdown",
   "id": "7c0cdf21-93f8-4822-a433-bba58726cb5b",
   "metadata": {},
   "source": [
    "* 예상되는 원본데이터(Long형) 형태"
   ]
  },
  {
   "cell_type": "code",
   "execution_count": 96,
   "id": "ca86ecc2-ca0a-4ae8-9803-d7ed8740aff9",
   "metadata": {},
   "outputs": [
    {
     "data": {
      "text/html": [
       "<div>\n",
       "<style scoped>\n",
       "    .dataframe tbody tr th:only-of-type {\n",
       "        vertical-align: middle;\n",
       "    }\n",
       "\n",
       "    .dataframe tbody tr th {\n",
       "        vertical-align: top;\n",
       "    }\n",
       "\n",
       "    .dataframe thead th {\n",
       "        text-align: right;\n",
       "    }\n",
       "</style>\n",
       "<table border=\"1\" class=\"dataframe\">\n",
       "  <thead>\n",
       "    <tr style=\"text-align: right;\">\n",
       "      <th></th>\n",
       "      <th>연식</th>\n",
       "    </tr>\n",
       "  </thead>\n",
       "  <tbody>\n",
       "    <tr>\n",
       "      <th>0</th>\n",
       "      <td>2018</td>\n",
       "    </tr>\n",
       "    <tr>\n",
       "      <th>1</th>\n",
       "      <td>2018</td>\n",
       "    </tr>\n",
       "    <tr>\n",
       "      <th>2</th>\n",
       "      <td>2018</td>\n",
       "    </tr>\n",
       "    <tr>\n",
       "      <th>3</th>\n",
       "      <td>2019</td>\n",
       "    </tr>\n",
       "    <tr>\n",
       "      <th>4</th>\n",
       "      <td>2019</td>\n",
       "    </tr>\n",
       "    <tr>\n",
       "      <th>5</th>\n",
       "      <td>2019</td>\n",
       "    </tr>\n",
       "    <tr>\n",
       "      <th>6</th>\n",
       "      <td>2019</td>\n",
       "    </tr>\n",
       "    <tr>\n",
       "      <th>7</th>\n",
       "      <td>2020</td>\n",
       "    </tr>\n",
       "    <tr>\n",
       "      <th>8</th>\n",
       "      <td>2020</td>\n",
       "    </tr>\n",
       "    <tr>\n",
       "      <th>9</th>\n",
       "      <td>2020</td>\n",
       "    </tr>\n",
       "    <tr>\n",
       "      <th>10</th>\n",
       "      <td>2020</td>\n",
       "    </tr>\n",
       "  </tbody>\n",
       "</table>\n",
       "</div>"
      ],
      "text/plain": [
       "      연식\n",
       "0   2018\n",
       "1   2018\n",
       "2   2018\n",
       "3   2019\n",
       "4   2019\n",
       "5   2019\n",
       "6   2019\n",
       "7   2020\n",
       "8   2020\n",
       "9   2020\n",
       "10  2020"
      ]
     },
     "execution_count": 96,
     "metadata": {},
     "output_type": "execute_result"
    }
   ],
   "source": [
    "data = {\n",
    "    '연식': ['2018', '2018', '2018', '2019', '2019', '2019', '2019', '2020', '2020', '2020', '2020']\n",
    "}\n",
    "df = pd.DataFrame(data)\n",
    "df"
   ]
  },
  {
   "cell_type": "code",
   "execution_count": 97,
   "id": "a251f4ed-2c68-46dc-8e4e-a04af3168270",
   "metadata": {},
   "outputs": [
    {
     "data": {
      "text/plain": [
       "array(['2018', '2019', '2020'], dtype=object)"
      ]
     },
     "execution_count": 97,
     "metadata": {},
     "output_type": "execute_result"
    }
   ],
   "source": [
    "df.연식.unique()"
   ]
  },
  {
   "cell_type": "code",
   "execution_count": 98,
   "id": "4eb6a916-e11d-48d3-a659-5bba01e0d44d",
   "metadata": {},
   "outputs": [
    {
     "name": "stdout",
     "output_type": "stream",
     "text": [
      "<class 'pandas.core.frame.DataFrame'>\n",
      "RangeIndex: 11 entries, 0 to 10\n",
      "Data columns (total 1 columns):\n",
      " #   Column  Non-Null Count  Dtype \n",
      "---  ------  --------------  ----- \n",
      " 0   연식      11 non-null     object\n",
      "dtypes: object(1)\n",
      "memory usage: 220.0+ bytes\n"
     ]
    }
   ],
   "source": [
    "df.info()"
   ]
  },
  {
   "cell_type": "code",
   "execution_count": 99,
   "id": "ca27aafa-e11b-4afa-9733-a7747b667ff6",
   "metadata": {},
   "outputs": [
    {
     "data": {
      "text/plain": [
       "연식\n",
       "2019    4\n",
       "2020    4\n",
       "2018    3\n",
       "Name: count, dtype: int64"
      ]
     },
     "execution_count": 99,
     "metadata": {},
     "output_type": "execute_result"
    }
   ],
   "source": [
    "df.연식.value_counts()"
   ]
  },
  {
   "cell_type": "code",
   "execution_count": 100,
   "id": "c17ff9e9-2e05-45e5-9ad6-3579825904b1",
   "metadata": {},
   "outputs": [
    {
     "data": {
      "text/plain": [
       "Index(['2019', '2020', '2018'], dtype='object', name='연식')"
      ]
     },
     "execution_count": 100,
     "metadata": {},
     "output_type": "execute_result"
    }
   ],
   "source": [
    "df.연식.value_counts().index"
   ]
  },
  {
   "cell_type": "raw",
   "id": "c2c659d3-5c6a-4060-a1ef-0eef1ed0a434",
   "metadata": {},
   "source": [
    "value_counts()는 해당 열의 데이터 유형이 index로 처리하여 누적값을 보여준다.  \n",
    "누적값이 큰 순서로 정렬\n",
    "인덱스가 시간, 년도 등 정렬하고 싶을 경우에는 인덱스 정렬을 한다."
   ]
  },
  {
   "cell_type": "code",
   "execution_count": 101,
   "id": "6a99b37b-a3d8-4a82-8f0a-1fe832368a00",
   "metadata": {},
   "outputs": [
    {
     "data": {
      "text/plain": [
       "연식\n",
       "2018    3\n",
       "2019    4\n",
       "2020    4\n",
       "Name: count, dtype: int64"
      ]
     },
     "execution_count": 101,
     "metadata": {},
     "output_type": "execute_result"
    }
   ],
   "source": [
    "df.연식.value_counts().sort_index()"
   ]
  },
  {
   "cell_type": "code",
   "execution_count": 102,
   "id": "272edca1-30c0-4092-9ba2-e8c138b32d06",
   "metadata": {},
   "outputs": [
    {
     "data": {
      "text/plain": [
       "Index(['2018', '2019', '2020'], dtype='object', name='연식')"
      ]
     },
     "execution_count": 102,
     "metadata": {},
     "output_type": "execute_result"
    }
   ],
   "source": [
    "df.연식.value_counts().sort_index().index"
   ]
  },
  {
   "cell_type": "code",
   "execution_count": 103,
   "id": "0bc8a3fb-fff2-4ebe-bb48-ea56c51efb1b",
   "metadata": {},
   "outputs": [
    {
     "data": {
      "text/plain": [
       "['2018', '2019', '2020']"
      ]
     },
     "execution_count": 103,
     "metadata": {},
     "output_type": "execute_result"
    }
   ],
   "source": [
    "df.연식.value_counts().sort_index().index.tolist()"
   ]
  },
  {
   "cell_type": "markdown",
   "id": "d1da7839-002e-4042-a6b1-dc0c1494e673",
   "metadata": {},
   "source": [
    "* 개별항목 리스트 구하기"
   ]
  },
  {
   "cell_type": "code",
   "execution_count": 104,
   "id": "ea11ff53-1a87-4150-aec5-aec9da60fedf",
   "metadata": {},
   "outputs": [
    {
     "data": {
      "text/plain": [
       "['2018', '2019', '2020']"
      ]
     },
     "execution_count": 104,
     "metadata": {},
     "output_type": "execute_result"
    }
   ],
   "source": [
    "years = df.연식.value_counts().sort_index().index.tolist()\n",
    "years"
   ]
  },
  {
   "cell_type": "markdown",
   "id": "9231b3a3-81a9-45c5-a135-b4a1225cea3d",
   "metadata": {},
   "source": [
    "* 전체 범위 매칭"
   ]
  },
  {
   "cell_type": "code",
   "execution_count": 105,
   "id": "f8784f43-e740-43fe-b44f-bab0f27ffc7c",
   "metadata": {},
   "outputs": [
    {
     "data": {
      "text/plain": [
       "3"
      ]
     },
     "execution_count": 105,
     "metadata": {},
     "output_type": "execute_result"
    }
   ],
   "source": [
    "len(years)"
   ]
  },
  {
   "cell_type": "code",
   "execution_count": 106,
   "id": "19aa5a8d-df2b-4b2a-9ceb-ebbe2a1fbf42",
   "metadata": {},
   "outputs": [],
   "source": [
    "x = np.arange(len(years))"
   ]
  },
  {
   "cell_type": "markdown",
   "id": "37243b16-86b0-4731-b9c4-e15e422713f0",
   "metadata": {},
   "source": [
    "* 개별항목 값 매칭"
   ]
  },
  {
   "cell_type": "code",
   "execution_count": 107,
   "id": "6b4fae11-bb75-43ba-a020-b16155ec6a79",
   "metadata": {},
   "outputs": [
    {
     "data": {
      "text/plain": [
       "연식\n",
       "2019    4\n",
       "2020    4\n",
       "2018    3\n",
       "Name: count, dtype: int64"
      ]
     },
     "execution_count": 107,
     "metadata": {},
     "output_type": "execute_result"
    }
   ],
   "source": [
    "df.연식.value_counts()"
   ]
  },
  {
   "cell_type": "code",
   "execution_count": 108,
   "id": "5984061c-d871-4f4a-97c2-541a93bfc5c9",
   "metadata": {},
   "outputs": [
    {
     "data": {
      "text/plain": [
       "array([4, 4, 3])"
      ]
     },
     "execution_count": 108,
     "metadata": {},
     "output_type": "execute_result"
    }
   ],
   "source": [
    "df.연식.value_counts().values"
   ]
  },
  {
   "cell_type": "code",
   "execution_count": 109,
   "id": "c2fb70ba-d8cb-487d-b5db-293849045530",
   "metadata": {},
   "outputs": [
    {
     "data": {
      "text/plain": [
       "array([4, 4, 3])"
      ]
     },
     "execution_count": 109,
     "metadata": {},
     "output_type": "execute_result"
    }
   ],
   "source": [
    "values = df.연식.value_counts().values\n",
    "values"
   ]
  },
  {
   "cell_type": "markdown",
   "id": "7f7e5907-4d13-494a-b35d-0cdfb9be7827",
   "metadata": {},
   "source": [
    "* 조합"
   ]
  },
  {
   "cell_type": "code",
   "execution_count": 110,
   "id": "8fc0b1ca-7573-4f0b-99d7-ccc27671957f",
   "metadata": {},
   "outputs": [
    {
     "data": {
      "image/png": "[encoded data removed]",
      "text/plain": [
       "<Figure size 640x480 with 1 Axes>"
      ]
     },
     "metadata": {},
     "output_type": "display_data"
    }
   ],
   "source": [
    "x = np.arange(len(years))\n",
    "years = df.연식.value_counts().sort_index().index.tolist()\n",
    "values = df.연식.value_counts().values\n",
    "plt.bar(x, values)\n",
    "plt.xticks(x, years)\n",
    "plt.show()"
   ]
  },
  {
   "cell_type": "code",
   "execution_count": 111,
   "id": "05f3a33f-25fe-4b11-beb5-6b4895ee5da3",
   "metadata": {},
   "outputs": [
    {
     "data": {
      "image/png": "[encoded data removed]",
      "text/plain": [
       "<Figure size 640x480 with 1 Axes>"
      ]
     },
     "metadata": {},
     "output_type": "display_data"
    }
   ],
   "source": [
    "# 기본설정\n",
    "x = np.arange(len(years))\n",
    "years = df.연식.value_counts().sort_index().index.tolist()\n",
    "values = df.연식.value_counts().values\n",
    "plt.bar(x, values)\n",
    "plt.xticks(x, years)\n",
    "\n",
    "# 스타일 지정 - 데이터 의미 해석\n",
    "plt.xlabel('연식')\n",
    "plt.ylabel('건수')\n",
    "plt.title('연식별 건수')\n",
    "\n",
    "# 스타일 지정 - 폰트, 색상, 범례 ..., 특정 영역 강조\n",
    "\n",
    "plt.show()"
   ]
  },
  {
   "cell_type": "markdown",
   "id": "93954cfd-dd9b-459d-a1d5-a50e53ffb068",
   "metadata": {},
   "source": [
    "# 실데이터 연습"
   ]
  },
  {
   "cell_type": "code",
   "execution_count": 112,
   "id": "ff7f4e09-528b-411b-a29e-abebb3d5f3ce",
   "metadata": {},
   "outputs": [
    {
     "data": {
      "text/html": [
       "<div>\n",
       "<style scoped>\n",
       "    .dataframe tbody tr th:only-of-type {\n",
       "        vertical-align: middle;\n",
       "    }\n",
       "\n",
       "    .dataframe tbody tr th {\n",
       "        vertical-align: top;\n",
       "    }\n",
       "\n",
       "    .dataframe thead th {\n",
       "        text-align: right;\n",
       "    }\n",
       "</style>\n",
       "<table border=\"1\" class=\"dataframe\">\n",
       "  <thead>\n",
       "    <tr style=\"text-align: right;\">\n",
       "      <th></th>\n",
       "      <th>book_name</th>\n",
       "      <th>book_writer</th>\n",
       "      <th>book_date</th>\n",
       "      <th>book_price</th>\n",
       "      <th>book_cover</th>\n",
       "      <th>book_page</th>\n",
       "      <th>book_size</th>\n",
       "      <th>book_weight</th>\n",
       "      <th>book_category</th>\n",
       "      <th>book_publisher</th>\n",
       "      <th>sales_point</th>\n",
       "    </tr>\n",
       "  </thead>\n",
       "  <tbody>\n",
       "    <tr>\n",
       "      <th>0</th>\n",
       "      <td>올 더 빌딩스 인 런던</td>\n",
       "      <td>제임스 걸리버 핸콕</td>\n",
       "      <td>2018-08-25</td>\n",
       "      <td>14,400</td>\n",
       "      <td>양장본</td>\n",
       "      <td>140</td>\n",
       "      <td>225*280mm</td>\n",
       "      <td>476</td>\n",
       "      <td>예술/대중문화</td>\n",
       "      <td>책발전소</td>\n",
       "      <td>110</td>\n",
       "    </tr>\n",
       "    <tr>\n",
       "      <th>1</th>\n",
       "      <td>렛 잇 블리드</td>\n",
       "      <td>이언 랜킨</td>\n",
       "      <td>2018-08-19</td>\n",
       "      <td>13,320</td>\n",
       "      <td>반양장본</td>\n",
       "      <td>476</td>\n",
       "      <td>128*188mm</td>\n",
       "      <td>476</td>\n",
       "      <td>소설/시/희곡</td>\n",
       "      <td>오픈하우스</td>\n",
       "      <td>110</td>\n",
       "    </tr>\n",
       "    <tr>\n",
       "      <th>2</th>\n",
       "      <td>은유로 사회 읽기</td>\n",
       "      <td>대니얼 리그니</td>\n",
       "      <td>2018-08-20</td>\n",
       "      <td>39,500</td>\n",
       "      <td>양장본</td>\n",
       "      <td>416</td>\n",
       "      <td>152*223mm</td>\n",
       "      <td>749</td>\n",
       "      <td>사회과학</td>\n",
       "      <td>한울(한울아카데미)</td>\n",
       "      <td>10</td>\n",
       "    </tr>\n",
       "    <tr>\n",
       "      <th>3</th>\n",
       "      <td>유럽 맥주 여행</td>\n",
       "      <td>백경학</td>\n",
       "      <td>2018-08-24</td>\n",
       "      <td>14,400</td>\n",
       "      <td>반양장본</td>\n",
       "      <td>308</td>\n",
       "      <td>150*220mm</td>\n",
       "      <td>400</td>\n",
       "      <td>역사</td>\n",
       "      <td>글항아리</td>\n",
       "      <td>10</td>\n",
       "    </tr>\n",
       "    <tr>\n",
       "      <th>4</th>\n",
       "      <td>이게, 행복이 아니면 무엇이지</td>\n",
       "      <td>김혜령</td>\n",
       "      <td>2018-08-20</td>\n",
       "      <td>13,050</td>\n",
       "      <td>NaN</td>\n",
       "      <td>288</td>\n",
       "      <td>135*200mm</td>\n",
       "      <td>374</td>\n",
       "      <td>인문학</td>\n",
       "      <td>웨일북</td>\n",
       "      <td>10</td>\n",
       "    </tr>\n",
       "  </tbody>\n",
       "</table>\n",
       "</div>"
      ],
      "text/plain": [
       "          book_name book_writer   book_date book_price book_cover book_page  \\\n",
       "0      올 더 빌딩스 인 런던  제임스 걸리버 핸콕  2018-08-25     14,400        양장본       140   \n",
       "1           렛 잇 블리드       이언 랜킨  2018-08-19     13,320       반양장본       476   \n",
       "2         은유로 사회 읽기     대니얼 리그니  2018-08-20     39,500        양장본       416   \n",
       "3          유럽 맥주 여행         백경학  2018-08-24     14,400       반양장본       308   \n",
       "4  이게, 행복이 아니면 무엇이지         김혜령  2018-08-20     13,050        NaN       288   \n",
       "\n",
       "   book_size  book_weight book_category book_publisher sales_point  \n",
       "0  225*280mm          476       예술/대중문화           책발전소         110  \n",
       "1  128*188mm          476       소설/시/희곡          오픈하우스         110  \n",
       "2  152*223mm          749          사회과학     한울(한울아카데미)          10  \n",
       "3  150*220mm          400            역사           글항아리          10  \n",
       "4  135*200mm          374           인문학            웨일북          10  "
      ]
     },
     "execution_count": 112,
     "metadata": {},
     "output_type": "execute_result"
    }
   ],
   "source": [
    "book = pd.read_csv('book_data.csv', encoding='cp949')\n",
    "book.head()"
   ]
  },
  {
   "cell_type": "code",
   "execution_count": 113,
   "id": "173043ca-a259-419b-8eed-f032698a41ee",
   "metadata": {},
   "outputs": [
    {
     "name": "stdout",
     "output_type": "stream",
     "text": [
      "<class 'pandas.core.frame.DataFrame'>\n",
      "RangeIndex: 2000 entries, 0 to 1999\n",
      "Data columns (total 11 columns):\n",
      " #   Column          Non-Null Count  Dtype \n",
      "---  ------          --------------  ----- \n",
      " 0   book_name       2000 non-null   object\n",
      " 1   book_writer     2000 non-null   object\n",
      " 2   book_date       2000 non-null   object\n",
      " 3   book_price      2000 non-null   object\n",
      " 4   book_cover      1683 non-null   object\n",
      " 5   book_page       2000 non-null   object\n",
      " 6   book_size       1999 non-null   object\n",
      " 7   book_weight     2000 non-null   int64 \n",
      " 8   book_category   2000 non-null   object\n",
      " 9   book_publisher  2000 non-null   object\n",
      " 10  sales_point     2000 non-null   object\n",
      "dtypes: int64(1), object(10)\n",
      "memory usage: 172.0+ KB\n"
     ]
    }
   ],
   "source": [
    "book.info()"
   ]
  },
  {
   "cell_type": "markdown",
   "id": "3082faa3-fd6b-493c-801f-e732f76bc03f",
   "metadata": {},
   "source": [
    "* 범주형 데이터 확인"
   ]
  },
  {
   "cell_type": "code",
   "execution_count": 114,
   "id": "08618194-0230-459d-a0d6-a10f8dc8ed58",
   "metadata": {},
   "outputs": [
    {
     "data": {
      "text/plain": [
       "book_name\n",
       "나의 첫 수채화 컬러링북       2\n",
       "렛 잇 블리드             1\n",
       "은유로 사회 읽기           1\n",
       "유럽 맥주 여행            1\n",
       "이게, 행복이 아니면 무엇이지    1\n",
       "                   ..\n",
       "여우랑 줄넘기             1\n",
       "모스크바 룰 1            1\n",
       "대학, 협동조합으로 교육하라     1\n",
       "미라클 건강법             1\n",
       "올 더 빌딩스 인 런던        1\n",
       "Name: count, Length: 1999, dtype: int64"
      ]
     },
     "execution_count": 114,
     "metadata": {},
     "output_type": "execute_result"
    }
   ],
   "source": [
    "book.book_name.value_counts()"
   ]
  },
  {
   "cell_type": "code",
   "execution_count": 115,
   "id": "03f6251b-2ba5-4bb5-b72a-8769f8a9690a",
   "metadata": {},
   "outputs": [
    {
     "data": {
      "text/plain": [
       "1999"
      ]
     },
     "execution_count": 115,
     "metadata": {},
     "output_type": "execute_result"
    }
   ],
   "source": [
    "len(book.book_name.unique())"
   ]
  },
  {
   "cell_type": "code",
   "execution_count": 116,
   "id": "30747a28-acdf-4045-a421-5f0285db017d",
   "metadata": {},
   "outputs": [
    {
     "data": {
      "text/plain": [
       "Index(['book_name', 'book_writer', 'book_date', 'book_price', 'book_cover',\n",
       "       'book_page', 'book_size', 'book_weight', 'book_category',\n",
       "       'book_publisher', 'sales_point'],\n",
       "      dtype='object')"
      ]
     },
     "execution_count": 116,
     "metadata": {},
     "output_type": "execute_result"
    }
   ],
   "source": [
    "book.columns"
   ]
  },
  {
   "cell_type": "code",
   "execution_count": 117,
   "id": "4fbc9fd9-65a7-4696-8af4-110be65acab9",
   "metadata": {},
   "outputs": [
    {
     "data": {
      "text/plain": [
       "1810"
      ]
     },
     "execution_count": 117,
     "metadata": {},
     "output_type": "execute_result"
    }
   ],
   "source": [
    "len(book.book_writer.unique())"
   ]
  },
  {
   "cell_type": "code",
   "execution_count": 118,
   "id": "9c309619-a1d9-41d1-a86f-2371e8769a68",
   "metadata": {},
   "outputs": [
    {
     "data": {
      "text/plain": [
       "book_cover\n",
       "반양장본    1236\n",
       "양장본      447\n",
       "Name: count, dtype: int64"
      ]
     },
     "execution_count": 118,
     "metadata": {},
     "output_type": "execute_result"
    }
   ],
   "source": [
    "book.book_cover.value_counts()"
   ]
  },
  {
   "cell_type": "code",
   "execution_count": 119,
   "id": "f3e00f29-6836-46ae-b21c-53b5afc9e09c",
   "metadata": {},
   "outputs": [
    {
     "data": {
      "text/plain": [
       "book_category\n",
       "인문학         264\n",
       "소설/시/희곡     204\n",
       "유아          199\n",
       "사회과학        188\n",
       "어린이         160\n",
       "에세이         151\n",
       "역사          110\n",
       "건강/취미/레저    105\n",
       "경제경영        105\n",
       "자기계발        100\n",
       "과학          100\n",
       "예술/대중문화      66\n",
       "만화           64\n",
       "가정/요리/뷰티     59\n",
       "좋은부모         54\n",
       "종교/역학        37\n",
       "여행           21\n",
       "청소년          13\n",
       "Name: count, dtype: int64"
      ]
     },
     "execution_count": 119,
     "metadata": {},
     "output_type": "execute_result"
    }
   ],
   "source": [
    "book.book_category.value_counts()"
   ]
  },
  {
   "cell_type": "code",
   "execution_count": 120,
   "id": "80910999-84b0-4042-8c55-43c00f3a3d0a",
   "metadata": {},
   "outputs": [
    {
     "data": {
      "text/plain": [
       "18"
      ]
     },
     "execution_count": 120,
     "metadata": {},
     "output_type": "execute_result"
    }
   ],
   "source": [
    "len(book.book_category.unique())"
   ]
  },
  {
   "cell_type": "markdown",
   "id": "978d0ca1-76dd-4d2f-8e5e-13422c8f4118",
   "metadata": {},
   "source": [
    "* 범주형 데이터 열을 선정한 후 전처리 및 분석"
   ]
  },
  {
   "cell_type": "code",
   "execution_count": 121,
   "id": "7bb4d995-93d5-4187-a5b3-0894983ec7d9",
   "metadata": {},
   "outputs": [
    {
     "data": {
      "text/html": [
       "<div>\n",
       "<style scoped>\n",
       "    .dataframe tbody tr th:only-of-type {\n",
       "        vertical-align: middle;\n",
       "    }\n",
       "\n",
       "    .dataframe tbody tr th {\n",
       "        vertical-align: top;\n",
       "    }\n",
       "\n",
       "    .dataframe thead th {\n",
       "        text-align: right;\n",
       "    }\n",
       "</style>\n",
       "<table border=\"1\" class=\"dataframe\">\n",
       "  <thead>\n",
       "    <tr style=\"text-align: right;\">\n",
       "      <th></th>\n",
       "      <th>book_name</th>\n",
       "      <th>book_writer</th>\n",
       "      <th>book_date</th>\n",
       "      <th>book_price</th>\n",
       "      <th>book_cover</th>\n",
       "      <th>book_page</th>\n",
       "      <th>book_size</th>\n",
       "      <th>book_weight</th>\n",
       "      <th>book_category</th>\n",
       "      <th>book_publisher</th>\n",
       "      <th>sales_point</th>\n",
       "    </tr>\n",
       "  </thead>\n",
       "  <tbody>\n",
       "    <tr>\n",
       "      <th>0</th>\n",
       "      <td>올 더 빌딩스 인 런던</td>\n",
       "      <td>제임스 걸리버 핸콕</td>\n",
       "      <td>2018-08-25</td>\n",
       "      <td>14,400</td>\n",
       "      <td>양장본</td>\n",
       "      <td>140</td>\n",
       "      <td>225*280mm</td>\n",
       "      <td>476</td>\n",
       "      <td>예술/대중문화</td>\n",
       "      <td>책발전소</td>\n",
       "      <td>110</td>\n",
       "    </tr>\n",
       "    <tr>\n",
       "      <th>1</th>\n",
       "      <td>렛 잇 블리드</td>\n",
       "      <td>이언 랜킨</td>\n",
       "      <td>2018-08-19</td>\n",
       "      <td>13,320</td>\n",
       "      <td>반양장본</td>\n",
       "      <td>476</td>\n",
       "      <td>128*188mm</td>\n",
       "      <td>476</td>\n",
       "      <td>소설/시/희곡</td>\n",
       "      <td>오픈하우스</td>\n",
       "      <td>110</td>\n",
       "    </tr>\n",
       "    <tr>\n",
       "      <th>2</th>\n",
       "      <td>은유로 사회 읽기</td>\n",
       "      <td>대니얼 리그니</td>\n",
       "      <td>2018-08-20</td>\n",
       "      <td>39,500</td>\n",
       "      <td>양장본</td>\n",
       "      <td>416</td>\n",
       "      <td>152*223mm</td>\n",
       "      <td>749</td>\n",
       "      <td>사회과학</td>\n",
       "      <td>한울(한울아카데미)</td>\n",
       "      <td>10</td>\n",
       "    </tr>\n",
       "    <tr>\n",
       "      <th>3</th>\n",
       "      <td>유럽 맥주 여행</td>\n",
       "      <td>백경학</td>\n",
       "      <td>2018-08-24</td>\n",
       "      <td>14,400</td>\n",
       "      <td>반양장본</td>\n",
       "      <td>308</td>\n",
       "      <td>150*220mm</td>\n",
       "      <td>400</td>\n",
       "      <td>역사</td>\n",
       "      <td>글항아리</td>\n",
       "      <td>10</td>\n",
       "    </tr>\n",
       "    <tr>\n",
       "      <th>4</th>\n",
       "      <td>이게, 행복이 아니면 무엇이지</td>\n",
       "      <td>김혜령</td>\n",
       "      <td>2018-08-20</td>\n",
       "      <td>13,050</td>\n",
       "      <td>미정의</td>\n",
       "      <td>288</td>\n",
       "      <td>135*200mm</td>\n",
       "      <td>374</td>\n",
       "      <td>인문학</td>\n",
       "      <td>웨일북</td>\n",
       "      <td>10</td>\n",
       "    </tr>\n",
       "  </tbody>\n",
       "</table>\n",
       "</div>"
      ],
      "text/plain": [
       "          book_name book_writer   book_date book_price book_cover book_page  \\\n",
       "0      올 더 빌딩스 인 런던  제임스 걸리버 핸콕  2018-08-25     14,400        양장본       140   \n",
       "1           렛 잇 블리드       이언 랜킨  2018-08-19     13,320       반양장본       476   \n",
       "2         은유로 사회 읽기     대니얼 리그니  2018-08-20     39,500        양장본       416   \n",
       "3          유럽 맥주 여행         백경학  2018-08-24     14,400       반양장본       308   \n",
       "4  이게, 행복이 아니면 무엇이지         김혜령  2018-08-20     13,050        미정의       288   \n",
       "\n",
       "   book_size  book_weight book_category book_publisher sales_point  \n",
       "0  225*280mm          476       예술/대중문화           책발전소         110  \n",
       "1  128*188mm          476       소설/시/희곡          오픈하우스         110  \n",
       "2  152*223mm          749          사회과학     한울(한울아카데미)          10  \n",
       "3  150*220mm          400            역사           글항아리          10  \n",
       "4  135*200mm          374           인문학            웨일북          10  "
      ]
     },
     "execution_count": 121,
     "metadata": {},
     "output_type": "execute_result"
    }
   ],
   "source": [
    "book['book_cover'] = book['book_cover'].fillna('미정의')\n",
    "book.head()"
   ]
  },
  {
   "cell_type": "code",
   "execution_count": 122,
   "id": "62ffd8a4-336a-4d43-bf7f-d47f11b72081",
   "metadata": {},
   "outputs": [
    {
     "name": "stdout",
     "output_type": "stream",
     "text": [
      "<class 'pandas.core.frame.DataFrame'>\n",
      "RangeIndex: 2000 entries, 0 to 1999\n",
      "Data columns (total 11 columns):\n",
      " #   Column          Non-Null Count  Dtype \n",
      "---  ------          --------------  ----- \n",
      " 0   book_name       2000 non-null   object\n",
      " 1   book_writer     2000 non-null   object\n",
      " 2   book_date       2000 non-null   object\n",
      " 3   book_price      2000 non-null   object\n",
      " 4   book_cover      2000 non-null   object\n",
      " 5   book_page       2000 non-null   object\n",
      " 6   book_size       1999 non-null   object\n",
      " 7   book_weight     2000 non-null   int64 \n",
      " 8   book_category   2000 non-null   object\n",
      " 9   book_publisher  2000 non-null   object\n",
      " 10  sales_point     2000 non-null   object\n",
      "dtypes: int64(1), object(10)\n",
      "memory usage: 172.0+ KB\n"
     ]
    }
   ],
   "source": [
    "book.info()"
   ]
  },
  {
   "cell_type": "code",
   "execution_count": 123,
   "id": "e035b936-2b57-4fe9-8318-820a1a9598cf",
   "metadata": {},
   "outputs": [
    {
     "data": {
      "text/plain": [
       "book_cover\n",
       "반양장본    1236\n",
       "양장본      447\n",
       "미정의      317\n",
       "Name: count, dtype: int64"
      ]
     },
     "execution_count": 123,
     "metadata": {},
     "output_type": "execute_result"
    }
   ],
   "source": [
    "book_cover_info = book.book_cover.value_counts()\n",
    "book_cover_info"
   ]
  },
  {
   "cell_type": "code",
   "execution_count": 124,
   "id": "4b822d7e-a371-4fc0-94c1-9974161ac7f6",
   "metadata": {},
   "outputs": [],
   "source": [
    "cover_list = book_cover_info.index.tolist()"
   ]
  },
  {
   "cell_type": "code",
   "execution_count": 125,
   "id": "76bbf6d4-042a-4e5e-8e07-96ce5892985b",
   "metadata": {},
   "outputs": [
    {
     "data": {
      "text/plain": [
       "3"
      ]
     },
     "execution_count": 125,
     "metadata": {},
     "output_type": "execute_result"
    }
   ],
   "source": [
    "len(cover_list)"
   ]
  },
  {
   "cell_type": "code",
   "execution_count": 126,
   "id": "00786e42-b2e3-494d-8e0e-70ff38cae639",
   "metadata": {},
   "outputs": [
    {
     "data": {
      "image/png": "[encoded data removed]",
      "text/plain": [
       "<Figure size 640x480 with 1 Axes>"
      ]
     },
     "metadata": {},
     "output_type": "display_data"
    }
   ],
   "source": [
    "x = np.arange(len(cover_list))\n",
    "# years = df.연식.value_counts().sort_index().index.tolist()\n",
    "values = book.book_cover.value_counts().values\n",
    "plt.bar(x, values)\n",
    "plt.xticks(x, cover_list)\n",
    "plt.show()"
   ]
  },
  {
   "cell_type": "markdown",
   "id": "e9e2070c-193b-4d4b-b021-03f6fe6aa525",
   "metadata": {},
   "source": [
    "### 비범주형 데이터를 범주형 데이터로 전환하여 시각화"
   ]
  },
  {
   "cell_type": "markdown",
   "id": "fb098b4e-b6d3-4357-8ee9-92d8ab3e1b53",
   "metadata": {},
   "source": [
    "##### 기본전처리 과정"
   ]
  },
  {
   "cell_type": "markdown",
   "id": "4b52e173-afef-4ff0-bf99-8c31864f2f1e",
   "metadata": {},
   "source": [
    "* 서식제거 테스트"
   ]
  },
  {
   "cell_type": "code",
   "execution_count": 127,
   "id": "d04d6332-86b6-4390-bbca-3780fcb56e7f",
   "metadata": {},
   "outputs": [
    {
     "data": {
      "text/plain": [
       "0    14400\n",
       "1    13320\n",
       "2    39500\n",
       "3    14400\n",
       "4    13050\n",
       "Name: book_price, dtype: object"
      ]
     },
     "execution_count": 127,
     "metadata": {},
     "output_type": "execute_result"
    }
   ],
   "source": [
    "book['book_price'].str.replace(',','').head()"
   ]
  },
  {
   "cell_type": "markdown",
   "id": "f01683b1-ee57-42ab-b2a0-9d3eec189812",
   "metadata": {},
   "source": [
    "* 형변환 테스트"
   ]
  },
  {
   "cell_type": "code",
   "execution_count": 128,
   "id": "cef324f0-bce3-48d8-a99d-6adbdc535327",
   "metadata": {},
   "outputs": [
    {
     "data": {
      "text/plain": [
       "0    14400\n",
       "1    13320\n",
       "2    39500\n",
       "3    14400\n",
       "4    13050\n",
       "Name: book_price, dtype: int64"
      ]
     },
     "execution_count": 128,
     "metadata": {},
     "output_type": "execute_result"
    }
   ],
   "source": [
    "book['book_price'].str.replace(',','').astype(int).head()"
   ]
  },
  {
   "cell_type": "markdown",
   "id": "f4152f04-e91e-4d4a-8dc2-9d3c7d8d2a3a",
   "metadata": {},
   "source": [
    "* 테스트후 기본 전처리 진행"
   ]
  },
  {
   "cell_type": "code",
   "execution_count": 129,
   "id": "cd3bf11b-2642-4187-a6b9-20aabe0a73ac",
   "metadata": {},
   "outputs": [
    {
     "data": {
      "text/html": [
       "<div>\n",
       "<style scoped>\n",
       "    .dataframe tbody tr th:only-of-type {\n",
       "        vertical-align: middle;\n",
       "    }\n",
       "\n",
       "    .dataframe tbody tr th {\n",
       "        vertical-align: top;\n",
       "    }\n",
       "\n",
       "    .dataframe thead th {\n",
       "        text-align: right;\n",
       "    }\n",
       "</style>\n",
       "<table border=\"1\" class=\"dataframe\">\n",
       "  <thead>\n",
       "    <tr style=\"text-align: right;\">\n",
       "      <th></th>\n",
       "      <th>book_name</th>\n",
       "      <th>book_writer</th>\n",
       "      <th>book_date</th>\n",
       "      <th>book_price</th>\n",
       "      <th>book_cover</th>\n",
       "      <th>book_page</th>\n",
       "      <th>book_size</th>\n",
       "      <th>book_weight</th>\n",
       "      <th>book_category</th>\n",
       "      <th>book_publisher</th>\n",
       "      <th>sales_point</th>\n",
       "    </tr>\n",
       "  </thead>\n",
       "  <tbody>\n",
       "    <tr>\n",
       "      <th>0</th>\n",
       "      <td>올 더 빌딩스 인 런던</td>\n",
       "      <td>제임스 걸리버 핸콕</td>\n",
       "      <td>2018-08-25</td>\n",
       "      <td>14400</td>\n",
       "      <td>양장본</td>\n",
       "      <td>140</td>\n",
       "      <td>225*280mm</td>\n",
       "      <td>476</td>\n",
       "      <td>예술/대중문화</td>\n",
       "      <td>책발전소</td>\n",
       "      <td>110</td>\n",
       "    </tr>\n",
       "    <tr>\n",
       "      <th>1</th>\n",
       "      <td>렛 잇 블리드</td>\n",
       "      <td>이언 랜킨</td>\n",
       "      <td>2018-08-19</td>\n",
       "      <td>13320</td>\n",
       "      <td>반양장본</td>\n",
       "      <td>476</td>\n",
       "      <td>128*188mm</td>\n",
       "      <td>476</td>\n",
       "      <td>소설/시/희곡</td>\n",
       "      <td>오픈하우스</td>\n",
       "      <td>110</td>\n",
       "    </tr>\n",
       "    <tr>\n",
       "      <th>2</th>\n",
       "      <td>은유로 사회 읽기</td>\n",
       "      <td>대니얼 리그니</td>\n",
       "      <td>2018-08-20</td>\n",
       "      <td>39500</td>\n",
       "      <td>양장본</td>\n",
       "      <td>416</td>\n",
       "      <td>152*223mm</td>\n",
       "      <td>749</td>\n",
       "      <td>사회과학</td>\n",
       "      <td>한울(한울아카데미)</td>\n",
       "      <td>10</td>\n",
       "    </tr>\n",
       "    <tr>\n",
       "      <th>3</th>\n",
       "      <td>유럽 맥주 여행</td>\n",
       "      <td>백경학</td>\n",
       "      <td>2018-08-24</td>\n",
       "      <td>14400</td>\n",
       "      <td>반양장본</td>\n",
       "      <td>308</td>\n",
       "      <td>150*220mm</td>\n",
       "      <td>400</td>\n",
       "      <td>역사</td>\n",
       "      <td>글항아리</td>\n",
       "      <td>10</td>\n",
       "    </tr>\n",
       "    <tr>\n",
       "      <th>4</th>\n",
       "      <td>이게, 행복이 아니면 무엇이지</td>\n",
       "      <td>김혜령</td>\n",
       "      <td>2018-08-20</td>\n",
       "      <td>13050</td>\n",
       "      <td>미정의</td>\n",
       "      <td>288</td>\n",
       "      <td>135*200mm</td>\n",
       "      <td>374</td>\n",
       "      <td>인문학</td>\n",
       "      <td>웨일북</td>\n",
       "      <td>10</td>\n",
       "    </tr>\n",
       "  </tbody>\n",
       "</table>\n",
       "</div>"
      ],
      "text/plain": [
       "          book_name book_writer   book_date  book_price book_cover book_page  \\\n",
       "0      올 더 빌딩스 인 런던  제임스 걸리버 핸콕  2018-08-25       14400        양장본       140   \n",
       "1           렛 잇 블리드       이언 랜킨  2018-08-19       13320       반양장본       476   \n",
       "2         은유로 사회 읽기     대니얼 리그니  2018-08-20       39500        양장본       416   \n",
       "3          유럽 맥주 여행         백경학  2018-08-24       14400       반양장본       308   \n",
       "4  이게, 행복이 아니면 무엇이지         김혜령  2018-08-20       13050        미정의       288   \n",
       "\n",
       "   book_size  book_weight book_category book_publisher sales_point  \n",
       "0  225*280mm          476       예술/대중문화           책발전소         110  \n",
       "1  128*188mm          476       소설/시/희곡          오픈하우스         110  \n",
       "2  152*223mm          749          사회과학     한울(한울아카데미)          10  \n",
       "3  150*220mm          400            역사           글항아리          10  \n",
       "4  135*200mm          374           인문학            웨일북          10  "
      ]
     },
     "execution_count": 129,
     "metadata": {},
     "output_type": "execute_result"
    }
   ],
   "source": [
    "book['book_price'] = book['book_price'].str.replace(',','').astype(int)\n",
    "book.head()"
   ]
  },
  {
   "cell_type": "markdown",
   "id": "cfce3334-dc2c-4e9c-bc58-55671e1927ac",
   "metadata": {},
   "source": [
    "##### 범주형 데이터 분석열 추가"
   ]
  },
  {
   "cell_type": "code",
   "execution_count": 130,
   "id": "3dd8b48d-f324-4bf5-9cda-c13875cc9f15",
   "metadata": {},
   "outputs": [],
   "source": [
    "def convert_price(price):\n",
    "    if price < 7_000:\n",
    "        return '초저가'\n",
    "    elif price < 10_000:\n",
    "        return '저가'\n",
    "    elif price < 20_000:\n",
    "        return '일반'\n",
    "    elif price < 35_000:\n",
    "        return '고가'\n",
    "    else:\n",
    "        return '초고가'"
   ]
  },
  {
   "cell_type": "code",
   "execution_count": 131,
   "id": "23827710-a5ab-4625-9ff8-d07afc7c7767",
   "metadata": {},
   "outputs": [
    {
     "data": {
      "text/plain": [
       "0        일반\n",
       "1        일반\n",
       "2       초고가\n",
       "3        일반\n",
       "4        일반\n",
       "       ... \n",
       "1995     일반\n",
       "1996     일반\n",
       "1997     일반\n",
       "1998     일반\n",
       "1999     일반\n",
       "Name: book_price, Length: 2000, dtype: object"
      ]
     },
     "execution_count": 131,
     "metadata": {},
     "output_type": "execute_result"
    }
   ],
   "source": [
    "book['book_price'].apply(convert_price)"
   ]
  },
  {
   "cell_type": "code",
   "execution_count": 132,
   "id": "12b408cc-8f8d-477a-81da-3132fab3a35c",
   "metadata": {},
   "outputs": [
    {
     "data": {
      "text/html": [
       "<div>\n",
       "<style scoped>\n",
       "    .dataframe tbody tr th:only-of-type {\n",
       "        vertical-align: middle;\n",
       "    }\n",
       "\n",
       "    .dataframe tbody tr th {\n",
       "        vertical-align: top;\n",
       "    }\n",
       "\n",
       "    .dataframe thead th {\n",
       "        text-align: right;\n",
       "    }\n",
       "</style>\n",
       "<table border=\"1\" class=\"dataframe\">\n",
       "  <thead>\n",
       "    <tr style=\"text-align: right;\">\n",
       "      <th></th>\n",
       "      <th>book_name</th>\n",
       "      <th>book_writer</th>\n",
       "      <th>book_date</th>\n",
       "      <th>book_price</th>\n",
       "      <th>book_cover</th>\n",
       "      <th>book_page</th>\n",
       "      <th>book_size</th>\n",
       "      <th>book_weight</th>\n",
       "      <th>book_category</th>\n",
       "      <th>book_publisher</th>\n",
       "      <th>sales_point</th>\n",
       "      <th>price_range</th>\n",
       "    </tr>\n",
       "  </thead>\n",
       "  <tbody>\n",
       "    <tr>\n",
       "      <th>0</th>\n",
       "      <td>올 더 빌딩스 인 런던</td>\n",
       "      <td>제임스 걸리버 핸콕</td>\n",
       "      <td>2018-08-25</td>\n",
       "      <td>14400</td>\n",
       "      <td>양장본</td>\n",
       "      <td>140</td>\n",
       "      <td>225*280mm</td>\n",
       "      <td>476</td>\n",
       "      <td>예술/대중문화</td>\n",
       "      <td>책발전소</td>\n",
       "      <td>110</td>\n",
       "      <td>일반</td>\n",
       "    </tr>\n",
       "    <tr>\n",
       "      <th>1</th>\n",
       "      <td>렛 잇 블리드</td>\n",
       "      <td>이언 랜킨</td>\n",
       "      <td>2018-08-19</td>\n",
       "      <td>13320</td>\n",
       "      <td>반양장본</td>\n",
       "      <td>476</td>\n",
       "      <td>128*188mm</td>\n",
       "      <td>476</td>\n",
       "      <td>소설/시/희곡</td>\n",
       "      <td>오픈하우스</td>\n",
       "      <td>110</td>\n",
       "      <td>일반</td>\n",
       "    </tr>\n",
       "    <tr>\n",
       "      <th>2</th>\n",
       "      <td>은유로 사회 읽기</td>\n",
       "      <td>대니얼 리그니</td>\n",
       "      <td>2018-08-20</td>\n",
       "      <td>39500</td>\n",
       "      <td>양장본</td>\n",
       "      <td>416</td>\n",
       "      <td>152*223mm</td>\n",
       "      <td>749</td>\n",
       "      <td>사회과학</td>\n",
       "      <td>한울(한울아카데미)</td>\n",
       "      <td>10</td>\n",
       "      <td>초고가</td>\n",
       "    </tr>\n",
       "    <tr>\n",
       "      <th>3</th>\n",
       "      <td>유럽 맥주 여행</td>\n",
       "      <td>백경학</td>\n",
       "      <td>2018-08-24</td>\n",
       "      <td>14400</td>\n",
       "      <td>반양장본</td>\n",
       "      <td>308</td>\n",
       "      <td>150*220mm</td>\n",
       "      <td>400</td>\n",
       "      <td>역사</td>\n",
       "      <td>글항아리</td>\n",
       "      <td>10</td>\n",
       "      <td>일반</td>\n",
       "    </tr>\n",
       "    <tr>\n",
       "      <th>4</th>\n",
       "      <td>이게, 행복이 아니면 무엇이지</td>\n",
       "      <td>김혜령</td>\n",
       "      <td>2018-08-20</td>\n",
       "      <td>13050</td>\n",
       "      <td>미정의</td>\n",
       "      <td>288</td>\n",
       "      <td>135*200mm</td>\n",
       "      <td>374</td>\n",
       "      <td>인문학</td>\n",
       "      <td>웨일북</td>\n",
       "      <td>10</td>\n",
       "      <td>일반</td>\n",
       "    </tr>\n",
       "  </tbody>\n",
       "</table>\n",
       "</div>"
      ],
      "text/plain": [
       "          book_name book_writer   book_date  book_price book_cover book_page  \\\n",
       "0      올 더 빌딩스 인 런던  제임스 걸리버 핸콕  2018-08-25       14400        양장본       140   \n",
       "1           렛 잇 블리드       이언 랜킨  2018-08-19       13320       반양장본       476   \n",
       "2         은유로 사회 읽기     대니얼 리그니  2018-08-20       39500        양장본       416   \n",
       "3          유럽 맥주 여행         백경학  2018-08-24       14400       반양장본       308   \n",
       "4  이게, 행복이 아니면 무엇이지         김혜령  2018-08-20       13050        미정의       288   \n",
       "\n",
       "   book_size  book_weight book_category book_publisher sales_point price_range  \n",
       "0  225*280mm          476       예술/대중문화           책발전소         110          일반  \n",
       "1  128*188mm          476       소설/시/희곡          오픈하우스         110          일반  \n",
       "2  152*223mm          749          사회과학     한울(한울아카데미)          10         초고가  \n",
       "3  150*220mm          400            역사           글항아리          10          일반  \n",
       "4  135*200mm          374           인문학            웨일북          10          일반  "
      ]
     },
     "execution_count": 132,
     "metadata": {},
     "output_type": "execute_result"
    }
   ],
   "source": [
    "book['price_range'] = book['book_price'].apply(convert_price)\n",
    "book.head()"
   ]
  },
  {
   "cell_type": "code",
   "execution_count": 133,
   "id": "bc9bb6a2-a4fd-4dae-b737-59062f12d642",
   "metadata": {},
   "outputs": [
    {
     "data": {
      "text/plain": [
       "price_range\n",
       "일반     1546\n",
       "저가      187\n",
       "고가      177\n",
       "초고가      53\n",
       "초저가      37\n",
       "Name: count, dtype: int64"
      ]
     },
     "execution_count": 133,
     "metadata": {},
     "output_type": "execute_result"
    }
   ],
   "source": [
    "book['price_range'].value_counts()"
   ]
  },
  {
   "cell_type": "code",
   "execution_count": 134,
   "id": "36bdf352-7c89-4c76-b280-b7e8dc32df8d",
   "metadata": {},
   "outputs": [
    {
     "data": {
      "text/plain": [
       "['일반', '저가', '고가', '초고가', '초저가']"
      ]
     },
     "execution_count": 134,
     "metadata": {},
     "output_type": "execute_result"
    }
   ],
   "source": [
    "book['price_range'].value_counts().index.tolist()"
   ]
  },
  {
   "cell_type": "code",
   "execution_count": 135,
   "id": "2b3a5b6f-dce3-4141-8a1c-bd15bf0695a9",
   "metadata": {},
   "outputs": [
    {
     "data": {
      "text/plain": [
       "['일반', '저가', '고가', '초고가', '초저가']"
      ]
     },
     "execution_count": 135,
     "metadata": {},
     "output_type": "execute_result"
    }
   ],
   "source": [
    "price_range_list = book['price_range'].value_counts().index.tolist()\n",
    "price_range_list"
   ]
  },
  {
   "cell_type": "code",
   "execution_count": 136,
   "id": "6eff53b2-55a1-4808-905f-1527444fa261",
   "metadata": {},
   "outputs": [
    {
     "data": {
      "image/png": "[encoded data removed]",
      "text/plain": [
       "<Figure size 640x480 with 1 Axes>"
      ]
     },
     "metadata": {},
     "output_type": "display_data"
    }
   ],
   "source": [
    "x = np.arange(len(price_range_list))\n",
    "# years = df.연식.value_counts().sort_index().index.tolist()\n",
    "values = book.price_range.value_counts().values\n",
    "plt.bar(x, values)\n",
    "plt.xticks(x, price_range_list)\n",
    "plt.show()"
   ]
  },
  {
   "cell_type": "code",
   "execution_count": 137,
   "id": "cda61c7a-6a55-4577-b88e-5c5230abed77",
   "metadata": {},
   "outputs": [
    {
     "data": {
      "text/plain": [
       "2000"
      ]
     },
     "execution_count": 137,
     "metadata": {},
     "output_type": "execute_result"
    }
   ],
   "source": [
    "len(book['book_page'])"
   ]
  },
  {
   "cell_type": "code",
   "execution_count": 138,
   "id": "a7a113f6-9926-470a-a11f-89c06839171f",
   "metadata": {},
   "outputs": [
    {
     "data": {
      "text/plain": [
       "2000"
      ]
     },
     "execution_count": 138,
     "metadata": {},
     "output_type": "execute_result"
    }
   ],
   "source": [
    "len(pd.to_numeric(book['book_page'], errors='coerce'))"
   ]
  },
  {
   "cell_type": "code",
   "execution_count": 139,
   "id": "321d6d1c-cf7e-47a1-b3e6-09cfd3fa8744",
   "metadata": {},
   "outputs": [
    {
     "name": "stdout",
     "output_type": "stream",
     "text": [
      "<class 'pandas.core.frame.DataFrame'>\n",
      "RangeIndex: 2000 entries, 0 to 1999\n",
      "Data columns (total 12 columns):\n",
      " #   Column          Non-Null Count  Dtype \n",
      "---  ------          --------------  ----- \n",
      " 0   book_name       2000 non-null   object\n",
      " 1   book_writer     2000 non-null   object\n",
      " 2   book_date       2000 non-null   object\n",
      " 3   book_price      2000 non-null   int64 \n",
      " 4   book_cover      2000 non-null   object\n",
      " 5   book_page       2000 non-null   object\n",
      " 6   book_size       1999 non-null   object\n",
      " 7   book_weight     2000 non-null   int64 \n",
      " 8   book_category   2000 non-null   object\n",
      " 9   book_publisher  2000 non-null   object\n",
      " 10  sales_point     2000 non-null   object\n",
      " 11  price_range     2000 non-null   object\n",
      "dtypes: int64(2), object(10)\n",
      "memory usage: 187.6+ KB\n"
     ]
    }
   ],
   "source": [
    "book.info()"
   ]
  },
  {
   "cell_type": "code",
   "execution_count": 140,
   "id": "728e1184-3dde-442b-8547-6d5a0859d5ed",
   "metadata": {},
   "outputs": [
    {
     "ename": "ValueError",
     "evalue": "Unable to parse string \"쪽수 확인 \" at position 1577",
     "output_type": "error",
     "traceback": [
      "\u001b[1;31m---------------------------------------------------------------------------\u001b[0m",
      "\u001b[1;31mValueError\u001b[0m                                Traceback (most recent call last)",
      "File \u001b[1;32mlib.pyx:2391\u001b[0m, in \u001b[0;36mpandas._libs.lib.maybe_convert_numeric\u001b[1;34m()\u001b[0m\n",
      "\u001b[1;31mValueError\u001b[0m: Unable to parse string \"쪽수 확인 \"",
      "\nDuring handling of the above exception, another exception occurred:\n",
      "\u001b[1;31mValueError\u001b[0m                                Traceback (most recent call last)",
      "Cell \u001b[1;32mIn[140], line 1\u001b[0m\n\u001b[1;32m----> 1\u001b[0m pd\u001b[38;5;241m.\u001b[39mto_numeric(book[\u001b[38;5;124m'\u001b[39m\u001b[38;5;124mbook_page\u001b[39m\u001b[38;5;124m'\u001b[39m])\n",
      "File \u001b[1;32m~\\anaconda3\\Lib\\site-packages\\pandas\\core\\tools\\numeric.py:232\u001b[0m, in \u001b[0;36mto_numeric\u001b[1;34m(arg, errors, downcast, dtype_backend)\u001b[0m\n\u001b[0;32m    230\u001b[0m coerce_numeric \u001b[38;5;241m=\u001b[39m errors \u001b[38;5;129;01mnot\u001b[39;00m \u001b[38;5;129;01min\u001b[39;00m (\u001b[38;5;124m\"\u001b[39m\u001b[38;5;124mignore\u001b[39m\u001b[38;5;124m\"\u001b[39m, \u001b[38;5;124m\"\u001b[39m\u001b[38;5;124mraise\u001b[39m\u001b[38;5;124m\"\u001b[39m)\n\u001b[0;32m    231\u001b[0m \u001b[38;5;28;01mtry\u001b[39;00m:\n\u001b[1;32m--> 232\u001b[0m     values, new_mask \u001b[38;5;241m=\u001b[39m lib\u001b[38;5;241m.\u001b[39mmaybe_convert_numeric(  \u001b[38;5;66;03m# type: ignore[call-overload]\u001b[39;00m\n\u001b[0;32m    233\u001b[0m         values,\n\u001b[0;32m    234\u001b[0m         \u001b[38;5;28mset\u001b[39m(),\n\u001b[0;32m    235\u001b[0m         coerce_numeric\u001b[38;5;241m=\u001b[39mcoerce_numeric,\n\u001b[0;32m    236\u001b[0m         convert_to_masked_nullable\u001b[38;5;241m=\u001b[39mdtype_backend \u001b[38;5;129;01mis\u001b[39;00m \u001b[38;5;129;01mnot\u001b[39;00m lib\u001b[38;5;241m.\u001b[39mno_default\n\u001b[0;32m    237\u001b[0m         \u001b[38;5;129;01mor\u001b[39;00m \u001b[38;5;28misinstance\u001b[39m(values_dtype, StringDtype)\n\u001b[0;32m    238\u001b[0m         \u001b[38;5;129;01mand\u001b[39;00m \u001b[38;5;129;01mnot\u001b[39;00m values_dtype\u001b[38;5;241m.\u001b[39mstorage \u001b[38;5;241m==\u001b[39m \u001b[38;5;124m\"\u001b[39m\u001b[38;5;124mpyarrow_numpy\u001b[39m\u001b[38;5;124m\"\u001b[39m,\n\u001b[0;32m    239\u001b[0m     )\n\u001b[0;32m    240\u001b[0m \u001b[38;5;28;01mexcept\u001b[39;00m (\u001b[38;5;167;01mValueError\u001b[39;00m, \u001b[38;5;167;01mTypeError\u001b[39;00m):\n\u001b[0;32m    241\u001b[0m     \u001b[38;5;28;01mif\u001b[39;00m errors \u001b[38;5;241m==\u001b[39m \u001b[38;5;124m\"\u001b[39m\u001b[38;5;124mraise\u001b[39m\u001b[38;5;124m\"\u001b[39m:\n",
      "File \u001b[1;32mlib.pyx:2433\u001b[0m, in \u001b[0;36mpandas._libs.lib.maybe_convert_numeric\u001b[1;34m()\u001b[0m\n",
      "\u001b[1;31mValueError\u001b[0m: Unable to parse string \"쪽수 확인 \" at position 1577"
     ]
    }
   ],
   "source": [
    "pd.to_numeric(book['book_page']) # 기본 옵션으로 수행시 변환 불가능한 데이터가 있으면 런타임 에러 발생"
   ]
  },
  {
   "cell_type": "code",
   "execution_count": 141,
   "id": "155512f3-0187-4385-b66e-f8c9dbba49f6",
   "metadata": {},
   "outputs": [],
   "source": [
    "book['book_page'] = pd.to_numeric(book['book_page'], errors='coerce') # 변환 불가능한 데이터가 존재하면 NaN으로 변환"
   ]
  },
  {
   "cell_type": "code",
   "execution_count": 142,
   "id": "31f2d402-f524-4ef8-a37b-65097cad106b",
   "metadata": {},
   "outputs": [
    {
     "data": {
      "text/plain": [
       "1570    296.0\n",
       "1571    328.0\n",
       "1572    576.0\n",
       "1573    448.0\n",
       "1574     14.0\n",
       "1575    308.0\n",
       "1576    300.0\n",
       "1577      NaN\n",
       "1578    276.0\n",
       "1579    212.0\n",
       "Name: book_page, dtype: float64"
      ]
     },
     "execution_count": 142,
     "metadata": {},
     "output_type": "execute_result"
    }
   ],
   "source": [
    "book['book_page'][1570:1580]"
   ]
  },
  {
   "cell_type": "code",
   "execution_count": 87,
   "id": "e9285e17-604c-4b41-a51e-553cbe327232",
   "metadata": {},
   "outputs": [],
   "source": [
    "def categorize_pages(pages):\n",
    "    if pd.isna(pages):\n",
    "        return \"미정의\"\n",
    "    \n",
    "    if pages <= 100:\n",
    "        return \"100쪽이하\"\n",
    "    elif pages <= 200:\n",
    "        return \"200쪽이하\"\n",
    "    elif pages <= 300:\n",
    "        return \"300쪽이하\"\n",
    "    elif pages <= 500:\n",
    "        return \"500쪽이하\"\n",
    "    else:\n",
    "        return \"500쪽초과\""
   ]
  },
  {
   "cell_type": "code",
   "execution_count": 88,
   "id": "54bb6f94-0b83-48e4-ae7c-35c367b600c4",
   "metadata": {},
   "outputs": [
    {
     "data": {
      "text/plain": [
       "0       200쪽이하\n",
       "1       500쪽이하\n",
       "2       500쪽이하\n",
       "3       500쪽이하\n",
       "4       300쪽이하\n",
       "         ...  \n",
       "1995    200쪽이하\n",
       "1996    500쪽이하\n",
       "1997    200쪽이하\n",
       "1998    500쪽이하\n",
       "1999    300쪽이하\n",
       "Name: page_range, Length: 2000, dtype: object"
      ]
     },
     "execution_count": 88,
     "metadata": {},
     "output_type": "execute_result"
    }
   ],
   "source": [
    "book['page_range'] = book['book_page'].apply(categorize_pages)\n",
    "book['page_range']"
   ]
  },
  {
   "cell_type": "code",
   "execution_count": 89,
   "id": "0a67f560-de30-4bf0-81f5-b9f5590b17a3",
   "metadata": {},
   "outputs": [
    {
     "data": {
      "text/plain": [
       "page_range\n",
       "300쪽이하    609\n",
       "500쪽이하    587\n",
       "200쪽이하    346\n",
       "100쪽이하    292\n",
       "500쪽초과    165\n",
       "미정의         1\n",
       "Name: count, dtype: int64"
      ]
     },
     "execution_count": 89,
     "metadata": {},
     "output_type": "execute_result"
    }
   ],
   "source": [
    "book['page_range'].value_counts()"
   ]
  },
  {
   "cell_type": "code",
   "execution_count": 91,
   "id": "891391e0-79b0-4087-a0ad-1d013b5b4dfd",
   "metadata": {
    "scrolled": true
   },
   "outputs": [
    {
     "data": {
      "image/png": "[encoded data removed]",
      "text/plain": [
       "<Figure size 640x480 with 1 Axes>"
      ]
     },
     "metadata": {},
     "output_type": "display_data"
    }
   ],
   "source": [
    "page_range_list = book.page_range.value_counts().index.tolist()\n",
    "x = np.arange(len(page_range_list))\n",
    "values = book.page_range.value_counts().values\n",
    "plt.bar(x, values)\n",
    "plt.xticks(x, page_range_list)\n",
    "plt.show()"
   ]
  },
  {
   "cell_type": "markdown",
   "id": "ae9cd15d",
   "metadata": {
    "jp-MarkdownHeadingCollapsed": true
   },
   "source": [
    "### 색상 지정하기"
   ]
  },
  {
   "cell_type": "markdown",
   "id": "2987bef7",
   "metadata": {},
   "source": [
    "### 바마다 개별 색 지정"
   ]
  },
  {
   "cell_type": "markdown",
   "id": "984f8f86",
   "metadata": {},
   "source": [
    "### 막대 폭 지정하기"
   ]
  },
  {
   "cell_type": "markdown",
   "id": "447d119a",
   "metadata": {},
   "source": [
    "### 스타일 꾸미기"
   ]
  },
  {
   "cell_type": "raw",
   "id": "f629a3b7",
   "metadata": {},
   "source": [
    "align은 눈금과 막대의 위치를 조절. 디폴트 값은 ‘center’이며, ‘edge’로 설정하면 막대의 왼쪽 끝에 눈금이 표시.\n",
    "\n",
    "edgecolor는 막대 테두리 색, linewidth는 테두리의 두께를 지정.\n",
    "\n",
    "tick_label을 리스트 또는 어레이 형태로 지정하면, 틱에 문자열을 순서대로 나타냄."
   ]
  },
  {
   "cell_type": "markdown",
   "id": "38f1c03f",
   "metadata": {},
   "source": [
    "## 수평 막대 그래프 그리기"
   ]
  },
  {
   "cell_type": "markdown",
   "id": "10d91b89",
   "metadata": {},
   "source": [
    "### 기본 사용 (barh 함수 활용)"
   ]
  },
  {
   "cell_type": "markdown",
   "id": "1bccfaa0",
   "metadata": {},
   "source": [
    "### 색상지정하기"
   ]
  },
  {
   "cell_type": "markdown",
   "id": "3ae8f5f6",
   "metadata": {},
   "source": [
    "### 색상 개별 지정"
   ]
  },
  {
   "cell_type": "markdown",
   "id": "9e7c4140",
   "metadata": {},
   "source": [
    "### 막대 위치 지정"
   ]
  },
  {
   "cell_type": "markdown",
   "id": "f182aa25",
   "metadata": {},
   "source": [
    "### 스타일 꾸미기"
   ]
  }
 ],
 "metadata": {
  "kernelspec": {
   "display_name": "Python [conda env:base] *",
   "language": "python",
   "name": "conda-base-py"
  },
  "language_info": {
   "codemirror_mode": {
    "name": "ipython",
    "version": 3
   },
   "file_extension": ".py",
   "mimetype": "text/x-python",
   "name": "python",
   "nbconvert_exporter": "python",
   "pygments_lexer": "ipython3",
   "version": "3.13.5"
  }
 },
 "nbformat": 4,
 "nbformat_minor": 5
}
