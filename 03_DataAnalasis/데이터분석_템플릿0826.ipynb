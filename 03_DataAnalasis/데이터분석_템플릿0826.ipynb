{
 "cells": [
  {
   "cell_type": "code",
   "execution_count": 1,
   "id": "03d273ae-c8c5-49c8-b599-7c8301dc3703",
   "metadata": {},
   "outputs": [],
   "source": [
    "import folium\n",
    "from folium import Marker\n",
    "from folium.plugins import MarkerCluster\n",
    "import pandas as pd\n",
    "import numpy as np\n",
    "import seaborn as sns\n",
    "import matplotlib.pyplot as plt\n",
    "\n",
    "from PIL import Image\n",
    "from matplotlib import font_manager,rc\n",
    "\n",
    "import random\n",
    "\n",
    "%matplotlib inline\n",
    "from matplotlib import font_manager,rc\n",
    "# 한글 폰트\n",
    "font_location = \"C:\\Windows\\Fonts\\malgun.ttf\"\n",
    "font_name = font_manager.FontProperties(fname=font_location).get_name()\n",
    "rc('font',family=font_name)\n",
    "plt.rcParams['axes.unicode_minus'] = False"
   ]
  },
  {
   "cell_type": "markdown",
   "id": "9a361676",
   "metadata": {
    "hidden": true
   },
   "source": [
    "## 주요절차"
   ]
  },
  {
   "cell_type": "markdown",
   "id": "27585602",
   "metadata": {
    "hidden": true
   },
   "source": [
    "### 1. 초기데이터 분석"
   ]
  },
  {
   "cell_type": "markdown",
   "id": "f952717d-1c7e-4ec5-a2bf-85ec04cad815",
   "metadata": {
    "hidden": true
   },
   "source": [
    "#### 1-1. 데이터딕셔너리(각 열의 의미, 데이터의 의미해석관련 스펙 또는 메뉴얼) 확인\n",
    "#### 1-2 데이터 기초정보 확인 (사이즈, 열이름, 데이터형)"
   ]
  },
  {
   "cell_type": "code",
   "execution_count": 34,
   "id": "81bebc32-5836-4eeb-99ca-201fb6da575d",
   "metadata": {
    "scrolled": true
   },
   "outputs": [
    {
     "name": "stdout",
     "output_type": "stream",
     "text": [
      "<class 'pandas.core.frame.DataFrame'>\n",
      "Index: 13 entries, 33 to 624\n",
      "Data columns (total 11 columns):\n",
      " #   Column    Non-Null Count  Dtype  \n",
      "---  ------    --------------  -----  \n",
      " 0   시도명       13 non-null     object \n",
      " 1   시군구명      13 non-null     object \n",
      " 2   읍면동명      13 non-null     object \n",
      " 3   주택유형      13 non-null     object \n",
      " 4   건축년도      13 non-null     int64  \n",
      " 5   건축물대장주구조  13 non-null     object \n",
      " 6   연면적       13 non-null     float64\n",
      " 7   위도        13 non-null     float64\n",
      " 8   경도        13 non-null     float64\n",
      " 9   등급판정결과    13 non-null     object \n",
      " 10  데이터기준일자   13 non-null     object \n",
      "dtypes: float64(3), int64(1), object(7)\n",
      "memory usage: 1.2+ KB\n"
     ]
    }
   ],
   "source": [
    "df[df['건축년도'] > 2000].info()"
   ]
  },
  {
   "cell_type": "code",
   "execution_count": 2,
   "id": "dfc1fb32-e07f-4fe0-abf6-3aca4f7750e5",
   "metadata": {
    "scrolled": true
   },
   "outputs": [
    {
     "data": {
      "text/html": [
       "<div>\n",
       "<style scoped>\n",
       "    .dataframe tbody tr th:only-of-type {\n",
       "        vertical-align: middle;\n",
       "    }\n",
       "\n",
       "    .dataframe tbody tr th {\n",
       "        vertical-align: top;\n",
       "    }\n",
       "\n",
       "    .dataframe thead th {\n",
       "        text-align: right;\n",
       "    }\n",
       "</style>\n",
       "<table border=\"1\" class=\"dataframe\">\n",
       "  <thead>\n",
       "    <tr style=\"text-align: right;\">\n",
       "      <th></th>\n",
       "      <th>시도명</th>\n",
       "      <th>시군구명</th>\n",
       "      <th>읍면동명</th>\n",
       "      <th>주택유형</th>\n",
       "      <th>건축년도</th>\n",
       "      <th>건축물대장주구조</th>\n",
       "      <th>연면적</th>\n",
       "      <th>위도</th>\n",
       "      <th>경도</th>\n",
       "      <th>등급판정결과</th>\n",
       "      <th>데이터기준일자</th>\n",
       "    </tr>\n",
       "  </thead>\n",
       "  <tbody>\n",
       "    <tr>\n",
       "      <th>0</th>\n",
       "      <td>광주광역시</td>\n",
       "      <td>동구</td>\n",
       "      <td>대인동</td>\n",
       "      <td>그외</td>\n",
       "      <td>0</td>\n",
       "      <td>벽돌구조</td>\n",
       "      <td>139.820</td>\n",
       "      <td>192083.0095</td>\n",
       "      <td>183919.9701</td>\n",
       "      <td>2등급</td>\n",
       "      <td>2025-07-16</td>\n",
       "    </tr>\n",
       "    <tr>\n",
       "      <th>1</th>\n",
       "      <td>광주광역시</td>\n",
       "      <td>동구</td>\n",
       "      <td>대인동</td>\n",
       "      <td>단독</td>\n",
       "      <td>0</td>\n",
       "      <td>일반목구조</td>\n",
       "      <td>98.115</td>\n",
       "      <td>192160.5924</td>\n",
       "      <td>183779.9067</td>\n",
       "      <td>2등급</td>\n",
       "      <td>2025-07-16</td>\n",
       "    </tr>\n",
       "    <tr>\n",
       "      <th>2</th>\n",
       "      <td>광주광역시</td>\n",
       "      <td>동구</td>\n",
       "      <td>대인동</td>\n",
       "      <td>단독</td>\n",
       "      <td>1965</td>\n",
       "      <td>일반목구조</td>\n",
       "      <td>39.660</td>\n",
       "      <td>192436.9433</td>\n",
       "      <td>183844.8592</td>\n",
       "      <td>2등급</td>\n",
       "      <td>2025-07-16</td>\n",
       "    </tr>\n",
       "    <tr>\n",
       "      <th>3</th>\n",
       "      <td>광주광역시</td>\n",
       "      <td>동구</td>\n",
       "      <td>금남로5가</td>\n",
       "      <td>단독</td>\n",
       "      <td>1981</td>\n",
       "      <td>벽돌구조</td>\n",
       "      <td>176.320</td>\n",
       "      <td>191854.7955</td>\n",
       "      <td>183687.0436</td>\n",
       "      <td>1등급</td>\n",
       "      <td>2025-07-16</td>\n",
       "    </tr>\n",
       "    <tr>\n",
       "      <th>4</th>\n",
       "      <td>광주광역시</td>\n",
       "      <td>동구</td>\n",
       "      <td>궁동</td>\n",
       "      <td>단독</td>\n",
       "      <td>1968</td>\n",
       "      <td>벽돌구조</td>\n",
       "      <td>148.080</td>\n",
       "      <td>192572.6725</td>\n",
       "      <td>183428.8097</td>\n",
       "      <td>2등급</td>\n",
       "      <td>2025-07-16</td>\n",
       "    </tr>\n",
       "  </tbody>\n",
       "</table>\n",
       "</div>"
      ],
      "text/plain": [
       "     시도명 시군구명   읍면동명 주택유형  건축년도 건축물대장주구조      연면적           위도           경도  \\\n",
       "0  광주광역시   동구    대인동   그외     0     벽돌구조  139.820  192083.0095  183919.9701   \n",
       "1  광주광역시   동구    대인동   단독     0    일반목구조   98.115  192160.5924  183779.9067   \n",
       "2  광주광역시   동구    대인동   단독  1965    일반목구조   39.660  192436.9433  183844.8592   \n",
       "3  광주광역시   동구  금남로5가   단독  1981     벽돌구조  176.320  191854.7955  183687.0436   \n",
       "4  광주광역시   동구     궁동   단독  1968     벽돌구조  148.080  192572.6725  183428.8097   \n",
       "\n",
       "  등급판정결과     데이터기준일자  \n",
       "0    2등급  2025-07-16  \n",
       "1    2등급  2025-07-16  \n",
       "2    2등급  2025-07-16  \n",
       "3    1등급  2025-07-16  \n",
       "4    2등급  2025-07-16  "
      ]
     },
     "execution_count": 2,
     "metadata": {},
     "output_type": "execute_result"
    }
   ],
   "source": [
    "df = pd.read_csv('광주광역시 동구_빈집 현황_20250716.csv',encoding='cp949')\n",
    "df.head()"
   ]
  },
  {
   "cell_type": "raw",
   "id": "e15621f7-f76c-4a7a-9e89-96fe1bee2a4b",
   "metadata": {},
   "source": [
    "df.info()"
   ]
  },
  {
   "cell_type": "code",
   "execution_count": 8,
   "id": "34cc9ef0-5cc9-41c6-b5dc-8b31a739fe38",
   "metadata": {},
   "outputs": [
    {
     "data": {
      "text/html": [
       "<div>\n",
       "<style scoped>\n",
       "    .dataframe tbody tr th:only-of-type {\n",
       "        vertical-align: middle;\n",
       "    }\n",
       "\n",
       "    .dataframe tbody tr th {\n",
       "        vertical-align: top;\n",
       "    }\n",
       "\n",
       "    .dataframe thead th {\n",
       "        text-align: right;\n",
       "    }\n",
       "</style>\n",
       "<table border=\"1\" class=\"dataframe\">\n",
       "  <thead>\n",
       "    <tr style=\"text-align: right;\">\n",
       "      <th></th>\n",
       "      <th>시도명</th>\n",
       "      <th>시군구명</th>\n",
       "      <th>읍면동명</th>\n",
       "      <th>주택유형</th>\n",
       "      <th>건축년도</th>\n",
       "      <th>건축물대장주구조</th>\n",
       "      <th>연면적</th>\n",
       "      <th>위도</th>\n",
       "      <th>경도</th>\n",
       "      <th>등급판정결과</th>\n",
       "      <th>데이터기준일자</th>\n",
       "    </tr>\n",
       "  </thead>\n",
       "  <tbody>\n",
       "    <tr>\n",
       "      <th>2</th>\n",
       "      <td>광주광역시</td>\n",
       "      <td>동구</td>\n",
       "      <td>대인동</td>\n",
       "      <td>단독</td>\n",
       "      <td>1965</td>\n",
       "      <td>일반목구조</td>\n",
       "      <td>39.660</td>\n",
       "      <td>192436.9433</td>\n",
       "      <td>183844.8592</td>\n",
       "      <td>2등급</td>\n",
       "      <td>2025-07-16</td>\n",
       "    </tr>\n",
       "    <tr>\n",
       "      <th>3</th>\n",
       "      <td>광주광역시</td>\n",
       "      <td>동구</td>\n",
       "      <td>금남로5가</td>\n",
       "      <td>단독</td>\n",
       "      <td>1981</td>\n",
       "      <td>벽돌구조</td>\n",
       "      <td>176.320</td>\n",
       "      <td>191854.7955</td>\n",
       "      <td>183687.0436</td>\n",
       "      <td>1등급</td>\n",
       "      <td>2025-07-16</td>\n",
       "    </tr>\n",
       "    <tr>\n",
       "      <th>4</th>\n",
       "      <td>광주광역시</td>\n",
       "      <td>동구</td>\n",
       "      <td>궁동</td>\n",
       "      <td>단독</td>\n",
       "      <td>1968</td>\n",
       "      <td>벽돌구조</td>\n",
       "      <td>148.080</td>\n",
       "      <td>192572.6725</td>\n",
       "      <td>183428.8097</td>\n",
       "      <td>2등급</td>\n",
       "      <td>2025-07-16</td>\n",
       "    </tr>\n",
       "    <tr>\n",
       "      <th>5</th>\n",
       "      <td>광주광역시</td>\n",
       "      <td>동구</td>\n",
       "      <td>궁동</td>\n",
       "      <td>단독</td>\n",
       "      <td>1984</td>\n",
       "      <td>벽돌구조</td>\n",
       "      <td>125.880</td>\n",
       "      <td>192502.8990</td>\n",
       "      <td>183391.0862</td>\n",
       "      <td>1등급</td>\n",
       "      <td>2025-07-16</td>\n",
       "    </tr>\n",
       "    <tr>\n",
       "      <th>6</th>\n",
       "      <td>광주광역시</td>\n",
       "      <td>동구</td>\n",
       "      <td>장동</td>\n",
       "      <td>단독</td>\n",
       "      <td>1951</td>\n",
       "      <td>일반목구조</td>\n",
       "      <td>68.410</td>\n",
       "      <td>192857.2541</td>\n",
       "      <td>183515.7902</td>\n",
       "      <td>2등급</td>\n",
       "      <td>2025-07-16</td>\n",
       "    </tr>\n",
       "    <tr>\n",
       "      <th>...</th>\n",
       "      <td>...</td>\n",
       "      <td>...</td>\n",
       "      <td>...</td>\n",
       "      <td>...</td>\n",
       "      <td>...</td>\n",
       "      <td>...</td>\n",
       "      <td>...</td>\n",
       "      <td>...</td>\n",
       "      <td>...</td>\n",
       "      <td>...</td>\n",
       "      <td>...</td>\n",
       "    </tr>\n",
       "    <tr>\n",
       "      <th>642</th>\n",
       "      <td>광주광역시</td>\n",
       "      <td>동구</td>\n",
       "      <td>용산동</td>\n",
       "      <td>단독</td>\n",
       "      <td>1971</td>\n",
       "      <td>블록구조</td>\n",
       "      <td>78.330</td>\n",
       "      <td>193550.3959</td>\n",
       "      <td>179946.3202</td>\n",
       "      <td>2등급</td>\n",
       "      <td>2025-07-16</td>\n",
       "    </tr>\n",
       "    <tr>\n",
       "      <th>643</th>\n",
       "      <td>광주광역시</td>\n",
       "      <td>동구</td>\n",
       "      <td>용산동</td>\n",
       "      <td>단독</td>\n",
       "      <td>1978</td>\n",
       "      <td>벽돌구조</td>\n",
       "      <td>75.245</td>\n",
       "      <td>193650.0085</td>\n",
       "      <td>180214.5502</td>\n",
       "      <td>1등급</td>\n",
       "      <td>2025-07-16</td>\n",
       "    </tr>\n",
       "    <tr>\n",
       "      <th>645</th>\n",
       "      <td>광주광역시</td>\n",
       "      <td>동구</td>\n",
       "      <td>용산동</td>\n",
       "      <td>단독</td>\n",
       "      <td>1976</td>\n",
       "      <td>벽돌구조</td>\n",
       "      <td>52.550</td>\n",
       "      <td>193675.3286</td>\n",
       "      <td>180110.5382</td>\n",
       "      <td>1등급</td>\n",
       "      <td>2025-07-16</td>\n",
       "    </tr>\n",
       "    <tr>\n",
       "      <th>646</th>\n",
       "      <td>광주광역시</td>\n",
       "      <td>동구</td>\n",
       "      <td>용산동</td>\n",
       "      <td>단독</td>\n",
       "      <td>1977</td>\n",
       "      <td>벽돌구조</td>\n",
       "      <td>97.850</td>\n",
       "      <td>193802.2706</td>\n",
       "      <td>180228.8692</td>\n",
       "      <td>2등급</td>\n",
       "      <td>2025-07-16</td>\n",
       "    </tr>\n",
       "    <tr>\n",
       "      <th>647</th>\n",
       "      <td>광주광역시</td>\n",
       "      <td>동구</td>\n",
       "      <td>용산동</td>\n",
       "      <td>단독</td>\n",
       "      <td>1985</td>\n",
       "      <td>블록구조</td>\n",
       "      <td>47.240</td>\n",
       "      <td>193489.8519</td>\n",
       "      <td>180651.9947</td>\n",
       "      <td>1등급</td>\n",
       "      <td>2025-07-16</td>\n",
       "    </tr>\n",
       "  </tbody>\n",
       "</table>\n",
       "<p>629 rows × 11 columns</p>\n",
       "</div>"
      ],
      "text/plain": [
       "       시도명 시군구명   읍면동명 주택유형  건축년도 건축물대장주구조      연면적           위도           경도  \\\n",
       "2    광주광역시   동구    대인동   단독  1965    일반목구조   39.660  192436.9433  183844.8592   \n",
       "3    광주광역시   동구  금남로5가   단독  1981     벽돌구조  176.320  191854.7955  183687.0436   \n",
       "4    광주광역시   동구     궁동   단독  1968     벽돌구조  148.080  192572.6725  183428.8097   \n",
       "5    광주광역시   동구     궁동   단독  1984     벽돌구조  125.880  192502.8990  183391.0862   \n",
       "6    광주광역시   동구     장동   단독  1951    일반목구조   68.410  192857.2541  183515.7902   \n",
       "..     ...  ...    ...  ...   ...      ...      ...          ...          ...   \n",
       "642  광주광역시   동구    용산동   단독  1971     블록구조   78.330  193550.3959  179946.3202   \n",
       "643  광주광역시   동구    용산동   단독  1978     벽돌구조   75.245  193650.0085  180214.5502   \n",
       "645  광주광역시   동구    용산동   단독  1976     벽돌구조   52.550  193675.3286  180110.5382   \n",
       "646  광주광역시   동구    용산동   단독  1977     벽돌구조   97.850  193802.2706  180228.8692   \n",
       "647  광주광역시   동구    용산동   단독  1985     블록구조   47.240  193489.8519  180651.9947   \n",
       "\n",
       "    등급판정결과     데이터기준일자  \n",
       "2      2등급  2025-07-16  \n",
       "3      1등급  2025-07-16  \n",
       "4      2등급  2025-07-16  \n",
       "5      1등급  2025-07-16  \n",
       "6      2등급  2025-07-16  \n",
       "..     ...         ...  \n",
       "642    2등급  2025-07-16  \n",
       "643    1등급  2025-07-16  \n",
       "645    1등급  2025-07-16  \n",
       "646    2등급  2025-07-16  \n",
       "647    1등급  2025-07-16  \n",
       "\n",
       "[629 rows x 11 columns]"
      ]
     },
     "execution_count": 8,
     "metadata": {},
     "output_type": "execute_result"
    }
   ],
   "source": [
    "df = df [ df['건축년도'] != 0 ]\n",
    "df"
   ]
  },
  {
   "cell_type": "markdown",
   "id": "fc3d0eb7-3b2e-4204-944a-9287732085c9",
   "metadata": {},
   "source": [
    "* 기초통계정보 확인"
   ]
  },
  {
   "cell_type": "raw",
   "id": "66a43f0e-61a2-491f-96c6-5a54f3e52b50",
   "metadata": {
    "hidden": true
   },
   "source": [
    "기초 통계값 확인 ( df.describe() )\n",
    "[수치형 데이터]\r",
    " \n",
    "=> 수치데이터로서 의미가 는지 판단? (이상치, 아웃라이어 확인)\r\n",
    "=> 의미가 있는(예: 키, 몸무게, 가격등) 열에 대해 아래 작업 진행  분석\r\n",
    " - 확인해야 할 사항    수치상\r\n",
    "mean, min, 1q, 2q(중위값),  최대값 가격\r\n",
    " - 시각화\r\n",
    "  히스토그램, 박스플롯 (바이올린플롯)\r\n",
    " - 이상치 유무 확인\r\n",
    " - 이상치가 있다면 보정방식을 선택\r\n",
    "  (예, 단일값, 보정: 삭제이상치 수정이후 , 포함)\r\n",
    "- 기초통계값과, 차치가 [보 재  데이터]유무 확인)\r\n",
    "- 문자열\r\n",
    " => unique의 결과값에서 파이차트나 막대차트로 그릴수  - 있는 열이 있는지 확인\r\n",
    " 10개미만은 파이차트,  - 도우넛차트 그리기에 용이\r\n",
    " 10개상위 은 파이차트, 막대차트(Top3,5,10 등을 도출.. 그리고 형 데이터나하위 데이터3,5,10)\r\n",
    "\r\n",
    "* 수치 문자 중에 범위화 할 \n",
    " 예)수 있는 열이 있는지 확인해 보자\r\n",
    " 가격=> 초고가, 고가,위 작업은  일반, 저가 함수를 통해\r",
    "ly 함수를 통해"
   ]
  },
  {
   "cell_type": "markdown",
   "id": "2ebab032",
   "metadata": {
    "hidden": true
   },
   "source": [
    "### 2. 데이터 정제"
   ]
  },
  {
   "cell_type": "markdown",
   "id": "39e200d0",
   "metadata": {
    "hidden": true
   },
   "source": [
    "#### 2.1. 원본데이터에서 분석가능한 형태로 데이터 전처리 (형변환, 열이름 변경등)\n",
    "#### 2.2. 데이터 클리닝: 이상치, 결측치처리"
   ]
  },
  {
   "cell_type": "code",
   "execution_count": 16,
   "id": "97d3129f-75cc-44bf-b976-0b72e8ba837f",
   "metadata": {
    "scrolled": true
   },
   "outputs": [
    {
     "data": {
      "text/html": [
       "<div>\n",
       "<style scoped>\n",
       "    .dataframe tbody tr th:only-of-type {\n",
       "        vertical-align: middle;\n",
       "    }\n",
       "\n",
       "    .dataframe tbody tr th {\n",
       "        vertical-align: top;\n",
       "    }\n",
       "\n",
       "    .dataframe thead th {\n",
       "        text-align: right;\n",
       "    }\n",
       "</style>\n",
       "<table border=\"1\" class=\"dataframe\">\n",
       "  <thead>\n",
       "    <tr style=\"text-align: right;\">\n",
       "      <th></th>\n",
       "      <th>시도명</th>\n",
       "      <th>시군구명</th>\n",
       "      <th>읍면동명</th>\n",
       "      <th>주택유형</th>\n",
       "      <th>건축년도</th>\n",
       "      <th>건축물대장주구조</th>\n",
       "      <th>연면적</th>\n",
       "      <th>위도</th>\n",
       "      <th>경도</th>\n",
       "      <th>등급판정결과</th>\n",
       "      <th>데이터기준일자</th>\n",
       "    </tr>\n",
       "  </thead>\n",
       "  <tbody>\n",
       "    <tr>\n",
       "      <th>2</th>\n",
       "      <td>광주광역시</td>\n",
       "      <td>동구</td>\n",
       "      <td>대인동</td>\n",
       "      <td>단독</td>\n",
       "      <td>1965</td>\n",
       "      <td>일반목구조</td>\n",
       "      <td>39.66</td>\n",
       "      <td>192436.9433</td>\n",
       "      <td>183844.8592</td>\n",
       "      <td>2등급</td>\n",
       "      <td>2025-07-16</td>\n",
       "    </tr>\n",
       "    <tr>\n",
       "      <th>3</th>\n",
       "      <td>광주광역시</td>\n",
       "      <td>동구</td>\n",
       "      <td>금남로5가</td>\n",
       "      <td>단독</td>\n",
       "      <td>1981</td>\n",
       "      <td>벽돌구조</td>\n",
       "      <td>176.32</td>\n",
       "      <td>191854.7955</td>\n",
       "      <td>183687.0436</td>\n",
       "      <td>1등급</td>\n",
       "      <td>2025-07-16</td>\n",
       "    </tr>\n",
       "    <tr>\n",
       "      <th>4</th>\n",
       "      <td>광주광역시</td>\n",
       "      <td>동구</td>\n",
       "      <td>궁동</td>\n",
       "      <td>단독</td>\n",
       "      <td>1968</td>\n",
       "      <td>벽돌구조</td>\n",
       "      <td>148.08</td>\n",
       "      <td>192572.6725</td>\n",
       "      <td>183428.8097</td>\n",
       "      <td>2등급</td>\n",
       "      <td>2025-07-16</td>\n",
       "    </tr>\n",
       "    <tr>\n",
       "      <th>5</th>\n",
       "      <td>광주광역시</td>\n",
       "      <td>동구</td>\n",
       "      <td>궁동</td>\n",
       "      <td>단독</td>\n",
       "      <td>1984</td>\n",
       "      <td>벽돌구조</td>\n",
       "      <td>125.88</td>\n",
       "      <td>192502.8990</td>\n",
       "      <td>183391.0862</td>\n",
       "      <td>1등급</td>\n",
       "      <td>2025-07-16</td>\n",
       "    </tr>\n",
       "    <tr>\n",
       "      <th>6</th>\n",
       "      <td>광주광역시</td>\n",
       "      <td>동구</td>\n",
       "      <td>장동</td>\n",
       "      <td>단독</td>\n",
       "      <td>1951</td>\n",
       "      <td>일반목구조</td>\n",
       "      <td>68.41</td>\n",
       "      <td>192857.2541</td>\n",
       "      <td>183515.7902</td>\n",
       "      <td>2등급</td>\n",
       "      <td>2025-07-16</td>\n",
       "    </tr>\n",
       "  </tbody>\n",
       "</table>\n",
       "</div>"
      ],
      "text/plain": [
       "     시도명 시군구명   읍면동명 주택유형  건축년도 건축물대장주구조     연면적           위도           경도  \\\n",
       "2  광주광역시   동구    대인동   단독  1965    일반목구조   39.66  192436.9433  183844.8592   \n",
       "3  광주광역시   동구  금남로5가   단독  1981     벽돌구조  176.32  191854.7955  183687.0436   \n",
       "4  광주광역시   동구     궁동   단독  1968     벽돌구조  148.08  192572.6725  183428.8097   \n",
       "5  광주광역시   동구     궁동   단독  1984     벽돌구조  125.88  192502.8990  183391.0862   \n",
       "6  광주광역시   동구     장동   단독  1951    일반목구조   68.41  192857.2541  183515.7902   \n",
       "\n",
       "  등급판정결과     데이터기준일자  \n",
       "2    2등급  2025-07-16  \n",
       "3    1등급  2025-07-16  \n",
       "4    2등급  2025-07-16  \n",
       "5    1등급  2025-07-16  \n",
       "6    2등급  2025-07-16  "
      ]
     },
     "execution_count": 16,
     "metadata": {},
     "output_type": "execute_result"
    }
   ],
   "source": [
    "df2 = df[['읍면동명', '주택유형', '건축년도', '건축물대장주구조', '위도', '경도', '등급판정결과']]\n",
    "df.head()"
   ]
  },
  {
   "cell_type": "markdown",
   "id": "4e60e3f3",
   "metadata": {
    "hidden": true
   },
   "source": [
    "### 3. 추가데이터 분석"
   ]
  },
  {
   "cell_type": "markdown",
   "id": "82e0a525",
   "metadata": {
    "hidden": true
   },
   "source": [
    "#### 3.1 데이터 정제후 데이터딕셔너리 재확인\n",
    "#### 3.2 기초통계 정보 확인 (최대값, 최소값, 평균값, 표준편차, 최빈값, 유일값 등)\n",
    "#### 3.3 시각화를 통한 데이터이해 심화 "
   ]
  },
  {
   "cell_type": "code",
   "execution_count": 17,
   "id": "8e7eb1b6-3ad1-4a53-ad61-a12d4a8db9bf",
   "metadata": {},
   "outputs": [
    {
     "data": {
      "text/html": [
       "<div>\n",
       "<style scoped>\n",
       "    .dataframe tbody tr th:only-of-type {\n",
       "        vertical-align: middle;\n",
       "    }\n",
       "\n",
       "    .dataframe tbody tr th {\n",
       "        vertical-align: top;\n",
       "    }\n",
       "\n",
       "    .dataframe thead th {\n",
       "        text-align: right;\n",
       "    }\n",
       "</style>\n",
       "<table border=\"1\" class=\"dataframe\">\n",
       "  <thead>\n",
       "    <tr style=\"text-align: right;\">\n",
       "      <th></th>\n",
       "      <th>읍면동명</th>\n",
       "      <th>주택유형</th>\n",
       "      <th>건축년도</th>\n",
       "      <th>건축물대장주구조</th>\n",
       "      <th>위도</th>\n",
       "      <th>경도</th>\n",
       "      <th>등급판정결과</th>\n",
       "    </tr>\n",
       "  </thead>\n",
       "  <tbody>\n",
       "    <tr>\n",
       "      <th>2</th>\n",
       "      <td>대인동</td>\n",
       "      <td>단독</td>\n",
       "      <td>1965</td>\n",
       "      <td>일반목구조</td>\n",
       "      <td>192436.9433</td>\n",
       "      <td>183844.8592</td>\n",
       "      <td>2등급</td>\n",
       "    </tr>\n",
       "    <tr>\n",
       "      <th>3</th>\n",
       "      <td>금남로5가</td>\n",
       "      <td>단독</td>\n",
       "      <td>1981</td>\n",
       "      <td>벽돌구조</td>\n",
       "      <td>191854.7955</td>\n",
       "      <td>183687.0436</td>\n",
       "      <td>1등급</td>\n",
       "    </tr>\n",
       "    <tr>\n",
       "      <th>4</th>\n",
       "      <td>궁동</td>\n",
       "      <td>단독</td>\n",
       "      <td>1968</td>\n",
       "      <td>벽돌구조</td>\n",
       "      <td>192572.6725</td>\n",
       "      <td>183428.8097</td>\n",
       "      <td>2등급</td>\n",
       "    </tr>\n",
       "    <tr>\n",
       "      <th>5</th>\n",
       "      <td>궁동</td>\n",
       "      <td>단독</td>\n",
       "      <td>1984</td>\n",
       "      <td>벽돌구조</td>\n",
       "      <td>192502.8990</td>\n",
       "      <td>183391.0862</td>\n",
       "      <td>1등급</td>\n",
       "    </tr>\n",
       "    <tr>\n",
       "      <th>6</th>\n",
       "      <td>장동</td>\n",
       "      <td>단독</td>\n",
       "      <td>1951</td>\n",
       "      <td>일반목구조</td>\n",
       "      <td>192857.2541</td>\n",
       "      <td>183515.7902</td>\n",
       "      <td>2등급</td>\n",
       "    </tr>\n",
       "    <tr>\n",
       "      <th>7</th>\n",
       "      <td>장동</td>\n",
       "      <td>단독</td>\n",
       "      <td>1959</td>\n",
       "      <td>일반목구조</td>\n",
       "      <td>192805.1265</td>\n",
       "      <td>183514.0367</td>\n",
       "      <td>2등급</td>\n",
       "    </tr>\n",
       "    <tr>\n",
       "      <th>8</th>\n",
       "      <td>장동</td>\n",
       "      <td>단독</td>\n",
       "      <td>1965</td>\n",
       "      <td>일반목구조</td>\n",
       "      <td>192875.6587</td>\n",
       "      <td>183440.3522</td>\n",
       "      <td>1등급</td>\n",
       "    </tr>\n",
       "    <tr>\n",
       "      <th>9</th>\n",
       "      <td>장동</td>\n",
       "      <td>단독</td>\n",
       "      <td>1993</td>\n",
       "      <td>벽돌구조</td>\n",
       "      <td>192886.6518</td>\n",
       "      <td>183164.2227</td>\n",
       "      <td>2등급</td>\n",
       "    </tr>\n",
       "    <tr>\n",
       "      <th>10</th>\n",
       "      <td>장동</td>\n",
       "      <td>단독</td>\n",
       "      <td>1979</td>\n",
       "      <td>벽돌구조</td>\n",
       "      <td>192877.8488</td>\n",
       "      <td>183171.7282</td>\n",
       "      <td>2등급</td>\n",
       "    </tr>\n",
       "    <tr>\n",
       "      <th>11</th>\n",
       "      <td>동명동</td>\n",
       "      <td>단독</td>\n",
       "      <td>1956</td>\n",
       "      <td>일반목구조</td>\n",
       "      <td>193574.9859</td>\n",
       "      <td>183428.8021</td>\n",
       "      <td>2등급</td>\n",
       "    </tr>\n",
       "  </tbody>\n",
       "</table>\n",
       "</div>"
      ],
      "text/plain": [
       "     읍면동명 주택유형  건축년도 건축물대장주구조           위도           경도 등급판정결과\n",
       "2     대인동   단독  1965    일반목구조  192436.9433  183844.8592    2등급\n",
       "3   금남로5가   단독  1981     벽돌구조  191854.7955  183687.0436    1등급\n",
       "4      궁동   단독  1968     벽돌구조  192572.6725  183428.8097    2등급\n",
       "5      궁동   단독  1984     벽돌구조  192502.8990  183391.0862    1등급\n",
       "6      장동   단독  1951    일반목구조  192857.2541  183515.7902    2등급\n",
       "7      장동   단독  1959    일반목구조  192805.1265  183514.0367    2등급\n",
       "8      장동   단독  1965    일반목구조  192875.6587  183440.3522    1등급\n",
       "9      장동   단독  1993     벽돌구조  192886.6518  183164.2227    2등급\n",
       "10     장동   단독  1979     벽돌구조  192877.8488  183171.7282    2등급\n",
       "11    동명동   단독  1956    일반목구조  193574.9859  183428.8021    2등급"
      ]
     },
     "execution_count": 17,
     "metadata": {},
     "output_type": "execute_result"
    }
   ],
   "source": [
    "df2.head(10)"
   ]
  },
  {
   "cell_type": "code",
   "execution_count": 10,
   "id": "e721aca6-f33b-4458-a774-d968ebde88a6",
   "metadata": {
    "scrolled": true
   },
   "outputs": [
    {
     "data": {
      "text/html": [
       "<div>\n",
       "<style scoped>\n",
       "    .dataframe tbody tr th:only-of-type {\n",
       "        vertical-align: middle;\n",
       "    }\n",
       "\n",
       "    .dataframe tbody tr th {\n",
       "        vertical-align: top;\n",
       "    }\n",
       "\n",
       "    .dataframe thead th {\n",
       "        text-align: right;\n",
       "    }\n",
       "</style>\n",
       "<table border=\"1\" class=\"dataframe\">\n",
       "  <thead>\n",
       "    <tr style=\"text-align: right;\">\n",
       "      <th></th>\n",
       "      <th>건축년도</th>\n",
       "      <th>연면적</th>\n",
       "      <th>위도</th>\n",
       "      <th>경도</th>\n",
       "    </tr>\n",
       "  </thead>\n",
       "  <tbody>\n",
       "    <tr>\n",
       "      <th>count</th>\n",
       "      <td>629.000000</td>\n",
       "      <td>629.000000</td>\n",
       "      <td>629.000000</td>\n",
       "      <td>629.000000</td>\n",
       "    </tr>\n",
       "    <tr>\n",
       "      <th>mean</th>\n",
       "      <td>1971.292528</td>\n",
       "      <td>72.678149</td>\n",
       "      <td>193254.938814</td>\n",
       "      <td>183399.827460</td>\n",
       "    </tr>\n",
       "    <tr>\n",
       "      <th>std</th>\n",
       "      <td>11.193874</td>\n",
       "      <td>43.942710</td>\n",
       "      <td>657.188967</td>\n",
       "      <td>1118.976681</td>\n",
       "    </tr>\n",
       "    <tr>\n",
       "      <th>min</th>\n",
       "      <td>1920.000000</td>\n",
       "      <td>0.000000</td>\n",
       "      <td>191854.795500</td>\n",
       "      <td>179946.320200</td>\n",
       "    </tr>\n",
       "    <tr>\n",
       "      <th>25%</th>\n",
       "      <td>1964.000000</td>\n",
       "      <td>47.590000</td>\n",
       "      <td>192600.529900</td>\n",
       "      <td>183033.758200</td>\n",
       "    </tr>\n",
       "    <tr>\n",
       "      <th>50%</th>\n",
       "      <td>1971.000000</td>\n",
       "      <td>62.890000</td>\n",
       "      <td>193293.109100</td>\n",
       "      <td>183793.835700</td>\n",
       "    </tr>\n",
       "    <tr>\n",
       "      <th>75%</th>\n",
       "      <td>1976.000000</td>\n",
       "      <td>84.950000</td>\n",
       "      <td>193767.150000</td>\n",
       "      <td>184144.174200</td>\n",
       "    </tr>\n",
       "    <tr>\n",
       "      <th>max</th>\n",
       "      <td>2011.000000</td>\n",
       "      <td>502.880000</td>\n",
       "      <td>195667.894400</td>\n",
       "      <td>185082.863700</td>\n",
       "    </tr>\n",
       "  </tbody>\n",
       "</table>\n",
       "</div>"
      ],
      "text/plain": [
       "              건축년도         연면적             위도             경도\n",
       "count   629.000000  629.000000     629.000000     629.000000\n",
       "mean   1971.292528   72.678149  193254.938814  183399.827460\n",
       "std      11.193874   43.942710     657.188967    1118.976681\n",
       "min    1920.000000    0.000000  191854.795500  179946.320200\n",
       "25%    1964.000000   47.590000  192600.529900  183033.758200\n",
       "50%    1971.000000   62.890000  193293.109100  183793.835700\n",
       "75%    1976.000000   84.950000  193767.150000  184144.174200\n",
       "max    2011.000000  502.880000  195667.894400  185082.863700"
      ]
     },
     "execution_count": 10,
     "metadata": {},
     "output_type": "execute_result"
    }
   ],
   "source": [
    "df.describe()"
   ]
  },
  {
   "cell_type": "code",
   "execution_count": 21,
   "id": "c396b96f-29a4-4833-bec4-151994210069",
   "metadata": {
    "scrolled": true
   },
   "outputs": [
    {
     "data": {
      "text/plain": [
       "건축물대장주구조\n",
       "벽돌구조        330\n",
       "일반목구조       246\n",
       "블록구조         35\n",
       "목구조           8\n",
       "철근콘크리트구조      6\n",
       "경량철골구조        3\n",
       "시멘트블럭조        1\n",
       "Name: count, dtype: int64"
      ]
     },
     "execution_count": 21,
     "metadata": {},
     "output_type": "execute_result"
    }
   ],
   "source": [
    "df['건축물대장주구조'].value_counts()"
   ]
  },
  {
   "cell_type": "code",
   "execution_count": 25,
   "id": "539bea3a-6a27-4306-b5e3-674291a8ef23",
   "metadata": {
    "scrolled": true
   },
   "outputs": [
    {
     "data": {
      "text/plain": [
       "읍면동명\n",
       "계림동      158\n",
       "산수동      148\n",
       "지산동       81\n",
       "동명동       74\n",
       "소태동       61\n",
       "학동        36\n",
       "금동        30\n",
       "서석동       10\n",
       "남동         6\n",
       "용산동        5\n",
       "운림동        5\n",
       "장동         5\n",
       "불로동        5\n",
       "궁동         2\n",
       "대인동        1\n",
       "금남로5가      1\n",
       "호남동        1\n",
       "Name: count, dtype: int64"
      ]
     },
     "execution_count": 25,
     "metadata": {},
     "output_type": "execute_result"
    }
   ],
   "source": [
    "df['읍면동명'].value_counts()"
   ]
  },
  {
   "cell_type": "code",
   "execution_count": 24,
   "id": "5f15394e-9534-46d0-8c8e-a9d30f5e6fcb",
   "metadata": {
    "scrolled": true
   },
   "outputs": [
    {
     "data": {
      "text/plain": [
       "건축년도\n",
       "1964    47\n",
       "1971    39\n",
       "1974    39\n",
       "1973    34\n",
       "1972    34\n",
       "        ..\n",
       "1920     1\n",
       "1921     1\n",
       "1998     1\n",
       "1945     1\n",
       "1996     1\n",
       "Name: count, Length: 62, dtype: int64"
      ]
     },
     "execution_count": 24,
     "metadata": {},
     "output_type": "execute_result"
    }
   ],
   "source": [
    "df['건축년도'].value_counts()"
   ]
  },
  {
   "cell_type": "code",
   "execution_count": 34,
   "id": "cb6215d5-e9b4-4d0c-8964-2baafb734a42",
   "metadata": {
    "scrolled": true
   },
   "outputs": [
    {
     "name": "stdout",
     "output_type": "stream",
     "text": [
      "<class 'pandas.core.frame.DataFrame'>\n",
      "Index: 13 entries, 33 to 624\n",
      "Data columns (total 11 columns):\n",
      " #   Column    Non-Null Count  Dtype  \n",
      "---  ------    --------------  -----  \n",
      " 0   시도명       13 non-null     object \n",
      " 1   시군구명      13 non-null     object \n",
      " 2   읍면동명      13 non-null     object \n",
      " 3   주택유형      13 non-null     object \n",
      " 4   건축년도      13 non-null     int64  \n",
      " 5   건축물대장주구조  13 non-null     object \n",
      " 6   연면적       13 non-null     float64\n",
      " 7   위도        13 non-null     float64\n",
      " 8   경도        13 non-null     float64\n",
      " 9   등급판정결과    13 non-null     object \n",
      " 10  데이터기준일자   13 non-null     object \n",
      "dtypes: float64(3), int64(1), object(7)\n",
      "memory usage: 1.2+ KB\n"
     ]
    }
   ],
   "source": [
    "df[df['건축년도'] > 2000].info()"
   ]
  },
  {
   "cell_type": "code",
   "execution_count": 35,
   "id": "3d453a91-408a-42a3-8672-3751c91632a5",
   "metadata": {
    "scrolled": true
   },
   "outputs": [
    {
     "name": "stdout",
     "output_type": "stream",
     "text": [
      "<class 'pandas.core.frame.DataFrame'>\n",
      "Index: 97 entries, 3 to 647\n",
      "Data columns (total 11 columns):\n",
      " #   Column    Non-Null Count  Dtype  \n",
      "---  ------    --------------  -----  \n",
      " 0   시도명       97 non-null     object \n",
      " 1   시군구명      97 non-null     object \n",
      " 2   읍면동명      97 non-null     object \n",
      " 3   주택유형      97 non-null     object \n",
      " 4   건축년도      97 non-null     int64  \n",
      " 5   건축물대장주구조  97 non-null     object \n",
      " 6   연면적       97 non-null     float64\n",
      " 7   위도        97 non-null     float64\n",
      " 8   경도        97 non-null     float64\n",
      " 9   등급판정결과    97 non-null     object \n",
      " 10  데이터기준일자   97 non-null     object \n",
      "dtypes: float64(3), int64(1), object(7)\n",
      "memory usage: 9.1+ KB\n"
     ]
    }
   ],
   "source": [
    "df[df['건축년도'] > 1980].info()"
   ]
  },
  {
   "cell_type": "code",
   "execution_count": 23,
   "id": "6d08f4c6-7486-40ce-9cce-30de0a02a2da",
   "metadata": {},
   "outputs": [
    {
     "data": {
      "text/plain": [
       "주택유형\n",
       "단독     621\n",
       "그외       5\n",
       "다가구      3\n",
       "Name: count, dtype: int64"
      ]
     },
     "execution_count": 23,
     "metadata": {},
     "output_type": "execute_result"
    }
   ],
   "source": [
    "df['주택유형'].value_counts()"
   ]
  },
  {
   "cell_type": "code",
   "execution_count": 22,
   "id": "464c2c83-c301-4ea9-aa78-72f23351a249",
   "metadata": {},
   "outputs": [
    {
     "data": {
      "text/plain": [
       "등급판정결과\n",
       "2등급    375\n",
       "1등급    209\n",
       "3등급     45\n",
       "Name: count, dtype: int64"
      ]
     },
     "execution_count": 22,
     "metadata": {},
     "output_type": "execute_result"
    }
   ],
   "source": [
    "df['등급판정결과'].value_counts()"
   ]
  },
  {
   "cell_type": "code",
   "execution_count": 47,
   "id": "7d315752-09d0-481d-b679-78ff05553d91",
   "metadata": {},
   "outputs": [
    {
     "ename": "KeyError",
     "evalue": "'건축연도'",
     "output_type": "error",
     "traceback": [
      "\u001b[1;31m---------------------------------------------------------------------------\u001b[0m",
      "\u001b[1;31mKeyError\u001b[0m                                  Traceback (most recent call last)",
      "File \u001b[1;32m~\\anaconda3\\Lib\\site-packages\\pandas\\core\\indexes\\base.py:3805\u001b[0m, in \u001b[0;36mIndex.get_loc\u001b[1;34m(self, key)\u001b[0m\n\u001b[0;32m   3804\u001b[0m \u001b[38;5;28;01mtry\u001b[39;00m:\n\u001b[1;32m-> 3805\u001b[0m     \u001b[38;5;28;01mreturn\u001b[39;00m \u001b[38;5;28mself\u001b[39m\u001b[38;5;241m.\u001b[39m_engine\u001b[38;5;241m.\u001b[39mget_loc(casted_key)\n\u001b[0;32m   3806\u001b[0m \u001b[38;5;28;01mexcept\u001b[39;00m \u001b[38;5;167;01mKeyError\u001b[39;00m \u001b[38;5;28;01mas\u001b[39;00m err:\n",
      "File \u001b[1;32mindex.pyx:167\u001b[0m, in \u001b[0;36mpandas._libs.index.IndexEngine.get_loc\u001b[1;34m()\u001b[0m\n",
      "File \u001b[1;32mindex.pyx:196\u001b[0m, in \u001b[0;36mpandas._libs.index.IndexEngine.get_loc\u001b[1;34m()\u001b[0m\n",
      "File \u001b[1;32mpandas\\\\_libs\\\\hashtable_class_helper.pxi:7081\u001b[0m, in \u001b[0;36mpandas._libs.hashtable.PyObjectHashTable.get_item\u001b[1;34m()\u001b[0m\n",
      "File \u001b[1;32mpandas\\\\_libs\\\\hashtable_class_helper.pxi:7089\u001b[0m, in \u001b[0;36mpandas._libs.hashtable.PyObjectHashTable.get_item\u001b[1;34m()\u001b[0m\n",
      "\u001b[1;31mKeyError\u001b[0m: '건축연도'",
      "\nThe above exception was the direct cause of the following exception:\n",
      "\u001b[1;31mKeyError\u001b[0m                                  Traceback (most recent call last)",
      "Cell \u001b[1;32mIn[47], line 13\u001b[0m\n\u001b[0;32m      9\u001b[0m         \u001b[38;5;28;01mreturn\u001b[39;00m \u001b[38;5;124m\"\u001b[39m\u001b[38;5;124md\u001b[39m\u001b[38;5;124m\"\u001b[39m \n\u001b[0;32m     10\u001b[0m     \u001b[38;5;28;01melse\u001b[39;00m : \u001b[38;5;28;01mreturn\u001b[39;00m \u001b[38;5;124m\"\u001b[39m\u001b[38;5;124me\u001b[39m\u001b[38;5;124m\"\u001b[39m\n\u001b[1;32m---> 13\u001b[0m df[\u001b[38;5;124m\"\u001b[39m\u001b[38;5;124m연\u001b[39m\u001b[38;5;124m\"\u001b[39m] \u001b[38;5;241m=\u001b[39m df[\u001b[38;5;124m\"\u001b[39m\u001b[38;5;124m건축연도\u001b[39m\u001b[38;5;124m\"\u001b[39m]\u001b[38;5;241m.\u001b[39mapply(group_year)\n",
      "File \u001b[1;32m~\\anaconda3\\Lib\\site-packages\\pandas\\core\\frame.py:4102\u001b[0m, in \u001b[0;36mDataFrame.__getitem__\u001b[1;34m(self, key)\u001b[0m\n\u001b[0;32m   4100\u001b[0m \u001b[38;5;28;01mif\u001b[39;00m \u001b[38;5;28mself\u001b[39m\u001b[38;5;241m.\u001b[39mcolumns\u001b[38;5;241m.\u001b[39mnlevels \u001b[38;5;241m>\u001b[39m \u001b[38;5;241m1\u001b[39m:\n\u001b[0;32m   4101\u001b[0m     \u001b[38;5;28;01mreturn\u001b[39;00m \u001b[38;5;28mself\u001b[39m\u001b[38;5;241m.\u001b[39m_getitem_multilevel(key)\n\u001b[1;32m-> 4102\u001b[0m indexer \u001b[38;5;241m=\u001b[39m \u001b[38;5;28mself\u001b[39m\u001b[38;5;241m.\u001b[39mcolumns\u001b[38;5;241m.\u001b[39mget_loc(key)\n\u001b[0;32m   4103\u001b[0m \u001b[38;5;28;01mif\u001b[39;00m is_integer(indexer):\n\u001b[0;32m   4104\u001b[0m     indexer \u001b[38;5;241m=\u001b[39m [indexer]\n",
      "File \u001b[1;32m~\\anaconda3\\Lib\\site-packages\\pandas\\core\\indexes\\base.py:3812\u001b[0m, in \u001b[0;36mIndex.get_loc\u001b[1;34m(self, key)\u001b[0m\n\u001b[0;32m   3807\u001b[0m     \u001b[38;5;28;01mif\u001b[39;00m \u001b[38;5;28misinstance\u001b[39m(casted_key, \u001b[38;5;28mslice\u001b[39m) \u001b[38;5;129;01mor\u001b[39;00m (\n\u001b[0;32m   3808\u001b[0m         \u001b[38;5;28misinstance\u001b[39m(casted_key, abc\u001b[38;5;241m.\u001b[39mIterable)\n\u001b[0;32m   3809\u001b[0m         \u001b[38;5;129;01mand\u001b[39;00m \u001b[38;5;28many\u001b[39m(\u001b[38;5;28misinstance\u001b[39m(x, \u001b[38;5;28mslice\u001b[39m) \u001b[38;5;28;01mfor\u001b[39;00m x \u001b[38;5;129;01min\u001b[39;00m casted_key)\n\u001b[0;32m   3810\u001b[0m     ):\n\u001b[0;32m   3811\u001b[0m         \u001b[38;5;28;01mraise\u001b[39;00m InvalidIndexError(key)\n\u001b[1;32m-> 3812\u001b[0m     \u001b[38;5;28;01mraise\u001b[39;00m \u001b[38;5;167;01mKeyError\u001b[39;00m(key) \u001b[38;5;28;01mfrom\u001b[39;00m\u001b[38;5;250m \u001b[39m\u001b[38;5;21;01merr\u001b[39;00m\n\u001b[0;32m   3813\u001b[0m \u001b[38;5;28;01mexcept\u001b[39;00m \u001b[38;5;167;01mTypeError\u001b[39;00m:\n\u001b[0;32m   3814\u001b[0m     \u001b[38;5;66;03m# If we have a listlike key, _check_indexing_error will raise\u001b[39;00m\n\u001b[0;32m   3815\u001b[0m     \u001b[38;5;66;03m#  InvalidIndexError. Otherwise we fall through and re-raise\u001b[39;00m\n\u001b[0;32m   3816\u001b[0m     \u001b[38;5;66;03m#  the TypeError.\u001b[39;00m\n\u001b[0;32m   3817\u001b[0m     \u001b[38;5;28mself\u001b[39m\u001b[38;5;241m.\u001b[39m_check_indexing_error(key)\n",
      "\u001b[1;31mKeyError\u001b[0m: '건축연도'"
     ]
    }
   ],
   "source": [
    "def group_year(year):\n",
    "    if year > 1980 :\n",
    "        return \"a\" \n",
    "    elif year > 1970 :\n",
    "        return \"b\" \n",
    "    elif year > 1960 :\n",
    "        return \"c\"\n",
    "    elif year > 1950 :\n",
    "        return \"d\" \n",
    "    else : return \"e\"\n",
    "\n",
    "\n",
    "df[\"연\"] = df[\"건축연도\"].apply(group_year)"
   ]
  },
  {
   "cell_type": "code",
   "execution_count": 46,
   "id": "d1452af0-f6f6-4ae7-98b3-f0a0cea6f823",
   "metadata": {},
   "outputs": [
    {
     "data": {
      "text/plain": [
       "연\n",
       "b    248\n",
       "c    212\n",
       "a     97\n",
       "d     65\n",
       "e      7\n",
       "Name: count, dtype: int64"
      ]
     },
     "execution_count": 46,
     "metadata": {},
     "output_type": "execute_result"
    }
   ],
   "source": [
    "df['연'].value_counts()"
   ]
  },
  {
   "cell_type": "markdown",
   "id": "f0298a0b-f871-42b9-8b44-74b56c296f95",
   "metadata": {
    "hidden": true
   },
   "source": [
    "#### 3.1 데이터 정제후 데이터딕셔너리 재확인\n",
    "#### 3.2 기초통계 정보 확인 (최대값, 최소값, 평균값, 표준편차, 최빈값, 유일값 등)\n",
    "#### 3.3 시각화를 통한 데이터이해 심화 "
   ]
  },
  {
   "cell_type": "markdown",
   "id": "87e87a59",
   "metadata": {
    "hidden": true
   },
   "source": [
    "* 3.3.1 단일 열: 데이터의 성격에 따른 다양한 차트 적용  \n",
    "* 3.3.2 복수 열: 두개의 열간 연관관계 분석(Pair Plot 또는 Seaborn의 관련 지원 차트등)"
   ]
  },
  {
   "cell_type": "markdown",
   "id": "1016da18-a38d-4677-942d-ff8e13f2dfad",
   "metadata": {},
   "source": [
    "#### 3.4 데이터 분석 결과도출"
   ]
  },
  {
   "cell_type": "markdown",
   "id": "d98ee251",
   "metadata": {},
   "source": [
    "# 데이터분석 적용 실습 템플릿"
   ]
  },
  {
   "cell_type": "markdown",
   "id": "0521bf67",
   "metadata": {},
   "source": [
    "## 데이터 수집"
   ]
  },
  {
   "cell_type": "code",
   "execution_count": 1,
   "id": "46c5eafe",
   "metadata": {},
   "outputs": [],
   "source": [
    "# 데이터 소스를 확보하세요\n"
   ]
  },
  {
   "cell_type": "markdown",
   "id": "c3b597f4",
   "metadata": {},
   "source": [
    "## 1. 초기데이터 분석"
   ]
  },
  {
   "cell_type": "markdown",
   "id": "0c3c91be",
   "metadata": {},
   "source": [
    "### 1-1. 데이터스키마 확인"
   ]
  },
  {
   "cell_type": "markdown",
   "id": "16b49047-50c3-4ff3-9417-edb92d59b2d4",
   "metadata": {},
   "source": [
    "#### 각 열의 의미, 데이터의 의미해석관련 스펙 또는 메뉴얼을 확인 가능시 진행 하세요\n",
    "* A열: A열의 의미를 기술\n",
    "* B열: B열의 의미를 기술  \n",
    "..."
   ]
  },
  {
   "cell_type": "markdown",
   "id": "913979f3",
   "metadata": {},
   "source": [
    "### 1-2. 데이터 기초정보 확인"
   ]
  },
  {
   "cell_type": "markdown",
   "id": "1e03acff-a002-4e37-be88-5d36d4706630",
   "metadata": {},
   "source": [
    "* 사이즈, 데이터형, 기초통계항목등을 확인하세요  "
   ]
  },
  {
   "cell_type": "code",
   "execution_count": null,
   "id": "4213881a-92fb-4064-af2a-25bc73e4299e",
   "metadata": {},
   "outputs": [],
   "source": [
    "#df.shape\n",
    "#df.info()"
   ]
  },
  {
   "cell_type": "markdown",
   "id": "8d2984b9-6715-49a2-8583-d9583b38b857",
   "metadata": {},
   "source": [
    "* 기초통계항목"
   ]
  },
  {
   "cell_type": "code",
   "execution_count": null,
   "id": "7f497c28-3191-4262-aae0-41402e8eaeef",
   "metadata": {},
   "outputs": [],
   "source": [
    "# df.desribe()"
   ]
  },
  {
   "cell_type": "markdown",
   "id": "c2e13829",
   "metadata": {},
   "source": [
    "## 2. 데이터 정제"
   ]
  },
  {
   "cell_type": "markdown",
   "id": "7eedb11e",
   "metadata": {},
   "source": [
    "### 2-1. 간단한 데이터 전처리"
   ]
  },
  {
   "cell_type": "code",
   "execution_count": 5,
   "id": "5fd51a76",
   "metadata": {},
   "outputs": [],
   "source": [
    "# 원본데이터로에서 읽기 가능한 형태로 데이터처리를 하세요. (열이름 변경, 형변환 등)"
   ]
  },
  {
   "cell_type": "markdown",
   "id": "cfa0f4f4",
   "metadata": {},
   "source": [
    "### 2-2. 데이터 클리닝"
   ]
  },
  {
   "cell_type": "code",
   "execution_count": 6,
   "id": "81050694",
   "metadata": {},
   "outputs": [],
   "source": [
    "# 결측치, 중복값, 이상치 처리등의 작업을 진행하세요"
   ]
  },
  {
   "cell_type": "markdown",
   "id": "94b01c03-879b-4b93-a375-5a88a7f3672a",
   "metadata": {},
   "source": [
    "* 결측치"
   ]
  },
  {
   "cell_type": "markdown",
   "id": "497a7431-81b3-42d2-84b5-0afde8e6c9c4",
   "metadata": {},
   "source": [
    "    - 결측치 열 확인"
   ]
  },
  {
   "cell_type": "code",
   "execution_count": null,
   "id": "b0a70dec-f81b-46d8-b58c-73f81ce17493",
   "metadata": {},
   "outputs": [],
   "source": [
    "# missing_values = df.isnull().any()  \n",
    "# column_missing_values = missing_values[ missing_values == True ]\n",
    "# column_missing_values"
   ]
  },
  {
   "cell_type": "raw",
   "id": "ab96e2e8-2ecc-462b-8055-915bff513d34",
   "metadata": {},
   "source": [
    "   - 결측값이 있는 모든 행 확인"
   ]
  },
  {
   "cell_type": "code",
   "execution_count": null,
   "id": "53aa6924-3c4f-4aad-91cf-2d09b459d59b",
   "metadata": {},
   "outputs": [],
   "source": [
    "# df.isnull().any(axis=1)"
   ]
  },
  {
   "cell_type": "markdown",
   "id": "b9cbf7a2-7aa7-4d87-86d8-b31476a77a01",
   "metadata": {},
   "source": [
    "* 결측치 보정"
   ]
  },
  {
   "cell_type": "raw",
   "id": "adbf1968-8d29-4baa-949e-d6394e19b81b",
   "metadata": {},
   "source": [
    "   - 열에 대하여 단일 값 보정     "
   ]
  },
  {
   "cell_type": "code",
   "execution_count": null,
   "id": "0e6c6935-a8a6-4df0-bed5-8da8fd160ec2",
   "metadata": {},
   "outputs": [],
   "source": [
    "# df['나이'] = df['나이'].fillna(0)"
   ]
  },
  {
   "cell_type": "raw",
   "id": "367abb36-a09d-4f12-be6d-cd0bc685f452",
   "metadata": {},
   "source": [
    "   - 데이터 프레임 전체에 단일 값 보정  "
   ]
  },
  {
   "cell_type": "code",
   "execution_count": 1,
   "id": "437088df-6ab9-474d-9b3f-503b9f8e2476",
   "metadata": {},
   "outputs": [],
   "source": [
    "# df = df.fillna(0)"
   ]
  },
  {
   "cell_type": "markdown",
   "id": "6cb87513-ac6b-49cd-98bd-6ff427c5d759",
   "metadata": {},
   "source": [
    "* 중복값 삭제 (필요시)"
   ]
  },
  {
   "cell_type": "raw",
   "id": "4e12f2c7-add7-47b8-a986-376fc1f2634e",
   "metadata": {},
   "source": [
    "  - 모든 중복 행데이터 확인"
   ]
  },
  {
   "cell_type": "code",
   "execution_count": null,
   "id": "eb5f565f-8fc8-434f-bb66-a9d1c75a7605",
   "metadata": {},
   "outputs": [],
   "source": [
    "# df[df.duplicated(keep=False)]"
   ]
  },
  {
   "cell_type": "raw",
   "id": "e847b33e-f13a-47bd-af55-111bf56442b2",
   "metadata": {},
   "source": [
    "  - 모든 중복 행데이터 삭제"
   ]
  },
  {
   "cell_type": "code",
   "execution_count": null,
   "id": "a352aa67-0634-483e-a41b-ba06c6cf51ab",
   "metadata": {},
   "outputs": [],
   "source": [
    "# df.drop_duplicates(inplace=True)"
   ]
  },
  {
   "cell_type": "markdown",
   "id": "9dac0879",
   "metadata": {},
   "source": [
    "## 3. 추가데이터 분석"
   ]
  },
  {
   "cell_type": "markdown",
   "id": "253f0cc0",
   "metadata": {},
   "source": [
    "### 3.1. 데이터 정제후 데이터스키마 재확인"
   ]
  },
  {
   "cell_type": "markdown",
   "id": "1812339b-9396-4195-833b-4be5a041d05d",
   "metadata": {},
   "source": [
    "* 1-2 작업을 다시 해보세요."
   ]
  },
  {
   "cell_type": "markdown",
   "id": "8a244e0a",
   "metadata": {},
   "source": [
    "### 3.2 데이터 기초정보 정보 확인"
   ]
  },
  {
   "cell_type": "markdown",
   "id": "3361d7b0-6b2c-493e-a6f8-20bcb153b912",
   "metadata": {},
   "source": [
    "* 최대값, 최소값, 평균값, 표준편차, 최빈값, 유일값, 결측치, 이상치 등의 정보를 재확인해 보세요"
   ]
  },
  {
   "cell_type": "markdown",
   "id": "e73d61a5",
   "metadata": {},
   "source": [
    "### 3.3 시각화를 통한 데이터이해 심화"
   ]
  },
  {
   "cell_type": "markdown",
   "id": "5de7dac1-31b5-4138-a9a6-33fbbde9caac",
   "metadata": {},
   "source": [
    "* 데이터의 성격에 따라 이해도를 올리기 위해 시각화가 필요한 데이터차트를 만들어 보세요.  \n",
    "    * (Seaborn 추천: 페어플롯, 막대차트, 파이차트, 라인차트, 히스토그램등..)\n",
    "    * 차트 분석시 hue인자를 활용해서 범주형 열에 대한 추가 분석을 해보세요.\n",
    "* 시각화한 차트에 대한 분석"
   ]
  },
  {
   "cell_type": "markdown",
   "id": "f4fa4f46-073f-4c62-b4ae-54ade39c5251",
   "metadata": {},
   "source": [
    "### 3.4 최종 데이터 분석 결과도출"
   ]
  },
  {
   "cell_type": "markdown",
   "id": "477f095f-e884-4326-af1f-ebea049c3546",
   "metadata": {},
   "source": [
    "* 데이터 분석을 통해 얻은 새로운 지식, 인사이트를 정리하세요.\n",
    "* 새로운 지식 및 인사이트 별 비지니스 전략을 도출할 수 있으면 정리해 보세요"
   ]
  }
 ],
 "metadata": {
  "kernelspec": {
   "display_name": "Python [conda env:base] *",
   "language": "python",
   "name": "conda-base-py"
  },
  "language_info": {
   "codemirror_mode": {
    "name": "ipython",
    "version": 3
   },
   "file_extension": ".py",
   "mimetype": "text/x-python",
   "name": "python",
   "nbconvert_exporter": "python",
   "pygments_lexer": "ipython3",
   "version": "3.13.5"
  }
 },
 "nbformat": 4,
 "nbformat_minor": 5
}
