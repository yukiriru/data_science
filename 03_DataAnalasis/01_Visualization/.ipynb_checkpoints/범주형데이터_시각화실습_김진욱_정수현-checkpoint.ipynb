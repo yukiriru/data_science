{
 "cells": [
  {
   "cell_type": "code",
   "execution_count": 43,
   "id": "00e9893e-fad7-42fc-9da7-04048c7a39dd",
   "metadata": {},
   "outputs": [],
   "source": [
    "import pandas as pd\n",
    "import numpy as np\n",
    "import seaborn as sns\n",
    "import matplotlib.pyplot as plt\n",
    "%matplotlib inline\n",
    "from matplotlib import font_manager,rc\n",
    "# 한글 폰트\n",
    "font_location = r\"C:\\Windows\\Fonts\\malgun.ttf\"\n",
    "font_name = font_manager.FontProperties(fname=font_location).get_name()\n",
    "rc('font',family=font_name)"
   ]
  },
  {
   "cell_type": "markdown",
   "id": "2145e5ae-8c85-45ac-904a-3b08c2a1b9f0",
   "metadata": {},
   "source": [
    "# 데이터 선정"
   ]
  },
  {
   "cell_type": "markdown",
   "id": "01183879-fb85-4855-80de-1ba4f0f12fc4",
   "metadata": {},
   "source": [
    "* 공공데이터 포털에서 csv 파일 검색"
   ]
  },
  {
   "cell_type": "raw",
   "id": "d1d122ce-250e-49cd-9348-9a33f8afd6c5",
   "metadata": {},
   "source": [
    "수치형 데이터가 아닌 범주형 문자열 데이터"
   ]
  },
  {
   "cell_type": "markdown",
   "id": "ae917d68-e092-47d4-992b-b47029e5f9b3",
   "metadata": {},
   "source": [
    "# 데이터 읽기"
   ]
  },
  {
   "cell_type": "code",
   "execution_count": 31,
   "id": "443334c9-f862-4e30-9512-a96c3fd6da5e",
   "metadata": {},
   "outputs": [
    {
     "data": {
      "text/html": [
       "<div>\n",
       "<style scoped>\n",
       "    .dataframe tbody tr th:only-of-type {\n",
       "        vertical-align: middle;\n",
       "    }\n",
       "\n",
       "    .dataframe tbody tr th {\n",
       "        vertical-align: top;\n",
       "    }\n",
       "\n",
       "    .dataframe thead th {\n",
       "        text-align: right;\n",
       "    }\n",
       "</style>\n",
       "<table border=\"1\" class=\"dataframe\">\n",
       "  <thead>\n",
       "    <tr style=\"text-align: right;\">\n",
       "      <th></th>\n",
       "      <th>영상(질환)명</th>\n",
       "      <th>구축연도</th>\n",
       "      <th>바디파트명</th>\n",
       "      <th>모달리티</th>\n",
       "      <th>영상건수</th>\n",
       "      <th>레이블링유무</th>\n",
       "      <th>레이블링확장자</th>\n",
       "    </tr>\n",
       "  </thead>\n",
       "  <tbody>\n",
       "    <tr>\n",
       "      <th>0</th>\n",
       "      <td>뇌동맥류(학습데이터)</td>\n",
       "      <td>2017</td>\n",
       "      <td>머리</td>\n",
       "      <td>MRI</td>\n",
       "      <td>760</td>\n",
       "      <td>유</td>\n",
       "      <td>nil.gz</td>\n",
       "    </tr>\n",
       "    <tr>\n",
       "      <th>1</th>\n",
       "      <td>뇌동맥류(원본데이터)</td>\n",
       "      <td>2017</td>\n",
       "      <td>머리</td>\n",
       "      <td>MRI</td>\n",
       "      <td>240</td>\n",
       "      <td>무</td>\n",
       "      <td>-</td>\n",
       "    </tr>\n",
       "    <tr>\n",
       "      <th>2</th>\n",
       "      <td>폐암(학습데이터)</td>\n",
       "      <td>2018</td>\n",
       "      <td>가슴</td>\n",
       "      <td>CT</td>\n",
       "      <td>300</td>\n",
       "      <td>유</td>\n",
       "      <td>nil.gz</td>\n",
       "    </tr>\n",
       "    <tr>\n",
       "      <th>3</th>\n",
       "      <td>폐암(원본데이터)</td>\n",
       "      <td>2018</td>\n",
       "      <td>가슴</td>\n",
       "      <td>CT</td>\n",
       "      <td>300</td>\n",
       "      <td>무</td>\n",
       "      <td>-</td>\n",
       "    </tr>\n",
       "    <tr>\n",
       "      <th>4</th>\n",
       "      <td>어깨관절증(학습데이터)</td>\n",
       "      <td>2021</td>\n",
       "      <td>어깨</td>\n",
       "      <td>MRI</td>\n",
       "      <td>100</td>\n",
       "      <td>유</td>\n",
       "      <td>nil.gz</td>\n",
       "    </tr>\n",
       "    <tr>\n",
       "      <th>5</th>\n",
       "      <td>어깨관절증(학습데이터)</td>\n",
       "      <td>2022</td>\n",
       "      <td>어깨</td>\n",
       "      <td>MRI</td>\n",
       "      <td>700</td>\n",
       "      <td>유</td>\n",
       "      <td>nil.gz</td>\n",
       "    </tr>\n",
       "    <tr>\n",
       "      <th>6</th>\n",
       "      <td>어깨관절증(학습데이터)</td>\n",
       "      <td>2023</td>\n",
       "      <td>어깨</td>\n",
       "      <td>MRI</td>\n",
       "      <td>200</td>\n",
       "      <td>유</td>\n",
       "      <td>nil.gz</td>\n",
       "    </tr>\n",
       "    <tr>\n",
       "      <th>7</th>\n",
       "      <td>어깨관절증(원본데이터)</td>\n",
       "      <td>2024</td>\n",
       "      <td>어깨</td>\n",
       "      <td>MRI</td>\n",
       "      <td>1500</td>\n",
       "      <td>무</td>\n",
       "      <td>-</td>\n",
       "    </tr>\n",
       "    <tr>\n",
       "      <th>8</th>\n",
       "      <td>척추측만(학습데이터)</td>\n",
       "      <td>2021</td>\n",
       "      <td>허리</td>\n",
       "      <td>X-ray</td>\n",
       "      <td>1000</td>\n",
       "      <td>유</td>\n",
       "      <td>nil.gz</td>\n",
       "    </tr>\n",
       "    <tr>\n",
       "      <th>9</th>\n",
       "      <td>척추측만(학습데이터)</td>\n",
       "      <td>2022</td>\n",
       "      <td>허리</td>\n",
       "      <td>X-ray</td>\n",
       "      <td>581</td>\n",
       "      <td>유</td>\n",
       "      <td>xml</td>\n",
       "    </tr>\n",
       "    <tr>\n",
       "      <th>10</th>\n",
       "      <td>척추측만(원본데이터)</td>\n",
       "      <td>2024</td>\n",
       "      <td>허리</td>\n",
       "      <td>X-ray</td>\n",
       "      <td>1500</td>\n",
       "      <td>무</td>\n",
       "      <td>-</td>\n",
       "    </tr>\n",
       "    <tr>\n",
       "      <th>11</th>\n",
       "      <td>척추(압박률)(학습데이터)</td>\n",
       "      <td>2021</td>\n",
       "      <td>허리</td>\n",
       "      <td>X-ray</td>\n",
       "      <td>1000</td>\n",
       "      <td>유</td>\n",
       "      <td>nil.gz</td>\n",
       "    </tr>\n",
       "    <tr>\n",
       "      <th>12</th>\n",
       "      <td>척추(압박률)(학습데이터)</td>\n",
       "      <td>2022</td>\n",
       "      <td>허리</td>\n",
       "      <td>X-ray</td>\n",
       "      <td>664</td>\n",
       "      <td>유</td>\n",
       "      <td>xml</td>\n",
       "    </tr>\n",
       "    <tr>\n",
       "      <th>13</th>\n",
       "      <td>척추(압박률)(원본데이터)</td>\n",
       "      <td>2024</td>\n",
       "      <td>허리</td>\n",
       "      <td>X-ray</td>\n",
       "      <td>4740</td>\n",
       "      <td>무</td>\n",
       "      <td>-</td>\n",
       "    </tr>\n",
       "    <tr>\n",
       "      <th>14</th>\n",
       "      <td>추간판탈출증(학습데이터)</td>\n",
       "      <td>2019</td>\n",
       "      <td>허리</td>\n",
       "      <td>MRI</td>\n",
       "      <td>1000</td>\n",
       "      <td>유</td>\n",
       "      <td>nil.gz</td>\n",
       "    </tr>\n",
       "    <tr>\n",
       "      <th>15</th>\n",
       "      <td>척추후만각(원본데이터)</td>\n",
       "      <td>2024</td>\n",
       "      <td>허리</td>\n",
       "      <td>X-ray</td>\n",
       "      <td>1500</td>\n",
       "      <td>무</td>\n",
       "      <td>-</td>\n",
       "    </tr>\n",
       "    <tr>\n",
       "      <th>16</th>\n",
       "      <td>요관결석(학습데이터)</td>\n",
       "      <td>2021</td>\n",
       "      <td>복부</td>\n",
       "      <td>CT</td>\n",
       "      <td>400</td>\n",
       "      <td>유</td>\n",
       "      <td>nil.gz</td>\n",
       "    </tr>\n",
       "    <tr>\n",
       "      <th>17</th>\n",
       "      <td>요관결석(학습데이터)</td>\n",
       "      <td>2022</td>\n",
       "      <td>복부</td>\n",
       "      <td>CT</td>\n",
       "      <td>500</td>\n",
       "      <td>유</td>\n",
       "      <td>nil.gz</td>\n",
       "    </tr>\n",
       "    <tr>\n",
       "      <th>18</th>\n",
       "      <td>요관결석(학습데이터)</td>\n",
       "      <td>2023</td>\n",
       "      <td>복부</td>\n",
       "      <td>CT</td>\n",
       "      <td>600</td>\n",
       "      <td>유</td>\n",
       "      <td>nil.gz</td>\n",
       "    </tr>\n",
       "    <tr>\n",
       "      <th>19</th>\n",
       "      <td>요관결석(원본데이터)</td>\n",
       "      <td>2024</td>\n",
       "      <td>복부</td>\n",
       "      <td>CT</td>\n",
       "      <td>2000</td>\n",
       "      <td>무</td>\n",
       "      <td>-</td>\n",
       "    </tr>\n",
       "    <tr>\n",
       "      <th>20</th>\n",
       "      <td>무릎슬관절염(학습데이터)</td>\n",
       "      <td>2020</td>\n",
       "      <td>무릎</td>\n",
       "      <td>X-ray</td>\n",
       "      <td>800</td>\n",
       "      <td>유</td>\n",
       "      <td>txt</td>\n",
       "    </tr>\n",
       "    <tr>\n",
       "      <th>21</th>\n",
       "      <td>무릎슬관절염(KL등급)(학습데이터)</td>\n",
       "      <td>2021</td>\n",
       "      <td>무릎</td>\n",
       "      <td>X-ray</td>\n",
       "      <td>100</td>\n",
       "      <td>유</td>\n",
       "      <td>xml</td>\n",
       "    </tr>\n",
       "    <tr>\n",
       "      <th>22</th>\n",
       "      <td>무릎슬관절염(KL등급)(학습데이터)</td>\n",
       "      <td>2022</td>\n",
       "      <td>무릎</td>\n",
       "      <td>X-ray</td>\n",
       "      <td>700</td>\n",
       "      <td>유</td>\n",
       "      <td>xml</td>\n",
       "    </tr>\n",
       "    <tr>\n",
       "      <th>23</th>\n",
       "      <td>무릎슬관절염(KL등급)(학습데이터)</td>\n",
       "      <td>2023</td>\n",
       "      <td>무릎</td>\n",
       "      <td>X-ray</td>\n",
       "      <td>2200</td>\n",
       "      <td>유</td>\n",
       "      <td>xml</td>\n",
       "    </tr>\n",
       "    <tr>\n",
       "      <th>24</th>\n",
       "      <td>무릎슬관절염(원본데이터)</td>\n",
       "      <td>2024</td>\n",
       "      <td>무릎</td>\n",
       "      <td>X-ray</td>\n",
       "      <td>3960</td>\n",
       "      <td>무</td>\n",
       "      <td>-</td>\n",
       "    </tr>\n",
       "  </tbody>\n",
       "</table>\n",
       "</div>"
      ],
      "text/plain": [
       "                영상(질환)명  구축연도 바디파트명   모달리티  영상건수 레이블링유무 레이블링확장자\n",
       "0           뇌동맥류(학습데이터)  2017    머리    MRI   760      유  nil.gz\n",
       "1           뇌동맥류(원본데이터)  2017    머리    MRI   240      무       -\n",
       "2             폐암(학습데이터)  2018    가슴     CT   300      유  nil.gz\n",
       "3             폐암(원본데이터)  2018    가슴     CT   300      무       -\n",
       "4          어깨관절증(학습데이터)  2021    어깨    MRI   100      유  nil.gz\n",
       "5          어깨관절증(학습데이터)  2022    어깨    MRI   700      유  nil.gz\n",
       "6          어깨관절증(학습데이터)  2023    어깨    MRI   200      유  nil.gz\n",
       "7          어깨관절증(원본데이터)  2024    어깨    MRI  1500      무       -\n",
       "8           척추측만(학습데이터)  2021    허리  X-ray  1000      유  nil.gz\n",
       "9           척추측만(학습데이터)  2022    허리  X-ray   581      유     xml\n",
       "10          척추측만(원본데이터)  2024    허리  X-ray  1500      무       -\n",
       "11       척추(압박률)(학습데이터)  2021    허리  X-ray  1000      유  nil.gz\n",
       "12       척추(압박률)(학습데이터)  2022    허리  X-ray   664      유     xml\n",
       "13       척추(압박률)(원본데이터)  2024    허리  X-ray  4740      무       -\n",
       "14        추간판탈출증(학습데이터)  2019    허리    MRI  1000      유  nil.gz\n",
       "15         척추후만각(원본데이터)  2024    허리  X-ray  1500      무       -\n",
       "16          요관결석(학습데이터)  2021    복부     CT   400      유  nil.gz\n",
       "17          요관결석(학습데이터)  2022    복부     CT   500      유  nil.gz\n",
       "18          요관결석(학습데이터)  2023    복부     CT   600      유  nil.gz\n",
       "19          요관결석(원본데이터)  2024    복부     CT  2000      무       -\n",
       "20        무릎슬관절염(학습데이터)  2020    무릎  X-ray   800      유     txt\n",
       "21  무릎슬관절염(KL등급)(학습데이터)  2021    무릎  X-ray   100      유     xml\n",
       "22  무릎슬관절염(KL등급)(학습데이터)  2022    무릎  X-ray   700      유     xml\n",
       "23  무릎슬관절염(KL등급)(학습데이터)  2023    무릎  X-ray  2200      유     xml\n",
       "24        무릎슬관절염(원본데이터)  2024    무릎  X-ray  3960      무       -"
      ]
     },
     "execution_count": 31,
     "metadata": {},
     "output_type": "execute_result"
    }
   ],
   "source": [
    "df = pd.read_csv(\"건강보험심사평가원_의료영상데이터 목록_20250609.csv\", encoding='cp949')\n",
    "df"
   ]
  },
  {
   "cell_type": "code",
   "execution_count": 5,
   "id": "74ef4127-5be2-4ebd-a1b7-0fbe65bf61e9",
   "metadata": {},
   "outputs": [
    {
     "data": {
      "text/plain": [
       "Index(['영상(질환)명', '구축연도', '바디파트명', '모달리티', '영상건수', '레이블링유무', '레이블링확장자'], dtype='object')"
      ]
     },
     "execution_count": 5,
     "metadata": {},
     "output_type": "execute_result"
    }
   ],
   "source": [
    "df.columns"
   ]
  },
  {
   "cell_type": "code",
   "execution_count": 12,
   "id": "a7dc7fa7-2fda-49e4-8238-6fff493b1192",
   "metadata": {},
   "outputs": [
    {
     "data": {
      "text/plain": [
       "array(['MRI', 'CT', 'X-ray'], dtype=object)"
      ]
     },
     "execution_count": 12,
     "metadata": {},
     "output_type": "execute_result"
    }
   ],
   "source": [
    "df['모달리티'].unique()"
   ]
  },
  {
   "cell_type": "code",
   "execution_count": 15,
   "id": "ff35b529-20de-415c-9f21-6e8e1eebde21",
   "metadata": {
    "scrolled": true
   },
   "outputs": [
    {
     "data": {
      "text/plain": [
       "모달리티\n",
       "X-ray    12\n",
       "MRI       7\n",
       "CT        6\n",
       "Name: count, dtype: int64"
      ]
     },
     "execution_count": 15,
     "metadata": {},
     "output_type": "execute_result"
    }
   ],
   "source": [
    "df['모달리티'].value_counts()"
   ]
  },
  {
   "cell_type": "code",
   "execution_count": null,
   "id": "cff5bb0e-4d7b-4b78-9153-1faf60e9d9b1",
   "metadata": {
    "jupyter": {
     "source_hidden": true
    }
   },
   "outputs": [],
   "source": [
    "len(df.비고.unique())"
   ]
  },
  {
   "cell_type": "markdown",
   "id": "a6783ceb-6b3a-4182-addb-66cb746520d5",
   "metadata": {},
   "source": [
    "* 모달리티열이 범주형 분석에 가장 적합하고 추가 분석이 가능함"
   ]
  },
  {
   "cell_type": "markdown",
   "id": "b62563fe-a6cb-4f34-98d0-7b8abf489281",
   "metadata": {},
   "source": [
    "# 데이터 기본 분석"
   ]
  },
  {
   "cell_type": "code",
   "execution_count": 16,
   "id": "d97b22e2-5281-40d7-8aeb-79ae37ad2b97",
   "metadata": {},
   "outputs": [
    {
     "name": "stdout",
     "output_type": "stream",
     "text": [
      "<class 'pandas.core.frame.DataFrame'>\n",
      "RangeIndex: 25 entries, 0 to 24\n",
      "Data columns (total 7 columns):\n",
      " #   Column   Non-Null Count  Dtype \n",
      "---  ------   --------------  ----- \n",
      " 0   영상(질환)명  25 non-null     object\n",
      " 1   구축연도     25 non-null     int64 \n",
      " 2   바디파트명    25 non-null     object\n",
      " 3   모달리티     25 non-null     object\n",
      " 4   영상건수     25 non-null     int64 \n",
      " 5   레이블링유무   25 non-null     object\n",
      " 6   레이블링확장자  25 non-null     object\n",
      "dtypes: int64(2), object(5)\n",
      "memory usage: 1.5+ KB\n"
     ]
    }
   ],
   "source": [
    "df.info()"
   ]
  },
  {
   "cell_type": "markdown",
   "id": "1f754515-54bf-44a5-ae77-f541530e2ba7",
   "metadata": {},
   "source": [
    "# 데이터 전처리"
   ]
  },
  {
   "cell_type": "markdown",
   "id": "6ab576e9-bf96-4478-b102-1bffbb4d35c1",
   "metadata": {},
   "source": [
    "* 결측치\n",
    "* 이상치\n",
    "* 중복데이터"
   ]
  },
  {
   "cell_type": "raw",
   "id": "d417459e-c4ab-46a1-a43a-37d936584261",
   "metadata": {},
   "source": [
    "특이 사항없음"
   ]
  },
  {
   "cell_type": "markdown",
   "id": "b45a6f24-818c-4c72-bd30-18ecd7836a07",
   "metadata": {},
   "source": [
    "# 분석용 데이터 변환"
   ]
  },
  {
   "cell_type": "markdown",
   "id": "3ba8425a-26ea-4f42-8430-c1268a4f3bd4",
   "metadata": {},
   "source": [
    "* value_counts()\n",
    "* 사용자 정의 전처리: apply()"
   ]
  },
  {
   "cell_type": "code",
   "execution_count": 18,
   "id": "48a98516-effb-4532-b206-8b8425c07478",
   "metadata": {},
   "outputs": [
    {
     "data": {
      "text/plain": [
       "모달리티\n",
       "X-ray    12\n",
       "MRI       7\n",
       "CT        6\n",
       "Name: count, dtype: int64"
      ]
     },
     "execution_count": 18,
     "metadata": {},
     "output_type": "execute_result"
    }
   ],
   "source": [
    "df['모달리티'].value_counts()"
   ]
  },
  {
   "cell_type": "markdown",
   "id": "afdb2573-a924-4fdc-a8a2-eb0e448488e0",
   "metadata": {},
   "source": [
    "* 모달리티열 분석"
   ]
  },
  {
   "cell_type": "markdown",
   "id": "b6c41422-391e-47c0-b8c3-745a38d4ba47",
   "metadata": {},
   "source": [
    "# 시각화"
   ]
  },
  {
   "cell_type": "markdown",
   "id": "7a7369ad-484b-43f4-bf39-d4b8c9871c28",
   "metadata": {},
   "source": [
    "### Bar 차트"
   ]
  },
  {
   "cell_type": "code",
   "execution_count": 75,
   "id": "c1038270-2b19-4746-a6b4-21b2a89f76a7",
   "metadata": {},
   "outputs": [
    {
     "data": {
      "image/png": "[encoded data removed]",
      "text/plain": [
       "<Figure size 640x480 with 2 Axes>"
      ]
     },
     "metadata": {},
     "output_type": "display_data"
    }
   ],
   "source": [
    "ax1 = plt.subplot(1,2,1)\n",
    "sns.lineplot(data=df, x='구축연도', y='영상건수', hue='바디파트명', errorbar=None)\n",
    "ax2 = plt.subplot(1,2,2, sharey=ax1)\n",
    "sns.lineplot(data=df, x='구축연도', y='영상건수', hue='모달리티', errorbar=None)\n",
    "plt.tight_layout()\n",
    "plt.show()"
   ]
  },
  {
   "cell_type": "markdown",
   "id": "0381a391-ba65-4918-b4a6-00120da35b30",
   "metadata": {},
   "source": [
    "# 데이터 분석  \n",
    "* 차트에 대한 해석\n",
    "    * 무릎 데이터가 가장 많고, 어깨 데이터가 가장 적다. => 아픈 부위는 어깨는 적고, 무릎이 많음\n",
    "    * 모달리티 : X-ray 영상건수가 많이 제공 => 비용이 저렴하기 때문\n",
    "        * MRI는 나머지와 다르게 변칙적임\n",
    "    * 추세 : 머리, 가슴을 제외하고는 모두 개방 의료 영상데이터양이 증가세\n",
    "    * 머리, 가슴 : 구축연도가 한 해만 있어서 범례로만 나옴. 데이터를 더이상 개방하지 않는다\n",
    "    * 2019부터 허리, 2020부터 무릎, 2021부터 복부, 2022부터 어깨 데이터를 지속적으로 개방했다\n",
    "    * 2017부터 MRI, 2018부터 CT, 2020부터 X-ray 데이터를 지속적으로 개방했다\n",
    "        * MRI, CT, X-ray 순으로 개방했다는 것은 양이 적은 것부터 개방했다는 것이다. X-ray는 양이 많아서 가장 늦게 개방했다"
   ]
  },
  {
   "cell_type": "raw",
   "id": "992c7adc-425c-421c-918d-24f1aea21216",
   "metadata": {},
   "source": [
    "건강보험심사평가원_의료영상데이터 목록\n",
    "건강보험심사평가원에서 제공하는 보건의료 영상진료 데이터의 메타데이터 현황\n",
    "- 데이터 수집, 레이블링, 딥러닝 학습을 통해 판독 예측을 위한 개방 의료 영상데이터입니다.\n",
    "- 인공지능 의료영상 판독 소프트웨어 개발 또는 연구를 목적으로 의료영상데이터가 필요한 기업들을 대상으로 데이터의 반출 없이 인공지능 모델/알고리즘의 개발이 가능한 딥러닝용 고성능(GPU) 서버 및 개발 인프라 환경을 제공하고 있습니다.\n",
    "※ 서비스 이용 희망 시 HIRA보건의료빅데이터개방시스템(opendata.hira.or.kr) > 서비스 소개 > 서비스 소개를 참고하여 주시기 바랍니다. "
   ]
  },
  {
   "cell_type": "markdown",
   "id": "5f6bde69-b9c5-4911-ae82-afca149074c3",
   "metadata": {},
   "source": [
    "https://www.data.go.kr/data/15111023/fileData.do"
   ]
  }
 ],
 "metadata": {
  "kernelspec": {
   "display_name": "Python 3 (ipykernel)",
   "language": "python",
   "name": "python3"
  },
  "language_info": {
   "codemirror_mode": {
    "name": "ipython",
    "version": 3
   },
   "file_extension": ".py",
   "mimetype": "text/x-python",
   "name": "python",
   "nbconvert_exporter": "python",
   "pygments_lexer": "ipython3",
   "version": "3.13.5"
  }
 },
 "nbformat": 4,
 "nbformat_minor": 5
}
