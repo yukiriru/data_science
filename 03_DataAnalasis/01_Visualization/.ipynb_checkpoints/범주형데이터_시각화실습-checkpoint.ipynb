{
 "cells": [
  {
   "cell_type": "markdown",
   "id": "2145e5ae-8c85-45ac-904a-3b08c2a1b9f0",
   "metadata": {},
   "source": [
    "# 데이터 선정"
   ]
  },
  {
   "cell_type": "markdown",
   "id": "01183879-fb85-4855-80de-1ba4f0f12fc4",
   "metadata": {},
   "source": [
    "* 공공데이터 포털에서 csv 파일 검색"
   ]
  },
  {
   "cell_type": "raw",
   "id": "d1d122ce-250e-49cd-9348-9a33f8afd6c5",
   "metadata": {},
   "source": [
    "수치형 데이터가 아닌 범주형 문자열 데이터"
   ]
  },
  {
   "cell_type": "markdown",
   "id": "ae917d68-e092-47d4-992b-b47029e5f9b3",
   "metadata": {},
   "source": [
    "# 데이터 읽기"
   ]
  },
  {
   "cell_type": "code",
   "execution_count": null,
   "id": "443334c9-f862-4e30-9512-a96c3fd6da5e",
   "metadata": {},
   "outputs": [],
   "source": []
  },
  {
   "cell_type": "markdown",
   "id": "b62563fe-a6cb-4f34-98d0-7b8abf489281",
   "metadata": {},
   "source": [
    "# 데이터 기본 분석"
   ]
  },
  {
   "cell_type": "code",
   "execution_count": null,
   "id": "d97b22e2-5281-40d7-8aeb-79ae37ad2b97",
   "metadata": {},
   "outputs": [],
   "source": [
    "df.info()"
   ]
  },
  {
   "cell_type": "markdown",
   "id": "1f754515-54bf-44a5-ae77-f541530e2ba7",
   "metadata": {},
   "source": [
    "# 데이터 전처리"
   ]
  },
  {
   "cell_type": "markdown",
   "id": "6ab576e9-bf96-4478-b102-1bffbb4d35c1",
   "metadata": {},
   "source": [
    "* 결측치\n",
    "* 이상치\n",
    "* 중복데이터"
   ]
  },
  {
   "cell_type": "code",
   "execution_count": null,
   "id": "9bffcd37-f513-48c6-a481-28ca8689356c",
   "metadata": {},
   "outputs": [],
   "source": []
  },
  {
   "cell_type": "markdown",
   "id": "b45a6f24-818c-4c72-bd30-18ecd7836a07",
   "metadata": {},
   "source": [
    "# 분석용 데이터 변환"
   ]
  },
  {
   "cell_type": "markdown",
   "id": "3ba8425a-26ea-4f42-8430-c1268a4f3bd4",
   "metadata": {},
   "source": [
    "* value_counts()\n",
    "* 사용자 정의 전처리: apply()"
   ]
  },
  {
   "cell_type": "code",
   "execution_count": null,
   "id": "c098dfc8-165e-4802-9023-f7678f661d82",
   "metadata": {},
   "outputs": [],
   "source": []
  },
  {
   "cell_type": "markdown",
   "id": "b029f800-fd62-4e91-931c-1849bc4d22c2",
   "metadata": {},
   "source": [
    "# 시각화"
   ]
  },
  {
   "cell_type": "markdown",
   "id": "3b0c88bb-c73e-4632-afb3-59dd32480442",
   "metadata": {},
   "source": [
    "* Bar차트"
   ]
  },
  {
   "cell_type": "code",
   "execution_count": null,
   "id": "4baed700-e5a7-4689-a3c8-bca45af36a3a",
   "metadata": {},
   "outputs": [],
   "source": []
  },
  {
   "cell_type": "markdown",
   "id": "2ed09dd4-a682-45bd-b13f-8758ead14b80",
   "metadata": {},
   "source": [
    "* 파이 차트"
   ]
  },
  {
   "cell_type": "code",
   "execution_count": null,
   "id": "46ef20ca-d33e-4c2d-ba81-85226373702e",
   "metadata": {},
   "outputs": [],
   "source": []
  }
 ],
 "metadata": {
  "kernelspec": {
   "display_name": "Python [conda env:base] *",
   "language": "python",
   "name": "conda-base-py"
  },
  "language_info": {
   "codemirror_mode": {
    "name": "ipython",
    "version": 3
   },
   "file_extension": ".py",
   "mimetype": "text/x-python",
   "name": "python",
   "nbconvert_exporter": "python",
   "pygments_lexer": "ipython3",
   "version": "3.13.5"
  }
 },
 "nbformat": 4,
 "nbformat_minor": 5
}
