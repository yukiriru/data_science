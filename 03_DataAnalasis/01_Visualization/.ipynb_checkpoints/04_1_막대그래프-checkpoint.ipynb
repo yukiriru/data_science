{
 "cells": [
  {
   "cell_type": "code",
   "execution_count": 61,
   "id": "fbd2e2a3-7bde-44b8-9543-9bfa761c9fb2",
   "metadata": {},
   "outputs": [],
   "source": [
    "import pandas as pd\n",
    "import numpy as np\n",
    "import matplotlib.pyplot as plt\n",
    "%matplotlib inline\n",
    "from matplotlib import font_manager,rc\n",
    "# 한글 폰트\n",
    "font_location = \"C:\\Windows\\Fonts\\malgun.ttf\"\n",
    "font_name = font_manager.FontProperties(fname=font_location).get_name()\n",
    "rc('font',family=font_name)"
   ]
  },
  {
   "cell_type": "markdown",
   "id": "69644b6f-7ca5-4bb7-a5c4-0b599b95ae89",
   "metadata": {},
   "source": [
    "## bar 차트 기본 사용\n"
   ]
  },
  {
   "cell_type": "markdown",
   "id": "163c3252-1e29-49a6-9604-019813590a54",
   "metadata": {},
   "source": [
    "* bar 차트 데이터의 의미\n",
    "    * 개별 항목별 누적값\n",
    "    * 일반적으로 분석용 데이터:wide 데이터"
   ]
  },
  {
   "cell_type": "code",
   "execution_count": 6,
   "id": "35bb99bf-1eb9-4414-b77e-14ba462e08ad",
   "metadata": {
    "scrolled": true
   },
   "outputs": [
    {
     "data": {
      "text/plain": [
       "([<matplotlib.axis.XTick at 0x2953ebed810>,\n",
       "  <matplotlib.axis.XTick at 0x2953ebed090>,\n",
       "  <matplotlib.axis.XTick at 0x2953ec14550>],\n",
       " [Text(0, 0, '2018'), Text(1, 0, '2019'), Text(2, 0, '2020')])"
      ]
     },
     "execution_count": 6,
     "metadata": {},
     "output_type": "execute_result"
    }
   ],
   "source": [
    "x=np.arange(3)\n",
    "years = ['2018', '2019', '2020']\n",
    "\n",
    "values = [100,400,900]\n",
    "\n",
    "plt.bar(x,values)\n",
    "plt.xticks(x,years)"
   ]
  },
  {
   "cell_type": "code",
   "execution_count": 7,
   "id": "13e6b3e4-8804-4521-8298-43d293e2df4d",
   "metadata": {},
   "outputs": [
    {
     "data": {
      "image/png": "[encoded data removed]",
      "text/plain": [
       "<Figure size 640x480 with 1 Axes>"
      ]
     },
     "metadata": {},
     "output_type": "display_data"
    }
   ],
   "source": [
    "plt.show()"
   ]
  },
  {
   "cell_type": "markdown",
   "id": "a19a2e9a",
   "metadata": {},
   "source": [
    "## bar 차트 기본 사용"
   ]
  },
  {
   "cell_type": "markdown",
   "id": "7c0cdf21-93f8-4822-a433-bba58726cb5b",
   "metadata": {},
   "source": [
    "* 예상되는 원본데이터(Long형) 형태"
   ]
  },
  {
   "cell_type": "code",
   "execution_count": 8,
   "id": "77564c8e-f81e-4943-9226-679066fb9bbe",
   "metadata": {
    "scrolled": true
   },
   "outputs": [
    {
     "data": {
      "text/html": [
       "<div>\n",
       "<style scoped>\n",
       "    .dataframe tbody tr th:only-of-type {\n",
       "        vertical-align: middle;\n",
       "    }\n",
       "\n",
       "    .dataframe tbody tr th {\n",
       "        vertical-align: top;\n",
       "    }\n",
       "\n",
       "    .dataframe thead th {\n",
       "        text-align: right;\n",
       "    }\n",
       "</style>\n",
       "<table border=\"1\" class=\"dataframe\">\n",
       "  <thead>\n",
       "    <tr style=\"text-align: right;\">\n",
       "      <th></th>\n",
       "      <th>연식</th>\n",
       "    </tr>\n",
       "  </thead>\n",
       "  <tbody>\n",
       "    <tr>\n",
       "      <th>0</th>\n",
       "      <td>2018</td>\n",
       "    </tr>\n",
       "    <tr>\n",
       "      <th>1</th>\n",
       "      <td>2018</td>\n",
       "    </tr>\n",
       "    <tr>\n",
       "      <th>2</th>\n",
       "      <td>2018</td>\n",
       "    </tr>\n",
       "    <tr>\n",
       "      <th>3</th>\n",
       "      <td>2019</td>\n",
       "    </tr>\n",
       "    <tr>\n",
       "      <th>4</th>\n",
       "      <td>2019</td>\n",
       "    </tr>\n",
       "    <tr>\n",
       "      <th>5</th>\n",
       "      <td>2019</td>\n",
       "    </tr>\n",
       "    <tr>\n",
       "      <th>6</th>\n",
       "      <td>2019</td>\n",
       "    </tr>\n",
       "    <tr>\n",
       "      <th>7</th>\n",
       "      <td>2020</td>\n",
       "    </tr>\n",
       "    <tr>\n",
       "      <th>8</th>\n",
       "      <td>2020</td>\n",
       "    </tr>\n",
       "    <tr>\n",
       "      <th>9</th>\n",
       "      <td>2020</td>\n",
       "    </tr>\n",
       "    <tr>\n",
       "      <th>10</th>\n",
       "      <td>2020</td>\n",
       "    </tr>\n",
       "  </tbody>\n",
       "</table>\n",
       "</div>"
      ],
      "text/plain": [
       "      연식\n",
       "0   2018\n",
       "1   2018\n",
       "2   2018\n",
       "3   2019\n",
       "4   2019\n",
       "5   2019\n",
       "6   2019\n",
       "7   2020\n",
       "8   2020\n",
       "9   2020\n",
       "10  2020"
      ]
     },
     "execution_count": 8,
     "metadata": {},
     "output_type": "execute_result"
    }
   ],
   "source": [
    "data = {\n",
    "    '연식': ['2018', '2018', '2018', '2019', '2019', '2019', '2019', '2020', '2020', '2020', '2020']\n",
    "}\n",
    "df =pd.DataFrame(data)\n",
    "df"
   ]
  },
  {
   "cell_type": "code",
   "execution_count": 9,
   "id": "c59cb86a-b360-4a9c-bd4d-df5b6f87c7de",
   "metadata": {
    "scrolled": true
   },
   "outputs": [
    {
     "data": {
      "text/plain": [
       "array(['2018', '2019', '2020'], dtype=object)"
      ]
     },
     "execution_count": 9,
     "metadata": {},
     "output_type": "execute_result"
    }
   ],
   "source": [
    "df.연식.unique()"
   ]
  },
  {
   "cell_type": "code",
   "execution_count": 11,
   "id": "33489947-f8e7-468f-972c-38e246865885",
   "metadata": {},
   "outputs": [
    {
     "name": "stdout",
     "output_type": "stream",
     "text": [
      "<class 'pandas.core.frame.DataFrame'>\n",
      "RangeIndex: 11 entries, 0 to 10\n",
      "Data columns (total 1 columns):\n",
      " #   Column  Non-Null Count  Dtype \n",
      "---  ------  --------------  ----- \n",
      " 0   연식      11 non-null     object\n",
      "dtypes: object(1)\n",
      "memory usage: 220.0+ bytes\n"
     ]
    }
   ],
   "source": [
    "df.info()"
   ]
  },
  {
   "cell_type": "code",
   "execution_count": 10,
   "id": "d933383b-3217-4fb7-846a-2d1eeb623d59",
   "metadata": {},
   "outputs": [
    {
     "data": {
      "text/plain": [
       "연식\n",
       "2019    4\n",
       "2020    4\n",
       "2018    3\n",
       "Name: count, dtype: int64"
      ]
     },
     "execution_count": 10,
     "metadata": {},
     "output_type": "execute_result"
    }
   ],
   "source": [
    "df.연식.value_counts()"
   ]
  },
  {
   "cell_type": "code",
   "execution_count": 12,
   "id": "fb920f3d-32d6-4768-bc21-35b71f449932",
   "metadata": {},
   "outputs": [
    {
     "data": {
      "text/plain": [
       "Index(['2019', '2020', '2018'], dtype='object', name='연식')"
      ]
     },
     "execution_count": 12,
     "metadata": {},
     "output_type": "execute_result"
    }
   ],
   "source": [
    "df.연식.value_counts().index"
   ]
  },
  {
   "cell_type": "markdown",
   "id": "41d70b74-0237-4d5d-90c5-9150f608c974",
   "metadata": {},
   "source": [
    "value_counts()는 해당 열의 데이터 유형이 index로 처리하여 누적값을 보여준다.\n",
    "누적 값이 큰 순서로 정렬\n",
    "인덱스가 시간, 년도 등 정렬하고 싶을 경우에는 인덱스 정렬을 한다."
   ]
  },
  {
   "cell_type": "code",
   "execution_count": 15,
   "id": "82e46bd6-766e-40ef-a241-2e1eaaf69e0c",
   "metadata": {},
   "outputs": [
    {
     "data": {
      "text/plain": [
       "연식\n",
       "2018    3\n",
       "2019    4\n",
       "2020    4\n",
       "Name: count, dtype: int64"
      ]
     },
     "execution_count": 15,
     "metadata": {},
     "output_type": "execute_result"
    }
   ],
   "source": [
    "df.연식.value_counts().sort_index()"
   ]
  },
  {
   "cell_type": "code",
   "execution_count": 16,
   "id": "23e4d6eb-8aa3-4bc4-9f8e-9b9c06abf597",
   "metadata": {},
   "outputs": [
    {
     "data": {
      "text/plain": [
       "Index(['2018', '2019', '2020'], dtype='object', name='연식')"
      ]
     },
     "execution_count": 16,
     "metadata": {},
     "output_type": "execute_result"
    }
   ],
   "source": [
    "df.연식.value_counts().sort_index().index"
   ]
  },
  {
   "cell_type": "code",
   "execution_count": 17,
   "id": "5cf39b47-4f92-4d8e-8593-2db2b9cbec18",
   "metadata": {},
   "outputs": [
    {
     "data": {
      "text/plain": [
       "['2018', '2019', '2020']"
      ]
     },
     "execution_count": 17,
     "metadata": {},
     "output_type": "execute_result"
    }
   ],
   "source": [
    "df.연식.value_counts().sort_index().index.tolist()"
   ]
  },
  {
   "cell_type": "markdown",
   "id": "83c34d6f-1393-4356-a5bb-2250a4d0e27b",
   "metadata": {},
   "source": [
    "* 전체 범위 매칭"
   ]
  },
  {
   "cell_type": "code",
   "execution_count": 20,
   "id": "715eb9c6-c174-4645-96af-99f633de3d51",
   "metadata": {
    "scrolled": true
   },
   "outputs": [],
   "source": [
    "x = np.arange(len(years))"
   ]
  },
  {
   "cell_type": "code",
   "execution_count": 21,
   "id": "b5cd6719-ce54-4edd-92e7-06ef3a7abc8a",
   "metadata": {},
   "outputs": [
    {
     "data": {
      "text/plain": [
       "연식\n",
       "2019    4\n",
       "2020    4\n",
       "2018    3\n",
       "Name: count, dtype: int64"
      ]
     },
     "execution_count": 21,
     "metadata": {},
     "output_type": "execute_result"
    }
   ],
   "source": [
    "df.연식.value_counts()"
   ]
  },
  {
   "cell_type": "code",
   "execution_count": 22,
   "id": "fd3c9070-f3ba-4355-9e8c-0f23cfe12858",
   "metadata": {},
   "outputs": [
    {
     "data": {
      "text/plain": [
       "array([4, 4, 3])"
      ]
     },
     "execution_count": 22,
     "metadata": {},
     "output_type": "execute_result"
    }
   ],
   "source": [
    "df.연식.value_counts().values"
   ]
  },
  {
   "cell_type": "code",
   "execution_count": 62,
   "id": "dbc99803-13ca-4cc2-942e-e9ec30240d6a",
   "metadata": {},
   "outputs": [
    {
     "data": {
      "text/plain": [
       "array([4, 4, 3])"
      ]
     },
     "execution_count": 62,
     "metadata": {},
     "output_type": "execute_result"
    }
   ],
   "source": [
    "values = df.연식.value_counts().values\n",
    "values"
   ]
  },
  {
   "cell_type": "code",
   "execution_count": 63,
   "id": "b0b93e41-e98f-40c0-9097-42ed919f9d7a",
   "metadata": {},
   "outputs": [
    {
     "data": {
      "image/png": "[encoded data removed]",
      "text/plain": [
       "<Figure size 640x480 with 1 Axes>"
      ]
     },
     "metadata": {},
     "output_type": "display_data"
    }
   ],
   "source": [
    "x = np.arange(len(years))\n",
    "years =df.연식.value_counts().sort_index().index.tolist()\n",
    "values = df.연식.value_counts().values\n",
    "plt.bar(x,values)\n",
    "plt.xticks(x,years)\n",
    "plt.show()"
   ]
  },
  {
   "cell_type": "code",
   "execution_count": 64,
   "id": "b4ffbc15-8385-4106-99bd-6aa71104abe7",
   "metadata": {},
   "outputs": [
    {
     "data": {
      "image/png": "[encoded data removed]",
      "text/plain": [
       "<Figure size 640x480 with 1 Axes>"
      ]
     },
     "metadata": {},
     "output_type": "display_data"
    }
   ],
   "source": [
    "#기본 설정\n",
    "x = np.arange(len(years))\n",
    "years =df.연식.value_counts().sort_index().index.tolist()\n",
    "values = df.연식.value_counts().values\n",
    "plt.bar(x,values)\n",
    "plt.xticks(x,years)\n",
    "\n",
    "#스타일 지정\n",
    "plt.xlabel('연식')\n",
    "plt.ylabel('건수')\n",
    "plt.title('연식별 건수')\n",
    "\n",
    "plt.show()"
   ]
  },
  {
   "cell_type": "code",
   "execution_count": null,
   "id": "f477936d-6ad1-421f-823e-e7a30be1d477",
   "metadata": {},
   "outputs": [],
   "source": []
  },
  {
   "cell_type": "markdown",
   "id": "93954cfd-dd9b-459d-a1d5-a50e53ffb068",
   "metadata": {},
   "source": [
    "# 실데이터 연습"
   ]
  },
  {
   "cell_type": "code",
   "execution_count": 65,
   "id": "95cf14a8-9645-4fab-9621-82a4f995aa21",
   "metadata": {
    "scrolled": true
   },
   "outputs": [
    {
     "data": {
      "text/html": [
       "<div>\n",
       "<style scoped>\n",
       "    .dataframe tbody tr th:only-of-type {\n",
       "        vertical-align: middle;\n",
       "    }\n",
       "\n",
       "    .dataframe tbody tr th {\n",
       "        vertical-align: top;\n",
       "    }\n",
       "\n",
       "    .dataframe thead th {\n",
       "        text-align: right;\n",
       "    }\n",
       "</style>\n",
       "<table border=\"1\" class=\"dataframe\">\n",
       "  <thead>\n",
       "    <tr style=\"text-align: right;\">\n",
       "      <th></th>\n",
       "      <th>book_name</th>\n",
       "      <th>book_writer</th>\n",
       "      <th>book_date</th>\n",
       "      <th>book_price</th>\n",
       "      <th>book_cover</th>\n",
       "      <th>book_page</th>\n",
       "      <th>book_size</th>\n",
       "      <th>book_weight</th>\n",
       "      <th>book_category</th>\n",
       "      <th>book_publisher</th>\n",
       "      <th>sales_point</th>\n",
       "    </tr>\n",
       "  </thead>\n",
       "  <tbody>\n",
       "    <tr>\n",
       "      <th>0</th>\n",
       "      <td>올 더 빌딩스 인 런던</td>\n",
       "      <td>제임스 걸리버 핸콕</td>\n",
       "      <td>2018-08-25</td>\n",
       "      <td>14,400</td>\n",
       "      <td>양장본</td>\n",
       "      <td>140</td>\n",
       "      <td>225*280mm</td>\n",
       "      <td>476</td>\n",
       "      <td>예술/대중문화</td>\n",
       "      <td>책발전소</td>\n",
       "      <td>110</td>\n",
       "    </tr>\n",
       "    <tr>\n",
       "      <th>1</th>\n",
       "      <td>렛 잇 블리드</td>\n",
       "      <td>이언 랜킨</td>\n",
       "      <td>2018-08-19</td>\n",
       "      <td>13,320</td>\n",
       "      <td>반양장본</td>\n",
       "      <td>476</td>\n",
       "      <td>128*188mm</td>\n",
       "      <td>476</td>\n",
       "      <td>소설/시/희곡</td>\n",
       "      <td>오픈하우스</td>\n",
       "      <td>110</td>\n",
       "    </tr>\n",
       "    <tr>\n",
       "      <th>2</th>\n",
       "      <td>은유로 사회 읽기</td>\n",
       "      <td>대니얼 리그니</td>\n",
       "      <td>2018-08-20</td>\n",
       "      <td>39,500</td>\n",
       "      <td>양장본</td>\n",
       "      <td>416</td>\n",
       "      <td>152*223mm</td>\n",
       "      <td>749</td>\n",
       "      <td>사회과학</td>\n",
       "      <td>한울(한울아카데미)</td>\n",
       "      <td>10</td>\n",
       "    </tr>\n",
       "    <tr>\n",
       "      <th>3</th>\n",
       "      <td>유럽 맥주 여행</td>\n",
       "      <td>백경학</td>\n",
       "      <td>2018-08-24</td>\n",
       "      <td>14,400</td>\n",
       "      <td>반양장본</td>\n",
       "      <td>308</td>\n",
       "      <td>150*220mm</td>\n",
       "      <td>400</td>\n",
       "      <td>역사</td>\n",
       "      <td>글항아리</td>\n",
       "      <td>10</td>\n",
       "    </tr>\n",
       "    <tr>\n",
       "      <th>4</th>\n",
       "      <td>이게, 행복이 아니면 무엇이지</td>\n",
       "      <td>김혜령</td>\n",
       "      <td>2018-08-20</td>\n",
       "      <td>13,050</td>\n",
       "      <td>NaN</td>\n",
       "      <td>288</td>\n",
       "      <td>135*200mm</td>\n",
       "      <td>374</td>\n",
       "      <td>인문학</td>\n",
       "      <td>웨일북</td>\n",
       "      <td>10</td>\n",
       "    </tr>\n",
       "  </tbody>\n",
       "</table>\n",
       "</div>"
      ],
      "text/plain": [
       "          book_name book_writer   book_date book_price book_cover book_page  \\\n",
       "0      올 더 빌딩스 인 런던  제임스 걸리버 핸콕  2018-08-25     14,400        양장본       140   \n",
       "1           렛 잇 블리드       이언 랜킨  2018-08-19     13,320       반양장본       476   \n",
       "2         은유로 사회 읽기     대니얼 리그니  2018-08-20     39,500        양장본       416   \n",
       "3          유럽 맥주 여행         백경학  2018-08-24     14,400       반양장본       308   \n",
       "4  이게, 행복이 아니면 무엇이지         김혜령  2018-08-20     13,050        NaN       288   \n",
       "\n",
       "   book_size  book_weight book_category book_publisher sales_point  \n",
       "0  225*280mm          476       예술/대중문화           책발전소         110  \n",
       "1  128*188mm          476       소설/시/희곡          오픈하우스         110  \n",
       "2  152*223mm          749          사회과학     한울(한울아카데미)          10  \n",
       "3  150*220mm          400            역사           글항아리          10  \n",
       "4  135*200mm          374           인문학            웨일북          10  "
      ]
     },
     "execution_count": 65,
     "metadata": {},
     "output_type": "execute_result"
    }
   ],
   "source": [
    "book =pd.read_csv('book_data.csv', encoding='cp949')\n",
    "book.head()"
   ]
  },
  {
   "cell_type": "code",
   "execution_count": 66,
   "id": "49c5c2e8-6732-4e9d-bdbc-b9c7784e0ce7",
   "metadata": {},
   "outputs": [
    {
     "name": "stdout",
     "output_type": "stream",
     "text": [
      "<class 'pandas.core.frame.DataFrame'>\n",
      "RangeIndex: 2000 entries, 0 to 1999\n",
      "Data columns (total 11 columns):\n",
      " #   Column          Non-Null Count  Dtype \n",
      "---  ------          --------------  ----- \n",
      " 0   book_name       2000 non-null   object\n",
      " 1   book_writer     2000 non-null   object\n",
      " 2   book_date       2000 non-null   object\n",
      " 3   book_price      2000 non-null   object\n",
      " 4   book_cover      1683 non-null   object\n",
      " 5   book_page       2000 non-null   object\n",
      " 6   book_size       1999 non-null   object\n",
      " 7   book_weight     2000 non-null   int64 \n",
      " 8   book_category   2000 non-null   object\n",
      " 9   book_publisher  2000 non-null   object\n",
      " 10  sales_point     2000 non-null   object\n",
      "dtypes: int64(1), object(10)\n",
      "memory usage: 172.0+ KB\n"
     ]
    }
   ],
   "source": [
    "book.info()"
   ]
  },
  {
   "cell_type": "markdown",
   "id": "cc3317c1-78c5-4f68-9bf9-c030227bbda3",
   "metadata": {},
   "source": [
    "- 범주형 데이터 확인"
   ]
  },
  {
   "cell_type": "code",
   "execution_count": 67,
   "id": "3929ca0a-7e6f-409f-bc84-581a7da05984",
   "metadata": {
    "scrolled": true
   },
   "outputs": [
    {
     "data": {
      "text/plain": [
       "book_name\n",
       "나의 첫 수채화 컬러링북            2\n",
       "렛 잇 블리드                  1\n",
       "은유로 사회 읽기                1\n",
       "유럽 맥주 여행                 1\n",
       "이게, 행복이 아니면 무엇이지         1\n",
       "                        ..\n",
       "채소를 기르자                  1\n",
       "오늘의 기울기                  1\n",
       "컬러의 말 : 모든 색에는 이름이 있다    1\n",
       "두 발로 만나는 우리 땅 이야기 2      1\n",
       "올 더 빌딩스 인 런던             1\n",
       "Name: count, Length: 1999, dtype: int64"
      ]
     },
     "execution_count": 67,
     "metadata": {},
     "output_type": "execute_result"
    }
   ],
   "source": [
    "book.book_name.value_counts()"
   ]
  },
  {
   "cell_type": "code",
   "execution_count": 70,
   "id": "5bacf543-5a57-4bfc-858c-9f185c2bbbad",
   "metadata": {
    "scrolled": true
   },
   "outputs": [
    {
     "data": {
      "text/plain": [
       "book_category\n",
       "인문학         264\n",
       "소설/시/희곡     204\n",
       "유아          199\n",
       "사회과학        188\n",
       "어린이         160\n",
       "에세이         151\n",
       "역사          110\n",
       "건강/취미/레저    105\n",
       "경제경영        105\n",
       "자기계발        100\n",
       "과학          100\n",
       "예술/대중문화      66\n",
       "만화           64\n",
       "가정/요리/뷰티     59\n",
       "좋은부모         54\n",
       "종교/역학        37\n",
       "여행           21\n",
       "청소년          13\n",
       "Name: count, dtype: int64"
      ]
     },
     "execution_count": 70,
     "metadata": {},
     "output_type": "execute_result"
    }
   ],
   "source": [
    "book.book_category.value_counts()"
   ]
  },
  {
   "cell_type": "code",
   "execution_count": 71,
   "id": "0695b500-a357-4bc8-9c83-b2a427f96b30",
   "metadata": {
    "jupyter": {
     "source_hidden": true
    }
   },
   "outputs": [
    {
     "data": {
      "text/plain": [
       "18"
      ]
     },
     "execution_count": 71,
     "metadata": {},
     "output_type": "execute_result"
    }
   ],
   "source": [
    "len(book.book_category.unique())"
   ]
  },
  {
   "cell_type": "markdown",
   "id": "35a5f5ea-a0ba-41f8-8b52-cb4ea850e941",
   "metadata": {},
   "source": [
    "- 범주형 데이터 열을 선정한 후 전처리 및 분석"
   ]
  },
  {
   "cell_type": "code",
   "execution_count": 72,
   "id": "b10b7849-bfed-49d6-9391-09d25f5c09a0",
   "metadata": {
    "scrolled": true
   },
   "outputs": [],
   "source": [
    "book['book_cover'] = book['book_cover'].fillna('미정의')"
   ]
  },
  {
   "cell_type": "code",
   "execution_count": 73,
   "id": "808e283f-c84e-4166-9b47-190ef7f3c28e",
   "metadata": {},
   "outputs": [
    {
     "name": "stdout",
     "output_type": "stream",
     "text": [
      "<class 'pandas.core.frame.DataFrame'>\n",
      "RangeIndex: 2000 entries, 0 to 1999\n",
      "Data columns (total 11 columns):\n",
      " #   Column          Non-Null Count  Dtype \n",
      "---  ------          --------------  ----- \n",
      " 0   book_name       2000 non-null   object\n",
      " 1   book_writer     2000 non-null   object\n",
      " 2   book_date       2000 non-null   object\n",
      " 3   book_price      2000 non-null   object\n",
      " 4   book_cover      2000 non-null   object\n",
      " 5   book_page       2000 non-null   object\n",
      " 6   book_size       1999 non-null   object\n",
      " 7   book_weight     2000 non-null   int64 \n",
      " 8   book_category   2000 non-null   object\n",
      " 9   book_publisher  2000 non-null   object\n",
      " 10  sales_point     2000 non-null   object\n",
      "dtypes: int64(1), object(10)\n",
      "memory usage: 172.0+ KB\n"
     ]
    }
   ],
   "source": [
    "book.info()"
   ]
  },
  {
   "cell_type": "code",
   "execution_count": 132,
   "id": "3f304c7e-06d2-489e-ac25-0cfeb5e3768c",
   "metadata": {
    "scrolled": true
   },
   "outputs": [
    {
     "data": {
      "text/plain": [
       "book_cover\n",
       "반양장본    1236\n",
       "양장본      447\n",
       "미정의      317\n",
       "Name: count, dtype: int64"
      ]
     },
     "execution_count": 132,
     "metadata": {},
     "output_type": "execute_result"
    }
   ],
   "source": [
    "book.book_cover.value_counts()"
   ]
  },
  {
   "cell_type": "code",
   "execution_count": 136,
   "id": "6bf78b17-0b64-45e6-a363-e2439efdae59",
   "metadata": {},
   "outputs": [
    {
     "data": {
      "text/plain": [
       "['반양장본', '양장본', '미정의']"
      ]
     },
     "execution_count": 136,
     "metadata": {},
     "output_type": "execute_result"
    }
   ],
   "source": [
    "book_cover_list=book.book_cover.value_counts().index.tolist()\n",
    "book_cover_list"
   ]
  },
  {
   "cell_type": "code",
   "execution_count": 138,
   "id": "b1fe309c-f5c8-4daa-ae17-8b5d66d90f9a",
   "metadata": {
    "scrolled": true
   },
   "outputs": [
    {
     "data": {
      "image/png": "[encoded data removed]",
      "text/plain": [
       "<Figure size 640x480 with 1 Axes>"
      ]
     },
     "metadata": {},
     "output_type": "display_data"
    }
   ],
   "source": [
    "x = np.arange(len(book_cover_list))\n",
    "values =book.book_cover.value_counts().values\n",
    "plt.bar(x,values)\n",
    "plt.xticks(x,book_cover_list)\n",
    "plt.show()"
   ]
  },
  {
   "cell_type": "markdown",
   "id": "2620fb78-2859-4ae1-8433-18d2fb786f2c",
   "metadata": {},
   "source": [
    "## - 비범주형 데이터를 범주형 데이터로 전환하여 시각화"
   ]
  },
  {
   "cell_type": "markdown",
   "id": "cb4a3bfb-3f17-4017-bff4-690dc8117d81",
   "metadata": {},
   "source": [
    "- 기본전처리 과정"
   ]
  },
  {
   "cell_type": "markdown",
   "id": "ac3dca13-6f1f-46ac-b362-a36c7841e134",
   "metadata": {},
   "source": [
    "- 서식 제거"
   ]
  },
  {
   "cell_type": "code",
   "execution_count": 78,
   "id": "93c1b3c8-b1dc-4cfb-b72c-2f138a2cb7c9",
   "metadata": {},
   "outputs": [
    {
     "data": {
      "text/plain": [
       "0       14400\n",
       "1       13320\n",
       "2       39500\n",
       "3       14400\n",
       "4       13050\n",
       "        ...  \n",
       "1995    10800\n",
       "1996    13500\n",
       "1997    12600\n",
       "1998    19800\n",
       "1999    10800\n",
       "Name: book_price, Length: 2000, dtype: object"
      ]
     },
     "execution_count": 78,
     "metadata": {},
     "output_type": "execute_result"
    }
   ],
   "source": [
    "book['book_price'].str.replace(',','')"
   ]
  },
  {
   "cell_type": "markdown",
   "id": "3dcd88b5-5186-4fff-941d-40e13730bbd8",
   "metadata": {},
   "source": [
    "- 행변환 테스트"
   ]
  },
  {
   "cell_type": "code",
   "execution_count": 80,
   "id": "ee419ba3-787e-410a-a86b-728d4439dc86",
   "metadata": {},
   "outputs": [
    {
     "data": {
      "text/plain": [
       "0    14400\n",
       "1    13320\n",
       "2    39500\n",
       "3    14400\n",
       "4    13050\n",
       "Name: book_price, dtype: int64"
      ]
     },
     "execution_count": 80,
     "metadata": {},
     "output_type": "execute_result"
    }
   ],
   "source": [
    "book['book_price'].str.replace(',','').astype(int).head()"
   ]
  },
  {
   "cell_type": "markdown",
   "id": "acfaeb71-4c5f-4846-80a0-6d0655356067",
   "metadata": {},
   "source": [
    "- 테스트후 기본 전처리 진행"
   ]
  },
  {
   "cell_type": "code",
   "execution_count": 82,
   "id": "289c783e-b22e-4f36-86e6-ee8516dc44f4",
   "metadata": {
    "scrolled": true
   },
   "outputs": [
    {
     "data": {
      "text/html": [
       "<div>\n",
       "<style scoped>\n",
       "    .dataframe tbody tr th:only-of-type {\n",
       "        vertical-align: middle;\n",
       "    }\n",
       "\n",
       "    .dataframe tbody tr th {\n",
       "        vertical-align: top;\n",
       "    }\n",
       "\n",
       "    .dataframe thead th {\n",
       "        text-align: right;\n",
       "    }\n",
       "</style>\n",
       "<table border=\"1\" class=\"dataframe\">\n",
       "  <thead>\n",
       "    <tr style=\"text-align: right;\">\n",
       "      <th></th>\n",
       "      <th>book_name</th>\n",
       "      <th>book_writer</th>\n",
       "      <th>book_date</th>\n",
       "      <th>book_price</th>\n",
       "      <th>book_cover</th>\n",
       "      <th>book_page</th>\n",
       "      <th>book_size</th>\n",
       "      <th>book_weight</th>\n",
       "      <th>book_category</th>\n",
       "      <th>book_publisher</th>\n",
       "      <th>sales_point</th>\n",
       "    </tr>\n",
       "  </thead>\n",
       "  <tbody>\n",
       "    <tr>\n",
       "      <th>0</th>\n",
       "      <td>올 더 빌딩스 인 런던</td>\n",
       "      <td>제임스 걸리버 핸콕</td>\n",
       "      <td>2018-08-25</td>\n",
       "      <td>14400</td>\n",
       "      <td>양장본</td>\n",
       "      <td>140</td>\n",
       "      <td>225*280mm</td>\n",
       "      <td>476</td>\n",
       "      <td>예술/대중문화</td>\n",
       "      <td>책발전소</td>\n",
       "      <td>110</td>\n",
       "    </tr>\n",
       "    <tr>\n",
       "      <th>1</th>\n",
       "      <td>렛 잇 블리드</td>\n",
       "      <td>이언 랜킨</td>\n",
       "      <td>2018-08-19</td>\n",
       "      <td>13320</td>\n",
       "      <td>반양장본</td>\n",
       "      <td>476</td>\n",
       "      <td>128*188mm</td>\n",
       "      <td>476</td>\n",
       "      <td>소설/시/희곡</td>\n",
       "      <td>오픈하우스</td>\n",
       "      <td>110</td>\n",
       "    </tr>\n",
       "    <tr>\n",
       "      <th>2</th>\n",
       "      <td>은유로 사회 읽기</td>\n",
       "      <td>대니얼 리그니</td>\n",
       "      <td>2018-08-20</td>\n",
       "      <td>39500</td>\n",
       "      <td>양장본</td>\n",
       "      <td>416</td>\n",
       "      <td>152*223mm</td>\n",
       "      <td>749</td>\n",
       "      <td>사회과학</td>\n",
       "      <td>한울(한울아카데미)</td>\n",
       "      <td>10</td>\n",
       "    </tr>\n",
       "    <tr>\n",
       "      <th>3</th>\n",
       "      <td>유럽 맥주 여행</td>\n",
       "      <td>백경학</td>\n",
       "      <td>2018-08-24</td>\n",
       "      <td>14400</td>\n",
       "      <td>반양장본</td>\n",
       "      <td>308</td>\n",
       "      <td>150*220mm</td>\n",
       "      <td>400</td>\n",
       "      <td>역사</td>\n",
       "      <td>글항아리</td>\n",
       "      <td>10</td>\n",
       "    </tr>\n",
       "    <tr>\n",
       "      <th>4</th>\n",
       "      <td>이게, 행복이 아니면 무엇이지</td>\n",
       "      <td>김혜령</td>\n",
       "      <td>2018-08-20</td>\n",
       "      <td>13050</td>\n",
       "      <td>미정의</td>\n",
       "      <td>288</td>\n",
       "      <td>135*200mm</td>\n",
       "      <td>374</td>\n",
       "      <td>인문학</td>\n",
       "      <td>웨일북</td>\n",
       "      <td>10</td>\n",
       "    </tr>\n",
       "  </tbody>\n",
       "</table>\n",
       "</div>"
      ],
      "text/plain": [
       "          book_name book_writer   book_date  book_price book_cover book_page  \\\n",
       "0      올 더 빌딩스 인 런던  제임스 걸리버 핸콕  2018-08-25       14400        양장본       140   \n",
       "1           렛 잇 블리드       이언 랜킨  2018-08-19       13320       반양장본       476   \n",
       "2         은유로 사회 읽기     대니얼 리그니  2018-08-20       39500        양장본       416   \n",
       "3          유럽 맥주 여행         백경학  2018-08-24       14400       반양장본       308   \n",
       "4  이게, 행복이 아니면 무엇이지         김혜령  2018-08-20       13050        미정의       288   \n",
       "\n",
       "   book_size  book_weight book_category book_publisher sales_point  \n",
       "0  225*280mm          476       예술/대중문화           책발전소         110  \n",
       "1  128*188mm          476       소설/시/희곡          오픈하우스         110  \n",
       "2  152*223mm          749          사회과학     한울(한울아카데미)          10  \n",
       "3  150*220mm          400            역사           글항아리          10  \n",
       "4  135*200mm          374           인문학            웨일북          10  "
      ]
     },
     "execution_count": 82,
     "metadata": {},
     "output_type": "execute_result"
    }
   ],
   "source": [
    "book['book_price'] = book['book_price'].str.replace(',','').astype(int)\n",
    "book.head()\n",
    "                                                    "
   ]
  },
  {
   "cell_type": "code",
   "execution_count": null,
   "id": "5b3eb8aa-c470-4fe9-a869-41e89b9f20eb",
   "metadata": {},
   "outputs": [],
   "source": []
  },
  {
   "cell_type": "markdown",
   "id": "6a244d17-9c5b-4e54-90a4-5d2fefe33899",
   "metadata": {},
   "source": [
    "- 범주형 데이터 분석열 추가"
   ]
  },
  {
   "cell_type": "code",
   "execution_count": 94,
   "id": "8e4a0e61-8fc9-4ad2-927f-ab991afb1481",
   "metadata": {},
   "outputs": [],
   "source": [
    "def convert_price(price):\n",
    "    if price < 7_000:\n",
    "        return '초저가'\n",
    "    elif price < 10_000:\n",
    "        return '저가'\n",
    "    elif price < 20_000:\n",
    "        return '일반'\n",
    "    elif price < 35_000:\n",
    "        return '고가'\n",
    "    else :\n",
    "        return '초고가'"
   ]
  },
  {
   "cell_type": "code",
   "execution_count": 95,
   "id": "d9ab341c-8559-44c6-88cf-2f963585dd31",
   "metadata": {},
   "outputs": [
    {
     "data": {
      "text/plain": [
       "0        일반\n",
       "1        일반\n",
       "2       초고가\n",
       "3        일반\n",
       "4        일반\n",
       "       ... \n",
       "1995     일반\n",
       "1996     일반\n",
       "1997     일반\n",
       "1998     일반\n",
       "1999     일반\n",
       "Name: book_price, Length: 2000, dtype: object"
      ]
     },
     "execution_count": 95,
     "metadata": {},
     "output_type": "execute_result"
    }
   ],
   "source": [
    "book['book_price'].apply(convert_price)"
   ]
  },
  {
   "cell_type": "code",
   "execution_count": 96,
   "id": "326de22c-36e3-45d7-acde-8c56cd1e6ebc",
   "metadata": {
    "scrolled": true
   },
   "outputs": [
    {
     "data": {
      "text/html": [
       "<div>\n",
       "<style scoped>\n",
       "    .dataframe tbody tr th:only-of-type {\n",
       "        vertical-align: middle;\n",
       "    }\n",
       "\n",
       "    .dataframe tbody tr th {\n",
       "        vertical-align: top;\n",
       "    }\n",
       "\n",
       "    .dataframe thead th {\n",
       "        text-align: right;\n",
       "    }\n",
       "</style>\n",
       "<table border=\"1\" class=\"dataframe\">\n",
       "  <thead>\n",
       "    <tr style=\"text-align: right;\">\n",
       "      <th></th>\n",
       "      <th>book_name</th>\n",
       "      <th>book_writer</th>\n",
       "      <th>book_date</th>\n",
       "      <th>book_price</th>\n",
       "      <th>book_cover</th>\n",
       "      <th>book_page</th>\n",
       "      <th>book_size</th>\n",
       "      <th>book_weight</th>\n",
       "      <th>book_category</th>\n",
       "      <th>book_publisher</th>\n",
       "      <th>sales_point</th>\n",
       "      <th>price_range</th>\n",
       "    </tr>\n",
       "  </thead>\n",
       "  <tbody>\n",
       "    <tr>\n",
       "      <th>0</th>\n",
       "      <td>올 더 빌딩스 인 런던</td>\n",
       "      <td>제임스 걸리버 핸콕</td>\n",
       "      <td>2018-08-25</td>\n",
       "      <td>14400</td>\n",
       "      <td>양장본</td>\n",
       "      <td>140</td>\n",
       "      <td>225*280mm</td>\n",
       "      <td>476</td>\n",
       "      <td>예술/대중문화</td>\n",
       "      <td>책발전소</td>\n",
       "      <td>110</td>\n",
       "      <td>일반</td>\n",
       "    </tr>\n",
       "    <tr>\n",
       "      <th>1</th>\n",
       "      <td>렛 잇 블리드</td>\n",
       "      <td>이언 랜킨</td>\n",
       "      <td>2018-08-19</td>\n",
       "      <td>13320</td>\n",
       "      <td>반양장본</td>\n",
       "      <td>476</td>\n",
       "      <td>128*188mm</td>\n",
       "      <td>476</td>\n",
       "      <td>소설/시/희곡</td>\n",
       "      <td>오픈하우스</td>\n",
       "      <td>110</td>\n",
       "      <td>일반</td>\n",
       "    </tr>\n",
       "    <tr>\n",
       "      <th>2</th>\n",
       "      <td>은유로 사회 읽기</td>\n",
       "      <td>대니얼 리그니</td>\n",
       "      <td>2018-08-20</td>\n",
       "      <td>39500</td>\n",
       "      <td>양장본</td>\n",
       "      <td>416</td>\n",
       "      <td>152*223mm</td>\n",
       "      <td>749</td>\n",
       "      <td>사회과학</td>\n",
       "      <td>한울(한울아카데미)</td>\n",
       "      <td>10</td>\n",
       "      <td>초고가</td>\n",
       "    </tr>\n",
       "    <tr>\n",
       "      <th>3</th>\n",
       "      <td>유럽 맥주 여행</td>\n",
       "      <td>백경학</td>\n",
       "      <td>2018-08-24</td>\n",
       "      <td>14400</td>\n",
       "      <td>반양장본</td>\n",
       "      <td>308</td>\n",
       "      <td>150*220mm</td>\n",
       "      <td>400</td>\n",
       "      <td>역사</td>\n",
       "      <td>글항아리</td>\n",
       "      <td>10</td>\n",
       "      <td>일반</td>\n",
       "    </tr>\n",
       "    <tr>\n",
       "      <th>4</th>\n",
       "      <td>이게, 행복이 아니면 무엇이지</td>\n",
       "      <td>김혜령</td>\n",
       "      <td>2018-08-20</td>\n",
       "      <td>13050</td>\n",
       "      <td>미정의</td>\n",
       "      <td>288</td>\n",
       "      <td>135*200mm</td>\n",
       "      <td>374</td>\n",
       "      <td>인문학</td>\n",
       "      <td>웨일북</td>\n",
       "      <td>10</td>\n",
       "      <td>일반</td>\n",
       "    </tr>\n",
       "  </tbody>\n",
       "</table>\n",
       "</div>"
      ],
      "text/plain": [
       "          book_name book_writer   book_date  book_price book_cover book_page  \\\n",
       "0      올 더 빌딩스 인 런던  제임스 걸리버 핸콕  2018-08-25       14400        양장본       140   \n",
       "1           렛 잇 블리드       이언 랜킨  2018-08-19       13320       반양장본       476   \n",
       "2         은유로 사회 읽기     대니얼 리그니  2018-08-20       39500        양장본       416   \n",
       "3          유럽 맥주 여행         백경학  2018-08-24       14400       반양장본       308   \n",
       "4  이게, 행복이 아니면 무엇이지         김혜령  2018-08-20       13050        미정의       288   \n",
       "\n",
       "   book_size  book_weight book_category book_publisher sales_point price_range  \n",
       "0  225*280mm          476       예술/대중문화           책발전소         110          일반  \n",
       "1  128*188mm          476       소설/시/희곡          오픈하우스         110          일반  \n",
       "2  152*223mm          749          사회과학     한울(한울아카데미)          10         초고가  \n",
       "3  150*220mm          400            역사           글항아리          10          일반  \n",
       "4  135*200mm          374           인문학            웨일북          10          일반  "
      ]
     },
     "execution_count": 96,
     "metadata": {},
     "output_type": "execute_result"
    }
   ],
   "source": [
    "book['price_range'] =book['book_price'].apply(convert_price)\n",
    "book.head()"
   ]
  },
  {
   "cell_type": "code",
   "execution_count": 97,
   "id": "dbed52d7-5725-4800-9781-8c0e7b18fecd",
   "metadata": {
    "scrolled": true
   },
   "outputs": [
    {
     "data": {
      "text/plain": [
       "price_range\n",
       "일반     1546\n",
       "저가      187\n",
       "고가      177\n",
       "초고가      53\n",
       "초저가      37\n",
       "Name: count, dtype: int64"
      ]
     },
     "execution_count": 97,
     "metadata": {},
     "output_type": "execute_result"
    }
   ],
   "source": [
    "book['price_range'].value_counts()"
   ]
  },
  {
   "cell_type": "code",
   "execution_count": 129,
   "id": "8efc1d22-f77f-4362-9157-bb996791e2d5",
   "metadata": {},
   "outputs": [
    {
     "data": {
      "text/plain": [
       "['일반', '저가', '고가', '초고가', '초저가']"
      ]
     },
     "execution_count": 129,
     "metadata": {},
     "output_type": "execute_result"
    }
   ],
   "source": [
    "price_range_list =book.price_range.value_counts().index.tolist()\n",
    "price_range_list"
   ]
  },
  {
   "cell_type": "code",
   "execution_count": 131,
   "id": "ff95dc5c-540e-4cfc-9128-dc27df595663",
   "metadata": {
    "scrolled": true
   },
   "outputs": [
    {
     "data": {
      "image/png": "[encoded data removed]",
      "text/plain": [
       "<Figure size 640x480 with 1 Axes>"
      ]
     },
     "metadata": {},
     "output_type": "display_data"
    }
   ],
   "source": [
    "x=np.arange(len(price_range_list))\n",
    "values= book.price_range.value_counts().values\n",
    "plt.bar(x, values)\n",
    "plt.xticks(x,price_range_list)\n",
    "plt.show()"
   ]
  },
  {
   "cell_type": "code",
   "execution_count": 141,
   "id": "69a15aa7-5890-4ba0-bece-6a096c49ff9c",
   "metadata": {},
   "outputs": [
    {
     "data": {
      "text/plain": [
       "0       140.0\n",
       "1       476.0\n",
       "2       416.0\n",
       "3       308.0\n",
       "4       288.0\n",
       "        ...  \n",
       "1995    136.0\n",
       "1996    344.0\n",
       "1997    192.0\n",
       "1998    488.0\n",
       "1999    260.0\n",
       "Name: book_page, Length: 2000, dtype: float64"
      ]
     },
     "execution_count": 141,
     "metadata": {},
     "output_type": "execute_result"
    }
   ],
   "source": [
    "book['book_page']=pd.to_numeric(book['book_page'], errors='coerce')\n",
    "book['book_page']"
   ]
  },
  {
   "cell_type": "markdown",
   "id": "ae9cd15d",
   "metadata": {},
   "source": [
    "### 색상 지정하기"
   ]
  },
  {
   "cell_type": "markdown",
   "id": "2987bef7",
   "metadata": {},
   "source": [
    "### 바마다 개별 색 지정"
   ]
  },
  {
   "cell_type": "markdown",
   "id": "984f8f86",
   "metadata": {},
   "source": [
    "### 막대 폭 지정하기"
   ]
  },
  {
   "cell_type": "markdown",
   "id": "447d119a",
   "metadata": {},
   "source": [
    "### 스타일 꾸미기"
   ]
  },
  {
   "cell_type": "raw",
   "id": "f629a3b7",
   "metadata": {},
   "source": [
    "align은 눈금과 막대의 위치를 조절. 디폴트 값은 ‘center’이며, ‘edge’로 설정하면 막대의 왼쪽 끝에 눈금이 표시.\n",
    "\n",
    "edgecolor는 막대 테두리 색, linewidth는 테두리의 두께를 지정.\n",
    "\n",
    "tick_label을 리스트 또는 어레이 형태로 지정하면, 틱에 문자열을 순서대로 나타냄."
   ]
  },
  {
   "cell_type": "markdown",
   "id": "38f1c03f",
   "metadata": {},
   "source": [
    "## 수평 막대 그래프 그리기"
   ]
  },
  {
   "cell_type": "markdown",
   "id": "10d91b89",
   "metadata": {},
   "source": [
    "### 기본 사용 (barh 함수 활용)"
   ]
  },
  {
   "cell_type": "markdown",
   "id": "1bccfaa0",
   "metadata": {},
   "source": [
    "### 색상지정하기"
   ]
  },
  {
   "cell_type": "markdown",
   "id": "3ae8f5f6",
   "metadata": {},
   "source": [
    "### 색상 개별 지정"
   ]
  },
  {
   "cell_type": "markdown",
   "id": "9e7c4140",
   "metadata": {},
   "source": [
    "### 막대 위치 지정"
   ]
  },
  {
   "cell_type": "markdown",
   "id": "f182aa25",
   "metadata": {},
   "source": [
    "### 스타일 꾸미기"
   ]
  }
 ],
 "metadata": {
  "kernelspec": {
   "display_name": "Python [conda env:base] *",
   "language": "python",
   "name": "conda-base-py"
  },
  "language_info": {
   "codemirror_mode": {
    "name": "ipython",
    "version": 3
   },
   "file_extension": ".py",
   "mimetype": "text/x-python",
   "name": "python",
   "nbconvert_exporter": "python",
   "pygments_lexer": "ipython3",
   "version": "3.13.5"
  }
 },
 "nbformat": 4,
 "nbformat_minor": 5
}
