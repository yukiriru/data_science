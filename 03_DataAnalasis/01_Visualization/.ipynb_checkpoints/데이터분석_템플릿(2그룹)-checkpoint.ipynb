{
 "cells": [
  {
   "cell_type": "code",
   "execution_count": 6,
   "id": "b756fd65-63d4-40c9-9003-037929990d3e",
   "metadata": {},
   "outputs": [],
   "source": [
    "import folium\n",
    "from folium import Marker\n",
    "from folium.plugins import MarkerCluster"
   ]
  },
  {
   "cell_type": "code",
   "execution_count": 8,
   "id": "9b9b47e9-2bf7-4f37-83c7-d36933c4385b",
   "metadata": {},
   "outputs": [],
   "source": [
    "import pandas as pd\n",
    "import numpy as np\n",
    "import matplotlib.pyplot as plt\n",
    "import seaborn as sns\n",
    "from matplotlib import font_manager,rc\n",
    "\n",
    "import random\n",
    "\n",
    "font_location = \"C:\\Windows\\Fonts\\malgun.ttf\"\n",
    "font_name = font_manager.FontProperties(fname=font_location).get_name()\n",
    "rc('font',family=font_name)\n",
    "plt.rcParams['axes.unicode_minus'] = False"
   ]
  },
  {
   "cell_type": "markdown",
   "id": "9a361676",
   "metadata": {
    "hidden": true
   },
   "source": [
    "## 주요절차"
   ]
  },
  {
   "cell_type": "raw",
   "id": "66a43f0e-61a2-491f-96c6-5a54f3e52b50",
   "metadata": {
    "hidden": true
   },
   "source": [
    "기초 통계값 확인 ( df.describe() )\n",
    "[수치형 데이터]\r",
    " \n",
    "=> 수치데이터로서 의미가 는지 판단? (이상치, 아웃라이어 확인)\r\n",
    "=> 의미가 있는(예: 키, 몸무게, 가격등) 열에 대해 아래 작업 진행  분석\r\n",
    " - 확인해야 할 사항    수치상\r\n",
    "mean, min, 1q, 2q(중위값),  최대값 가격\r\n",
    " - 시각화\r\n",
    "  히스토그램, 박스플롯 (바이올린플롯)\r\n",
    " - 이상치 유무 확인\r\n",
    " - 이상치가 있다면 보정방식을 선택\r\n",
    "  (예, 단일값, 보정: 삭제이상치 수정이후 , 포함)\r\n",
    "- 기초통계값과, 차치가 [보 재  데이터]유무 확인)\r\n",
    "- 문자열\r\n",
    " => unique의 결과값에서 파이차트나 막대차트로 그릴수  - 있는 열이 있는지 확인\r\n",
    " 10개미만은 파이차트,  - 도우넛차트 그리기에 용이\r\n",
    " 10개상위 은 파이차트, 막대차트(Top3,5,10 등을 도출.. 그리고 형 데이터나하위 데이터3,5,10)\r\n",
    "\r\n",
    "* 수치 문자 중에 범위화 할 \n",
    " 예)수 있는 열이 있는지 확인해 보자\r\n",
    " 가격=> 초고가, 고가,위 작업은  일반, 저가 함수를 통해\r",
    "ly 함수를 통해"
   ]
  },
  {
   "cell_type": "markdown",
   "id": "d98ee251",
   "metadata": {},
   "source": [
    "# 데이터분석 적용 실습 템플릿"
   ]
  },
  {
   "cell_type": "markdown",
   "id": "0521bf67",
   "metadata": {},
   "source": [
    "## 데이터 수집"
   ]
  },
  {
   "cell_type": "code",
   "execution_count": 10,
   "id": "46c5eafe",
   "metadata": {},
   "outputs": [
    {
     "data": {
      "text/html": [
       "<div>\n",
       "<style scoped>\n",
       "    .dataframe tbody tr th:only-of-type {\n",
       "        vertical-align: middle;\n",
       "    }\n",
       "\n",
       "    .dataframe tbody tr th {\n",
       "        vertical-align: top;\n",
       "    }\n",
       "\n",
       "    .dataframe thead th {\n",
       "        text-align: right;\n",
       "    }\n",
       "</style>\n",
       "<table border=\"1\" class=\"dataframe\">\n",
       "  <thead>\n",
       "    <tr style=\"text-align: right;\">\n",
       "      <th></th>\n",
       "      <th>시도명</th>\n",
       "      <th>시군구명</th>\n",
       "      <th>읍면동명</th>\n",
       "      <th>주택유형</th>\n",
       "      <th>건축년도</th>\n",
       "      <th>건축물대장주구조</th>\n",
       "      <th>연면적</th>\n",
       "      <th>위도</th>\n",
       "      <th>경도</th>\n",
       "      <th>등급판정결과</th>\n",
       "      <th>데이터기준일자</th>\n",
       "    </tr>\n",
       "  </thead>\n",
       "  <tbody>\n",
       "    <tr>\n",
       "      <th>0</th>\n",
       "      <td>광주광역시</td>\n",
       "      <td>동구</td>\n",
       "      <td>대인동</td>\n",
       "      <td>그외</td>\n",
       "      <td>0</td>\n",
       "      <td>벽돌구조</td>\n",
       "      <td>139.820</td>\n",
       "      <td>192083.0095</td>\n",
       "      <td>183919.9701</td>\n",
       "      <td>2등급</td>\n",
       "      <td>2025-07-16</td>\n",
       "    </tr>\n",
       "    <tr>\n",
       "      <th>1</th>\n",
       "      <td>광주광역시</td>\n",
       "      <td>동구</td>\n",
       "      <td>대인동</td>\n",
       "      <td>단독</td>\n",
       "      <td>0</td>\n",
       "      <td>일반목구조</td>\n",
       "      <td>98.115</td>\n",
       "      <td>192160.5924</td>\n",
       "      <td>183779.9067</td>\n",
       "      <td>2등급</td>\n",
       "      <td>2025-07-16</td>\n",
       "    </tr>\n",
       "    <tr>\n",
       "      <th>2</th>\n",
       "      <td>광주광역시</td>\n",
       "      <td>동구</td>\n",
       "      <td>대인동</td>\n",
       "      <td>단독</td>\n",
       "      <td>1965</td>\n",
       "      <td>일반목구조</td>\n",
       "      <td>39.660</td>\n",
       "      <td>192436.9433</td>\n",
       "      <td>183844.8592</td>\n",
       "      <td>2등급</td>\n",
       "      <td>2025-07-16</td>\n",
       "    </tr>\n",
       "    <tr>\n",
       "      <th>3</th>\n",
       "      <td>광주광역시</td>\n",
       "      <td>동구</td>\n",
       "      <td>금남로5가</td>\n",
       "      <td>단독</td>\n",
       "      <td>1981</td>\n",
       "      <td>벽돌구조</td>\n",
       "      <td>176.320</td>\n",
       "      <td>191854.7955</td>\n",
       "      <td>183687.0436</td>\n",
       "      <td>1등급</td>\n",
       "      <td>2025-07-16</td>\n",
       "    </tr>\n",
       "    <tr>\n",
       "      <th>4</th>\n",
       "      <td>광주광역시</td>\n",
       "      <td>동구</td>\n",
       "      <td>궁동</td>\n",
       "      <td>단독</td>\n",
       "      <td>1968</td>\n",
       "      <td>벽돌구조</td>\n",
       "      <td>148.080</td>\n",
       "      <td>192572.6725</td>\n",
       "      <td>183428.8097</td>\n",
       "      <td>2등급</td>\n",
       "      <td>2025-07-16</td>\n",
       "    </tr>\n",
       "  </tbody>\n",
       "</table>\n",
       "</div>"
      ],
      "text/plain": [
       "     시도명 시군구명   읍면동명 주택유형  건축년도 건축물대장주구조      연면적           위도           경도  \\\n",
       "0  광주광역시   동구    대인동   그외     0     벽돌구조  139.820  192083.0095  183919.9701   \n",
       "1  광주광역시   동구    대인동   단독     0    일반목구조   98.115  192160.5924  183779.9067   \n",
       "2  광주광역시   동구    대인동   단독  1965    일반목구조   39.660  192436.9433  183844.8592   \n",
       "3  광주광역시   동구  금남로5가   단독  1981     벽돌구조  176.320  191854.7955  183687.0436   \n",
       "4  광주광역시   동구     궁동   단독  1968     벽돌구조  148.080  192572.6725  183428.8097   \n",
       "\n",
       "  등급판정결과     데이터기준일자  \n",
       "0    2등급  2025-07-16  \n",
       "1    2등급  2025-07-16  \n",
       "2    2등급  2025-07-16  \n",
       "3    1등급  2025-07-16  \n",
       "4    2등급  2025-07-16  "
      ]
     },
     "execution_count": 10,
     "metadata": {},
     "output_type": "execute_result"
    }
   ],
   "source": [
    "# 데이터 소스를 확보하세요\n",
    "df = pd.read_csv('data/광주광역시 동구_빈집 현황_20250716.csv', encoding='cp949')\n",
    "df.head()"
   ]
  },
  {
   "cell_type": "markdown",
   "id": "c3b597f4",
   "metadata": {},
   "source": [
    "## 1. 초기데이터 분석"
   ]
  },
  {
   "cell_type": "markdown",
   "id": "913979f3",
   "metadata": {},
   "source": [
    "### 1-2. 데이터 기초정보 확인"
   ]
  },
  {
   "cell_type": "code",
   "execution_count": 23,
   "id": "4213881a-92fb-4064-af2a-25bc73e4299e",
   "metadata": {
    "scrolled": true
   },
   "outputs": [
    {
     "data": {
      "text/plain": [
       "Index(['시도명', '시군구명', '읍면동명', '주택유형', '건축년도', '건축물대장주구조', '연면적', '위도', '경도',\n",
       "       '등급판정결과', '데이터기준일자'],\n",
       "      dtype='object')"
      ]
     },
     "execution_count": 23,
     "metadata": {},
     "output_type": "execute_result"
    }
   ],
   "source": [
    "df.columns"
   ]
  },
  {
   "cell_type": "markdown",
   "id": "2490fcbf-fb9b-42ab-8836-1e972cf93ddc",
   "metadata": {},
   "source": [
    "## 2. 데이터 정제"
   ]
  },
  {
   "cell_type": "code",
   "execution_count": 35,
   "id": "8ab91f37-4d16-4591-8e99-ccb7dede964f",
   "metadata": {
    "scrolled": true
   },
   "outputs": [
    {
     "name": "stdout",
     "output_type": "stream",
     "text": [
      "<class 'pandas.core.frame.DataFrame'>\n",
      "Index: 629 entries, 2 to 647\n",
      "Data columns (total 7 columns):\n",
      " #   Column    Non-Null Count  Dtype  \n",
      "---  ------    --------------  -----  \n",
      " 0   읍면동명      629 non-null    object \n",
      " 1   주택유형      629 non-null    object \n",
      " 2   건축년도      629 non-null    int64  \n",
      " 3   건축물대장주구조  629 non-null    object \n",
      " 4   위도        629 non-null    float64\n",
      " 5   경도        629 non-null    float64\n",
      " 6   등급판정결과    629 non-null    object \n",
      "dtypes: float64(2), int64(1), object(4)\n",
      "memory usage: 39.3+ KB\n"
     ]
    }
   ],
   "source": [
    "df2 = df[['읍면동명', '주택유형', '건축년도', '건축물대장주구조', '위도', '경도', '등급판정결과']]\n",
    "df2.info()"
   ]
  },
  {
   "cell_type": "code",
   "execution_count": 33,
   "id": "7f497c28-3191-4262-aae0-41402e8eaeef",
   "metadata": {},
   "outputs": [
    {
     "name": "stdout",
     "output_type": "stream",
     "text": [
      "<class 'pandas.core.frame.DataFrame'>\n",
      "Index: 629 entries, 2 to 647\n",
      "Data columns (total 7 columns):\n",
      " #   Column    Non-Null Count  Dtype  \n",
      "---  ------    --------------  -----  \n",
      " 0   읍면동명      629 non-null    object \n",
      " 1   주택유형      629 non-null    object \n",
      " 2   건축년도      629 non-null    int64  \n",
      " 3   건축물대장주구조  629 non-null    object \n",
      " 4   위도        629 non-null    float64\n",
      " 5   경도        629 non-null    float64\n",
      " 6   등급판정결과    629 non-null    object \n",
      "dtypes: float64(2), int64(1), object(4)\n",
      "memory usage: 39.3+ KB\n"
     ]
    }
   ],
   "source": [
    "df2 = df2[df2['건축년도'] != 0] # 결측치 '0'인 값을 제거\n",
    "df2.info()"
   ]
  },
  {
   "cell_type": "markdown",
   "id": "9dac0879",
   "metadata": {},
   "source": [
    "## 3. 추가데이터 분석"
   ]
  },
  {
   "cell_type": "markdown",
   "id": "e73d61a5",
   "metadata": {},
   "source": [
    "### 3.1 시각화를 통한 데이터이해 심화"
   ]
  },
  {
   "cell_type": "markdown",
   "id": "5de7dac1-31b5-4138-a9a6-33fbbde9caac",
   "metadata": {},
   "source": [
    "* 데이터의 성격에 따라 이해도를 올리기 위해 시각화가 필요한 데이터차트를 만들어 보세요.  \n",
    "    * (Seaborn 추천: 페어플롯, 막대차트, 파이차트, 라인차트, 히스토그램등..)\n",
    "    * 차트 분석시 hue인자를 활용해서 범주형 열에 대한 추가 분석을 해보세요.\n",
    "* 시각화한 차트에 대한 분석"
   ]
  },
  {
   "cell_type": "markdown",
   "id": "f4fa4f46-073f-4c62-b4ae-54ade39c5251",
   "metadata": {},
   "source": [
    "### 3.2 최종 데이터 분석 결과도출"
   ]
  },
  {
   "cell_type": "markdown",
   "id": "477f095f-e884-4326-af1f-ebea049c3546",
   "metadata": {},
   "source": [
    "* 데이터 분석을 통해 얻은 새로운 지식, 인사이트를 정리하세요.\n",
    "* 새로운 지식 및 인사이트 별 비지니스 전략을 도출할 수 있으면 정리해 보세요"
   ]
  }
 ],
 "metadata": {
  "kernelspec": {
   "display_name": "Python [conda env:base] *",
   "language": "python",
   "name": "conda-base-py"
  },
  "language_info": {
   "codemirror_mode": {
    "name": "ipython",
    "version": 3
   },
   "file_extension": ".py",
   "mimetype": "text/x-python",
   "name": "python",
   "nbconvert_exporter": "python",
   "pygments_lexer": "ipython3",
   "version": "3.12.7"
  }
 },
 "nbformat": 4,
 "nbformat_minor": 5
}
