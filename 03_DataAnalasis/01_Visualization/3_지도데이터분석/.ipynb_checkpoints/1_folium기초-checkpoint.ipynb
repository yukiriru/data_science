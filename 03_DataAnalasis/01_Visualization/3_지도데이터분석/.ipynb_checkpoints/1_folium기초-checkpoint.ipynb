{
 "cells": [
  {
   "cell_type": "markdown",
   "id": "ceb7dbd2",
   "metadata": {},
   "source": [
    "# folium 지도맵 라이브러리 기초"
   ]
  },
  {
   "cell_type": "markdown",
   "id": "46068dce-5017-4dd2-834d-34db78132f61",
   "metadata": {},
   "source": [
    "## 위/경도란?"
   ]
  },
  {
   "cell_type": "markdown",
   "id": "71b6c989-d693-44fd-b341-cef46463e2bc",
   "metadata": {},
   "source": [
    "* 위도(latitude)\n",
    "    * 지구의 적도를 기준으로 북쪽(North)과 남쪽(South)을 나타냄\n",
    "    * 적도는 0도이며, 적도에서 북쪽으로 이동할수록 위도는 증가, 적도에서 남쪽으로 이동할수록 위도는 감소.\n",
    "    * 위도의 범위는 -90도에서 +90도까지이며, 적도가 0도, 북극이 +90, 남극이 -90\n",
    "    * 위도를 통해 지구의 세로 방향 위치를 파악.\n",
    "* 경도(Longitude)\n",
    "    * 지구를 동서로 나누는 선인 자오선(meridian)을 기준으로 동쪽(East)과 서쪽(West)을 나타냄\n",
    "    * 자오선은 그리니치 천문대(Greenwich Observatory)를 기준으로 설정.\n",
    "    * 자오선은 0도이며, 동쪽으로 이동할수록 경도는 증가, 서쪽으로 이동할수록 경도는 감소.\n",
    "    * 경도의 범위는 -180도에서 +180도까지, 동경이 양수, 서경이 음수.\n",
    "    * 경도를 통해 지구의 가로 방향 위치를 파악."
   ]
  },
  {
   "cell_type": "markdown",
   "id": "29e3b932-d61c-49ca-9fa5-f5d3f8f1629a",
   "metadata": {},
   "source": [
    "# 위/경도 좌표 확인하기"
   ]
  },
  {
   "cell_type": "markdown",
   "id": "7689aa5c-4844-48c4-ac55-0aaa761576b0",
   "metadata": {},
   "source": [
    "* 위도, 경도 정보 제공 사이트"
   ]
  },
  {
   "cell_type": "markdown",
   "id": "e8940117-d62d-41b3-ad02-4abca51274fd",
   "metadata": {},
   "source": [
    "https://www.findlatlng.org/"
   ]
  },
  {
   "cell_type": "raw",
   "id": "10e7b6e6-cfea-465d-b850-17dd0f6919ee",
   "metadata": {},
   "source": [
    "원하는 지역, 건물, 상호를 입력하면 위/경도 좌표를 얻을 수 있다."
   ]
  },
  {
   "cell_type": "markdown",
   "id": "6e4c7c97",
   "metadata": {},
   "source": [
    "## 기본 좌표 설정"
   ]
  },
  {
   "cell_type": "markdown",
   "id": "42fea742",
   "metadata": {},
   "source": [
    "* location에 위도, 경도 정보를 입력하여 입력한 위,경도 좌표를 기준으로 지도를 그릴 수 있습니다.\n",
    "니다.\n",
    "* 이때 zoom_start 정보를 지정하여 확대의 정도를 지정할 수 있습니다.  \n",
    "참고: zoom_start의 범위는 최대 18 입니다."
   ]
  },
  {
   "cell_type": "markdown",
   "id": "8cfe79c2",
   "metadata": {},
   "source": [
    "## 대구디지털 혁신진흥원 위도 경도 활용"
   ]
  },
  {
   "cell_type": "markdown",
   "id": "f4594648",
   "metadata": {},
   "source": [
    "## 사이즈 및 popup 메세지 커스터마이징"
   ]
  },
  {
   "cell_type": "markdown",
   "id": "ced4059e",
   "metadata": {},
   "source": [
    "## 아이콘 표시"
   ]
  },
  {
   "cell_type": "markdown",
   "id": "b3664689",
   "metadata": {},
   "source": [
    "## 반경표시"
   ]
  }
 ],
 "metadata": {
  "kernelspec": {
   "display_name": "Python [conda env:base] *",
   "language": "python",
   "name": "conda-base-py"
  },
  "language_info": {
   "codemirror_mode": {
    "name": "ipython",
    "version": 3
   },
   "file_extension": ".py",
   "mimetype": "text/x-python",
   "name": "python",
   "nbconvert_exporter": "python",
   "pygments_lexer": "ipython3",
   "version": "3.13.5"
  }
 },
 "nbformat": 4,
 "nbformat_minor": 5
}
