{
 "cells": [
  {
   "cell_type": "markdown",
   "id": "41aa0ef3-bf51-4f43-b8c4-b82b42b92807",
   "metadata": {},
   "source": [
    "# Seaborn이란?"
   ]
  },
  {
   "cell_type": "markdown",
   "id": "48a8ef3a-2143-4ebc-8820-10a69cc5fada",
   "metadata": {},
   "source": [
    "* 데이터 분석 관점에서 품질 높은 데이터 시각화를 위한 고급 그래프를 쉽게 그릴 수 있게 기능을 제공하는 라이브러리"
   ]
  },
  {
   "cell_type": "markdown",
   "id": "9daa2a19-13c4-49f7-9cac-42c9179d2e17",
   "metadata": {},
   "source": [
    "# 차트에 대한 해석예"
   ]
  },
  {
   "cell_type": "markdown",
   "id": "5418c6f6-cb55-4546-836f-21c37b3bd9ca",
   "metadata": {},
   "source": [
    "# 차트 해석 Tip"
   ]
  },
  {
   "cell_type": "markdown",
   "id": "e82d7c7b-8e9f-4e9b-878a-687db29bff51",
   "metadata": {},
   "source": [
    "* 시각화에 표시된 데이터요소를 그대로 묘사해 본다.\n",
    "* 변곡점, 최대값, 최소값, 경향등을 파악해 본다.\n",
    "* 특별한 특이사힝이 있는지 확인해본다."
   ]
  },
  {
   "cell_type": "markdown",
   "id": "7f9359bb-a0f7-4e3c-882a-f96991263470",
   "metadata": {},
   "source": [
    "#### 회의를 통해 합의된 차트분석내용을 통해 아래 항목이 도출되어야 한다.\n",
    "* 습득한 지식\n",
    "* 인사이트"
   ]
  },
  {
   "cell_type": "markdown",
   "id": "1bfb70b8-ff11-4fc4-9f16-2cd4927938d9",
   "metadata": {},
   "source": [
    "## 차트해석 예"
   ]
  },
  {
   "cell_type": "markdown",
   "id": "fe34bd15",
   "metadata": {},
   "source": [
    "## Seaborn 장점\n",
    "- 통계관점의 보조지표를 자동으로 제공한다.\n",
    "- 그룹별 차트 생성이 용이하다"
   ]
  }
 ],
 "metadata": {
  "kernelspec": {
   "display_name": "Python [conda env:base] *",
   "language": "python",
   "name": "conda-base-py"
  },
  "language_info": {
   "codemirror_mode": {
    "name": "ipython",
    "version": 3
   },
   "file_extension": ".py",
   "mimetype": "text/x-python",
   "name": "python",
   "nbconvert_exporter": "python",
   "pygments_lexer": "ipython3",
   "version": "3.13.5"
  }
 },
 "nbformat": 4,
 "nbformat_minor": 5
}
