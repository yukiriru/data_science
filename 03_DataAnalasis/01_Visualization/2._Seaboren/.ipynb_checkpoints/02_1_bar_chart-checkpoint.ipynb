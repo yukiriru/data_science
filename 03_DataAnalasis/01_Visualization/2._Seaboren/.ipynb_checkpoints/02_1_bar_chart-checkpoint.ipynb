{
 "cells": [
  {
   "cell_type": "code",
   "execution_count": 1,
   "id": "f0a7f18f",
   "metadata": {},
   "outputs": [],
   "source": [
    "import pandas as pd\n",
    "import numpy as np\n",
    "import matplotlib.pyplot as plt\n",
    "from matplotlib import font_manager,rc\n",
    "\n",
    "import random\n",
    "import seaborn as sns\n",
    "\n",
    "font_location = \"C:\\Windows\\Fonts\\malgun.ttf\"\n",
    "font_name = font_manager.FontProperties(fname=font_location).get_name()\n",
    "rc('font',family=font_name)\n",
    "plt.rcParams['axes.unicode_minus'] = False"
   ]
  },
  {
   "cell_type": "markdown",
   "id": "dbc7cc93",
   "metadata": {},
   "source": [
    "## Seaborn 장점"
   ]
  },
  {
   "cell_type": "code",
   "execution_count": 3,
   "id": "4a8b0f5b",
   "metadata": {},
   "outputs": [
    {
     "data": {
      "text/html": [
       "<div>\n",
       "<style scoped>\n",
       "    .dataframe tbody tr th:only-of-type {\n",
       "        vertical-align: middle;\n",
       "    }\n",
       "\n",
       "    .dataframe tbody tr th {\n",
       "        vertical-align: top;\n",
       "    }\n",
       "\n",
       "    .dataframe thead th {\n",
       "        text-align: right;\n",
       "    }\n",
       "</style>\n",
       "<table border=\"1\" class=\"dataframe\">\n",
       "  <thead>\n",
       "    <tr style=\"text-align: right;\">\n",
       "      <th></th>\n",
       "      <th>성별</th>\n",
       "      <th>만족도</th>\n",
       "    </tr>\n",
       "  </thead>\n",
       "  <tbody>\n",
       "    <tr>\n",
       "      <th>0</th>\n",
       "      <td>남성</td>\n",
       "      <td>7.3</td>\n",
       "    </tr>\n",
       "    <tr>\n",
       "      <th>1</th>\n",
       "      <td>여성</td>\n",
       "      <td>8.5</td>\n",
       "    </tr>\n",
       "  </tbody>\n",
       "</table>\n",
       "</div>"
      ],
      "text/plain": [
       "   성별  만족도\n",
       "0  남성  7.3\n",
       "1  여성  8.5"
      ]
     },
     "execution_count": 3,
     "metadata": {},
     "output_type": "execute_result"
    }
   ],
   "source": [
    "df = pd.read_csv(\"만족도결과.csv\")\n",
    "df"
   ]
  },
  {
   "cell_type": "code",
   "execution_count": 4,
   "id": "cc656e09",
   "metadata": {},
   "outputs": [
    {
     "data": {
      "text/plain": [
       "RangeIndex(start=0, stop=2, step=1)"
      ]
     },
     "execution_count": 4,
     "metadata": {},
     "output_type": "execute_result"
    }
   ],
   "source": [
    "df.index"
   ]
  },
  {
   "cell_type": "code",
   "execution_count": 5,
   "id": "0fb53ac5",
   "metadata": {},
   "outputs": [
    {
     "data": {
      "text/plain": [
       "Index(['성별', '만족도'], dtype='object')"
      ]
     },
     "execution_count": 5,
     "metadata": {},
     "output_type": "execute_result"
    }
   ],
   "source": [
    "df.columns"
   ]
  },
  {
   "cell_type": "markdown",
   "id": "85419f25",
   "metadata": {},
   "source": [
    "### matplotlib를 활용하여 막대그래프 생성"
   ]
  },
  {
   "cell_type": "code",
   "execution_count": 7,
   "id": "5ebfc158",
   "metadata": {},
   "outputs": [
    {
     "data": {
      "image/png": "[encoded data removed]",
      "text/plain": [
       "<Figure size 640x480 with 1 Axes>"
      ]
     },
     "metadata": {},
     "output_type": "display_data"
    }
   ],
   "source": [
    "ax = plt.subplot()\n",
    "plt.bar(range(len(df)),\n",
    "        df['만족도'])\n",
    "ax.set_xticks(range(len(df)))\n",
    "ax.set_xticklabels(df.성별)\n",
    "plt.xlabel(df.columns[0])\n",
    "plt.ylabel(df.columns[1])\n",
    "plt.show()"
   ]
  },
  {
   "cell_type": "markdown",
   "id": "9afb9489",
   "metadata": {},
   "source": [
    "### seaborn을 활용하여 동일한 데이터 막대그래프 생성"
   ]
  },
  {
   "cell_type": "markdown",
   "id": "265f1f02-7765-4018-ae51-d09e67a83c5a",
   "metadata": {},
   "source": [
    "* barplot(data, x, y)\n",
    "    * data : 데이터프레임을 지정하면 된다. \n",
    "    * x : 데이터프레임의 어떤 열을 레이블로 지정할지 지정하는 문자열\n",
    "    * y : 데이터프레임의 어떤 열을 값으로 지정할지 지정하는 문자열"
   ]
  },
  {
   "cell_type": "markdown",
   "id": "3ca027bb-e7eb-4924-864c-9cc9d22c4a76",
   "metadata": {},
   "source": [
    "## wide 타입의 분석 데이터에 대한 bar 차트"
   ]
  },
  {
   "cell_type": "code",
   "execution_count": 8,
   "id": "75738ae7",
   "metadata": {},
   "outputs": [
    {
     "data": {
      "image/png": "[encoded data removed]",
      "text/plain": [
       "<Figure size 640x480 with 1 Axes>"
      ]
     },
     "metadata": {},
     "output_type": "display_data"
    }
   ],
   "source": [
    "sns.barplot(data= df, x= \"성별\", y= \"만족도\")\n",
    "plt.show()"
   ]
  },
  {
   "cell_type": "markdown",
   "id": "bd56a938-4780-47a3-8fc2-09dffe0bf8e1",
   "metadata": {},
   "source": [
    "## long형 타입의 Raw 데이터에 대한 bar 차트"
   ]
  },
  {
   "cell_type": "code",
   "execution_count": 18,
   "id": "c5cf720d",
   "metadata": {},
   "outputs": [
    {
     "data": {
      "text/html": [
       "<div>\n",
       "<style scoped>\n",
       "    .dataframe tbody tr th:only-of-type {\n",
       "        vertical-align: middle;\n",
       "    }\n",
       "\n",
       "    .dataframe tbody tr th {\n",
       "        vertical-align: top;\n",
       "    }\n",
       "\n",
       "    .dataframe thead th {\n",
       "        text-align: right;\n",
       "    }\n",
       "</style>\n",
       "<table border=\"1\" class=\"dataframe\">\n",
       "  <thead>\n",
       "    <tr style=\"text-align: right;\">\n",
       "      <th></th>\n",
       "      <th>이름</th>\n",
       "      <th>포인트</th>\n",
       "    </tr>\n",
       "  </thead>\n",
       "  <tbody>\n",
       "    <tr>\n",
       "      <th>0</th>\n",
       "      <td>홍길동</td>\n",
       "      <td>30</td>\n",
       "    </tr>\n",
       "    <tr>\n",
       "      <th>1</th>\n",
       "      <td>이순신</td>\n",
       "      <td>10</td>\n",
       "    </tr>\n",
       "    <tr>\n",
       "      <th>2</th>\n",
       "      <td>홍길동</td>\n",
       "      <td>40</td>\n",
       "    </tr>\n",
       "    <tr>\n",
       "      <th>3</th>\n",
       "      <td>홍길동</td>\n",
       "      <td>10</td>\n",
       "    </tr>\n",
       "    <tr>\n",
       "      <th>4</th>\n",
       "      <td>이순신</td>\n",
       "      <td>15</td>\n",
       "    </tr>\n",
       "    <tr>\n",
       "      <th>5</th>\n",
       "      <td>이순신</td>\n",
       "      <td>25</td>\n",
       "    </tr>\n",
       "  </tbody>\n",
       "</table>\n",
       "</div>"
      ],
      "text/plain": [
       "    이름  포인트\n",
       "0  홍길동   30\n",
       "1  이순신   10\n",
       "2  홍길동   40\n",
       "3  홍길동   10\n",
       "4  이순신   15\n",
       "5  이순신   25"
      ]
     },
     "execution_count": 18,
     "metadata": {},
     "output_type": "execute_result"
    }
   ],
   "source": [
    "df = pd.read_csv(\"포인트.csv\")\n",
    "df"
   ]
  },
  {
   "cell_type": "markdown",
   "id": "bc3f3b1b-ad76-40b7-83b3-3a04e5dd1f11",
   "metadata": {},
   "source": [
    "* matplotlib 방식"
   ]
  },
  {
   "cell_type": "code",
   "execution_count": 19,
   "id": "aeab87af-f0e7-45f9-a307-a1141c265dec",
   "metadata": {},
   "outputs": [],
   "source": [
    "grouped = df.groupby(\"이름\")[\"포인트\"].sum()"
   ]
  },
  {
   "cell_type": "code",
   "execution_count": 20,
   "id": "b694fe65-f0e4-4e78-b631-8a45fc5204ca",
   "metadata": {},
   "outputs": [
    {
     "data": {
      "image/png": "[encoded data removed]",
      "text/plain": [
       "<Figure size 640x480 with 1 Axes>"
      ]
     },
     "metadata": {},
     "output_type": "display_data"
    }
   ],
   "source": [
    "plt.bar(grouped.index, grouped.values)\n",
    "plt.xlabel(\"이름\")\n",
    "plt.ylabel(\"포인트\")\n",
    "plt.show()"
   ]
  },
  {
   "cell_type": "markdown",
   "id": "25933545-2bca-4027-8a38-33ed14a1665d",
   "metadata": {},
   "source": [
    "* Seaborn 방식"
   ]
  },
  {
   "cell_type": "code",
   "execution_count": 21,
   "id": "c731cc62",
   "metadata": {},
   "outputs": [
    {
     "data": {
      "image/png": "[encoded data removed]",
      "text/plain": [
       "<Figure size 640x480 with 1 Axes>"
      ]
     },
     "metadata": {},
     "output_type": "display_data"
    }
   ],
   "source": [
    "sns.barplot(data= df, x= \"이름\", y= \"포인트\")\n",
    "plt.show()\n",
    "# 바의 크기: 평균값 예) 홍길동 포인트 총합: 80, 평균: 26.66\n",
    "# 검정색실선(Error Line): 데이터의 분포(Min~Max) ex) 홍길동 포인트: 10~40"
   ]
  },
  {
   "cell_type": "markdown",
   "id": "da2af475-dff5-46b5-8ea1-a894120afb83",
   "metadata": {},
   "source": [
    "## 장점"
   ]
  },
  {
   "cell_type": "markdown",
   "id": "eb3f7fcd-1edc-4171-9787-1785a44362b8",
   "metadata": {},
   "source": [
    "* 쉽고 빠르게 차트를 만들 수 있다."
   ]
  },
  {
   "cell_type": "markdown",
   "id": "f8fb1e39",
   "metadata": {},
   "source": [
    "* 누적결과도 한 번에 보여준다."
   ]
  },
  {
   "cell_type": "code",
   "execution_count": null,
   "id": "1f3ea606",
   "metadata": {},
   "outputs": [],
   "source": []
  },
  {
   "cell_type": "code",
   "execution_count": null,
   "id": "1a2cc591",
   "metadata": {},
   "outputs": [],
   "source": [
    "titanic = sns.load_dataset(\"titanic\")\n",
    "titanic.head()"
   ]
  },
  {
   "cell_type": "code",
   "execution_count": null,
   "id": "568e5acc",
   "metadata": {},
   "outputs": [],
   "source": [
    "titanic['sex'].value_counts()"
   ]
  },
  {
   "cell_type": "code",
   "execution_count": null,
   "id": "a809d054",
   "metadata": {},
   "outputs": [],
   "source": [
    "sns.barplot(x=\"sex\", y=\"survived\", data=titanic)\n",
    "plt.show()"
   ]
  },
  {
   "cell_type": "code",
   "execution_count": null,
   "id": "545b6f97",
   "metadata": {},
   "outputs": [],
   "source": [
    "sns.barplot(x=\"sex\", y=\"survived\", hue='class', data=titanic)\n",
    "plt.show()"
   ]
  },
  {
   "cell_type": "code",
   "execution_count": null,
   "id": "7f83f9a3",
   "metadata": {},
   "outputs": [],
   "source": []
  }
 ],
 "metadata": {
  "kernelspec": {
   "display_name": "Python [conda env:base] *",
   "language": "python",
   "name": "conda-base-py"
  },
  "language_info": {
   "codemirror_mode": {
    "name": "ipython",
    "version": 3
   },
   "file_extension": ".py",
   "mimetype": "text/x-python",
   "name": "python",
   "nbconvert_exporter": "python",
   "pygments_lexer": "ipython3",
   "version": "3.13.5"
  }
 },
 "nbformat": 4,
 "nbformat_minor": 5
}
