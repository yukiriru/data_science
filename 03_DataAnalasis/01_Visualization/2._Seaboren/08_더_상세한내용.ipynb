{
 "cells": [
  {
   "cell_type": "markdown",
   "id": "20eb5dad-38fa-4435-8c4a-8b852f2ec54c",
   "metadata": {},
   "source": [
    "# Seaborn 사용자 가이드 및 튜토리얼"
   ]
  },
  {
   "cell_type": "markdown",
   "id": "c10b056b-c369-46d9-a997-0b0db9657533",
   "metadata": {},
   "source": [
    "https://seaborn.pydata.org/tutorial.html"
   ]
  }
 ],
 "metadata": {
  "kernelspec": {
   "display_name": "Python 3 (ipykernel)",
   "language": "python",
   "name": "python3"
  },
  "language_info": {
   "codemirror_mode": {
    "name": "ipython",
    "version": 3
   },
   "file_extension": ".py",
   "mimetype": "text/x-python",
   "name": "python",
   "nbconvert_exporter": "python",
   "pygments_lexer": "ipython3",
   "version": "3.11.7"
  }
 },
 "nbformat": 4,
 "nbformat_minor": 5
}
