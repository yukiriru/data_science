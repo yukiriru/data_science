{
 "cells": [
  {
   "cell_type": "code",
   "execution_count": 117,
   "id": "00e9893e-fad7-42fc-9da7-04048c7a39dd",
   "metadata": {},
   "outputs": [],
   "source": [
    "import pandas as pd\n",
    "import numpy as np\n",
    "import matplotlib.pyplot as plt\n",
    "%matplotlib inline\n",
    "from matplotlib import font_manager,rc\n",
    "import seaborn as sns\n",
    "# 한글 폰트\n",
    "font_location = \"C:\\Windows\\Fonts\\malgun.ttf\"\n",
    "font_name = font_manager.FontProperties(fname=font_location).get_name()\n",
    "rc('font',family=font_name)"
   ]
  },
  {
   "cell_type": "markdown",
   "id": "2145e5ae-8c85-45ac-904a-3b08c2a1b9f0",
   "metadata": {},
   "source": [
    "# 데이터 선정"
   ]
  },
  {
   "cell_type": "markdown",
   "id": "01183879-fb85-4855-80de-1ba4f0f12fc4",
   "metadata": {},
   "source": [
    "* 공공데이터 포털에서 csv 파일 검색"
   ]
  },
  {
   "cell_type": "raw",
   "id": "d1d122ce-250e-49cd-9348-9a33f8afd6c5",
   "metadata": {},
   "source": [
    "수치형 데이터가 아닌 범주형 문자열 데이터"
   ]
  },
  {
   "cell_type": "markdown",
   "id": "ae917d68-e092-47d4-992b-b47029e5f9b3",
   "metadata": {},
   "source": [
    "# 데이터 읽기"
   ]
  },
  {
   "cell_type": "code",
   "execution_count": 81,
   "id": "443334c9-f862-4e30-9512-a96c3fd6da5e",
   "metadata": {},
   "outputs": [
    {
     "data": {
      "text/html": [
       "<div>\n",
       "<style scoped>\n",
       "    .dataframe tbody tr th:only-of-type {\n",
       "        vertical-align: middle;\n",
       "    }\n",
       "\n",
       "    .dataframe tbody tr th {\n",
       "        vertical-align: top;\n",
       "    }\n",
       "\n",
       "    .dataframe thead th {\n",
       "        text-align: right;\n",
       "    }\n",
       "</style>\n",
       "<table border=\"1\" class=\"dataframe\">\n",
       "  <thead>\n",
       "    <tr style=\"text-align: right;\">\n",
       "      <th></th>\n",
       "      <th>지표연도</th>\n",
       "      <th>시도</th>\n",
       "      <th>시군구</th>\n",
       "      <th>지표명</th>\n",
       "      <th>분모(명)</th>\n",
       "      <th>분자(명)</th>\n",
       "      <th>지표값(퍼센트)</th>\n",
       "    </tr>\n",
       "  </thead>\n",
       "  <tbody>\n",
       "    <tr>\n",
       "      <th>0</th>\n",
       "      <td>2023</td>\n",
       "      <td>전국</td>\n",
       "      <td>전체</td>\n",
       "      <td>당뇨병의료이용률</td>\n",
       "      <td>51064994</td>\n",
       "      <td>4870159</td>\n",
       "      <td>9.54</td>\n",
       "    </tr>\n",
       "    <tr>\n",
       "      <th>1</th>\n",
       "      <td>2023</td>\n",
       "      <td>서울특별시</td>\n",
       "      <td>전체</td>\n",
       "      <td>당뇨병의료이용률</td>\n",
       "      <td>9427029</td>\n",
       "      <td>813683</td>\n",
       "      <td>8.63</td>\n",
       "    </tr>\n",
       "    <tr>\n",
       "      <th>2</th>\n",
       "      <td>2023</td>\n",
       "      <td>서울특별시</td>\n",
       "      <td>종로구</td>\n",
       "      <td>당뇨병의료이용률</td>\n",
       "      <td>143726</td>\n",
       "      <td>12855</td>\n",
       "      <td>8.94</td>\n",
       "    </tr>\n",
       "    <tr>\n",
       "      <th>3</th>\n",
       "      <td>2023</td>\n",
       "      <td>서울특별시</td>\n",
       "      <td>중구</td>\n",
       "      <td>당뇨병의료이용률</td>\n",
       "      <td>123894</td>\n",
       "      <td>11714</td>\n",
       "      <td>9.45</td>\n",
       "    </tr>\n",
       "    <tr>\n",
       "      <th>4</th>\n",
       "      <td>2023</td>\n",
       "      <td>서울특별시</td>\n",
       "      <td>용산구</td>\n",
       "      <td>당뇨병의료이용률</td>\n",
       "      <td>216960</td>\n",
       "      <td>17959</td>\n",
       "      <td>8.28</td>\n",
       "    </tr>\n",
       "    <tr>\n",
       "      <th>5</th>\n",
       "      <td>2023</td>\n",
       "      <td>서울특별시</td>\n",
       "      <td>성동구</td>\n",
       "      <td>당뇨병의료이용률</td>\n",
       "      <td>280822</td>\n",
       "      <td>23991</td>\n",
       "      <td>8.54</td>\n",
       "    </tr>\n",
       "    <tr>\n",
       "      <th>6</th>\n",
       "      <td>2023</td>\n",
       "      <td>서울특별시</td>\n",
       "      <td>광진구</td>\n",
       "      <td>당뇨병의료이용률</td>\n",
       "      <td>343954</td>\n",
       "      <td>27997</td>\n",
       "      <td>8.14</td>\n",
       "    </tr>\n",
       "    <tr>\n",
       "      <th>7</th>\n",
       "      <td>2023</td>\n",
       "      <td>서울특별시</td>\n",
       "      <td>동대문구</td>\n",
       "      <td>당뇨병의료이용률</td>\n",
       "      <td>341531</td>\n",
       "      <td>32756</td>\n",
       "      <td>9.59</td>\n",
       "    </tr>\n",
       "    <tr>\n",
       "      <th>8</th>\n",
       "      <td>2023</td>\n",
       "      <td>서울특별시</td>\n",
       "      <td>중랑구</td>\n",
       "      <td>당뇨병의료이용률</td>\n",
       "      <td>380612</td>\n",
       "      <td>40582</td>\n",
       "      <td>10.66</td>\n",
       "    </tr>\n",
       "    <tr>\n",
       "      <th>9</th>\n",
       "      <td>2023</td>\n",
       "      <td>서울특별시</td>\n",
       "      <td>성북구</td>\n",
       "      <td>당뇨병의료이용률</td>\n",
       "      <td>427777</td>\n",
       "      <td>39489</td>\n",
       "      <td>9.23</td>\n",
       "    </tr>\n",
       "    <tr>\n",
       "      <th>10</th>\n",
       "      <td>2023</td>\n",
       "      <td>서울특별시</td>\n",
       "      <td>강북구</td>\n",
       "      <td>당뇨병의료이용률</td>\n",
       "      <td>289926</td>\n",
       "      <td>33571</td>\n",
       "      <td>11.58</td>\n",
       "    </tr>\n",
       "    <tr>\n",
       "      <th>11</th>\n",
       "      <td>2023</td>\n",
       "      <td>서울특별시</td>\n",
       "      <td>도봉구</td>\n",
       "      <td>당뇨병의료이용률</td>\n",
       "      <td>305937</td>\n",
       "      <td>32951</td>\n",
       "      <td>10.77</td>\n",
       "    </tr>\n",
       "    <tr>\n",
       "      <th>12</th>\n",
       "      <td>2023</td>\n",
       "      <td>서울특별시</td>\n",
       "      <td>노원구</td>\n",
       "      <td>당뇨병의료이용률</td>\n",
       "      <td>493649</td>\n",
       "      <td>45634</td>\n",
       "      <td>9.24</td>\n",
       "    </tr>\n",
       "    <tr>\n",
       "      <th>13</th>\n",
       "      <td>2023</td>\n",
       "      <td>서울특별시</td>\n",
       "      <td>은평구</td>\n",
       "      <td>당뇨병의료이용률</td>\n",
       "      <td>458696</td>\n",
       "      <td>45364</td>\n",
       "      <td>9.89</td>\n",
       "    </tr>\n",
       "    <tr>\n",
       "      <th>14</th>\n",
       "      <td>2023</td>\n",
       "      <td>서울특별시</td>\n",
       "      <td>서대문구</td>\n",
       "      <td>당뇨병의료이용률</td>\n",
       "      <td>307642</td>\n",
       "      <td>27289</td>\n",
       "      <td>8.87</td>\n",
       "    </tr>\n",
       "    <tr>\n",
       "      <th>15</th>\n",
       "      <td>2023</td>\n",
       "      <td>서울특별시</td>\n",
       "      <td>마포구</td>\n",
       "      <td>당뇨병의료이용률</td>\n",
       "      <td>363418</td>\n",
       "      <td>27263</td>\n",
       "      <td>7.50</td>\n",
       "    </tr>\n",
       "    <tr>\n",
       "      <th>16</th>\n",
       "      <td>2023</td>\n",
       "      <td>서울특별시</td>\n",
       "      <td>양천구</td>\n",
       "      <td>당뇨병의료이용률</td>\n",
       "      <td>433188</td>\n",
       "      <td>36161</td>\n",
       "      <td>8.35</td>\n",
       "    </tr>\n",
       "    <tr>\n",
       "      <th>17</th>\n",
       "      <td>2023</td>\n",
       "      <td>서울특별시</td>\n",
       "      <td>강서구</td>\n",
       "      <td>당뇨병의료이용률</td>\n",
       "      <td>562354</td>\n",
       "      <td>50143</td>\n",
       "      <td>8.92</td>\n",
       "    </tr>\n",
       "    <tr>\n",
       "      <th>18</th>\n",
       "      <td>2023</td>\n",
       "      <td>서울특별시</td>\n",
       "      <td>구로구</td>\n",
       "      <td>당뇨병의료이용률</td>\n",
       "      <td>421247</td>\n",
       "      <td>39042</td>\n",
       "      <td>9.27</td>\n",
       "    </tr>\n",
       "    <tr>\n",
       "      <th>19</th>\n",
       "      <td>2023</td>\n",
       "      <td>서울특별시</td>\n",
       "      <td>금천구</td>\n",
       "      <td>당뇨병의료이용률</td>\n",
       "      <td>245194</td>\n",
       "      <td>24940</td>\n",
       "      <td>10.17</td>\n",
       "    </tr>\n",
       "  </tbody>\n",
       "</table>\n",
       "</div>"
      ],
      "text/plain": [
       "    지표연도     시도   시군구       지표명     분모(명)    분자(명)  지표값(퍼센트)\n",
       "0   2023     전국    전체  당뇨병의료이용률  51064994  4870159      9.54\n",
       "1   2023  서울특별시    전체  당뇨병의료이용률   9427029   813683      8.63\n",
       "2   2023  서울특별시   종로구  당뇨병의료이용률    143726    12855      8.94\n",
       "3   2023  서울특별시    중구  당뇨병의료이용률    123894    11714      9.45\n",
       "4   2023  서울특별시   용산구  당뇨병의료이용률    216960    17959      8.28\n",
       "5   2023  서울특별시   성동구  당뇨병의료이용률    280822    23991      8.54\n",
       "6   2023  서울특별시   광진구  당뇨병의료이용률    343954    27997      8.14\n",
       "7   2023  서울특별시  동대문구  당뇨병의료이용률    341531    32756      9.59\n",
       "8   2023  서울특별시   중랑구  당뇨병의료이용률    380612    40582     10.66\n",
       "9   2023  서울특별시   성북구  당뇨병의료이용률    427777    39489      9.23\n",
       "10  2023  서울특별시   강북구  당뇨병의료이용률    289926    33571     11.58\n",
       "11  2023  서울특별시   도봉구  당뇨병의료이용률    305937    32951     10.77\n",
       "12  2023  서울특별시   노원구  당뇨병의료이용률    493649    45634      9.24\n",
       "13  2023  서울특별시   은평구  당뇨병의료이용률    458696    45364      9.89\n",
       "14  2023  서울특별시  서대문구  당뇨병의료이용률    307642    27289      8.87\n",
       "15  2023  서울특별시   마포구  당뇨병의료이용률    363418    27263      7.50\n",
       "16  2023  서울특별시   양천구  당뇨병의료이용률    433188    36161      8.35\n",
       "17  2023  서울특별시   강서구  당뇨병의료이용률    562354    50143      8.92\n",
       "18  2023  서울특별시   구로구  당뇨병의료이용률    421247    39042      9.27\n",
       "19  2023  서울특별시   금천구  당뇨병의료이용률    245194    24940     10.17"
      ]
     },
     "execution_count": 81,
     "metadata": {},
     "output_type": "execute_result"
    }
   ],
   "source": [
    "df = pd.read_csv(\"국민건강보험공단_당뇨병의료이용률_20231231.CSV\", encoding='cp949')\n",
    "df.head(20)"
   ]
  },
  {
   "cell_type": "code",
   "execution_count": 82,
   "id": "74ef4127-5be2-4ebd-a1b7-0fbe65bf61e9",
   "metadata": {},
   "outputs": [
    {
     "data": {
      "text/plain": [
       "Index(['지표연도', '시도', '시군구', '지표명', '분모(명)', '분자(명)', '지표값(퍼센트)'], dtype='object')"
      ]
     },
     "execution_count": 82,
     "metadata": {},
     "output_type": "execute_result"
    }
   ],
   "source": [
    "df.columns"
   ]
  },
  {
   "cell_type": "code",
   "execution_count": 83,
   "id": "a7dc7fa7-2fda-49e4-8238-6fff493b1192",
   "metadata": {},
   "outputs": [
    {
     "data": {
      "text/plain": [
       "array(['전국', '서울특별시', '부산광역시', '대구광역시', '인천광역시', '광주광역시', '대전광역시',\n",
       "       '울산광역시', '세종특별자치시', '경기도', '강원도', '충청북도', '충청남도', '전라북도', '전라남도',\n",
       "       '경상북도', '경상남도', '제주특별자치도'], dtype=object)"
      ]
     },
     "execution_count": 83,
     "metadata": {},
     "output_type": "execute_result"
    }
   ],
   "source": [
    "df['시도'].unique()"
   ]
  },
  {
   "cell_type": "code",
   "execution_count": 84,
   "id": "ff35b529-20de-415c-9f21-6e8e1eebde21",
   "metadata": {
    "scrolled": true
   },
   "outputs": [
    {
     "data": {
      "text/plain": [
       "시도\n",
       "경기도        43\n",
       "서울특별시      26\n",
       "경상북도       25\n",
       "전라남도       23\n",
       "경상남도       23\n",
       "강원도        19\n",
       "충청남도       17\n",
       "부산광역시      17\n",
       "전라북도       16\n",
       "충청북도       15\n",
       "인천광역시      11\n",
       "대구광역시       9\n",
       "대전광역시       6\n",
       "광주광역시       6\n",
       "울산광역시       6\n",
       "제주특별자치도     3\n",
       "세종특별자치시     2\n",
       "전국          1\n",
       "Name: count, dtype: int64"
      ]
     },
     "execution_count": 84,
     "metadata": {},
     "output_type": "execute_result"
    }
   ],
   "source": [
    "df.시도.value_counts()"
   ]
  },
  {
   "cell_type": "markdown",
   "id": "a6783ceb-6b3a-4182-addb-66cb746520d5",
   "metadata": {},
   "source": [
    "* 비고열이 범주형 분석에 가장 적합하고 추가 분석이 가능함"
   ]
  },
  {
   "cell_type": "markdown",
   "id": "b62563fe-a6cb-4f34-98d0-7b8abf489281",
   "metadata": {},
   "source": [
    "# 데이터 기본 분석"
   ]
  },
  {
   "cell_type": "code",
   "execution_count": 85,
   "id": "d97b22e2-5281-40d7-8aeb-79ae37ad2b97",
   "metadata": {},
   "outputs": [
    {
     "name": "stdout",
     "output_type": "stream",
     "text": [
      "<class 'pandas.core.frame.DataFrame'>\n",
      "RangeIndex: 268 entries, 0 to 267\n",
      "Data columns (total 7 columns):\n",
      " #   Column    Non-Null Count  Dtype  \n",
      "---  ------    --------------  -----  \n",
      " 0   지표연도      268 non-null    int64  \n",
      " 1   시도        268 non-null    object \n",
      " 2   시군구       268 non-null    object \n",
      " 3   지표명       268 non-null    object \n",
      " 4   분모(명)     268 non-null    int64  \n",
      " 5   분자(명)     268 non-null    int64  \n",
      " 6   지표값(퍼센트)  268 non-null    float64\n",
      "dtypes: float64(1), int64(3), object(3)\n",
      "memory usage: 14.8+ KB\n"
     ]
    }
   ],
   "source": [
    "df.info()"
   ]
  },
  {
   "cell_type": "markdown",
   "id": "1f754515-54bf-44a5-ae77-f541530e2ba7",
   "metadata": {},
   "source": [
    "# 데이터 전처리"
   ]
  },
  {
   "cell_type": "markdown",
   "id": "6ab576e9-bf96-4478-b102-1bffbb4d35c1",
   "metadata": {},
   "source": [
    "* 결측치\n",
    "* 이상치\n",
    "* 중복데이터"
   ]
  },
  {
   "cell_type": "raw",
   "id": "d417459e-c4ab-46a1-a43a-37d936584261",
   "metadata": {},
   "source": [
    "특이 사항없음"
   ]
  },
  {
   "cell_type": "code",
   "execution_count": 86,
   "id": "6a394fbd-6dac-45a8-9bde-c1ec779b8821",
   "metadata": {},
   "outputs": [
    {
     "data": {
      "text/html": [
       "<div>\n",
       "<style scoped>\n",
       "    .dataframe tbody tr th:only-of-type {\n",
       "        vertical-align: middle;\n",
       "    }\n",
       "\n",
       "    .dataframe tbody tr th {\n",
       "        vertical-align: top;\n",
       "    }\n",
       "\n",
       "    .dataframe thead th {\n",
       "        text-align: right;\n",
       "    }\n",
       "</style>\n",
       "<table border=\"1\" class=\"dataframe\">\n",
       "  <thead>\n",
       "    <tr style=\"text-align: right;\">\n",
       "      <th></th>\n",
       "      <th>지표연도</th>\n",
       "      <th>시도</th>\n",
       "      <th>시군구</th>\n",
       "      <th>지표명</th>\n",
       "      <th>분모(명)</th>\n",
       "      <th>분자(명)</th>\n",
       "      <th>지표값(퍼센트)</th>\n",
       "    </tr>\n",
       "  </thead>\n",
       "  <tbody>\n",
       "    <tr>\n",
       "      <th>0</th>\n",
       "      <td>2023</td>\n",
       "      <td>전국</td>\n",
       "      <td>전체</td>\n",
       "      <td>당뇨병의료이용률</td>\n",
       "      <td>51064994</td>\n",
       "      <td>4870159</td>\n",
       "      <td>9.54</td>\n",
       "    </tr>\n",
       "    <tr>\n",
       "      <th>1</th>\n",
       "      <td>2023</td>\n",
       "      <td>서울특별시</td>\n",
       "      <td>전체</td>\n",
       "      <td>당뇨병의료이용률</td>\n",
       "      <td>9427029</td>\n",
       "      <td>813683</td>\n",
       "      <td>8.63</td>\n",
       "    </tr>\n",
       "    <tr>\n",
       "      <th>27</th>\n",
       "      <td>2023</td>\n",
       "      <td>부산광역시</td>\n",
       "      <td>전체</td>\n",
       "      <td>당뇨병의료이용률</td>\n",
       "      <td>3259808</td>\n",
       "      <td>336380</td>\n",
       "      <td>10.32</td>\n",
       "    </tr>\n",
       "    <tr>\n",
       "      <th>44</th>\n",
       "      <td>2023</td>\n",
       "      <td>대구광역시</td>\n",
       "      <td>전체</td>\n",
       "      <td>당뇨병의료이용률</td>\n",
       "      <td>2318105</td>\n",
       "      <td>222507</td>\n",
       "      <td>9.60</td>\n",
       "    </tr>\n",
       "    <tr>\n",
       "      <th>53</th>\n",
       "      <td>2023</td>\n",
       "      <td>인천광역시</td>\n",
       "      <td>전체</td>\n",
       "      <td>당뇨병의료이용률</td>\n",
       "      <td>2964211</td>\n",
       "      <td>288201</td>\n",
       "      <td>9.72</td>\n",
       "    </tr>\n",
       "    <tr>\n",
       "      <th>64</th>\n",
       "      <td>2023</td>\n",
       "      <td>광주광역시</td>\n",
       "      <td>전체</td>\n",
       "      <td>당뇨병의료이용률</td>\n",
       "      <td>1411754</td>\n",
       "      <td>121782</td>\n",
       "      <td>8.63</td>\n",
       "    </tr>\n",
       "    <tr>\n",
       "      <th>70</th>\n",
       "      <td>2023</td>\n",
       "      <td>대전광역시</td>\n",
       "      <td>전체</td>\n",
       "      <td>당뇨병의료이용률</td>\n",
       "      <td>1416626</td>\n",
       "      <td>128528</td>\n",
       "      <td>9.07</td>\n",
       "    </tr>\n",
       "    <tr>\n",
       "      <th>76</th>\n",
       "      <td>2023</td>\n",
       "      <td>울산광역시</td>\n",
       "      <td>전체</td>\n",
       "      <td>당뇨병의료이용률</td>\n",
       "      <td>1104873</td>\n",
       "      <td>96518</td>\n",
       "      <td>8.74</td>\n",
       "    </tr>\n",
       "    <tr>\n",
       "      <th>82</th>\n",
       "      <td>2023</td>\n",
       "      <td>세종특별자치시</td>\n",
       "      <td>전체</td>\n",
       "      <td>당뇨병의료이용률</td>\n",
       "      <td>369237</td>\n",
       "      <td>23503</td>\n",
       "      <td>6.37</td>\n",
       "    </tr>\n",
       "    <tr>\n",
       "      <th>84</th>\n",
       "      <td>2023</td>\n",
       "      <td>경기도</td>\n",
       "      <td>전체</td>\n",
       "      <td>당뇨병의료이용률</td>\n",
       "      <td>13593887</td>\n",
       "      <td>1210929</td>\n",
       "      <td>8.91</td>\n",
       "    </tr>\n",
       "    <tr>\n",
       "      <th>127</th>\n",
       "      <td>2023</td>\n",
       "      <td>강원도</td>\n",
       "      <td>전체</td>\n",
       "      <td>당뇨병의료이용률</td>\n",
       "      <td>1453389</td>\n",
       "      <td>172166</td>\n",
       "      <td>11.85</td>\n",
       "    </tr>\n",
       "    <tr>\n",
       "      <th>146</th>\n",
       "      <td>2023</td>\n",
       "      <td>충청북도</td>\n",
       "      <td>전체</td>\n",
       "      <td>당뇨병의료이용률</td>\n",
       "      <td>1589653</td>\n",
       "      <td>168260</td>\n",
       "      <td>10.58</td>\n",
       "    </tr>\n",
       "    <tr>\n",
       "      <th>161</th>\n",
       "      <td>2023</td>\n",
       "      <td>충청남도</td>\n",
       "      <td>전체</td>\n",
       "      <td>당뇨병의료이용률</td>\n",
       "      <td>2131563</td>\n",
       "      <td>226322</td>\n",
       "      <td>10.62</td>\n",
       "    </tr>\n",
       "    <tr>\n",
       "      <th>178</th>\n",
       "      <td>2023</td>\n",
       "      <td>전라북도</td>\n",
       "      <td>전체</td>\n",
       "      <td>당뇨병의료이용률</td>\n",
       "      <td>1751851</td>\n",
       "      <td>194209</td>\n",
       "      <td>11.09</td>\n",
       "    </tr>\n",
       "    <tr>\n",
       "      <th>194</th>\n",
       "      <td>2023</td>\n",
       "      <td>전라남도</td>\n",
       "      <td>전체</td>\n",
       "      <td>당뇨병의료이용률</td>\n",
       "      <td>1797627</td>\n",
       "      <td>214544</td>\n",
       "      <td>11.93</td>\n",
       "    </tr>\n",
       "    <tr>\n",
       "      <th>217</th>\n",
       "      <td>2023</td>\n",
       "      <td>경상북도</td>\n",
       "      <td>전체</td>\n",
       "      <td>당뇨병의료이용률</td>\n",
       "      <td>2571471</td>\n",
       "      <td>289117</td>\n",
       "      <td>11.24</td>\n",
       "    </tr>\n",
       "    <tr>\n",
       "      <th>242</th>\n",
       "      <td>2023</td>\n",
       "      <td>경상남도</td>\n",
       "      <td>전체</td>\n",
       "      <td>당뇨병의료이용률</td>\n",
       "      <td>3229921</td>\n",
       "      <td>308299</td>\n",
       "      <td>9.55</td>\n",
       "    </tr>\n",
       "    <tr>\n",
       "      <th>265</th>\n",
       "      <td>2023</td>\n",
       "      <td>제주특별자치도</td>\n",
       "      <td>전체</td>\n",
       "      <td>당뇨병의료이용률</td>\n",
       "      <td>673989</td>\n",
       "      <td>55211</td>\n",
       "      <td>8.19</td>\n",
       "    </tr>\n",
       "  </tbody>\n",
       "</table>\n",
       "</div>"
      ],
      "text/plain": [
       "     지표연도       시도 시군구       지표명     분모(명)    분자(명)  지표값(퍼센트)\n",
       "0    2023       전국  전체  당뇨병의료이용률  51064994  4870159      9.54\n",
       "1    2023    서울특별시  전체  당뇨병의료이용률   9427029   813683      8.63\n",
       "27   2023    부산광역시  전체  당뇨병의료이용률   3259808   336380     10.32\n",
       "44   2023    대구광역시  전체  당뇨병의료이용률   2318105   222507      9.60\n",
       "53   2023    인천광역시  전체  당뇨병의료이용률   2964211   288201      9.72\n",
       "64   2023    광주광역시  전체  당뇨병의료이용률   1411754   121782      8.63\n",
       "70   2023    대전광역시  전체  당뇨병의료이용률   1416626   128528      9.07\n",
       "76   2023    울산광역시  전체  당뇨병의료이용률   1104873    96518      8.74\n",
       "82   2023  세종특별자치시  전체  당뇨병의료이용률    369237    23503      6.37\n",
       "84   2023      경기도  전체  당뇨병의료이용률  13593887  1210929      8.91\n",
       "127  2023      강원도  전체  당뇨병의료이용률   1453389   172166     11.85\n",
       "146  2023     충청북도  전체  당뇨병의료이용률   1589653   168260     10.58\n",
       "161  2023     충청남도  전체  당뇨병의료이용률   2131563   226322     10.62\n",
       "178  2023     전라북도  전체  당뇨병의료이용률   1751851   194209     11.09\n",
       "194  2023     전라남도  전체  당뇨병의료이용률   1797627   214544     11.93\n",
       "217  2023     경상북도  전체  당뇨병의료이용률   2571471   289117     11.24\n",
       "242  2023     경상남도  전체  당뇨병의료이용률   3229921   308299      9.55\n",
       "265  2023  제주특별자치도  전체  당뇨병의료이용률    673989    55211      8.19"
      ]
     },
     "execution_count": 86,
     "metadata": {},
     "output_type": "execute_result"
    }
   ],
   "source": [
    "df_g=df[df['시군구'] == '전체']\n",
    "df_g"
   ]
  },
  {
   "cell_type": "code",
   "execution_count": 87,
   "id": "4a3244db-ca98-4bc5-a228-0adfad245031",
   "metadata": {},
   "outputs": [
    {
     "data": {
      "text/html": [
       "<div>\n",
       "<style scoped>\n",
       "    .dataframe tbody tr th:only-of-type {\n",
       "        vertical-align: middle;\n",
       "    }\n",
       "\n",
       "    .dataframe tbody tr th {\n",
       "        vertical-align: top;\n",
       "    }\n",
       "\n",
       "    .dataframe thead th {\n",
       "        text-align: right;\n",
       "    }\n",
       "</style>\n",
       "<table border=\"1\" class=\"dataframe\">\n",
       "  <thead>\n",
       "    <tr style=\"text-align: right;\">\n",
       "      <th></th>\n",
       "      <th>지표연도</th>\n",
       "      <th>시도</th>\n",
       "      <th>시군구</th>\n",
       "      <th>지표명</th>\n",
       "      <th>분모(명)</th>\n",
       "      <th>분자(명)</th>\n",
       "      <th>지표값(퍼센트)</th>\n",
       "    </tr>\n",
       "  </thead>\n",
       "  <tbody>\n",
       "    <tr>\n",
       "      <th>1</th>\n",
       "      <td>2023</td>\n",
       "      <td>서울특별시</td>\n",
       "      <td>전체</td>\n",
       "      <td>당뇨병의료이용률</td>\n",
       "      <td>9427029</td>\n",
       "      <td>813683</td>\n",
       "      <td>8.63</td>\n",
       "    </tr>\n",
       "    <tr>\n",
       "      <th>27</th>\n",
       "      <td>2023</td>\n",
       "      <td>부산광역시</td>\n",
       "      <td>전체</td>\n",
       "      <td>당뇨병의료이용률</td>\n",
       "      <td>3259808</td>\n",
       "      <td>336380</td>\n",
       "      <td>10.32</td>\n",
       "    </tr>\n",
       "    <tr>\n",
       "      <th>44</th>\n",
       "      <td>2023</td>\n",
       "      <td>대구광역시</td>\n",
       "      <td>전체</td>\n",
       "      <td>당뇨병의료이용률</td>\n",
       "      <td>2318105</td>\n",
       "      <td>222507</td>\n",
       "      <td>9.60</td>\n",
       "    </tr>\n",
       "    <tr>\n",
       "      <th>53</th>\n",
       "      <td>2023</td>\n",
       "      <td>인천광역시</td>\n",
       "      <td>전체</td>\n",
       "      <td>당뇨병의료이용률</td>\n",
       "      <td>2964211</td>\n",
       "      <td>288201</td>\n",
       "      <td>9.72</td>\n",
       "    </tr>\n",
       "    <tr>\n",
       "      <th>64</th>\n",
       "      <td>2023</td>\n",
       "      <td>광주광역시</td>\n",
       "      <td>전체</td>\n",
       "      <td>당뇨병의료이용률</td>\n",
       "      <td>1411754</td>\n",
       "      <td>121782</td>\n",
       "      <td>8.63</td>\n",
       "    </tr>\n",
       "    <tr>\n",
       "      <th>70</th>\n",
       "      <td>2023</td>\n",
       "      <td>대전광역시</td>\n",
       "      <td>전체</td>\n",
       "      <td>당뇨병의료이용률</td>\n",
       "      <td>1416626</td>\n",
       "      <td>128528</td>\n",
       "      <td>9.07</td>\n",
       "    </tr>\n",
       "    <tr>\n",
       "      <th>76</th>\n",
       "      <td>2023</td>\n",
       "      <td>울산광역시</td>\n",
       "      <td>전체</td>\n",
       "      <td>당뇨병의료이용률</td>\n",
       "      <td>1104873</td>\n",
       "      <td>96518</td>\n",
       "      <td>8.74</td>\n",
       "    </tr>\n",
       "    <tr>\n",
       "      <th>82</th>\n",
       "      <td>2023</td>\n",
       "      <td>세종특별자치시</td>\n",
       "      <td>전체</td>\n",
       "      <td>당뇨병의료이용률</td>\n",
       "      <td>369237</td>\n",
       "      <td>23503</td>\n",
       "      <td>6.37</td>\n",
       "    </tr>\n",
       "    <tr>\n",
       "      <th>84</th>\n",
       "      <td>2023</td>\n",
       "      <td>경기도</td>\n",
       "      <td>전체</td>\n",
       "      <td>당뇨병의료이용률</td>\n",
       "      <td>13593887</td>\n",
       "      <td>1210929</td>\n",
       "      <td>8.91</td>\n",
       "    </tr>\n",
       "    <tr>\n",
       "      <th>127</th>\n",
       "      <td>2023</td>\n",
       "      <td>강원도</td>\n",
       "      <td>전체</td>\n",
       "      <td>당뇨병의료이용률</td>\n",
       "      <td>1453389</td>\n",
       "      <td>172166</td>\n",
       "      <td>11.85</td>\n",
       "    </tr>\n",
       "    <tr>\n",
       "      <th>146</th>\n",
       "      <td>2023</td>\n",
       "      <td>충청북도</td>\n",
       "      <td>전체</td>\n",
       "      <td>당뇨병의료이용률</td>\n",
       "      <td>1589653</td>\n",
       "      <td>168260</td>\n",
       "      <td>10.58</td>\n",
       "    </tr>\n",
       "    <tr>\n",
       "      <th>161</th>\n",
       "      <td>2023</td>\n",
       "      <td>충청남도</td>\n",
       "      <td>전체</td>\n",
       "      <td>당뇨병의료이용률</td>\n",
       "      <td>2131563</td>\n",
       "      <td>226322</td>\n",
       "      <td>10.62</td>\n",
       "    </tr>\n",
       "    <tr>\n",
       "      <th>178</th>\n",
       "      <td>2023</td>\n",
       "      <td>전라북도</td>\n",
       "      <td>전체</td>\n",
       "      <td>당뇨병의료이용률</td>\n",
       "      <td>1751851</td>\n",
       "      <td>194209</td>\n",
       "      <td>11.09</td>\n",
       "    </tr>\n",
       "    <tr>\n",
       "      <th>194</th>\n",
       "      <td>2023</td>\n",
       "      <td>전라남도</td>\n",
       "      <td>전체</td>\n",
       "      <td>당뇨병의료이용률</td>\n",
       "      <td>1797627</td>\n",
       "      <td>214544</td>\n",
       "      <td>11.93</td>\n",
       "    </tr>\n",
       "    <tr>\n",
       "      <th>217</th>\n",
       "      <td>2023</td>\n",
       "      <td>경상북도</td>\n",
       "      <td>전체</td>\n",
       "      <td>당뇨병의료이용률</td>\n",
       "      <td>2571471</td>\n",
       "      <td>289117</td>\n",
       "      <td>11.24</td>\n",
       "    </tr>\n",
       "    <tr>\n",
       "      <th>242</th>\n",
       "      <td>2023</td>\n",
       "      <td>경상남도</td>\n",
       "      <td>전체</td>\n",
       "      <td>당뇨병의료이용률</td>\n",
       "      <td>3229921</td>\n",
       "      <td>308299</td>\n",
       "      <td>9.55</td>\n",
       "    </tr>\n",
       "    <tr>\n",
       "      <th>265</th>\n",
       "      <td>2023</td>\n",
       "      <td>제주특별자치도</td>\n",
       "      <td>전체</td>\n",
       "      <td>당뇨병의료이용률</td>\n",
       "      <td>673989</td>\n",
       "      <td>55211</td>\n",
       "      <td>8.19</td>\n",
       "    </tr>\n",
       "  </tbody>\n",
       "</table>\n",
       "</div>"
      ],
      "text/plain": [
       "     지표연도       시도 시군구       지표명     분모(명)    분자(명)  지표값(퍼센트)\n",
       "1    2023    서울특별시  전체  당뇨병의료이용률   9427029   813683      8.63\n",
       "27   2023    부산광역시  전체  당뇨병의료이용률   3259808   336380     10.32\n",
       "44   2023    대구광역시  전체  당뇨병의료이용률   2318105   222507      9.60\n",
       "53   2023    인천광역시  전체  당뇨병의료이용률   2964211   288201      9.72\n",
       "64   2023    광주광역시  전체  당뇨병의료이용률   1411754   121782      8.63\n",
       "70   2023    대전광역시  전체  당뇨병의료이용률   1416626   128528      9.07\n",
       "76   2023    울산광역시  전체  당뇨병의료이용률   1104873    96518      8.74\n",
       "82   2023  세종특별자치시  전체  당뇨병의료이용률    369237    23503      6.37\n",
       "84   2023      경기도  전체  당뇨병의료이용률  13593887  1210929      8.91\n",
       "127  2023      강원도  전체  당뇨병의료이용률   1453389   172166     11.85\n",
       "146  2023     충청북도  전체  당뇨병의료이용률   1589653   168260     10.58\n",
       "161  2023     충청남도  전체  당뇨병의료이용률   2131563   226322     10.62\n",
       "178  2023     전라북도  전체  당뇨병의료이용률   1751851   194209     11.09\n",
       "194  2023     전라남도  전체  당뇨병의료이용률   1797627   214544     11.93\n",
       "217  2023     경상북도  전체  당뇨병의료이용률   2571471   289117     11.24\n",
       "242  2023     경상남도  전체  당뇨병의료이용률   3229921   308299      9.55\n",
       "265  2023  제주특별자치도  전체  당뇨병의료이용률    673989    55211      8.19"
      ]
     },
     "execution_count": 87,
     "metadata": {},
     "output_type": "execute_result"
    }
   ],
   "source": [
    "df_gg=df[(df['시군구'] == '전체') & (df['시도'] != '전국')]\n",
    "df_gg"
   ]
  },
  {
   "cell_type": "markdown",
   "id": "b45a6f24-818c-4c72-bd30-18ecd7836a07",
   "metadata": {},
   "source": [
    "# 분석용 데이터 변환"
   ]
  },
  {
   "cell_type": "markdown",
   "id": "3ba8425a-26ea-4f42-8430-c1268a4f3bd4",
   "metadata": {},
   "source": [
    "* value_counts()\n",
    "* 사용자 정의 전처리: apply()"
   ]
  },
  {
   "cell_type": "markdown",
   "id": "afdb2573-a924-4fdc-a8a2-eb0e448488e0",
   "metadata": {},
   "source": [
    "* 비고열 분석"
   ]
  },
  {
   "cell_type": "code",
   "execution_count": 93,
   "id": "dc381da5-1c74-4bc7-94e9-bb4c33b80011",
   "metadata": {},
   "outputs": [
    {
     "name": "stdout",
     "output_type": "stream",
     "text": [
      "<class 'pandas.core.frame.DataFrame'>\n",
      "Index: 18 entries, 0 to 265\n",
      "Data columns (total 7 columns):\n",
      " #   Column    Non-Null Count  Dtype  \n",
      "---  ------    --------------  -----  \n",
      " 0   지표연도      18 non-null     int64  \n",
      " 1   시도        18 non-null     object \n",
      " 2   시군구       18 non-null     object \n",
      " 3   지표명       18 non-null     object \n",
      " 4   분모(명)     18 non-null     int64  \n",
      " 5   분자(명)     18 non-null     int64  \n",
      " 6   지표값(퍼센트)  18 non-null     float64\n",
      "dtypes: float64(1), int64(3), object(3)\n",
      "memory usage: 1.1+ KB\n"
     ]
    }
   ],
   "source": [
    "df_g.info()"
   ]
  },
  {
   "cell_type": "code",
   "execution_count": 104,
   "id": "b50f7709-4a92-4ca5-8970-ee57ab9b19ab",
   "metadata": {
    "scrolled": true
   },
   "outputs": [
    {
     "data": {
      "text/plain": [
       "0           전국\n",
       "1        서울특별시\n",
       "27       부산광역시\n",
       "44       대구광역시\n",
       "53       인천광역시\n",
       "64       광주광역시\n",
       "70       대전광역시\n",
       "76       울산광역시\n",
       "82     세종특별자치시\n",
       "84         경기도\n",
       "127        강원도\n",
       "146       충청북도\n",
       "161       충청남도\n",
       "178       전라북도\n",
       "194       전라남도\n",
       "217       경상북도\n",
       "242       경상남도\n",
       "265    제주특별자치도\n",
       "Name: 시도, dtype: object"
      ]
     },
     "execution_count": 104,
     "metadata": {},
     "output_type": "execute_result"
    }
   ],
   "source": [
    "df_g['시도']#.value_counts().index.tolist()"
   ]
  },
  {
   "cell_type": "code",
   "execution_count": 109,
   "id": "52ec64b1-0d3a-48a2-95de-cfec6a34477e",
   "metadata": {
    "scrolled": true
   },
   "outputs": [
    {
     "data": {
      "text/plain": [
       "[8.63,\n",
       " 9.54,\n",
       " 10.32,\n",
       " 9.6,\n",
       " 9.72,\n",
       " 9.07,\n",
       " 8.74,\n",
       " 6.37,\n",
       " 8.91,\n",
       " 11.85,\n",
       " 10.58,\n",
       " 10.62,\n",
       " 11.09,\n",
       " 11.93,\n",
       " 11.24,\n",
       " 9.55,\n",
       " 8.19]"
      ]
     },
     "execution_count": 109,
     "metadata": {},
     "output_type": "execute_result"
    }
   ],
   "source": [
    "df_g['지표값(퍼센트)'].value_counts().index.tolist()"
   ]
  },
  {
   "cell_type": "markdown",
   "id": "b6c41422-391e-47c0-b8c3-745a38d4ba47",
   "metadata": {},
   "source": [
    "# 시각화"
   ]
  },
  {
   "cell_type": "markdown",
   "id": "7a7369ad-484b-43f4-bf39-d4b8c9871c28",
   "metadata": {},
   "source": [
    "### Bar 차트"
   ]
  },
  {
   "cell_type": "code",
   "execution_count": 126,
   "id": "c098dfc8-165e-4802-9023-f7678f661d82",
   "metadata": {},
   "outputs": [
    {
     "data": {
      "image/png": "[encoded data removed]",
      "text/plain": [
       "<Figure size 640x480 with 1 Axes>"
      ]
     },
     "metadata": {},
     "output_type": "display_data"
    }
   ],
   "source": [
    "#range_list = df.비고.value_counts().index.tolist()\n",
    "range_list = df_g['시도'].value_counts().index.tolist()\n",
    "y = np.arange(len(range_list))\n",
    "values = df_g['지표값(퍼센트)']\n",
    "plt.barh(y, values)\n",
    "plt.yticks(y, range_list)\n",
    "plt.show()"
   ]
  },
  {
   "cell_type": "markdown",
   "id": "2c397259-8880-498a-babc-12b260a690f1",
   "metadata": {},
   "source": [
    "* 상위 카테고리 분석"
   ]
  },
  {
   "cell_type": "markdown",
   "id": "6b9625c5-2510-46db-9b3d-12be444fa8fe",
   "metadata": {},
   "source": [
    "* 상세 카테고리 분석"
   ]
  },
  {
   "cell_type": "markdown",
   "id": "aab8b6ca-1824-499a-8a82-08dc19028d11",
   "metadata": {},
   "source": [
    "### 파이차트"
   ]
  },
  {
   "cell_type": "code",
   "execution_count": 115,
   "id": "a8c0467e-566c-461d-bc30-73e44f98d6a8",
   "metadata": {
    "scrolled": true
   },
   "outputs": [
    {
     "data": {
      "image/png": "[encoded data removed]",
      "text/plain": [
       "<Figure size 640x480 with 1 Axes>"
      ]
     },
     "metadata": {},
     "output_type": "display_data"
    }
   ],
   "source": [
    "# counterclock=False => 반시계방향의 반대, 즉 시계방향으로 데이터 회전\n",
    "values =df_gg['분자(명)']\n",
    "range_list = df_gg['시도'].value_counts().index.tolist()\n",
    "plt.pie(values, labels=range_list, autopct='%.1f%%', startangle=0, counterclock=False)\n",
    "plt.show()"
   ]
  },
  {
   "cell_type": "code",
   "execution_count": 148,
   "id": "ce7ff0d7-8bd1-4174-9d4b-8fe738fbfa3d",
   "metadata": {},
   "outputs": [
    {
     "data": {
      "image/png": "[encoded data removed]",
      "text/plain": [
       "<Figure size 640x480 with 1 Axes>"
      ]
     },
     "metadata": {},
     "output_type": "display_data"
    }
   ],
   "source": [
    "sns.barplot(data=df_gg, x='시도', y='지표값(퍼센트)', hue='시도', errorbar=None)\n",
    "plt.xticks(rotation=90)\n",
    "\n",
    "plt.tight_layout()\n",
    "\n",
    "plt.show()"
   ]
  },
  {
   "cell_type": "code",
   "execution_count": 147,
   "id": "7d41d67d-3abf-4e64-a46a-07db5af3ea7a",
   "metadata": {},
   "outputs": [
    {
     "data": {
      "image/png": "[encoded data removed]",
      "text/plain": [
       "<Figure size 640x480 with 1 Axes>"
      ]
     },
     "metadata": {},
     "output_type": "display_data"
    }
   ],
   "source": [
    "sns.barplot(data=df_gg, x='시도', y='분모(명)', hue='시도', errorbar=None)\n",
    "plt.xticks(rotation=90)\n",
    "\n",
    "plt.tight_layout()\n",
    "\n",
    "plt.show()"
   ]
  },
  {
   "cell_type": "code",
   "execution_count": 152,
   "id": "c2bae01f-5085-4705-bc4d-4b29cf714f46",
   "metadata": {},
   "outputs": [
    {
     "name": "stderr",
     "output_type": "stream",
     "text": [
      "C:\\Users\\OWNER\\AppData\\Local\\Temp\\ipykernel_6060\\3083249885.py:9: UserWarning: set_ticklabels() should only be used with a fixed number of ticks, i.e. after set_ticks() or using a FixedLocator.\n",
      "  axes[0].set_xticklabels(axes[0].get_xticklabels(), rotation=90)  # Rotate x-axis labels\n",
      "C:\\Users\\OWNER\\AppData\\Local\\Temp\\ipykernel_6060\\3083249885.py:16: UserWarning: set_ticklabels() should only be used with a fixed number of ticks, i.e. after set_ticks() or using a FixedLocator.\n",
      "  axes[1].set_xticklabels(axes[1].get_xticklabels(), rotation=90)  # Rotate x-axis labels\n"
     ]
    },
    {
     "data": {
      "image/png": "[encoded data removed]",
      "text/plain": [
       "<Figure size 1500x600 with 2 Axes>"
      ]
     },
     "metadata": {},
     "output_type": "display_data"
    }
   ],
   "source": [
    "import seaborn as sns\n",
    "import matplotlib.pyplot as plt\n",
    "\n",
    "# Create subplots for two bar plots\n",
    "fig, axes = plt.subplots(1, 2, figsize=(15, 6))  # 1 row, 2 columns\n",
    "\n",
    "# Plot 1: '시도' vs '분모(명)'\n",
    "sns.barplot(data=df_gg, x='시도', y='분모(명)', hue='시도', errorbar=None, ax=axes[0])\n",
    "axes[0].set_xticklabels(axes[0].get_xticklabels(), rotation=90)  # Rotate x-axis labels\n",
    "axes[0].set_xlabel('시도')\n",
    "axes[0].set_ylabel('분모(명)')\n",
    "axes[0].set_title('Barplot of 시도 vs. 분모(명)')\n",
    "\n",
    "# Plot 2: '시도' vs '지표값(퍼센트)'\n",
    "sns.barplot(data=df_gg, x='시도', y='지표값(퍼센트)', hue='시도', errorbar=None, ax=axes[1])\n",
    "axes[1].set_xticklabels(axes[1].get_xticklabels(), rotation=90)  # Rotate x-axis labels\n",
    "axes[1].set_xlabel('시도')\n",
    "axes[1].set_ylabel('지표값(퍼센트)')\n",
    "axes[1].set_title('Barplot of 시도 vs. 지표값(퍼센트)')\n",
    "\n",
    "plt.tight_layout()\n",
    "plt.show()\n"
   ]
  },
  {
   "cell_type": "markdown",
   "id": "0381a391-ba65-4918-b4a6-00120da35b30",
   "metadata": {},
   "source": [
    "# 데이터 분석  \n",
    "* 차트에 대한 해석"
   ]
  },
  {
   "cell_type": "code",
   "execution_count": null,
   "id": "a5ad84ee-9622-4ac6-a28c-75388d1721fe",
   "metadata": {},
   "outputs": [],
   "source": []
  }
 ],
 "metadata": {
  "kernelspec": {
   "display_name": "Python [conda env:base] *",
   "language": "python",
   "name": "conda-base-py"
  },
  "language_info": {
   "codemirror_mode": {
    "name": "ipython",
    "version": 3
   },
   "file_extension": ".py",
   "mimetype": "text/x-python",
   "name": "python",
   "nbconvert_exporter": "python",
   "pygments_lexer": "ipython3",
   "version": "3.13.5"
  }
 },
 "nbformat": 4,
 "nbformat_minor": 5
}
