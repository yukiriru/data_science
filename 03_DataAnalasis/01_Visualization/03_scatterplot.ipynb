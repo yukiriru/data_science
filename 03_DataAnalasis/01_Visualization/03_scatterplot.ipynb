{
 "cells": [
  {
   "cell_type": "markdown",
   "id": "c82dcffc-11e2-4c02-9b6e-b5c32dff132c",
   "metadata": {},
   "source": [
    "### 차트에서 얻은 인사이트"
   ]
  },
  {
   "cell_type": "markdown",
   "id": "c0752a8c-ed4b-4c1a-ad7a-408ad3ee522f",
   "metadata": {},
   "source": [
    "### 그룹 세분화"
   ]
  },
  {
   "cell_type": "markdown",
   "id": "b909aff2-2016-413c-bc19-5e4263b4d787",
   "metadata": {},
   "source": [
    "### 차트를 보고 얻은 인사이트"
   ]
  },
  {
   "cell_type": "markdown",
   "id": "ebf1d5e2-3bdd-449e-92e0-77e33a408f65",
   "metadata": {},
   "source": [
    "### 인사이트에서 도출되는 비지니스 전략"
   ]
  },
  {
   "cell_type": "markdown",
   "id": "6811769f-8a2e-4163-8a38-ade4b2c565f0",
   "metadata": {},
   "source": [
    "   "
   ]
  },
  {
   "cell_type": "markdown",
   "id": "88dcecd3-7b80-481e-b196-f1d33046c3fa",
   "metadata": {},
   "source": [
    "* 붓꽃 예제"
   ]
  }
 ],
 "metadata": {
  "kernelspec": {
   "display_name": "Python [conda env:base] *",
   "language": "python",
   "name": "conda-base-py"
  },
  "language_info": {
   "codemirror_mode": {
    "name": "ipython",
    "version": 3
   },
   "file_extension": ".py",
   "mimetype": "text/x-python",
   "name": "python",
   "nbconvert_exporter": "python",
   "pygments_lexer": "ipython3",
   "version": "3.13.5"
  }
 },
 "nbformat": 4,
 "nbformat_minor": 5
}
