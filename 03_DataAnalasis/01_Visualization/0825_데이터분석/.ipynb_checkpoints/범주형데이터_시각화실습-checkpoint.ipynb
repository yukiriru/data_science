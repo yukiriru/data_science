{
 "cells": [
  {
   "cell_type": "code",
   "execution_count": 4,
   "id": "53bdecf4-7501-4a92-89d9-09c634b75360",
   "metadata": {},
   "outputs": [],
   "source": [
    "import pandas as pd\n",
    "import numpy as np\n",
    "import matplotlib.pyplot as plt\n",
    "%matplotlib inline\n",
    "from matplotlib import font_manager,rc\n",
    "# 한글 폰트\n",
    "font_location = \"C:\\Windows\\Fonts\\malgun.ttf\"\n",
    "font_name = font_manager.FontProperties(fname=font_location).get_name()\n",
    "rc('font',family=font_name)"
   ]
  },
  {
   "cell_type": "markdown",
   "id": "2145e5ae-8c85-45ac-904a-3b08c2a1b9f0",
   "metadata": {},
   "source": [
    "# 데이터 선정"
   ]
  },
  {
   "cell_type": "code",
   "execution_count": 6,
   "id": "0854357b-65c4-4f7a-b6ad-8427d4dc0a07",
   "metadata": {},
   "outputs": [
    {
     "data": {
      "text/html": [
       "<div>\n",
       "<style scoped>\n",
       "    .dataframe tbody tr th:only-of-type {\n",
       "        vertical-align: middle;\n",
       "    }\n",
       "\n",
       "    .dataframe tbody tr th {\n",
       "        vertical-align: top;\n",
       "    }\n",
       "\n",
       "    .dataframe thead th {\n",
       "        text-align: right;\n",
       "    }\n",
       "</style>\n",
       "<table border=\"1\" class=\"dataframe\">\n",
       "  <thead>\n",
       "    <tr style=\"text-align: right;\">\n",
       "      <th></th>\n",
       "      <th>시도</th>\n",
       "      <th>시군구</th>\n",
       "      <th>사고건수</th>\n",
       "      <th>사망자수</th>\n",
       "      <th>중상자수</th>\n",
       "      <th>경상자수</th>\n",
       "      <th>부상신고자수</th>\n",
       "    </tr>\n",
       "  </thead>\n",
       "  <tbody>\n",
       "    <tr>\n",
       "      <th>0</th>\n",
       "      <td>서울</td>\n",
       "      <td>종로구</td>\n",
       "      <td>917</td>\n",
       "      <td>5</td>\n",
       "      <td>230</td>\n",
       "      <td>938</td>\n",
       "      <td>85</td>\n",
       "    </tr>\n",
       "    <tr>\n",
       "      <th>1</th>\n",
       "      <td>서울</td>\n",
       "      <td>중구</td>\n",
       "      <td>976</td>\n",
       "      <td>16</td>\n",
       "      <td>241</td>\n",
       "      <td>876</td>\n",
       "      <td>119</td>\n",
       "    </tr>\n",
       "    <tr>\n",
       "      <th>2</th>\n",
       "      <td>서울</td>\n",
       "      <td>용산구</td>\n",
       "      <td>868</td>\n",
       "      <td>12</td>\n",
       "      <td>224</td>\n",
       "      <td>917</td>\n",
       "      <td>33</td>\n",
       "    </tr>\n",
       "    <tr>\n",
       "      <th>3</th>\n",
       "      <td>서울</td>\n",
       "      <td>성동구</td>\n",
       "      <td>919</td>\n",
       "      <td>7</td>\n",
       "      <td>210</td>\n",
       "      <td>889</td>\n",
       "      <td>56</td>\n",
       "    </tr>\n",
       "    <tr>\n",
       "      <th>4</th>\n",
       "      <td>서울</td>\n",
       "      <td>동대문구</td>\n",
       "      <td>1520</td>\n",
       "      <td>5</td>\n",
       "      <td>403</td>\n",
       "      <td>1369</td>\n",
       "      <td>134</td>\n",
       "    </tr>\n",
       "  </tbody>\n",
       "</table>\n",
       "</div>"
      ],
      "text/plain": [
       "   시도   시군구  사고건수  사망자수  중상자수  경상자수  부상신고자수\n",
       "0  서울   종로구   917     5   230   938      85\n",
       "1  서울    중구   976    16   241   876     119\n",
       "2  서울   용산구   868    12   224   917      33\n",
       "3  서울   성동구   919     7   210   889      56\n",
       "4  서울  동대문구  1520     5   403  1369     134"
      ]
     },
     "execution_count": 6,
     "metadata": {},
     "output_type": "execute_result"
    }
   ],
   "source": [
    "df = pd.read_csv('한국도로교통공단_시도 시군구별 교통사고 통계_20241231.csv',encoding='cp949')\n",
    "df.head()"
   ]
  },
  {
   "cell_type": "markdown",
   "id": "01183879-fb85-4855-80de-1ba4f0f12fc4",
   "metadata": {},
   "source": [
    "* 공공데이터 포털에서 csv 파일 검색"
   ]
  },
  {
   "cell_type": "raw",
   "id": "d1d122ce-250e-49cd-9348-9a33f8afd6c5",
   "metadata": {},
   "source": [
    "수치형 데이터가 아닌 범주형 문자열 데이터"
   ]
  },
  {
   "cell_type": "markdown",
   "id": "ae917d68-e092-47d4-992b-b47029e5f9b3",
   "metadata": {},
   "source": [
    "# 데이터 읽기"
   ]
  },
  {
   "cell_type": "code",
   "execution_count": null,
   "id": "443334c9-f862-4e30-9512-a96c3fd6da5e",
   "metadata": {},
   "outputs": [],
   "source": []
  },
  {
   "cell_type": "markdown",
   "id": "b62563fe-a6cb-4f34-98d0-7b8abf489281",
   "metadata": {},
   "source": [
    "# 데이터 기본 분석"
   ]
  },
  {
   "cell_type": "code",
   "execution_count": 7,
   "id": "d97b22e2-5281-40d7-8aeb-79ae37ad2b97",
   "metadata": {},
   "outputs": [
    {
     "name": "stdout",
     "output_type": "stream",
     "text": [
      "<class 'pandas.core.frame.DataFrame'>\n",
      "RangeIndex: 229 entries, 0 to 228\n",
      "Data columns (total 7 columns):\n",
      " #   Column  Non-Null Count  Dtype \n",
      "---  ------  --------------  ----- \n",
      " 0   시도      229 non-null    object\n",
      " 1   시군구     229 non-null    object\n",
      " 2   사고건수    229 non-null    int64 \n",
      " 3   사망자수    229 non-null    int64 \n",
      " 4   중상자수    229 non-null    int64 \n",
      " 5   경상자수    229 non-null    int64 \n",
      " 6   부상신고자수  229 non-null    int64 \n",
      "dtypes: int64(5), object(2)\n",
      "memory usage: 12.7+ KB\n"
     ]
    }
   ],
   "source": [
    "df.info()"
   ]
  },
  {
   "cell_type": "markdown",
   "id": "1f754515-54bf-44a5-ae77-f541530e2ba7",
   "metadata": {},
   "source": [
    "# 데이터 전처리"
   ]
  },
  {
   "cell_type": "markdown",
   "id": "6ab576e9-bf96-4478-b102-1bffbb4d35c1",
   "metadata": {},
   "source": [
    "* 결측치\n",
    "* 이상치\n",
    "* 중복데이터"
   ]
  },
  {
   "cell_type": "code",
   "execution_count": 10,
   "id": "9bffcd37-f513-48c6-a481-28ca8689356c",
   "metadata": {},
   "outputs": [
    {
     "data": {
      "text/html": [
       "<div>\n",
       "<style scoped>\n",
       "    .dataframe tbody tr th:only-of-type {\n",
       "        vertical-align: middle;\n",
       "    }\n",
       "\n",
       "    .dataframe tbody tr th {\n",
       "        vertical-align: top;\n",
       "    }\n",
       "\n",
       "    .dataframe thead th {\n",
       "        text-align: right;\n",
       "    }\n",
       "</style>\n",
       "<table border=\"1\" class=\"dataframe\">\n",
       "  <thead>\n",
       "    <tr style=\"text-align: right;\">\n",
       "      <th></th>\n",
       "      <th>시도</th>\n",
       "      <th>시군구</th>\n",
       "      <th>사고건수</th>\n",
       "      <th>사망자수</th>\n",
       "      <th>중상자수</th>\n",
       "      <th>경상자수</th>\n",
       "      <th>부상신고자수</th>\n",
       "    </tr>\n",
       "  </thead>\n",
       "  <tbody>\n",
       "  </tbody>\n",
       "</table>\n",
       "</div>"
      ],
      "text/plain": [
       "Empty DataFrame\n",
       "Columns: [시도, 시군구, 사고건수, 사망자수, 중상자수, 경상자수, 부상신고자수]\n",
       "Index: []"
      ]
     },
     "execution_count": 10,
     "metadata": {},
     "output_type": "execute_result"
    }
   ],
   "source": [
    "df[df.duplicated(keep=False)] #"
   ]
  },
  {
   "cell_type": "code",
   "execution_count": 11,
   "id": "4cc892dc-51b2-4657-a07b-58f3c7a20be9",
   "metadata": {},
   "outputs": [],
   "source": [
    "def find_outliers(df, threshold=3):\n",
    "    numeric_df = df.select_dtypes(include=[np.number])\n",
    "    z_scores = np.abs((numeric_df - numeric_df.mean()) / numeric_df.std())\n",
    "    outliers = (z_scores > threshold).any(axis=1)\n",
    "    return df[outliers]"
   ]
  },
  {
   "cell_type": "code",
   "execution_count": 12,
   "id": "f5c57915-9f13-40d5-974c-90c39c732bd9",
   "metadata": {},
   "outputs": [
    {
     "data": {
      "text/html": [
       "<div>\n",
       "<style scoped>\n",
       "    .dataframe tbody tr th:only-of-type {\n",
       "        vertical-align: middle;\n",
       "    }\n",
       "\n",
       "    .dataframe tbody tr th {\n",
       "        vertical-align: top;\n",
       "    }\n",
       "\n",
       "    .dataframe thead th {\n",
       "        text-align: right;\n",
       "    }\n",
       "</style>\n",
       "<table border=\"1\" class=\"dataframe\">\n",
       "  <thead>\n",
       "    <tr style=\"text-align: right;\">\n",
       "      <th></th>\n",
       "      <th>시도</th>\n",
       "      <th>시군구</th>\n",
       "      <th>사고건수</th>\n",
       "      <th>사망자수</th>\n",
       "      <th>중상자수</th>\n",
       "      <th>경상자수</th>\n",
       "      <th>부상신고자수</th>\n",
       "    </tr>\n",
       "  </thead>\n",
       "  <tbody>\n",
       "    <tr>\n",
       "      <th>15</th>\n",
       "      <td>서울</td>\n",
       "      <td>강남구</td>\n",
       "      <td>3754</td>\n",
       "      <td>11</td>\n",
       "      <td>716</td>\n",
       "      <td>3773</td>\n",
       "      <td>374</td>\n",
       "    </tr>\n",
       "    <tr>\n",
       "      <th>41</th>\n",
       "      <td>경기</td>\n",
       "      <td>수원시</td>\n",
       "      <td>4720</td>\n",
       "      <td>24</td>\n",
       "      <td>1069</td>\n",
       "      <td>5099</td>\n",
       "      <td>476</td>\n",
       "    </tr>\n",
       "    <tr>\n",
       "      <th>42</th>\n",
       "      <td>경기</td>\n",
       "      <td>성남시</td>\n",
       "      <td>3487</td>\n",
       "      <td>23</td>\n",
       "      <td>793</td>\n",
       "      <td>3829</td>\n",
       "      <td>451</td>\n",
       "    </tr>\n",
       "    <tr>\n",
       "      <th>46</th>\n",
       "      <td>경기</td>\n",
       "      <td>안산시</td>\n",
       "      <td>3513</td>\n",
       "      <td>21</td>\n",
       "      <td>756</td>\n",
       "      <td>3895</td>\n",
       "      <td>475</td>\n",
       "    </tr>\n",
       "    <tr>\n",
       "      <th>47</th>\n",
       "      <td>경기</td>\n",
       "      <td>평택시</td>\n",
       "      <td>3084</td>\n",
       "      <td>31</td>\n",
       "      <td>709</td>\n",
       "      <td>3378</td>\n",
       "      <td>573</td>\n",
       "    </tr>\n",
       "    <tr>\n",
       "      <th>52</th>\n",
       "      <td>경기</td>\n",
       "      <td>화성시</td>\n",
       "      <td>3711</td>\n",
       "      <td>38</td>\n",
       "      <td>828</td>\n",
       "      <td>4146</td>\n",
       "      <td>613</td>\n",
       "    </tr>\n",
       "    <tr>\n",
       "      <th>55</th>\n",
       "      <td>경기</td>\n",
       "      <td>고양시</td>\n",
       "      <td>3489</td>\n",
       "      <td>31</td>\n",
       "      <td>891</td>\n",
       "      <td>3711</td>\n",
       "      <td>385</td>\n",
       "    </tr>\n",
       "    <tr>\n",
       "      <th>62</th>\n",
       "      <td>경기</td>\n",
       "      <td>용인시</td>\n",
       "      <td>3466</td>\n",
       "      <td>31</td>\n",
       "      <td>773</td>\n",
       "      <td>4114</td>\n",
       "      <td>520</td>\n",
       "    </tr>\n",
       "    <tr>\n",
       "      <th>72</th>\n",
       "      <td>강원</td>\n",
       "      <td>춘천시</td>\n",
       "      <td>1394</td>\n",
       "      <td>18</td>\n",
       "      <td>373</td>\n",
       "      <td>1231</td>\n",
       "      <td>540</td>\n",
       "    </tr>\n",
       "    <tr>\n",
       "      <th>90</th>\n",
       "      <td>충북</td>\n",
       "      <td>청주시</td>\n",
       "      <td>4162</td>\n",
       "      <td>45</td>\n",
       "      <td>979</td>\n",
       "      <td>4952</td>\n",
       "      <td>225</td>\n",
       "    </tr>\n",
       "    <tr>\n",
       "      <th>101</th>\n",
       "      <td>충남</td>\n",
       "      <td>천안시</td>\n",
       "      <td>3368</td>\n",
       "      <td>41</td>\n",
       "      <td>747</td>\n",
       "      <td>3529</td>\n",
       "      <td>479</td>\n",
       "    </tr>\n",
       "    <tr>\n",
       "      <th>153</th>\n",
       "      <td>경북</td>\n",
       "      <td>경주시</td>\n",
       "      <td>882</td>\n",
       "      <td>36</td>\n",
       "      <td>437</td>\n",
       "      <td>787</td>\n",
       "      <td>50</td>\n",
       "    </tr>\n",
       "    <tr>\n",
       "      <th>191</th>\n",
       "      <td>경남</td>\n",
       "      <td>창원시(통합)</td>\n",
       "      <td>2757</td>\n",
       "      <td>36</td>\n",
       "      <td>883</td>\n",
       "      <td>2493</td>\n",
       "      <td>265</td>\n",
       "    </tr>\n",
       "  </tbody>\n",
       "</table>\n",
       "</div>"
      ],
      "text/plain": [
       "     시도      시군구  사고건수  사망자수  중상자수  경상자수  부상신고자수\n",
       "15   서울      강남구  3754    11   716  3773     374\n",
       "41   경기      수원시  4720    24  1069  5099     476\n",
       "42   경기      성남시  3487    23   793  3829     451\n",
       "46   경기      안산시  3513    21   756  3895     475\n",
       "47   경기      평택시  3084    31   709  3378     573\n",
       "52   경기      화성시  3711    38   828  4146     613\n",
       "55   경기      고양시  3489    31   891  3711     385\n",
       "62   경기      용인시  3466    31   773  4114     520\n",
       "72   강원      춘천시  1394    18   373  1231     540\n",
       "90   충북      청주시  4162    45   979  4952     225\n",
       "101  충남      천안시  3368    41   747  3529     479\n",
       "153  경북      경주시   882    36   437   787      50\n",
       "191  경남  창원시(통합)  2757    36   883  2493     265"
      ]
     },
     "execution_count": 12,
     "metadata": {},
     "output_type": "execute_result"
    }
   ],
   "source": [
    "outliers_df = find_outliers(df)\n",
    "outliers_df"
   ]
  },
  {
   "cell_type": "markdown",
   "id": "b45a6f24-818c-4c72-bd30-18ecd7836a07",
   "metadata": {},
   "source": [
    "# 분석용 데이터 변환"
   ]
  },
  {
   "cell_type": "markdown",
   "id": "3ba8425a-26ea-4f42-8430-c1268a4f3bd4",
   "metadata": {},
   "source": [
    "* value_counts()\n",
    "* 사용자 정의 전처리: apply()"
   ]
  },
  {
   "cell_type": "code",
   "execution_count": 113,
   "id": "c098dfc8-165e-4802-9023-f7678f661d82",
   "metadata": {
    "scrolled": true
   },
   "outputs": [
    {
     "data": {
      "text/plain": [
       "시도  시군구  사고건수  사망자수  중상자수  경상자수  부상신고자수\n",
       "강원  강릉시  666   13    203   771   11        1\n",
       "    고성군  96    5     27    126   5         1\n",
       "    동해시  266   4     89    261   15        1\n",
       "    삼척시  201   6     80    232   0         1\n",
       "    속초시  338   5     156   356   2         1\n",
       "                                          ..\n",
       "충북  제천시  807   11    205   942   114       1\n",
       "    증평군  156   5     43    162   5         1\n",
       "    진천군  525   15    140   563   9         1\n",
       "    청주시  4162  45    979   4952  225       1\n",
       "    충주시  1105  15    289   1360  18        1\n",
       "Name: count, Length: 229, dtype: int64"
      ]
     },
     "execution_count": 113,
     "metadata": {},
     "output_type": "execute_result"
    }
   ],
   "source": [
    "df.value_counts()"
   ]
  },
  {
   "cell_type": "code",
   "execution_count": null,
   "id": "f906d66c-1064-4107-aaf0-d756f0ed036a",
   "metadata": {},
   "outputs": [],
   "source": [
    "df"
   ]
  },
  {
   "cell_type": "code",
   "execution_count": 121,
   "id": "2bd982f5-68ff-4cd1-b36e-4e9b1e6bdb29",
   "metadata": {
    "scrolled": true
   },
   "outputs": [
    {
     "data": {
      "text/plain": [
       "시도\n",
       "강원    2.040472\n",
       "경기    0.904648\n",
       "경남    2.176960\n",
       "경북    2.537730\n",
       "광주    0.593515\n",
       "대구    0.870671\n",
       "대전    0.547397\n",
       "부산    0.906264\n",
       "서울    0.633498\n",
       "세종    0.568643\n",
       "울산    1.454139\n",
       "인천    1.075535\n",
       "전남    2.447340\n",
       "전북    2.978942\n",
       "제주    1.211204\n",
       "충남    2.619155\n",
       "충북    1.802478\n",
       "Name: 사망률, dtype: float64"
      ]
     },
     "execution_count": 121,
     "metadata": {},
     "output_type": "execute_result"
    }
   ],
   "source": [
    "df_group['사망률'] = df_group['사망자수'] / df_group['사고건수'] * 100\n",
    "df_group['사망률'] "
   ]
  },
  {
   "cell_type": "code",
   "execution_count": 142,
   "id": "40e2c604-b283-45d0-a849-527eaffa1fa4",
   "metadata": {},
   "outputs": [
    {
     "name": "stdout",
     "output_type": "stream",
     "text": [
      "5930\n",
      "58105\n",
      "68808\n",
      "79211\n",
      "86119\n",
      "96341\n",
      "103831\n",
      "115086\n",
      "148551\n",
      "149782\n",
      "153358\n",
      "161447\n",
      "169660\n",
      "175501\n",
      "179464\n",
      "188360\n",
      "196349\n"
     ]
    }
   ],
   "source": [
    "sum = 0\n",
    "for i in range(len(df_group)) :\n",
    "    sum += df_group.사고건수.values[i]\n",
    "    print(sum)"
   ]
  },
  {
   "cell_type": "code",
   "execution_count": 132,
   "id": "d4e9c727-3e9c-46e0-aa58-ef21f31960bc",
   "metadata": {},
   "outputs": [
    {
     "data": {
      "text/plain": [
       "np.float64(11549.941176470587)"
      ]
     },
     "execution_count": 132,
     "metadata": {},
     "output_type": "execute_result"
    }
   ],
   "source": [
    "avg = sum/len(df_group)\n",
    "avg"
   ]
  },
  {
   "cell_type": "code",
   "execution_count": 65,
   "id": "bc8bcd82-2385-4924-9e32-dfbc71a054b7",
   "metadata": {
    "scrolled": true
   },
   "outputs": [
    {
     "data": {
      "text/html": [
       "<div>\n",
       "<style scoped>\n",
       "    .dataframe tbody tr th:only-of-type {\n",
       "        vertical-align: middle;\n",
       "    }\n",
       "\n",
       "    .dataframe tbody tr th {\n",
       "        vertical-align: top;\n",
       "    }\n",
       "\n",
       "    .dataframe thead th {\n",
       "        text-align: right;\n",
       "    }\n",
       "</style>\n",
       "<table border=\"1\" class=\"dataframe\">\n",
       "  <thead>\n",
       "    <tr style=\"text-align: right;\">\n",
       "      <th></th>\n",
       "      <th>사고건수</th>\n",
       "      <th>사망자수</th>\n",
       "      <th>중상자수</th>\n",
       "      <th>경상자수</th>\n",
       "      <th>부상신고자수</th>\n",
       "    </tr>\n",
       "    <tr>\n",
       "      <th>시도</th>\n",
       "      <th></th>\n",
       "      <th></th>\n",
       "      <th></th>\n",
       "      <th></th>\n",
       "      <th></th>\n",
       "    </tr>\n",
       "  </thead>\n",
       "  <tbody>\n",
       "    <tr>\n",
       "      <th>강원</th>\n",
       "      <td>5930</td>\n",
       "      <td>121</td>\n",
       "      <td>1900</td>\n",
       "      <td>6438</td>\n",
       "      <td>908</td>\n",
       "    </tr>\n",
       "    <tr>\n",
       "      <th>경기</th>\n",
       "      <td>52175</td>\n",
       "      <td>472</td>\n",
       "      <td>12235</td>\n",
       "      <td>57460</td>\n",
       "      <td>6712</td>\n",
       "    </tr>\n",
       "    <tr>\n",
       "      <th>경남</th>\n",
       "      <td>10703</td>\n",
       "      <td>233</td>\n",
       "      <td>4254</td>\n",
       "      <td>9309</td>\n",
       "      <td>994</td>\n",
       "    </tr>\n",
       "    <tr>\n",
       "      <th>경북</th>\n",
       "      <td>10403</td>\n",
       "      <td>264</td>\n",
       "      <td>3732</td>\n",
       "      <td>10200</td>\n",
       "      <td>869</td>\n",
       "    </tr>\n",
       "    <tr>\n",
       "      <th>광주</th>\n",
       "      <td>6908</td>\n",
       "      <td>41</td>\n",
       "      <td>1105</td>\n",
       "      <td>8686</td>\n",
       "      <td>492</td>\n",
       "    </tr>\n",
       "    <tr>\n",
       "      <th>대구</th>\n",
       "      <td>10222</td>\n",
       "      <td>89</td>\n",
       "      <td>2537</td>\n",
       "      <td>10517</td>\n",
       "      <td>1175</td>\n",
       "    </tr>\n",
       "    <tr>\n",
       "      <th>대전</th>\n",
       "      <td>7490</td>\n",
       "      <td>41</td>\n",
       "      <td>1556</td>\n",
       "      <td>8790</td>\n",
       "      <td>342</td>\n",
       "    </tr>\n",
       "    <tr>\n",
       "      <th>부산</th>\n",
       "      <td>11255</td>\n",
       "      <td>102</td>\n",
       "      <td>3418</td>\n",
       "      <td>10759</td>\n",
       "      <td>995</td>\n",
       "    </tr>\n",
       "    <tr>\n",
       "      <th>서울</th>\n",
       "      <td>33465</td>\n",
       "      <td>212</td>\n",
       "      <td>7575</td>\n",
       "      <td>33387</td>\n",
       "      <td>3365</td>\n",
       "    </tr>\n",
       "    <tr>\n",
       "      <th>세종</th>\n",
       "      <td>1231</td>\n",
       "      <td>7</td>\n",
       "      <td>233</td>\n",
       "      <td>1319</td>\n",
       "      <td>257</td>\n",
       "    </tr>\n",
       "    <tr>\n",
       "      <th>울산</th>\n",
       "      <td>3576</td>\n",
       "      <td>52</td>\n",
       "      <td>1144</td>\n",
       "      <td>3325</td>\n",
       "      <td>435</td>\n",
       "    </tr>\n",
       "    <tr>\n",
       "      <th>인천</th>\n",
       "      <td>8089</td>\n",
       "      <td>87</td>\n",
       "      <td>1720</td>\n",
       "      <td>8536</td>\n",
       "      <td>512</td>\n",
       "    </tr>\n",
       "    <tr>\n",
       "      <th>전남</th>\n",
       "      <td>8213</td>\n",
       "      <td>201</td>\n",
       "      <td>2257</td>\n",
       "      <td>9624</td>\n",
       "      <td>525</td>\n",
       "    </tr>\n",
       "    <tr>\n",
       "      <th>전북</th>\n",
       "      <td>5841</td>\n",
       "      <td>174</td>\n",
       "      <td>1784</td>\n",
       "      <td>6426</td>\n",
       "      <td>277</td>\n",
       "    </tr>\n",
       "    <tr>\n",
       "      <th>제주</th>\n",
       "      <td>3963</td>\n",
       "      <td>48</td>\n",
       "      <td>1048</td>\n",
       "      <td>4062</td>\n",
       "      <td>634</td>\n",
       "    </tr>\n",
       "    <tr>\n",
       "      <th>충남</th>\n",
       "      <td>8896</td>\n",
       "      <td>233</td>\n",
       "      <td>2857</td>\n",
       "      <td>9233</td>\n",
       "      <td>716</td>\n",
       "    </tr>\n",
       "    <tr>\n",
       "      <th>충북</th>\n",
       "      <td>7989</td>\n",
       "      <td>144</td>\n",
       "      <td>2198</td>\n",
       "      <td>9200</td>\n",
       "      <td>450</td>\n",
       "    </tr>\n",
       "  </tbody>\n",
       "</table>\n",
       "</div>"
      ],
      "text/plain": [
       "     사고건수  사망자수   중상자수   경상자수  부상신고자수\n",
       "시도                                   \n",
       "강원   5930   121   1900   6438     908\n",
       "경기  52175   472  12235  57460    6712\n",
       "경남  10703   233   4254   9309     994\n",
       "경북  10403   264   3732  10200     869\n",
       "광주   6908    41   1105   8686     492\n",
       "대구  10222    89   2537  10517    1175\n",
       "대전   7490    41   1556   8790     342\n",
       "부산  11255   102   3418  10759     995\n",
       "서울  33465   212   7575  33387    3365\n",
       "세종   1231     7    233   1319     257\n",
       "울산   3576    52   1144   3325     435\n",
       "인천   8089    87   1720   8536     512\n",
       "전남   8213   201   2257   9624     525\n",
       "전북   5841   174   1784   6426     277\n",
       "제주   3963    48   1048   4062     634\n",
       "충남   8896   233   2857   9233     716\n",
       "충북   7989   144   2198   9200     450"
      ]
     },
     "execution_count": 65,
     "metadata": {},
     "output_type": "execute_result"
    }
   ],
   "source": [
    "df_group = df.groupby('시도').agg({\n",
    "    '사고건수':'sum',\n",
    "    '사망자수':'sum',\n",
    "    '중상자수':'sum',\n",
    "    '경상자수':'sum',\n",
    "    '부상신고자수':'sum'\n",
    "})\n",
    "df_group"
   ]
  },
  {
   "cell_type": "code",
   "execution_count": 151,
   "id": "70eac83e-f65d-4c32-9603-a3003c5240d1",
   "metadata": {},
   "outputs": [
    {
     "data": {
      "text/html": [
       "<div>\n",
       "<style scoped>\n",
       "    .dataframe tbody tr th:only-of-type {\n",
       "        vertical-align: middle;\n",
       "    }\n",
       "\n",
       "    .dataframe tbody tr th {\n",
       "        vertical-align: top;\n",
       "    }\n",
       "\n",
       "    .dataframe thead th {\n",
       "        text-align: right;\n",
       "    }\n",
       "</style>\n",
       "<table border=\"1\" class=\"dataframe\">\n",
       "  <thead>\n",
       "    <tr style=\"text-align: right;\">\n",
       "      <th></th>\n",
       "      <th>사고건수</th>\n",
       "      <th>사망자수</th>\n",
       "      <th>중상자수</th>\n",
       "      <th>경상자수</th>\n",
       "      <th>부상신고자수</th>\n",
       "    </tr>\n",
       "    <tr>\n",
       "      <th>시도</th>\n",
       "      <th></th>\n",
       "      <th></th>\n",
       "      <th></th>\n",
       "      <th></th>\n",
       "      <th></th>\n",
       "    </tr>\n",
       "  </thead>\n",
       "  <tbody>\n",
       "    <tr>\n",
       "      <th>강원</th>\n",
       "      <td>5930</td>\n",
       "      <td>121</td>\n",
       "      <td>1900</td>\n",
       "      <td>6438</td>\n",
       "      <td>908</td>\n",
       "    </tr>\n",
       "    <tr>\n",
       "      <th>경기</th>\n",
       "      <td>52175</td>\n",
       "      <td>472</td>\n",
       "      <td>12235</td>\n",
       "      <td>57460</td>\n",
       "      <td>6712</td>\n",
       "    </tr>\n",
       "    <tr>\n",
       "      <th>경남</th>\n",
       "      <td>10703</td>\n",
       "      <td>233</td>\n",
       "      <td>4254</td>\n",
       "      <td>9309</td>\n",
       "      <td>994</td>\n",
       "    </tr>\n",
       "    <tr>\n",
       "      <th>경북</th>\n",
       "      <td>10403</td>\n",
       "      <td>264</td>\n",
       "      <td>3732</td>\n",
       "      <td>10200</td>\n",
       "      <td>869</td>\n",
       "    </tr>\n",
       "    <tr>\n",
       "      <th>광주</th>\n",
       "      <td>6908</td>\n",
       "      <td>41</td>\n",
       "      <td>1105</td>\n",
       "      <td>8686</td>\n",
       "      <td>492</td>\n",
       "    </tr>\n",
       "    <tr>\n",
       "      <th>대구</th>\n",
       "      <td>10222</td>\n",
       "      <td>89</td>\n",
       "      <td>2537</td>\n",
       "      <td>10517</td>\n",
       "      <td>1175</td>\n",
       "    </tr>\n",
       "    <tr>\n",
       "      <th>대전</th>\n",
       "      <td>7490</td>\n",
       "      <td>41</td>\n",
       "      <td>1556</td>\n",
       "      <td>8790</td>\n",
       "      <td>342</td>\n",
       "    </tr>\n",
       "    <tr>\n",
       "      <th>부산</th>\n",
       "      <td>11255</td>\n",
       "      <td>102</td>\n",
       "      <td>3418</td>\n",
       "      <td>10759</td>\n",
       "      <td>995</td>\n",
       "    </tr>\n",
       "    <tr>\n",
       "      <th>서울</th>\n",
       "      <td>33465</td>\n",
       "      <td>212</td>\n",
       "      <td>7575</td>\n",
       "      <td>33387</td>\n",
       "      <td>3365</td>\n",
       "    </tr>\n",
       "    <tr>\n",
       "      <th>세종</th>\n",
       "      <td>1231</td>\n",
       "      <td>7</td>\n",
       "      <td>233</td>\n",
       "      <td>1319</td>\n",
       "      <td>257</td>\n",
       "    </tr>\n",
       "    <tr>\n",
       "      <th>울산</th>\n",
       "      <td>3576</td>\n",
       "      <td>52</td>\n",
       "      <td>1144</td>\n",
       "      <td>3325</td>\n",
       "      <td>435</td>\n",
       "    </tr>\n",
       "    <tr>\n",
       "      <th>인천</th>\n",
       "      <td>8089</td>\n",
       "      <td>87</td>\n",
       "      <td>1720</td>\n",
       "      <td>8536</td>\n",
       "      <td>512</td>\n",
       "    </tr>\n",
       "    <tr>\n",
       "      <th>전남</th>\n",
       "      <td>8213</td>\n",
       "      <td>201</td>\n",
       "      <td>2257</td>\n",
       "      <td>9624</td>\n",
       "      <td>525</td>\n",
       "    </tr>\n",
       "    <tr>\n",
       "      <th>전북</th>\n",
       "      <td>5841</td>\n",
       "      <td>174</td>\n",
       "      <td>1784</td>\n",
       "      <td>6426</td>\n",
       "      <td>277</td>\n",
       "    </tr>\n",
       "    <tr>\n",
       "      <th>제주</th>\n",
       "      <td>3963</td>\n",
       "      <td>48</td>\n",
       "      <td>1048</td>\n",
       "      <td>4062</td>\n",
       "      <td>634</td>\n",
       "    </tr>\n",
       "    <tr>\n",
       "      <th>충남</th>\n",
       "      <td>8896</td>\n",
       "      <td>233</td>\n",
       "      <td>2857</td>\n",
       "      <td>9233</td>\n",
       "      <td>716</td>\n",
       "    </tr>\n",
       "    <tr>\n",
       "      <th>충북</th>\n",
       "      <td>7989</td>\n",
       "      <td>144</td>\n",
       "      <td>2198</td>\n",
       "      <td>9200</td>\n",
       "      <td>450</td>\n",
       "    </tr>\n",
       "  </tbody>\n",
       "</table>\n",
       "</div>"
      ],
      "text/plain": [
       "     사고건수  사망자수   중상자수   경상자수  부상신고자수\n",
       "시도                                   \n",
       "강원   5930   121   1900   6438     908\n",
       "경기  52175   472  12235  57460    6712\n",
       "경남  10703   233   4254   9309     994\n",
       "경북  10403   264   3732  10200     869\n",
       "광주   6908    41   1105   8686     492\n",
       "대구  10222    89   2537  10517    1175\n",
       "대전   7490    41   1556   8790     342\n",
       "부산  11255   102   3418  10759     995\n",
       "서울  33465   212   7575  33387    3365\n",
       "세종   1231     7    233   1319     257\n",
       "울산   3576    52   1144   3325     435\n",
       "인천   8089    87   1720   8536     512\n",
       "전남   8213   201   2257   9624     525\n",
       "전북   5841   174   1784   6426     277\n",
       "제주   3963    48   1048   4062     634\n",
       "충남   8896   233   2857   9233     716\n",
       "충북   7989   144   2198   9200     450"
      ]
     },
     "execution_count": 151,
     "metadata": {},
     "output_type": "execute_result"
    }
   ],
   "source": [
    "df_group = df.groupby('시도').sum()\n",
    "df_group.drop('시군구',axis=1,inplace=True)\n",
    "df_group"
   ]
  },
  {
   "cell_type": "code",
   "execution_count": 66,
   "id": "4325d7c5-62db-4194-8233-4df1c983c8a1",
   "metadata": {
    "scrolled": true
   },
   "outputs": [
    {
     "name": "stdout",
     "output_type": "stream",
     "text": [
      "<class 'pandas.core.frame.DataFrame'>\n",
      "Index: 17 entries, 강원 to 충북\n",
      "Data columns (total 5 columns):\n",
      " #   Column  Non-Null Count  Dtype\n",
      "---  ------  --------------  -----\n",
      " 0   사고건수    17 non-null     int64\n",
      " 1   사망자수    17 non-null     int64\n",
      " 2   중상자수    17 non-null     int64\n",
      " 3   경상자수    17 non-null     int64\n",
      " 4   부상신고자수  17 non-null     int64\n",
      "dtypes: int64(5)\n",
      "memory usage: 816.0+ bytes\n"
     ]
    }
   ],
   "source": [
    "df_group.info()"
   ]
  },
  {
   "cell_type": "code",
   "execution_count": 146,
   "id": "5ebbec4a-978e-42f7-92c3-fe7d3b88be27",
   "metadata": {},
   "outputs": [
    {
     "name": "stdout",
     "output_type": "stream",
     "text": [
      "     사고건수  사망자수   중상자수   경상자수  부상신고자수       사망률\n",
      "시도                                             \n",
      "경기  52175   472  12235  57460    6712  0.904648\n",
      "서울  33465   212   7575  33387    3365  0.633498\n",
      "부산  11255   102   3418  10759     995  0.906264\n",
      "경남  10703   233   4254   9309     994  2.176960\n",
      "경북  10403   264   3732  10200     869  2.537730\n",
      "대구  10222    89   2537  10517    1175  0.870671\n",
      "충남   8896   233   2857   9233     716  2.619155\n",
      "전남   8213   201   2257   9624     525  2.447340\n",
      "인천   8089    87   1720   8536     512  1.075535\n",
      "충북   7989   144   2198   9200     450  1.802478\n",
      "대전   7490    41   1556   8790     342  0.547397\n",
      "광주   6908    41   1105   8686     492  0.593515\n",
      "강원   5930   121   1900   6438     908  2.040472\n",
      "전북   5841   174   1784   6426     277  2.978942\n",
      "제주   3963    48   1048   4062     634  1.211204\n",
      "울산   3576    52   1144   3325     435  1.454139\n",
      "세종   1231     7    233   1319     257  0.568643\n"
     ]
    }
   ],
   "source": [
    "df_sorted = df_group.sort_values(by='사고건수', ascending=False)\n",
    "\n",
    "# 결과 확인\n",
    "print(df_sorted)"
   ]
  },
  {
   "cell_type": "markdown",
   "id": "b029f800-fd62-4e91-931c-1849bc4d22c2",
   "metadata": {},
   "source": [
    "# 시각화"
   ]
  },
  {
   "cell_type": "markdown",
   "id": "3b0c88bb-c73e-4632-afb3-59dd32480442",
   "metadata": {},
   "source": [
    "* Bar차트"
   ]
  },
  {
   "cell_type": "code",
   "execution_count": 104,
   "id": "dee7592b-7a6c-4228-9f71-8d1721fd2842",
   "metadata": {},
   "outputs": [
    {
     "data": {
      "text/plain": [
       "Index(['강원', '경기', '경남', '경북', '광주', '대구', '대전', '부산', '서울', '세종', '울산', '인천',\n",
       "       '전남', '전북', '제주', '충남', '충북'],\n",
       "      dtype='object', name='시도')"
      ]
     },
     "execution_count": 104,
     "metadata": {},
     "output_type": "execute_result"
    }
   ],
   "source": [
    "df_group.index"
   ]
  },
  {
   "cell_type": "code",
   "execution_count": 140,
   "id": "4baed700-e5a7-4689-a3c8-bca45af36a3a",
   "metadata": {},
   "outputs": [
    {
     "data": {
      "image/png": "[encoded data removed]",
      "text/plain": [
       "<Figure size 640x480 with 1 Axes>"
      ]
     },
     "metadata": {},
     "output_type": "display_data"
    }
   ],
   "source": [
    "list = df_group.index.tolist()\n",
    "x = np.arange(len(list))\n",
    "values = df_group.사고건수.value_counts().index.tolist()\n",
    "plt.bar(x, values)\n",
    "plt.xticks(x, list)\n",
    "\n",
    "plt.xlabel('시도')\n",
    "plt.ylabel('사고건수')\n",
    "plt.title('시도별 사고건수')\n",
    "plt.axhline(y = avg, color = 'g', linestyle = '--', label='평균치')\n",
    "plt.show()"
   ]
  },
  {
   "cell_type": "code",
   "execution_count": 143,
   "id": "422bfbe4-97f8-4d79-a385-b3d2f23ab277",
   "metadata": {},
   "outputs": [
    {
     "name": "stdout",
     "output_type": "stream",
     "text": [
      "[5930, 52175, 10703, 10403, 6908, 10222, 7490, 11255, 33465, 1231, 3576, 8089, 8213, 5841, 3963, 8896, 7989]\n"
     ]
    }
   ],
   "source": [
    "sorted_index = df_group['사고건수'].value_counts().sort_values(ascending=False).index.tolist()\n",
    "\n",
    "print(sorted_index)"
   ]
  },
  {
   "cell_type": "code",
   "execution_count": 140,
   "id": "29627b5f-e504-4b00-bae0-39a3fcf23cd6",
   "metadata": {},
   "outputs": [
    {
     "data": {
      "image/png": "[encoded data removed]",
      "text/plain": [
       "<Figure size 640x480 with 1 Axes>"
      ]
     },
     "metadata": {},
     "output_type": "display_data"
    }
   ],
   "source": [
    "list = df_group.index.tolist()\n",
    "x = np.arange(len(list))\n",
    "values = df_group.사고건수.value_counts().index.tolist()\n",
    "plt.bar(x, values)\n",
    "plt.xticks(x, list)\n",
    "\n",
    "plt.xlabel('시도')\n",
    "plt.ylabel('사고건수')\n",
    "plt.title('시도별 사고건수')\n",
    "plt.axhline(y = avg, color = 'g', linestyle = '--', label='평균치')\n",
    "plt.show()"
   ]
  },
  {
   "cell_type": "code",
   "execution_count": 120,
   "id": "64a4bb5d-2fcd-46e4-a357-7c8385fa4e40",
   "metadata": {},
   "outputs": [
    {
     "data": {
      "image/png": "[encoded data removed]",
      "text/plain": [
       "<Figure size 640x480 with 1 Axes>"
      ]
     },
     "metadata": {},
     "output_type": "display_data"
    }
   ],
   "source": [
    "list = df_group.index.tolist()\n",
    "x = np.arange(len(list))\n",
    "values = df_group.사망률.value_counts().index.tolist()\n",
    "plt.bar(x, values)\n",
    "plt.xticks(x, list)\n",
    "plt.show()"
   ]
  },
  {
   "cell_type": "markdown",
   "id": "2ed09dd4-a682-45bd-b13f-8758ead14b80",
   "metadata": {},
   "source": [
    "* 파이 차트"
   ]
  },
  {
   "cell_type": "code",
   "execution_count": 112,
   "id": "46ef20ca-d33e-4c2d-ba81-85226373702e",
   "metadata": {},
   "outputs": [
    {
     "data": {
      "image/png": "[encoded data removed]",
      "text/plain": [
       "<Figure size 640x480 with 1 Axes>"
      ]
     },
     "metadata": {},
     "output_type": "display_data"
    }
   ],
   "source": [
    "plt.pie(values, labels=list, autopct='%.1f%%')\n",
    "# autopct: % 포맷 문자열의 시작을 명시, .1f: 소스점 첫째자리까지 표기, %%: %기호를 표기\n",
    "plt.show()"
   ]
  },
  {
   "cell_type": "code",
   "execution_count": null,
   "id": "5bc3c234-79d0-492c-8a8c-a258f51dcd5e",
   "metadata": {},
   "outputs": [],
   "source": []
  }
 ],
 "metadata": {
  "kernelspec": {
   "display_name": "Python [conda env:base] *",
   "language": "python",
   "name": "conda-base-py"
  },
  "language_info": {
   "codemirror_mode": {
    "name": "ipython",
    "version": 3
   },
   "file_extension": ".py",
   "mimetype": "text/x-python",
   "name": "python",
   "nbconvert_exporter": "python",
   "pygments_lexer": "ipython3",
   "version": "3.13.5"
  }
 },
 "nbformat": 4,
 "nbformat_minor": 5
}
