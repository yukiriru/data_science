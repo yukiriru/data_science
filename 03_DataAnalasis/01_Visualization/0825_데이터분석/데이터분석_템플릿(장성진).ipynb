{
 "cells": [
  {
   "cell_type": "code",
   "execution_count": 2,
   "id": "99c15fd2-6fc8-48de-b6d0-cf621503dddd",
   "metadata": {},
   "outputs": [],
   "source": [
    "import pandas as pd\n",
    "import numpy as np\n",
    "import seaborn as sns\n",
    "import matplotlib.pyplot as plt\n",
    "%matplotlib inline\n",
    "from matplotlib import font_manager,rc\n",
    "# 한글 폰트\n",
    "font_location = \"C:\\Windows\\Fonts\\malgun.ttf\"\n",
    "font_name = font_manager.FontProperties(fname=font_location).get_name()\n",
    "rc('font',family=font_name)"
   ]
  },
  {
   "cell_type": "markdown",
   "id": "9a361676",
   "metadata": {
    "hidden": true
   },
   "source": [
    "## 주요절차"
   ]
  },
  {
   "cell_type": "markdown",
   "id": "27585602",
   "metadata": {
    "hidden": true
   },
   "source": [
    "### 1. 초기데이터 분석"
   ]
  },
  {
   "cell_type": "code",
   "execution_count": 3,
   "id": "0b8a022b-7efe-4d3d-b96d-82a184af1736",
   "metadata": {},
   "outputs": [
    {
     "data": {
      "text/html": [
       "<div>\n",
       "<style scoped>\n",
       "    .dataframe tbody tr th:only-of-type {\n",
       "        vertical-align: middle;\n",
       "    }\n",
       "\n",
       "    .dataframe tbody tr th {\n",
       "        vertical-align: top;\n",
       "    }\n",
       "\n",
       "    .dataframe thead th {\n",
       "        text-align: right;\n",
       "    }\n",
       "</style>\n",
       "<table border=\"1\" class=\"dataframe\">\n",
       "  <thead>\n",
       "    <tr style=\"text-align: right;\">\n",
       "      <th></th>\n",
       "      <th>기준년도</th>\n",
       "      <th>기준월</th>\n",
       "      <th>법정동코드</th>\n",
       "      <th>법정동명</th>\n",
       "      <th>표준산업대분류코드</th>\n",
       "      <th>표준산업대분류명</th>\n",
       "      <th>1인당 소비 금액</th>\n",
       "    </tr>\n",
       "  </thead>\n",
       "  <tbody>\n",
       "    <tr>\n",
       "      <th>0</th>\n",
       "      <td>2023</td>\n",
       "      <td>1</td>\n",
       "      <td>30200126</td>\n",
       "      <td>가정동</td>\n",
       "      <td>C</td>\n",
       "      <td>제조업(10-34)</td>\n",
       "      <td>33800</td>\n",
       "    </tr>\n",
       "    <tr>\n",
       "      <th>1</th>\n",
       "      <td>2023</td>\n",
       "      <td>1</td>\n",
       "      <td>30200126</td>\n",
       "      <td>가정동</td>\n",
       "      <td>G</td>\n",
       "      <td>도매 및 소매업(45-47)</td>\n",
       "      <td>40200</td>\n",
       "    </tr>\n",
       "    <tr>\n",
       "      <th>2</th>\n",
       "      <td>2023</td>\n",
       "      <td>1</td>\n",
       "      <td>30200126</td>\n",
       "      <td>가정동</td>\n",
       "      <td>I</td>\n",
       "      <td>숙박 및 음식점업(55-56)</td>\n",
       "      <td>21300</td>\n",
       "    </tr>\n",
       "    <tr>\n",
       "      <th>3</th>\n",
       "      <td>2023</td>\n",
       "      <td>1</td>\n",
       "      <td>30200126</td>\n",
       "      <td>가정동</td>\n",
       "      <td>P</td>\n",
       "      <td>교육 서비스업(85)</td>\n",
       "      <td>74400</td>\n",
       "    </tr>\n",
       "    <tr>\n",
       "      <th>4</th>\n",
       "      <td>2023</td>\n",
       "      <td>1</td>\n",
       "      <td>30200126</td>\n",
       "      <td>가정동</td>\n",
       "      <td>Q</td>\n",
       "      <td>보건업 및 사회복지 서비스업(86-87)</td>\n",
       "      <td>17800</td>\n",
       "    </tr>\n",
       "  </tbody>\n",
       "</table>\n",
       "</div>"
      ],
      "text/plain": [
       "   기준년도  기준월     법정동코드 법정동명 표준산업대분류코드                표준산업대분류명  1인당 소비 금액\n",
       "0  2023    1  30200126  가정동         C              제조업(10-34)      33800\n",
       "1  2023    1  30200126  가정동         G         도매 및 소매업(45-47)      40200\n",
       "2  2023    1  30200126  가정동         I        숙박 및 음식점업(55-56)      21300\n",
       "3  2023    1  30200126  가정동         P             교육 서비스업(85)      74400\n",
       "4  2023    1  30200126  가정동         Q  보건업 및 사회복지 서비스업(86-87)      17800"
      ]
     },
     "execution_count": 3,
     "metadata": {},
     "output_type": "execute_result"
    }
   ],
   "source": [
    "file1 = pd.read_csv('유성구_1인당 평균 소비 금액 데이터_202301.csv',encoding='cp949')\n",
    "file2 = pd.read_csv('유성구_1인당 평균 소비 금액 데이터_202302.csv',encoding='cp949')\n",
    "file3 = pd.read_csv('유성구_1인당 평균 소비 금액 데이터_202303.csv',encoding='cp949')\n",
    "file4 = pd.read_csv('유성구_1인당 평균 소비 금액 데이터_202304.csv',encoding='cp949')\n",
    "file5 = pd.read_csv('유성구_1인당 평균 소비 금액 데이터_202305.csv',encoding='cp949')\n",
    "file6 = pd.read_csv('유성구_1인당 평균 소비 금액 데이터_202306.csv',encoding='cp949')\n",
    "file7 = pd.read_csv('유성구_1인당 평균 소비 금액 데이터_202307.csv',encoding='cp949')\n",
    "file8 = pd.read_csv('유성구_1인당 평균 소비 금액 데이터_202308.csv',encoding='cp949')\n",
    "file9 = pd.read_csv('유성구_1인당 평균 소비 금액 데이터_202309.csv',encoding='cp949')\n",
    "file10 = pd.read_csv('유성구_1인당 평균 소비 금액 데이터_202310.csv',encoding='cp949')\n",
    "file11 = pd.read_csv('유성구_1인당 평균 소비 금액 데이터_202311.csv',encoding='cp949')\n",
    "file12 = pd.read_csv('유성구_1인당 평균 소비 금액 데이터_202312.csv',encoding='cp949')\n",
    "\n",
    "result = pd.concat([file1,file2,file3,file4,file5,file6,file7,file8,file9,file10,file11,file12])\n",
    "result.head()"
   ]
  },
  {
   "cell_type": "markdown",
   "id": "f952717d-1c7e-4ec5-a2bf-85ec04cad815",
   "metadata": {
    "hidden": true
   },
   "source": [
    "#### 1-1. 데이터딕셔너리(각 열의 의미, 데이터의 의미해석관련 스펙 또는 메뉴얼) 확인\n",
    "#### 1-2 데이터 기초정보 확인 (사이즈, 열이름, 데이터형)"
   ]
  },
  {
   "cell_type": "code",
   "execution_count": 4,
   "id": "4a5e0a79-7c99-4d7a-9035-4e97c6911e74",
   "metadata": {},
   "outputs": [
    {
     "data": {
      "text/plain": [
       "표준산업대분류명\n",
       "숙박 및 음식점업(55-56)                   605\n",
       "도매 및 소매업(45-47)                    580\n",
       "협회 및 단체  수리 및 기타 개인 서비스업(94-96)    552\n",
       "교육 서비스업(85)                        550\n",
       "예술  스포츠 및 여가관련 서비스업(90-91)         447\n",
       "보건업 및 사회복지 서비스업(86-87)             404\n",
       "공공 행정 국방 및 사회보장 행정(84)             358\n",
       "전문  과학 및 기술 서비스업(70-73)            353\n",
       "제조업(10-34)                         336\n",
       "운수 및 창고업(49-52)                    287\n",
       "건설업(41-42)                         170\n",
       "사업시설 관리  사업 지원 및 임대 서비스업(74-76)    151\n",
       "금융 및 보험업(64~66)                    107\n",
       "부동산업(68)                            56\n",
       "정보통신업(58-63)                        51\n",
       "금융 및 보험업(64-66)                      7\n",
       "Name: count, dtype: int64"
      ]
     },
     "execution_count": 4,
     "metadata": {},
     "output_type": "execute_result"
    }
   ],
   "source": [
    "result.표준산업대분류명.value_counts()"
   ]
  },
  {
   "cell_type": "code",
   "execution_count": 5,
   "id": "93bc69cf-8aff-4367-a240-7c638f49e438",
   "metadata": {},
   "outputs": [
    {
     "name": "stdout",
     "output_type": "stream",
     "text": [
      "<class 'pandas.core.frame.DataFrame'>\n",
      "Index: 5014 entries, 0 to 446\n",
      "Data columns (total 7 columns):\n",
      " #   Column     Non-Null Count  Dtype \n",
      "---  ------     --------------  ----- \n",
      " 0   기준년도       5014 non-null   int64 \n",
      " 1   기준월        5014 non-null   int64 \n",
      " 2   법정동코드      5014 non-null   int64 \n",
      " 3   법정동명       5014 non-null   object\n",
      " 4   표준산업대분류코드  5014 non-null   object\n",
      " 5   표준산업대분류명   5014 non-null   object\n",
      " 6   1인당 소비 금액  5014 non-null   int64 \n",
      "dtypes: int64(4), object(3)\n",
      "memory usage: 313.4+ KB\n"
     ]
    }
   ],
   "source": [
    "result.info()"
   ]
  },
  {
   "cell_type": "markdown",
   "id": "fc3d0eb7-3b2e-4204-944a-9287732085c9",
   "metadata": {},
   "source": [
    "* 기초통계정보 확인"
   ]
  },
  {
   "cell_type": "raw",
   "id": "66a43f0e-61a2-491f-96c6-5a54f3e52b50",
   "metadata": {
    "hidden": true
   },
   "source": [
    "기초 통계값 확인 ( df.describe() )\n",
    "[수치형 데이터]\r",
    " \n",
    "=> 수치데이터로서 의미가 는지 판단? (이상치, 아웃라이어 확인)\r\n",
    "=> 의미가 있는(예: 키, 몸무게, 가격등) 열에 대해 아래 작업 진행  분석\r\n",
    " - 확인해야 할 사항    수치상\r\n",
    "mean, min, 1q, 2q(중위값),  최대값 가격\r\n",
    " - 시각화\r\n",
    "  히스토그램, 박스플롯 (바이올린플롯)\r\n",
    " - 이상치 유무 확인\r\n",
    " - 이상치가 있다면 보정방식을 선택\r\n",
    "  (예, 단일값, 보정: 삭제이상치 수정이후 , 포함)\r\n",
    "- 기초통계값과, 차치가 [보 재  데이터]유무 확인)\r\n",
    "- 문자열\r\n",
    " => unique의 결과값에서 파이차트나 막대차트로 그릴수  - 있는 열이 있는지 확인\r\n",
    " 10개미만은 파이차트,  - 도우넛차트 그리기에 용이\r\n",
    " 10개상위 은 파이차트, 막대차트(Top3,5,10 등을 도출.. 그리고 형 데이터나하위 데이터3,5,10)\r\n",
    "\r\n",
    "* 수치 문자 중에 범위화 할 \n",
    " 예)수 있는 열이 있는지 확인해 보자\r\n",
    " 가격=> 초고가, 고가,위 작업은  일반, 저가 함수를 통해\r",
    "ly 함수를 통해"
   ]
  },
  {
   "cell_type": "markdown",
   "id": "2ebab032",
   "metadata": {
    "hidden": true
   },
   "source": [
    "### 2. 데이터 정제"
   ]
  },
  {
   "cell_type": "code",
   "execution_count": 6,
   "id": "b4705134-83cd-4d16-822f-cc2ded25e257",
   "metadata": {},
   "outputs": [
    {
     "data": {
      "text/html": [
       "<div>\n",
       "<style scoped>\n",
       "    .dataframe tbody tr th:only-of-type {\n",
       "        vertical-align: middle;\n",
       "    }\n",
       "\n",
       "    .dataframe tbody tr th {\n",
       "        vertical-align: top;\n",
       "    }\n",
       "\n",
       "    .dataframe thead th {\n",
       "        text-align: right;\n",
       "    }\n",
       "</style>\n",
       "<table border=\"1\" class=\"dataframe\">\n",
       "  <thead>\n",
       "    <tr style=\"text-align: right;\">\n",
       "      <th></th>\n",
       "      <th>기준월</th>\n",
       "      <th>법정동명</th>\n",
       "      <th>표준산업대분류명</th>\n",
       "      <th>1인당 소비 금액</th>\n",
       "    </tr>\n",
       "  </thead>\n",
       "  <tbody>\n",
       "    <tr>\n",
       "      <th>0</th>\n",
       "      <td>1</td>\n",
       "      <td>가정동</td>\n",
       "      <td>제조업(10-34)</td>\n",
       "      <td>33800</td>\n",
       "    </tr>\n",
       "    <tr>\n",
       "      <th>1</th>\n",
       "      <td>1</td>\n",
       "      <td>가정동</td>\n",
       "      <td>도매 및 소매업(45-47)</td>\n",
       "      <td>40200</td>\n",
       "    </tr>\n",
       "    <tr>\n",
       "      <th>2</th>\n",
       "      <td>1</td>\n",
       "      <td>가정동</td>\n",
       "      <td>숙박 및 음식점업(55-56)</td>\n",
       "      <td>21300</td>\n",
       "    </tr>\n",
       "    <tr>\n",
       "      <th>3</th>\n",
       "      <td>1</td>\n",
       "      <td>가정동</td>\n",
       "      <td>교육 서비스업(85)</td>\n",
       "      <td>74400</td>\n",
       "    </tr>\n",
       "    <tr>\n",
       "      <th>4</th>\n",
       "      <td>1</td>\n",
       "      <td>가정동</td>\n",
       "      <td>보건업 및 사회복지 서비스업(86-87)</td>\n",
       "      <td>17800</td>\n",
       "    </tr>\n",
       "    <tr>\n",
       "      <th>...</th>\n",
       "      <td>...</td>\n",
       "      <td>...</td>\n",
       "      <td>...</td>\n",
       "      <td>...</td>\n",
       "    </tr>\n",
       "    <tr>\n",
       "      <th>442</th>\n",
       "      <td>12</td>\n",
       "      <td>화암동</td>\n",
       "      <td>숙박 및 음식점업(55-56)</td>\n",
       "      <td>26900</td>\n",
       "    </tr>\n",
       "    <tr>\n",
       "      <th>443</th>\n",
       "      <td>12</td>\n",
       "      <td>화암동</td>\n",
       "      <td>공공 행정 국방 및 사회보장 행정(84)</td>\n",
       "      <td>40800</td>\n",
       "    </tr>\n",
       "    <tr>\n",
       "      <th>444</th>\n",
       "      <td>12</td>\n",
       "      <td>화암동</td>\n",
       "      <td>교육 서비스업(85)</td>\n",
       "      <td>445800</td>\n",
       "    </tr>\n",
       "    <tr>\n",
       "      <th>445</th>\n",
       "      <td>12</td>\n",
       "      <td>화암동</td>\n",
       "      <td>보건업 및 사회복지 서비스업(86-87)</td>\n",
       "      <td>575500</td>\n",
       "    </tr>\n",
       "    <tr>\n",
       "      <th>446</th>\n",
       "      <td>12</td>\n",
       "      <td>화암동</td>\n",
       "      <td>협회 및 단체  수리 및 기타 개인 서비스업(94-96)</td>\n",
       "      <td>289200</td>\n",
       "    </tr>\n",
       "  </tbody>\n",
       "</table>\n",
       "<p>5014 rows × 4 columns</p>\n",
       "</div>"
      ],
      "text/plain": [
       "     기준월 법정동명                         표준산업대분류명  1인당 소비 금액\n",
       "0      1  가정동                       제조업(10-34)      33800\n",
       "1      1  가정동                  도매 및 소매업(45-47)      40200\n",
       "2      1  가정동                 숙박 및 음식점업(55-56)      21300\n",
       "3      1  가정동                      교육 서비스업(85)      74400\n",
       "4      1  가정동           보건업 및 사회복지 서비스업(86-87)      17800\n",
       "..   ...  ...                              ...        ...\n",
       "442   12  화암동                 숙박 및 음식점업(55-56)      26900\n",
       "443   12  화암동           공공 행정 국방 및 사회보장 행정(84)      40800\n",
       "444   12  화암동                      교육 서비스업(85)     445800\n",
       "445   12  화암동           보건업 및 사회복지 서비스업(86-87)     575500\n",
       "446   12  화암동  협회 및 단체  수리 및 기타 개인 서비스업(94-96)     289200\n",
       "\n",
       "[5014 rows x 4 columns]"
      ]
     },
     "execution_count": 6,
     "metadata": {},
     "output_type": "execute_result"
    }
   ],
   "source": [
    "use_cols = [\"기준월\", \"법정동명\", \"표준산업대분류명\", \"1인당 소비 금액\"]\n",
    "df = result[use_cols].copy()\n",
    "df"
   ]
  },
  {
   "cell_type": "code",
   "execution_count": 10,
   "id": "b6ff17a3-c31c-4a14-a099-dd51b92d398b",
   "metadata": {},
   "outputs": [
    {
     "data": {
      "text/html": [
       "<div>\n",
       "<style scoped>\n",
       "    .dataframe tbody tr th:only-of-type {\n",
       "        vertical-align: middle;\n",
       "    }\n",
       "\n",
       "    .dataframe tbody tr th {\n",
       "        vertical-align: top;\n",
       "    }\n",
       "\n",
       "    .dataframe thead th {\n",
       "        text-align: right;\n",
       "    }\n",
       "</style>\n",
       "<table border=\"1\" class=\"dataframe\">\n",
       "  <thead>\n",
       "    <tr style=\"text-align: right;\">\n",
       "      <th></th>\n",
       "      <th>기준월</th>\n",
       "      <th>법정동명</th>\n",
       "      <th>표준산업대분류명</th>\n",
       "      <th>1인당 소비 금액</th>\n",
       "      <th>산업분류</th>\n",
       "    </tr>\n",
       "  </thead>\n",
       "  <tbody>\n",
       "    <tr>\n",
       "      <th>0</th>\n",
       "      <td>1</td>\n",
       "      <td>가정동</td>\n",
       "      <td>제조업(10-34)</td>\n",
       "      <td>33800</td>\n",
       "      <td>제조·건설업</td>\n",
       "    </tr>\n",
       "    <tr>\n",
       "      <th>1</th>\n",
       "      <td>1</td>\n",
       "      <td>가정동</td>\n",
       "      <td>도매 및 소매업(45-47)</td>\n",
       "      <td>40200</td>\n",
       "      <td>도매·소매업</td>\n",
       "    </tr>\n",
       "    <tr>\n",
       "      <th>2</th>\n",
       "      <td>1</td>\n",
       "      <td>가정동</td>\n",
       "      <td>숙박 및 음식점업(55-56)</td>\n",
       "      <td>21300</td>\n",
       "      <td>숙박·음식업</td>\n",
       "    </tr>\n",
       "    <tr>\n",
       "      <th>3</th>\n",
       "      <td>1</td>\n",
       "      <td>가정동</td>\n",
       "      <td>교육 서비스업(85)</td>\n",
       "      <td>74400</td>\n",
       "      <td>공공·교육·보건</td>\n",
       "    </tr>\n",
       "    <tr>\n",
       "      <th>4</th>\n",
       "      <td>1</td>\n",
       "      <td>가정동</td>\n",
       "      <td>보건업 및 사회복지 서비스업(86-87)</td>\n",
       "      <td>17800</td>\n",
       "      <td>공공·교육·보건</td>\n",
       "    </tr>\n",
       "    <tr>\n",
       "      <th>...</th>\n",
       "      <td>...</td>\n",
       "      <td>...</td>\n",
       "      <td>...</td>\n",
       "      <td>...</td>\n",
       "      <td>...</td>\n",
       "    </tr>\n",
       "    <tr>\n",
       "      <th>442</th>\n",
       "      <td>12</td>\n",
       "      <td>화암동</td>\n",
       "      <td>숙박 및 음식점업(55-56)</td>\n",
       "      <td>26900</td>\n",
       "      <td>숙박·음식업</td>\n",
       "    </tr>\n",
       "    <tr>\n",
       "      <th>443</th>\n",
       "      <td>12</td>\n",
       "      <td>화암동</td>\n",
       "      <td>공공 행정 국방 및 사회보장 행정(84)</td>\n",
       "      <td>40800</td>\n",
       "      <td>공공·교육·보건</td>\n",
       "    </tr>\n",
       "    <tr>\n",
       "      <th>444</th>\n",
       "      <td>12</td>\n",
       "      <td>화암동</td>\n",
       "      <td>교육 서비스업(85)</td>\n",
       "      <td>445800</td>\n",
       "      <td>공공·교육·보건</td>\n",
       "    </tr>\n",
       "    <tr>\n",
       "      <th>445</th>\n",
       "      <td>12</td>\n",
       "      <td>화암동</td>\n",
       "      <td>보건업 및 사회복지 서비스업(86-87)</td>\n",
       "      <td>575500</td>\n",
       "      <td>공공·교육·보건</td>\n",
       "    </tr>\n",
       "    <tr>\n",
       "      <th>446</th>\n",
       "      <td>12</td>\n",
       "      <td>화암동</td>\n",
       "      <td>협회 및 단체  수리 및 기타 개인 서비스업(94-96)</td>\n",
       "      <td>289200</td>\n",
       "      <td>예술·여가·개인서비스</td>\n",
       "    </tr>\n",
       "  </tbody>\n",
       "</table>\n",
       "<p>5014 rows × 5 columns</p>\n",
       "</div>"
      ],
      "text/plain": [
       "     기준월 법정동명                         표준산업대분류명  1인당 소비 금액         산업분류\n",
       "0      1  가정동                       제조업(10-34)      33800       제조·건설업\n",
       "1      1  가정동                  도매 및 소매업(45-47)      40200       도매·소매업\n",
       "2      1  가정동                 숙박 및 음식점업(55-56)      21300       숙박·음식업\n",
       "3      1  가정동                      교육 서비스업(85)      74400     공공·교육·보건\n",
       "4      1  가정동           보건업 및 사회복지 서비스업(86-87)      17800     공공·교육·보건\n",
       "..   ...  ...                              ...        ...          ...\n",
       "442   12  화암동                 숙박 및 음식점업(55-56)      26900       숙박·음식업\n",
       "443   12  화암동           공공 행정 국방 및 사회보장 행정(84)      40800     공공·교육·보건\n",
       "444   12  화암동                      교육 서비스업(85)     445800     공공·교육·보건\n",
       "445   12  화암동           보건업 및 사회복지 서비스업(86-87)     575500     공공·교육·보건\n",
       "446   12  화암동  협회 및 단체  수리 및 기타 개인 서비스업(94-96)     289200  예술·여가·개인서비스\n",
       "\n",
       "[5014 rows x 5 columns]"
      ]
     },
     "execution_count": 10,
     "metadata": {},
     "output_type": "execute_result"
    }
   ],
   "source": [
    "def simplify_category(x):\n",
    "    if x in [\"제조업(10-34)\", \"건설업(41-42)\"]:\n",
    "        return \"제조·건설업\"\n",
    "    elif x in [\"숙박 및 음식점업(55-56)\"]:\n",
    "        return \"숙박·음식업\"\n",
    "    elif x in [\"도매 및 소매업(45-47)\"]:\n",
    "        return \"도매·소매업\"\n",
    "    elif x in [\"운수 및 창고업(49-52)\"]:\n",
    "        return \"운수·창고업\"\n",
    "    elif x in [\"금융 및 보험업(64-66)\", \"부동산업(68)\"]:\n",
    "        return \"금융·부동산\"\n",
    "    elif x in [\"교육 서비스업(85)\", \"보건업 및 사회복지 서비스업(86-87)\", \"공공 행정 국방 및 사회보장 행정(84)\"]:\n",
    "        return \"공공·교육·보건\"\n",
    "    elif x in [\"예술  스포츠 및 여가관련 서비스업(90-91)\", \"협회 및 단체  수리 및 기타 개인 서비스업(94-96)\"]:\n",
    "        return \"예술·여가·개인서비스\"\n",
    "    else:\n",
    "        return \"기타\"\n",
    "\n",
    "df[\"산업분류\"] = df[\"표준산업대분류명\"].apply(simplify_category)\n",
    "df"
   ]
  },
  {
   "cell_type": "markdown",
   "id": "39e200d0",
   "metadata": {
    "hidden": true
   },
   "source": [
    "#### 2.1. 원본데이터에서 분석가능한 형태로 데이터 전처리 (형변환, 열이름 변경등)\n",
    "#### 2.2. 데이터 클리닝: 이상치, 결측치처리"
   ]
  },
  {
   "cell_type": "markdown",
   "id": "4e60e3f3",
   "metadata": {
    "hidden": true
   },
   "source": [
    "### 3. 추가데이터 분석"
   ]
  },
  {
   "cell_type": "code",
   "execution_count": 7,
   "id": "df164e79-c6e7-4a34-88a7-5ca33a7999fd",
   "metadata": {
    "scrolled": true
   },
   "outputs": [
    {
     "data": {
      "text/plain": [
       "np.int64(1015376900)"
      ]
     },
     "execution_count": 7,
     "metadata": {},
     "output_type": "execute_result"
    }
   ],
   "source": [
    "df['1인당 소비 금액'].sum()"
   ]
  },
  {
   "cell_type": "code",
   "execution_count": 10,
   "id": "6eadb399-3334-4136-8e0a-fa89e791353d",
   "metadata": {},
   "outputs": [
    {
     "data": {
      "text/html": [
       "<div>\n",
       "<style scoped>\n",
       "    .dataframe tbody tr th:only-of-type {\n",
       "        vertical-align: middle;\n",
       "    }\n",
       "\n",
       "    .dataframe tbody tr th {\n",
       "        vertical-align: top;\n",
       "    }\n",
       "\n",
       "    .dataframe thead th {\n",
       "        text-align: right;\n",
       "    }\n",
       "</style>\n",
       "<table border=\"1\" class=\"dataframe\">\n",
       "  <thead>\n",
       "    <tr style=\"text-align: right;\">\n",
       "      <th></th>\n",
       "      <th>기준월</th>\n",
       "      <th>법정동명</th>\n",
       "      <th>표준산업대분류명</th>\n",
       "      <th>1인당 소비 금액</th>\n",
       "      <th>산업분류</th>\n",
       "    </tr>\n",
       "  </thead>\n",
       "  <tbody>\n",
       "    <tr>\n",
       "      <th>0</th>\n",
       "      <td>1</td>\n",
       "      <td>가정동</td>\n",
       "      <td>제조업(10-34)</td>\n",
       "      <td>33800</td>\n",
       "      <td>제조·건설업</td>\n",
       "    </tr>\n",
       "    <tr>\n",
       "      <th>1</th>\n",
       "      <td>1</td>\n",
       "      <td>가정동</td>\n",
       "      <td>도매 및 소매업(45-47)</td>\n",
       "      <td>40200</td>\n",
       "      <td>도매·소매업</td>\n",
       "    </tr>\n",
       "    <tr>\n",
       "      <th>2</th>\n",
       "      <td>1</td>\n",
       "      <td>가정동</td>\n",
       "      <td>숙박 및 음식점업(55-56)</td>\n",
       "      <td>21300</td>\n",
       "      <td>숙박·음식업</td>\n",
       "    </tr>\n",
       "    <tr>\n",
       "      <th>3</th>\n",
       "      <td>1</td>\n",
       "      <td>가정동</td>\n",
       "      <td>교육 서비스업(85)</td>\n",
       "      <td>74400</td>\n",
       "      <td>공공·교육·보건</td>\n",
       "    </tr>\n",
       "    <tr>\n",
       "      <th>4</th>\n",
       "      <td>1</td>\n",
       "      <td>가정동</td>\n",
       "      <td>보건업 및 사회복지 서비스업(86-87)</td>\n",
       "      <td>17800</td>\n",
       "      <td>공공·교육·보건</td>\n",
       "    </tr>\n",
       "    <tr>\n",
       "      <th>...</th>\n",
       "      <td>...</td>\n",
       "      <td>...</td>\n",
       "      <td>...</td>\n",
       "      <td>...</td>\n",
       "      <td>...</td>\n",
       "    </tr>\n",
       "    <tr>\n",
       "      <th>442</th>\n",
       "      <td>12</td>\n",
       "      <td>화암동</td>\n",
       "      <td>숙박 및 음식점업(55-56)</td>\n",
       "      <td>26900</td>\n",
       "      <td>숙박·음식업</td>\n",
       "    </tr>\n",
       "    <tr>\n",
       "      <th>443</th>\n",
       "      <td>12</td>\n",
       "      <td>화암동</td>\n",
       "      <td>공공 행정 국방 및 사회보장 행정(84)</td>\n",
       "      <td>40800</td>\n",
       "      <td>공공·교육·보건</td>\n",
       "    </tr>\n",
       "    <tr>\n",
       "      <th>444</th>\n",
       "      <td>12</td>\n",
       "      <td>화암동</td>\n",
       "      <td>교육 서비스업(85)</td>\n",
       "      <td>445800</td>\n",
       "      <td>공공·교육·보건</td>\n",
       "    </tr>\n",
       "    <tr>\n",
       "      <th>445</th>\n",
       "      <td>12</td>\n",
       "      <td>화암동</td>\n",
       "      <td>보건업 및 사회복지 서비스업(86-87)</td>\n",
       "      <td>575500</td>\n",
       "      <td>공공·교육·보건</td>\n",
       "    </tr>\n",
       "    <tr>\n",
       "      <th>446</th>\n",
       "      <td>12</td>\n",
       "      <td>화암동</td>\n",
       "      <td>협회 및 단체  수리 및 기타 개인 서비스업(94-96)</td>\n",
       "      <td>289200</td>\n",
       "      <td>예술·여가·개인서비스</td>\n",
       "    </tr>\n",
       "  </tbody>\n",
       "</table>\n",
       "<p>5014 rows × 5 columns</p>\n",
       "</div>"
      ],
      "text/plain": [
       "     기준월 법정동명                         표준산업대분류명  1인당 소비 금액         산업분류\n",
       "0      1  가정동                       제조업(10-34)      33800       제조·건설업\n",
       "1      1  가정동                  도매 및 소매업(45-47)      40200       도매·소매업\n",
       "2      1  가정동                 숙박 및 음식점업(55-56)      21300       숙박·음식업\n",
       "3      1  가정동                      교육 서비스업(85)      74400     공공·교육·보건\n",
       "4      1  가정동           보건업 및 사회복지 서비스업(86-87)      17800     공공·교육·보건\n",
       "..   ...  ...                              ...        ...          ...\n",
       "442   12  화암동                 숙박 및 음식점업(55-56)      26900       숙박·음식업\n",
       "443   12  화암동           공공 행정 국방 및 사회보장 행정(84)      40800     공공·교육·보건\n",
       "444   12  화암동                      교육 서비스업(85)     445800     공공·교육·보건\n",
       "445   12  화암동           보건업 및 사회복지 서비스업(86-87)     575500     공공·교육·보건\n",
       "446   12  화암동  협회 및 단체  수리 및 기타 개인 서비스업(94-96)     289200  예술·여가·개인서비스\n",
       "\n",
       "[5014 rows x 5 columns]"
      ]
     },
     "execution_count": 10,
     "metadata": {},
     "output_type": "execute_result"
    }
   ],
   "source": [
    "def simplify_category(x):\n",
    "    if x in [\"제조업(10-34)\", \"건설업(41-42)\"]:\n",
    "        return \"제조·건설업\"\n",
    "    elif x in [\"숙박 및 음식점업(55-56)\"]:\n",
    "        return \"숙박·음식업\"\n",
    "    elif x in [\"도매 및 소매업(45-47)\"]:\n",
    "        return \"도매·소매업\"\n",
    "    elif x in [\"운수 및 창고업(49-52)\"]:\n",
    "        return \"운수·창고업\"\n",
    "    elif x in [\"금융 및 보험업(64-66)\", \"부동산업(68)\"]:\n",
    "        return \"금융·부동산\"\n",
    "    elif x in [\"교육 서비스업(85)\", \"보건업 및 사회복지 서비스업(86-87)\", \"공공 행정 국방 및 사회보장 행정(84)\"]:\n",
    "        return \"공공·교육·보건\"\n",
    "    elif x in [\"예술  스포츠 및 여가관련 서비스업(90-91)\", \"협회 및 단체  수리 및 기타 개인 서비스업(94-96)\"]:\n",
    "        return \"예술·여가·개인서비스\"\n",
    "    else:\n",
    "        return \"기타\"\n",
    "\n",
    "df[\"산업분류\"] = df[\"표준산업대분류명\"].apply(simplify_category)\n",
    "df"
   ]
  },
  {
   "cell_type": "code",
   "execution_count": 46,
   "id": "954d3c42-1deb-4557-a3d5-3008c18a9b4f",
   "metadata": {},
   "outputs": [
    {
     "data": {
      "text/html": [
       "<div>\n",
       "<style scoped>\n",
       "    .dataframe tbody tr th:only-of-type {\n",
       "        vertical-align: middle;\n",
       "    }\n",
       "\n",
       "    .dataframe tbody tr th {\n",
       "        vertical-align: top;\n",
       "    }\n",
       "\n",
       "    .dataframe thead th {\n",
       "        text-align: right;\n",
       "    }\n",
       "</style>\n",
       "<table border=\"1\" class=\"dataframe\">\n",
       "  <thead>\n",
       "    <tr style=\"text-align: right;\">\n",
       "      <th></th>\n",
       "      <th>산업분류</th>\n",
       "      <th>기준월</th>\n",
       "      <th>1인당 소비 금액</th>\n",
       "    </tr>\n",
       "  </thead>\n",
       "  <tbody>\n",
       "    <tr>\n",
       "      <th>0</th>\n",
       "      <td>공공·교육·보건</td>\n",
       "      <td>1</td>\n",
       "      <td>25456000</td>\n",
       "    </tr>\n",
       "    <tr>\n",
       "      <th>1</th>\n",
       "      <td>공공·교육·보건</td>\n",
       "      <td>2</td>\n",
       "      <td>24924500</td>\n",
       "    </tr>\n",
       "    <tr>\n",
       "      <th>2</th>\n",
       "      <td>공공·교육·보건</td>\n",
       "      <td>3</td>\n",
       "      <td>26941400</td>\n",
       "    </tr>\n",
       "    <tr>\n",
       "      <th>3</th>\n",
       "      <td>공공·교육·보건</td>\n",
       "      <td>4</td>\n",
       "      <td>26686200</td>\n",
       "    </tr>\n",
       "    <tr>\n",
       "      <th>4</th>\n",
       "      <td>공공·교육·보건</td>\n",
       "      <td>5</td>\n",
       "      <td>26925200</td>\n",
       "    </tr>\n",
       "    <tr>\n",
       "      <th>...</th>\n",
       "      <td>...</td>\n",
       "      <td>...</td>\n",
       "      <td>...</td>\n",
       "    </tr>\n",
       "    <tr>\n",
       "      <th>91</th>\n",
       "      <td>제조·건설업</td>\n",
       "      <td>8</td>\n",
       "      <td>22871700</td>\n",
       "    </tr>\n",
       "    <tr>\n",
       "      <th>92</th>\n",
       "      <td>제조·건설업</td>\n",
       "      <td>9</td>\n",
       "      <td>9442300</td>\n",
       "    </tr>\n",
       "    <tr>\n",
       "      <th>93</th>\n",
       "      <td>제조·건설업</td>\n",
       "      <td>10</td>\n",
       "      <td>20971500</td>\n",
       "    </tr>\n",
       "    <tr>\n",
       "      <th>94</th>\n",
       "      <td>제조·건설업</td>\n",
       "      <td>11</td>\n",
       "      <td>17799900</td>\n",
       "    </tr>\n",
       "    <tr>\n",
       "      <th>95</th>\n",
       "      <td>제조·건설업</td>\n",
       "      <td>12</td>\n",
       "      <td>36079100</td>\n",
       "    </tr>\n",
       "  </tbody>\n",
       "</table>\n",
       "<p>96 rows × 3 columns</p>\n",
       "</div>"
      ],
      "text/plain": [
       "        산업분류  기준월  1인당 소비 금액\n",
       "0   공공·교육·보건    1   25456000\n",
       "1   공공·교육·보건    2   24924500\n",
       "2   공공·교육·보건    3   26941400\n",
       "3   공공·교육·보건    4   26686200\n",
       "4   공공·교육·보건    5   26925200\n",
       "..       ...  ...        ...\n",
       "91    제조·건설업    8   22871700\n",
       "92    제조·건설업    9    9442300\n",
       "93    제조·건설업   10   20971500\n",
       "94    제조·건설업   11   17799900\n",
       "95    제조·건설업   12   36079100\n",
       "\n",
       "[96 rows x 3 columns]"
      ]
     },
     "execution_count": 46,
     "metadata": {},
     "output_type": "execute_result"
    }
   ],
   "source": [
    "df_group = df.groupby(['산업분류','기준월']).agg({\n",
    "    '1인당 소비 금액':'sum',\n",
    "}).reset_index()\n",
    "df_group"
   ]
  },
  {
   "cell_type": "code",
   "execution_count": 48,
   "id": "2b95ae57-b3fd-48ad-b108-1a580d4377bd",
   "metadata": {},
   "outputs": [
    {
     "data": {
      "text/html": [
       "<div>\n",
       "<style scoped>\n",
       "    .dataframe tbody tr th:only-of-type {\n",
       "        vertical-align: middle;\n",
       "    }\n",
       "\n",
       "    .dataframe tbody tr th {\n",
       "        vertical-align: top;\n",
       "    }\n",
       "\n",
       "    .dataframe thead th {\n",
       "        text-align: right;\n",
       "    }\n",
       "</style>\n",
       "<table border=\"1\" class=\"dataframe\">\n",
       "  <thead>\n",
       "    <tr style=\"text-align: right;\">\n",
       "      <th></th>\n",
       "      <th>기준월</th>\n",
       "      <th>1인당 소비 금액</th>\n",
       "    </tr>\n",
       "  </thead>\n",
       "  <tbody>\n",
       "    <tr>\n",
       "      <th>0</th>\n",
       "      <td>1</td>\n",
       "      <td>81955400</td>\n",
       "    </tr>\n",
       "    <tr>\n",
       "      <th>1</th>\n",
       "      <td>2</td>\n",
       "      <td>77423100</td>\n",
       "    </tr>\n",
       "    <tr>\n",
       "      <th>2</th>\n",
       "      <td>3</td>\n",
       "      <td>88756500</td>\n",
       "    </tr>\n",
       "    <tr>\n",
       "      <th>3</th>\n",
       "      <td>4</td>\n",
       "      <td>71956400</td>\n",
       "    </tr>\n",
       "    <tr>\n",
       "      <th>4</th>\n",
       "      <td>5</td>\n",
       "      <td>76888400</td>\n",
       "    </tr>\n",
       "    <tr>\n",
       "      <th>5</th>\n",
       "      <td>6</td>\n",
       "      <td>83148800</td>\n",
       "    </tr>\n",
       "    <tr>\n",
       "      <th>6</th>\n",
       "      <td>7</td>\n",
       "      <td>78978300</td>\n",
       "    </tr>\n",
       "    <tr>\n",
       "      <th>7</th>\n",
       "      <td>8</td>\n",
       "      <td>96580300</td>\n",
       "    </tr>\n",
       "    <tr>\n",
       "      <th>8</th>\n",
       "      <td>9</td>\n",
       "      <td>88243900</td>\n",
       "    </tr>\n",
       "    <tr>\n",
       "      <th>9</th>\n",
       "      <td>10</td>\n",
       "      <td>85733800</td>\n",
       "    </tr>\n",
       "    <tr>\n",
       "      <th>10</th>\n",
       "      <td>11</td>\n",
       "      <td>88249300</td>\n",
       "    </tr>\n",
       "    <tr>\n",
       "      <th>11</th>\n",
       "      <td>12</td>\n",
       "      <td>97462700</td>\n",
       "    </tr>\n",
       "  </tbody>\n",
       "</table>\n",
       "</div>"
      ],
      "text/plain": [
       "    기준월  1인당 소비 금액\n",
       "0     1   81955400\n",
       "1     2   77423100\n",
       "2     3   88756500\n",
       "3     4   71956400\n",
       "4     5   76888400\n",
       "5     6   83148800\n",
       "6     7   78978300\n",
       "7     8   96580300\n",
       "8     9   88243900\n",
       "9    10   85733800\n",
       "10   11   88249300\n",
       "11   12   97462700"
      ]
     },
     "execution_count": 48,
     "metadata": {},
     "output_type": "execute_result"
    }
   ],
   "source": [
    "df_group2 = df.groupby(['기준월']).agg({\n",
    "    '1인당 소비 금액':'sum',\n",
    "}).reset_index()\n",
    "df_group2"
   ]
  },
  {
   "cell_type": "code",
   "execution_count": 19,
   "id": "84812186-b4a6-4f26-a927-54302a580fdc",
   "metadata": {},
   "outputs": [],
   "source": [
    "def drop_outliers_zscore(df,column,threshold):\n",
    "    z_scores =(df[column] - df[column].mean()) / df[column].std()\n",
    "    df_drop_outliers = df[abs(z_scores) <= threshold]\n",
    "\n",
    "    return df_drop_outliers"
   ]
  },
  {
   "cell_type": "code",
   "execution_count": 22,
   "id": "a041a3e5-26fc-4109-af8f-6478977b4a62",
   "metadata": {},
   "outputs": [],
   "source": [
    "df_cleaned= drop_outliers_zscore(df, '1인당 소비 금액', 3)"
   ]
  },
  {
   "cell_type": "code",
   "execution_count": 47,
   "id": "efe4f1aa-c334-43fb-964d-6e7f162d6852",
   "metadata": {
    "scrolled": true
   },
   "outputs": [
    {
     "data": {
      "image/png": "[encoded data removed]",
      "text/plain": [
       "<Figure size 640x480 with 1 Axes>"
      ]
     },
     "metadata": {},
     "output_type": "display_data"
    }
   ],
   "source": [
    "sns.scatterplot(data=df_group, x='1인당 소비 금액', y='기준월',style='산업분류')\n",
    "plt.show()"
   ]
  },
  {
   "cell_type": "markdown",
   "id": "b735d2dc-2d2d-4fbb-9411-bb3f28756b02",
   "metadata": {},
   "source": []
  },
  {
   "cell_type": "code",
   "execution_count": 23,
   "id": "68b0770b-0bc4-44c7-a824-06aadfbe3a66",
   "metadata": {},
   "outputs": [
    {
     "data": {
      "image/png": "[encoded data removed]",
      "text/plain": [
       "<Figure size 640x480 with 1 Axes>"
      ]
     },
     "metadata": {},
     "output_type": "display_data"
    }
   ],
   "source": [
    "sns.scatterplot(data=df_cleaned, x='1인당 소비 금액', y='기준월',style='산업분류')\n",
    "plt.show()"
   ]
  },
  {
   "cell_type": "code",
   "execution_count": 49,
   "id": "83a96c08-ed2c-45fc-ab8a-4e67432b2131",
   "metadata": {},
   "outputs": [
    {
     "data": {
      "image/png": "[encoded data removed]",
      "text/plain": [
       "<Figure size 640x480 with 1 Axes>"
      ]
     },
     "metadata": {},
     "output_type": "display_data"
    }
   ],
   "source": [
    "sns.scatterplot(data=df, x='1인당 소비 금액', y='기준월',style='산업분류')\n",
    "plt.show()"
   ]
  },
  {
   "cell_type": "code",
   "execution_count": null,
   "id": "c86d215c-48be-46ab-b577-9e4cb52c2dcd",
   "metadata": {},
   "outputs": [],
   "source": []
  },
  {
   "cell_type": "markdown",
   "id": "82e0a525",
   "metadata": {
    "hidden": true
   },
   "source": [
    "#### 3.1 데이터 정제후 데이터딕셔너리 재확인\n",
    "#### 3.2 기초통계 정보 확인 (최대값, 최소값, 평균값, 표준편차, 최빈값, 유일값 등)\n",
    "#### 3.3 시각화를 통한 데이터이해 심화 "
   ]
  },
  {
   "cell_type": "markdown",
   "id": "87e87a59",
   "metadata": {
    "hidden": true
   },
   "source": [
    "* 3.3.1 단일 열: 데이터의 성격에 따른 다양한 차트 적용  \n",
    "* 3.3.2 복수 열: 두개의 열간 연관관계 분석(Pair Plot 또는 Seaborn의 관련 지원 차트등)"
   ]
  },
  {
   "cell_type": "markdown",
   "id": "1016da18-a38d-4677-942d-ff8e13f2dfad",
   "metadata": {},
   "source": [
    "#### 3.4 데이터 분석 결과도출"
   ]
  },
  {
   "cell_type": "markdown",
   "id": "d98ee251",
   "metadata": {},
   "source": [
    "# 데이터분석 적용 실습 템플릿"
   ]
  },
  {
   "cell_type": "markdown",
   "id": "0521bf67",
   "metadata": {},
   "source": [
    "## 데이터 수집"
   ]
  },
  {
   "cell_type": "code",
   "execution_count": 1,
   "id": "46c5eafe",
   "metadata": {},
   "outputs": [],
   "source": [
    "# 데이터 소스를 확보하세요\n"
   ]
  },
  {
   "cell_type": "markdown",
   "id": "c3b597f4",
   "metadata": {},
   "source": [
    "## 1. 초기데이터 분석"
   ]
  },
  {
   "cell_type": "markdown",
   "id": "0c3c91be",
   "metadata": {},
   "source": [
    "### 1-1. 데이터스키마 확인"
   ]
  },
  {
   "cell_type": "markdown",
   "id": "16b49047-50c3-4ff3-9417-edb92d59b2d4",
   "metadata": {},
   "source": [
    "#### 각 열의 의미, 데이터의 의미해석관련 스펙 또는 메뉴얼을 확인 가능시 진행 하세요\n",
    "* A열: A열의 의미를 기술\n",
    "* B열: B열의 의미를 기술  \n",
    "..."
   ]
  },
  {
   "cell_type": "markdown",
   "id": "913979f3",
   "metadata": {},
   "source": [
    "### 1-2. 데이터 기초정보 확인"
   ]
  },
  {
   "cell_type": "markdown",
   "id": "1e03acff-a002-4e37-be88-5d36d4706630",
   "metadata": {},
   "source": [
    "* 사이즈, 데이터형, 기초통계항목등을 확인하세요  "
   ]
  },
  {
   "cell_type": "code",
   "execution_count": null,
   "id": "4213881a-92fb-4064-af2a-25bc73e4299e",
   "metadata": {},
   "outputs": [],
   "source": [
    "#df.shape\n",
    "#df.info()"
   ]
  },
  {
   "cell_type": "markdown",
   "id": "8d2984b9-6715-49a2-8583-d9583b38b857",
   "metadata": {},
   "source": [
    "* 기초통계항목"
   ]
  },
  {
   "cell_type": "code",
   "execution_count": null,
   "id": "7f497c28-3191-4262-aae0-41402e8eaeef",
   "metadata": {},
   "outputs": [],
   "source": [
    "# df.desribe()"
   ]
  },
  {
   "cell_type": "markdown",
   "id": "c2e13829",
   "metadata": {},
   "source": [
    "## 2. 데이터 정제"
   ]
  },
  {
   "cell_type": "markdown",
   "id": "7eedb11e",
   "metadata": {},
   "source": [
    "### 2-1. 간단한 데이터 전처리"
   ]
  },
  {
   "cell_type": "code",
   "execution_count": 5,
   "id": "5fd51a76",
   "metadata": {},
   "outputs": [],
   "source": [
    "# 원본데이터로에서 읽기 가능한 형태로 데이터처리를 하세요. (열이름 변경, 형변환 등)"
   ]
  },
  {
   "cell_type": "markdown",
   "id": "cfa0f4f4",
   "metadata": {},
   "source": [
    "### 2-2. 데이터 클리닝"
   ]
  },
  {
   "cell_type": "code",
   "execution_count": 6,
   "id": "81050694",
   "metadata": {},
   "outputs": [],
   "source": [
    "# 결측치, 중복값, 이상치 처리등의 작업을 진행하세요"
   ]
  },
  {
   "cell_type": "markdown",
   "id": "94b01c03-879b-4b93-a375-5a88a7f3672a",
   "metadata": {},
   "source": [
    "* 결측치"
   ]
  },
  {
   "cell_type": "markdown",
   "id": "497a7431-81b3-42d2-84b5-0afde8e6c9c4",
   "metadata": {},
   "source": [
    "    - 결측치 열 확인"
   ]
  },
  {
   "cell_type": "code",
   "execution_count": null,
   "id": "b0a70dec-f81b-46d8-b58c-73f81ce17493",
   "metadata": {},
   "outputs": [],
   "source": [
    "# missing_values = df.isnull().any()  \n",
    "# column_missing_values = missing_values[ missing_values == True ]\n",
    "# column_missing_values"
   ]
  },
  {
   "cell_type": "raw",
   "id": "ab96e2e8-2ecc-462b-8055-915bff513d34",
   "metadata": {},
   "source": [
    "   - 결측값이 있는 모든 행 확인"
   ]
  },
  {
   "cell_type": "code",
   "execution_count": null,
   "id": "53aa6924-3c4f-4aad-91cf-2d09b459d59b",
   "metadata": {},
   "outputs": [],
   "source": [
    "# df.isnull().any(axis=1)"
   ]
  },
  {
   "cell_type": "markdown",
   "id": "b9cbf7a2-7aa7-4d87-86d8-b31476a77a01",
   "metadata": {},
   "source": [
    "* 결측치 보정"
   ]
  },
  {
   "cell_type": "raw",
   "id": "adbf1968-8d29-4baa-949e-d6394e19b81b",
   "metadata": {},
   "source": [
    "   - 열에 대하여 단일 값 보정     "
   ]
  },
  {
   "cell_type": "code",
   "execution_count": null,
   "id": "0e6c6935-a8a6-4df0-bed5-8da8fd160ec2",
   "metadata": {},
   "outputs": [],
   "source": [
    "# df['나이'] = df['나이'].fillna(0)"
   ]
  },
  {
   "cell_type": "raw",
   "id": "367abb36-a09d-4f12-be6d-cd0bc685f452",
   "metadata": {},
   "source": [
    "   - 데이터 프레임 전체에 단일 값 보정  "
   ]
  },
  {
   "cell_type": "code",
   "execution_count": 1,
   "id": "437088df-6ab9-474d-9b3f-503b9f8e2476",
   "metadata": {},
   "outputs": [],
   "source": [
    "# df = df.fillna(0)"
   ]
  },
  {
   "cell_type": "markdown",
   "id": "6cb87513-ac6b-49cd-98bd-6ff427c5d759",
   "metadata": {},
   "source": [
    "* 중복값 삭제 (필요시)"
   ]
  },
  {
   "cell_type": "raw",
   "id": "4e12f2c7-add7-47b8-a986-376fc1f2634e",
   "metadata": {},
   "source": [
    "  - 모든 중복 행데이터 확인"
   ]
  },
  {
   "cell_type": "code",
   "execution_count": null,
   "id": "eb5f565f-8fc8-434f-bb66-a9d1c75a7605",
   "metadata": {},
   "outputs": [],
   "source": [
    "# df[df.duplicated(keep=False)]"
   ]
  },
  {
   "cell_type": "raw",
   "id": "e847b33e-f13a-47bd-af55-111bf56442b2",
   "metadata": {},
   "source": [
    "  - 모든 중복 행데이터 삭제"
   ]
  },
  {
   "cell_type": "code",
   "execution_count": null,
   "id": "a352aa67-0634-483e-a41b-ba06c6cf51ab",
   "metadata": {},
   "outputs": [],
   "source": [
    "# df.drop_duplicates(inplace=True)"
   ]
  },
  {
   "cell_type": "markdown",
   "id": "9dac0879",
   "metadata": {},
   "source": [
    "## 3. 추가데이터 분석"
   ]
  },
  {
   "cell_type": "markdown",
   "id": "253f0cc0",
   "metadata": {},
   "source": [
    "### 3.1. 데이터 정제후 데이터스키마 재확인"
   ]
  },
  {
   "cell_type": "markdown",
   "id": "1812339b-9396-4195-833b-4be5a041d05d",
   "metadata": {},
   "source": [
    "* 1-2 작업을 다시 해보세요."
   ]
  },
  {
   "cell_type": "markdown",
   "id": "8a244e0a",
   "metadata": {},
   "source": [
    "### 3.2 데이터 기초정보 정보 확인"
   ]
  },
  {
   "cell_type": "markdown",
   "id": "3361d7b0-6b2c-493e-a6f8-20bcb153b912",
   "metadata": {},
   "source": [
    "* 최대값, 최소값, 평균값, 표준편차, 최빈값, 유일값, 결측치, 이상치 등의 정보를 재확인해 보세요"
   ]
  },
  {
   "cell_type": "markdown",
   "id": "e73d61a5",
   "metadata": {},
   "source": [
    "### 3.3 시각화를 통한 데이터이해 심화"
   ]
  },
  {
   "cell_type": "markdown",
   "id": "5de7dac1-31b5-4138-a9a6-33fbbde9caac",
   "metadata": {},
   "source": [
    "* 데이터의 성격에 따라 이해도를 올리기 위해 시각화가 필요한 데이터차트를 만들어 보세요.  \n",
    "    * (Seaborn 추천: 페어플롯, 막대차트, 파이차트, 라인차트, 히스토그램등..)\n",
    "    * 차트 분석시 hue인자를 활용해서 범주형 열에 대한 추가 분석을 해보세요.\n",
    "* 시각화한 차트에 대한 분석"
   ]
  },
  {
   "cell_type": "markdown",
   "id": "f4fa4f46-073f-4c62-b4ae-54ade39c5251",
   "metadata": {},
   "source": [
    "### 3.4 최종 데이터 분석 결과도출"
   ]
  },
  {
   "cell_type": "markdown",
   "id": "477f095f-e884-4326-af1f-ebea049c3546",
   "metadata": {},
   "source": [
    "* 데이터 분석을 통해 얻은 새로운 지식, 인사이트를 정리하세요.\n",
    "* 새로운 지식 및 인사이트 별 비지니스 전략을 도출할 수 있으면 정리해 보세요"
   ]
  }
 ],
 "metadata": {
  "kernelspec": {
   "display_name": "Python [conda env:base] *",
   "language": "python",
   "name": "conda-base-py"
  },
  "language_info": {
   "codemirror_mode": {
    "name": "ipython",
    "version": 3
   },
   "file_extension": ".py",
   "mimetype": "text/x-python",
   "name": "python",
   "nbconvert_exporter": "python",
   "pygments_lexer": "ipython3",
   "version": "3.13.5"
  }
 },
 "nbformat": 4,
 "nbformat_minor": 5
}
