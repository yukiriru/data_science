{
 "cells": [
  {
   "cell_type": "markdown",
   "id": "9a361676",
   "metadata": {
    "hidden": true
   },
   "source": [
    "## 주요절차"
   ]
  },
  {
   "cell_type": "markdown",
   "id": "27585602",
   "metadata": {
    "hidden": true
   },
   "source": [
    "### 1. 초기데이터 분석"
   ]
  },
  {
   "cell_type": "markdown",
   "id": "f952717d-1c7e-4ec5-a2bf-85ec04cad815",
   "metadata": {
    "hidden": true
   },
   "source": [
    "#### 1-1. 데이터딕셔너리(각 열의 의미, 데이터의 의미해석관련 스펙 또는 메뉴얼) 확인\n",
    "#### 1-2 데이터 기초정보 확인 (사이즈, 열이름, 데이터형)\n",
    "\n",
    "유무 확인)차트 재확인 (이"
   ]
  },
  {
   "cell_type": "markdown",
   "id": "fc3d0eb7-3b2e-4204-944a-9287732085c9",
   "metadata": {},
   "source": [
    "* 기초통계정보 확인"
   ]
  },
  {
   "cell_type": "raw",
   "id": "66a43f0e-61a2-491f-96c6-5a54f3e52b50",
   "metadata": {
    "hidden": true
   },
   "source": [
    "기초 통계값 확인 ( df.describe() )\n",
    "[수치형 데이터]\r",
    " \n",
    "=> 수치데이터로서 의미가 는지 판단? \r\n",
    "=> 의미가 있는(예: 키, 몸무게, 가격등) 열에 대해 아래 작업 진행  분석\r\n",
    " - 확인해야 할 사항    수치상\r\n",
    "mean, min, 1q, 2q(중위값), 3q,게, 가격\r\n",
    " - 시각화\r\n",
    "  히스토그램, 박스플롯 (바이올린플롯)\r\n",
    " - 이상치 유무 확인\r\n",
    " - 이상치가 있다면 보정방식을 선택\r\n",
    "  (예: 삭제, 포함)\r\n",
    "- 기초통계값과, 차트 재확인 (이상\n",
    "[보정  데이터]유무 확인)\r\n",
    "- 문자열\r\n",
    " => unique의 결과값에서 파이차트나 막대차트로 그릴수  - 있는 열이 있는지 확인\r\n",
    " 10개미만은 파이차트,  - 도우넛차트 그리기에 용이\r\n",
    " 10개상위 은 파이차트, 막대차트(Top3,5,10 등을 도출.. 그리고 형 데이터나하위 데이터3,5,10)\r\n",
    "\r\n",
    "* 수치 문자 중에 범위화 할 \n",
    " 예)수 있는 열이 있는지 확인해 보자\r\n",
    " 가격=> 초고가, 고가,위 작업은  일반, 저가\r\n",
    " 주소 추후 진행할 수 있다.pply 함수를 통해\r",
    "ly 함수를 통해"
   ]
  },
  {
   "cell_type": "code",
   "execution_count": 7,
   "id": "f413b42e-48ff-45ce-ad18-9a996942624f",
   "metadata": {},
   "outputs": [
    {
     "data": {
      "text/html": [
       "<div>\n",
       "<style scoped>\n",
       "    .dataframe tbody tr th:only-of-type {\n",
       "        vertical-align: middle;\n",
       "    }\n",
       "\n",
       "    .dataframe tbody tr th {\n",
       "        vertical-align: top;\n",
       "    }\n",
       "\n",
       "    .dataframe thead th {\n",
       "        text-align: right;\n",
       "    }\n",
       "</style>\n",
       "<table border=\"1\" class=\"dataframe\">\n",
       "  <thead>\n",
       "    <tr style=\"text-align: right;\">\n",
       "      <th></th>\n",
       "      <th>기준년도</th>\n",
       "      <th>기준월</th>\n",
       "      <th>법정동코드</th>\n",
       "      <th>법정동명</th>\n",
       "      <th>표준산업대분류코드</th>\n",
       "      <th>표준산업대분류명</th>\n",
       "      <th>1인당 소비 금액</th>\n",
       "    </tr>\n",
       "  </thead>\n",
       "  <tbody>\n",
       "    <tr>\n",
       "      <th>0</th>\n",
       "      <td>2023</td>\n",
       "      <td>1</td>\n",
       "      <td>30200126</td>\n",
       "      <td>가정동</td>\n",
       "      <td>C</td>\n",
       "      <td>제조업(10-34)</td>\n",
       "      <td>33800</td>\n",
       "    </tr>\n",
       "    <tr>\n",
       "      <th>1</th>\n",
       "      <td>2023</td>\n",
       "      <td>1</td>\n",
       "      <td>30200126</td>\n",
       "      <td>가정동</td>\n",
       "      <td>G</td>\n",
       "      <td>도매 및 소매업(45-47)</td>\n",
       "      <td>40200</td>\n",
       "    </tr>\n",
       "    <tr>\n",
       "      <th>2</th>\n",
       "      <td>2023</td>\n",
       "      <td>1</td>\n",
       "      <td>30200126</td>\n",
       "      <td>가정동</td>\n",
       "      <td>I</td>\n",
       "      <td>숙박 및 음식점업(55-56)</td>\n",
       "      <td>21300</td>\n",
       "    </tr>\n",
       "    <tr>\n",
       "      <th>3</th>\n",
       "      <td>2023</td>\n",
       "      <td>1</td>\n",
       "      <td>30200126</td>\n",
       "      <td>가정동</td>\n",
       "      <td>P</td>\n",
       "      <td>교육 서비스업(85)</td>\n",
       "      <td>74400</td>\n",
       "    </tr>\n",
       "    <tr>\n",
       "      <th>4</th>\n",
       "      <td>2023</td>\n",
       "      <td>1</td>\n",
       "      <td>30200126</td>\n",
       "      <td>가정동</td>\n",
       "      <td>Q</td>\n",
       "      <td>보건업 및 사회복지 서비스업(86-87)</td>\n",
       "      <td>17800</td>\n",
       "    </tr>\n",
       "    <tr>\n",
       "      <th>...</th>\n",
       "      <td>...</td>\n",
       "      <td>...</td>\n",
       "      <td>...</td>\n",
       "      <td>...</td>\n",
       "      <td>...</td>\n",
       "      <td>...</td>\n",
       "      <td>...</td>\n",
       "    </tr>\n",
       "    <tr>\n",
       "      <th>442</th>\n",
       "      <td>2023</td>\n",
       "      <td>12</td>\n",
       "      <td>30200130</td>\n",
       "      <td>화암동</td>\n",
       "      <td>I</td>\n",
       "      <td>숙박 및 음식점업(55-56)</td>\n",
       "      <td>26900</td>\n",
       "    </tr>\n",
       "    <tr>\n",
       "      <th>443</th>\n",
       "      <td>2023</td>\n",
       "      <td>12</td>\n",
       "      <td>30200130</td>\n",
       "      <td>화암동</td>\n",
       "      <td>O</td>\n",
       "      <td>공공 행정 국방 및 사회보장 행정(84)</td>\n",
       "      <td>40800</td>\n",
       "    </tr>\n",
       "    <tr>\n",
       "      <th>444</th>\n",
       "      <td>2023</td>\n",
       "      <td>12</td>\n",
       "      <td>30200130</td>\n",
       "      <td>화암동</td>\n",
       "      <td>P</td>\n",
       "      <td>교육 서비스업(85)</td>\n",
       "      <td>445800</td>\n",
       "    </tr>\n",
       "    <tr>\n",
       "      <th>445</th>\n",
       "      <td>2023</td>\n",
       "      <td>12</td>\n",
       "      <td>30200130</td>\n",
       "      <td>화암동</td>\n",
       "      <td>Q</td>\n",
       "      <td>보건업 및 사회복지 서비스업(86-87)</td>\n",
       "      <td>575500</td>\n",
       "    </tr>\n",
       "    <tr>\n",
       "      <th>446</th>\n",
       "      <td>2023</td>\n",
       "      <td>12</td>\n",
       "      <td>30200130</td>\n",
       "      <td>화암동</td>\n",
       "      <td>S</td>\n",
       "      <td>협회 및 단체  수리 및 기타 개인 서비스업(94-96)</td>\n",
       "      <td>289200</td>\n",
       "    </tr>\n",
       "  </tbody>\n",
       "</table>\n",
       "<p>5014 rows × 7 columns</p>\n",
       "</div>"
      ],
      "text/plain": [
       "     기준년도  기준월     법정동코드 법정동명 표준산업대분류코드                         표준산업대분류명  \\\n",
       "0    2023    1  30200126  가정동         C                       제조업(10-34)   \n",
       "1    2023    1  30200126  가정동         G                  도매 및 소매업(45-47)   \n",
       "2    2023    1  30200126  가정동         I                 숙박 및 음식점업(55-56)   \n",
       "3    2023    1  30200126  가정동         P                      교육 서비스업(85)   \n",
       "4    2023    1  30200126  가정동         Q           보건업 및 사회복지 서비스업(86-87)   \n",
       "..    ...  ...       ...  ...       ...                              ...   \n",
       "442  2023   12  30200130  화암동         I                 숙박 및 음식점업(55-56)   \n",
       "443  2023   12  30200130  화암동         O           공공 행정 국방 및 사회보장 행정(84)   \n",
       "444  2023   12  30200130  화암동         P                      교육 서비스업(85)   \n",
       "445  2023   12  30200130  화암동         Q           보건업 및 사회복지 서비스업(86-87)   \n",
       "446  2023   12  30200130  화암동         S  협회 및 단체  수리 및 기타 개인 서비스업(94-96)   \n",
       "\n",
       "     1인당 소비 금액  \n",
       "0        33800  \n",
       "1        40200  \n",
       "2        21300  \n",
       "3        74400  \n",
       "4        17800  \n",
       "..         ...  \n",
       "442      26900  \n",
       "443      40800  \n",
       "444     445800  \n",
       "445     575500  \n",
       "446     289200  \n",
       "\n",
       "[5014 rows x 7 columns]"
      ]
     },
     "execution_count": 7,
     "metadata": {},
     "output_type": "execute_result"
    }
   ],
   "source": [
    "import pandas as pd\n",
    "\n",
    "file1 = pd.read_csv('유성구_1인당 평균 소비 금액 데이터_202301.csv', encoding='cp949')\n",
    "file2 = pd.read_csv('유성구_1인당 평균 소비 금액 데이터_202302.csv', encoding='cp949')\n",
    "file3 = pd.read_csv('유성구_1인당 평균 소비 금액 데이터_202303.csv', encoding='cp949')\n",
    "file4 = pd.read_csv('유성구_1인당 평균 소비 금액 데이터_202304.csv', encoding='cp949')\n",
    "file5 = pd.read_csv('유성구_1인당 평균 소비 금액 데이터_202305.csv', encoding='cp949')\n",
    "file6 = pd.read_csv('유성구_1인당 평균 소비 금액 데이터_202306.csv', encoding='cp949')\n",
    "file7 = pd.read_csv('유성구_1인당 평균 소비 금액 데이터_202307.csv', encoding='cp949')\n",
    "file8 = pd.read_csv('유성구_1인당 평균 소비 금액 데이터_202308.csv', encoding='cp949')\n",
    "file9 = pd.read_csv('유성구_1인당 평균 소비 금액 데이터_202309.csv', encoding='cp949')\n",
    "file10 = pd.read_csv('유성구_1인당 평균 소비 금액 데이터_202310.csv', encoding='cp949')\n",
    "file11 = pd.read_csv('유성구_1인당 평균 소비 금액 데이터_202311.csv', encoding='cp949')\n",
    "file12 = pd.read_csv('유성구_1인당 평균 소비 금액 데이터_202312.csv', encoding='cp949')\n",
    "\n",
    "df = pd.concat([file1,file2,file3,file4,file5,file6,file7,file8,file9,file10,file11,file12])\n",
    "\n",
    "df"
   ]
  },
  {
   "cell_type": "code",
   "execution_count": 8,
   "id": "75db096a-5173-4a7b-b776-a24e77c074a4",
   "metadata": {},
   "outputs": [
    {
     "name": "stdout",
     "output_type": "stream",
     "text": [
      "<class 'pandas.core.frame.DataFrame'>\n",
      "Index: 5014 entries, 0 to 446\n",
      "Data columns (total 7 columns):\n",
      " #   Column     Non-Null Count  Dtype \n",
      "---  ------     --------------  ----- \n",
      " 0   기준년도       5014 non-null   int64 \n",
      " 1   기준월        5014 non-null   int64 \n",
      " 2   법정동코드      5014 non-null   int64 \n",
      " 3   법정동명       5014 non-null   object\n",
      " 4   표준산업대분류코드  5014 non-null   object\n",
      " 5   표준산업대분류명   5014 non-null   object\n",
      " 6   1인당 소비 금액  5014 non-null   int64 \n",
      "dtypes: int64(4), object(3)\n",
      "memory usage: 313.4+ KB\n"
     ]
    }
   ],
   "source": [
    "df.info()"
   ]
  },
  {
   "cell_type": "code",
   "execution_count": 9,
   "id": "9d4720c6-1349-42cb-9760-75d94005ff6f",
   "metadata": {
    "scrolled": true
   },
   "outputs": [
    {
     "data": {
      "text/plain": [
       "기준월\n",
       "10    449\n",
       "11    448\n",
       "12    447\n",
       "9     427\n",
       "8     423\n",
       "3     410\n",
       "4     406\n",
       "5     406\n",
       "1     403\n",
       "6     402\n",
       "7     398\n",
       "2     395\n",
       "Name: count, dtype: int64"
      ]
     },
     "execution_count": 9,
     "metadata": {},
     "output_type": "execute_result"
    }
   ],
   "source": [
    "df['기준월'].value_counts()"
   ]
  },
  {
   "cell_type": "code",
   "execution_count": 10,
   "id": "388ec52d-fac2-4f36-9303-78921402cb66",
   "metadata": {
    "scrolled": true
   },
   "outputs": [
    {
     "data": {
      "text/html": [
       "<div>\n",
       "<style scoped>\n",
       "    .dataframe tbody tr th:only-of-type {\n",
       "        vertical-align: middle;\n",
       "    }\n",
       "\n",
       "    .dataframe tbody tr th {\n",
       "        vertical-align: top;\n",
       "    }\n",
       "\n",
       "    .dataframe thead th {\n",
       "        text-align: right;\n",
       "    }\n",
       "</style>\n",
       "<table border=\"1\" class=\"dataframe\">\n",
       "  <thead>\n",
       "    <tr style=\"text-align: right;\">\n",
       "      <th></th>\n",
       "      <th>기준월</th>\n",
       "      <th>1인당 소비 금액</th>\n",
       "    </tr>\n",
       "  </thead>\n",
       "  <tbody>\n",
       "    <tr>\n",
       "      <th>0</th>\n",
       "      <td>1</td>\n",
       "      <td>81955400</td>\n",
       "    </tr>\n",
       "    <tr>\n",
       "      <th>1</th>\n",
       "      <td>2</td>\n",
       "      <td>77423100</td>\n",
       "    </tr>\n",
       "    <tr>\n",
       "      <th>2</th>\n",
       "      <td>3</td>\n",
       "      <td>88756500</td>\n",
       "    </tr>\n",
       "    <tr>\n",
       "      <th>3</th>\n",
       "      <td>4</td>\n",
       "      <td>71956400</td>\n",
       "    </tr>\n",
       "    <tr>\n",
       "      <th>4</th>\n",
       "      <td>5</td>\n",
       "      <td>76888400</td>\n",
       "    </tr>\n",
       "    <tr>\n",
       "      <th>5</th>\n",
       "      <td>6</td>\n",
       "      <td>83148800</td>\n",
       "    </tr>\n",
       "    <tr>\n",
       "      <th>6</th>\n",
       "      <td>7</td>\n",
       "      <td>78978300</td>\n",
       "    </tr>\n",
       "    <tr>\n",
       "      <th>7</th>\n",
       "      <td>8</td>\n",
       "      <td>96580300</td>\n",
       "    </tr>\n",
       "    <tr>\n",
       "      <th>8</th>\n",
       "      <td>9</td>\n",
       "      <td>88243900</td>\n",
       "    </tr>\n",
       "    <tr>\n",
       "      <th>9</th>\n",
       "      <td>10</td>\n",
       "      <td>85733800</td>\n",
       "    </tr>\n",
       "    <tr>\n",
       "      <th>10</th>\n",
       "      <td>11</td>\n",
       "      <td>88249300</td>\n",
       "    </tr>\n",
       "    <tr>\n",
       "      <th>11</th>\n",
       "      <td>12</td>\n",
       "      <td>97462700</td>\n",
       "    </tr>\n",
       "  </tbody>\n",
       "</table>\n",
       "</div>"
      ],
      "text/plain": [
       "    기준월  1인당 소비 금액\n",
       "0     1   81955400\n",
       "1     2   77423100\n",
       "2     3   88756500\n",
       "3     4   71956400\n",
       "4     5   76888400\n",
       "5     6   83148800\n",
       "6     7   78978300\n",
       "7     8   96580300\n",
       "8     9   88243900\n",
       "9    10   85733800\n",
       "10   11   88249300\n",
       "11   12   97462700"
      ]
     },
     "execution_count": 10,
     "metadata": {},
     "output_type": "execute_result"
    }
   ],
   "source": [
    "df_group = df.groupby('기준월').agg({\n",
    "    '1인당 소비 금액':'sum',\n",
    "}).reset_index()\n",
    "df_group"
   ]
  },
  {
   "cell_type": "code",
   "execution_count": 11,
   "id": "f003de92-2e04-44a3-95a4-5c8f0182c4e1",
   "metadata": {
    "scrolled": true
   },
   "outputs": [
    {
     "data": {
      "text/plain": [
       "법정동명\n",
       "지족동     165\n",
       "궁동      157\n",
       "도룡동     156\n",
       "구암동     148\n",
       "반석동     147\n",
       "봉명동     143\n",
       "관평동     139\n",
       "교촌동     137\n",
       "장대동     136\n",
       "덕명동     135\n",
       "복용동     134\n",
       "송강동     134\n",
       "전민동     133\n",
       "상대동     133\n",
       "구성동     132\n",
       "용산동     125\n",
       "죽동      124\n",
       "노은동     121\n",
       "계산동     117\n",
       "원신흥동    114\n",
       "하기동     113\n",
       "원내동     113\n",
       "갑동      108\n",
       "용계동     103\n",
       "대정동     100\n",
       "어은동     100\n",
       "자운동      99\n",
       "문지동      97\n",
       "원촌동      95\n",
       "신봉동      92\n",
       "성북동      85\n",
       "탑립동      82\n",
       "방동       79\n",
       "외삼동      79\n",
       "봉산동      76\n",
       "장동       74\n",
       "화암동      73\n",
       "학하동      73\n",
       "추목동      72\n",
       "신성동      72\n",
       "가정동      72\n",
       "안산동      64\n",
       "덕진동      48\n",
       "방현동      48\n",
       "세동       47\n",
       "구룡동      45\n",
       "수남동      41\n",
       "둔곡동      36\n",
       "신동       36\n",
       "송정동      36\n",
       "대동       14\n",
       "금고동      12\n",
       "Name: count, dtype: int64"
      ]
     },
     "execution_count": 11,
     "metadata": {},
     "output_type": "execute_result"
    }
   ],
   "source": [
    "df['법정동명'].value_counts()"
   ]
  },
  {
   "cell_type": "code",
   "execution_count": 12,
   "id": "735c190f-58ae-4621-868e-ef2dbffb2b1e",
   "metadata": {},
   "outputs": [
    {
     "data": {
      "text/html": [
       "<div>\n",
       "<style scoped>\n",
       "    .dataframe tbody tr th:only-of-type {\n",
       "        vertical-align: middle;\n",
       "    }\n",
       "\n",
       "    .dataframe tbody tr th {\n",
       "        vertical-align: top;\n",
       "    }\n",
       "\n",
       "    .dataframe thead th {\n",
       "        text-align: right;\n",
       "    }\n",
       "</style>\n",
       "<table border=\"1\" class=\"dataframe\">\n",
       "  <thead>\n",
       "    <tr style=\"text-align: right;\">\n",
       "      <th></th>\n",
       "      <th>법정동명</th>\n",
       "      <th>1인당 소비 금액</th>\n",
       "    </tr>\n",
       "  </thead>\n",
       "  <tbody>\n",
       "    <tr>\n",
       "      <th>0</th>\n",
       "      <td>가정동</td>\n",
       "      <td>2609600</td>\n",
       "    </tr>\n",
       "    <tr>\n",
       "      <th>1</th>\n",
       "      <td>갑동</td>\n",
       "      <td>37369900</td>\n",
       "    </tr>\n",
       "    <tr>\n",
       "      <th>2</th>\n",
       "      <td>계산동</td>\n",
       "      <td>16151800</td>\n",
       "    </tr>\n",
       "    <tr>\n",
       "      <th>3</th>\n",
       "      <td>관평동</td>\n",
       "      <td>18617600</td>\n",
       "    </tr>\n",
       "    <tr>\n",
       "      <th>4</th>\n",
       "      <td>교촌동</td>\n",
       "      <td>80818300</td>\n",
       "    </tr>\n",
       "    <tr>\n",
       "      <th>5</th>\n",
       "      <td>구룡동</td>\n",
       "      <td>7627700</td>\n",
       "    </tr>\n",
       "    <tr>\n",
       "      <th>6</th>\n",
       "      <td>구성동</td>\n",
       "      <td>12262600</td>\n",
       "    </tr>\n",
       "    <tr>\n",
       "      <th>7</th>\n",
       "      <td>구암동</td>\n",
       "      <td>18281100</td>\n",
       "    </tr>\n",
       "    <tr>\n",
       "      <th>8</th>\n",
       "      <td>궁동</td>\n",
       "      <td>20272200</td>\n",
       "    </tr>\n",
       "    <tr>\n",
       "      <th>9</th>\n",
       "      <td>금고동</td>\n",
       "      <td>204500</td>\n",
       "    </tr>\n",
       "    <tr>\n",
       "      <th>10</th>\n",
       "      <td>노은동</td>\n",
       "      <td>42001700</td>\n",
       "    </tr>\n",
       "    <tr>\n",
       "      <th>11</th>\n",
       "      <td>대동</td>\n",
       "      <td>960000</td>\n",
       "    </tr>\n",
       "    <tr>\n",
       "      <th>12</th>\n",
       "      <td>대정동</td>\n",
       "      <td>35804400</td>\n",
       "    </tr>\n",
       "    <tr>\n",
       "      <th>13</th>\n",
       "      <td>덕명동</td>\n",
       "      <td>16501400</td>\n",
       "    </tr>\n",
       "    <tr>\n",
       "      <th>14</th>\n",
       "      <td>덕진동</td>\n",
       "      <td>2365600</td>\n",
       "    </tr>\n",
       "    <tr>\n",
       "      <th>15</th>\n",
       "      <td>도룡동</td>\n",
       "      <td>32653500</td>\n",
       "    </tr>\n",
       "    <tr>\n",
       "      <th>16</th>\n",
       "      <td>둔곡동</td>\n",
       "      <td>3866400</td>\n",
       "    </tr>\n",
       "    <tr>\n",
       "      <th>17</th>\n",
       "      <td>문지동</td>\n",
       "      <td>15084900</td>\n",
       "    </tr>\n",
       "    <tr>\n",
       "      <th>18</th>\n",
       "      <td>반석동</td>\n",
       "      <td>14676800</td>\n",
       "    </tr>\n",
       "    <tr>\n",
       "      <th>19</th>\n",
       "      <td>방동</td>\n",
       "      <td>11328900</td>\n",
       "    </tr>\n",
       "    <tr>\n",
       "      <th>20</th>\n",
       "      <td>방현동</td>\n",
       "      <td>8185500</td>\n",
       "    </tr>\n",
       "    <tr>\n",
       "      <th>21</th>\n",
       "      <td>복용동</td>\n",
       "      <td>33552300</td>\n",
       "    </tr>\n",
       "    <tr>\n",
       "      <th>22</th>\n",
       "      <td>봉명동</td>\n",
       "      <td>31669200</td>\n",
       "    </tr>\n",
       "    <tr>\n",
       "      <th>23</th>\n",
       "      <td>봉산동</td>\n",
       "      <td>15212500</td>\n",
       "    </tr>\n",
       "    <tr>\n",
       "      <th>24</th>\n",
       "      <td>상대동</td>\n",
       "      <td>13123600</td>\n",
       "    </tr>\n",
       "    <tr>\n",
       "      <th>25</th>\n",
       "      <td>성북동</td>\n",
       "      <td>15038600</td>\n",
       "    </tr>\n",
       "    <tr>\n",
       "      <th>26</th>\n",
       "      <td>세동</td>\n",
       "      <td>9941600</td>\n",
       "    </tr>\n",
       "    <tr>\n",
       "      <th>27</th>\n",
       "      <td>송강동</td>\n",
       "      <td>16041400</td>\n",
       "    </tr>\n",
       "    <tr>\n",
       "      <th>28</th>\n",
       "      <td>송정동</td>\n",
       "      <td>2704000</td>\n",
       "    </tr>\n",
       "    <tr>\n",
       "      <th>29</th>\n",
       "      <td>수남동</td>\n",
       "      <td>5295900</td>\n",
       "    </tr>\n",
       "    <tr>\n",
       "      <th>30</th>\n",
       "      <td>신동</td>\n",
       "      <td>1516400</td>\n",
       "    </tr>\n",
       "    <tr>\n",
       "      <th>31</th>\n",
       "      <td>신봉동</td>\n",
       "      <td>10098800</td>\n",
       "    </tr>\n",
       "    <tr>\n",
       "      <th>32</th>\n",
       "      <td>신성동</td>\n",
       "      <td>14303900</td>\n",
       "    </tr>\n",
       "    <tr>\n",
       "      <th>33</th>\n",
       "      <td>안산동</td>\n",
       "      <td>33305400</td>\n",
       "    </tr>\n",
       "    <tr>\n",
       "      <th>34</th>\n",
       "      <td>어은동</td>\n",
       "      <td>6972300</td>\n",
       "    </tr>\n",
       "    <tr>\n",
       "      <th>35</th>\n",
       "      <td>외삼동</td>\n",
       "      <td>18587000</td>\n",
       "    </tr>\n",
       "    <tr>\n",
       "      <th>36</th>\n",
       "      <td>용계동</td>\n",
       "      <td>22205000</td>\n",
       "    </tr>\n",
       "    <tr>\n",
       "      <th>37</th>\n",
       "      <td>용산동</td>\n",
       "      <td>35197900</td>\n",
       "    </tr>\n",
       "    <tr>\n",
       "      <th>38</th>\n",
       "      <td>원내동</td>\n",
       "      <td>15428700</td>\n",
       "    </tr>\n",
       "    <tr>\n",
       "      <th>39</th>\n",
       "      <td>원신흥동</td>\n",
       "      <td>27136400</td>\n",
       "    </tr>\n",
       "    <tr>\n",
       "      <th>40</th>\n",
       "      <td>원촌동</td>\n",
       "      <td>20400100</td>\n",
       "    </tr>\n",
       "    <tr>\n",
       "      <th>41</th>\n",
       "      <td>자운동</td>\n",
       "      <td>17059700</td>\n",
       "    </tr>\n",
       "    <tr>\n",
       "      <th>42</th>\n",
       "      <td>장대동</td>\n",
       "      <td>23665800</td>\n",
       "    </tr>\n",
       "    <tr>\n",
       "      <th>43</th>\n",
       "      <td>장동</td>\n",
       "      <td>30229400</td>\n",
       "    </tr>\n",
       "    <tr>\n",
       "      <th>44</th>\n",
       "      <td>전민동</td>\n",
       "      <td>12475400</td>\n",
       "    </tr>\n",
       "    <tr>\n",
       "      <th>45</th>\n",
       "      <td>죽동</td>\n",
       "      <td>33424300</td>\n",
       "    </tr>\n",
       "    <tr>\n",
       "      <th>46</th>\n",
       "      <td>지족동</td>\n",
       "      <td>20420600</td>\n",
       "    </tr>\n",
       "    <tr>\n",
       "      <th>47</th>\n",
       "      <td>추목동</td>\n",
       "      <td>8739100</td>\n",
       "    </tr>\n",
       "    <tr>\n",
       "      <th>48</th>\n",
       "      <td>탑립동</td>\n",
       "      <td>24273200</td>\n",
       "    </tr>\n",
       "    <tr>\n",
       "      <th>49</th>\n",
       "      <td>하기동</td>\n",
       "      <td>10395800</td>\n",
       "    </tr>\n",
       "    <tr>\n",
       "      <th>50</th>\n",
       "      <td>학하동</td>\n",
       "      <td>61907500</td>\n",
       "    </tr>\n",
       "    <tr>\n",
       "      <th>51</th>\n",
       "      <td>화암동</td>\n",
       "      <td>27410700</td>\n",
       "    </tr>\n",
       "  </tbody>\n",
       "</table>\n",
       "</div>"
      ],
      "text/plain": [
       "    법정동명  1인당 소비 금액\n",
       "0    가정동    2609600\n",
       "1     갑동   37369900\n",
       "2    계산동   16151800\n",
       "3    관평동   18617600\n",
       "4    교촌동   80818300\n",
       "5    구룡동    7627700\n",
       "6    구성동   12262600\n",
       "7    구암동   18281100\n",
       "8     궁동   20272200\n",
       "9    금고동     204500\n",
       "10   노은동   42001700\n",
       "11    대동     960000\n",
       "12   대정동   35804400\n",
       "13   덕명동   16501400\n",
       "14   덕진동    2365600\n",
       "15   도룡동   32653500\n",
       "16   둔곡동    3866400\n",
       "17   문지동   15084900\n",
       "18   반석동   14676800\n",
       "19    방동   11328900\n",
       "20   방현동    8185500\n",
       "21   복용동   33552300\n",
       "22   봉명동   31669200\n",
       "23   봉산동   15212500\n",
       "24   상대동   13123600\n",
       "25   성북동   15038600\n",
       "26    세동    9941600\n",
       "27   송강동   16041400\n",
       "28   송정동    2704000\n",
       "29   수남동    5295900\n",
       "30    신동    1516400\n",
       "31   신봉동   10098800\n",
       "32   신성동   14303900\n",
       "33   안산동   33305400\n",
       "34   어은동    6972300\n",
       "35   외삼동   18587000\n",
       "36   용계동   22205000\n",
       "37   용산동   35197900\n",
       "38   원내동   15428700\n",
       "39  원신흥동   27136400\n",
       "40   원촌동   20400100\n",
       "41   자운동   17059700\n",
       "42   장대동   23665800\n",
       "43    장동   30229400\n",
       "44   전민동   12475400\n",
       "45    죽동   33424300\n",
       "46   지족동   20420600\n",
       "47   추목동    8739100\n",
       "48   탑립동   24273200\n",
       "49   하기동   10395800\n",
       "50   학하동   61907500\n",
       "51   화암동   27410700"
      ]
     },
     "execution_count": 12,
     "metadata": {},
     "output_type": "execute_result"
    }
   ],
   "source": [
    "df_group = df.groupby('법정동명').agg({\n",
    "    '1인당 소비 금액':'sum',\n",
    "}).reset_index()\n",
    "df_group"
   ]
  },
  {
   "cell_type": "code",
   "execution_count": 13,
   "id": "8f69200a-7ba7-4e6a-8f94-a8aef407e9ad",
   "metadata": {
    "scrolled": true
   },
   "outputs": [
    {
     "data": {
      "text/html": [
       "<div>\n",
       "<style scoped>\n",
       "    .dataframe tbody tr th:only-of-type {\n",
       "        vertical-align: middle;\n",
       "    }\n",
       "\n",
       "    .dataframe tbody tr th {\n",
       "        vertical-align: top;\n",
       "    }\n",
       "\n",
       "    .dataframe thead th {\n",
       "        text-align: right;\n",
       "    }\n",
       "</style>\n",
       "<table border=\"1\" class=\"dataframe\">\n",
       "  <thead>\n",
       "    <tr style=\"text-align: right;\">\n",
       "      <th></th>\n",
       "      <th>기준월</th>\n",
       "      <th>법정동명</th>\n",
       "      <th>1인당 소비 금액</th>\n",
       "    </tr>\n",
       "  </thead>\n",
       "  <tbody>\n",
       "    <tr>\n",
       "      <th>0</th>\n",
       "      <td>1</td>\n",
       "      <td>가정동</td>\n",
       "      <td>195500</td>\n",
       "    </tr>\n",
       "    <tr>\n",
       "      <th>1</th>\n",
       "      <td>1</td>\n",
       "      <td>갑동</td>\n",
       "      <td>2449200</td>\n",
       "    </tr>\n",
       "    <tr>\n",
       "      <th>2</th>\n",
       "      <td>1</td>\n",
       "      <td>계산동</td>\n",
       "      <td>2199400</td>\n",
       "    </tr>\n",
       "    <tr>\n",
       "      <th>3</th>\n",
       "      <td>1</td>\n",
       "      <td>관평동</td>\n",
       "      <td>1127200</td>\n",
       "    </tr>\n",
       "    <tr>\n",
       "      <th>4</th>\n",
       "      <td>1</td>\n",
       "      <td>교촌동</td>\n",
       "      <td>7197100</td>\n",
       "    </tr>\n",
       "    <tr>\n",
       "      <th>...</th>\n",
       "      <td>...</td>\n",
       "      <td>...</td>\n",
       "      <td>...</td>\n",
       "    </tr>\n",
       "    <tr>\n",
       "      <th>613</th>\n",
       "      <td>12</td>\n",
       "      <td>추목동</td>\n",
       "      <td>567800</td>\n",
       "    </tr>\n",
       "    <tr>\n",
       "      <th>614</th>\n",
       "      <td>12</td>\n",
       "      <td>탑립동</td>\n",
       "      <td>1486000</td>\n",
       "    </tr>\n",
       "    <tr>\n",
       "      <th>615</th>\n",
       "      <td>12</td>\n",
       "      <td>하기동</td>\n",
       "      <td>1166600</td>\n",
       "    </tr>\n",
       "    <tr>\n",
       "      <th>616</th>\n",
       "      <td>12</td>\n",
       "      <td>학하동</td>\n",
       "      <td>3489300</td>\n",
       "    </tr>\n",
       "    <tr>\n",
       "      <th>617</th>\n",
       "      <td>12</td>\n",
       "      <td>화암동</td>\n",
       "      <td>1465500</td>\n",
       "    </tr>\n",
       "  </tbody>\n",
       "</table>\n",
       "<p>618 rows × 3 columns</p>\n",
       "</div>"
      ],
      "text/plain": [
       "     기준월 법정동명  1인당 소비 금액\n",
       "0      1  가정동     195500\n",
       "1      1   갑동    2449200\n",
       "2      1  계산동    2199400\n",
       "3      1  관평동    1127200\n",
       "4      1  교촌동    7197100\n",
       "..   ...  ...        ...\n",
       "613   12  추목동     567800\n",
       "614   12  탑립동    1486000\n",
       "615   12  하기동    1166600\n",
       "616   12  학하동    3489300\n",
       "617   12  화암동    1465500\n",
       "\n",
       "[618 rows x 3 columns]"
      ]
     },
     "execution_count": 13,
     "metadata": {},
     "output_type": "execute_result"
    }
   ],
   "source": [
    "df_group = df.groupby(['기준월','법정동명']).agg({\n",
    "    '1인당 소비 금액':'sum',\n",
    "}).reset_index()\n",
    "df_group"
   ]
  },
  {
   "cell_type": "code",
   "execution_count": null,
   "id": "8c4a4182-4693-415b-aaf9-a83edf7e6201",
   "metadata": {},
   "outputs": [],
   "source": [
    "표준산업대분류명"
   ]
  },
  {
   "cell_type": "code",
   "execution_count": 14,
   "id": "4eebb3e8-04ba-429f-90ee-dcaac728ed60",
   "metadata": {
    "scrolled": true
   },
   "outputs": [
    {
     "data": {
      "text/html": [
       "<div>\n",
       "<style scoped>\n",
       "    .dataframe tbody tr th:only-of-type {\n",
       "        vertical-align: middle;\n",
       "    }\n",
       "\n",
       "    .dataframe tbody tr th {\n",
       "        vertical-align: top;\n",
       "    }\n",
       "\n",
       "    .dataframe thead th {\n",
       "        text-align: right;\n",
       "    }\n",
       "</style>\n",
       "<table border=\"1\" class=\"dataframe\">\n",
       "  <thead>\n",
       "    <tr style=\"text-align: right;\">\n",
       "      <th></th>\n",
       "      <th>표준산업대분류명</th>\n",
       "      <th>1인당 소비 금액</th>\n",
       "    </tr>\n",
       "  </thead>\n",
       "  <tbody>\n",
       "    <tr>\n",
       "      <th>0</th>\n",
       "      <td>건설업(41-42)</td>\n",
       "      <td>123397100</td>\n",
       "    </tr>\n",
       "    <tr>\n",
       "      <th>1</th>\n",
       "      <td>공공 행정 국방 및 사회보장 행정(84)</td>\n",
       "      <td>82635800</td>\n",
       "    </tr>\n",
       "    <tr>\n",
       "      <th>2</th>\n",
       "      <td>교육 서비스업(85)</td>\n",
       "      <td>187105400</td>\n",
       "    </tr>\n",
       "    <tr>\n",
       "      <th>3</th>\n",
       "      <td>금융 및 보험업(64-66)</td>\n",
       "      <td>3083600</td>\n",
       "    </tr>\n",
       "    <tr>\n",
       "      <th>4</th>\n",
       "      <td>금융 및 보험업(64~66)</td>\n",
       "      <td>27815600</td>\n",
       "    </tr>\n",
       "    <tr>\n",
       "      <th>5</th>\n",
       "      <td>도매 및 소매업(45-47)</td>\n",
       "      <td>95837500</td>\n",
       "    </tr>\n",
       "    <tr>\n",
       "      <th>6</th>\n",
       "      <td>보건업 및 사회복지 서비스업(86-87)</td>\n",
       "      <td>54533600</td>\n",
       "    </tr>\n",
       "    <tr>\n",
       "      <th>7</th>\n",
       "      <td>부동산업(68)</td>\n",
       "      <td>22556600</td>\n",
       "    </tr>\n",
       "    <tr>\n",
       "      <th>8</th>\n",
       "      <td>사업시설 관리  사업 지원 및 임대 서비스업(74-76)</td>\n",
       "      <td>48334500</td>\n",
       "    </tr>\n",
       "    <tr>\n",
       "      <th>9</th>\n",
       "      <td>숙박 및 음식점업(55-56)</td>\n",
       "      <td>32916900</td>\n",
       "    </tr>\n",
       "    <tr>\n",
       "      <th>10</th>\n",
       "      <td>예술  스포츠 및 여가관련 서비스업(90-91)</td>\n",
       "      <td>52035200</td>\n",
       "    </tr>\n",
       "    <tr>\n",
       "      <th>11</th>\n",
       "      <td>운수 및 창고업(49-52)</td>\n",
       "      <td>28729800</td>\n",
       "    </tr>\n",
       "    <tr>\n",
       "      <th>12</th>\n",
       "      <td>전문  과학 및 기술 서비스업(70-73)</td>\n",
       "      <td>100227300</td>\n",
       "    </tr>\n",
       "    <tr>\n",
       "      <th>13</th>\n",
       "      <td>정보통신업(58-63)</td>\n",
       "      <td>1846200</td>\n",
       "    </tr>\n",
       "    <tr>\n",
       "      <th>14</th>\n",
       "      <td>제조업(10-34)</td>\n",
       "      <td>92878100</td>\n",
       "    </tr>\n",
       "    <tr>\n",
       "      <th>15</th>\n",
       "      <td>협회 및 단체  수리 및 기타 개인 서비스업(94-96)</td>\n",
       "      <td>61443700</td>\n",
       "    </tr>\n",
       "  </tbody>\n",
       "</table>\n",
       "</div>"
      ],
      "text/plain": [
       "                           표준산업대분류명  1인당 소비 금액\n",
       "0                        건설업(41-42)  123397100\n",
       "1            공공 행정 국방 및 사회보장 행정(84)   82635800\n",
       "2                       교육 서비스업(85)  187105400\n",
       "3                   금융 및 보험업(64-66)    3083600\n",
       "4                   금융 및 보험업(64~66)   27815600\n",
       "5                   도매 및 소매업(45-47)   95837500\n",
       "6            보건업 및 사회복지 서비스업(86-87)   54533600\n",
       "7                          부동산업(68)   22556600\n",
       "8   사업시설 관리  사업 지원 및 임대 서비스업(74-76)   48334500\n",
       "9                  숙박 및 음식점업(55-56)   32916900\n",
       "10       예술  스포츠 및 여가관련 서비스업(90-91)   52035200\n",
       "11                  운수 및 창고업(49-52)   28729800\n",
       "12          전문  과학 및 기술 서비스업(70-73)  100227300\n",
       "13                     정보통신업(58-63)    1846200\n",
       "14                       제조업(10-34)   92878100\n",
       "15  협회 및 단체  수리 및 기타 개인 서비스업(94-96)   61443700"
      ]
     },
     "execution_count": 14,
     "metadata": {},
     "output_type": "execute_result"
    }
   ],
   "source": [
    "df_group = df.groupby('표준산업대분류명').agg({\n",
    "    '1인당 소비 금액':'sum',\n",
    "}).reset_index()\n",
    "df_group"
   ]
  },
  {
   "cell_type": "code",
   "execution_count": null,
   "id": "f3bd40f9-05ee-4907-8ee4-255a7a63a9a9",
   "metadata": {},
   "outputs": [],
   "source": []
  },
  {
   "cell_type": "code",
   "execution_count": 16,
   "id": "70773572-e122-4184-b20b-04fa3a51bb1c",
   "metadata": {
    "scrolled": true
   },
   "outputs": [
    {
     "data": {
      "text/html": [
       "<div>\n",
       "<style scoped>\n",
       "    .dataframe tbody tr th:only-of-type {\n",
       "        vertical-align: middle;\n",
       "    }\n",
       "\n",
       "    .dataframe tbody tr th {\n",
       "        vertical-align: top;\n",
       "    }\n",
       "\n",
       "    .dataframe thead th {\n",
       "        text-align: right;\n",
       "    }\n",
       "</style>\n",
       "<table border=\"1\" class=\"dataframe\">\n",
       "  <thead>\n",
       "    <tr style=\"text-align: right;\">\n",
       "      <th></th>\n",
       "      <th>표준산업대분류코드</th>\n",
       "      <th>1인당 소비 금액</th>\n",
       "    </tr>\n",
       "  </thead>\n",
       "  <tbody>\n",
       "    <tr>\n",
       "      <th>0</th>\n",
       "      <td>C</td>\n",
       "      <td>92878100</td>\n",
       "    </tr>\n",
       "    <tr>\n",
       "      <th>1</th>\n",
       "      <td>F</td>\n",
       "      <td>123397100</td>\n",
       "    </tr>\n",
       "    <tr>\n",
       "      <th>2</th>\n",
       "      <td>G</td>\n",
       "      <td>95837500</td>\n",
       "    </tr>\n",
       "    <tr>\n",
       "      <th>3</th>\n",
       "      <td>H</td>\n",
       "      <td>28729800</td>\n",
       "    </tr>\n",
       "    <tr>\n",
       "      <th>4</th>\n",
       "      <td>I</td>\n",
       "      <td>32916900</td>\n",
       "    </tr>\n",
       "    <tr>\n",
       "      <th>5</th>\n",
       "      <td>J</td>\n",
       "      <td>1846200</td>\n",
       "    </tr>\n",
       "    <tr>\n",
       "      <th>6</th>\n",
       "      <td>K</td>\n",
       "      <td>30899200</td>\n",
       "    </tr>\n",
       "    <tr>\n",
       "      <th>7</th>\n",
       "      <td>L</td>\n",
       "      <td>22556600</td>\n",
       "    </tr>\n",
       "    <tr>\n",
       "      <th>8</th>\n",
       "      <td>M</td>\n",
       "      <td>100227300</td>\n",
       "    </tr>\n",
       "    <tr>\n",
       "      <th>9</th>\n",
       "      <td>N</td>\n",
       "      <td>48334500</td>\n",
       "    </tr>\n",
       "    <tr>\n",
       "      <th>10</th>\n",
       "      <td>O</td>\n",
       "      <td>82635800</td>\n",
       "    </tr>\n",
       "    <tr>\n",
       "      <th>11</th>\n",
       "      <td>P</td>\n",
       "      <td>187105400</td>\n",
       "    </tr>\n",
       "    <tr>\n",
       "      <th>12</th>\n",
       "      <td>Q</td>\n",
       "      <td>54533600</td>\n",
       "    </tr>\n",
       "    <tr>\n",
       "      <th>13</th>\n",
       "      <td>R</td>\n",
       "      <td>52035200</td>\n",
       "    </tr>\n",
       "    <tr>\n",
       "      <th>14</th>\n",
       "      <td>S</td>\n",
       "      <td>61443700</td>\n",
       "    </tr>\n",
       "  </tbody>\n",
       "</table>\n",
       "</div>"
      ],
      "text/plain": [
       "   표준산업대분류코드  1인당 소비 금액\n",
       "0          C   92878100\n",
       "1          F  123397100\n",
       "2          G   95837500\n",
       "3          H   28729800\n",
       "4          I   32916900\n",
       "5          J    1846200\n",
       "6          K   30899200\n",
       "7          L   22556600\n",
       "8          M  100227300\n",
       "9          N   48334500\n",
       "10         O   82635800\n",
       "11         P  187105400\n",
       "12         Q   54533600\n",
       "13         R   52035200\n",
       "14         S   61443700"
      ]
     },
     "execution_count": 16,
     "metadata": {},
     "output_type": "execute_result"
    }
   ],
   "source": [
    "df_group = df.groupby('표준산업대분류코드').agg({\n",
    "    '1인당 소비 금액':'sum',\n",
    "}).reset_index()\n",
    "df_group"
   ]
  },
  {
   "cell_type": "markdown",
   "id": "2ebab032",
   "metadata": {
    "hidden": true
   },
   "source": [
    "### 2. 데이터 정제"
   ]
  },
  {
   "cell_type": "markdown",
   "id": "39e200d0",
   "metadata": {
    "hidden": true
   },
   "source": [
    "#### 2.1. 원본데이터에서 분석가능한 형태로 데이터 전처리 (형변환, 열이름 변경등)\n",
    "#### 2.2. 데이터 클리닝: 이상치, 결측치처리"
   ]
  },
  {
   "cell_type": "markdown",
   "id": "4e60e3f3",
   "metadata": {
    "hidden": true
   },
   "source": [
    "### 3. 추가데이터 분석"
   ]
  },
  {
   "cell_type": "markdown",
   "id": "82e0a525",
   "metadata": {
    "hidden": true
   },
   "source": [
    "#### 3.1 데이터 정제후 데이터딕셔너리 재확인\n",
    "#### 3.2 기초통계 정보 확인 (최대값, 최소값, 평균값, 표준편차, 최빈값, 유일값 등)\n",
    "#### 3.3 시각화를 통한 데이터이해 심화 "
   ]
  },
  {
   "cell_type": "markdown",
   "id": "87e87a59",
   "metadata": {
    "hidden": true
   },
   "source": [
    "* 3.3.1 단일 열: 데이터의 성격에 따른 다양한 차트 적용  \n",
    "* 3.3.2 복수 열: 두개의 열간 연관관계 분석(Pair Plot 또는 Seaborn의 관련 지원 차트등)"
   ]
  },
  {
   "cell_type": "markdown",
   "id": "1016da18-a38d-4677-942d-ff8e13f2dfad",
   "metadata": {},
   "source": [
    "#### 3.4 데이터 분석 결과도출"
   ]
  },
  {
   "cell_type": "markdown",
   "id": "d98ee251",
   "metadata": {},
   "source": [
    "# 데이터분석 적용 실습 템플릿"
   ]
  },
  {
   "cell_type": "markdown",
   "id": "0521bf67",
   "metadata": {},
   "source": [
    "## 데이터 수집"
   ]
  },
  {
   "cell_type": "code",
   "execution_count": 1,
   "id": "46c5eafe",
   "metadata": {},
   "outputs": [],
   "source": [
    "# 데이터 소스를 확보하세요\n"
   ]
  },
  {
   "cell_type": "markdown",
   "id": "c3b597f4",
   "metadata": {},
   "source": [
    "## 1. 초기데이터 분석"
   ]
  },
  {
   "cell_type": "markdown",
   "id": "0c3c91be",
   "metadata": {},
   "source": [
    "### 1-1. 데이터스키마 확인"
   ]
  },
  {
   "cell_type": "markdown",
   "id": "16b49047-50c3-4ff3-9417-edb92d59b2d4",
   "metadata": {},
   "source": [
    "#### 각 열의 의미, 데이터의 의미해석관련 스펙 또는 메뉴얼을 확인 가능시 진행 하세요\n",
    "* A열: A열의 의미를 기술\n",
    "* B열: B열의 의미를 기술  \n",
    "..."
   ]
  },
  {
   "cell_type": "markdown",
   "id": "913979f3",
   "metadata": {},
   "source": [
    "### 1-2. 데이터 기초정보 확인"
   ]
  },
  {
   "cell_type": "markdown",
   "id": "1e03acff-a002-4e37-be88-5d36d4706630",
   "metadata": {},
   "source": [
    "* 사이즈, 데이터형, 기초통계항목등을 확인하세요  "
   ]
  },
  {
   "cell_type": "code",
   "execution_count": null,
   "id": "4213881a-92fb-4064-af2a-25bc73e4299e",
   "metadata": {},
   "outputs": [],
   "source": [
    "#df.shape\n",
    "#df.info()"
   ]
  },
  {
   "cell_type": "markdown",
   "id": "8d2984b9-6715-49a2-8583-d9583b38b857",
   "metadata": {},
   "source": [
    "* 기초통계항목"
   ]
  },
  {
   "cell_type": "code",
   "execution_count": null,
   "id": "7f497c28-3191-4262-aae0-41402e8eaeef",
   "metadata": {},
   "outputs": [],
   "source": [
    "# df.desribe()"
   ]
  },
  {
   "cell_type": "markdown",
   "id": "c2e13829",
   "metadata": {},
   "source": [
    "## 2. 데이터 정제"
   ]
  },
  {
   "cell_type": "markdown",
   "id": "7eedb11e",
   "metadata": {},
   "source": [
    "### 2-1. 간단한 데이터 전처리"
   ]
  },
  {
   "cell_type": "code",
   "execution_count": 5,
   "id": "5fd51a76",
   "metadata": {},
   "outputs": [],
   "source": [
    "# 원본데이터로에서 읽기 가능한 형태로 데이터처리를 하세요. (열이름 변경, 형변환 등)"
   ]
  },
  {
   "cell_type": "markdown",
   "id": "cfa0f4f4",
   "metadata": {},
   "source": [
    "### 2-2. 데이터 클리닝"
   ]
  },
  {
   "cell_type": "code",
   "execution_count": 6,
   "id": "81050694",
   "metadata": {},
   "outputs": [],
   "source": [
    "# 결측치, 중복값, 이상치 처리등의 작업을 진행하세요"
   ]
  },
  {
   "cell_type": "markdown",
   "id": "94b01c03-879b-4b93-a375-5a88a7f3672a",
   "metadata": {},
   "source": [
    "* 결측치"
   ]
  },
  {
   "cell_type": "markdown",
   "id": "497a7431-81b3-42d2-84b5-0afde8e6c9c4",
   "metadata": {},
   "source": [
    "    - 결측치 열 확인"
   ]
  },
  {
   "cell_type": "code",
   "execution_count": null,
   "id": "b0a70dec-f81b-46d8-b58c-73f81ce17493",
   "metadata": {},
   "outputs": [],
   "source": [
    "# missing_values = df.isnull().any()  \n",
    "# column_missing_values = missing_values[ missing_values == True ]\n",
    "# column_missing_values"
   ]
  },
  {
   "cell_type": "raw",
   "id": "ab96e2e8-2ecc-462b-8055-915bff513d34",
   "metadata": {},
   "source": [
    "   - 결측값이 있는 모든 행 확인"
   ]
  },
  {
   "cell_type": "code",
   "execution_count": null,
   "id": "53aa6924-3c4f-4aad-91cf-2d09b459d59b",
   "metadata": {},
   "outputs": [],
   "source": [
    "# df.isnull().any(axis=1)"
   ]
  },
  {
   "cell_type": "markdown",
   "id": "b9cbf7a2-7aa7-4d87-86d8-b31476a77a01",
   "metadata": {},
   "source": [
    "* 결측치 보정"
   ]
  },
  {
   "cell_type": "raw",
   "id": "adbf1968-8d29-4baa-949e-d6394e19b81b",
   "metadata": {},
   "source": [
    "   - 열에 대하여 단일 값 보정     "
   ]
  },
  {
   "cell_type": "code",
   "execution_count": null,
   "id": "0e6c6935-a8a6-4df0-bed5-8da8fd160ec2",
   "metadata": {},
   "outputs": [],
   "source": [
    "# df['나이'] = df['나이'].fillna(0)"
   ]
  },
  {
   "cell_type": "raw",
   "id": "367abb36-a09d-4f12-be6d-cd0bc685f452",
   "metadata": {},
   "source": [
    "   - 데이터 프레임 전체에 단일 값 보정  "
   ]
  },
  {
   "cell_type": "code",
   "execution_count": 1,
   "id": "437088df-6ab9-474d-9b3f-503b9f8e2476",
   "metadata": {},
   "outputs": [],
   "source": [
    "# df = df.fillna(0)"
   ]
  },
  {
   "cell_type": "markdown",
   "id": "6cb87513-ac6b-49cd-98bd-6ff427c5d759",
   "metadata": {},
   "source": [
    "* 중복값 삭제 (필요시)"
   ]
  },
  {
   "cell_type": "raw",
   "id": "4e12f2c7-add7-47b8-a986-376fc1f2634e",
   "metadata": {},
   "source": [
    "  - 모든 중복 행데이터 확인"
   ]
  },
  {
   "cell_type": "code",
   "execution_count": null,
   "id": "eb5f565f-8fc8-434f-bb66-a9d1c75a7605",
   "metadata": {},
   "outputs": [],
   "source": [
    "# df[df.duplicated(keep=False)]"
   ]
  },
  {
   "cell_type": "raw",
   "id": "e847b33e-f13a-47bd-af55-111bf56442b2",
   "metadata": {},
   "source": [
    "  - 모든 중복 행데이터 삭제"
   ]
  },
  {
   "cell_type": "code",
   "execution_count": null,
   "id": "a352aa67-0634-483e-a41b-ba06c6cf51ab",
   "metadata": {},
   "outputs": [],
   "source": [
    "# df.drop_duplicates(inplace=True)"
   ]
  },
  {
   "cell_type": "markdown",
   "id": "9dac0879",
   "metadata": {},
   "source": [
    "## 3. 추가데이터 분석"
   ]
  },
  {
   "cell_type": "markdown",
   "id": "253f0cc0",
   "metadata": {},
   "source": [
    "### 3.1. 데이터 정제후 데이터스키마 재확인"
   ]
  },
  {
   "cell_type": "markdown",
   "id": "1812339b-9396-4195-833b-4be5a041d05d",
   "metadata": {},
   "source": [
    "* 1-2 작업을 다시 해보세요."
   ]
  },
  {
   "cell_type": "markdown",
   "id": "8a244e0a",
   "metadata": {},
   "source": [
    "### 3.2 데이터 기초정보 정보 확인"
   ]
  },
  {
   "cell_type": "markdown",
   "id": "3361d7b0-6b2c-493e-a6f8-20bcb153b912",
   "metadata": {},
   "source": [
    "* 최대값, 최소값, 평균값, 표준편차, 최빈값, 유일값, 결측치, 이상치 등의 정보를 재확인해 보세요"
   ]
  },
  {
   "cell_type": "markdown",
   "id": "e73d61a5",
   "metadata": {},
   "source": [
    "### 3.3 시각화를 통한 데이터이해 심화"
   ]
  },
  {
   "cell_type": "markdown",
   "id": "5de7dac1-31b5-4138-a9a6-33fbbde9caac",
   "metadata": {},
   "source": [
    "* 데이터의 성격에 따라 이해도를 올리기 위해 시각화가 필요한 데이터차트를 만들어 보세요.  \n",
    "  (Seaborn 추천: 페어플롯, 막대차트, 파이차트, 라인차트, 히스토그램등..)\n",
    "* 시각화한 차트에 대한 분석"
   ]
  },
  {
   "cell_type": "markdown",
   "id": "f4fa4f46-073f-4c62-b4ae-54ade39c5251",
   "metadata": {},
   "source": [
    "### 3.4 최종 데이터 분석 결과도출"
   ]
  },
  {
   "cell_type": "markdown",
   "id": "477f095f-e884-4326-af1f-ebea049c3546",
   "metadata": {},
   "source": [
    "* 데이터 분석을 통해 얻은 새로운 지식, 인사이트를 정리하세요.\n",
    "* 새로운 지식 및 인사이트 별 비지니스 전략을 도출할 수 있으면 정리해 보세요"
   ]
  }
 ],
 "metadata": {
  "kernelspec": {
   "display_name": "Python [conda env:base] *",
   "language": "python",
   "name": "conda-base-py"
  },
  "language_info": {
   "codemirror_mode": {
    "name": "ipython",
    "version": 3
   },
   "file_extension": ".py",
   "mimetype": "text/x-python",
   "name": "python",
   "nbconvert_exporter": "python",
   "pygments_lexer": "ipython3",
   "version": "3.13.5"
  }
 },
 "nbformat": 4,
 "nbformat_minor": 5
}
