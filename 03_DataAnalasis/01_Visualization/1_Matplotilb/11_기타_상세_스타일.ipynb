{
 "cells": [
  {
   "cell_type": "markdown",
   "id": "f60f5d55-94ac-4205-91c9-1898b7123845",
   "metadata": {},
   "source": [
    "# 참조 사이트"
   ]
  },
  {
   "cell_type": "raw",
   "id": "5958dee8-b5a3-43b7-b339-ba00725ad066",
   "metadata": {},
   "source": [
    "https://wikidocs.net/book/5011#google_vignette"
   ]
  }
 ],
 "metadata": {
  "kernelspec": {
   "display_name": "Python [conda env:base] *",
   "language": "python",
   "name": "conda-base-py"
  },
  "language_info": {
   "codemirror_mode": {
    "name": "ipython",
    "version": 3
   },
   "file_extension": ".py",
   "mimetype": "text/x-python",
   "name": "python",
   "nbconvert_exporter": "python",
   "pygments_lexer": "ipython3",
   "version": "3.13.5"
  }
 },
 "nbformat": 4,
 "nbformat_minor": 5
}
