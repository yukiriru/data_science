{
 "cells": [
  {
   "cell_type": "code",
   "execution_count": 1,
   "id": "b756fd65-63d4-40c9-9003-037929990d3e",
   "metadata": {},
   "outputs": [],
   "source": [
    "import folium\n",
    "from folium import Marker\n",
    "from folium.plugins import MarkerCluster"
   ]
  },
  {
   "cell_type": "code",
   "execution_count": 2,
   "id": "9b9b47e9-2bf7-4f37-83c7-d36933c4385b",
   "metadata": {},
   "outputs": [],
   "source": [
    "import pandas as pd\n",
    "import numpy as np\n",
    "import matplotlib.pyplot as plt\n",
    "import seaborn as sns\n",
    "from matplotlib import font_manager,rc\n",
    "\n",
    "import random\n",
    "\n",
    "font_location = \"C:\\Windows\\Fonts\\malgun.ttf\"\n",
    "font_name = font_manager.FontProperties(fname=font_location).get_name()\n",
    "rc('font',family=font_name)\n",
    "plt.rcParams['axes.unicode_minus'] = False"
   ]
  },
  {
   "cell_type": "markdown",
   "id": "9a361676",
   "metadata": {
    "hidden": true
   },
   "source": [
    "## 주요절차"
   ]
  },
  {
   "cell_type": "raw",
   "id": "66a43f0e-61a2-491f-96c6-5a54f3e52b50",
   "metadata": {
    "hidden": true
   },
   "source": [
    "기초 통계값 확인 ( df.describe() )\n",
    "[수치형 데이터]\r",
    " \n",
    "=> 수치데이터로서 의미가 는지 판단? (이상치, 아웃라이어 확인)\r\n",
    "=> 의미가 있는(예: 키, 몸무게, 가격등) 열에 대해 아래 작업 진행  분석\r\n",
    " - 확인해야 할 사항    수치상\r\n",
    "mean, min, 1q, 2q(중위값),  최대값 가격\r\n",
    " - 시각화\r\n",
    "  히스토그램, 박스플롯 (바이올린플롯)\r\n",
    " - 이상치 유무 확인\r\n",
    " - 이상치가 있다면 보정방식을 선택\r\n",
    "  (예, 단일값, 보정: 삭제이상치 수정이후 , 포함)\r\n",
    "- 기초통계값과, 차치가 [보 재  데이터]유무 확인)\r\n",
    "- 문자열\r\n",
    " => unique의 결과값에서 파이차트나 막대차트로 그릴수  - 있는 열이 있는지 확인\r\n",
    " 10개미만은 파이차트,  - 도우넛차트 그리기에 용이\r\n",
    " 10개상위 은 파이차트, 막대차트(Top3,5,10 등을 도출.. 그리고 형 데이터나하위 데이터3,5,10)\r\n",
    "\r\n",
    "* 수치 문자 중에 범위화 할 \n",
    " 예)수 있는 열이 있는지 확인해 보자\r\n",
    " 가격=> 초고가, 고가,위 작업은  일반, 저가 함수를 통해\r",
    "ly 함수를 통해"
   ]
  },
  {
   "cell_type": "markdown",
   "id": "d98ee251",
   "metadata": {},
   "source": [
    "# 데이터분석 적용 실습 템플릿"
   ]
  },
  {
   "cell_type": "markdown",
   "id": "0521bf67",
   "metadata": {},
   "source": [
    "## 데이터 수집"
   ]
  },
  {
   "cell_type": "code",
   "execution_count": 20,
   "id": "46c5eafe",
   "metadata": {},
   "outputs": [
    {
     "data": {
      "text/html": [
       "<div>\n",
       "<style scoped>\n",
       "    .dataframe tbody tr th:only-of-type {\n",
       "        vertical-align: middle;\n",
       "    }\n",
       "\n",
       "    .dataframe tbody tr th {\n",
       "        vertical-align: top;\n",
       "    }\n",
       "\n",
       "    .dataframe thead th {\n",
       "        text-align: right;\n",
       "    }\n",
       "</style>\n",
       "<table border=\"1\" class=\"dataframe\">\n",
       "  <thead>\n",
       "    <tr style=\"text-align: right;\">\n",
       "      <th></th>\n",
       "      <th>시도명</th>\n",
       "      <th>시군구명</th>\n",
       "      <th>읍면동명</th>\n",
       "      <th>도로명주소</th>\n",
       "      <th>위도</th>\n",
       "      <th>경도</th>\n",
       "      <th>주택유형</th>\n",
       "      <th>구조유형</th>\n",
       "      <th>건축연도</th>\n",
       "      <th>빈집등급</th>\n",
       "      <th>데이터 기준일</th>\n",
       "    </tr>\n",
       "  </thead>\n",
       "  <tbody>\n",
       "    <tr>\n",
       "      <th>0</th>\n",
       "      <td>충청북도</td>\n",
       "      <td>충주시</td>\n",
       "      <td>성내동</td>\n",
       "      <td>충청북도 충주시 성내길 8-2, (성내동)</td>\n",
       "      <td>36.972572</td>\n",
       "      <td>127.935176</td>\n",
       "      <td>단독</td>\n",
       "      <td>일반목구조</td>\n",
       "      <td>1945.0</td>\n",
       "      <td>3등급</td>\n",
       "      <td>2025-06-30</td>\n",
       "    </tr>\n",
       "    <tr>\n",
       "      <th>1</th>\n",
       "      <td>충청북도</td>\n",
       "      <td>충주시</td>\n",
       "      <td>성내동</td>\n",
       "      <td>충청북도 충주시 성내길 14-5, (성내동)</td>\n",
       "      <td>36.972158</td>\n",
       "      <td>127.935727</td>\n",
       "      <td>단독</td>\n",
       "      <td>일반목구조</td>\n",
       "      <td>1945.0</td>\n",
       "      <td>1등급</td>\n",
       "      <td>2025-06-30</td>\n",
       "    </tr>\n",
       "    <tr>\n",
       "      <th>2</th>\n",
       "      <td>충청북도</td>\n",
       "      <td>충주시</td>\n",
       "      <td>성내동</td>\n",
       "      <td>충청북도 충주시 중앙로 121-1, (성내동)</td>\n",
       "      <td>36.971510</td>\n",
       "      <td>127.936851</td>\n",
       "      <td>그 외</td>\n",
       "      <td>벽돌구조</td>\n",
       "      <td>1970.0</td>\n",
       "      <td>1등급</td>\n",
       "      <td>2025-06-30</td>\n",
       "    </tr>\n",
       "    <tr>\n",
       "      <th>3</th>\n",
       "      <td>충청북도</td>\n",
       "      <td>충주시</td>\n",
       "      <td>성내동</td>\n",
       "      <td>충청북도 충주시 형설로 175-2, (성내동)</td>\n",
       "      <td>36.969717</td>\n",
       "      <td>127.937739</td>\n",
       "      <td>단독</td>\n",
       "      <td>일반목구조</td>\n",
       "      <td>1945.0</td>\n",
       "      <td>2등급</td>\n",
       "      <td>2025-06-30</td>\n",
       "    </tr>\n",
       "    <tr>\n",
       "      <th>4</th>\n",
       "      <td>충청북도</td>\n",
       "      <td>충주시</td>\n",
       "      <td>성남동</td>\n",
       "      <td>충청북도 충주시 성남5길 26-8, (성남동)</td>\n",
       "      <td>36.967932</td>\n",
       "      <td>127.937752</td>\n",
       "      <td>단독</td>\n",
       "      <td>일반목구조</td>\n",
       "      <td>1935.0</td>\n",
       "      <td>2등급</td>\n",
       "      <td>2025-06-30</td>\n",
       "    </tr>\n",
       "  </tbody>\n",
       "</table>\n",
       "</div>"
      ],
      "text/plain": [
       "    시도명 시군구명 읍면동명                      도로명주소         위도          경도 주택유형  \\\n",
       "0  충청북도  충주시  성내동    충청북도 충주시 성내길 8-2, (성내동)  36.972572  127.935176   단독   \n",
       "1  충청북도  충주시  성내동   충청북도 충주시 성내길 14-5, (성내동)  36.972158  127.935727   단독   \n",
       "2  충청북도  충주시  성내동  충청북도 충주시 중앙로 121-1, (성내동)  36.971510  127.936851  그 외   \n",
       "3  충청북도  충주시  성내동  충청북도 충주시 형설로 175-2, (성내동)  36.969717  127.937739   단독   \n",
       "4  충청북도  충주시  성남동  충청북도 충주시 성남5길 26-8, (성남동)  36.967932  127.937752   단독   \n",
       "\n",
       "    구조유형    건축연도 빈집등급     데이터 기준일  \n",
       "0  일반목구조  1945.0  3등급  2025-06-30  \n",
       "1  일반목구조  1945.0  1등급  2025-06-30  \n",
       "2   벽돌구조  1970.0  1등급  2025-06-30  \n",
       "3  일반목구조  1945.0  2등급  2025-06-30  \n",
       "4  일반목구조  1935.0  2등급  2025-06-30  "
      ]
     },
     "execution_count": 20,
     "metadata": {},
     "output_type": "execute_result"
    }
   ],
   "source": [
    "# 데이터 소스를 확보하세요\n",
    "df = pd.read_csv('충청북도 충주시_빈집현황_20250630.csv', encoding='cp949')\n",
    "df.head()"
   ]
  },
  {
   "cell_type": "markdown",
   "id": "c3b597f4",
   "metadata": {},
   "source": [
    "## 1. 초기데이터 분석"
   ]
  },
  {
   "cell_type": "markdown",
   "id": "913979f3",
   "metadata": {},
   "source": [
    "### 1-2. 데이터 기초정보 확인"
   ]
  },
  {
   "cell_type": "code",
   "execution_count": 6,
   "id": "4213881a-92fb-4064-af2a-25bc73e4299e",
   "metadata": {
    "scrolled": true
   },
   "outputs": [
    {
     "data": {
      "text/plain": [
       "Index(['시도명', '시군구명', '읍면동명', '주택유형', '건축년도', '건축물대장주구조', '연면적', '위도', '경도',\n",
       "       '등급판정결과', '데이터기준일자'],\n",
       "      dtype='object')"
      ]
     },
     "execution_count": 6,
     "metadata": {},
     "output_type": "execute_result"
    }
   ],
   "source": [
    "df.columns"
   ]
  },
  {
   "cell_type": "markdown",
   "id": "2490fcbf-fb9b-42ab-8836-1e972cf93ddc",
   "metadata": {},
   "source": [
    "## 2. 데이터 정제"
   ]
  },
  {
   "cell_type": "code",
   "execution_count": 23,
   "id": "8ab91f37-4d16-4591-8e99-ccb7dede964f",
   "metadata": {
    "scrolled": true
   },
   "outputs": [
    {
     "name": "stdout",
     "output_type": "stream",
     "text": [
      "<class 'pandas.core.frame.DataFrame'>\n",
      "RangeIndex: 399 entries, 0 to 398\n",
      "Data columns (total 11 columns):\n",
      " #   Column   Non-Null Count  Dtype  \n",
      "---  ------   --------------  -----  \n",
      " 0   시도명      399 non-null    object \n",
      " 1   시군구명     399 non-null    object \n",
      " 2   읍면동명     399 non-null    object \n",
      " 3   도로명주소    399 non-null    object \n",
      " 4   위도       399 non-null    float64\n",
      " 5   경도       399 non-null    float64\n",
      " 6   주택유형     399 non-null    object \n",
      " 7   구조유형     399 non-null    object \n",
      " 8   건축연도     331 non-null    float64\n",
      " 9   빈집등급     399 non-null    object \n",
      " 10  데이터 기준일  399 non-null    object \n",
      "dtypes: float64(3), object(8)\n",
      "memory usage: 34.4+ KB\n"
     ]
    }
   ],
   "source": [
    "df.info()"
   ]
  },
  {
   "cell_type": "code",
   "execution_count": 8,
   "id": "7f497c28-3191-4262-aae0-41402e8eaeef",
   "metadata": {
    "scrolled": true
   },
   "outputs": [
    {
     "name": "stdout",
     "output_type": "stream",
     "text": [
      "<class 'pandas.core.frame.DataFrame'>\n",
      "Index: 629 entries, 2 to 647\n",
      "Data columns (total 7 columns):\n",
      " #   Column    Non-Null Count  Dtype  \n",
      "---  ------    --------------  -----  \n",
      " 0   읍면동명      629 non-null    object \n",
      " 1   주택유형      629 non-null    object \n",
      " 2   건축년도      629 non-null    int64  \n",
      " 3   건축물대장주구조  629 non-null    object \n",
      " 4   위도        629 non-null    float64\n",
      " 5   경도        629 non-null    float64\n",
      " 6   등급판정결과    629 non-null    object \n",
      "dtypes: float64(2), int64(1), object(4)\n",
      "memory usage: 39.3+ KB\n"
     ]
    }
   ],
   "source": [
    "df2 = df2[df2['건축년도'] != 0] # 결측치 '0'인 값을 제거\n",
    "df2.info()"
   ]
  },
  {
   "cell_type": "code",
   "execution_count": 21,
   "id": "7252104f-1e93-4964-8854-d57240a9b7a5",
   "metadata": {},
   "outputs": [
    {
     "data": {
      "text/plain": [
       "구조유형\n",
       "벽돌구조        160\n",
       "일반목구조        87\n",
       "미상           63\n",
       "블록구조         58\n",
       "기타조적구조       15\n",
       "경량철골구조       12\n",
       "철근콘크리트구조      3\n",
       "석구조           1\n",
       "Name: count, dtype: int64"
      ]
     },
     "execution_count": 21,
     "metadata": {},
     "output_type": "execute_result"
    }
   ],
   "source": [
    "df['구조유형'].value_counts()"
   ]
  },
  {
   "cell_type": "code",
   "execution_count": null,
   "id": "2a58437c-7057-4071-8df6-e157c4f7eda0",
   "metadata": {},
   "outputs": [],
   "source": []
  },
  {
   "cell_type": "markdown",
   "id": "9dac0879",
   "metadata": {},
   "source": [
    "## 3. 추가데이터 분석"
   ]
  },
  {
   "cell_type": "markdown",
   "id": "e73d61a5",
   "metadata": {},
   "source": [
    "### 3.1 시각화를 통한 데이터이해 심화"
   ]
  },
  {
   "cell_type": "code",
   "execution_count": 18,
   "id": "1c3f5bd4-1b6a-43ed-83fb-9ff5582c7af0",
   "metadata": {},
   "outputs": [
    {
     "ename": "NameError",
     "evalue": "name 'latitude' is not defined",
     "output_type": "error",
     "traceback": [
      "\u001b[1;31m---------------------------------------------------------------------------\u001b[0m",
      "\u001b[1;31mNameError\u001b[0m                                 Traceback (most recent call last)",
      "Cell \u001b[1;32mIn[18], line 1\u001b[0m\n\u001b[1;32m----> 1\u001b[0m m \u001b[38;5;241m=\u001b[39m folium\u001b[38;5;241m.\u001b[39mMap(location \u001b[38;5;241m=\u001b[39m [latitude, longitude],\n\u001b[0;32m      2\u001b[0m                zoom_start \u001b[38;5;241m=\u001b[39m \u001b[38;5;241m17\u001b[39m,\n\u001b[0;32m      3\u001b[0m                width \u001b[38;5;241m=\u001b[39m \u001b[38;5;241m750\u001b[39m,\n\u001b[0;32m      4\u001b[0m                height \u001b[38;5;241m=\u001b[39m \u001b[38;5;241m500\u001b[39m)\n\u001b[0;32m      5\u001b[0m \u001b[38;5;28;01mfor\u001b[39;00m name, lat, lng \u001b[38;5;129;01min\u001b[39;00m \u001b[38;5;28mzip\u001b[39m(df2[\u001b[38;5;124m'\u001b[39m\u001b[38;5;124m등급판정결과\u001b[39m\u001b[38;5;124m'\u001b[39m], df2[\u001b[38;5;124m'\u001b[39m\u001b[38;5;124m위도\u001b[39m\u001b[38;5;124m'\u001b[39m], df2[\u001b[38;5;124m'\u001b[39m\u001b[38;5;124m경도\u001b[39m\u001b[38;5;124m'\u001b[39m]):\n\u001b[0;32m      6\u001b[0m     Marker(location\u001b[38;5;241m=\u001b[39m[lat, lng],\n\u001b[0;32m      7\u001b[0m     popup\u001b[38;5;241m=\u001b[39mname,\n\u001b[0;32m      8\u001b[0m     tooltip\u001b[38;5;241m=\u001b[39mname,\n\u001b[0;32m      9\u001b[0m     icon \u001b[38;5;241m=\u001b[39m folium\u001b[38;5;241m.\u001b[39mIcon(color\u001b[38;5;241m=\u001b[39m\u001b[38;5;124m'\u001b[39m\u001b[38;5;124mblue\u001b[39m\u001b[38;5;124m'\u001b[39m, icon\u001b[38;5;241m=\u001b[39m\u001b[38;5;124m'\u001b[39m\u001b[38;5;124mshopping-cart\u001b[39m\u001b[38;5;124m'\u001b[39m)\n\u001b[0;32m     10\u001b[0m     )\u001b[38;5;241m.\u001b[39madd_to(m)\n",
      "\u001b[1;31mNameError\u001b[0m: name 'latitude' is not defined"
     ]
    }
   ],
   "source": [
    "\n",
    "for name, lat, lng in zip(df2['등급판정결과'], df2['위도'], df2['경도']):\n",
    "    Marker(location=[lat, lng],\n",
    "    popup=name,\n",
    "    tooltip=name,\n",
    "    icon = folium.Icon(color='blue', icon='shopping-cart')\n",
    "    ).add_to(m)\n",
    "m"
   ]
  },
  {
   "cell_type": "code",
   "execution_count": 14,
   "id": "ecb7b328-af86-42f8-afae-e1b5b501d653",
   "metadata": {
    "scrolled": true
   },
   "outputs": [
    {
     "data": {
      "image/png": "[encoded data removed]",
      "text/plain": [
       "<Figure size 640x480 with 1 Axes>"
      ]
     },
     "metadata": {},
     "output_type": "display_data"
    }
   ],
   "source": [
    "sns.boxplot(data=df, x=\"읍면동명\", y=\"연면적\", hue=\"등급판정결과\")\n",
    "plt.title(\"\")\n",
    "plt.xticks(rotation=45)\n",
    "plt.show()\n"
   ]
  },
  {
   "cell_type": "markdown",
   "id": "5de7dac1-31b5-4138-a9a6-33fbbde9caac",
   "metadata": {},
   "source": [
    "* 데이터의 성격에 따라 이해도를 올리기 위해 시각화가 필요한 데이터차트를 만들어 보세요.  \n",
    "    * (Seaborn 추천: 페어플롯, 막대차트, 파이차트, 라인차트, 히스토그램등..)\n",
    "    * 차트 분석시 hue인자를 활용해서 범주형 열에 대한 추가 분석을 해보세요.\n",
    "* 시각화한 차트에 대한 분석"
   ]
  },
  {
   "cell_type": "markdown",
   "id": "f4fa4f46-073f-4c62-b4ae-54ade39c5251",
   "metadata": {},
   "source": [
    "### 3.2 최종 데이터 분석 결과도출"
   ]
  },
  {
   "cell_type": "markdown",
   "id": "477f095f-e884-4326-af1f-ebea049c3546",
   "metadata": {},
   "source": [
    "* 데이터 분석을 통해 얻은 새로운 지식, 인사이트를 정리하세요.\n",
    "* 새로운 지식 및 인사이트 별 비지니스 전략을 도출할 수 있으면 정리해 보세요"
   ]
  },
  {
   "cell_type": "code",
   "execution_count": null,
   "id": "aa981de7-b01a-4590-a584-45e3831512c5",
   "metadata": {},
   "outputs": [],
   "source": []
  },
  {
   "cell_type": "code",
   "execution_count": null,
   "id": "e59d9eec-c1d1-4ef2-a0a2-8545ec6f9e6c",
   "metadata": {},
   "outputs": [],
   "source": []
  }
 ],
 "metadata": {
  "kernelspec": {
   "display_name": "Python [conda env:base] *",
   "language": "python",
   "name": "conda-base-py"
  },
  "language_info": {
   "codemirror_mode": {
    "name": "ipython",
    "version": 3
   },
   "file_extension": ".py",
   "mimetype": "text/x-python",
   "name": "python",
   "nbconvert_exporter": "python",
   "pygments_lexer": "ipython3",
   "version": "3.13.5"
  }
 },
 "nbformat": 4,
 "nbformat_minor": 5
}
