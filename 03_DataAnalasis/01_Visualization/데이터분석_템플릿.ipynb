{
 "cells": [
  {
   "cell_type": "markdown",
   "id": "9a361676",
   "metadata": {
    "hidden": true
   },
   "source": [
    "## 주요절차"
   ]
  },
  {
   "cell_type": "markdown",
   "id": "27585602",
   "metadata": {
    "hidden": true
   },
   "source": [
    "### 1. 초기데이터 분석"
   ]
  },
  {
   "cell_type": "markdown",
   "id": "f952717d-1c7e-4ec5-a2bf-85ec04cad815",
   "metadata": {
    "hidden": true
   },
   "source": [
    "#### 1-1. 데이터딕셔너리(각 열의 의미, 데이터의 의미해석관련 스펙 또는 메뉴얼) 확인\n",
    "#### 1-2 데이터 기초정보 확인 (사이즈, 열이름, 데이터형)\n",
    "\n",
    "유무 확인)차트 재확인 (이"
   ]
  },
  {
   "cell_type": "markdown",
   "id": "fc3d0eb7-3b2e-4204-944a-9287732085c9",
   "metadata": {},
   "source": [
    "* 기초통계정보 확인"
   ]
  },
  {
   "cell_type": "raw",
   "id": "66a43f0e-61a2-491f-96c6-5a54f3e52b50",
   "metadata": {
    "hidden": true
   },
   "source": [
    "기초 통계값 확인 ( df.describe() )\n",
    "[수치형 데이터]\r",
    " \n",
    "=> 수치데이터로서 의미가 는지 판단? \r\n",
    "=> 의미가 있는(예: 키, 몸무게, 가격등) 열에 대해 아래 작업 진행  분석\r\n",
    " - 확인해야 할 사항    수치상\r\n",
    "mean, min, 1q, 2q(중위값), 3q,게, 가격\r\n",
    " - 시각화\r\n",
    "  히스토그램, 박스플롯 (바이올린플롯)\r\n",
    " - 이상치 유무 확인\r\n",
    " - 이상치가 있다면 보정방식을 선택\r\n",
    "  (예: 삭제, 포함)\r\n",
    "- 기초통계값과, 차트 재확인 (이상\n",
    "[보정  데이터]유무 확인)\r\n",
    "- 문자열\r\n",
    " => unique의 결과값에서 파이차트나 막대차트로 그릴수  - 있는 열이 있는지 확인\r\n",
    " 10개미만은 파이차트,  - 도우넛차트 그리기에 용이\r\n",
    " 10개상위 은 파이차트, 막대차트(Top3,5,10 등을 도출.. 그리고 형 데이터나하위 데이터3,5,10)\r\n",
    "\r\n",
    "* 수치 문자 중에 범위화 할 \n",
    " 예)수 있는 열이 있는지 확인해 보자\r\n",
    " 가격=> 초고가, 고가,위 작업은  일반, 저가\r\n",
    " 주소 추후 진행할 수 있다.pply 함수를 통해\r",
    "ly 함수를 통해"
   ]
  },
  {
   "cell_type": "code",
   "execution_count": null,
   "id": "f413b42e-48ff-45ce-ad18-9a996942624f",
   "metadata": {},
   "outputs": [],
   "source": [
    "# 판다스 라이브러리 사용\n",
    "import pandas as pd\n",
    "\n",
    "# 실습1.csv 파일을 불러와서 file1로 저장\n",
    "# 실습2.csv 파일을 불러와서 file2로 저장\n",
    "file1 = pd.read_csv('유성구_1인당 평균 소비 금액 데이터_202301.csv')\n",
    "file2 = pd.read_csv('유성구_1인당 평균 소비 금액 데이터_202302.csv')\n",
    "file3 = pd.read_csv('유성구_1인당 평균 소비 금액 데이터_202303.csv')\n",
    "file4 = pd.read_csv('유성구_1인당 평균 소비 금액 데이터_202304.csv')\n",
    "file5 = pd.read_csv('유성구_1인당 평균 소비 금액 데이터_202305.csv')\n",
    "file6 = pd.read_csv('유성구_1인당 평균 소비 금액 데이터_202306.csv')\n",
    "file7 = pd.read_csv('유성구_1인당 평균 소비 금액 데이터_202307.csv')\n",
    "file8 = pd.read_csv('유성구_1인당 평균 소비 금액 데이터_202308.csv')\n",
    "file9 = pd.read_csv('유성구_1인당 평균 소비 금액 데이터_202309.csv')\n",
    "file10 = pd.read_csv('유성구_1인당 평균 소비 금액 데이터_202310.csv')\n",
    "file11 = pd.read_csv('유성구_1인당 평균 소비 금액 데이터_202311.csv')\n",
    "file12 = pd.read_csv('유성구_1인당 평균 소비 금액 데이터_202312.csv')\n",
    "\n",
    "\n",
    "\n",
    "result = pd.concat([file1,file2,file3,file4,file5,file6,file7,file8,file9,file10,file11,fiel])\n",
    "\n",
    "\n",
    "print(result)"
   ]
  },
  {
   "cell_type": "markdown",
   "id": "2ebab032",
   "metadata": {
    "hidden": true
   },
   "source": [
    "### 2. 데이터 정제"
   ]
  },
  {
   "cell_type": "markdown",
   "id": "39e200d0",
   "metadata": {
    "hidden": true
   },
   "source": [
    "#### 2.1. 원본데이터에서 분석가능한 형태로 데이터 전처리 (형변환, 열이름 변경등)\n",
    "#### 2.2. 데이터 클리닝: 이상치, 결측치처리"
   ]
  },
  {
   "cell_type": "markdown",
   "id": "4e60e3f3",
   "metadata": {
    "hidden": true
   },
   "source": [
    "### 3. 추가데이터 분석"
   ]
  },
  {
   "cell_type": "markdown",
   "id": "82e0a525",
   "metadata": {
    "hidden": true
   },
   "source": [
    "#### 3.1 데이터 정제후 데이터딕셔너리 재확인\n",
    "#### 3.2 기초통계 정보 확인 (최대값, 최소값, 평균값, 표준편차, 최빈값, 유일값 등)\n",
    "#### 3.3 시각화를 통한 데이터이해 심화 "
   ]
  },
  {
   "cell_type": "markdown",
   "id": "87e87a59",
   "metadata": {
    "hidden": true
   },
   "source": [
    "* 3.3.1 단일 열: 데이터의 성격에 따른 다양한 차트 적용  \n",
    "* 3.3.2 복수 열: 두개의 열간 연관관계 분석(Pair Plot 또는 Seaborn의 관련 지원 차트등)"
   ]
  },
  {
   "cell_type": "markdown",
   "id": "1016da18-a38d-4677-942d-ff8e13f2dfad",
   "metadata": {},
   "source": [
    "#### 3.4 데이터 분석 결과도출"
   ]
  },
  {
   "cell_type": "markdown",
   "id": "d98ee251",
   "metadata": {},
   "source": [
    "# 데이터분석 적용 실습 템플릿"
   ]
  },
  {
   "cell_type": "markdown",
   "id": "0521bf67",
   "metadata": {},
   "source": [
    "## 데이터 수집"
   ]
  },
  {
   "cell_type": "code",
   "execution_count": 1,
   "id": "46c5eafe",
   "metadata": {},
   "outputs": [],
   "source": [
    "# 데이터 소스를 확보하세요\n"
   ]
  },
  {
   "cell_type": "markdown",
   "id": "c3b597f4",
   "metadata": {},
   "source": [
    "## 1. 초기데이터 분석"
   ]
  },
  {
   "cell_type": "markdown",
   "id": "0c3c91be",
   "metadata": {},
   "source": [
    "### 1-1. 데이터스키마 확인"
   ]
  },
  {
   "cell_type": "markdown",
   "id": "16b49047-50c3-4ff3-9417-edb92d59b2d4",
   "metadata": {},
   "source": [
    "#### 각 열의 의미, 데이터의 의미해석관련 스펙 또는 메뉴얼을 확인 가능시 진행 하세요\n",
    "* A열: A열의 의미를 기술\n",
    "* B열: B열의 의미를 기술  \n",
    "..."
   ]
  },
  {
   "cell_type": "markdown",
   "id": "913979f3",
   "metadata": {},
   "source": [
    "### 1-2. 데이터 기초정보 확인"
   ]
  },
  {
   "cell_type": "markdown",
   "id": "1e03acff-a002-4e37-be88-5d36d4706630",
   "metadata": {},
   "source": [
    "* 사이즈, 데이터형, 기초통계항목등을 확인하세요  "
   ]
  },
  {
   "cell_type": "code",
   "execution_count": null,
   "id": "4213881a-92fb-4064-af2a-25bc73e4299e",
   "metadata": {},
   "outputs": [],
   "source": [
    "#df.shape\n",
    "#df.info()"
   ]
  },
  {
   "cell_type": "markdown",
   "id": "8d2984b9-6715-49a2-8583-d9583b38b857",
   "metadata": {},
   "source": [
    "* 기초통계항목"
   ]
  },
  {
   "cell_type": "code",
   "execution_count": null,
   "id": "7f497c28-3191-4262-aae0-41402e8eaeef",
   "metadata": {},
   "outputs": [],
   "source": [
    "# df.desribe()"
   ]
  },
  {
   "cell_type": "markdown",
   "id": "c2e13829",
   "metadata": {},
   "source": [
    "## 2. 데이터 정제"
   ]
  },
  {
   "cell_type": "markdown",
   "id": "7eedb11e",
   "metadata": {},
   "source": [
    "### 2-1. 간단한 데이터 전처리"
   ]
  },
  {
   "cell_type": "code",
   "execution_count": 5,
   "id": "5fd51a76",
   "metadata": {},
   "outputs": [],
   "source": [
    "# 원본데이터로에서 읽기 가능한 형태로 데이터처리를 하세요. (열이름 변경, 형변환 등)"
   ]
  },
  {
   "cell_type": "markdown",
   "id": "cfa0f4f4",
   "metadata": {},
   "source": [
    "### 2-2. 데이터 클리닝"
   ]
  },
  {
   "cell_type": "code",
   "execution_count": 6,
   "id": "81050694",
   "metadata": {},
   "outputs": [],
   "source": [
    "# 결측치, 중복값, 이상치 처리등의 작업을 진행하세요"
   ]
  },
  {
   "cell_type": "markdown",
   "id": "94b01c03-879b-4b93-a375-5a88a7f3672a",
   "metadata": {},
   "source": [
    "* 결측치"
   ]
  },
  {
   "cell_type": "markdown",
   "id": "497a7431-81b3-42d2-84b5-0afde8e6c9c4",
   "metadata": {},
   "source": [
    "    - 결측치 열 확인"
   ]
  },
  {
   "cell_type": "code",
   "execution_count": null,
   "id": "b0a70dec-f81b-46d8-b58c-73f81ce17493",
   "metadata": {},
   "outputs": [],
   "source": [
    "# missing_values = df.isnull().any()  \n",
    "# column_missing_values = missing_values[ missing_values == True ]\n",
    "# column_missing_values"
   ]
  },
  {
   "cell_type": "raw",
   "id": "ab96e2e8-2ecc-462b-8055-915bff513d34",
   "metadata": {},
   "source": [
    "   - 결측값이 있는 모든 행 확인"
   ]
  },
  {
   "cell_type": "code",
   "execution_count": null,
   "id": "53aa6924-3c4f-4aad-91cf-2d09b459d59b",
   "metadata": {},
   "outputs": [],
   "source": [
    "# df.isnull().any(axis=1)"
   ]
  },
  {
   "cell_type": "markdown",
   "id": "b9cbf7a2-7aa7-4d87-86d8-b31476a77a01",
   "metadata": {},
   "source": [
    "* 결측치 보정"
   ]
  },
  {
   "cell_type": "raw",
   "id": "adbf1968-8d29-4baa-949e-d6394e19b81b",
   "metadata": {},
   "source": [
    "   - 열에 대하여 단일 값 보정     "
   ]
  },
  {
   "cell_type": "code",
   "execution_count": null,
   "id": "0e6c6935-a8a6-4df0-bed5-8da8fd160ec2",
   "metadata": {},
   "outputs": [],
   "source": [
    "# df['나이'] = df['나이'].fillna(0)"
   ]
  },
  {
   "cell_type": "raw",
   "id": "367abb36-a09d-4f12-be6d-cd0bc685f452",
   "metadata": {},
   "source": [
    "   - 데이터 프레임 전체에 단일 값 보정  "
   ]
  },
  {
   "cell_type": "code",
   "execution_count": 1,
   "id": "437088df-6ab9-474d-9b3f-503b9f8e2476",
   "metadata": {},
   "outputs": [],
   "source": [
    "# df = df.fillna(0)"
   ]
  },
  {
   "cell_type": "markdown",
   "id": "6cb87513-ac6b-49cd-98bd-6ff427c5d759",
   "metadata": {},
   "source": [
    "* 중복값 삭제 (필요시)"
   ]
  },
  {
   "cell_type": "raw",
   "id": "4e12f2c7-add7-47b8-a986-376fc1f2634e",
   "metadata": {},
   "source": [
    "  - 모든 중복 행데이터 확인"
   ]
  },
  {
   "cell_type": "code",
   "execution_count": null,
   "id": "eb5f565f-8fc8-434f-bb66-a9d1c75a7605",
   "metadata": {},
   "outputs": [],
   "source": [
    "# df[df.duplicated(keep=False)]"
   ]
  },
  {
   "cell_type": "raw",
   "id": "e847b33e-f13a-47bd-af55-111bf56442b2",
   "metadata": {},
   "source": [
    "  - 모든 중복 행데이터 삭제"
   ]
  },
  {
   "cell_type": "code",
   "execution_count": null,
   "id": "a352aa67-0634-483e-a41b-ba06c6cf51ab",
   "metadata": {},
   "outputs": [],
   "source": [
    "# df.drop_duplicates(inplace=True)"
   ]
  },
  {
   "cell_type": "markdown",
   "id": "9dac0879",
   "metadata": {},
   "source": [
    "## 3. 추가데이터 분석"
   ]
  },
  {
   "cell_type": "markdown",
   "id": "253f0cc0",
   "metadata": {},
   "source": [
    "### 3.1. 데이터 정제후 데이터스키마 재확인"
   ]
  },
  {
   "cell_type": "markdown",
   "id": "1812339b-9396-4195-833b-4be5a041d05d",
   "metadata": {},
   "source": [
    "* 1-2 작업을 다시 해보세요."
   ]
  },
  {
   "cell_type": "markdown",
   "id": "8a244e0a",
   "metadata": {},
   "source": [
    "### 3.2 데이터 기초정보 정보 확인"
   ]
  },
  {
   "cell_type": "markdown",
   "id": "3361d7b0-6b2c-493e-a6f8-20bcb153b912",
   "metadata": {},
   "source": [
    "* 최대값, 최소값, 평균값, 표준편차, 최빈값, 유일값, 결측치, 이상치 등의 정보를 재확인해 보세요"
   ]
  },
  {
   "cell_type": "markdown",
   "id": "e73d61a5",
   "metadata": {},
   "source": [
    "### 3.3 시각화를 통한 데이터이해 심화"
   ]
  },
  {
   "cell_type": "markdown",
   "id": "5de7dac1-31b5-4138-a9a6-33fbbde9caac",
   "metadata": {},
   "source": [
    "* 데이터의 성격에 따라 이해도를 올리기 위해 시각화가 필요한 데이터차트를 만들어 보세요.  \n",
    "  (Seaborn 추천: 페어플롯, 막대차트, 파이차트, 라인차트, 히스토그램등..)\n",
    "* 시각화한 차트에 대한 분석"
   ]
  },
  {
   "cell_type": "markdown",
   "id": "f4fa4f46-073f-4c62-b4ae-54ade39c5251",
   "metadata": {},
   "source": [
    "### 3.4 최종 데이터 분석 결과도출"
   ]
  },
  {
   "cell_type": "markdown",
   "id": "477f095f-e884-4326-af1f-ebea049c3546",
   "metadata": {},
   "source": [
    "* 데이터 분석을 통해 얻은 새로운 지식, 인사이트를 정리하세요.\n",
    "* 새로운 지식 및 인사이트 별 비지니스 전략을 도출할 수 있으면 정리해 보세요"
   ]
  }
 ],
 "metadata": {
  "kernelspec": {
   "display_name": "Python [conda env:base] *",
   "language": "python",
   "name": "conda-base-py"
  },
  "language_info": {
   "codemirror_mode": {
    "name": "ipython",
    "version": 3
   },
   "file_extension": ".py",
   "mimetype": "text/x-python",
   "name": "python",
   "nbconvert_exporter": "python",
   "pygments_lexer": "ipython3",
   "version": "3.13.5"
  }
 },
 "nbformat": 4,
 "nbformat_minor": 5
}
