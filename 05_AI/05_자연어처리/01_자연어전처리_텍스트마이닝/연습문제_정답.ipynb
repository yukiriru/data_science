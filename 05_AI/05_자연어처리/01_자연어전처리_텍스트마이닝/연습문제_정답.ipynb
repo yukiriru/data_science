{
 "cells": [
  {
   "cell_type": "code",
   "execution_count": 2,
   "id": "f8733842-30d9-42cb-b55e-f2c41027dcf3",
   "metadata": {},
   "outputs": [
    {
     "name": "stdout",
     "output_type": "stream",
     "text": [
      "['example@email.com', 'another@example.com']\n"
     ]
    }
   ],
   "source": [
    "import re\n",
    "\n",
    "text = \"이메일 주소는 example@email.com과 another@example.com입니다.\"\n",
    "emails = re.findall('[A-Za-z0-9._%+-]+@[A-Za-z0-9.-]+\\.[A-Z|a-z]{2,}', text)\n",
    "print(emails)"
   ]
  },
  {
   "cell_type": "code",
   "execution_count": 1,
   "id": "599618d5-68b9-44e7-b3d8-c68d94b23a6e",
   "metadata": {},
   "outputs": [
    {
     "name": "stdout",
     "output_type": "stream",
     "text": [
      "['010-1234-5678']\n"
     ]
    }
   ],
   "source": [
    "import re\n",
    "\n",
    "text = \"제 전화번호는 010-1234-5678입니다.\"\n",
    "phone_numbers = re.findall('\\d{3}-\\d{4}-\\d{4}', text)\n",
    "print(phone_numbers)"
   ]
  },
  {
   "cell_type": "code",
   "execution_count": 5,
   "id": "9a80f1f7-6d4c-4a8d-ae8b-9be32746a885",
   "metadata": {},
   "outputs": [
    {
     "name": "stdout",
     "output_type": "stream",
     "text": [
      "이것은 HTML 문서입니다.\n"
     ]
    }
   ],
   "source": [
    "import re\n",
    "\n",
    "html_text = \"<p>이것은 <strong>HTML</strong> 문서입니다.</p>\"\n",
    "clean_text = re.sub('<.*?>', '', html_text)\n",
    "print(clean_text)"
   ]
  },
  {
   "cell_type": "code",
   "execution_count": 7,
   "id": "a4dcabea-f12c-49e2-9693-13fd5d439aae",
   "metadata": {},
   "outputs": [
    {
     "name": "stdout",
     "output_type": "stream",
     "text": [
      "['http://www.example.com']\n"
     ]
    }
   ],
   "source": [
    "import re\n",
    "\n",
    "text = \"웹페이지 주소는 http://www.example.com입니다.\"\n",
    "urls = re.findall( r'http://[a-zA-Z0-9.]+', text)\n",
    "\n",
    "print(urls)"
   ]
  },
  {
   "cell_type": "code",
   "execution_count": 6,
   "id": "5a8a16ae-f530-4825-bfbb-3cd00530a639",
   "metadata": {},
   "outputs": [
    {
     "name": "stdout",
     "output_type": "stream",
     "text": [
      "['123', '456']\n"
     ]
    }
   ],
   "source": [
    "import re\n",
    "\n",
    "text = \"문장 속에는 숫자 123과 456이 있습니다.\"\n",
    "numbers = re.findall('\\d+', text)\n",
    "print(numbers)"
   ]
  }
 ],
 "metadata": {
  "kernelspec": {
   "display_name": "Python [conda env:base] *",
   "language": "python",
   "name": "conda-base-py"
  },
  "language_info": {
   "codemirror_mode": {
    "name": "ipython",
    "version": 3
   },
   "file_extension": ".py",
   "mimetype": "text/x-python",
   "name": "python",
   "nbconvert_exporter": "python",
   "pygments_lexer": "ipython3",
   "version": "3.13.5"
  }
 },
 "nbformat": 4,
 "nbformat_minor": 5
}
