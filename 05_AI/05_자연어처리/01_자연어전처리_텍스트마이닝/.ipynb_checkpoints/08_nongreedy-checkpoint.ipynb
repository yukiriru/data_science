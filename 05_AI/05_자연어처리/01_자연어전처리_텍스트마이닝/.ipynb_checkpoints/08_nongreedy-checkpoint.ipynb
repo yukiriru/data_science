{
 "cells": [
  {
   "cell_type": "markdown",
   "id": "39e10c4c",
   "metadata": {},
   "source": [
    "## Greedy vs Non-Greedy"
   ]
  },
  {
   "cell_type": "markdown",
   "id": "bd0e2ad0",
   "metadata": {},
   "source": [
    "### Greedy의 의미"
   ]
  },
  {
   "cell_type": "markdown",
   "id": "471e9c7f",
   "metadata": {},
   "source": [
    "### \\<html\\> 만 검색하려고 한다."
   ]
  },
  {
   "cell_type": "markdown",
   "id": "19dfadcf",
   "metadata": {},
   "source": [
    "### 안된다."
   ]
  },
  {
   "cell_type": "markdown",
   "id": "efa3bfcd",
   "metadata": {},
   "source": [
    "### non-greedy 문자인 ?를 사용하면 *의 탐욕을 제한할 수 있다."
   ]
  },
  {
   "cell_type": "markdown",
   "id": "35a16381",
   "metadata": {},
   "source": [
    "---"
   ]
  },
  {
   "cell_type": "markdown",
   "id": "8b80e0ec",
   "metadata": {},
   "source": [
    "---"
   ]
  },
  {
   "cell_type": "markdown",
   "id": "9fce5031",
   "metadata": {},
   "source": [
    "# 수고했습니다! 이제 정규식을 연습합시다!"
   ]
  },
  {
   "cell_type": "markdown",
   "id": "fb12a24e",
   "metadata": {},
   "source": [
    "https://regexone.com/"
   ]
  }
 ],
 "metadata": {
  "kernelspec": {
   "display_name": "Python 3 (ipykernel)",
   "language": "python",
   "name": "python3"
  },
  "language_info": {
   "codemirror_mode": {
    "name": "ipython",
    "version": 3
   },
   "file_extension": ".py",
   "mimetype": "text/x-python",
   "name": "python",
   "nbconvert_exporter": "python",
   "pygments_lexer": "ipython3",
   "version": "3.11.7"
  }
 },
 "nbformat": 4,
 "nbformat_minor": 5
}
