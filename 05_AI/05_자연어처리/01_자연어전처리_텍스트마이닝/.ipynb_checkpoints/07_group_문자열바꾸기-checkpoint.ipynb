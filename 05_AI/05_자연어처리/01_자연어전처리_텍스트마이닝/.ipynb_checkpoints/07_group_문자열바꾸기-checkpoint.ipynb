{
 "cells": [
  {
   "cell_type": "markdown",
   "id": "2703281f",
   "metadata": {},
   "source": [
    "## ()\n",
    "* 문자열 패턴의 반복을 지정\n",
    "* 그룹을 지정하면 문자열 전체에서 매칭되는 패턴을 그룹단위로 찾아준다."
   ]
  },
  {
   "cell_type": "markdown",
   "id": "d65c9b32",
   "metadata": {},
   "source": [
    "## 그루핑된 문자열에 이름 붙이기\n",
    "* (?P<그룹명>...)\n",
    "* 정규식안에 그룹이 많아 질 경우 구분하기 위한 식별자로 활용"
   ]
  },
  {
   "cell_type": "markdown",
   "id": "ae774814",
   "metadata": {},
   "source": [
    "---"
   ]
  },
  {
   "cell_type": "markdown",
   "id": "9287164b",
   "metadata": {},
   "source": [
    "## 문자열 바꾸기"
   ]
  },
  {
   "cell_type": "markdown",
   "id": "6528fd0e",
   "metadata": {},
   "source": [
    "### sub 메서드"
   ]
  },
  {
   "cell_type": "markdown",
   "id": "e2b71354",
   "metadata": {},
   "source": [
    "### subn 메서드"
   ]
  },
  {
   "cell_type": "markdown",
   "id": "9cf2d85a",
   "metadata": {},
   "source": [
    "### sub 메서드 사용시 참조 구문 사용하기"
   ]
  },
  {
   "cell_type": "markdown",
   "id": "15e717f3",
   "metadata": {},
   "source": [
    "### sub 메서드의 매개변수로 함수 넣기"
   ]
  },
  {
   "cell_type": "markdown",
   "id": "cb91f0b7",
   "metadata": {},
   "source": [
    "---"
   ]
  },
  {
   "cell_type": "markdown",
   "id": "8b80e0ec",
   "metadata": {},
   "source": [
    "---"
   ]
  }
 ],
 "metadata": {
  "kernelspec": {
   "display_name": "Python 3 (ipykernel)",
   "language": "python",
   "name": "python3"
  },
  "language_info": {
   "codemirror_mode": {
    "name": "ipython",
    "version": 3
   },
   "file_extension": ".py",
   "mimetype": "text/x-python",
   "name": "python",
   "nbconvert_exporter": "python",
   "pygments_lexer": "ipython3",
   "version": "3.11.7"
  }
 },
 "nbformat": 4,
 "nbformat_minor": 5
}
