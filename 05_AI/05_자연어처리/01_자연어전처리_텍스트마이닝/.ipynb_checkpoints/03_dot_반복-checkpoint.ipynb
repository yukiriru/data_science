{
 "cells": [
  {
   "cell_type": "markdown",
   "id": "9174cc3a-6e5f-4b32-af11-0e2de1632255",
   "metadata": {},
   "source": [
    "# Dot"
   ]
  },
  {
   "cell_type": "markdown",
   "id": "f241ec9d-acdf-4a2a-9792-8007b38c6be0",
   "metadata": {},
   "source": [
    "* 정규 표현식의 Dot(.) 메타 문자는 줄바꿈 문자인 \\n을 제외한 모든 문자와 매치"
   ]
  },
  {
   "cell_type": "markdown",
   "id": "5d2aa42e-3cf7-4593-8d11-e52cbc73ddf5",
   "metadata": {},
   "source": [
    "* 확인"
   ]
  },
  {
   "cell_type": "markdown",
   "id": "01472c34-a7bd-40a9-9466-0148e4c2cffc",
   "metadata": {},
   "source": [
    "* 일반 문자와 조합"
   ]
  },
  {
   "cell_type": "markdown",
   "id": "088eae9e-2cac-4f57-ae51-d98ca29f1352",
   "metadata": {},
   "source": [
    "---"
   ]
  },
  {
   "cell_type": "markdown",
   "id": "e3bcf1ce-203d-4c6d-bce0-d119917cc070",
   "metadata": {},
   "source": [
    "# 반복 (*)"
   ]
  },
  {
   "cell_type": "markdown",
   "id": "fd4debca-6c9b-476e-bdcb-209c1ad2dc57",
   "metadata": {},
   "source": [
    "* '*'는 바로 앞에 있는 문자가 0부터 무한대로 반복  \n",
    "  (무한대 이지만 메모리 제한으로 2억개 정도 가능)"
   ]
  },
  {
   "cell_type": "markdown",
   "id": "cb83463c-f540-44fd-9e38-5afec881dc55",
   "metadata": {},
   "source": [
    "---"
   ]
  },
  {
   "cell_type": "markdown",
   "id": "19ba4cad-ba47-47c7-a2c9-41614baea88e",
   "metadata": {},
   "source": [
    "# 반복 (+)"
   ]
  },
  {
   "cell_type": "markdown",
   "id": "44508566-80f0-414a-84bf-91de3138f54b",
   "metadata": {},
   "source": [
    "* '+'는 바로 앞에 있는 문자가 1부터 무한대로 반복"
   ]
  },
  {
   "cell_type": "markdown",
   "id": "a8b35ea0-d89d-4e93-b376-43b646a5c79f",
   "metadata": {},
   "source": [
    "---"
   ]
  },
  {
   "cell_type": "markdown",
   "id": "cdd2c975-247c-4b11-9cb4-68d4bab78deb",
   "metadata": {},
   "source": [
    "# 반복 {m,n}"
   ]
  },
  {
   "cell_type": "markdown",
   "id": "6cdf9416-e78a-4b39-a324-695786c7382b",
   "metadata": {},
   "source": [
    "* {m, n} 정규식을 사용하면 반복 횟수가 m부터 n까지 매치\n",
    "* m 또는 n을 생략할 수도 있다.\n",
    "* {3,}처럼 사용하면 반복 횟수가 3 이상인 경우이고 {,3}처럼 사용하면 반복 횟수가 3 이하를 의미\n",
    "* {3} 콤마 없이 단일 값을 입력하면 앞의 문자가 정확히 {}안의 숫자 만큼 반복되는 조건\n",
    "* {1,}은 +와 동일하고, {0,}은 *와 동일"
   ]
  },
  {
   "cell_type": "markdown",
   "id": "9acbb1a8-5f45-444e-a142-dddc4216190a",
   "metadata": {},
   "source": [
    "---"
   ]
  },
  {
   "cell_type": "markdown",
   "id": "29c49816-507d-4416-a1e9-38b8c444bc06",
   "metadata": {},
   "source": [
    "# 선택사항 ?"
   ]
  },
  {
   "cell_type": "markdown",
   "id": "d2cfe48c-00b3-4349-b9c0-10e0353913c4",
   "metadata": {},
   "source": [
    "* ? 메타문자가 의미하는 것은 {0, 1}"
   ]
  }
 ],
 "metadata": {
  "kernelspec": {
   "display_name": "Python 3 (ipykernel)",
   "language": "python",
   "name": "python3"
  },
  "language_info": {
   "codemirror_mode": {
    "name": "ipython",
    "version": 3
   },
   "file_extension": ".py",
   "mimetype": "text/x-python",
   "name": "python",
   "nbconvert_exporter": "python",
   "pygments_lexer": "ipython3",
   "version": "3.11.7"
  }
 },
 "nbformat": 4,
 "nbformat_minor": 5
}
