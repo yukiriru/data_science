{
 "cells": [
  {
   "cell_type": "markdown",
   "id": "c1c77b7b",
   "metadata": {},
   "source": [
    "## |\n",
    "* or의 의미로 사용"
   ]
  },
  {
   "cell_type": "markdown",
   "id": "33cc1c28",
   "metadata": {},
   "source": [
    "## ^\n",
    "* 문자열의 맨 처음과 일치\n",
    "* 컴파일 옵션 re.MULTILINE을 사용할 경우에는 여러 줄의 문자열일 때 각 줄의 처음과 일치"
   ]
  },
  {
   "cell_type": "markdown",
   "id": "881cf8fe",
   "metadata": {},
   "source": [
    "## \\\\A\n",
    "* 문자열의 처음과 매치됨을 의미한다. \n",
    "* ^ 메타 문자와 동일한 의미이지만 re.MULTILINE 옵션을 사용할 경우에는 다르게 해석된다.\n",
    "* re.MULTILINE 옵션을 사용할 경우 ^은 각 줄의 문자열의 처음과 매치되지만 \\A는 줄과 상관없이 전체 문자열의 처음하고만 매치"
   ]
  },
  {
   "cell_type": "markdown",
   "id": "58f92a31",
   "metadata": {},
   "source": [
    "## $\n",
    "* 문자열의 끝과 매칭"
   ]
  },
  {
   "cell_type": "markdown",
   "id": "1bdbf1fe",
   "metadata": {},
   "source": [
    "## \\Z\n",
    "* 문자열의 끝과 매치됨을 의미한다. \n",
    "* 이것 역시 \\A와 동일하게 re.MULTILINE 옵션을 사용할 경우 $ 메타 문자와는 달리 전체 문자열의 끝과 매치"
   ]
  }
 ],
 "metadata": {
  "kernelspec": {
   "display_name": "Python 3 (ipykernel)",
   "language": "python",
   "name": "python3"
  },
  "language_info": {
   "codemirror_mode": {
    "name": "ipython",
    "version": 3
   },
   "file_extension": ".py",
   "mimetype": "text/x-python",
   "name": "python",
   "nbconvert_exporter": "python",
   "pygments_lexer": "ipython3",
   "version": "3.11.7"
  }
 },
 "nbformat": 4,
 "nbformat_minor": 5
}
