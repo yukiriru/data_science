{
 "cells": [
  {
   "cell_type": "markdown",
   "id": "60739d23-837d-41e9-8933-ae171440a0f2",
   "metadata": {},
   "source": [
    "* 이메일 주소 추출하기"
   ]
  },
  {
   "cell_type": "markdown",
   "id": "839c1802-097d-46ef-b62f-9aa42f209958",
   "metadata": {},
   "source": [
    "* 전화번호 추출하기"
   ]
  },
  {
   "cell_type": "markdown",
   "id": "e745b004-694e-42d6-9e90-d5b24f736830",
   "metadata": {},
   "source": [
    "* HTML 태그 제거하기"
   ]
  },
  {
   "cell_type": "markdown",
   "id": "3dda8f11-b221-4462-9d19-41b4b1aae4bb",
   "metadata": {},
   "source": [
    "* URL 추출하기"
   ]
  },
  {
   "cell_type": "markdown",
   "id": "af9e3c36-eb8b-454a-8543-7b2009ab7c49",
   "metadata": {},
   "source": [
    "* 숫자 추출하기"
   ]
  }
 ],
 "metadata": {
  "kernelspec": {
   "display_name": "Python 3 (ipykernel)",
   "language": "python",
   "name": "python3"
  },
  "language_info": {
   "codemirror_mode": {
    "name": "ipython",
    "version": 3
   },
   "file_extension": ".py",
   "mimetype": "text/x-python",
   "name": "python",
   "nbconvert_exporter": "python",
   "pygments_lexer": "ipython3",
   "version": "3.11.7"
  }
 },
 "nbformat": 4,
 "nbformat_minor": 5
}
