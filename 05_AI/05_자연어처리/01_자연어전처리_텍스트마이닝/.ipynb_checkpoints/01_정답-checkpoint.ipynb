{
 "cells": [
  {
   "cell_type": "markdown",
   "id": "aca09c2e",
   "metadata": {},
   "source": [
    "# 왜 정규식을 해야 하는가?"
   ]
  },
  {
   "cell_type": "markdown",
   "id": "ee8e4c51",
   "metadata": {},
   "source": [
    "## 비 정규식 풀이"
   ]
  },
  {
   "cell_type": "raw",
   "id": "ebcfed22",
   "metadata": {},
   "source": [
    "문제] 아래 문자열에서 주민등록번호 뒤 7자리를 ******* 로 변경 할 것\n",
    "park 800905-1049118\n",
    "kim 700905-1059119\n",
    "\n",
    "예) \n",
    "park 800905-*******\n",
    "kim 700905-*******\n",
    "\n",
    "제한시간 5분"
   ]
  },
  {
   "cell_type": "code",
   "execution_count": 4,
   "id": "f41274d6",
   "metadata": {},
   "outputs": [],
   "source": [
    "data=\"\"\"\n",
    "park 800905-1049118\n",
    "kim 700905-1059119\n",
    "\"\"\""
   ]
  },
  {
   "cell_type": "code",
   "execution_count": 5,
   "id": "5fafbaec",
   "metadata": {},
   "outputs": [
    {
     "name": "stdout",
     "output_type": "stream",
     "text": [
      "\n",
      "park 800905-*******\n",
      "kim 700905-*******\n",
      "\n"
     ]
    }
   ],
   "source": [
    "result = []\n",
    "for line in data.split(\"\\n\"):\n",
    "    word_result = []\n",
    "\n",
    "    for word in line.split(\" \"):\n",
    "        if len(word) == 14 and word[:6].isdigit() and word[7:].isdigit():\n",
    "            word = word[:6]+\"-\"+\"*******\"\n",
    "        word_result.append(word)\n",
    "\n",
    "    result.append(\" \".join(word_result))\n",
    "\n",
    "print(\"\\n\".join(result))"
   ]
  },
  {
   "cell_type": "markdown",
   "id": "2a00604d",
   "metadata": {},
   "source": [
    "## 정규식 풀이"
   ]
  },
  {
   "cell_type": "code",
   "execution_count": 2,
   "id": "67763ba3",
   "metadata": {},
   "outputs": [],
   "source": [
    "import re"
   ]
  },
  {
   "cell_type": "markdown",
   "id": "ac8df2a6",
   "metadata": {},
   "source": [
    "### 간결한 풀이 방식을 확인만 하고 넘어가자!"
   ]
  },
  {
   "cell_type": "code",
   "execution_count": 9,
   "id": "1707e35a",
   "metadata": {},
   "outputs": [
    {
     "name": "stdout",
     "output_type": "stream",
     "text": [
      "\n",
      "park 800905-*******\n",
      "kim 700905-*******\n",
      "\n"
     ]
    }
   ],
   "source": [
    "pat = re.compile(\"(\\d{6})[-]\\d{7}\")\n",
    "print(pat.sub(\"\\g<1>-*******\",data))"
   ]
  },
  {
   "cell_type": "markdown",
   "id": "b75bbd19",
   "metadata": {},
   "source": [
    "---"
   ]
  }
 ],
 "metadata": {
  "kernelspec": {
   "display_name": "Python 3 (ipykernel)",
   "language": "python",
   "name": "python3"
  },
  "language_info": {
   "codemirror_mode": {
    "name": "ipython",
    "version": 3
   },
   "file_extension": ".py",
   "mimetype": "text/x-python",
   "name": "python",
   "nbconvert_exporter": "python",
   "pygments_lexer": "ipython3",
   "version": "3.11.7"
  }
 },
 "nbformat": 4,
 "nbformat_minor": 5
}
