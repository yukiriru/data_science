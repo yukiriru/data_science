{
 "cells": [
  {
   "cell_type": "markdown",
   "id": "d319a334",
   "metadata": {},
   "source": [
    "## 정규식을 컴파일 할 때 다음 옵션을 사용할 수 있다.\n",
    "* DOTALL(S) - . 이 줄바꿈 문자를 포함하여 모든 문자와 매치할 수 있도록 한다.\n",
    "* IGNORECASE(I) - 대소문자에 관계없이 매치할 수 있도록 한다.\n",
    "* MULTILINE(M) - 여러줄과 매치할 수 있도록 한다. (^, $ 메타문자의 사용과 관계가 있는 옵션이다)\n",
    "* VERBOSE(X) - verbose 모드를 사용할 수 있도록 한다. (정규식을 보기 편하게 만들수 있고 주석등을 사용할 수 있게된다.)"
   ]
  },
  {
   "cell_type": "markdown",
   "id": "62b84470",
   "metadata": {},
   "source": [
    "### DOTALL, S"
   ]
  },
  {
   "cell_type": "markdown",
   "id": "b16c56f1",
   "metadata": {},
   "source": [
    "### IGNORECASE, I\n",
    "* re.IGNORECASE 또는 re.I 옵션은 대소문자 구별 없이 매치를 수행할 때 사용하는 옵션"
   ]
  },
  {
   "cell_type": "markdown",
   "id": "9aa07df1",
   "metadata": {},
   "source": [
    "### MULTILINE, M"
   ]
  },
  {
   "cell_type": "raw",
   "id": "415d33a8",
   "metadata": {},
   "source": [
    "후에 설명할 메타 문자인 ^, $와 연관된 옵션이다.   \n",
    "^는 문자열의 처음을 의미하고, $는 문자열의 마지막을 의미한다.   \n",
    "예를 들어 정규식이 ^python인 경우 문자열의 처음은 항상 python으로 시작해야 매치되고,\n",
    "만약 정규식이 python$이라면 문자열의 마지막은 항상 python으로 끝나야 매치된다는 의미이다."
   ]
  },
  {
   "cell_type": "markdown",
   "id": "3f9e67e6",
   "metadata": {},
   "source": [
    "## VERBOSE, X\n",
    "* 한 줄로 표현하는 정규식을 여러줄로 표현 할 수 있다."
   ]
  },
  {
   "cell_type": "markdown",
   "id": "75f8dfb6-afbe-4023-9935-9d8934700e0c",
   "metadata": {},
   "source": [
    "* 아래에서 컴파일 옵션을 지정하지 않으면 여러줄의 정규식을 쓰면 에러발생"
   ]
  }
 ],
 "metadata": {
  "kernelspec": {
   "display_name": "Python 3 (ipykernel)",
   "language": "python",
   "name": "python3"
  },
  "language_info": {
   "codemirror_mode": {
    "name": "ipython",
    "version": 3
   },
   "file_extension": ".py",
   "mimetype": "text/x-python",
   "name": "python",
   "nbconvert_exporter": "python",
   "pygments_lexer": "ipython3",
   "version": "3.11.7"
  }
 },
 "nbformat": 4,
 "nbformat_minor": 5
}
