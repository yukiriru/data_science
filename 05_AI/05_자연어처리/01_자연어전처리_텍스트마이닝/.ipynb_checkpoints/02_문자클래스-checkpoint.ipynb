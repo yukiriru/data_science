{
 "cells": [
  {
   "cell_type": "markdown",
   "id": "1659552b-be6c-47d0-82be-329eb138cdcc",
   "metadata": {},
   "source": [
    "# 파이썬에서 정규식을 적용하는 방식"
   ]
  },
  {
   "cell_type": "markdown",
   "id": "1dfdf6fa-bdf8-4570-b346-2e4381a974b5",
   "metadata": {},
   "source": [
    "# 문자클래스"
   ]
  },
  {
   "cell_type": "markdown",
   "id": "8a145c3e-7b22-4102-8487-2c5220bc52d9",
   "metadata": {},
   "source": [
    "* 문자 클래스로 만들어진 정규식은 \"[ ] 사이의 문자중에 한 개 매치\"라는 의미\n",
    "* 정규 표현식이 [abc]라면 이 표현식의 의미는 \"a, b, c 중 한 개의 문자와 매치\"\n",
    "* [] 문자 클래스는 하나의 문자와 매치가 된다."
   ]
  },
  {
   "cell_type": "markdown",
   "id": "ee50f710-aa32-49e2-b655-d96e6a413326",
   "metadata": {},
   "source": [
    "* 두개의 문자열 클래스 조합"
   ]
  },
  {
   "cell_type": "markdown",
   "id": "e0344173-fdbb-4530-81fe-dc7b6f3994c1",
   "metadata": {},
   "source": [
    "# 문자클래스와 일반 문자 조합"
   ]
  },
  {
   "cell_type": "markdown",
   "id": "c2faafd8-1b91-408e-a13e-c347dfaf7854",
   "metadata": {},
   "source": [
    "# 하이픈"
   ]
  },
  {
   "cell_type": "raw",
   "id": "b7a4b023-2d1a-48b7-bfb2-cc11c6473484",
   "metadata": {},
   "source": [
    "[ ] 안의 두 문자 사이에 하이픈(-)을 사용하면 두 문자 사이의 범위(From - To)를 의미\n",
    "예를 들어 [a-c]라는 정규 표현식은 [abc]와 동일하고 [0-5]는 [012345]와 동일"
   ]
  },
  {
   "cell_type": "markdown",
   "id": "2873cea1-aa87-460c-ba26-371dcab4986f",
   "metadata": {},
   "source": [
    "# ^ 연산"
   ]
  },
  {
   "cell_type": "markdown",
   "id": "8e01918a-a00d-457c-a1a8-5a1d5b181e14",
   "metadata": {},
   "source": [
    "* 문자 클래스 안에 ^ 메타 문자를 사용할 경우에는 반대(not)라는 의미"
   ]
  },
  {
   "cell_type": "markdown",
   "id": "8f7d3439-d36d-4894-a8ab-41aee4d2685d",
   "metadata": {},
   "source": [
    "# 자주 사용하는 문자 클래스 표현식"
   ]
  },
  {
   "cell_type": "markdown",
   "id": "edc94679-870a-4b1c-8ed0-48a12602cef1",
   "metadata": {},
   "source": [
    "* \\d - 숫자와 매치, [0-9]와 동일한 표현식이다.\n",
    "* \\D - 숫자가 아닌 것과 매치, [^0-9]와 동일한 표현식이다.\n",
    "* \\s - whitespace 문자와 매치, [ \\t\\n\\r\\f\\v]와 동일한 표현식이다. 맨 앞의 빈 칸은 공백문자(space)를 의미한다.\n",
    "* \\S - whitespace 문자가 아닌 것과 매치, [^ \\t\\n\\r\\f\\v]와 동일한 표현식이다.\n",
    "* \\w - 문자+숫자(alphanumeric)와 매치, [a-zA-Z0-9_]와 동일한 표현식이다.\n",
    "* \\W - 문자+숫자(alphanumeric)가 아닌 문자와 매치, [^a-zA-Z0-9_]와 동일한 표현식이다."
   ]
  },
  {
   "cell_type": "markdown",
   "id": "7a8cb198-6034-457a-9ee6-21e14cb494d2",
   "metadata": {},
   "source": [
    "* \\d"
   ]
  },
  {
   "cell_type": "markdown",
   "id": "5148e778-3b05-44ad-b2cb-fc36c7abee66",
   "metadata": {},
   "source": [
    "* \\D"
   ]
  },
  {
   "cell_type": "markdown",
   "id": "c7a05247-7d7a-48e0-837b-f5b0bee9c73a",
   "metadata": {},
   "source": [
    "* \\s"
   ]
  },
  {
   "cell_type": "markdown",
   "id": "a93651cc-91a9-4028-aeab-f4da47c85e55",
   "metadata": {},
   "source": [
    "* \\S"
   ]
  },
  {
   "cell_type": "markdown",
   "id": "9df36d34-af5c-433b-b11f-d6eaf57484c0",
   "metadata": {},
   "source": [
    "* \\w"
   ]
  },
  {
   "cell_type": "markdown",
   "id": "37c766b7-b5dd-435d-8f59-60e3e2ed97ad",
   "metadata": {},
   "source": [
    "* \\W"
   ]
  }
 ],
 "metadata": {
  "kernelspec": {
   "display_name": "Python [conda env:base] *",
   "language": "python",
   "name": "conda-base-py"
  },
  "language_info": {
   "codemirror_mode": {
    "name": "ipython",
    "version": 3
   },
   "file_extension": ".py",
   "mimetype": "text/x-python",
   "name": "python",
   "nbconvert_exporter": "python",
   "pygments_lexer": "ipython3",
   "version": "3.13.5"
  }
 },
 "nbformat": 4,
 "nbformat_minor": 5
}
