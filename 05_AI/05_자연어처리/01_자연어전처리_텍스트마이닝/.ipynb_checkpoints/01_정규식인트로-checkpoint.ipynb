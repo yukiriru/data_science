{
 "cells": [
  {
   "cell_type": "markdown",
   "id": "07504a6f",
   "metadata": {},
   "source": [
    "# 왜 정규식을 해야 하는가?"
   ]
  },
  {
   "cell_type": "raw",
   "id": "880e986f",
   "metadata": {},
   "source": [
    "문제] 아래 문자열에서 주민등록번호 뒤 7자리를 ******* 로 변경 할 것\n",
    "park 800905-1049118\n",
    "kim 700905-1059119\n",
    "\n",
    "예) \n",
    "park 800905-*******\n",
    "kim 700905-*******\n",
    "\n",
    "제한시간 5분"
   ]
  },
  {
   "cell_type": "code",
   "execution_count": null,
   "id": "b3725ac7",
   "metadata": {},
   "outputs": [],
   "source": []
  }
 ],
 "metadata": {
  "kernelspec": {
   "display_name": "Python [conda env:base] *",
   "language": "python",
   "name": "conda-base-py"
  },
  "language_info": {
   "codemirror_mode": {
    "name": "ipython",
    "version": 3
   },
   "file_extension": ".py",
   "mimetype": "text/x-python",
   "name": "python",
   "nbconvert_exporter": "python",
   "pygments_lexer": "ipython3",
   "version": "3.13.5"
  }
 },
 "nbformat": 4,
 "nbformat_minor": 5
}
