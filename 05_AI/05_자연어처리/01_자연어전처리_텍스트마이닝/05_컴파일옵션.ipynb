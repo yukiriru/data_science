{
 "cells": [
  {
   "cell_type": "markdown",
   "id": "d319a334",
   "metadata": {},
   "source": [
    "## 정규식을 컴파일 할 때 다음 옵션을 사용할 수 있다.\n",
    "* DOTALL(S) - . 이 줄바꿈 문자를 포함하여 모든 문자와 매치할 수 있도록 한다.\n",
    "* IGNORECASE(I) - 대소문자에 관계없이 매치할 수 있도록 한다.\n",
    "* MULTILINE(M) - 여러줄과 매치할 수 있도록 한다. (^, $ 메타문자의 사용과 관계가 있는 옵션이다)\n",
    "* VERBOSE(X) - verbose 모드를 사용할 수 있도록 한다. (정규식을 보기 편하게 만들수 있고 주석등을 사용할 수 있게된다.)"
   ]
  },
  {
   "cell_type": "code",
   "execution_count": 1,
   "id": "501f27d4-463f-49f1-ae15-f4c34bf6c8e6",
   "metadata": {},
   "outputs": [],
   "source": [
    "import re"
   ]
  },
  {
   "cell_type": "markdown",
   "id": "62b84470",
   "metadata": {},
   "source": [
    "### DOTALL, S"
   ]
  },
  {
   "cell_type": "code",
   "execution_count": 2,
   "id": "0365ea7d-f96d-4c27-9d0d-8aad3df1c1ef",
   "metadata": {},
   "outputs": [
    {
     "name": "stdout",
     "output_type": "stream",
     "text": [
      "None\n"
     ]
    }
   ],
   "source": [
    "original_text=\"\"\"a\n",
    "b\"\"\"\n",
    "# original_text=\"a\\nb\"\n",
    "p=re.compile(\"a.b\") # 정규식 '.'는 원문에 \\n에 대해서 기본 옵션으로 사용하면 패턴 매칭이\n",
    "                     # 일어나지 않는다.\n",
    "m = p.match(original_text)\n",
    "print(m)"
   ]
  },
  {
   "cell_type": "code",
   "execution_count": 3,
   "id": "a7e7c7fe-0c3e-4bc1-8794-9866e2d762d7",
   "metadata": {},
   "outputs": [
    {
     "name": "stdout",
     "output_type": "stream",
     "text": [
      "<re.Match object; span=(0, 3), match='a\\nb'>\n"
     ]
    }
   ],
   "source": [
    "p=re.compile(\"a\\nb\")# 참고) 정규식에 '\\n'을 사용한 경우는 기본 옵션을 사용해도 패턴 매칭\n",
    "                     # 을 할 수 있다.\n",
    "m = p.match(original_text)\n",
    "print(m)"
   ]
  },
  {
   "cell_type": "code",
   "execution_count": 4,
   "id": "ae99fecd-491b-42c7-9345-ea8dc2395f9e",
   "metadata": {},
   "outputs": [
    {
     "data": {
      "text/plain": [
       "<re.Match object; span=(0, 3), match='a\\nb'>"
      ]
     },
     "execution_count": 4,
     "metadata": {},
     "output_type": "execute_result"
    }
   ],
   "source": [
    "p=re.compile(\"a.b\", re.DOTALL)\n",
    "p.match(original_text)"
   ]
  },
  {
   "cell_type": "code",
   "execution_count": 5,
   "id": "a7bc378d-6672-4da8-9ac3-57426a8f1b92",
   "metadata": {},
   "outputs": [
    {
     "data": {
      "text/plain": [
       "<re.Match object; span=(0, 3), match='a\\nb'>"
      ]
     },
     "execution_count": 5,
     "metadata": {},
     "output_type": "execute_result"
    }
   ],
   "source": [
    "p=re.compile(\"a.b\", re.S)\n",
    "p.match(original_text)"
   ]
  },
  {
   "cell_type": "markdown",
   "id": "b16c56f1",
   "metadata": {},
   "source": [
    "### IGNORECASE, I\n",
    "* re.IGNORECASE 또는 re.I 옵션은 대소문자 구별 없이 매치를 수행할 때 사용하는 옵션"
   ]
  },
  {
   "cell_type": "code",
   "execution_count": 6,
   "id": "2d255d68-af09-47dc-89c5-099f07cd29f6",
   "metadata": {},
   "outputs": [
    {
     "name": "stdout",
     "output_type": "stream",
     "text": [
      "<re.Match object; span=(0, 6), match='python'>\n",
      "None\n",
      "None\n"
     ]
    }
   ],
   "source": [
    "p = re.compile('[a-z]+')\n",
    "print(p.match('python'))\n",
    "print(p.match('Python'))\n",
    "print(p.match('PYTHON'))"
   ]
  },
  {
   "cell_type": "code",
   "execution_count": 7,
   "id": "9625ae32-ec34-4ef7-ac7b-c9dfea32a049",
   "metadata": {},
   "outputs": [
    {
     "name": "stdout",
     "output_type": "stream",
     "text": [
      "<re.Match object; span=(0, 6), match='python'>\n",
      "<re.Match object; span=(0, 6), match='Python'>\n",
      "<re.Match object; span=(0, 6), match='PYTHON'>\n"
     ]
    }
   ],
   "source": [
    "p = re.compile('[a-z]+', re.IGNORECASE)\n",
    "print(p.match('python'))\n",
    "print(p.match('Python'))\n",
    "print(p.match('PYTHON'))"
   ]
  },
  {
   "cell_type": "markdown",
   "id": "9aa07df1",
   "metadata": {},
   "source": [
    "### MULTILINE, M"
   ]
  },
  {
   "cell_type": "raw",
   "id": "415d33a8",
   "metadata": {},
   "source": [
    "후에 설명할 메타 문자인 ^, $와 연관된 옵션이다.   \n",
    "^는 문자열의 처음을 의미하고, $는 문자열의 마지막을 의미한다.   \n",
    "예를 들어 정규식이 ^python인 경우 문자열의 처음은 항상 python으로 시작해야 매치되고,\n",
    "만약 정규식이 python$이라면 문자열의 마지막은 항상 python으로 끝나야 매치된다는 의미이다."
   ]
  },
  {
   "cell_type": "code",
   "execution_count": 23,
   "id": "1178866f-6929-4f60-a11a-b83040956de8",
   "metadata": {},
   "outputs": [],
   "source": [
    "multiline_str=\"\"\"ID001,이순신,90,84,39\n",
    ",강감찬,90,84,39\n",
    "ID003,유관,90,84,39\n",
    "ID0004,유관순,90,84,39\n",
    "\"\"\""
   ]
  },
  {
   "cell_type": "code",
   "execution_count": 25,
   "id": "1a656aa0-3962-40a7-8516-dea831d69dc4",
   "metadata": {},
   "outputs": [
    {
     "data": {
      "text/plain": [
       "['ID001,이순신,90,84,39', 'ID003,유관,90,84,39']"
      ]
     },
     "execution_count": 25,
     "metadata": {},
     "output_type": "execute_result"
    }
   ],
   "source": [
    "# 유효한 ID가 있는 행만 추출\n",
    "# 유효한 ID조건\n",
    "# 1.ID로 시작\n",
    "# 2.ID다음에 숫자3개\n",
    "# 3. 그 이후 데이터는 제약사항 없음\n",
    "p = re.compile('^ID[0-9]{3,3},.+', re.MULTILINE) \n",
    "p.findall(multiline_str)"
   ]
  },
  {
   "cell_type": "code",
   "execution_count": 26,
   "id": "b4d9d36e-b9d2-4f30-939a-9efbed8467eb",
   "metadata": {},
   "outputs": [
    {
     "data": {
      "text/plain": [
       "['ID001,이순신,90,84,39']"
      ]
     },
     "execution_count": 26,
     "metadata": {},
     "output_type": "execute_result"
    }
   ],
   "source": [
    "# 유효한 ID가 있는 행만 추출\n",
    "# 유효한 ID조건\n",
    "# 1.ID로 시작\n",
    "# 2.ID다음에 숫자3개\n",
    "# 3. 그 이후 데이터는 제약사항 없음\n",
    "# 제약조건 추가: 이름열의 이름은 한글 3글자\n",
    "p = re.compile('^ID[0-9]{3,3},[가-힣]{3,3},.+', re.MULTILINE) \n",
    "p.findall(multiline_str)"
   ]
  },
  {
   "cell_type": "markdown",
   "id": "3f9e67e6",
   "metadata": {},
   "source": [
    "## VERBOSE, X\n",
    "* 한 줄로 표현하는 정규식을 여러줄로 표현 할 수 있다."
   ]
  },
  {
   "cell_type": "code",
   "execution_count": 8,
   "id": "d1082eb1-277e-465b-989d-07fa1816a255",
   "metadata": {},
   "outputs": [],
   "source": [
    "charref = re.compile(r'&[#](0[0-7]+|[0-9]+|x[0-9a-fA-F]+);')"
   ]
  },
  {
   "cell_type": "markdown",
   "id": "75f8dfb6-afbe-4023-9935-9d8934700e0c",
   "metadata": {},
   "source": [
    "* 아래에서 컴파일 옵션을 지정하지 않으면 여러줄의 정규식을 쓰면 에러발생"
   ]
  },
  {
   "cell_type": "code",
   "execution_count": 9,
   "id": "4ac17475-7506-4b65-9024-eb9b5c138808",
   "metadata": {},
   "outputs": [
    {
     "ename": "SyntaxError",
     "evalue": "unterminated string literal (detected at line 1) (3720079345.py, line 1)",
     "output_type": "error",
     "traceback": [
      "\u001b[1;36m  Cell \u001b[1;32mIn[9], line 1\u001b[1;36m\u001b[0m\n\u001b[1;33m    charref = re.compile(r'&[#](0[0-7]+\u001b[0m\n\u001b[1;37m                         ^\u001b[0m\n\u001b[1;31mSyntaxError\u001b[0m\u001b[1;31m:\u001b[0m unterminated string literal (detected at line 1)\n"
     ]
    }
   ],
   "source": [
    "charref = re.compile(r'&[#](0[0-7]+\n",
    "|[0-9]+|x[0-9a-fA-F]+);')"
   ]
  },
  {
   "cell_type": "code",
   "execution_count": 10,
   "id": "9f23e88b-2841-4e4d-9608-c7d88e6c49b6",
   "metadata": {},
   "outputs": [],
   "source": [
    "charref = re.compile(r\"\"\"\n",
    " &[#]                # Start of a numeric entity reference\n",
    " (\n",
    "     0[0-7]+         # Octal form\n",
    "   | [0-9]+          # Decimal form\n",
    "   | x[0-9a-fA-F]+   # Hexadecimal form\n",
    " )\n",
    " ;                   # Trailing semicolon\n",
    "\"\"\", re.VERBOSE) # 줄바꿈 이후의 공백문자는 컴파일시 제거된다."
   ]
  }
 ],
 "metadata": {
  "kernelspec": {
   "display_name": "Python [conda env:base] *",
   "language": "python",
   "name": "conda-base-py"
  },
  "language_info": {
   "codemirror_mode": {
    "name": "ipython",
    "version": 3
   },
   "file_extension": ".py",
   "mimetype": "text/x-python",
   "name": "python",
   "nbconvert_exporter": "python",
   "pygments_lexer": "ipython3",
   "version": "3.13.5"
  }
 },
 "nbformat": 4,
 "nbformat_minor": 5
}
