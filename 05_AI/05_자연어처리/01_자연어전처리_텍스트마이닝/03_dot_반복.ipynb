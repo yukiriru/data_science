{
 "cells": [
  {
   "cell_type": "markdown",
   "id": "9174cc3a-6e5f-4b32-af11-0e2de1632255",
   "metadata": {},
   "source": [
    "# Dot"
   ]
  },
  {
   "cell_type": "markdown",
   "id": "f241ec9d-acdf-4a2a-9792-8007b38c6be0",
   "metadata": {},
   "source": [
    "* 정규 표현식의 Dot(.) 메타 문자는 줄바꿈 문자인 \\n을 제외한 모든 문자와 매치"
   ]
  },
  {
   "cell_type": "markdown",
   "id": "5d2aa42e-3cf7-4593-8d11-e52cbc73ddf5",
   "metadata": {},
   "source": [
    "* 확인"
   ]
  },
  {
   "cell_type": "code",
   "execution_count": 1,
   "id": "de0d9738-42c1-4fc5-871c-72cd58dd0808",
   "metadata": {},
   "outputs": [],
   "source": [
    "import re"
   ]
  },
  {
   "cell_type": "code",
   "execution_count": 2,
   "id": "66de10f1-a085-49e2-aa8e-446cba50dc33",
   "metadata": {},
   "outputs": [],
   "source": [
    "p = re.compile('.')"
   ]
  },
  {
   "cell_type": "raw",
   "id": "bc822bd1-efd2-4cb2-b68f-db13af9e52e8",
   "metadata": {},
   "source": [
    "알파벳"
   ]
  },
  {
   "cell_type": "code",
   "execution_count": 3,
   "id": "57a90da8-4c51-4673-96a6-be134eee08ab",
   "metadata": {},
   "outputs": [
    {
     "data": {
      "text/plain": [
       "<re.Match object; span=(0, 1), match='a'>"
      ]
     },
     "execution_count": 3,
     "metadata": {},
     "output_type": "execute_result"
    }
   ],
   "source": [
    "p.match('a')"
   ]
  },
  {
   "cell_type": "code",
   "execution_count": 4,
   "id": "9c03c0bb-0965-4515-81e9-7e52f836d51b",
   "metadata": {},
   "outputs": [
    {
     "data": {
      "text/plain": [
       "<re.Match object; span=(0, 1), match='K'>"
      ]
     },
     "execution_count": 4,
     "metadata": {},
     "output_type": "execute_result"
    }
   ],
   "source": [
    "p.match('K')"
   ]
  },
  {
   "cell_type": "raw",
   "id": "038da462-fd69-44e1-bda0-aaaa29164925",
   "metadata": {},
   "source": [
    "숫자"
   ]
  },
  {
   "cell_type": "code",
   "execution_count": 5,
   "id": "114e99c9-acba-451b-917d-da9279aabcd2",
   "metadata": {},
   "outputs": [
    {
     "data": {
      "text/plain": [
       "<re.Match object; span=(0, 1), match='4'>"
      ]
     },
     "execution_count": 5,
     "metadata": {},
     "output_type": "execute_result"
    }
   ],
   "source": [
    "p.match('4')"
   ]
  },
  {
   "cell_type": "raw",
   "id": "3ed7baa2-53ad-4c35-ac0b-c07aff2c7ee7",
   "metadata": {},
   "source": [
    "기타"
   ]
  },
  {
   "cell_type": "code",
   "execution_count": 6,
   "id": "bf30df3f-67e2-49f4-bcce-bc76055939e6",
   "metadata": {},
   "outputs": [
    {
     "data": {
      "text/plain": [
       "<re.Match object; span=(0, 1), match='!'>"
      ]
     },
     "execution_count": 6,
     "metadata": {},
     "output_type": "execute_result"
    }
   ],
   "source": [
    "p.match('!')"
   ]
  },
  {
   "cell_type": "markdown",
   "id": "01472c34-a7bd-40a9-9466-0148e4c2cffc",
   "metadata": {},
   "source": [
    "* 일반 문자와 조합"
   ]
  },
  {
   "cell_type": "code",
   "execution_count": 7,
   "id": "1c23685b-2848-47e3-a150-37ee33f8824f",
   "metadata": {},
   "outputs": [
    {
     "data": {
      "text/plain": [
       "<re.Match object; span=(0, 3), match='aab'>"
      ]
     },
     "execution_count": 7,
     "metadata": {},
     "output_type": "execute_result"
    }
   ],
   "source": [
    "p = re.compile('a.b')\n",
    "p.match('aab')"
   ]
  },
  {
   "cell_type": "code",
   "execution_count": 8,
   "id": "9121629d-ca4d-44ad-84c1-bc05f1d69920",
   "metadata": {},
   "outputs": [
    {
     "data": {
      "text/plain": [
       "<re.Match object; span=(0, 3), match='aab'>"
      ]
     },
     "execution_count": 8,
     "metadata": {},
     "output_type": "execute_result"
    }
   ],
   "source": [
    "p.match('aabc')"
   ]
  },
  {
   "cell_type": "code",
   "execution_count": 9,
   "id": "bec23433-3bd4-4db6-a65b-beaf06cc962d",
   "metadata": {},
   "outputs": [
    {
     "data": {
      "text/plain": [
       "<re.Match object; span=(0, 3), match='a@b'>"
      ]
     },
     "execution_count": 9,
     "metadata": {},
     "output_type": "execute_result"
    }
   ],
   "source": [
    "p.match('a@bc')"
   ]
  },
  {
   "cell_type": "markdown",
   "id": "fdee5259-c83c-4a20-b33f-99cd70bc3304",
   "metadata": {},
   "source": [
    "* 비교 (문자열 클래스에서 .)\n",
    "    * [.] => 문자열 클래스에서 . 은 문자 '.'을 의미함"
   ]
  },
  {
   "cell_type": "code",
   "execution_count": 11,
   "id": "31b7d003-be58-4d6f-b4c3-c44e88e89d73",
   "metadata": {},
   "outputs": [],
   "source": [
    "p = re.compile('a[.]txt') # 첫글자가 a이고 두번째 글자가 . 이고 나머지 글자가 txt"
   ]
  },
  {
   "cell_type": "code",
   "execution_count": 12,
   "id": "a34d6c95-4714-430a-9f39-7cae18430499",
   "metadata": {},
   "outputs": [
    {
     "data": {
      "text/plain": [
       "<re.Match object; span=(0, 5), match='a.txt'>"
      ]
     },
     "execution_count": 12,
     "metadata": {},
     "output_type": "execute_result"
    }
   ],
   "source": [
    "p.match('a.txt')"
   ]
  },
  {
   "cell_type": "code",
   "execution_count": 13,
   "id": "aaadbcb3-5536-477a-9607-0f5d03cdf4b8",
   "metadata": {},
   "outputs": [],
   "source": [
    "p.match('a@txt')"
   ]
  },
  {
   "cell_type": "code",
   "execution_count": 14,
   "id": "73021eb5-2c0f-407d-8ceb-589509b1a202",
   "metadata": {},
   "outputs": [],
   "source": [
    "p = re.compile('a....[.]txt') #첫글자가 a이고 2번째에서 5번째까지는 아무문자 6번째는 . 나머지글자는 txt"
   ]
  },
  {
   "cell_type": "code",
   "execution_count": 15,
   "id": "d898a3c5-7003-483f-965b-eecd6a7cb4ac",
   "metadata": {},
   "outputs": [],
   "source": [
    "p.match('ache.txt')"
   ]
  },
  {
   "cell_type": "code",
   "execution_count": 16,
   "id": "793179e6-6edc-47b0-9729-6e71162571c8",
   "metadata": {},
   "outputs": [
    {
     "data": {
      "text/plain": [
       "<re.Match object; span=(0, 9), match='apple.txt'>"
      ]
     },
     "execution_count": 16,
     "metadata": {},
     "output_type": "execute_result"
    }
   ],
   "source": [
    "p.match('apple.txt')"
   ]
  },
  {
   "cell_type": "code",
   "execution_count": 17,
   "id": "13493194-92e8-4029-9645-54725ad451dc",
   "metadata": {},
   "outputs": [],
   "source": [
    "p.match('apple.doc') # . 다음에 d가 와서 매치가 안됨"
   ]
  },
  {
   "cell_type": "markdown",
   "id": "3ae56eb1-c142-423b-8423-7d1e2b821e77",
   "metadata": {},
   "source": [
    "* 3자리 모든 확장자(txt, doc, xls, bin ...)와 매치가 되도록 바꾸려면?"
   ]
  },
  {
   "cell_type": "code",
   "execution_count": 18,
   "id": "109e3ef0-164c-4630-ad2a-f7f4267e5225",
   "metadata": {},
   "outputs": [],
   "source": [
    "p = re.compile('a....[.]...')"
   ]
  },
  {
   "cell_type": "code",
   "execution_count": 19,
   "id": "25c6b450-2f0c-4a7f-ae14-d4d437f6901e",
   "metadata": {},
   "outputs": [
    {
     "data": {
      "text/plain": [
       "<re.Match object; span=(0, 9), match='apple.doc'>"
      ]
     },
     "execution_count": 19,
     "metadata": {},
     "output_type": "execute_result"
    }
   ],
   "source": [
    "p.match('apple.doc')"
   ]
  },
  {
   "cell_type": "code",
   "execution_count": 20,
   "id": "4d813926-b826-4e34-b732-ec3c0236a61e",
   "metadata": {},
   "outputs": [
    {
     "data": {
      "text/plain": [
       "<re.Match object; span=(0, 9), match='apple.bin'>"
      ]
     },
     "execution_count": 20,
     "metadata": {},
     "output_type": "execute_result"
    }
   ],
   "source": [
    "p.match('apple.bin')"
   ]
  },
  {
   "cell_type": "code",
   "execution_count": 21,
   "id": "2fe342e9-8f24-46e3-ba92-0d97b1735cde",
   "metadata": {},
   "outputs": [
    {
     "data": {
      "text/plain": [
       "<re.Match object; span=(0, 9), match='apple.txt'>"
      ]
     },
     "execution_count": 21,
     "metadata": {},
     "output_type": "execute_result"
    }
   ],
   "source": [
    "p.match('apple.txt')"
   ]
  },
  {
   "cell_type": "markdown",
   "id": "1736b0aa-06a9-411e-bc91-23bd486fd27b",
   "metadata": {},
   "source": [
    "* 아래 정규식의 의미는?"
   ]
  },
  {
   "cell_type": "code",
   "execution_count": 22,
   "id": "a97c38ae-c659-41f5-8bcd-f4670239c92f",
   "metadata": {},
   "outputs": [],
   "source": [
    "p = re.compile('...[.]...') # 파일이름이 3글자이고 확장자가 3글자까지 매칭 (반복횟수 제한은 추후 문법에서 다룸)"
   ]
  },
  {
   "cell_type": "code",
   "execution_count": 23,
   "id": "16634b1a-d45f-4298-aaf0-8427fd7c926a",
   "metadata": {},
   "outputs": [],
   "source": [
    "p.match('apple.txt') # 파일이름이 3글자가 아니어서 매치가 안됨"
   ]
  },
  {
   "cell_type": "code",
   "execution_count": 24,
   "id": "8d5a049a-7d51-4bcd-a784-816970a8ac60",
   "metadata": {},
   "outputs": [
    {
     "data": {
      "text/plain": [
       "<re.Match object; span=(0, 7), match='car.txt'>"
      ]
     },
     "execution_count": 24,
     "metadata": {},
     "output_type": "execute_result"
    }
   ],
   "source": [
    "p.match('car.txt')"
   ]
  },
  {
   "cell_type": "code",
   "execution_count": 25,
   "id": "cb29d1c1-8544-4c1c-83ac-2b54ac8f68b0",
   "metadata": {},
   "outputs": [
    {
     "data": {
      "text/plain": [
       "<re.Match object; span=(0, 7), match='car.xls'>"
      ]
     },
     "execution_count": 25,
     "metadata": {},
     "output_type": "execute_result"
    }
   ],
   "source": [
    "p.match('car.xlsx')"
   ]
  },
  {
   "cell_type": "code",
   "execution_count": 26,
   "id": "6d582068-e6b7-4b51-8ef3-e967aa606a99",
   "metadata": {},
   "outputs": [],
   "source": [
    "p = re.compile('...-....-....') # 핸드폰 전화번호 추출 정규식"
   ]
  },
  {
   "cell_type": "code",
   "execution_count": 27,
   "id": "0dab150f-f698-445f-8423-3ffeac57b603",
   "metadata": {},
   "outputs": [
    {
     "data": {
      "text/plain": [
       "<re.Match object; span=(0, 13), match='010-1234-4758'>"
      ]
     },
     "execution_count": 27,
     "metadata": {},
     "output_type": "execute_result"
    }
   ],
   "source": [
    "p.match('010-1234-4758')"
   ]
  },
  {
   "cell_type": "code",
   "execution_count": 28,
   "id": "c94f031e-9f64-4e3c-acf3-e619cb287626",
   "metadata": {},
   "outputs": [],
   "source": [
    "p.match('0110-1234-4758')"
   ]
  },
  {
   "cell_type": "markdown",
   "id": "088eae9e-2cac-4f57-ae51-d98ca29f1352",
   "metadata": {},
   "source": [
    "---"
   ]
  },
  {
   "cell_type": "markdown",
   "id": "e3bcf1ce-203d-4c6d-bce0-d119917cc070",
   "metadata": {},
   "source": [
    "# 반복 (*)"
   ]
  },
  {
   "cell_type": "markdown",
   "id": "fd4debca-6c9b-476e-bdcb-209c1ad2dc57",
   "metadata": {},
   "source": [
    "* '*'는 바로 앞에 있는 문자가 0부터 무한대로 반복  \n",
    "  (무한대 이지만 메모리 제한으로 2억개 정도 가능)"
   ]
  },
  {
   "cell_type": "code",
   "execution_count": 29,
   "id": "bd432c9b-036d-4a1c-aa4e-6fea3f736a22",
   "metadata": {},
   "outputs": [
    {
     "data": {
      "text/plain": [
       "<re.Match object; span=(0, 6), match='google'>"
      ]
     },
     "execution_count": 29,
     "metadata": {},
     "output_type": "execute_result"
    }
   ],
   "source": [
    "p = re.compile('google')\n",
    "p.match('google')"
   ]
  },
  {
   "cell_type": "code",
   "execution_count": 30,
   "id": "38cee73d-652c-4025-bb8d-b490b00a922d",
   "metadata": {},
   "outputs": [
    {
     "data": {
      "text/plain": [
       "<re.Match object; span=(0, 6), match='google'>"
      ]
     },
     "execution_count": 30,
     "metadata": {},
     "output_type": "execute_result"
    }
   ],
   "source": [
    "p = re.compile('go*gle') # o가 0회~무한대 반복\n",
    "p.match('google')"
   ]
  },
  {
   "cell_type": "code",
   "execution_count": 31,
   "id": "247c1ddb-2284-43bd-b0f5-b8f2b18f2b12",
   "metadata": {},
   "outputs": [
    {
     "data": {
      "text/plain": [
       "<re.Match object; span=(0, 17), match='gooooooooooooogle'>"
      ]
     },
     "execution_count": 31,
     "metadata": {},
     "output_type": "execute_result"
    }
   ],
   "source": [
    "p.match('gooooooooooooogle')"
   ]
  },
  {
   "cell_type": "markdown",
   "id": "a4291a1c-0c03-46d8-9d4c-664ffe897110",
   "metadata": {},
   "source": [
    "* 제약 사항\n",
    "    * 반복되는 횟수가 반드시 필요하다면 아래 케이스는 오동작 가능성이 있음"
   ]
  },
  {
   "cell_type": "code",
   "execution_count": 32,
   "id": "9f04aa33-0034-419e-b952-e78aa2527139",
   "metadata": {},
   "outputs": [
    {
     "data": {
      "text/plain": [
       "<re.Match object; span=(0, 5), match='gogle'>"
      ]
     },
     "execution_count": 32,
     "metadata": {},
     "output_type": "execute_result"
    }
   ],
   "source": [
    "p.match('gogle')"
   ]
  },
  {
   "cell_type": "code",
   "execution_count": 33,
   "id": "7264e172-ab55-497e-af6d-9f32ad31ca5b",
   "metadata": {},
   "outputs": [
    {
     "data": {
      "text/plain": [
       "<re.Match object; span=(0, 4), match='ggle'>"
      ]
     },
     "execution_count": 33,
     "metadata": {},
     "output_type": "execute_result"
    }
   ],
   "source": [
    "p.match('ggle') # 0회 반복 허용이기 때문에 매칭"
   ]
  },
  {
   "cell_type": "markdown",
   "id": "cb83463c-f540-44fd-9e38-5afec881dc55",
   "metadata": {},
   "source": [
    "---"
   ]
  },
  {
   "cell_type": "markdown",
   "id": "19ba4cad-ba47-47c7-a2c9-41614baea88e",
   "metadata": {},
   "source": [
    "# 반복 (+)"
   ]
  },
  {
   "cell_type": "markdown",
   "id": "44508566-80f0-414a-84bf-91de3138f54b",
   "metadata": {},
   "source": [
    "* '+'는 바로 앞에 있는 문자가 1부터 무한대로 반복"
   ]
  },
  {
   "cell_type": "code",
   "execution_count": 34,
   "id": "e1f01cb7-e103-4cf3-871f-866ae51088e5",
   "metadata": {},
   "outputs": [
    {
     "data": {
      "text/plain": [
       "<re.Match object; span=(0, 6), match='google'>"
      ]
     },
     "execution_count": 34,
     "metadata": {},
     "output_type": "execute_result"
    }
   ],
   "source": [
    "p = re.compile('go+gle') # o가 1회~무한대 반복\n",
    "p.match('google')"
   ]
  },
  {
   "cell_type": "code",
   "execution_count": 35,
   "id": "131eceb7-7204-470c-b041-5c78c82b90b4",
   "metadata": {},
   "outputs": [
    {
     "data": {
      "text/plain": [
       "<re.Match object; span=(0, 17), match='gooooooooooooogle'>"
      ]
     },
     "execution_count": 35,
     "metadata": {},
     "output_type": "execute_result"
    }
   ],
   "source": [
    "p.match('gooooooooooooogle')"
   ]
  },
  {
   "cell_type": "markdown",
   "id": "79fb5fa4-a57d-4e64-9962-08f81e55f585",
   "metadata": {},
   "source": [
    "* 제약 사항\n",
    "    * 반복되는 횟수가 반드시 필요하다면 아래 케이스는 오동작 가능성이 있음"
   ]
  },
  {
   "cell_type": "code",
   "execution_count": 36,
   "id": "8c91acff-a38a-4943-9cbc-f30dce245ae4",
   "metadata": {},
   "outputs": [
    {
     "data": {
      "text/plain": [
       "<re.Match object; span=(0, 5), match='gogle'>"
      ]
     },
     "execution_count": 36,
     "metadata": {},
     "output_type": "execute_result"
    }
   ],
   "source": [
    "p.match('gogle')"
   ]
  },
  {
   "cell_type": "code",
   "execution_count": 37,
   "id": "375d1d0f-d9fb-4e8b-991d-e10898ea4661",
   "metadata": {},
   "outputs": [],
   "source": [
    "p.match('ggle') # 1회 반복 허용이기 때문에 매칭이 안됨"
   ]
  },
  {
   "cell_type": "markdown",
   "id": "a8b35ea0-d89d-4e93-b376-43b646a5c79f",
   "metadata": {},
   "source": [
    "---"
   ]
  },
  {
   "cell_type": "markdown",
   "id": "cdd2c975-247c-4b11-9cb4-68d4bab78deb",
   "metadata": {},
   "source": [
    "# 반복 {m,n}"
   ]
  },
  {
   "cell_type": "markdown",
   "id": "6cdf9416-e78a-4b39-a324-695786c7382b",
   "metadata": {},
   "source": [
    "* {m, n} 정규식을 사용하면 반복 횟수가 m부터 n까지 매치\n",
    "* m 또는 n을 생략할 수도 있다.\n",
    "* {3,}처럼 사용하면 반복 횟수가 3 이상인 경우이고 {,3}처럼 사용하면 반복 횟수가 3 이하를 의미\n",
    "* {3} 콤마 없이 단일 값을 입력하면 앞의 문자가 정확히 {}안의 숫자 만큼 반복되는 조건\n",
    "* {1,}은 +와 동일하고, {0,}은 *와 동일"
   ]
  },
  {
   "cell_type": "code",
   "execution_count": 38,
   "id": "afa44b19-f887-4c83-a8c0-4833f2160db8",
   "metadata": {},
   "outputs": [
    {
     "data": {
      "text/plain": [
       "<re.Match object; span=(0, 6), match='google'>"
      ]
     },
     "execution_count": 38,
     "metadata": {},
     "output_type": "execute_result"
    }
   ],
   "source": [
    "p = re.compile('go{1,2}gle') #o가 최소 1번 최대 2번 반복\n",
    "p.match('google')"
   ]
  },
  {
   "cell_type": "code",
   "execution_count": 39,
   "id": "f4c38c8f-d387-4d73-8cb0-f5ad734fe6a7",
   "metadata": {},
   "outputs": [
    {
     "data": {
      "text/plain": [
       "<re.Match object; span=(0, 5), match='gogle'>"
      ]
     },
     "execution_count": 39,
     "metadata": {},
     "output_type": "execute_result"
    }
   ],
   "source": [
    "p.match('gogle')"
   ]
  },
  {
   "cell_type": "code",
   "execution_count": 40,
   "id": "c54aa79d-7a69-47e1-abd6-c35e3e80ca44",
   "metadata": {},
   "outputs": [],
   "source": [
    "p.match('goooogle')"
   ]
  },
  {
   "cell_type": "markdown",
   "id": "d16e48ac-ad7b-45b5-b989-82d30e7fa766",
   "metadata": {},
   "source": [
    "* o를 최소 2번 반복하고 최대 10 반복을 허용하려면?"
   ]
  },
  {
   "cell_type": "code",
   "execution_count": 41,
   "id": "037d49d7-9b0d-4624-9e4b-6891e6ba5279",
   "metadata": {},
   "outputs": [],
   "source": [
    "p = re.compile('go{2,10}gle')"
   ]
  },
  {
   "cell_type": "code",
   "execution_count": 42,
   "id": "ec8b7dc9-02eb-455c-8241-e9d99be8920d",
   "metadata": {},
   "outputs": [
    {
     "data": {
      "text/plain": [
       "<re.Match object; span=(0, 8), match='goooogle'>"
      ]
     },
     "execution_count": 42,
     "metadata": {},
     "output_type": "execute_result"
    }
   ],
   "source": [
    "p.match('goooogle')"
   ]
  },
  {
   "cell_type": "code",
   "execution_count": 43,
   "id": "b8924cfb-b8ab-4843-b9e5-567783dbbcb6",
   "metadata": {},
   "outputs": [],
   "source": [
    "p.match('gooooooooooooooogle')"
   ]
  },
  {
   "cell_type": "markdown",
   "id": "17545619-9c87-4cef-8fa4-828bf7af31bd",
   "metadata": {},
   "source": [
    "* o를 최소 2번 반복하고 최대 무한대 반복을 허용하려면?"
   ]
  },
  {
   "cell_type": "code",
   "execution_count": 44,
   "id": "04526070-7e78-4c11-a6b0-0067ab447e92",
   "metadata": {},
   "outputs": [],
   "source": [
    "p = re.compile('go{2,}gle') # 최대조건을 생략하면 무제한으로 매치된다."
   ]
  },
  {
   "cell_type": "code",
   "execution_count": 45,
   "id": "167dbe2a-7f4d-4b40-be7f-c84cc6458e93",
   "metadata": {},
   "outputs": [
    {
     "data": {
      "text/plain": [
       "<re.Match object; span=(0, 19), match='gooooooooooooooogle'>"
      ]
     },
     "execution_count": 45,
     "metadata": {},
     "output_type": "execute_result"
    }
   ],
   "source": [
    "p.match('gooooooooooooooogle')"
   ]
  },
  {
   "cell_type": "markdown",
   "id": "9acbb1a8-5f45-444e-a142-dddc4216190a",
   "metadata": {},
   "source": [
    "---"
   ]
  },
  {
   "cell_type": "markdown",
   "id": "29c49816-507d-4416-a1e9-38b8c444bc06",
   "metadata": {},
   "source": [
    "# 선택사항 ?"
   ]
  },
  {
   "cell_type": "markdown",
   "id": "d2cfe48c-00b3-4349-b9c0-10e0353913c4",
   "metadata": {},
   "source": [
    "* 문자뒤에 ?가 오게 되면 해당 문자가 포함 또는 불포함을 의미함\n",
    "* ? 메타문자가 의미하는 것은 {0, 1}"
   ]
  },
  {
   "cell_type": "code",
   "execution_count": 46,
   "id": "fd1ff91b-ce6a-4f51-8834-9b1a4e9ae55f",
   "metadata": {},
   "outputs": [
    {
     "name": "stdout",
     "output_type": "stream",
     "text": [
      "<re.Match object; span=(0, 2), match='ac'>\n",
      "<re.Match object; span=(0, 3), match='abc'>\n",
      "None\n",
      "None\n",
      "<re.Match object; span=(0, 3), match='abc'>\n"
     ]
    }
   ],
   "source": [
    "p=re.compile('ab?c')\n",
    "m = p.match('ac')\n",
    "print(m)\n",
    "m = p.match('abc')\n",
    "print(m)\n",
    "m = p.match('abbc') # b가 매치가 되었다면 다음 순서는 c가 와야 하므로 매치 않됨\n",
    "print(m)\n",
    "m = p.match('abbbc') # b가 매치가 되었다면 다음 순서는 c가 와야 하므로 매치 않됨\n",
    "print(m)\n",
    "m = p.match('abcd') # 문자열중 정규식에 일치하는 abc만 매치\n",
    "print(m)"
   ]
  }
 ],
 "metadata": {
  "kernelspec": {
   "display_name": "Python [conda env:base] *",
   "language": "python",
   "name": "conda-base-py"
  },
  "language_info": {
   "codemirror_mode": {
    "name": "ipython",
    "version": 3
   },
   "file_extension": ".py",
   "mimetype": "text/x-python",
   "name": "python",
   "nbconvert_exporter": "python",
   "pygments_lexer": "ipython3",
   "version": "3.13.5"
  }
 },
 "nbformat": 4,
 "nbformat_minor": 5
}
