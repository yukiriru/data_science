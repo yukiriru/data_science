{
 "cells": [
  {
   "cell_type": "markdown",
   "id": "39e10c4c",
   "metadata": {},
   "source": [
    "## Greedy vs Non-Greedy"
   ]
  },
  {
   "cell_type": "code",
   "execution_count": 1,
   "id": "469f4b32-ba69-48d0-b7d2-b904e9f85890",
   "metadata": {},
   "outputs": [],
   "source": [
    "import  re"
   ]
  },
  {
   "cell_type": "markdown",
   "id": "bd0e2ad0",
   "metadata": {},
   "source": [
    "### Greedy의 의미"
   ]
  },
  {
   "cell_type": "code",
   "execution_count": null,
   "id": "7caffa92-cf19-421e-a3ab-d085c70eca5b",
   "metadata": {},
   "outputs": [],
   "source": []
  },
  {
   "cell_type": "code",
   "execution_count": null,
   "id": "2d6d9dfe-c740-4234-8a63-860db75192c2",
   "metadata": {},
   "outputs": [],
   "source": []
  },
  {
   "cell_type": "markdown",
   "id": "471e9c7f",
   "metadata": {},
   "source": [
    "### \\<html\\> 만 검색하려고 한다."
   ]
  },
  {
   "cell_type": "markdown",
   "id": "19dfadcf",
   "metadata": {},
   "source": [
    "### 안된다."
   ]
  },
  {
   "cell_type": "markdown",
   "id": "efa3bfcd",
   "metadata": {},
   "source": [
    "### non-greedy 문자인 ?를 사용하면 *의 탐욕을 제한할 수 있다."
   ]
  },
  {
   "cell_type": "code",
   "execution_count": 2,
   "id": "6af2f80a-e058-4ae2-adf9-feb10fbaf9fb",
   "metadata": {},
   "outputs": [
    {
     "ename": "NameError",
     "evalue": "name 's' is not defined",
     "output_type": "error",
     "traceback": [
      "\u001b[1;31m---------------------------------------------------------------------------\u001b[0m",
      "\u001b[1;31mNameError\u001b[0m                                 Traceback (most recent call last)",
      "Cell \u001b[1;32mIn[2], line 1\u001b[0m\n\u001b[1;32m----> 1\u001b[0m re\u001b[38;5;241m.\u001b[39mmatch(\u001b[38;5;124m\"\u001b[39m\u001b[38;5;124m<.*?>\u001b[39m\u001b[38;5;124m\"\u001b[39m,s)\n",
      "\u001b[1;31mNameError\u001b[0m: name 's' is not defined"
     ]
    }
   ],
   "source": [
    "re.match(\"<.*?>\",s)"
   ]
  },
  {
   "cell_type": "markdown",
   "id": "35a16381",
   "metadata": {},
   "source": [
    "---"
   ]
  },
  {
   "cell_type": "markdown",
   "id": "8b80e0ec",
   "metadata": {},
   "source": [
    "---"
   ]
  },
  {
   "cell_type": "markdown",
   "id": "9fce5031",
   "metadata": {},
   "source": [
    "# 수고했습니다! 이제 정규식을 연습합시다!"
   ]
  },
  {
   "cell_type": "markdown",
   "id": "fb12a24e",
   "metadata": {},
   "source": [
    "https://regexone.com/"
   ]
  }
 ],
 "metadata": {
  "kernelspec": {
   "display_name": "Python [conda env:base] *",
   "language": "python",
   "name": "conda-base-py"
  },
  "language_info": {
   "codemirror_mode": {
    "name": "ipython",
    "version": 3
   },
   "file_extension": ".py",
   "mimetype": "text/x-python",
   "name": "python",
   "nbconvert_exporter": "python",
   "pygments_lexer": "ipython3",
   "version": "3.13.5"
  }
 },
 "nbformat": 4,
 "nbformat_minor": 5
}
