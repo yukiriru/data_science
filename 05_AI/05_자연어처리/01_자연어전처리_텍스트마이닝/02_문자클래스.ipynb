{
 "cells": [
  {
   "cell_type": "markdown",
   "id": "1659552b-be6c-47d0-82be-329eb138cdcc",
   "metadata": {},
   "source": [
    "# 파이썬에서 정규식을 적용하는 방식"
   ]
  },
  {
   "cell_type": "code",
   "execution_count": 2,
   "id": "d96ec1cf-5b7a-42d4-b749-af1f23b0ec23",
   "metadata": {},
   "outputs": [],
   "source": [
    "import re"
   ]
  },
  {
   "cell_type": "markdown",
   "id": "c67edeab-c0a3-4da6-942c-9a4b6ef8054e",
   "metadata": {},
   "source": [
    "* 정규식 정의\n",
    "  * re.compile(정규식)"
   ]
  },
  {
   "cell_type": "code",
   "execution_count": 3,
   "id": "b5a4afe8-64e6-4226-a17a-026eb085d2d7",
   "metadata": {},
   "outputs": [],
   "source": [
    "pattern = re.compile('abc')"
   ]
  },
  {
   "cell_type": "markdown",
   "id": "503817a0-e797-47c7-a6a9-ec813e499de6",
   "metadata": {},
   "source": [
    "* 정규식 매칭\n",
    "  * match(원본문자열)\n",
    "  * 일치 여부를 Match 오브젝트로 반환\n",
    "    * match: 일치된 값\n",
    "    * span: 일치된 값의 인덱스"
   ]
  },
  {
   "cell_type": "code",
   "execution_count": 4,
   "id": "57a50379-7191-45bd-b838-a13c387625d9",
   "metadata": {},
   "outputs": [
    {
     "data": {
      "text/plain": [
       "<re.Match object; span=(0, 3), match='abc'>"
      ]
     },
     "execution_count": 4,
     "metadata": {},
     "output_type": "execute_result"
    }
   ],
   "source": [
    "pattern.match('abc')"
   ]
  },
  {
   "cell_type": "code",
   "execution_count": 5,
   "id": "fb0299d7-aa19-4546-a2fd-6ee7876022b5",
   "metadata": {},
   "outputs": [
    {
     "data": {
      "text/plain": [
       "re.Match"
      ]
     },
     "execution_count": 5,
     "metadata": {},
     "output_type": "execute_result"
    }
   ],
   "source": [
    "result = pattern.match('abc')\n",
    "type(result)"
   ]
  },
  {
   "cell_type": "markdown",
   "id": "66fab7e1-03e4-46c1-a610-e683570a5bc3",
   "metadata": {},
   "source": [
    "* 일치가 되지 않는 경우\n",
    "  * 주피터 노트북인 경우에는 아무것도 출력되지 않는다.\n",
    "  * pring 할 경우 None이 출력된다."
   ]
  },
  {
   "cell_type": "code",
   "execution_count": 6,
   "id": "e8577e58-3109-4225-ab0b-dadabf327ab6",
   "metadata": {},
   "outputs": [],
   "source": [
    "pattern.match('ab')"
   ]
  },
  {
   "cell_type": "code",
   "execution_count": 7,
   "id": "d5e7b20f-834b-456c-b06e-a575bd00cdad",
   "metadata": {},
   "outputs": [
    {
     "name": "stdout",
     "output_type": "stream",
     "text": [
      "None\n"
     ]
    }
   ],
   "source": [
    "print(pattern.match('ab'))"
   ]
  },
  {
   "cell_type": "markdown",
   "id": "1dfdf6fa-bdf8-4570-b346-2e4381a974b5",
   "metadata": {},
   "source": [
    "# 문자클래스"
   ]
  },
  {
   "cell_type": "markdown",
   "id": "8a145c3e-7b22-4102-8487-2c5220bc52d9",
   "metadata": {},
   "source": [
    "* 문자 클래스로 만들어진 정규식은 \"[ ] 사이의 문자중에 한 개 매치\"라는 의미\n",
    "* 정규 표현식이 [abc]라면 이 표현식의 의미는 \"a, b, c 중 한 개의 문자와 매치\"\n",
    "* [] 문자 클래스는 하나의 문자와 매치가 된다."
   ]
  },
  {
   "cell_type": "code",
   "execution_count": 8,
   "id": "9620ea12-157e-473f-99c4-3121d3d097a2",
   "metadata": {},
   "outputs": [
    {
     "data": {
      "text/plain": [
       "<re.Match object; span=(0, 1), match='a'>"
      ]
     },
     "execution_count": 8,
     "metadata": {},
     "output_type": "execute_result"
    }
   ],
   "source": [
    "p = re.compile('[abc]')\n",
    "p.match('a')"
   ]
  },
  {
   "cell_type": "code",
   "execution_count": 9,
   "id": "a40721f4-e5b9-4dae-9a6e-bd6fc6aa276f",
   "metadata": {},
   "outputs": [],
   "source": [
    "p.match('da')"
   ]
  },
  {
   "cell_type": "code",
   "execution_count": 10,
   "id": "52bdc134-c196-40e3-93fd-e252c8954a0e",
   "metadata": {},
   "outputs": [
    {
     "data": {
      "text/plain": [
       "<re.Match object; span=(0, 2), match='da'>"
      ]
     },
     "execution_count": 10,
     "metadata": {},
     "output_type": "execute_result"
    }
   ],
   "source": [
    "p = re.compile('d[abc]')\n",
    "p.match('da')"
   ]
  },
  {
   "cell_type": "code",
   "execution_count": 11,
   "id": "4f457ec8-0716-421d-8c81-f37c1c5ab52b",
   "metadata": {},
   "outputs": [
    {
     "data": {
      "text/plain": [
       "<re.Match object; span=(0, 2), match='dc'>"
      ]
     },
     "execution_count": 11,
     "metadata": {},
     "output_type": "execute_result"
    }
   ],
   "source": [
    "p = re.compile('d[abc]')\n",
    "p.match('dc')"
   ]
  },
  {
   "cell_type": "code",
   "execution_count": 12,
   "id": "f4392484-b988-43da-96ca-776c043648fe",
   "metadata": {},
   "outputs": [],
   "source": [
    "p = re.compile('d[abc]')\n",
    "p.match('dd')"
   ]
  },
  {
   "cell_type": "markdown",
   "id": "46faac42-7154-43ac-9641-b4937f7e0db3",
   "metadata": {},
   "source": [
    "* 매치 여부는 정규식이 원문에 적용되었는지만 판단한다."
   ]
  },
  {
   "cell_type": "code",
   "execution_count": 13,
   "id": "b280f568-d09b-4c4d-acfa-8512df3a57ea",
   "metadata": {},
   "outputs": [
    {
     "data": {
      "text/plain": [
       "<re.Match object; span=(0, 2), match='db'>"
      ]
     },
     "execution_count": 13,
     "metadata": {},
     "output_type": "execute_result"
    }
   ],
   "source": [
    "p = re.compile('d[abc]')\n",
    "p.match('db!')"
   ]
  },
  {
   "cell_type": "markdown",
   "id": "ee50f710-aa32-49e2-b655-d96e6a413326",
   "metadata": {},
   "source": [
    "* 두개의 문자열 클래스 조합"
   ]
  },
  {
   "cell_type": "code",
   "execution_count": 14,
   "id": "5c53de93-7196-4b47-88b8-b5a47b2c34fd",
   "metadata": {},
   "outputs": [],
   "source": [
    "p = re.compile('[abc][abc]')\n",
    "p.match('da!!')"
   ]
  },
  {
   "cell_type": "code",
   "execution_count": 15,
   "id": "9036fe5f-226c-4165-bb7a-06a4ead3c57e",
   "metadata": {},
   "outputs": [
    {
     "data": {
      "text/plain": [
       "<re.Match object; span=(0, 2), match='ca'>"
      ]
     },
     "execution_count": 15,
     "metadata": {},
     "output_type": "execute_result"
    }
   ],
   "source": [
    "p = re.compile('[abc][abc]')\n",
    "p.match('car')"
   ]
  },
  {
   "cell_type": "markdown",
   "id": "e0344173-fdbb-4530-81fe-dc7b6f3994c1",
   "metadata": {},
   "source": [
    "# 문자클래스와 일반 문자 조합"
   ]
  },
  {
   "cell_type": "code",
   "execution_count": 16,
   "id": "0ae91deb-a0c6-4e50-be5a-9abd9454baf8",
   "metadata": {},
   "outputs": [],
   "source": [
    "p = re.compile('p') # 첫 그라가 p인가?\n",
    "p.match('apple')"
   ]
  },
  {
   "cell_type": "code",
   "execution_count": 17,
   "id": "3796182f-5eb1-4b27-8040-77e175cd581b",
   "metadata": {},
   "outputs": [
    {
     "data": {
      "text/plain": [
       "<re.Match object; span=(0, 2), match='ap'>"
      ]
     },
     "execution_count": 17,
     "metadata": {},
     "output_type": "execute_result"
    }
   ],
   "source": [
    "p = re.compile('[abc]p') # 첫 그라가 p인가?\n",
    "p.match('apple')"
   ]
  },
  {
   "cell_type": "markdown",
   "id": "c2faafd8-1b91-408e-a13e-c347dfaf7854",
   "metadata": {},
   "source": [
    "# 하이픈"
   ]
  },
  {
   "cell_type": "raw",
   "id": "b7a4b023-2d1a-48b7-bfb2-cc11c6473484",
   "metadata": {},
   "source": [
    "[ ] 안의 두 문자 사이에 하이픈(-)을 사용하면 두 문자 사이의 범위(From - To)를 의미\n",
    "예를 들어 [a-c]라는 정규 표현식은 [abc]와 동일하고 [0-5]는 [012345]와 동일"
   ]
  },
  {
   "cell_type": "code",
   "execution_count": 18,
   "id": "50b5b9ff-804b-449e-a595-a68ff4386e5c",
   "metadata": {},
   "outputs": [
    {
     "data": {
      "text/plain": [
       "<re.Match object; span=(0, 1), match='a'>"
      ]
     },
     "execution_count": 18,
     "metadata": {},
     "output_type": "execute_result"
    }
   ],
   "source": [
    "p = re.compile('[a-c]')\n",
    "p.match('apple')"
   ]
  },
  {
   "cell_type": "code",
   "execution_count": 19,
   "id": "ee273cba-a24f-4d0e-bebb-99fe5ca53eb4",
   "metadata": {},
   "outputs": [],
   "source": [
    "p = re.compile('[a-c]')\n",
    "p.match('demon')"
   ]
  },
  {
   "cell_type": "code",
   "execution_count": 20,
   "id": "078fdc82-c526-4717-b4bf-c889f846348d",
   "metadata": {},
   "outputs": [
    {
     "data": {
      "text/plain": [
       "<re.Match object; span=(0, 1), match='d'>"
      ]
     },
     "execution_count": 20,
     "metadata": {},
     "output_type": "execute_result"
    }
   ],
   "source": [
    "p = re.compile('[a-z]')\n",
    "p.match('demon')"
   ]
  },
  {
   "cell_type": "markdown",
   "id": "3b6bdf29-3428-4843-8617-76634b9be88d",
   "metadata": {},
   "source": [
    "* 영어 소문자"
   ]
  },
  {
   "cell_type": "code",
   "execution_count": 21,
   "id": "3fbe1e55-8a30-4d67-ba67-017e787b8b4a",
   "metadata": {},
   "outputs": [],
   "source": [
    "p = re.compile('[a-z]')\n",
    "p.match('Korea')"
   ]
  },
  {
   "cell_type": "markdown",
   "id": "c83fa17d-3927-4da9-a6c3-81f29ea0afc1",
   "metadata": {},
   "source": [
    "* 영어 대문자"
   ]
  },
  {
   "cell_type": "code",
   "execution_count": 22,
   "id": "1b0a8c69-53bd-4e6e-b0f5-97921de8c1e4",
   "metadata": {},
   "outputs": [
    {
     "data": {
      "text/plain": [
       "<re.Match object; span=(0, 1), match='K'>"
      ]
     },
     "execution_count": 22,
     "metadata": {},
     "output_type": "execute_result"
    }
   ],
   "source": [
    "p = re.compile('[A-Z]')\n",
    "p.match('Korea')"
   ]
  },
  {
   "cell_type": "markdown",
   "id": "0ad0436d-384e-4888-879e-5f2eeffd5345",
   "metadata": {},
   "source": [
    "* 한글"
   ]
  },
  {
   "cell_type": "code",
   "execution_count": 38,
   "id": "4d00f011-b7cb-4846-b48b-cf75665cb1df",
   "metadata": {},
   "outputs": [
    {
     "data": {
      "text/plain": [
       "<re.Match object; span=(0, 1), match='홍'>"
      ]
     },
     "execution_count": 38,
     "metadata": {},
     "output_type": "execute_result"
    }
   ],
   "source": [
    "p = re.compile('[가-힣]') \n",
    "p.match('홍')"
   ]
  },
  {
   "cell_type": "code",
   "execution_count": 39,
   "id": "a925c37a-f7a0-4d0d-8155-966ae629729f",
   "metadata": {},
   "outputs": [
    {
     "data": {
      "text/plain": [
       "<re.Match object; span=(0, 1), match='길'>"
      ]
     },
     "execution_count": 39,
     "metadata": {},
     "output_type": "execute_result"
    }
   ],
   "source": [
    "p.match('길')"
   ]
  },
  {
   "cell_type": "code",
   "execution_count": 40,
   "id": "7dbcf56f-3741-4f0f-afd8-9086705a5ab4",
   "metadata": {},
   "outputs": [
    {
     "data": {
      "text/plain": [
       "<re.Match object; span=(0, 1), match='동'>"
      ]
     },
     "execution_count": 40,
     "metadata": {},
     "output_type": "execute_result"
    }
   ],
   "source": [
    "p.match('동')"
   ]
  },
  {
   "cell_type": "markdown",
   "id": "f7f6b751-c6d8-49e2-9285-eb68ea4b4b98",
   "metadata": {},
   "source": [
    "* 첫 글자가 모든 알파벳과 매치"
   ]
  },
  {
   "cell_type": "code",
   "execution_count": 24,
   "id": "39fd4ff4-c032-4741-beda-2802974883e8",
   "metadata": {},
   "outputs": [
    {
     "data": {
      "text/plain": [
       "(<re.Match object; span=(0, 1), match='K'>,\n",
       " <re.Match object; span=(0, 1), match='K'>)"
      ]
     },
     "execution_count": 24,
     "metadata": {},
     "output_type": "execute_result"
    }
   ],
   "source": [
    "p = re.compile('[a-zA-Z]')\n",
    "p.match('Korea'), p.match('Korea')"
   ]
  },
  {
   "cell_type": "markdown",
   "id": "f654b5bb-1541-4a5a-9687-6f6fe112af7f",
   "metadata": {},
   "source": [
    "* 모든 숫자와 매치"
   ]
  },
  {
   "cell_type": "code",
   "execution_count": 25,
   "id": "ab338976-34dd-4cb5-8831-5b692cc5f977",
   "metadata": {},
   "outputs": [
    {
     "data": {
      "text/plain": [
       "(<re.Match object; span=(0, 1), match='1'>,\n",
       " <re.Match object; span=(0, 1), match='2'>,\n",
       " <re.Match object; span=(0, 1), match='3'>)"
      ]
     },
     "execution_count": 25,
     "metadata": {},
     "output_type": "execute_result"
    }
   ],
   "source": [
    "p = re.compile('[0-9]')\n",
    "p.match('1st'), p.match('2st'), p.match('3st')"
   ]
  },
  {
   "cell_type": "markdown",
   "id": "15002dce-8cfd-4fb7-8aca-00ec2efb3c56",
   "metadata": {},
   "source": [
    "* 음수와 매치"
   ]
  },
  {
   "cell_type": "code",
   "execution_count": 26,
   "id": "b9c86789-3e9d-453c-af00-b3c851a05965",
   "metadata": {},
   "outputs": [
    {
     "data": {
      "text/plain": [
       "<re.Match object; span=(0, 2), match='-2'>"
      ]
     },
     "execution_count": 26,
     "metadata": {},
     "output_type": "execute_result"
    }
   ],
   "source": [
    "p = re.compile('-[0-9]')\n",
    "p.match('-27')"
   ]
  },
  {
   "cell_type": "markdown",
   "id": "2873cea1-aa87-460c-ba26-371dcab4986f",
   "metadata": {},
   "source": [
    "# ^ 연산"
   ]
  },
  {
   "cell_type": "markdown",
   "id": "8e01918a-a00d-457c-a1a8-5a1d5b181e14",
   "metadata": {},
   "source": [
    "* 문자 클래스 안에 ^ 메타 문자를 사용할 경우에는 반대(not)라는 의미"
   ]
  },
  {
   "cell_type": "code",
   "execution_count": 27,
   "id": "418cc108-87d2-42a6-8314-c26f039c095d",
   "metadata": {},
   "outputs": [
    {
     "data": {
      "text/plain": [
       "<re.Match object; span=(0, 1), match='K'>"
      ]
     },
     "execution_count": 27,
     "metadata": {},
     "output_type": "execute_result"
    }
   ],
   "source": [
    "p = re.compile('[^a]') # 첫 글자가 a가 아닌 문자\n",
    "p.match('Korea')"
   ]
  },
  {
   "cell_type": "code",
   "execution_count": 28,
   "id": "18918e42-c0f3-470c-a17b-7e2e9f0b079c",
   "metadata": {},
   "outputs": [],
   "source": [
    "p = re.compile('[^a]') # 첫 글자가 a가 아닌 문자\n",
    "p.match('apple')"
   ]
  },
  {
   "cell_type": "markdown",
   "id": "04d32443-7bb3-40ec-810b-2c9ec2742d98",
   "metadata": {},
   "source": [
    "### ^ 연산 응용"
   ]
  },
  {
   "cell_type": "markdown",
   "id": "83357bdf-cc0c-437a-9f17-dfcd5241bb12",
   "metadata": {},
   "source": [
    "* 숫자가 아닌 문자"
   ]
  },
  {
   "cell_type": "code",
   "execution_count": 29,
   "id": "06e1d1ab-6b02-4b7d-b7ae-ae90dc1b5d30",
   "metadata": {},
   "outputs": [
    {
     "data": {
      "text/plain": [
       "(<re.Match object; span=(0, 1), match='a'>, None)"
      ]
     },
     "execution_count": 29,
     "metadata": {},
     "output_type": "execute_result"
    }
   ],
   "source": [
    "p = re.compile('[^0-9]') \n",
    "p.match('apple'), p.match('777')"
   ]
  },
  {
   "cell_type": "markdown",
   "id": "8f7d3439-d36d-4894-a8ab-41aee4d2685d",
   "metadata": {},
   "source": [
    "# 자주 사용하는 문자 클래스 표현식"
   ]
  },
  {
   "cell_type": "markdown",
   "id": "edc94679-870a-4b1c-8ed0-48a12602cef1",
   "metadata": {},
   "source": [
    "* \\d - 숫자와 매치, [0-9]와 동일한 표현식이다.\n",
    "* \\D - 숫자가 아닌 것과 매치, [^0-9]와 동일한 표현식이다.\n",
    "* \\s - whitespace 문자와 매치, [ \\t\\n\\r\\f\\v]와 동일한 표현식이다. 맨 앞의 빈 칸은 공백문자(space)를 의미한다.\n",
    "* \\S - whitespace 문자가 아닌 것과 매치, [^ \\t\\n\\r\\f\\v]와 동일한 표현식이다.\n",
    "* \\w - 문자+숫자(alphanumeric)와 매치, [a-zA-Z0-9_]와 동일한 표현식이다.\n",
    "* \\W - 문자+숫자(alphanumeric)가 아닌 문자와 매치, [^a-zA-Z0-9_]와 동일한 표현식이다."
   ]
  },
  {
   "cell_type": "markdown",
   "id": "7a8cb198-6034-457a-9ee6-21e14cb494d2",
   "metadata": {},
   "source": [
    "* \\d"
   ]
  },
  {
   "cell_type": "code",
   "execution_count": 30,
   "id": "18b26a66-dd18-43b4-a105-8a86ab6e0677",
   "metadata": {},
   "outputs": [
    {
     "data": {
      "text/plain": [
       "(<re.Match object; span=(0, 1), match='1'>, None)"
      ]
     },
     "execution_count": 30,
     "metadata": {},
     "output_type": "execute_result"
    }
   ],
   "source": [
    "p = re.compile('[\\d]') \n",
    "p.match('1234'), p.match('apple')"
   ]
  },
  {
   "cell_type": "markdown",
   "id": "5148e778-3b05-44ad-b2cb-fc36c7abee66",
   "metadata": {},
   "source": [
    "* \\D"
   ]
  },
  {
   "cell_type": "code",
   "execution_count": 31,
   "id": "1022b986-6f6a-4da1-8d4c-d9fd6610c2c5",
   "metadata": {},
   "outputs": [
    {
     "data": {
      "text/plain": [
       "(<re.Match object; span=(0, 1), match='a'>, None)"
      ]
     },
     "execution_count": 31,
     "metadata": {},
     "output_type": "execute_result"
    }
   ],
   "source": [
    "p = re.compile('[\\D]')\n",
    "p.match('apple'), p.match('1234')"
   ]
  },
  {
   "cell_type": "markdown",
   "id": "c7a05247-7d7a-48e0-837b-f5b0bee9c73a",
   "metadata": {},
   "source": [
    "* \\s"
   ]
  },
  {
   "cell_type": "code",
   "execution_count": 32,
   "id": "bade42d0-ca99-4d80-aa6b-4ffd86bcdf6a",
   "metadata": {},
   "outputs": [
    {
     "data": {
      "text/plain": [
       "<re.Match object; span=(0, 1), match=' '>"
      ]
     },
     "execution_count": 32,
     "metadata": {},
     "output_type": "execute_result"
    }
   ],
   "source": [
    "p = re.compile('[\\s]')\n",
    "p.match(' apple')"
   ]
  },
  {
   "cell_type": "markdown",
   "id": "a93651cc-91a9-4028-aeab-f4da47c85e55",
   "metadata": {},
   "source": [
    "* \\S"
   ]
  },
  {
   "cell_type": "code",
   "execution_count": 33,
   "id": "963d2fd9-8dea-432c-b989-0ebde1999abc",
   "metadata": {},
   "outputs": [
    {
     "data": {
      "text/plain": [
       "<re.Match object; span=(0, 1), match='1'>"
      ]
     },
     "execution_count": 33,
     "metadata": {},
     "output_type": "execute_result"
    }
   ],
   "source": [
    "p = re.compile('[\\S]')\n",
    "p.match('1234')"
   ]
  },
  {
   "cell_type": "markdown",
   "id": "9df36d34-af5c-433b-b11f-d6eaf57484c0",
   "metadata": {},
   "source": [
    "* \\w"
   ]
  },
  {
   "cell_type": "code",
   "execution_count": 34,
   "id": "c3f5961d-c1cc-4f74-aaee-2afa5accaf12",
   "metadata": {},
   "outputs": [
    {
     "data": {
      "text/plain": [
       "(<re.Match object; span=(0, 1), match='a'>,\n",
       " <re.Match object; span=(0, 1), match='1'>,\n",
       " None)"
      ]
     },
     "execution_count": 34,
     "metadata": {},
     "output_type": "execute_result"
    }
   ],
   "source": [
    "p = re.compile('[\\w]')\n",
    "p.match('apple'), p.match('1234'), p.match(' apple')"
   ]
  },
  {
   "cell_type": "markdown",
   "id": "37c766b7-b5dd-435d-8f59-60e3e2ed97ad",
   "metadata": {},
   "source": [
    "* \\W"
   ]
  },
  {
   "cell_type": "code",
   "execution_count": 35,
   "id": "212a5442-422e-42d1-8462-933281f76fb4",
   "metadata": {},
   "outputs": [
    {
     "data": {
      "text/plain": [
       "(None, None)"
      ]
     },
     "execution_count": 35,
     "metadata": {},
     "output_type": "execute_result"
    }
   ],
   "source": [
    "p = re.compile('[\\W]')\n",
    "p.match('apple'), p.match('1234')"
   ]
  }
 ],
 "metadata": {
  "kernelspec": {
   "display_name": "Python [conda env:base] *",
   "language": "python",
   "name": "conda-base-py"
  },
  "language_info": {
   "codemirror_mode": {
    "name": "ipython",
    "version": 3
   },
   "file_extension": ".py",
   "mimetype": "text/x-python",
   "name": "python",
   "nbconvert_exporter": "python",
   "pygments_lexer": "ipython3",
   "version": "3.13.5"
  }
 },
 "nbformat": 4,
 "nbformat_minor": 5
}
