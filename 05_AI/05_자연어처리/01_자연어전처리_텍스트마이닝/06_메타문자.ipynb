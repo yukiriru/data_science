{
 "cells": [
  {
   "cell_type": "markdown",
   "id": "c1c77b7b",
   "metadata": {},
   "source": [
    "## |\n",
    "* or의 의미로 사용"
   ]
  },
  {
   "cell_type": "code",
   "execution_count": 1,
   "id": "5b97a3c4-691e-41fd-a07c-ada6240183d9",
   "metadata": {},
   "outputs": [],
   "source": [
    "import re"
   ]
  },
  {
   "cell_type": "code",
   "execution_count": 2,
   "id": "2c557b66-b148-427e-b8b5-0bea70014319",
   "metadata": {},
   "outputs": [],
   "source": [
    "p = re.compile('이순신|유관순')\n",
    "p.match('강감찬')"
   ]
  },
  {
   "cell_type": "code",
   "execution_count": 3,
   "id": "7ea28ff0-e851-4bfe-8984-25d147ce754f",
   "metadata": {},
   "outputs": [
    {
     "data": {
      "text/plain": [
       "<re.Match object; span=(0, 3), match='유관순'>"
      ]
     },
     "execution_count": 3,
     "metadata": {},
     "output_type": "execute_result"
    }
   ],
   "source": [
    "p.match('유관순')"
   ]
  },
  {
   "cell_type": "code",
   "execution_count": 4,
   "id": "16eaa86d-ec54-413f-9922-2c4a35168a20",
   "metadata": {},
   "outputs": [],
   "source": [
    "p.match('이순')"
   ]
  },
  {
   "cell_type": "code",
   "execution_count": 5,
   "id": "77c16f2b-cea0-43f4-afc4-aa9b6f9ac28a",
   "metadata": {},
   "outputs": [
    {
     "data": {
      "text/plain": [
       "<re.Match object; span=(0, 3), match='이순신'>"
      ]
     },
     "execution_count": 5,
     "metadata": {},
     "output_type": "execute_result"
    }
   ],
   "source": [
    "p.match('이순신')"
   ]
  },
  {
   "cell_type": "code",
   "execution_count": 6,
   "id": "cd03d0af-55ef-4348-89d0-c9c42eae3473",
   "metadata": {},
   "outputs": [
    {
     "data": {
      "text/plain": [
       "<re.Match object; span=(0, 3), match='이순신'>"
      ]
     },
     "execution_count": 6,
     "metadata": {},
     "output_type": "execute_result"
    }
   ],
   "source": [
    "p.match('이순신짱')"
   ]
  },
  {
   "cell_type": "code",
   "execution_count": 7,
   "id": "cee30bb3-461d-4325-8d36-25757413925c",
   "metadata": {},
   "outputs": [],
   "source": [
    "p.match('성웅 이순신')"
   ]
  },
  {
   "cell_type": "code",
   "execution_count": 8,
   "id": "132dbabf-8ed2-40bf-adc7-0f894c7bbafa",
   "metadata": {},
   "outputs": [
    {
     "data": {
      "text/plain": [
       "<re.Match object; span=(3, 6), match='이순신'>"
      ]
     },
     "execution_count": 8,
     "metadata": {},
     "output_type": "execute_result"
    }
   ],
   "source": [
    "p.search('성웅 이순신')"
   ]
  },
  {
   "cell_type": "markdown",
   "id": "33cc1c28",
   "metadata": {},
   "source": [
    "## ^\n",
    "* 문자열의 맨 처음과 일치"
   ]
  },
  {
   "cell_type": "code",
   "execution_count": 10,
   "id": "693683e9-ea88-4cb0-8f0a-061183096dbf",
   "metadata": {},
   "outputs": [
    {
     "data": {
      "text/plain": [
       "<re.Match object; span=(6, 9), match='인생은'>"
      ]
     },
     "execution_count": 10,
     "metadata": {},
     "output_type": "execute_result"
    }
   ],
   "source": [
    "re.search('인생은','하루살이의 인생은 너무 짧다')"
   ]
  },
  {
   "cell_type": "code",
   "execution_count": 11,
   "id": "20b613ff-65e2-4573-9caa-f0a7cb5d523d",
   "metadata": {},
   "outputs": [],
   "source": [
    "re.search('^인생은','하루살이의 인생은 너무 짧다')"
   ]
  },
  {
   "cell_type": "code",
   "execution_count": 9,
   "id": "024b5e21-93a4-4c4d-a89f-ffc9cc8d4c9a",
   "metadata": {},
   "outputs": [
    {
     "data": {
      "text/plain": [
       "<re.Match object; span=(0, 3), match='인생은'>"
      ]
     },
     "execution_count": 9,
     "metadata": {},
     "output_type": "execute_result"
    }
   ],
   "source": [
    "re.search('^인생은','인생은 너무 짧다')"
   ]
  },
  {
   "cell_type": "markdown",
   "id": "4fcf24e1-7782-4670-8daa-b7c39ef72677",
   "metadata": {},
   "source": [
    "* 컴파일 옵션 re.MULTILINE을 사용할 경우에는 여러 줄의 문자열일 때 각 줄의 처음과 일치"
   ]
  },
  {
   "cell_type": "code",
   "execution_count": 12,
   "id": "ce97723f-8b63-4dca-8ec4-f8a54dcc5427",
   "metadata": {},
   "outputs": [],
   "source": [
    "multiline_str=\"\"\"인생은 아름답다.\n",
    "브라보! 나의 인생\n",
    "인생은.. 그렇지만 너무 짧다.\n",
    "\"\"\""
   ]
  },
  {
   "cell_type": "code",
   "execution_count": 13,
   "id": "342712a1-c5ee-4ed2-93a0-790cb6f6d022",
   "metadata": {},
   "outputs": [
    {
     "data": {
      "text/plain": [
       "['인생']"
      ]
     },
     "execution_count": 13,
     "metadata": {},
     "output_type": "execute_result"
    }
   ],
   "source": [
    "p = re.compile('^인생')\n",
    "p.findall(multiline_str)"
   ]
  },
  {
   "cell_type": "code",
   "execution_count": 14,
   "id": "0d5c60d3-112d-4121-a142-58475730ff80",
   "metadata": {},
   "outputs": [
    {
     "data": {
      "text/plain": [
       "['인생', '인생']"
      ]
     },
     "execution_count": 14,
     "metadata": {},
     "output_type": "execute_result"
    }
   ],
   "source": [
    "p = re.compile('^인생', re.MULTILINE)\n",
    "p.findall(multiline_str)"
   ]
  },
  {
   "cell_type": "markdown",
   "id": "881cf8fe",
   "metadata": {},
   "source": [
    "## \\\\A\n",
    "* 문자열의 처음과 매치됨을 의미한다. \n",
    "* ^ 메타 문자와 동일한 의미이지만 re.MULTILINE 옵션을 사용할 경우에는 다르게 해석된다.\n",
    "* re.MULTILINE 옵션을 사용할 경우 ^은 각 줄의 문자열의 처음과 매치되지만 \\A는 줄과 상관없이 전체 문자열의 처음하고만 매치"
   ]
  },
  {
   "cell_type": "code",
   "execution_count": 15,
   "id": "f6d8ae65-f59c-435a-a3a2-e6d097c62010",
   "metadata": {},
   "outputs": [
    {
     "data": {
      "text/plain": [
       "['인생']"
      ]
     },
     "execution_count": 15,
     "metadata": {},
     "output_type": "execute_result"
    }
   ],
   "source": [
    "p = re.compile('\\A인생')\n",
    "p.findall(multiline_str)"
   ]
  },
  {
   "cell_type": "code",
   "execution_count": 16,
   "id": "74c9d591-ff4c-42b3-b8e1-c73c114be159",
   "metadata": {},
   "outputs": [
    {
     "data": {
      "text/plain": [
       "['인생']"
      ]
     },
     "execution_count": 16,
     "metadata": {},
     "output_type": "execute_result"
    }
   ],
   "source": [
    "p = re.compile('\\A인생', re.MULTILINE)\n",
    "p.findall(multiline_str)"
   ]
  },
  {
   "cell_type": "markdown",
   "id": "58f92a31",
   "metadata": {},
   "source": [
    "## $\n",
    "* 문자열의 끝과 매칭"
   ]
  },
  {
   "cell_type": "code",
   "execution_count": 17,
   "id": "eaa33135-f0a6-48db-8606-f5a716b79541",
   "metadata": {},
   "outputs": [
    {
     "data": {
      "text/plain": [
       "<re.Match object; span=(0, 4), match='Life'>"
      ]
     },
     "execution_count": 17,
     "metadata": {},
     "output_type": "execute_result"
    }
   ],
   "source": [
    "re.search('Life','Life is too short')"
   ]
  },
  {
   "cell_type": "code",
   "execution_count": 18,
   "id": "267e7e68-b64d-4e62-b331-f1612d206bd9",
   "metadata": {},
   "outputs": [
    {
     "data": {
      "text/plain": [
       "<re.Match object; span=(5, 7), match='is'>"
      ]
     },
     "execution_count": 18,
     "metadata": {},
     "output_type": "execute_result"
    }
   ],
   "source": [
    "re.search('is','Life is too short')"
   ]
  },
  {
   "cell_type": "code",
   "execution_count": 19,
   "id": "f15ce335-c3fb-43da-af75-3ba15f1fc340",
   "metadata": {},
   "outputs": [
    {
     "name": "stdout",
     "output_type": "stream",
     "text": [
      "None\n",
      "None\n",
      "None\n",
      "<re.Match object; span=(12, 17), match='short'>\n",
      "None\n"
     ]
    }
   ],
   "source": [
    "print(re.search('Life$','Life is too short'))\n",
    "print(re.search('is$','Life is too short'))\n",
    "print(re.search('too$','Life is too short'))\n",
    "print(re.search('short$','Life is too short'))\n",
    "print(re.search('short$','Life is too short, you need python'))"
   ]
  },
  {
   "cell_type": "markdown",
   "id": "1bdbf1fe",
   "metadata": {},
   "source": [
    "## \\Z\n",
    "* 문자열의 끝과 매치됨을 의미한다. \n",
    "* 이것 역시 \\A와 동일하게 re.MULTILINE 옵션을 사용할 경우 $ 메타 문자와는 달리 전체 문자열의 끝과 매치"
   ]
  },
  {
   "cell_type": "code",
   "execution_count": 25,
   "id": "6326a1b0-5fd3-47fe-8a6c-7218ca766b61",
   "metadata": {},
   "outputs": [
    {
     "data": {
      "text/plain": [
       "<re.Match object; span=(5, 8), match='인생.'>"
      ]
     },
     "execution_count": 25,
     "metadata": {},
     "output_type": "execute_result"
    }
   ],
   "source": [
    "p = re.compile('인생.\\Z')\n",
    "p.search('아름다운 인생.')"
   ]
  },
  {
   "cell_type": "code",
   "execution_count": 28,
   "id": "3ee780fb-6f6c-46ca-811c-069d97df5aa7",
   "metadata": {},
   "outputs": [],
   "source": [
    "multiline_str=\"\"\"아름다운 인생.\n",
    "인생은.. 그렇지만 너무 짧다.\n",
    "브라보! 나의 인생.\"\"\""
   ]
  },
  {
   "cell_type": "code",
   "execution_count": 29,
   "id": "f731f529-6a39-4911-9efc-25b6dd8ef527",
   "metadata": {},
   "outputs": [
    {
     "data": {
      "text/plain": [
       "['인생.', '인생.']"
      ]
     },
     "execution_count": 29,
     "metadata": {},
     "output_type": "execute_result"
    }
   ],
   "source": [
    "p = re.compile('인생.$',re.MULTILINE)\n",
    "p.findall(multiline_str)"
   ]
  },
  {
   "cell_type": "code",
   "execution_count": 30,
   "id": "58d0097c-1bcd-4912-b6f5-e72fa6f87cf4",
   "metadata": {},
   "outputs": [
    {
     "data": {
      "text/plain": [
       "['인생.']"
      ]
     },
     "execution_count": 30,
     "metadata": {},
     "output_type": "execute_result"
    }
   ],
   "source": [
    "p = re.compile('인생.\\Z',re.MULTILINE) # Multil\n",
    "p.findall(multiline_str)"
   ]
  },
  {
   "cell_type": "code",
   "execution_count": null,
   "id": "7b2c5ca7-3c14-4ef9-9688-fd984dd4b45b",
   "metadata": {},
   "outputs": [],
   "source": []
  }
 ],
 "metadata": {
  "kernelspec": {
   "display_name": "Python [conda env:base] *",
   "language": "python",
   "name": "conda-base-py"
  },
  "language_info": {
   "codemirror_mode": {
    "name": "ipython",
    "version": 3
   },
   "file_extension": ".py",
   "mimetype": "text/x-python",
   "name": "python",
   "nbconvert_exporter": "python",
   "pygments_lexer": "ipython3",
   "version": "3.13.5"
  }
 },
 "nbformat": 4,
 "nbformat_minor": 5
}
