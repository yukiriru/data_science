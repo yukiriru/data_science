{
 "cells": [
  {
   "cell_type": "markdown",
   "id": "2703281f",
   "metadata": {},
   "source": [
    "## ()\n",
    "* 문자열 패턴의 반복을 지정\n",
    "* 그룹을 지정하면 문자열 전체에서 매칭되는 패턴을 그룹단위로 찾아준다."
   ]
  },
  {
   "cell_type": "code",
   "execution_count": 1,
   "id": "569465ae-d2da-4149-ac9d-59e0d726139e",
   "metadata": {},
   "outputs": [],
   "source": [
    "import re"
   ]
  },
  {
   "cell_type": "code",
   "execution_count": 2,
   "id": "94ae8ad4-783c-4051-96f6-a3aaadd82ff7",
   "metadata": {},
   "outputs": [
    {
     "name": "stdout",
     "output_type": "stream",
     "text": [
      "<re.Match object; span=(0, 6), match='홍길동홍길동'>\n",
      "홍길동홍길동\n",
      "홍길동\n"
     ]
    }
   ],
   "source": [
    "p = re.compile('(홍길동)+')\n",
    "m = p.search('홍길동홍길동 우리의 영웅? 홍길동')\n",
    "print(m) # 첫번째 매칭되는 결과\n",
    "print(m.group(0)) # 매칭되는 결과를 인덱스로 지정하여 확인 가능\n",
    "print(m.group(1))"
   ]
  },
  {
   "cell_type": "code",
   "execution_count": 3,
   "id": "92c4f44f-ea0f-46b3-a563-868d9efc5869",
   "metadata": {},
   "outputs": [],
   "source": [
    "# m.group(2) # 매치가 안되는 그룹을 참조할 경우 에러가 발생한다."
   ]
  },
  {
   "cell_type": "code",
   "execution_count": 4,
   "id": "6cc752c9-b10e-401b-a8ea-d5904026c5cf",
   "metadata": {},
   "outputs": [
    {
     "name": "stdout",
     "output_type": "stream",
     "text": [
      "<re.Match object; span=(0, 17), match='홍길동 010-1234-1234'>\n",
      "홍길동 010-1234-1234\n",
      "홍길동 010-1234-1234\n"
     ]
    }
   ],
   "source": [
    "p=re.compile(\"\\w+\\s+\\d+[-]\\d+[-]\\d+\")\n",
    "m=p.search(\"홍길동 010-1234-1234\")\n",
    "print(m)\n",
    "print(m.group())\n",
    "print(m.group(0)) # 전체 매칭은 group 0"
   ]
  },
  {
   "cell_type": "code",
   "execution_count": 5,
   "id": "25c8acd8-f2cc-4156-8d00-c04e915ba758",
   "metadata": {},
   "outputs": [
    {
     "name": "stdout",
     "output_type": "stream",
     "text": [
      "<re.Match object; span=(0, 17), match='홍길동 010-1234-5678'>\n",
      "홍길동 010-1234-5678\n",
      "홍길동\n",
      "010\n",
      "1234\n",
      "5678\n"
     ]
    }
   ],
   "source": [
    "p=re.compile('(\\w+)\\s+(\\d+)[-](\\d+)[-](\\d+)')\n",
    "m = p.match(\"홍길동 010-1234-5678\")\n",
    "print(m)\n",
    "print(m.group(0))\n",
    "print(m.group(1))\n",
    "print(m.group(2))\n",
    "print(m.group(3))\n",
    "print(m.group(4))"
   ]
  },
  {
   "cell_type": "markdown",
   "id": "d65c9b32",
   "metadata": {},
   "source": [
    "## 그루핑된 문자열에 이름 붙이기\n",
    "* (?P<그룹명>...)\n",
    "* 정규식안에 그룹이 많아 질 경우 구분하기 위한 식별자로 활용"
   ]
  },
  {
   "cell_type": "code",
   "execution_count": 8,
   "id": "3fff4737-c9cc-4280-b36f-3421384e5952",
   "metadata": {
    "scrolled": true
   },
   "outputs": [
    {
     "name": "stdout",
     "output_type": "stream",
     "text": [
      "park\n"
     ]
    }
   ],
   "source": [
    "p=re.compile('(?P<name>\\w+)\\s+(\\d+[-]\\d+[-]\\d+)')\n",
    "m = p.match(\"park 010-1234-5678\")\n",
    "print(m.group(\"name\"))"
   ]
  },
  {
   "cell_type": "code",
   "execution_count": 11,
   "id": "c9ec9ff4-86d6-4738-b25e-5f04df1adb2f",
   "metadata": {},
   "outputs": [
    {
     "name": "stdout",
     "output_type": "stream",
     "text": [
      "park 010-1234-5678\n",
      "park\n",
      "010-1234-5678\n"
     ]
    }
   ],
   "source": [
    "print(m.group(0))\n",
    "print(m.group(1))\n",
    "print(m.group(2))"
   ]
  },
  {
   "cell_type": "code",
   "execution_count": 12,
   "id": "10a78dca-2c97-4524-9d32-966e5f78b7d8",
   "metadata": {
    "scrolled": true
   },
   "outputs": [
    {
     "name": "stdout",
     "output_type": "stream",
     "text": [
      "park\n",
      "010\n",
      "1234\n",
      "5678\n"
     ]
    }
   ],
   "source": [
    "p = re.compile(\"(?P<name>\\w+)\\s+(?P<first_num>\\d+)[-](?P<middle_num>\\d+)[-](?P<last_num>\\d+)\")\n",
    "m = p.search(\"park 010-1234-5678\")\n",
    "print(m.group(\"name\"))\n",
    "print(m.group(\"first_num\"))\n",
    "print(m.group(\"middle_num\"))\n",
    "print(m.group(\"last_num\"))"
   ]
  },
  {
   "cell_type": "code",
   "execution_count": 14,
   "id": "6bf19998-82a9-45fb-83d5-8ad0af020c7a",
   "metadata": {},
   "outputs": [
    {
     "name": "stdout",
     "output_type": "stream",
     "text": [
      "park\n",
      "010\n",
      "1234\n",
      "5678\n"
     ]
    }
   ],
   "source": [
    "p = re.compile(r\"\"\"\n",
    "(?P<name>\\w+)       # park를 매칭하기 위한 정규식\n",
    "\\s+                 # park 다음 공백 문자를 매칭하기 위한 정규식\n",
    "(?P<first_num>\\d+)  # 010 첫번째 숫자 그룹을 매칭하기 위한 정규식\n",
    "[-]                 # 첫 번쨰와 두번째 숫자 그룹 사이의 - 문자를 매칭하기 위한 정규식\n",
    "(?P<middle_num>\\d+) # 1234 두번째 숫자 그룹을 매칭하기 위한 정규식\n",
    "[-]                 # 두 번쨰와 세번째 숫자 그룹 사이의 - 문자를 매칭하기 위한 정규식\n",
    "(?P<last_num>\\d+)   # 5678 세번째 숫자 그룹을 매칭하기 위한 정규식\n",
    "\"\"\",re.VERBOSE)\n",
    "m = p.search(\"park 010-1234-5678\")\n",
    "print(m.group(\"name\"))\n",
    "print(m.group(\"first_num\"))\n",
    "print(m.group(\"middle_num\"))\n",
    "print(m.group(\"last_num\"))"
   ]
  },
  {
   "cell_type": "markdown",
   "id": "ae774814",
   "metadata": {},
   "source": [
    "---"
   ]
  },
  {
   "cell_type": "markdown",
   "id": "9287164b",
   "metadata": {},
   "source": [
    "## 문자열 바꾸기"
   ]
  },
  {
   "cell_type": "markdown",
   "id": "6528fd0e",
   "metadata": {},
   "source": [
    "### sub 메서드"
   ]
  },
  {
   "cell_type": "code",
   "execution_count": 15,
   "id": "9dddd9b4-b9bc-4596-a89b-a671f50bb1c6",
   "metadata": {},
   "outputs": [
    {
     "name": "stdout",
     "output_type": "stream",
     "text": [
      "colour socks and colour shoes\n",
      "colour socks and red shoes\n",
      "colour socks and colour shoes\n"
     ]
    }
   ],
   "source": [
    "p = re.compile('(blue|white|red)')\n",
    "print(p.sub('colour','blue socks and red shoes'))\n",
    "print(p.sub('colour','blue socks and red shoes',count=1)) # 1번만 바꾸는 조건\n",
    "print(p.sub('colour','blue socks and red shoes',count=2)) # 2번 바꾸는 조건"
   ]
  },
  {
   "cell_type": "markdown",
   "id": "e2b71354",
   "metadata": {},
   "source": [
    "### subn 메서드"
   ]
  },
  {
   "cell_type": "markdown",
   "id": "d9ca383c-fc84-4186-ae31-9359c1aa7745",
   "metadata": {},
   "source": [
    "* sub함수와 차이점은 바꾼 문자열과 추가로 바꾼 문자열 횟수를 반환"
   ]
  },
  {
   "cell_type": "code",
   "execution_count": 16,
   "id": "2f075580-cf0b-4623-9cc6-acaf5f37881e",
   "metadata": {},
   "outputs": [
    {
     "name": "stdout",
     "output_type": "stream",
     "text": [
      "colour socks and colour shoes\n"
     ]
    }
   ],
   "source": [
    "print(p.sub('colour','blue socks and red shoes'))"
   ]
  },
  {
   "cell_type": "code",
   "execution_count": 17,
   "id": "e56c4664-8b40-4088-b53f-172465ee9745",
   "metadata": {},
   "outputs": [
    {
     "name": "stdout",
     "output_type": "stream",
     "text": [
      "('colour socks and colour shoes', 2)\n"
     ]
    }
   ],
   "source": [
    "print(p.subn('colour','blue socks and red shoes'))"
   ]
  },
  {
   "cell_type": "code",
   "execution_count": null,
   "id": "7d46c99e-f526-4970-bf2c-55d88b15e102",
   "metadata": {},
   "outputs": [],
   "source": [
    "* 바뀐 문자열 반환"
   ]
  },
  {
   "cell_type": "code",
   "execution_count": 19,
   "id": "c6ad4c7f-37b9-4fe3-a211-bd8777b33850",
   "metadata": {},
   "outputs": [
    {
     "data": {
      "text/plain": [
       "'colour socks and colour shoes'"
      ]
     },
     "execution_count": 19,
     "metadata": {},
     "output_type": "execute_result"
    }
   ],
   "source": [
    "p.subn('colour','blue socks and red shoes')[0]"
   ]
  },
  {
   "cell_type": "markdown",
   "id": "9cf2d85a",
   "metadata": {},
   "source": [
    "## sub 메서드 사용시 참조 구문 사용하기"
   ]
  },
  {
   "cell_type": "code",
   "execution_count": 20,
   "id": "3464a270-c455-4072-a48d-2c4f3c5c7c25",
   "metadata": {},
   "outputs": [],
   "source": [
    "p = re.compile(r\"(?P<name>\\w+)\\s+(?P<phone>(\\d+)[-]\\d+[-]\\d+)\")"
   ]
  },
  {
   "cell_type": "code",
   "execution_count": 21,
   "id": "bdc3d597-1c82-4c8b-9db8-0ccb3d710a81",
   "metadata": {},
   "outputs": [],
   "source": [
    "source_str = \"홍길동 010-1234-5678\""
   ]
  },
  {
   "cell_type": "code",
   "execution_count": 25,
   "id": "793f571b-2300-45bc-9084-ebfbaee35c0c",
   "metadata": {},
   "outputs": [
    {
     "data": {
      "text/plain": [
       "'010-1234-5678 홍길동'"
      ]
     },
     "execution_count": 25,
     "metadata": {},
     "output_type": "execute_result"
    }
   ],
   "source": [
    "p.sub(\"\\g<phone> \\g<name>\",source_str)"
   ]
  },
  {
   "cell_type": "markdown",
   "id": "15e717f3",
   "metadata": {},
   "source": [
    "### sub 메서드의 매개변수로 함수 넣기"
   ]
  },
  {
   "cell_type": "code",
   "execution_count": 26,
   "id": "ceafecc6-6da3-44d3-8ebe-2bdcd29f85a2",
   "metadata": {},
   "outputs": [],
   "source": [
    "def hexrepl(match):\n",
    "    \"Return the hex string for a decimal number\"\n",
    "    value = int(match.group())\n",
    "    return hex(value)"
   ]
  },
  {
   "cell_type": "code",
   "execution_count": 27,
   "id": "0d3a875d-fa88-4998-a16c-a5dc1f15bc56",
   "metadata": {},
   "outputs": [
    {
     "name": "stdout",
     "output_type": "stream",
     "text": [
      "Call  0xffd2 for printing,0xc000 for user code.\n"
     ]
    }
   ],
   "source": [
    "p =  re.compile(\"\\d+\")\n",
    "print(p.sub(hexrepl, \"Call  65490 for printing,49152 for user code.\"))"
   ]
  },
  {
   "cell_type": "markdown",
   "id": "cb91f0b7",
   "metadata": {},
   "source": [
    "---"
   ]
  },
  {
   "cell_type": "markdown",
   "id": "8b80e0ec",
   "metadata": {},
   "source": [
    "---"
   ]
  }
 ],
 "metadata": {
  "kernelspec": {
   "display_name": "Python [conda env:base] *",
   "language": "python",
   "name": "conda-base-py"
  },
  "language_info": {
   "codemirror_mode": {
    "name": "ipython",
    "version": 3
   },
   "file_extension": ".py",
   "mimetype": "text/x-python",
   "name": "python",
   "nbconvert_exporter": "python",
   "pygments_lexer": "ipython3",
   "version": "3.13.5"
  }
 },
 "nbformat": 4,
 "nbformat_minor": 5
}
