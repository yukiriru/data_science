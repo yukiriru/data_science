{
 "cells": [
  {
   "cell_type": "markdown",
   "id": "60739d23-837d-41e9-8933-ae171440a0f2",
   "metadata": {},
   "source": [
    "* 이메일 주소 추출하기"
   ]
  },
  {
   "cell_type": "code",
   "execution_count": 20,
   "id": "991e80b6-3ec3-4218-b228-d818dd9f4ff4",
   "metadata": {},
   "outputs": [
    {
     "data": {
      "text/plain": [
       "['example@email.com', 'another@example.com']"
      ]
     },
     "execution_count": 20,
     "metadata": {},
     "output_type": "execute_result"
    }
   ],
   "source": [
    "text = \"이메일 주소는 example@email.com과 another@example.com입니다.\"\n",
    "re.findall('[A-Za-z0-9.]+@[A-Za-z.]+\\.[A-Z|a-z]+', text)"
   ]
  },
  {
   "cell_type": "markdown",
   "id": "839c1802-097d-46ef-b62f-9aa42f209958",
   "metadata": {},
   "source": [
    "* 전화번호 추출하기"
   ]
  },
  {
   "cell_type": "code",
   "execution_count": 18,
   "id": "7f4c5ebf-29c4-45ec-b185-6f5d7d438907",
   "metadata": {},
   "outputs": [
    {
     "data": {
      "text/plain": [
       "['010-1234-5678']"
      ]
     },
     "execution_count": 18,
     "metadata": {},
     "output_type": "execute_result"
    }
   ],
   "source": [
    "text = \"제 전화번호는 010- 1234 - 5678 입니다\"\n",
    "text1 = re.sub(' ','',text)\n",
    "re.findall('\\d{3}-\\d{4}-\\d{4}',text1)"
   ]
  },
  {
   "cell_type": "markdown",
   "id": "e745b004-694e-42d6-9e90-d5b24f736830",
   "metadata": {},
   "source": [
    "* HTML 태그 제거하기"
   ]
  },
  {
   "cell_type": "code",
   "execution_count": 21,
   "id": "85a3792d-7711-42c8-8e30-d62d77de0742",
   "metadata": {},
   "outputs": [
    {
     "data": {
      "text/plain": [
       "'이것은 HTML 문서입니다.'"
      ]
     },
     "execution_count": 21,
     "metadata": {},
     "output_type": "execute_result"
    }
   ],
   "source": [
    "html_text = \"<p>이것은 <strong>HTML</strong> 문서입니다.</p>\"\n",
    "re.sub('<.*?>','',html_text)"
   ]
  },
  {
   "cell_type": "markdown",
   "id": "3dda8f11-b221-4462-9d19-41b4b1aae4bb",
   "metadata": {},
   "source": [
    "* URL 추출하기"
   ]
  },
  {
   "cell_type": "code",
   "execution_count": 22,
   "id": "9b815fc6-330a-4a7b-b752-5f58a96045b1",
   "metadata": {},
   "outputs": [
    {
     "data": {
      "text/plain": [
       "['http://www.example.com']"
      ]
     },
     "execution_count": 22,
     "metadata": {},
     "output_type": "execute_result"
    }
   ],
   "source": [
    "text = \"웹페이지 주소는 http://www.example.com입니다.\"\n",
    "re.findall(r'http://[A-Za-z0-9.]+',text)"
   ]
  },
  {
   "cell_type": "markdown",
   "id": "af9e3c36-eb8b-454a-8543-7b2009ab7c49",
   "metadata": {},
   "source": [
    "* 숫자 추출하기"
   ]
  },
  {
   "cell_type": "code",
   "execution_count": 27,
   "id": "cab3dd67-e4ba-42c3-b7c5-2cac9636782b",
   "metadata": {},
   "outputs": [
    {
     "data": {
      "text/plain": [
       "['4', '854', '45']"
      ]
     },
     "execution_count": 27,
     "metadata": {},
     "output_type": "execute_result"
    }
   ],
   "source": [
    "text = \"fsjbfo4bkbsfs854ls45\"\n",
    "re.findall(\"\\d+\",text)"
   ]
  },
  {
   "cell_type": "code",
   "execution_count": null,
   "id": "6e3fdda8-14c0-4751-b27a-4dae4dc36c0d",
   "metadata": {},
   "outputs": [],
   "source": []
  }
 ],
 "metadata": {
  "kernelspec": {
   "display_name": "Python [conda env:base] *",
   "language": "python",
   "name": "conda-base-py"
  },
  "language_info": {
   "codemirror_mode": {
    "name": "ipython",
    "version": 3
   },
   "file_extension": ".py",
   "mimetype": "text/x-python",
   "name": "python",
   "nbconvert_exporter": "python",
   "pygments_lexer": "ipython3",
   "version": "3.13.5"
  }
 },
 "nbformat": 4,
 "nbformat_minor": 5
}
