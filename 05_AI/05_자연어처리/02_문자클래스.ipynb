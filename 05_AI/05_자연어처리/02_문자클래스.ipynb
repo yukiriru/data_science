{
 "cells": [
  {
   "cell_type": "markdown",
   "id": "1659552b-be6c-47d0-82be-329eb138cdcc",
   "metadata": {},
   "source": [
    "# 파이썬에서 정규식을 적용하는 방식"
   ]
  },
  {
   "cell_type": "code",
   "execution_count": 1,
   "id": "3d94050c-71bf-40ed-a654-e1249a97e3d3",
   "metadata": {},
   "outputs": [],
   "source": [
    "import re"
   ]
  },
  {
   "cell_type": "markdown",
   "id": "871fdb80-c895-4295-826c-69121372fb44",
   "metadata": {},
   "source": [
    "* 정규식 정의\n",
    "    * re.complie(정규식)"
   ]
  },
  {
   "cell_type": "code",
   "execution_count": 3,
   "id": "72dfdf28-f166-4077-b604-fa8bd109a0eb",
   "metadata": {},
   "outputs": [],
   "source": [
    "pattern = re.compile('abc')"
   ]
  },
  {
   "cell_type": "markdown",
   "id": "4aaca466-175f-4a63-b929-fea9f5a94682",
   "metadata": {},
   "source": [
    "* 정규식 매치\n",
    "    * match(원본문자열)\n",
    "    * 일치여부를 Match 오브젝트로 반환\n",
    "        * match: 일치된 값\n",
    "        * span: 일치된 값의 인덱스"
   ]
  },
  {
   "cell_type": "code",
   "execution_count": 6,
   "id": "b43d8a57-643a-475c-b76b-c54588b27c5f",
   "metadata": {},
   "outputs": [
    {
     "data": {
      "text/plain": [
       "re.Match"
      ]
     },
     "execution_count": 6,
     "metadata": {},
     "output_type": "execute_result"
    }
   ],
   "source": [
    "result = pattern.match('abc')\n",
    "type(result)"
   ]
  },
  {
   "cell_type": "code",
   "execution_count": 7,
   "id": "f374e8e9-7f24-4eb3-b96c-97824987cd4f",
   "metadata": {},
   "outputs": [
    {
     "data": {
      "text/plain": [
       "<re.Match object; span=(0, 3), match='abc'>"
      ]
     },
     "execution_count": 7,
     "metadata": {},
     "output_type": "execute_result"
    }
   ],
   "source": [
    "result"
   ]
  },
  {
   "cell_type": "markdown",
   "id": "1aa00517-e374-4873-9c3a-de579f8c3f9f",
   "metadata": {},
   "source": [
    "* 일치가 되지 않는 경우\n",
    "    * 주피터 노트북인경우에는 아무것도 출력되지 않는다.\n",
    "    * print 할 경우 None이 출력이다."
   ]
  },
  {
   "cell_type": "code",
   "execution_count": 8,
   "id": "2f6d02e2-cf21-428e-9067-f6a3b239b50e",
   "metadata": {},
   "outputs": [],
   "source": [
    "pattern.match('ab')"
   ]
  },
  {
   "cell_type": "code",
   "execution_count": 9,
   "id": "81ebb7ea-1725-4110-b14e-a442a571c975",
   "metadata": {},
   "outputs": [
    {
     "name": "stdout",
     "output_type": "stream",
     "text": [
      "None\n"
     ]
    }
   ],
   "source": [
    "print(pattern.match('ab'))"
   ]
  },
  {
   "cell_type": "markdown",
   "id": "1dfdf6fa-bdf8-4570-b346-2e4381a974b5",
   "metadata": {},
   "source": [
    "# 문자클래스"
   ]
  },
  {
   "cell_type": "markdown",
   "id": "8a145c3e-7b22-4102-8487-2c5220bc52d9",
   "metadata": {},
   "source": [
    "* 문자 클래스로 만들어진 정규식은 \"[ ] 사이의 문자중에 한 개 매치\"라는 의미\n",
    "* 정규 표현식이 [abc]라면 이 표현식의 의미는 \"a, b, c 중 한 개의 문자와 매치\"\n",
    "* [] 문자 클래스는 하나의 문자와 매치가 된다.\n",
    "* 기본 옵션으로 적용할 경우에 문자의 순서에 맞게 매치가 된다."
   ]
  },
  {
   "cell_type": "code",
   "execution_count": 11,
   "id": "8d0bc57d-d507-44cc-9c57-898648228f46",
   "metadata": {},
   "outputs": [
    {
     "data": {
      "text/plain": [
       "<re.Match object; span=(0, 1), match='a'>"
      ]
     },
     "execution_count": 11,
     "metadata": {},
     "output_type": "execute_result"
    }
   ],
   "source": [
    "p = re.compile('[abc]')\n",
    "p.match('a')"
   ]
  },
  {
   "cell_type": "code",
   "execution_count": 12,
   "id": "04515bf0-73b0-49d3-8243-a2c2a4f8548d",
   "metadata": {},
   "outputs": [],
   "source": [
    "p.match('da')"
   ]
  },
  {
   "cell_type": "code",
   "execution_count": 13,
   "id": "3a74935e-2081-4633-a697-744cb981256b",
   "metadata": {},
   "outputs": [
    {
     "data": {
      "text/plain": [
       "<re.Match object; span=(0, 2), match='da'>"
      ]
     },
     "execution_count": 13,
     "metadata": {},
     "output_type": "execute_result"
    }
   ],
   "source": [
    "p = re.compile('d[abc]')\n",
    "p.match('da')"
   ]
  },
  {
   "cell_type": "code",
   "execution_count": 14,
   "id": "a777a894-74d1-444f-b8b7-01f762b72b62",
   "metadata": {},
   "outputs": [
    {
     "data": {
      "text/plain": [
       "<re.Match object; span=(0, 2), match='dc'>"
      ]
     },
     "execution_count": 14,
     "metadata": {},
     "output_type": "execute_result"
    }
   ],
   "source": [
    "p = re.compile('d[abc]')\n",
    "p.match('dc')"
   ]
  },
  {
   "cell_type": "code",
   "execution_count": 15,
   "id": "2bfdda3f-c262-4646-86e4-bf162495b8ca",
   "metadata": {},
   "outputs": [],
   "source": [
    "p = re.compile('d[abc]')\n",
    "p.match('dd')"
   ]
  },
  {
   "cell_type": "markdown",
   "id": "22f704e0-d3b2-46e8-8896-6caff24ab1f3",
   "metadata": {},
   "source": [
    "* 매치 여부는 정규식이 원문에 적용되는지 만 판단한다."
   ]
  },
  {
   "cell_type": "code",
   "execution_count": 16,
   "id": "c36c92db-442b-46f7-9b1c-d6222a677ba6",
   "metadata": {},
   "outputs": [
    {
     "data": {
      "text/plain": [
       "<re.Match object; span=(0, 2), match='db'>"
      ]
     },
     "execution_count": 16,
     "metadata": {},
     "output_type": "execute_result"
    }
   ],
   "source": [
    "p = re.compile('d[abc]')\n",
    "p.match('db!')"
   ]
  },
  {
   "cell_type": "markdown",
   "id": "ee50f710-aa32-49e2-b655-d96e6a413326",
   "metadata": {},
   "source": [
    "* 두개의 문자열 클래스 조합"
   ]
  },
  {
   "cell_type": "code",
   "execution_count": 17,
   "id": "7c9ea21d-f11e-4b70-88d4-96c596d686df",
   "metadata": {},
   "outputs": [],
   "source": [
    "p = re.compile('[abc][abc]')\n",
    "p.match('da!!')"
   ]
  },
  {
   "cell_type": "code",
   "execution_count": 18,
   "id": "e201d9fc-f4f2-4663-8329-cd5e92e78b47",
   "metadata": {},
   "outputs": [
    {
     "data": {
      "text/plain": [
       "<re.Match object; span=(0, 2), match='ca'>"
      ]
     },
     "execution_count": 18,
     "metadata": {},
     "output_type": "execute_result"
    }
   ],
   "source": [
    "p.match('car')"
   ]
  },
  {
   "cell_type": "markdown",
   "id": "e0344173-fdbb-4530-81fe-dc7b6f3994c1",
   "metadata": {},
   "source": [
    "# 문자클래스와 일반 문자 조합"
   ]
  },
  {
   "cell_type": "code",
   "execution_count": 20,
   "id": "b9537472-5599-4d7e-8b65-eb31ea4a9d38",
   "metadata": {},
   "outputs": [],
   "source": [
    "p = re.compile('p') # 첫글자가 p\n",
    "p.match('apple')"
   ]
  },
  {
   "cell_type": "code",
   "execution_count": 21,
   "id": "b01d852e-8a7c-4f2b-b028-bd4baed89ff0",
   "metadata": {},
   "outputs": [
    {
     "data": {
      "text/plain": [
       "<re.Match object; span=(0, 2), match='ap'>"
      ]
     },
     "execution_count": 21,
     "metadata": {},
     "output_type": "execute_result"
    }
   ],
   "source": [
    "p = re.compile('[abc]p') # 첫글자가 p\n",
    "p.match('apple')"
   ]
  },
  {
   "cell_type": "markdown",
   "id": "c2faafd8-1b91-408e-a13e-c347dfaf7854",
   "metadata": {},
   "source": [
    "# 하이픈"
   ]
  },
  {
   "cell_type": "raw",
   "id": "b7a4b023-2d1a-48b7-bfb2-cc11c6473484",
   "metadata": {},
   "source": [
    "[ ] 안의 두 문자 사이에 하이픈(-)을 사용하면 두 문자 사이의 범위(From - To)를 의미\n",
    "예를 들어 [a-c]라는 정규 표현식은 [abc]와 동일하고 [0-5]는 [012345]와 동일"
   ]
  },
  {
   "cell_type": "code",
   "execution_count": 22,
   "id": "6a4e54dd-dd39-4116-8fa1-1596ed00e0a0",
   "metadata": {},
   "outputs": [
    {
     "data": {
      "text/plain": [
       "<re.Match object; span=(0, 1), match='a'>"
      ]
     },
     "execution_count": 22,
     "metadata": {},
     "output_type": "execute_result"
    }
   ],
   "source": [
    "p = re.compile('[a-c]') # [abc] => 첫글자가 a,b,c중에 하나\n",
    "p.match('apple')"
   ]
  },
  {
   "cell_type": "code",
   "execution_count": 23,
   "id": "621dc78c-0577-43df-a49a-43da40b7148a",
   "metadata": {},
   "outputs": [],
   "source": [
    "p.match('demon')"
   ]
  },
  {
   "cell_type": "code",
   "execution_count": 25,
   "id": "99b02379-81b2-4a97-9e2f-65b8a6d45a02",
   "metadata": {},
   "outputs": [],
   "source": [
    "p = re.compile('[a-z]') # a부터 z까지"
   ]
  },
  {
   "cell_type": "code",
   "execution_count": 26,
   "id": "79d769bc-8f40-4b38-9574-15bb0a045d23",
   "metadata": {},
   "outputs": [
    {
     "data": {
      "text/plain": [
       "<re.Match object; span=(0, 1), match='d'>"
      ]
     },
     "execution_count": 26,
     "metadata": {},
     "output_type": "execute_result"
    }
   ],
   "source": [
    "p.match('demon')"
   ]
  },
  {
   "cell_type": "code",
   "execution_count": 27,
   "id": "2b7fe3d5-f41f-4cd9-b9d6-034f933117e9",
   "metadata": {},
   "outputs": [],
   "source": [
    "p.match('Korea')"
   ]
  },
  {
   "cell_type": "code",
   "execution_count": 28,
   "id": "7379594d-e9ef-4c65-90a6-9ac8243f8462",
   "metadata": {},
   "outputs": [
    {
     "data": {
      "text/plain": [
       "<re.Match object; span=(0, 1), match='K'>"
      ]
     },
     "execution_count": 28,
     "metadata": {},
     "output_type": "execute_result"
    }
   ],
   "source": [
    "p = re.compile('[A-Z]')\n",
    "p.match('Korea')"
   ]
  },
  {
   "cell_type": "markdown",
   "id": "9aeb2052-220a-4ba1-b138-4b64ea57fb79",
   "metadata": {},
   "source": [
    "* 첫글자가 모든 알파벳과 매치"
   ]
  },
  {
   "cell_type": "code",
   "execution_count": 29,
   "id": "5570d5d3-cc9a-4560-b363-d12c54f9f0c6",
   "metadata": {},
   "outputs": [],
   "source": [
    "p = re.compile('[a-zA-Z]')"
   ]
  },
  {
   "cell_type": "code",
   "execution_count": 30,
   "id": "d19aba6f-52d9-4574-a0a9-f58a605d252d",
   "metadata": {},
   "outputs": [
    {
     "data": {
      "text/plain": [
       "<re.Match object; span=(0, 1), match='d'>"
      ]
     },
     "execution_count": 30,
     "metadata": {},
     "output_type": "execute_result"
    }
   ],
   "source": [
    "p.match('demon')"
   ]
  },
  {
   "cell_type": "code",
   "execution_count": 31,
   "id": "cdfabeb8-2e35-4062-ae5c-e3dbcaf9546e",
   "metadata": {},
   "outputs": [
    {
     "data": {
      "text/plain": [
       "<re.Match object; span=(0, 1), match='K'>"
      ]
     },
     "execution_count": 31,
     "metadata": {},
     "output_type": "execute_result"
    }
   ],
   "source": [
    "p.match('Korea')"
   ]
  },
  {
   "cell_type": "markdown",
   "id": "91be3a43-607d-441f-8489-dd22aa3411a9",
   "metadata": {},
   "source": [
    "* 모든 숫자와 매치"
   ]
  },
  {
   "cell_type": "code",
   "execution_count": 33,
   "id": "16b58003-c3f1-45f9-bf99-535a57f9bbc4",
   "metadata": {},
   "outputs": [],
   "source": [
    "p = re.compile('[0-9]')"
   ]
  },
  {
   "cell_type": "code",
   "execution_count": 34,
   "id": "8ea05c03-9009-48ba-8d48-b8098110b315",
   "metadata": {},
   "outputs": [
    {
     "data": {
      "text/plain": [
       "<re.Match object; span=(0, 1), match='1'>"
      ]
     },
     "execution_count": 34,
     "metadata": {},
     "output_type": "execute_result"
    }
   ],
   "source": [
    "p.match('1st')"
   ]
  },
  {
   "cell_type": "code",
   "execution_count": 35,
   "id": "59433c5b-3e94-4195-b2c8-cd155bf9a348",
   "metadata": {},
   "outputs": [
    {
     "data": {
      "text/plain": [
       "<re.Match object; span=(0, 1), match='2'>"
      ]
     },
     "execution_count": 35,
     "metadata": {},
     "output_type": "execute_result"
    }
   ],
   "source": [
    "p.match('2nd')"
   ]
  },
  {
   "cell_type": "code",
   "execution_count": 36,
   "id": "dcf657ab-7be9-464c-ac1b-c097fa6172fd",
   "metadata": {},
   "outputs": [
    {
     "data": {
      "text/plain": [
       "<re.Match object; span=(0, 1), match='3'>"
      ]
     },
     "execution_count": 36,
     "metadata": {},
     "output_type": "execute_result"
    }
   ],
   "source": [
    "p.match('3rd')"
   ]
  },
  {
   "cell_type": "markdown",
   "id": "4159689d-64be-4046-bb23-39e181c5baf8",
   "metadata": {},
   "source": [
    "* 음수인 한자리 숫자"
   ]
  },
  {
   "cell_type": "code",
   "execution_count": 41,
   "id": "21e02ed0-cd10-4a72-94ff-4eee94eb9006",
   "metadata": {},
   "outputs": [],
   "source": [
    "p = re.compile('-[0-9]')"
   ]
  },
  {
   "cell_type": "code",
   "execution_count": 42,
   "id": "d03d1a25-e63c-481d-9da4-f01a8435cb4f",
   "metadata": {},
   "outputs": [
    {
     "data": {
      "text/plain": [
       "<re.Match object; span=(0, 2), match='-2'>"
      ]
     },
     "execution_count": 42,
     "metadata": {},
     "output_type": "execute_result"
    }
   ],
   "source": [
    "p.match('-27')"
   ]
  },
  {
   "cell_type": "markdown",
   "id": "2873cea1-aa87-460c-ba26-371dcab4986f",
   "metadata": {},
   "source": [
    "# ^ 연산"
   ]
  },
  {
   "cell_type": "markdown",
   "id": "8e01918a-a00d-457c-a1a8-5a1d5b181e14",
   "metadata": {},
   "source": [
    "* 문자 클래스 안에 ^ 메타 문자를 사용할 경우에는 반대(not)라는 의미"
   ]
  },
  {
   "cell_type": "code",
   "execution_count": 37,
   "id": "433d6802-932b-4919-a694-7138bd2fcd33",
   "metadata": {},
   "outputs": [
    {
     "data": {
      "text/plain": [
       "<re.Match object; span=(0, 1), match='K'>"
      ]
     },
     "execution_count": 37,
     "metadata": {},
     "output_type": "execute_result"
    }
   ],
   "source": [
    "p = re.compile('[^a]') #첫글자가 a가 아닌 문자\n",
    "p.match('Korea')"
   ]
  },
  {
   "cell_type": "code",
   "execution_count": 38,
   "id": "3686948e-d9a1-4b25-84bd-9d23d0503462",
   "metadata": {},
   "outputs": [],
   "source": [
    "p.match('apple')"
   ]
  },
  {
   "cell_type": "markdown",
   "id": "5437e0b0-93c0-4ca1-bc45-cde5b9398ea5",
   "metadata": {},
   "source": [
    "#### ^ 연산 응용"
   ]
  },
  {
   "cell_type": "markdown",
   "id": "750f36be-16ff-44e5-b893-8022b2135ae1",
   "metadata": {},
   "source": [
    "* 숫자가 아닌 문자"
   ]
  },
  {
   "cell_type": "code",
   "execution_count": 39,
   "id": "ebe045b8-bb72-4803-b940-949a867ffcb8",
   "metadata": {},
   "outputs": [],
   "source": [
    "p = re.compile('[^0-9]')\n",
    "p.match('777')"
   ]
  },
  {
   "cell_type": "code",
   "execution_count": 40,
   "id": "2a375977-0264-4bac-953a-fb0b4c8c701a",
   "metadata": {},
   "outputs": [
    {
     "data": {
      "text/plain": [
       "<re.Match object; span=(0, 1), match='!'>"
      ]
     },
     "execution_count": 40,
     "metadata": {},
     "output_type": "execute_result"
    }
   ],
   "source": [
    "p.match('!!!!')"
   ]
  },
  {
   "cell_type": "markdown",
   "id": "210727a1-64db-4279-a937-dfd7c7ce75c0",
   "metadata": {},
   "source": [
    "* 음수가 아닌 두자리 숫자"
   ]
  },
  {
   "cell_type": "code",
   "execution_count": 43,
   "id": "d6da5b24-f49d-4d6a-8fb2-047ec3e31f06",
   "metadata": {},
   "outputs": [
    {
     "data": {
      "text/plain": [
       "<re.Match object; span=(0, 2), match='77'>"
      ]
     },
     "execution_count": 43,
     "metadata": {},
     "output_type": "execute_result"
    }
   ],
   "source": [
    "p = re.compile('[^-][0-9]')\n",
    "p.match('777')"
   ]
  },
  {
   "cell_type": "markdown",
   "id": "8f7d3439-d36d-4894-a8ab-41aee4d2685d",
   "metadata": {},
   "source": [
    "# 자주 사용하는 문자 클래스 표현식"
   ]
  },
  {
   "cell_type": "markdown",
   "id": "edc94679-870a-4b1c-8ed0-48a12602cef1",
   "metadata": {},
   "source": [
    "* \\d - 숫자와 매치, [0-9]와 동일한 표현식이다.\n",
    "* \\D - 숫자가 아닌 것과 매치, [^0-9]와 동일한 표현식이다.\n",
    "* \\s - whitespace 문자와 매치, [ \\t\\n\\r\\f\\v]와 동일한 표현식이다. 맨 앞의 빈 칸은 공백문자(space)를 의미한다.\n",
    "* \\S - whitespace 문자가 아닌 것과 매치, [^ \\t\\n\\r\\f\\v]와 동일한 표현식이다.\n",
    "* \\w - 문자+숫자(alphanumeric)와 매치, [a-zA-Z0-9_]와 동일한 표현식이다.\n",
    "* \\W - 문자+숫자(alphanumeric)가 아닌 문자와 매치, [^a-zA-Z0-9_]와 동일한 표현식이다."
   ]
  },
  {
   "cell_type": "markdown",
   "id": "7a8cb198-6034-457a-9ee6-21e14cb494d2",
   "metadata": {},
   "source": [
    "* \\d"
   ]
  },
  {
   "cell_type": "code",
   "execution_count": 44,
   "id": "ecba6dd8-191e-4e7b-9bd7-b4cb694408c7",
   "metadata": {},
   "outputs": [
    {
     "data": {
      "text/plain": [
       "<re.Match object; span=(0, 1), match='1'>"
      ]
     },
     "execution_count": 44,
     "metadata": {},
     "output_type": "execute_result"
    }
   ],
   "source": [
    "p = re.compile('[\\d]')  # [0-9]\n",
    "p.match('1')"
   ]
  },
  {
   "cell_type": "code",
   "execution_count": 45,
   "id": "cb3c46b2-c4b0-44fe-b3b0-4d8b76b2ff41",
   "metadata": {},
   "outputs": [],
   "source": [
    "p = re.compile('[\\d]')  # [0-9]\n",
    "p.match('a')"
   ]
  },
  {
   "cell_type": "markdown",
   "id": "5148e778-3b05-44ad-b2cb-fc36c7abee66",
   "metadata": {},
   "source": [
    "* \\D"
   ]
  },
  {
   "cell_type": "code",
   "execution_count": 46,
   "id": "581eef54-668b-49ac-842c-399ddd280984",
   "metadata": {},
   "outputs": [],
   "source": [
    "p = re.compile('[\\D]')  # [^0-9]\n",
    "p.match('1')"
   ]
  },
  {
   "cell_type": "code",
   "execution_count": 47,
   "id": "344b4e74-e712-4c9b-8a30-c58c8918d34f",
   "metadata": {},
   "outputs": [
    {
     "data": {
      "text/plain": [
       "<re.Match object; span=(0, 1), match='a'>"
      ]
     },
     "execution_count": 47,
     "metadata": {},
     "output_type": "execute_result"
    }
   ],
   "source": [
    "p = re.compile('[\\D]')  # [^0-9]\n",
    "p.match('a')"
   ]
  },
  {
   "cell_type": "markdown",
   "id": "c7a05247-7d7a-48e0-837b-f5b0bee9c73a",
   "metadata": {},
   "source": [
    "* \\s"
   ]
  },
  {
   "cell_type": "code",
   "execution_count": 48,
   "id": "409d61eb-ace1-4013-99e1-b7678b086761",
   "metadata": {},
   "outputs": [
    {
     "data": {
      "text/plain": [
       "<re.Match object; span=(0, 1), match=' '>"
      ]
     },
     "execution_count": 48,
     "metadata": {},
     "output_type": "execute_result"
    }
   ],
   "source": [
    "p = re.compile('[\\s]')  \n",
    "p.match(' ')"
   ]
  },
  {
   "cell_type": "code",
   "execution_count": 49,
   "id": "2dbed81f-729f-40bb-a51b-81beabcb9806",
   "metadata": {},
   "outputs": [
    {
     "data": {
      "text/plain": [
       "<re.Match object; span=(0, 1), match='\\n'>"
      ]
     },
     "execution_count": 49,
     "metadata": {},
     "output_type": "execute_result"
    }
   ],
   "source": [
    "p = re.compile('[\\s]')  \n",
    "p.match('''\n",
    "''')"
   ]
  },
  {
   "cell_type": "code",
   "execution_count": 50,
   "id": "92783325-3f4c-490a-869d-346997e19c39",
   "metadata": {},
   "outputs": [],
   "source": [
    "p = re.compile('[\\s]')  \n",
    "p.match('a')"
   ]
  },
  {
   "cell_type": "code",
   "execution_count": 51,
   "id": "f7c491b2-0c1f-4669-9d24-9682f1346bb7",
   "metadata": {},
   "outputs": [],
   "source": [
    "p = re.compile('[\\s]')  \n",
    "p.match('c ')"
   ]
  },
  {
   "cell_type": "markdown",
   "id": "a93651cc-91a9-4028-aeab-f4da47c85e55",
   "metadata": {},
   "source": [
    "* \\S"
   ]
  },
  {
   "cell_type": "code",
   "execution_count": 52,
   "id": "5597d4e1-fc18-484d-b77f-0d3a706c72ca",
   "metadata": {},
   "outputs": [],
   "source": [
    "p = re.compile('[\\S]')  \n",
    "p.match(' ')"
   ]
  },
  {
   "cell_type": "code",
   "execution_count": 53,
   "id": "29ef5456-0a12-4bb2-b6eb-ac1afd5d545c",
   "metadata": {},
   "outputs": [],
   "source": [
    "p = re.compile('[\\S]')  \n",
    "p.match('''\n",
    "''')"
   ]
  },
  {
   "cell_type": "code",
   "execution_count": 54,
   "id": "d1b24a95-50dd-4e1d-bb0c-d4e520a426b8",
   "metadata": {},
   "outputs": [
    {
     "data": {
      "text/plain": [
       "<re.Match object; span=(0, 1), match='a'>"
      ]
     },
     "execution_count": 54,
     "metadata": {},
     "output_type": "execute_result"
    }
   ],
   "source": [
    "p = re.compile('[\\S]')  \n",
    "p.match('a')"
   ]
  },
  {
   "cell_type": "markdown",
   "id": "9df36d34-af5c-433b-b11f-d6eaf57484c0",
   "metadata": {},
   "source": [
    "* \\w"
   ]
  },
  {
   "cell_type": "code",
   "execution_count": 55,
   "id": "5e6eb255-773f-4d5c-aaad-9ce92766ee69",
   "metadata": {},
   "outputs": [
    {
     "name": "stdout",
     "output_type": "stream",
     "text": [
      "<re.Match object; span=(0, 1), match='1'>\n",
      "<re.Match object; span=(0, 1), match='a'>\n",
      "<re.Match object; span=(0, 1), match='K'>\n",
      "None\n",
      "None\n",
      "None\n"
     ]
    }
   ],
   "source": [
    "p=re.compile('[\\w]') # [ ] or re.compile(' ')\n",
    "m = p.match('1')\n",
    "print(m)\n",
    "m = p.match('a')\n",
    "print(m)\n",
    "m = p.match('K')\n",
    "print(m)\n",
    "m = p.match('-')\n",
    "print(m)\n",
    "m = p.match('$')\n",
    "print(m)\n",
    "m = p.match(' ')\n",
    "print(m)"
   ]
  },
  {
   "cell_type": "markdown",
   "id": "37c766b7-b5dd-435d-8f59-60e3e2ed97ad",
   "metadata": {},
   "source": [
    "* \\W"
   ]
  },
  {
   "cell_type": "code",
   "execution_count": 56,
   "id": "f3517663-5447-4d79-89d5-a0a2b9180cbe",
   "metadata": {},
   "outputs": [
    {
     "name": "stdout",
     "output_type": "stream",
     "text": [
      "None\n",
      "None\n",
      "None\n",
      "<re.Match object; span=(0, 1), match='-'>\n",
      "<re.Match object; span=(0, 1), match='$'>\n",
      "<re.Match object; span=(0, 1), match=' '>\n"
     ]
    }
   ],
   "source": [
    "p=re.compile('[\\W]') # [ ] or re.compile(' ')\n",
    "m = p.match('1')\n",
    "print(m)\n",
    "m = p.match('a')\n",
    "print(m)\n",
    "m = p.match('K')\n",
    "print(m)\n",
    "m = p.match('-')\n",
    "print(m)\n",
    "m = p.match('$')\n",
    "print(m)\n",
    "m = p.match(' ')\n",
    "print(m)"
   ]
  }
 ],
 "metadata": {
  "kernelspec": {
   "display_name": "Python [conda env:base] *",
   "language": "python",
   "name": "conda-base-py"
  },
  "language_info": {
   "codemirror_mode": {
    "name": "ipython",
    "version": 3
   },
   "file_extension": ".py",
   "mimetype": "text/x-python",
   "name": "python",
   "nbconvert_exporter": "python",
   "pygments_lexer": "ipython3",
   "version": "3.13.5"
  }
 },
 "nbformat": 4,
 "nbformat_minor": 5
}
