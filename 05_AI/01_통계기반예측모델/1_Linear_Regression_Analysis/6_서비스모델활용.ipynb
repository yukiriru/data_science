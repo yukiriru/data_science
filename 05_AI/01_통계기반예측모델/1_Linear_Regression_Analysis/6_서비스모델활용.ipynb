{
 "cells": [
  {
   "cell_type": "code",
   "execution_count": 1,
   "id": "7f073cec",
   "metadata": {},
   "outputs": [],
   "source": [
    "import pandas as pd\n",
    "from statsmodels.formula.api import ols\n",
    "import pickle"
   ]
  },
  {
   "cell_type": "code",
   "execution_count": 2,
   "id": "0084a06d",
   "metadata": {},
   "outputs": [],
   "source": [
    "with open('wine_model.pickle','rb') as file:\n",
    "    loaded_wine_model = pickle.load(file)"
   ]
  },
  {
   "cell_type": "code",
   "execution_count": 3,
   "id": "5f795a3f",
   "metadata": {},
   "outputs": [],
   "source": [
    "def get_user_input(variable_name):\n",
    "    while True:\n",
    "        try:\n",
    "            value = float(input(f\"{variable_name} 값을 입력하세요: \"))\n",
    "            break\n",
    "        except ValueError:\n",
    "            print(\"유효하지 않은 입력입니다. 숫자 값을 입력해주세요.\")\n",
    "    return value"
   ]
  },
  {
   "cell_type": "code",
   "execution_count": 4,
   "id": "66eab2c4-d4da-4702-abcf-fb601336cb7a",
   "metadata": {},
   "outputs": [
    {
     "name": "stdin",
     "output_type": "stream",
     "text": [
      "fixed acidity (고정 산도) 값을 입력하세요:  7.3\n",
      "volatile acidity (휘발성 산도) 값을 입력하세요:  0.69\n",
      "citric acid (구연산) 값을 입력하세요:  0\n",
      "residual sugar (잔류 설탕) 값을 입력하세요:  1.88\n",
      "chlorides (염화물) 값을 입력하세요:  0.075\n",
      "free sulfur dioxide (자유 이산화황) 값을 입력하세요:  10\n",
      "total sulfur dioxide (총 이산화황) 값을 입력하세요:  35\n",
      "density (밀도) 값을 입력하세요:  0.9977\n",
      "pH 값을 입력하세요:  3.5\n",
      "sulphates (황산염) 값을 입력하세요:  0.561\n",
      "alcohol (알코올 도수) 값을 입력하세요:  9.42\n"
     ]
    }
   ],
   "source": [
    "# Get user input for each independent variable\n",
    "fixed_acidity = get_user_input(\"fixed acidity (고정 산도)\")\n",
    "volatile_acidity = get_user_input(\"volatile acidity (휘발성 산도)\")\n",
    "citric_acid = get_user_input(\"citric acid (구연산)\")\n",
    "residual_sugar = get_user_input(\"residual sugar (잔류 설탕)\")\n",
    "chlorides = get_user_input(\"chlorides (염화물)\")\n",
    "free_sulfur_dioxide = get_user_input(\"free sulfur dioxide (자유 이산화황)\")\n",
    "total_sulfur_dioxide = get_user_input(\"total sulfur dioxide (총 이산화황)\")\n",
    "density = get_user_input(\"density (밀도)\")\n",
    "pH = get_user_input(\"pH\")\n",
    "sulphates = get_user_input(\"sulphates (황산염)\")\n",
    "alcohol = get_user_input(\"alcohol (알코올 도수)\")"
   ]
  },
  {
   "cell_type": "code",
   "execution_count": 5,
   "id": "49066093-d82b-4afe-b6fa-905d1287e150",
   "metadata": {},
   "outputs": [
    {
     "name": "stdout",
     "output_type": "stream",
     "text": [
      "예측된 와인 품질:\n",
      "5\n"
     ]
    }
   ],
   "source": [
    "# Create the formula for linear regression using user-selected variables\n",
    "formula = f\"quality ~ alcohol + chlorides + citric_acid + density + fixed_acidity + free_sulfur_dioxide + pH + residual_sugar + sulphates + total_sulfur_dioxide + volatile_acidity\"\n",
    "\n",
    "user_input_data = pd.DataFrame({\n",
    "    'alcohol': [alcohol],\n",
    "    'chlorides': [chlorides],\n",
    "    'citric_acid': [citric_acid],\n",
    "    'density': [density],\n",
    "    'fixed_acidity': [fixed_acidity],\n",
    "    'free_sulfur_dioxide': [free_sulfur_dioxide],\n",
    "    'pH': [pH],\n",
    "    'residual_sugar': [residual_sugar],\n",
    "    'sulphates': [sulphates],\n",
    "    'total_sulfur_dioxide': [total_sulfur_dioxide],\n",
    "    'volatile_acidity': [volatile_acidity]\n",
    "})\n",
    "predicted_quality = loaded_wine_model.predict(user_input_data)\n",
    "\n",
    "print(\"예측된 와인 품질:\")\n",
    "print(round(predicted_quality[0]))"
   ]
  },
  {
   "cell_type": "code",
   "execution_count": null,
   "id": "342d8c2a",
   "metadata": {},
   "outputs": [],
   "source": []
  }
 ],
 "metadata": {
  "kernelspec": {
   "display_name": "Python [conda env:base] *",
   "language": "python",
   "name": "conda-base-py"
  },
  "language_info": {
   "codemirror_mode": {
    "name": "ipython",
    "version": 3
   },
   "file_extension": ".py",
   "mimetype": "text/x-python",
   "name": "python",
   "nbconvert_exporter": "python",
   "pygments_lexer": "ipython3",
   "version": "3.13.5"
  }
 },
 "nbformat": 4,
 "nbformat_minor": 5
}
