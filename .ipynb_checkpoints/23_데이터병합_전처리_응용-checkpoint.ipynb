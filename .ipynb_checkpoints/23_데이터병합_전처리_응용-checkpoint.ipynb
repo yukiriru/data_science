{
 "cells": [
  {
   "cell_type": "markdown",
   "id": "4357f788-a499-4a19-9042-df1bf8172c51",
   "metadata": {},
   "source": [
    "# 서로 다른 열의 이름으로 데이터 병합"
   ]
  },
  {
   "cell_type": "markdown",
   "id": "4a3f2087-8cc8-4870-a726-fa57c01c355f",
   "metadata": {},
   "source": [
    "# 인덱스로 병합"
   ]
  },
  {
   "cell_type": "markdown",
   "id": "30f89ecf-7941-444c-8d07-1292b4be598a",
   "metadata": {},
   "source": [
    "# 실데이터 인덱스 병합 예제"
   ]
  },
  {
   "cell_type": "markdown",
   "id": "e0d68f4d-0412-4816-a16f-b61e95a42375",
   "metadata": {},
   "source": [
    "* info() 정보로는 결측값이 확인 되지 않았으나 실 데이터 검토 결과   \n",
    " 8번 인덱스 행에서 결측값을 '-' 표시\n",
    "  \n",
    "정의되지 않은 값에 대한 문자열 표시 예)  \n",
    "'-', ' ', 'na', 'NA', 'N/A', '미정의'"
   ]
  },
  {
   "cell_type": "markdown",
   "id": "fab8aea3-db85-4872-8a71-2cb85a2c12dc",
   "metadata": {},
   "source": [
    "## 데이터 전처리 (Data Preprocessing)\n",
    " * 데이터 분석을 위해서 원본데이터를 가공하여 분석용 데이터로 변경하는 작업"
   ]
  },
  {
   "cell_type": "markdown",
   "id": "84adede1-96ff-488b-acd8-31ec3ca29193",
   "metadata": {},
   "source": [
    "* 열 이름 변경"
   ]
  },
  {
   "cell_type": "raw",
   "id": "a7c6cd2f-3b9c-4005-949d-15bf29682f52",
   "metadata": {},
   "source": [
    "데이터프레임.rename(columns={변경전 열이름: 변경후 열이름}) => 특정 열의 이름만 변경"
   ]
  },
  {
   "cell_type": "markdown",
   "id": "3002ee40-24fe-4147-b5b0-29fa4598c549",
   "metadata": {},
   "source": [
    "## 특정 문자 제거하기"
   ]
  },
  {
   "cell_type": "markdown",
   "id": "cee1b180-be49-4ca7-bceb-7d2e15136387",
   "metadata": {},
   "source": [
    "* 결측치 문자를 단일값 0으로 보정"
   ]
  },
  {
   "cell_type": "markdown",
   "id": "f88728ce-3217-48e6-89f0-1ddd346e9099",
   "metadata": {},
   "source": [
    "* 숫자에 들어간 , 서식 제거"
   ]
  },
  {
   "cell_type": "markdown",
   "id": "9bae9f74-99b0-471f-b18b-2218b55577d1",
   "metadata": {},
   "source": [
    "* replace([원본문자열],[교체문자열]) : 기본옵션으로 수행시 원본 문자열과 교체문자열이 100% 일치해야 변경이 가능하다."
   ]
  },
  {
   "cell_type": "markdown",
   "id": "4b6b873f-ca87-4179-bf08-5d8e21beb6da",
   "metadata": {},
   "source": [
    "* replace([원본문자열],[교체문자열], regex=True) : regex의 기본값은 False 이다. True인 경우는 교체 문자열이 원본 문자열에 포함되어도 가능하다."
   ]
  },
  {
   "cell_type": "markdown",
   "id": "ef142786-960b-49b1-a5ef-d4cb7075517a",
   "metadata": {},
   "source": [
    "### 인덱스 재설정"
   ]
  },
  {
   "cell_type": "markdown",
   "id": "986c0583-4be1-48b4-b638-aeecfe388cad",
   "metadata": {},
   "source": [
    "* 형변환"
   ]
  },
  {
   "cell_type": "raw",
   "id": "ed9008f3-f8be-4aa8-b594-6ed3d40a48cc",
   "metadata": {},
   "source": [
    "데이터프레임의 values 값을 숫자열로만 구성하여 형변환이 아래와 같이 매우 간결해 졌다."
   ]
  },
  {
   "cell_type": "markdown",
   "id": "483035af-116d-4228-9379-8b608ca2eb9d",
   "metadata": {},
   "source": [
    "## 최신 포맷 xlsx 데이터 처리  \n",
    "* sheet_name=시트번호 (첫번째 시트번호는 0)\n",
    "* header=[해더행의 인덱스 리스트] (첫번째 행은 0)"
   ]
  },
  {
   "cell_type": "markdown",
   "id": "a074e3e1-faab-4e4a-99b5-226f647d4f45",
   "metadata": {},
   "source": [
    "* columns를 분석한 결과 멀티 컬럼일 필요가 없어보인다."
   ]
  },
  {
   "cell_type": "markdown",
   "id": "18d1cbb4-19cc-4b62-870c-c607623012ba",
   "metadata": {},
   "source": [
    "### 멀티 인덱스 레벨로 보기"
   ]
  },
  {
   "cell_type": "markdown",
   "id": "3fa72809-d31c-4b9a-b3e5-f10ff8caddd5",
   "metadata": {},
   "source": [
    "## 인덱스 재조정"
   ]
  },
  {
   "cell_type": "markdown",
   "id": "782f0e6c-8227-4187-ad2b-9d2ad48f608f",
   "metadata": {},
   "source": [
    "* 서울 열에서 10이상 20이하의 신규 승인 내역을 검색해 보세요."
   ]
  },
  {
   "cell_type": "raw",
   "id": "6df3a4b1-c217-435e-9160-9fdc2a843c83",
   "metadata": {},
   "source": [
    "데이터프레임.열이름 => 열값 전체 반환"
   ]
  },
  {
   "cell_type": "markdown",
   "id": "d0dc8672-e0b2-4e61-92e7-a7a5b39d924b",
   "metadata": {},
   "source": [
    "* 제주 열에서 5이상 10이하의 신규 승인 내역을 검색해 보세요."
   ]
  },
  {
   "cell_type": "markdown",
   "id": "cc79427d-d0d0-4fce-849b-09c9becbefa5",
   "metadata": {},
   "source": [
    "### between 함수 사용"
   ]
  }
 ],
 "metadata": {
  "kernelspec": {
   "display_name": "Python 3 (ipykernel)",
   "language": "python",
   "name": "python3"
  },
  "language_info": {
   "codemirror_mode": {
    "name": "ipython",
    "version": 3
   },
   "file_extension": ".py",
   "mimetype": "text/x-python",
   "name": "python",
   "nbconvert_exporter": "python",
   "pygments_lexer": "ipython3",
   "version": "3.11.7"
  }
 },
 "nbformat": 4,
 "nbformat_minor": 5
}